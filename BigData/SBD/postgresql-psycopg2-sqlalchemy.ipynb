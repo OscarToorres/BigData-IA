{
 "cells": [
  {
   "cell_type": "markdown",
   "metadata": {},
   "source": [
    "# Conexión con PostgreSQL\n",
    "\n",
    "Imos conectar con PostgreSQL dende Python.\n",
    "\n",
    "Considérase que existe un docker con PostgreSQL e un porto redirixido ao noso equipo.\n",
    "\n",
    "Veremos dúas librerías:\n",
    " - psycopg2\n",
    " - sqlalchemy"
   ]
  },
  {
   "cell_type": "markdown",
   "metadata": {},
   "source": [
    "## Código para a librería psycopg2"
   ]
  },
  {
   "cell_type": "markdown",
   "metadata": {},
   "source": [
    "### Instalación de paquetes necesarios"
   ]
  },
  {
   "cell_type": "code",
   "execution_count": null,
   "metadata": {},
   "outputs": [],
   "source": [
    "# % conda install psycopg2"
   ]
  },
  {
   "cell_type": "markdown",
   "metadata": {},
   "source": [
    "### Importar a librería e conectar coa base de datos"
   ]
  },
  {
   "cell_type": "code",
   "execution_count": 1,
   "metadata": {},
   "outputs": [
    {
     "ename": "",
     "evalue": "",
     "output_type": "error",
     "traceback": [
      "\u001b[1;31mEl kernel se bloqueó al ejecutar código en la celda actual o en una celda anterior. \n",
      "\u001b[1;31mRevise el código de las celdas para identificar una posible causa del error. \n",
      "\u001b[1;31mHaga clic <a href='https://aka.ms/vscodeJupyterKernelCrash'>aquí</a> para obtener más información. \n",
      "\u001b[1;31mVea Jupyter <a href='command:jupyter.viewOutput'>log</a> para obtener más detalles."
     ]
    }
   ],
   "source": [
    "import psycopg2\n",
    "\n",
    "db_name = \"sobremesa\"\n",
    "db_user = \"lambon\"\n",
    "db_password = \"Fl4nD3C4f3\"\n",
    "db_host= 'localhost'\n",
    "db_port = 5432\n",
    "\n",
    "conn = psycopg2.connect(database = db_name,\n",
    "                        user = db_user, password = db_password,\n",
    "                        host= db_host, port = db_port)"
   ]
  },
  {
   "cell_type": "markdown",
   "metadata": {},
   "source": [
    "### Abrir un cursor e persistir unha consulta DDL"
   ]
  },
  {
   "cell_type": "code",
   "execution_count": 2,
   "metadata": {},
   "outputs": [
    {
     "ename": "NameError",
     "evalue": "name 'conn' is not defined",
     "output_type": "error",
     "traceback": [
      "\u001b[1;31m---------------------------------------------------------------------------\u001b[0m",
      "\u001b[1;31mNameError\u001b[0m                                 Traceback (most recent call last)",
      "Cell \u001b[1;32mIn[2], line 2\u001b[0m\n\u001b[0;32m      1\u001b[0m \u001b[38;5;66;03m# Abrimos un cursor para efectuar operacións sobre a BBDD\u001b[39;00m\n\u001b[1;32m----> 2\u001b[0m cur \u001b[38;5;241m=\u001b[39m \u001b[43mconn\u001b[49m\u001b[38;5;241m.\u001b[39mcursor()\n\u001b[0;32m      3\u001b[0m \u001b[38;5;66;03m# Probamos unha consulta DDL: CREATE TABLE\u001b[39;00m\n\u001b[0;32m      4\u001b[0m cur\u001b[38;5;241m.\u001b[39mexecute(\u001b[38;5;124m\"\u001b[39m\u001b[38;5;124mDROP TABLE IF EXISTS melindre;\u001b[39m\u001b[38;5;124m\"\u001b[39m)\n",
      "\u001b[1;31mNameError\u001b[0m: name 'conn' is not defined"
     ]
    }
   ],
   "source": [
    "# Abrimos un cursor para efectuar operacións sobre a BBDD\n",
    "cur = conn.cursor()\n",
    "# Probamos unha consulta DDL: CREATE TABLE\n",
    "cur.execute(\"DROP TABLE IF EXISTS melindre;\")\n",
    "cur.execute(\"\"\"\n",
    "            CREATE TABLE melindre(\n",
    "                    melindre_id SERIAL PRIMARY KEY,\n",
    "                    nome VARCHAR (50) UNIQUE NOT NULL,\n",
    "                    ingredientes TEXT);\n",
    "            \"\"\")\n",
    "# Tipos de datos admitidos: <https://www.postgresql.org/docs/current/datatype.html>\n",
    "\n",
    "# Confirmamos os cambios\n",
    "conn.commit()\n",
    "\n",
    "# Pechamos o cursor\n",
    "cur.close()"
   ]
  },
  {
   "cell_type": "markdown",
   "metadata": {},
   "source": [
    "### Insertamos receitas"
   ]
  },
  {
   "cell_type": "code",
   "execution_count": null,
   "metadata": {},
   "outputs": [],
   "source": [
    "# Abrimos un cursor para efectuar operacións sobre a BBDD\n",
    "cur = conn.cursor()\n",
    "\n",
    "# Probamos unha consulta DML: INSERT\n",
    "cur.execute(\"INSERT INTO melindre(nome, ingredientes) VALUES ('Melindres de Vila do Conde', 'Ovo, azucre');\")\n",
    "cur.execute(\"INSERT INTO melindre(nome, ingredientes) VALUES ('Melindres galegos', 'Ovo, azucre e cariño');\")\n",
    "\n",
    "# Confirmamos os cambios\n",
    "conn.commit()\n",
    "\n",
    "# Pechamos o cursor\n",
    "cur.close()"
   ]
  },
  {
   "cell_type": "markdown",
   "metadata": {},
   "source": [
    "### Recuperamos as receitas"
   ]
  },
  {
   "cell_type": "code",
   "execution_count": null,
   "metadata": {},
   "outputs": [],
   "source": [
    "# Abrimos un cursor para efectuar operacións sobre a BBDD\n",
    "cur = conn.cursor()\n",
    "\n",
    "# Probamos unha consulta DML: SELECT\n",
    "cur.execute('SELECT * FROM melindre;')\n",
    "\n",
    "rows = cur.fetchall()\n",
    "# conn.close() # Unha vez recollidas, xa poderíamos pechar a conexión (commit conveniente)\n",
    "for row in rows:\n",
    "    print(row)\n",
    "\n",
    "# Pechamos o cursor\n",
    "cur.close()"
   ]
  },
  {
   "cell_type": "markdown",
   "metadata": {},
   "source": [
    "### Actualizamos as receitas"
   ]
  },
  {
   "cell_type": "code",
   "execution_count": null,
   "metadata": {},
   "outputs": [],
   "source": [
    "# Abrimos un cursor para efectuar operacións sobre a BBDD\n",
    "cur = conn.cursor()\n",
    "\n",
    "# Probamos unha consulta DML: UPDATE\n",
    "cur = conn.cursor()\n",
    "cur.execute(\"UPDATE melindre SET ingredientes = 'Os mesmos' WHERE nome LIKE '%Melindres%'\")\n",
    "\n",
    "# Confirmamos os cambios\n",
    "conn.commit()\n",
    "\n",
    "# Pechamos o cursor\n",
    "cur.close()"
   ]
  },
  {
   "cell_type": "markdown",
   "metadata": {},
   "source": [
    "### Borramos as receitas"
   ]
  },
  {
   "cell_type": "code",
   "execution_count": null,
   "metadata": {},
   "outputs": [],
   "source": [
    "# Abrimos un cursor para efectuar operacións sobre a BBDD\n",
    "cur = conn.cursor()\n",
    "\n",
    "# Probamos unha consulta DML: DELETE\n",
    "cur.execute(\"DELETE FROM melindre WHERE nome ='Melindres de Vila do Conde';\");\n",
    "\n",
    "# Confirmamos os cambios\n",
    "conn.commit()\n",
    "\n",
    "# Pechamos o cursor\n",
    "cur.close()"
   ]
  },
  {
   "cell_type": "markdown",
   "metadata": {},
   "source": [
    "### Pechamos a conexión"
   ]
  },
  {
   "cell_type": "code",
   "execution_count": null,
   "metadata": {},
   "outputs": [],
   "source": [
    "# Pechamos conexión\n",
    "conn.close()"
   ]
  },
  {
   "cell_type": "markdown",
   "metadata": {},
   "source": [
    "## SQLAlchemy\n",
    "\n",
    "Este paquete é un estándar de facto. Se xa o estás a empregar con outros SXBD, o máis cómodo é empregalo tamén para conectar con PostgreSQL.\n",
    "\n",
    "### Instalación de SQLAlchemy\n"
   ]
  },
  {
   "cell_type": "code",
   "execution_count": null,
   "metadata": {},
   "outputs": [],
   "source": [
    "% conda install sqlalchemy"
   ]
  },
  {
   "cell_type": "markdown",
   "metadata": {},
   "source": [
    "### Código para conectar con SQLAlchemy"
   ]
  },
  {
   "cell_type": "code",
   "execution_count": null,
   "metadata": {},
   "outputs": [],
   "source": [
    "import sqlalchemy as db\n",
    "from sqlalchemy import text\n",
    "\n",
    "# Creamos unha conexión\n",
    "engine = db.create_engine(f'postgresql://{db_user}:{db_password}@{db_host}:{db_port}/{db_name}')\n",
    "conn = engine.connect()\n",
    "\n",
    "# Pedimos e sacamos os datos por pantalla\n",
    "sobremesas = conn.execute(text('SELECT * FROM melindre;'))\n",
    "print(sobremesas.fetchall())\n",
    "\n",
    "# Pechamos a conexión\n",
    "conn.close()"
   ]
  },
  {
   "cell_type": "markdown",
   "metadata": {},
   "source": [
    "## Máis información\n",
    "\n",
    " - <https://www.datacamp.com/tutorial/tutorial-postgresql-python>\n",
    " - <https://www.geeksforgeeks.org/postgresql-connecting-to-the-database-using-python/>\n",
    " - <https://www.w3schools.com/postgresql/index.php>\n",
    " - <https://hub.docker.com/_/postgres>"
   ]
  }
 ],
 "metadata": {
  "kernelspec": {
   "display_name": "bigdata",
   "language": "python",
   "name": "python3"
  },
  "language_info": {
   "codemirror_mode": {
    "name": "ipython",
    "version": 3
   },
   "file_extension": ".py",
   "mimetype": "text/x-python",
   "name": "python",
   "nbconvert_exporter": "python",
   "pygments_lexer": "ipython3",
   "version": "3.11.5"
  }
 },
 "nbformat": 4,
 "nbformat_minor": 2
}
