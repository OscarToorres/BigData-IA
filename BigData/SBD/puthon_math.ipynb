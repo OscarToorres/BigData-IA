{
 "cells": [
  {
   "cell_type": "code",
   "execution_count": 7,
   "metadata": {},
   "outputs": [],
   "source": [
    "peso_estudiantes = [87,83,90,65,58,67, 88, 87, 90, 89, 88]"
   ]
  },
  {
   "cell_type": "code",
   "execution_count": 8,
   "metadata": {},
   "outputs": [
    {
     "name": "stdout",
     "output_type": "stream",
     "text": [
      "81.09\n"
     ]
    }
   ],
   "source": [
    "total_pesos = 0\n",
    "for pesada in peso_estudiantes:\n",
    "    total_pesos += pesada\n",
    "media_pesos = total_pesos / len(peso_estudiantes)\n",
    "print(round(media_pesos,2))"
   ]
  },
  {
   "cell_type": "code",
   "execution_count": 9,
   "metadata": {},
   "outputs": [
    {
     "name": "stdout",
     "output_type": "stream",
     "text": [
      "81.09\n"
     ]
    }
   ],
   "source": [
    "total_pesos = sum(peso_estudiantes)/len(peso_estudiantes)\n",
    "print(round(total_pesos,2))"
   ]
  },
  {
   "cell_type": "code",
   "execution_count": 10,
   "metadata": {},
   "outputs": [
    {
     "name": "stdout",
     "output_type": "stream",
     "text": [
      "81.09\n"
     ]
    }
   ],
   "source": [
    "from statistics import mean\n",
    "print(round(mean(peso_estudiantes),2))"
   ]
  },
  {
   "cell_type": "code",
   "execution_count": 11,
   "metadata": {},
   "outputs": [
    {
     "name": "stdout",
     "output_type": "stream",
     "text": [
      "81.09\n"
     ]
    }
   ],
   "source": [
    "import numpy as np\n",
    "print(round(np.mean(peso_estudiantes),2))"
   ]
  }
 ],
 "metadata": {
  "kernelspec": {
   "display_name": "bigdata",
   "language": "python",
   "name": "python3"
  },
  "language_info": {
   "codemirror_mode": {
    "name": "ipython",
    "version": 3
   },
   "file_extension": ".py",
   "mimetype": "text/x-python",
   "name": "python",
   "nbconvert_exporter": "python",
   "pygments_lexer": "ipython3",
   "version": "3.8.18"
  }
 },
 "nbformat": 4,
 "nbformat_minor": 2
}
