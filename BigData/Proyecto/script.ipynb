{
 "cells": [
  {
   "cell_type": "code",
   "execution_count": 3,
   "metadata": {},
   "outputs": [],
   "source": [
    "import pandas as pd\n",
    "import matplotlib.pyplot as plt"
   ]
  },
  {
   "cell_type": "code",
   "execution_count": 4,
   "metadata": {},
   "outputs": [],
   "source": [
    "df_infacion = pd.read_csv(\"inflacion_pais_melt.csv\",sep=\";\",decimal=\",\")\n",
    "df_salamedio = pd.read_csv(\"salario_medio.csv\")"
   ]
  },
  {
   "cell_type": "code",
   "execution_count": 27,
   "metadata": {},
   "outputs": [],
   "source": [
    "df_infacion = df_infacion[(df_infacion[\"Date\"] >= 2000)]\n"
   ]
  },
  {
   "cell_type": "code",
   "execution_count": 31,
   "metadata": {},
   "outputs": [],
   "source": [
    "pd.DataFrame.to_csv(df_infacion,\"inflacion_pais_2.csv\", sep=\";\",decimal=\",\")"
   ]
  },
  {
   "cell_type": "code",
   "execution_count": 5,
   "metadata": {},
   "outputs": [],
   "source": [
    "df_infacion = df_infacion.drop(\"Unnamed: 0\",axis=1)"
   ]
  },
  {
   "cell_type": "code",
   "execution_count": 6,
   "metadata": {},
   "outputs": [],
   "source": [
    "salario = df_salamedio[\"salario medio (€)\"]\n",
    "fecha = df_salamedio[\"fecha\"]\n",
    "valor = df_infacion[\"Value\"]\n",
    "pais = df_salamedio[\"pais\"]"
   ]
  },
  {
   "cell_type": "code",
   "execution_count": 22,
   "metadata": {},
   "outputs": [
    {
     "data": {
      "text/plain": [
       "0      2022\n",
       "1      2021\n",
       "2      2020\n",
       "3      2019\n",
       "4      2018\n",
       "       ... \n",
       "966    2004\n",
       "967    2003\n",
       "968    2002\n",
       "969    2001\n",
       "970    2000\n",
       "Name: fecha, Length: 971, dtype: int64"
      ]
     },
     "execution_count": 22,
     "metadata": {},
     "output_type": "execute_result"
    }
   ],
   "source": [
    "fecha"
   ]
  },
  {
   "cell_type": "code",
   "execution_count": 16,
   "metadata": {},
   "outputs": [],
   "source": [
    "# [fecha,salario,valor,pais],columns=[\"fecha\",\"salario\",\"valor\",\"pais\"]\n",
    "df = pd.DataFrame()"
   ]
  },
  {
   "cell_type": "code",
   "execution_count": 19,
   "metadata": {},
   "outputs": [],
   "source": [
    "df[\"salario\"], df[\"inflacion\"] = salario, valor"
   ]
  },
  {
   "cell_type": "code",
   "execution_count": 20,
   "metadata": {},
   "outputs": [
    {
     "data": {
      "text/html": [
       "<div>\n",
       "<style scoped>\n",
       "    .dataframe tbody tr th:only-of-type {\n",
       "        vertical-align: middle;\n",
       "    }\n",
       "\n",
       "    .dataframe tbody tr th {\n",
       "        vertical-align: top;\n",
       "    }\n",
       "\n",
       "    .dataframe thead th {\n",
       "        text-align: right;\n",
       "    }\n",
       "</style>\n",
       "<table border=\"1\" class=\"dataframe\">\n",
       "  <thead>\n",
       "    <tr style=\"text-align: right;\">\n",
       "      <th></th>\n",
       "      <th>salario</th>\n",
       "      <th>inflacion</th>\n",
       "    </tr>\n",
       "  </thead>\n",
       "  <tbody>\n",
       "    <tr>\n",
       "      <th>0</th>\n",
       "      <td>28.360 €</td>\n",
       "      <td>1.706</td>\n",
       "    </tr>\n",
       "    <tr>\n",
       "      <th>1</th>\n",
       "      <td>27.570 €</td>\n",
       "      <td>1.450</td>\n",
       "    </tr>\n",
       "    <tr>\n",
       "      <th>2</th>\n",
       "      <td>26.028 €</td>\n",
       "      <td>1.939</td>\n",
       "    </tr>\n",
       "    <tr>\n",
       "      <th>3</th>\n",
       "      <td>27.292 €</td>\n",
       "      <td>0.911</td>\n",
       "    </tr>\n",
       "    <tr>\n",
       "      <th>4</th>\n",
       "      <td>26.922 €</td>\n",
       "      <td>0.585</td>\n",
       "    </tr>\n",
       "    <tr>\n",
       "      <th>...</th>\n",
       "      <td>...</td>\n",
       "      <td>...</td>\n",
       "    </tr>\n",
       "    <tr>\n",
       "      <th>966</th>\n",
       "      <td>29.535 €</td>\n",
       "      <td>1.190</td>\n",
       "    </tr>\n",
       "    <tr>\n",
       "      <th>967</th>\n",
       "      <td>31.898 €</td>\n",
       "      <td>1.275</td>\n",
       "    </tr>\n",
       "    <tr>\n",
       "      <th>968</th>\n",
       "      <td>37.041 €</td>\n",
       "      <td>2.341</td>\n",
       "    </tr>\n",
       "    <tr>\n",
       "      <th>969</th>\n",
       "      <td>37.961 €</td>\n",
       "      <td>2.456</td>\n",
       "    </tr>\n",
       "    <tr>\n",
       "      <th>970</th>\n",
       "      <td>35.870 €</td>\n",
       "      <td>2.507</td>\n",
       "    </tr>\n",
       "  </tbody>\n",
       "</table>\n",
       "<p>971 rows × 2 columns</p>\n",
       "</div>"
      ],
      "text/plain": [
       "      salario  inflacion\n",
       "0    28.360 €      1.706\n",
       "1    27.570 €      1.450\n",
       "2    26.028 €      1.939\n",
       "3    27.292 €      0.911\n",
       "4    26.922 €      0.585\n",
       "..        ...        ...\n",
       "966  29.535 €      1.190\n",
       "967  31.898 €      1.275\n",
       "968  37.041 €      2.341\n",
       "969  37.961 €      2.456\n",
       "970  35.870 €      2.507\n",
       "\n",
       "[971 rows x 2 columns]"
      ]
     },
     "execution_count": 20,
     "metadata": {},
     "output_type": "execute_result"
    }
   ],
   "source": [
    "df"
   ]
  },
  {
   "cell_type": "code",
   "execution_count": 35,
   "metadata": {},
   "outputs": [],
   "source": [
    "rslt_df_salario = df_salamedio[df_salamedio['pais'].isin([\"Alemania\"])]\n",
    "rslt_df_inflacion = df_infacion[df_infacion['Country Name'].isin([\"Alemania\"])]"
   ]
  },
  {
   "cell_type": "code",
   "execution_count": 43,
   "metadata": {},
   "outputs": [
    {
     "data": {
      "text/plain": [
       "1.706"
      ]
     },
     "execution_count": 43,
     "metadata": {},
     "output_type": "execute_result"
    }
   ],
   "source": [
    "rslt_df_inflacion[\"Value\"][0]"
   ]
  },
  {
   "cell_type": "code",
   "execution_count": 30,
   "metadata": {},
   "outputs": [],
   "source": [
    "# Datos de salario original\n",
    "y = rslt_df_salario[\"fecha\"]\n",
    "x = rslt_df_salario[\"salario medio (€)\"]\n",
    "\n",
    "# Calcular el salario segun la inflacion\n",
    "x2 = x.iloc(0)\n",
    "# for i in enumerate(rslt_df_salario):\n",
    "    \n"
   ]
  },
  {
   "cell_type": "code",
   "execution_count": 2,
   "metadata": {},
   "outputs": [
    {
     "data": {
      "text/html": [
       "<div>\n",
       "<style scoped>\n",
       "    .dataframe tbody tr th:only-of-type {\n",
       "        vertical-align: middle;\n",
       "    }\n",
       "\n",
       "    .dataframe tbody tr th {\n",
       "        vertical-align: top;\n",
       "    }\n",
       "\n",
       "    .dataframe thead th {\n",
       "        text-align: right;\n",
       "    }\n",
       "</style>\n",
       "<table border=\"1\" class=\"dataframe\">\n",
       "  <thead>\n",
       "    <tr style=\"text-align: right;\">\n",
       "      <th></th>\n",
       "      <th>Value</th>\n",
       "      <th>salario medio (€)</th>\n",
       "      <th>fecha</th>\n",
       "      <th>pais</th>\n",
       "    </tr>\n",
       "  </thead>\n",
       "  <tbody>\n",
       "    <tr>\n",
       "      <th>1116</th>\n",
       "      <td>10.570</td>\n",
       "      <td>34400.0</td>\n",
       "      <td>2000.0</td>\n",
       "      <td>Alemania</td>\n",
       "    </tr>\n",
       "    <tr>\n",
       "      <th>1030</th>\n",
       "      <td>6.666</td>\n",
       "      <td>35200.0</td>\n",
       "      <td>2001.0</td>\n",
       "      <td>Alemania</td>\n",
       "    </tr>\n",
       "    <tr>\n",
       "      <th>1013</th>\n",
       "      <td>6.142</td>\n",
       "      <td>36400.0</td>\n",
       "      <td>2002.0</td>\n",
       "      <td>Alemania</td>\n",
       "    </tr>\n",
       "    <tr>\n",
       "      <th>1004</th>\n",
       "      <td>5.776</td>\n",
       "      <td>37200.0</td>\n",
       "      <td>2003.0</td>\n",
       "      <td>Alemania</td>\n",
       "    </tr>\n",
       "    <tr>\n",
       "      <th>1104</th>\n",
       "      <td>9.841</td>\n",
       "      <td>38100.0</td>\n",
       "      <td>2004.0</td>\n",
       "      <td>Alemania</td>\n",
       "    </tr>\n",
       "    <tr>\n",
       "      <th>...</th>\n",
       "      <td>...</td>\n",
       "      <td>...</td>\n",
       "      <td>...</td>\n",
       "      <td>...</td>\n",
       "    </tr>\n",
       "    <tr>\n",
       "      <th>1049</th>\n",
       "      <td>7.549</td>\n",
       "      <td>8586.0</td>\n",
       "      <td>2018.0</td>\n",
       "      <td>Turquía</td>\n",
       "    </tr>\n",
       "    <tr>\n",
       "      <th>1078</th>\n",
       "      <td>8.554</td>\n",
       "      <td>9727.0</td>\n",
       "      <td>2019.0</td>\n",
       "      <td>Turquía</td>\n",
       "    </tr>\n",
       "    <tr>\n",
       "      <th>779</th>\n",
       "      <td>3.127</td>\n",
       "      <td>9055.0</td>\n",
       "      <td>2020.0</td>\n",
       "      <td>Turquía</td>\n",
       "    </tr>\n",
       "    <tr>\n",
       "      <th>1042</th>\n",
       "      <td>7.330</td>\n",
       "      <td>8275.0</td>\n",
       "      <td>2021.0</td>\n",
       "      <td>Turquía</td>\n",
       "    </tr>\n",
       "    <tr>\n",
       "      <th>1132</th>\n",
       "      <td>12.036</td>\n",
       "      <td>7889.0</td>\n",
       "      <td>2022.0</td>\n",
       "      <td>Turquía</td>\n",
       "    </tr>\n",
       "  </tbody>\n",
       "</table>\n",
       "<p>971 rows × 4 columns</p>\n",
       "</div>"
      ],
      "text/plain": [
       "       Value  salario medio (€)   fecha      pais\n",
       "1116  10.570            34400.0  2000.0  Alemania\n",
       "1030   6.666            35200.0  2001.0  Alemania\n",
       "1013   6.142            36400.0  2002.0  Alemania\n",
       "1004   5.776            37200.0  2003.0  Alemania\n",
       "1104   9.841            38100.0  2004.0  Alemania\n",
       "...      ...                ...     ...       ...\n",
       "1049   7.549             8586.0  2018.0   Turquía\n",
       "1078   8.554             9727.0  2019.0   Turquía\n",
       "779    3.127             9055.0  2020.0   Turquía\n",
       "1042   7.330             8275.0  2021.0   Turquía\n",
       "1132  12.036             7889.0  2022.0   Turquía\n",
       "\n",
       "[971 rows x 4 columns]"
      ]
     },
     "execution_count": 2,
     "metadata": {},
     "output_type": "execute_result"
    }
   ],
   "source": [
    "# Prolog - Auto Generated #\n",
    "import os, uuid, matplotlib\n",
    "matplotlib.use('Agg')\n",
    "import matplotlib.pyplot as plt\n",
    "import pandas\n",
    "import numpy as np\n",
    "\n",
    "import sys\n",
    "sys.tracebacklimit = 0\n",
    "\n",
    "os.chdir(u'C:/Users/oscar.torresrodrigue/PythonEditorWrapper_a9612394-d96f-4c0b-94ab-9f52a8391caf')\n",
    "dataset = pandas.read_csv('input_df_6ae024de-77f5-4f3a-bc88-0957fc7bcd99.csv')\n",
    "\n",
    "plt.figure(figsize=(5.55555555555556,4.16666666666667), dpi=72)\n",
    "plt.show = lambda args=None,kw=None: matplotlib.pyplot.savefig(str(uuid.uuid1()))\n",
    "# Original Script. Please update your script content here and once completed copy below section back to the original editing window #\n",
    "# El código siguiente, que crea un dataframe y quita las filas duplicadas, siempre se ejecuta y actúa como un preámbulo del script: \n",
    "\n",
    "# dataset = pandas.DataFrame(salario medio (€), Value, fecha)\n",
    "# dataset = dataset.drop_duplicates()\n",
    "\n",
    "# Pegue o escriba aquí el código de script:\n",
    "\n",
    "\n",
    "\n",
    "# Epilog - Auto Generated #\n",
    "os.chdir(u'C:/Users/oscar.torresrodrigue/PythonEditorWrapper_a9612394-d96f-4c0b-94ab-9f52a8391caf')\n",
    "\n",
    "dataset = dataset.dropna().sort_values([\"pais\",\"fecha\"])\n",
    "\n",
    "dataset"
   ]
  },
  {
   "cell_type": "code",
   "execution_count": 5,
   "metadata": {},
   "outputs": [],
   "source": [
    "# plt.close()\n",
    "# Datos\n",
    "\n",
    "dato = dataset[dataset['pais'].isin([\"Alemania\"])].reset_index()\n",
    "dato = dato.drop(\"index\",axis=1)\n",
    "\n",
    "y = dato[\"fecha\"]\n",
    "x = dato[\"salario medio (€)\"]\n",
    "\n",
    "y_array = np.array(y)\n",
    "x_array = np.array(x)\n",
    "\n",
    "# Obtener datos del salario respecto a la inflacion\n",
    "x2 = []\n",
    "for index, salario in enumerate(dato[\"salario medio (€)\"]):\n",
    "    if index == 0:\n",
    "        x2.append(salario)\n",
    "        continue\n",
    "    inflacion = dato[\"Value\"][index] \n",
    "    x2.append(salario*(1+(inflacion/100)))\n",
    "\n",
    "# Gráfico de líneas\n",
    "y_list = y.to_numpy().tolist()\n",
    "\n",
    "plt.figure(figsize=(8,6))\n",
    "fig, ax = plt.subplots()\n",
    "# ax.plot(x, y, marker = \"o\", markersize = 5)\n",
    "ax.plot(x_array, y_array, marker = \"o\", markersize = 5)\n",
    "\n",
    "plt.show()\n",
    "# plt.savefig(\"C:\\Users\\oscar.torresrodrigue\\GitHub\\BigData-IA\\BigData\\Proyecto\\archivo.png\")\n",
    "# y_list\n"
   ]
  },
  {
   "cell_type": "code",
   "execution_count": 105,
   "metadata": {},
   "outputs": [
    {
     "data": {
      "text/plain": [
       "numpy.ndarray"
      ]
     },
     "execution_count": 105,
     "metadata": {},
     "output_type": "execute_result"
    }
   ],
   "source": [
    "# type(y)\n",
    "type(x_array)\n"
   ]
  },
  {
   "cell_type": "code",
   "execution_count": 97,
   "metadata": {},
   "outputs": [
    {
     "data": {
      "text/plain": [
       "array([2000., 2001., 2002., 2003., 2004., 2005., 2006., 2007., 2008.,\n",
       "       2009., 2010., 2011., 2012., 2013., 2014., 2015., 2016., 2017.,\n",
       "       2018., 2019., 2020., 2021., 2022.])"
      ]
     },
     "execution_count": 97,
     "metadata": {},
     "output_type": "execute_result"
    }
   ],
   "source": [
    "y_array"
   ]
  },
  {
   "cell_type": "code",
   "execution_count": 4,
   "metadata": {},
   "outputs": [],
   "source": [
    "valoresY = [50,25,30,29,40,45]\n",
    "valoresX = [10,20,30,40,50,60]\n",
    "fig, ax = plt.subplots()\n",
    "plt.plot(valoresX, valoresY, \"D-m\")\n",
    "plt.show()"
   ]
  },
  {
   "cell_type": "code",
   "execution_count": 2,
   "metadata": {},
   "outputs": [
    {
     "name": "stdout",
     "output_type": "stream",
     "text": [
      "       pais salario fecha\n",
      "0    España   24500  2023\n",
      "1   Francia   30000  2023\n",
      "2   Croacia   44000  2023\n",
      "3  Portugal   27500  2023\n",
      "4  Alemania   60000  2023\n"
     ]
    }
   ],
   "source": [
    "import pandas as pd\n",
    "\n",
    "salarios = [[\"España\",\"24500\",\"2023\"],\n",
    "            [\"Francia\",\"30000\",\"2023\"],\n",
    "            [\"Croacia\",\"44000\",\"2023\"],\n",
    "            [\"Portugal\",\"27500\",\"2023\"],\n",
    "            [\"Alemania\",\"60000\",\"2023\"]]\n",
    "\n",
    "columnas = [\"pais\",\"salario\",\"fecha\"]\n",
    "\n",
    "df = pd.DataFrame(salarios,columns=columnas)\n",
    "print(df)"
   ]
  },
  {
   "cell_type": "code",
   "execution_count": null,
   "metadata": {},
   "outputs": [],
   "source": []
  }
 ],
 "metadata": {
  "kernelspec": {
   "display_name": "bigdata",
   "language": "python",
   "name": "python3"
  },
  "language_info": {
   "codemirror_mode": {
    "name": "ipython",
    "version": 3
   },
   "file_extension": ".py",
   "mimetype": "text/x-python",
   "name": "python",
   "nbconvert_exporter": "python",
   "pygments_lexer": "ipython3",
   "version": "3.11.5"
  }
 },
 "nbformat": 4,
 "nbformat_minor": 2
}
