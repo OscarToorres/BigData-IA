{
 "cells": [
  {
   "cell_type": "code",
   "execution_count": 1,
   "metadata": {},
   "outputs": [],
   "source": [
    "import argparse\n",
    "from enum import Enum\n",
    "from lib2to3.pgen2 import driver\n",
    "import sys\n",
    "from selenium import webdriver\n",
    "from selenium.webdriver.common.by import By\n",
    "from selenium import webdriver\n",
    "from selenium.webdriver.common.keys import Keys\n",
    "from selenium.webdriver.support.ui import WebDriverWait\n",
    "from selenium.webdriver.support import expected_conditions as EC\n",
    "from selenium.webdriver.support.select import Select\n",
    "import time\n",
    "import random\n",
    "import pandas as pd"
   ]
  },
  {
   "cell_type": "code",
   "execution_count": 2,
   "metadata": {},
   "outputs": [
    {
     "data": {
      "text/plain": [
       "'C:\\\\Users\\\\oscar.torresrodrigue\\\\.wdm\\\\drivers\\\\geckodriver\\\\win64\\\\v0.34.0\\\\geckodriver.exe'"
      ]
     },
     "execution_count": 2,
     "metadata": {},
     "output_type": "execute_result"
    }
   ],
   "source": [
    "from webdriver_manager.firefox import GeckoDriverManager\n",
    "GeckoDriverManager().install()"
   ]
  },
  {
   "cell_type": "code",
   "execution_count": 3,
   "metadata": {},
   "outputs": [],
   "source": [
    "from selenium import webdriver\n",
    "from selenium.webdriver.common.by import By"
   ]
  },
  {
   "cell_type": "code",
   "execution_count": 4,
   "metadata": {},
   "outputs": [],
   "source": [
    "USUARIO=\"HOLA\"\n",
    "CONTRASINAL=\"HOLA\"\n",
    "CONTRATACIONESDELESTADO_URL=\"https://datosmacro.expansion.com/mercado-laboral/salario-medio/espana\""
   ]
  },
  {
   "cell_type": "code",
   "execution_count": 5,
   "metadata": {},
   "outputs": [],
   "source": [
    "#Cargar firefox\n",
    "from bs4 import BeautifulSoup\n",
    "\n",
    "\n",
    "driver = webdriver.Firefox()\n",
    "#Entrar a la pagina especificada\n",
    "driver.get(CONTRATACIONESDELESTADO_URL)\n",
    "time.sleep(3)\n",
    "html=driver.page_source\n",
    "soup=BeautifulSoup(html,'html.parser')"
   ]
  },
  {
   "cell_type": "code",
   "execution_count": 7,
   "metadata": {},
   "outputs": [],
   "source": [
    "# inicio = \"España - Salario Medio\"\n",
    "# pais_actual = \"\"\n",
    "\n",
    "# print(\"Inicio:\",inicio)\n",
    "# print(\"Actual: \",pais_actual)\n",
    "\n",
    "inicio = WebDriverWait(driver, 10).until(EC.presence_of_element_located((By.XPATH, \"//a[contains(@href, 'https://datosmacro.expansion.com/mercado-laboral/salario-medio/espana')]\"))).text\n",
    "\n",
    "WebDriverWait(driver, 10).until(EC.presence_of_element_located((By.XPATH, \"//a[contains(@class, 'book-page-previous')]\"))).click()\n",
    "\n",
    "\n",
    "while True:\n",
    "    try:\n",
    "        pais_actual =  WebDriverWait(driver, 2).until(EC.presence_of_element_located((By.XPATH, \"//a[contains(@href, 'https://datosmacro.expansion.com/mercado-laboral/salario-medio/espana')]\"))).text\n",
    "        break\n",
    "    except:\n",
    "        WebDriverWait(driver, 10).until(EC.presence_of_element_located((By.XPATH, \"//a[contains(@class, 'book-page-previous')]\"))).click()\n"
   ]
  }
 ],
 "metadata": {
  "kernelspec": {
   "display_name": "bigdata",
   "language": "python",
   "name": "python3"
  },
  "language_info": {
   "codemirror_mode": {
    "name": "ipython",
    "version": 3
   },
   "file_extension": ".py",
   "mimetype": "text/x-python",
   "name": "python",
   "nbconvert_exporter": "python",
   "pygments_lexer": "ipython3",
   "version": "3.8.18"
  }
 },
 "nbformat": 4,
 "nbformat_minor": 2
}
