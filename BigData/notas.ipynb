{
 "cells": [
  {
   "cell_type": "markdown",
   "metadata": {},
   "source": [
    "# Estatística básica con Python\n",
    "## Capítulo 1: Medidas de tendencia central\n",
    "### Meida, mediana, moda e cuartiles\n",
    "\n",
    "**Aviso**: Para os exemplos empréganse numpy e pandas, para instalalos dende conda executa\n",
    "\n",
    ">   conda install scipy\n",
    "\n",
    ">   conda install pandas\n",
    "\n",
    "O paquete scipy xa inclúe numpy, xa que fa uso del."
   ]
  },
  {
   "cell_type": "code",
   "execution_count": 2,
   "metadata": {},
   "outputs": [
    {
     "name": "stdout",
     "output_type": "stream",
     "text": [
      "81.0909090909091\n"
     ]
    }
   ],
   "source": [
    "peso_estudiantes = [87,83,90,65,58,67,88,87,90,89,88]\n",
    "total_pesos = 0\n",
    "for pesada in peso_estudiantes:\n",
    "    total_pesos += pesada\n",
    "media_pesos = total_pesos/len(peso_estudiantes)\n",
    "print(media_pesos)"
   ]
  },
  {
   "cell_type": "code",
   "execution_count": 3,
   "metadata": {},
   "outputs": [
    {
     "name": "stdout",
     "output_type": "stream",
     "text": [
      "81.0909090909091\n"
     ]
    }
   ],
   "source": [
    "peso_estudiantes = [87,83,90,65,58,67,88,87,90,89,88]\n",
    "media_pesos = sum(peso_estudiantes) / len(peso_estudiantes)\n",
    "print((media_pesos))"
   ]
  },
  {
   "cell_type": "code",
   "execution_count": 4,
   "metadata": {},
   "outputs": [
    {
     "name": "stdout",
     "output_type": "stream",
     "text": [
      "81.0909090909091\n"
     ]
    }
   ],
   "source": [
    "from statistics import mean\n",
    "peso_estudiantes = [87,83,90,65,58,67,88,87,90,89,88]\n",
    "media_pesos = mean(peso_estudiantes)\n",
    "print(media_pesos)"
   ]
  },
  {
   "cell_type": "code",
   "execution_count": 5,
   "metadata": {},
   "outputs": [
    {
     "name": "stdout",
     "output_type": "stream",
     "text": [
      "81.0909090909091\n"
     ]
    }
   ],
   "source": [
    "import statistics\n",
    "peso_estudiantes = [87,83,90,65,58,67,88,87,90,89,88]\n",
    "media_pesos = statistics.mean(peso_estudiantes)\n",
    "print(media_pesos)"
   ]
  },
  {
   "cell_type": "code",
   "execution_count": 8,
   "metadata": {},
   "outputs": [
    {
     "name": "stdout",
     "output_type": "stream",
     "text": [
      "81.0909090909091\n"
     ]
    }
   ],
   "source": [
    "import numpy\n",
    "peso_estudiantes = [87,83,90,65,58,67,88,87,90,89,88]\n",
    "media_pesos = numpy.mean(peso_estudiantes)\n",
    "print(media_pesos)"
   ]
  },
  {
   "cell_type": "code",
   "execution_count": null,
   "metadata": {},
   "outputs": [],
   "source": []
  }
 ],
 "metadata": {
  "kernelspec": {
   "display_name": "bigdata",
   "language": "python",
   "name": "python3"
  },
  "language_info": {
   "codemirror_mode": {
    "name": "ipython",
    "version": 3
   },
   "file_extension": ".py",
   "mimetype": "text/x-python",
   "name": "python",
   "nbconvert_exporter": "python",
   "pygments_lexer": "ipython3",
   "version": "3.8.18"
  }
 },
 "nbformat": 4,
 "nbformat_minor": 2
}
