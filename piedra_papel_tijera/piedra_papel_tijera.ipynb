{
 "cells": [
  {
   "cell_type": "code",
   "execution_count": 2,
   "metadata": {},
   "outputs": [],
   "source": [
    "import cv2 as cv\n",
    "import pandas as pd\n",
    "from mediapipe import solutions\n",
    "from mediapipe.framework.formats import landmark_pb2\n",
    "import numpy as np\n",
    "import os\n",
    "import shutil"
   ]
  },
  {
   "cell_type": "markdown",
   "metadata": {},
   "source": [
    "### Crear una nueva carpeta con las todas las fotos y sus nuevas versionaes, separadas y clasificadas por none, piedra, papel, tijeras"
   ]
  },
  {
   "cell_type": "code",
   "execution_count": 14,
   "metadata": {},
   "outputs": [],
   "source": [
    "os.mkdir('dataset')\n",
    "os.mkdir('dataset\\\\none')\n",
    "os.mkdir('dataset\\\\piedra')\n",
    "os.mkdir('dataset\\\\papel')\n",
    "os.mkdir('dataset\\\\tijeras')"
   ]
  },
  {
   "cell_type": "code",
   "execution_count": 13,
   "metadata": {},
   "outputs": [],
   "source": [
    "import shutil\n",
    "shutil.rmtree('dataset')"
   ]
  },
  {
   "cell_type": "code",
   "execution_count": 8,
   "metadata": {},
   "outputs": [],
   "source": [
    "def rotate_image(image, angle):\n",
    "  image_center = tuple(np.array(image.shape[1::-1]) / 2)\n",
    "  rot_mat = cv.getRotationMatrix2D(image_center, angle, 1.0)\n",
    "  result = cv.warpAffine(image, rot_mat, image.shape[1::-1], flags=cv.INTER_LINEAR)\n",
    "  return result"
   ]
  },
  {
   "cell_type": "code",
   "execution_count": 15,
   "metadata": {},
   "outputs": [],
   "source": [
    "\n",
    "for root, dirs, files in os.walk(\".\", topdown=False):\n",
    "    # print(root)\n",
    "    if len(files) != 0:\n",
    "        clave = ''\n",
    "        if root.__contains__('none'):\n",
    "            clave = 'none'\n",
    "        if root.__contains__('tijeras') or root.__contains__('tijera'):\n",
    "            clave = 'tijeras'\n",
    "        if root.__contains__('papel'):\n",
    "            clave = 'papel'\n",
    "        if root.__contains__('piedra'):\n",
    "            clave = 'piedra'\n",
    "        if clave != '':\n",
    "            for name in files:\n",
    "                ruta = os.path.join(root, name)\n",
    "                img = cv.imread(ruta)\n",
    "                img = cv.resize(img,(512,512))\n",
    "\n",
    "                rotated_180 = cv.rotate(img, cv.ROTATE_180)\n",
    "                rotated_45 = rotate_image(img,45)\n",
    "                rotated_315 = rotate_image(img,315)\n",
    "\n",
    "                shutil.copy(ruta, f\"dataset/{clave}/{name}\")\n",
    "                cv.imwrite(f\"dataset/{clave}/rotated_180_{name}\", rotated_180)\n",
    "                cv.imwrite(f\"dataset/{clave}/rotated_45_{name}\", rotated_45)\n",
    "                cv.imwrite(f\"dataset/{clave}/rotated_315_{name}\", rotated_315)"
   ]
  }
 ],
 "metadata": {
  "kernelspec": {
   "display_name": "ia",
   "language": "python",
   "name": "python3"
  },
  "language_info": {
   "codemirror_mode": {
    "name": "ipython",
    "version": 3
   },
   "file_extension": ".py",
   "mimetype": "text/x-python",
   "name": "python",
   "nbconvert_exporter": "python",
   "pygments_lexer": "ipython3",
   "version": "3.8.18"
  }
 },
 "nbformat": 4,
 "nbformat_minor": 2
}
