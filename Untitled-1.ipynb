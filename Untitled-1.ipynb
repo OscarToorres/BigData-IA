{
 "cells": [
  {
   "cell_type": "code",
   "execution_count": 1,
   "metadata": {},
   "outputs": [
    {
     "ename": "ModuleNotFoundError",
     "evalue": "No module named 'matplotlib.pyplot'; 'matplotlib' is not a package",
     "output_type": "error",
     "traceback": [
      "\u001b[1;31m---------------------------------------------------------------------------\u001b[0m",
      "\u001b[1;31mModuleNotFoundError\u001b[0m                       Traceback (most recent call last)",
      "\u001b[1;32mc:\\Users\\oscar.torresrodrigue\\Documents\\python\\Untitled-1.ipynb Celda 1\u001b[0m line \u001b[0;36m2\n\u001b[0;32m      <a href='vscode-notebook-cell:/c%3A/Users/oscar.torresrodrigue/Documents/python/Untitled-1.ipynb#W0sZmlsZQ%3D%3D?line=0'>1</a>\u001b[0m \u001b[39mimport\u001b[39;00m \u001b[39mnumpy\u001b[39;00m \u001b[39mas\u001b[39;00m \u001b[39mnp\u001b[39;00m\n\u001b[1;32m----> <a href='vscode-notebook-cell:/c%3A/Users/oscar.torresrodrigue/Documents/python/Untitled-1.ipynb#W0sZmlsZQ%3D%3D?line=1'>2</a>\u001b[0m \u001b[39mimport\u001b[39;00m \u001b[39mmatplotlib\u001b[39;00m\u001b[39m.\u001b[39;00m\u001b[39mpyplot\u001b[39;00m \u001b[39mas\u001b[39;00m \u001b[39mplt\u001b[39;00m\n\u001b[0;32m      <a href='vscode-notebook-cell:/c%3A/Users/oscar.torresrodrigue/Documents/python/Untitled-1.ipynb#W0sZmlsZQ%3D%3D?line=3'>4</a>\u001b[0m x \u001b[39m=\u001b[39m np\u001b[39m.\u001b[39mlinspace(\u001b[39m0\u001b[39m,\u001b[39m7\u001b[39m,\u001b[39m50\u001b[39m) \u001b[39m# Valores entre 0 y 7 y haz 50 divisiones\u001b[39;00m\n\u001b[0;32m      <a href='vscode-notebook-cell:/c%3A/Users/oscar.torresrodrigue/Documents/python/Untitled-1.ipynb#W0sZmlsZQ%3D%3D?line=4'>5</a>\u001b[0m y \u001b[39m=\u001b[39m np\u001b[39m.\u001b[39msin(x)\n",
      "File \u001b[1;32mc:\\Users\\oscar.torresrodrigue\\Documents\\python\\matplotlib.py:2\u001b[0m\n\u001b[0;32m      1\u001b[0m \u001b[39mimport\u001b[39;00m \u001b[39mnumpy\u001b[39;00m \u001b[39mas\u001b[39;00m \u001b[39mnp\u001b[39;00m\n\u001b[1;32m----> 2\u001b[0m \u001b[39mimport\u001b[39;00m \u001b[39mmatplotlib\u001b[39;00m\u001b[39m.\u001b[39;00m\u001b[39mpyplot\u001b[39;00m \u001b[39mas\u001b[39;00m \u001b[39mplt\u001b[39;00m\n\u001b[0;32m      4\u001b[0m x \u001b[39m=\u001b[39m np\u001b[39m.\u001b[39mlinspace(\u001b[39m0\u001b[39m,\u001b[39m7\u001b[39m,\u001b[39m50\u001b[39m) \u001b[39m# Valores entre 0 y 7 y haz 50 divisiones\u001b[39;00m\n\u001b[0;32m      5\u001b[0m y \u001b[39m=\u001b[39m np\u001b[39m.\u001b[39msin(x)\n",
      "\u001b[1;31mModuleNotFoundError\u001b[0m: No module named 'matplotlib.pyplot'; 'matplotlib' is not a package"
     ]
    }
   ],
   "source": [
    "import numpy as np\n",
    "import matplotlib.pyplot as plt\n",
    "\n",
    "x = np.linspace(0,7,50) # Valores entre 0 y 7 y haz 50 divisiones\n",
    "y = np.sin(x)\n",
    "fig, ax = plt.subplots() \n",
    "ax.plot(x,y,label=\"Esta es sin\",linewidth=3,color=\"red\")\n",
    "y2 = np.cos(x)\n",
    "ax.plot(x,y2,label=\"Esta es cos\",marker=\"o\")\n",
    "ax.set_title(\"Una prueba\")\n",
    "ax.legend() #Mostrar la leyenda\n",
    "ax.set_xlim(0,2)\n",
    "ax.set_ylim(0.5,1)\n",
    "ax.annotate(\"Aqui se cruzan\",xy=(0.76,0.71),xytext=(1.25,0.8),\n",
    "\t\t\t\t\t\t\t\tarrowprops=dict(facecolor=\"black\",shrink=0.01))\n",
    "ax.plot([0,0.78],[0.71,0.71],color=\"gray\",linestyle=\"--\")\n",
    "ax.plot([0.71,0.71],[0,0.78],color=\"gray\",linestyle=\"--\")\n",
    "ax.scatter(0.78, 0.71, s=300)\n",
    "ax.text(0.4, 0.72, \"(0.78, 0.71)\")"
   ]
  },
  {
   "cell_type": "code",
   "execution_count": null,
   "metadata": {},
   "outputs": [],
   "source": []
  }
 ],
 "metadata": {
  "kernelspec": {
   "display_name": "ia",
   "language": "python",
   "name": "python3"
  },
  "language_info": {
   "codemirror_mode": {
    "name": "ipython",
    "version": 3
   },
   "file_extension": ".py",
   "mimetype": "text/x-python",
   "name": "python",
   "nbconvert_exporter": "python",
   "pygments_lexer": "ipython3",
   "version": "3.8.18"
  }
 },
 "nbformat": 4,
 "nbformat_minor": 2
}
