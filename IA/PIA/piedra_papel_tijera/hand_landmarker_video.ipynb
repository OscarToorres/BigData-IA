{
  "cells": [
    {
      "cell_type": "markdown",
      "metadata": {
        "id": "h2q27gKz1H20"
      },
      "source": [
        "##### Copyright 2023 The MediaPipe Authors. All Rights Reserved."
      ]
    },
    {
      "cell_type": "code",
      "execution_count": 7,
      "metadata": {
        "id": "TUfAcER1oUS6"
      },
      "outputs": [],
      "source": [
        "#@title Licensed under the Apache License, Version 2.0 (the \"License\");\n",
        "# you may not use this file except in compliance with the License.\n",
        "# You may obtain a copy of the License at\n",
        "#\n",
        "# https://www.apache.org/licenses/LICENSE-2.0\n",
        "#\n",
        "# Unless required by applicable law or agreed to in writing, software\n",
        "# distributed under the License is distributed on an \"AS IS\" BASIS,\n",
        "# WITHOUT WARRANTIES OR CONDITIONS OF ANY KIND, either express or implied.\n",
        "# See the License for the specific language governing permissions and\n",
        "# limitations under the License."
      ]
    },
    {
      "cell_type": "markdown",
      "metadata": {
        "id": "L_cQX8dWu4Dv"
      },
      "source": [
        "# Hand Landmarks Detection with MediaPipe Tasks\n",
        "\n",
        "This notebook shows you how to use MediaPipe Tasks Python API to detect hand landmarks from images."
      ]
    },
    {
      "cell_type": "markdown",
      "metadata": {
        "id": "O6PN9FvIx614"
      },
      "source": [
        "## Preparation\n",
        "\n",
        "Let's start with installing MediaPipe."
      ]
    },
    {
      "cell_type": "code",
      "execution_count": 8,
      "metadata": {
        "id": "gxbHBsF-8Y_l"
      },
      "outputs": [],
      "source": [
        "# !pip install -q mediapipe"
      ]
    },
    {
      "cell_type": "markdown",
      "metadata": {
        "id": "a49D7h4TVmru"
      },
      "source": [
        "Then download an off-the-shelf model bundle. Check out the [MediaPipe documentation](https://developers.google.com/mediapipe/solutions/vision/hand_landmarker#models) for more information about this model bundle."
      ]
    },
    {
      "cell_type": "code",
      "execution_count": 9,
      "metadata": {
        "id": "OMjuVQiDYJKF"
      },
      "outputs": [
        {
          "name": "stderr",
          "output_type": "stream",
          "text": [
            "\"wget\" no se reconoce como un comando interno o externo,\n",
            "programa o archivo por lotes ejecutable.\n"
          ]
        }
      ],
      "source": [
        "!wget -q https://storage.googleapis.com/mediapipe-models/hand_landmarker/hand_landmarker/float16/1/hand_landmarker.task"
      ]
    },
    {
      "cell_type": "markdown",
      "metadata": {
        "id": "YYKAJ5nDU8-I"
      },
      "source": [
        "## Visualization utilities"
      ]
    },
    {
      "cell_type": "code",
      "execution_count": 13,
      "metadata": {
        "cellView": "form",
        "id": "s3E6NFV-00Qt"
      },
      "outputs": [],
      "source": [
        "#@markdown We implemented some functions to visualize the hand landmark detection results. <br/> Run the following cell to activate the functions.\n",
        "\n",
        "import cv2\n",
        "from mediapipe import solutions\n",
        "from mediapipe.framework.formats import landmark_pb2\n",
        "import numpy as np\n",
        "from math import sqrt\n",
        "\n",
        "MARGIN = 10  # pixels\n",
        "FONT_SIZE = 1\n",
        "FONT_THICKNESS = 1\n",
        "HANDEDNESS_TEXT_COLOR = (88, 205, 54) # vibrant green\n",
        "\n",
        "def calculate_distance(puntos,pos):\n",
        "  dist = sqrt((puntos[pos].x - puntos[0].x)**2 + (puntos[pos].y - puntos[0].y)**2 + (puntos[pos].z - puntos[0].z)**2)\n",
        "  return dist\n",
        "\n",
        "def pintar_texto(annotated_image, text_x, text_y, texto):\n",
        "  cv2.putText(annotated_image, texto,\n",
        "          (text_x, text_y), cv2.FONT_HERSHEY_DUPLEX,\n",
        "          FONT_SIZE, HANDEDNESS_TEXT_COLOR, FONT_THICKNESS, cv2.LINE_AA)\n",
        "\n",
        "def draw_landmarks_on_image(rgb_image, detection_result):\n",
        "  hand_landmarks_list = detection_result.hand_landmarks\n",
        "  handedness_list = detection_result.handedness\n",
        "  annotated_image = np.copy(rgb_image)\n",
        "\n",
        "  # Loop through the detected hands to visualize.\n",
        "  for idx in range(len(hand_landmarks_list)):\n",
        "    hand_landmarks = hand_landmarks_list[idx]\n",
        "    handedness = handedness_list[idx]\n",
        "\n",
        "    # Draw the hand landmarks.\n",
        "    hand_landmarks_proto = landmark_pb2.NormalizedLandmarkList()\n",
        "    hand_landmarks_proto.landmark.extend([\n",
        "      landmark_pb2.NormalizedLandmark(x=landmark.x, y=landmark.y, z=landmark.z) for landmark in hand_landmarks\n",
        "    ])\n",
        "    solutions.drawing_utils.draw_landmarks(\n",
        "      annotated_image,\n",
        "      hand_landmarks_proto,\n",
        "      solutions.hands.HAND_CONNECTIONS,\n",
        "      solutions.drawing_styles.get_default_hand_landmarks_style(),\n",
        "      solutions.drawing_styles.get_default_hand_connections_style())\n",
        "\n",
        "    # Get the top left corner of the detected hand's bounding box.\n",
        "    height, width, _ = annotated_image.shape\n",
        "    x_coordinates = [landmark.x for landmark in hand_landmarks]\n",
        "    y_coordinates = [landmark.y for landmark in hand_landmarks]\n",
        "    text_x = int(min(x_coordinates) * width)\n",
        "    text_y = int(min(y_coordinates) * height) - MARGIN\n",
        "\n",
        "    #Detectar si es piedra, papel o tigera\n",
        "    puntos = []\n",
        "    for landmark in hand_landmarks:\n",
        "      puntos.append(landmark)\n",
        "\n",
        "    if(calculate_distance(puntos,8) > calculate_distance(puntos,6) and calculate_distance(puntos,12) > calculate_distance(puntos,10)):\n",
        "\n",
        "      if (calculate_distance(puntos,16) > calculate_distance(puntos,14) and calculate_distance(puntos,20) > calculate_distance(puntos,18)): \n",
        "\n",
        "        pintar_texto(annotated_image,text_x,text_y,\"Papel\")\n",
        "\n",
        "      elif(calculate_distance(puntos,16) < calculate_distance(puntos,14) and calculate_distance(puntos,20) < calculate_distance(puntos,18)):\n",
        "\n",
        "        pintar_texto(annotated_image,text_x,text_y,\"Tijera\")\n",
        "\n",
        "    elif(calculate_distance(puntos,8) < calculate_distance(puntos,6) and calculate_distance(puntos,12) < calculate_distance(puntos,10) and \n",
        "       calculate_distance(puntos,16) < calculate_distance(puntos,14) and calculate_distance(puntos,20) < calculate_distance(puntos,18)):\n",
        "      \n",
        "      pintar_texto(annotated_image,text_x,text_y,\"Piedra\")\n",
        "\n",
        "\n",
        "\n",
        "    # #Papel\n",
        "    # if(calculate_distance(puntos,12) > calculate_distance(puntos,11) and calculate_distance(puntos,16) > calculate_distance(puntos,15) and \n",
        "    #    calculate_distance(puntos,20) > calculate_distance(puntos,19)):\n",
        "    #   pintar_texto(annotated_image,text_x,text_y,\"Papel\")\n",
        "\n",
        "    # #Tijera\n",
        "    # if(calculate_distance(puntos,8) > calculate_distance(puntos,7) and \n",
        "    #    calculate_distance(puntos,12) > calculate_distance(puntos,11) and \n",
        "    #    calculate_distance(puntos,16) < calculate_distance(puntos,13) and \n",
        "    #    calculate_distance(puntos,20) < calculate_distance(puntos,17)):\n",
        "    #   pintar_texto(annotated_image,text_x,text_y,\"Tijera\")\n",
        "\n",
        "\n",
        "    # Draw handedness (left or right hand) on the image.\n",
        "    # cv2.putText(annotated_image, f\"{handedness[0].category_name}\",\n",
        "    #             (text_x, text_y), cv2.FONT_HERSHEY_DUPLEX,\n",
        "    #             FONT_SIZE, HANDEDNESS_TEXT_COLOR, FONT_THICKNESS, cv2.LINE_AA)\n",
        "\n",
        "  return annotated_image"
      ]
    },
    {
      "cell_type": "markdown",
      "metadata": {
        "id": "Iy4r2_ePylIa"
      },
      "source": [
        "## Running inference and visualizing the results\n",
        "\n",
        "Here are the steps to run hand landmark detection using MediaPipe.\n",
        "\n",
        "Check out the [MediaPipe documentation](https://developers.google.com/mediapipe/solutions/vision/hand_landmarker/python) to learn more about configuration options that this solution supports.\n"
      ]
    },
    {
      "cell_type": "code",
      "execution_count": 15,
      "metadata": {
        "id": "_JVO3rvPD4RN"
      },
      "outputs": [],
      "source": [
        "# STEP 1: Import the necessary modules.\n",
        "import mediapipe as mp\n",
        "import time\n",
        "from mediapipe.tasks import python\n",
        "from mediapipe.tasks.python import vision\n",
        "\n",
        "\n",
        "# STEP 2: Create an HandLandmarker object.\n",
        "base_options = python.BaseOptions(model_asset_path='hand_landmarker.task')\n",
        "options = vision.HandLandmarkerOptions(base_options=base_options, running_mode=vision.RunningMode.VIDEO,\n",
        "                                       num_hands=2)\n",
        "detector = vision.HandLandmarker.create_from_options(options)\n",
        "\n",
        "# Abrir la camara\n",
        "cap = cv2.VideoCapture(0)\n",
        "\n",
        "current_timestamp_ms = time.time()\n",
        "\n",
        "while (cap.isOpened()):\n",
        "    ret, frame = cap.read()\n",
        "    img1 = frame\n",
        "\n",
        "    if ret == True:\n",
        "        #Mostrar el video\n",
        "        \n",
        "        # Bucle lectura imagen\n",
        "        # STEP 3: Load the input image.\n",
        "        mp_image = mp.Image(image_format=mp.ImageFormat.SRGB, data=img1)\n",
        "\n",
        "        # STEP 4: Detect hand landmarks from the input image.\n",
        "        frame_timestamp_ms = round((time.time() - current_timestamp_ms) * 1000)\n",
        "        hand_landmarker_result = detector.detect_for_video(mp_image, frame_timestamp_ms)\n",
        "\n",
        "        # STEP 5: Process the classification result. In this case, visualize it.\n",
        "        annotated_image = draw_landmarks_on_image(mp_image.numpy_view(), hand_landmarker_result)\n",
        "        # plt.imshow(cv2.cvtColor(annotated_image, cv2.COLOR_RGB2BGR))\n",
        "\n",
        "        cv2.imshow('', cv2.cvtColor(annotated_image, cv2.COLOR_BGR2RGB))\n",
        "\n",
        "        if cv2.waitKey(10) & 0xFF == ord('q'): break\n",
        "cap.release()\n",
        "cv2.destroyAllWindows()"
      ]
    },
    {
      "cell_type": "code",
      "execution_count": null,
      "metadata": {
        "id": "SE6_sPCXaX3g"
      },
      "outputs": [],
      "source": []
    }
  ],
  "metadata": {
    "colab": {
      "collapsed_sections": [
        "h2q27gKz1H20"
      ],
      "provenance": []
    },
    "kernelspec": {
      "display_name": "Python 3 (ipykernel)",
      "language": "python",
      "name": "python3"
    },
    "language_info": {
      "codemirror_mode": {
        "name": "ipython",
        "version": 3
      },
      "file_extension": ".py",
      "mimetype": "text/x-python",
      "name": "python",
      "nbconvert_exporter": "python",
      "pygments_lexer": "ipython3",
      "version": "3.8.18"
    }
  },
  "nbformat": 4,
  "nbformat_minor": 0
}
