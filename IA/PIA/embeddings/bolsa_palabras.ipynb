{
 "cells": [
  {
   "cell_type": "code",
   "execution_count": null,
   "metadata": {},
   "outputs": [],
   "source": [
    "# !pip install -q transformers"
   ]
  },
  {
   "cell_type": "markdown",
   "metadata": {},
   "source": []
  },
  {
   "cell_type": "code",
   "execution_count": 10,
   "metadata": {},
   "outputs": [],
   "source": [
    "import re\n",
    "from collections import Counter\n",
    "\n",
    "def txt_to_bag_of_words(text):\n",
    "    #Limpiar el texto que se le manda\n",
    "    #Pasar a minuscula\n",
    "    text = text.lower()\n",
    "    #Con expresiones regulares, eliminar todo lo que no sea texto\n",
    "    text = re.sub(r'[^\\w\\s]', ' ', text)\n",
    "    #Pasamos el texto a una lista de palabras\n",
    "    words = text.split()\n",
    "    # Con una funcion contamos las palabras que mas se repitan\n",
    "    bow = Counter(words)\n",
    "    \n",
    "    return bow\n",
    "\n",
    "# Se le pasan dos diccionarios de bolsas de palabras\n",
    "def distancia_jacard(bow1,bow2):\n",
    "    keys1 = set(bow1.keys())\n",
    "    keys2 = set(bow2.keys())\n",
    "    # Hacemos la funcion de interseccion propia de python\n",
    "    interseccion = (keys1.intersection(keys2))\n",
    "    # Hacemos la funcion de union propia de python\n",
    "    union = keys1.union(keys2)\n",
    "    # Realizamos la formula para obtener la distancia entre ambos bows\n",
    "    d = 1- (len(interseccion) / len(union))\n",
    "    \n",
    "    return d"
   ]
  },
  {
   "cell_type": "markdown",
   "metadata": {},
   "source": [
    "# Realizamos pruebas"
   ]
  },
  {
   "cell_type": "code",
   "execution_count": 4,
   "metadata": {},
   "outputs": [
    {
     "name": "stdout",
     "output_type": "stream",
     "text": [
      "Counter({'esto': 2, 'es': 2, 'prueba': 2, 'una': 1, 'y': 1, 'otra': 1})\n"
     ]
    }
   ],
   "source": [
    "txt = \"Esto es una prueba, y esto otra prueba es\"\n",
    "bow = txt_to_bag_of_words(txt)\n",
    "print(bow)"
   ]
  },
  {
   "cell_type": "markdown",
   "metadata": {},
   "source": [
    "### Cogemos dos textos con relacion entre si y uno que no tenga nada a ver"
   ]
  },
  {
   "cell_type": "code",
   "execution_count": 7,
   "metadata": {},
   "outputs": [],
   "source": [
    "txt1 = \"\"\"\n",
    " Una unidad de procesamiento gráfico (del inglés graphics processing unit, GPU)\n",
    "  o procesador gráfico es un coprocesador dedicado al procesamiento de gráficos\n",
    " u operaciones de coma flotante, para aligerar la carga de trabajo del procesador/CPU central en aplicaciones como los videojuegos o aplicaciones 3D interactivas.\"\"\""
   ]
  },
  {
   "cell_type": "code",
   "execution_count": 8,
   "metadata": {},
   "outputs": [],
   "source": [
    "txt2 = \"\"\"\n",
    "La GPU es un procesador formado por muchos núcleos más pequeños y especializados.\n",
    "Al trabajar juntos, los núcleos aumentan el desempeño de forma considerable\n",
    "cuando una tarea de procesamiento puede dividirse entre varios núcleos al mismo tiempo \n",
    "(o en paralelo). La GPU es un componente esencial del gaming moderno, ya que permite obtener \n",
    "imágenes de mejor calidad y una mayor fluidez en el juego. Las GPUs también son útiles en la IA.\"\"\""
   ]
  },
  {
   "cell_type": "code",
   "execution_count": 12,
   "metadata": {},
   "outputs": [],
   "source": [
    "txt3 = \"\"\"\n",
    "El Juez Disciplinario Único castigó al equipo vizcaíno con dos partidos sin público en su campo \n",
    "en las sanciones con motivo del partido contra el Majadahonda\"\"\""
   ]
  },
  {
   "cell_type": "code",
   "execution_count": 15,
   "metadata": {},
   "outputs": [
    {
     "name": "stdout",
     "output_type": "stream",
     "text": [
      "0.8395061728395061 0.9473684210526316 0.9333333333333333\n"
     ]
    }
   ],
   "source": [
    "bow1 = txt_to_bag_of_words(txt1)\n",
    "bow2 = txt_to_bag_of_words(txt2)\n",
    "bow3 = txt_to_bag_of_words(txt3)\n",
    "d12 = distancia_jacard(bow1, bow2)\n",
    "d13 = distancia_jacard(bow1, bow3)\n",
    "d23 = distancia_jacard(bow2,bow3)\n",
    "print(d12, d13, d23)"
   ]
  },
  {
   "cell_type": "code",
   "execution_count": null,
   "metadata": {},
   "outputs": [],
   "source": []
  }
 ],
 "metadata": {
  "kernelspec": {
   "display_name": "ia",
   "language": "python",
   "name": "python3"
  },
  "language_info": {
   "codemirror_mode": {
    "name": "ipython",
    "version": 3
   },
   "file_extension": ".py",
   "mimetype": "text/x-python",
   "name": "python",
   "nbconvert_exporter": "python",
   "pygments_lexer": "ipython3",
   "version": "3.8.18"
  }
 },
 "nbformat": 4,
 "nbformat_minor": 2
}
