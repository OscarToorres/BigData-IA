{
 "cells": [
  {
   "cell_type": "code",
   "execution_count": 1,
   "metadata": {},
   "outputs": [
    {
     "name": "stderr",
     "output_type": "stream",
     "text": [
      "c:\\Users\\oscar.torresrodrigue\\AppData\\Local\\miniconda3\\envs\\ia\\lib\\site-packages\\tqdm\\auto.py:21: TqdmWarning: IProgress not found. Please update jupyter and ipywidgets. See https://ipywidgets.readthedocs.io/en/stable/user_install.html\n",
      "  from .autonotebook import tqdm as notebook_tqdm\n"
     ]
    }
   ],
   "source": [
    "import transformers\n",
    "from transformers import pipeline\n",
    "import torch\n",
    "from gensim.models import Word2Vec\n",
    "import numpy as np\n",
    "from nltk.tokenize import word_tokenize\n",
    "import nltk\n",
    "# Comprobar si hay una GPU disponible\n",
    "device = 0 if torch.cuda.is_available() else -1\n",
    "# https://huggingface.co/docs/transformers/main_classes/logging\n",
    "transformers.utils.logging.set_verbosity_error()"
   ]
  },
  {
   "cell_type": "code",
   "execution_count": 2,
   "metadata": {},
   "outputs": [
    {
     "data": {
      "text/plain": [
       "['Funes el memoriosoJorge Luis Borges',\n",
       " 'Lo recuerdo (yo no tengo derecho a pronunciar ese verbo sagrado, sólo un hombre en la tierra tuvo derecho y ese hombre ha muerto) con una oscura pasionaria en la mano, viéndola como nadie la ha visto, aunque la mirara desde el crepúsculo del día hasta el de la noche, toda una vida entera. Lo recuerdo, la cara taciturna y aindiada y singularmente remota, detrás del cigarrillo. Recuerdo (creo) sus manos afiladas de trenzado. Recuerdo cerca de esas manos un mate, con las armas de la Banda Oriental; recuerdo en la ventana de la casa una estera amarilla, con un vago paisaje lacustre. Recuerdo claramente su voz; la voz pausada, resentida y nasal del orillero antiguo, sin los silbidos italianos de ahora. Más de tres veces no lo vi; la última, en 1887... Me parece muy feliz el proyecto de que todos aquellos que lo trataron escriban sobre él; mi testimonio será acaso el más breve y sin duda el más pobre, pero no el menos imparcial del volumen que editarán ustedes.',\n",
       " 'Mi deplorable condición de argentino me impedirá incurrir en el ditirambo -género obligatorio en el Uruguay, cuando el tema es un uruguayo. Literato, cajetilla, porteño; Funes no dijo esas injuriosas palabras, pero de un modo suficiente me consta que yo representaba para él esas desventuras. Pedro Leandro Ipuche ha escrito que Funes era un precursor de los superhombres, \"un Zarathustra cimarrón y vernáculo \"; no lo discuto, pero no hay que olvidar que era también un compadrito de Fray Bentos, con ciertas incurables limitaciones.',\n",
       " 'Mi primer recuerdo de Funes es muy perspicuo. Lo veo en un atardecer de marzo o febrero del año 84. Mi padre, ese año, me había llevado a veranear a Fray Bentos. Yo volvía con mi primo Bernardo Haedo de la estancia de San Francisco. Volvíamos cantando, a caballo, y ésa no era la única circunstancia de mi felicidad. Después de un día bochornoso, una enorme tormenta color pizarra había escondido el cielo. La alentaba el viento del Sur, ya se enloquecían los árboles; yo tenía el temor la esperanza) de que nos sorprendiera en un descampado el agua elemental. Corrimos una especie de carrera con la tormenta.',\n",
       " 'Entramos en un callejón que se ahondaba entre dos veredas altísimas de ladrillo. Había oscurecido de golpe; oí rápidos y casi secretos pasos en lo alto; alcé los ojos y vi un muchacho que corría por la estrecha y rota vereda como por una estrecha y rota pared. Recuerdo la bombacha, las alpargatas, recuerdo el cigarrillo en el duro rostro, contra el nubarrón ya sin límites. Bernardo le gritó imprevisiblemente: \"¿Qué horas son, Ireneo?\"\". Sin consultar el cielo, sin detenerse, el otro respondió: \\'Faltan cuatro minutos para las ocho, joven Bernardo Juan Francisco\". La voz era aguda, burlona. Yo soy tan distraído que el diálogo que acabo de referir no me hubiera llamado la atención si no lo hubiera recalcado mi primo, a quien estimulaban creo) cierto orgullo local, y el deseo de mostrarse indiferente a la réplica tripartita del otro.',\n",
       " \"Me dijo que el muchacho del callejón era un tal Ireneo Funes, mentado por algunas rarezas como la de no darse con nadie y la de saber siempre la hora, como un reloj. Agregó que era hijo de una planchadora del pueblo, María Clementina Funes, y que algunos decían que su padre era un médico del saladero, un inglés O'Connor, y otros un domador o rastreador del departamento del Salto.\",\n",
       " 'Vivía con su madre, a la vuelta de la quinta de los Laureles. Los años 85 y 86 veraneamos en la ciudad de Montevideo. El 87 volví a Fray Bentos. Pregunté, como es natural, por todos los conocidos y, finalmente, por el \"cronométrico Funes\". Me contestaron que lo había volteado un redomón en la estancia de San Francisco, y que había quedado tullido, sin esperanza.',\n",
       " 'Recuerdo la impresión de incómoda magia que la noticia me produjo: la única vez que yo lo vi, veníamos a caballo de San Francisco y él andaba en un lugar alto; el hecho, en boca de mi primo Bernardo, tenía mucho de sueño elaborado con elementos anteriores.',\n",
       " 'Me dijeron que no se movía del catre, puestos los ojos en la higuera del fondo o en una telaraña. En los atardeceres, permitía que lo sacaran a la ventana. Llevaba la soberbia hasta el punto de simular que era benéfico el golpe que lo había fulminado... Dos veces lo vi atrás de la reja, que burdamente recalcaba su condición de eterno prisionero: una, inmóvil, con los ojos cerrados; otra, inmóvil también, absorto en la contemplación de un oloroso gajo de santonina. No sin alguna vanagloria yo había iniciado en aquel tiempo el estudio metódico del latín. Mi valija incluía el De viris illustribus de Lhomond, el Thesaurus de Quicherat, los Comentarios de Julio César y un volumen impar de la Naturalis historia de Plinio, que excedía (y sigue excediendo) mis módicas virtudes de latinista. Todo se propala en un pueblo chico; Ireneo, en su rancho de las orillas, no tardó en enterarse del arribo de esos libros anómalos. Me dirigió una carta florida y ceremoniosa, en la que recordaba nuestro encuentro, desdichadamente fugaz, del día 7 de febrero del año 84\", ponderaba los gloriosos servicios que don Gregorio Haedo, mi tío, finado ese mismo año, \"había prestado a las dos patrias en la valerosa jornada de Ituzaingó \", y me solicitaba el préstamo de cualquiera de los volúmenes, acompañado de un diccionario para la buena inteligencia del texto original, porque todavía ignoro el latín\".',\n",
       " 'Prometía devolverlos en buen estado, casi inmediatamente. La letra era perfecta, muy perfilada; la ortografía, del tipo que Andrés Bello preconizó: i por y, f por g. Al principio, temí naturalmente una broma. Mis primos me aseguraron que no, que eran cosas de Ireneo. No supe si atribuir a descaro, a ignorancia o a estupidez la idea de que el arduo latín no requería más instrumento que un diccionario; para desengañarlo con plenitud le mandé el Gradus ad Parnassum de Quicherat y la obra de Plinio.',\n",
       " 'El 14 de febrero me telegrafiaron de Buenos Aires que volviera inmediatamente, porque mi padre no estaba \"nada bien\". Dios me perdone; el prestigio de ser el destinatario de un telegrama urgente, el deseo de comunicar a todo Fray Bentos la contradicción entre la forma negativa de la noticia y el perentorio adverbio, la tentación de dramatizar mi dolor, fingiendo un viril estoicismo, tal vez me distrajeron de toda posibilidad de dolor. Al hacer la valija, noté que me faltaban el Gradus y el primer tomo de la Naturalis historia. El Saturno\" zarpaba al día siguiente, por la mañana; esa noche, después de cenar, me encaminé a casa de Funes. Me asombró que la noche fuera no menos pesada que el día. En el decente rancho, la madre de Funes me recibió. Me dijo que Ireneo estaba en la pieza del fondo y que no me extrañara encontrarla a oscuras, porque ireneo sabía pasarse las horas muertas sin encender la vela. Atravesé el patio de baldosa, el corredorcito; llegué al segundo patio. Había una parra; la oscuridad pudo parecerme total. Oí de pronto la alta y burlona voz de Ireneo. Esa voz hablaba en latín; esa voz (que venía de la tiniebla) articulaba con moroso deleite un discurso o plegaria o incantación. Resonaron las sílabas romanas en el patio de tierra; mi temor las creía indescifrables, interminables; después, en el enorme diálogo de esa noche, supe que formaban el primer párrafo del capítulo XXIV del libro vii de la Naturalis historia. La materia de ese capítulo es la memoria; las palabras últimas fueron ut nihil non iisdern verbis redderetur audíturn. Sin el menor cambio de voz, Ireneo me dijo que pasara. Estaba en el catre, fumando. Me parece que no le vi la cara hasta el alba; creo rememorar el ascua momentánea del cigarrillo. La pieza olía vagamente a humedad. Me senté; repetí la historia del telegrama y de la enfermedad de mi padre. Arribo, ahora, al más difícil punto de mi relato. Éste (bueno es que ya lo sepa el lector) no tiene otro argumento que ese diálogo de hace ya medio siglo. No trataré de reproducir sus palabras, irrecuperables ahora. Prefiero resumir con veracidad las muchas cosas que me dijo Ireneo. El estilo indirecto es remoto y débil; yo sé que sacrifico la eficacia de mi relato; que mis lectores se imaginen los entrecortados períodos que me abrumaron esa noche. Ireneo empezó por enumerar, en latín y español, los casos de memoria prodigiosa registrados por la Naturalis historia: Ciro, rey de los persas, que sabía llamar por su nombre a todos los soldados de sus ejércitos; Mitrídates Eupator, que administraba la justicia en los veintidós idiomas de su imperio; Simónides, inventor de la mnemotecnia; Metrodoro, que profesaba el arte de repetir con fidelidad lo escuchado una sola vez. Con evidente buena fe se maravilló de que tales casos maravillaran. Me dijo que antes de esa tarde lluviosa en que lo volteó el azulejo, él había sido lo que son todos los cristianos: un ciego, un sordo, un abombado, un desmemoriado. (Traté de recordarle su percepción exacta del tiempo, su memoria de nombres propios; no me hizo caso.) Diecinueve años había vivido como quien sueña: miraba sin ver, oía sin oír, se olvidaba de todo, de casi todo. Al caer, perdió el conocimiento; cuando lo recobró, el presente era casi intolerable de tan rico y tan nítido, y también las memorias más antiguas y más triviales. Poco después averiguó que estaba tullido. El hecho apenas le interesó. Razonó (sintió) que la inmovilidad era un precio mínimo. Ahora su percepción y su memoria eran infalibles. Nosotros, de un vistazo, percibimos tres copas en una mesa; Funes, todos los vástagos y racimos y frutos que comprende una parra. Sabía las formas de las nubes australes del amanecer del 30 de abril de 1882 y podía compararlas en el recuerdo con las vetas de un libro en pasta española que sólo había mirado una vez y con las líneas de la espuma que un remo levantó en el Río Negro la víspera de la acción del Quebracho. Esos recuerdos no eran simples; cada imagen visual estaba ligada a sensaciones musculares, térmicas, etcétera. Podía reconstruir todos los sueños, todos los entre sueños. Dos o tres veces había reconstruido un día entero; no había dudado nunca, pero cada reconstrucción había requerido un día entero. Me dijo: \"Más recuerdos tengo yo solo que los que habrán tenido todos los hombres desde que el mundo es mundo\". Y también: \"Mis sueños son como la vigilia de ustedes\". Y también, hacia el alba: \"Mi memoria, señor, es como vaciadero de basuras\". Una circunferencia en un pizarrón, un triángulo rectángulo, un rombo, son formas que podemos intuir plenamente; lo mismo le pasaba a Ireneo con las aborrascadas crines de un potro, con una punta de ganado en una cuchilla, con el fuego cambiante y con la innumerable ceniza, con las muchas caras de un muerto en un largo velorio. No sé cuántas estrellas veía en el cielo. Esas cosas me dijo; ni entonces ni después las he puesto en duda. En aquel tiempo no había cinematógrafos ni fonógrafos; es, sin embargo, inverosímil y hasta increíble que nadie hiciera un experimento con Funes. Lo cierto es que vivimos postergando todo lo postergable; tal vez todos sabemos profundamente que somos inmortales y que tarde o temprano, todo hombre hará todas las cosas y sabrá todo. La voz de Funes, desde la oscuridad, seguía hablando. Me dijo que hacia 1886 había discurrido un sistema original de numeración y que en muy pocos días había rebasado el veinticuatro mil. No lo había escrito, porque lo pensado una sola vez ya no podía borrársele. Su primer estímulo, creo, fue el desagrado de que los treinta y tres orientales requirieran dos signos y tres palabras, en lugar de una sola palabra y un solo signo. Aplicó luego ese disparatado principio a los otros números. En lugar de siete mil trece, decía (por ejemplo) Máximo Pérez; en lugar de siete mil catorce, El Ferrocarril; otros números eran Luis Melián Lafinur, Olimar, azufre, los bastos, la ballena, el gas, la caldera, Napoléon, Agustín de Vedía. En lugar de quinientos, decía nueve. Cada palabra tenía un signo particular, una especie de marca; las últimas eran muy complicadas... Yo traté de explicarle que esa rapsodia de voces inconexas era precisamente lo contrario de un sistema de numeración. Le dije que decir 365 era decir tres centenas, seis decenas, cinco unidades: análisis que no existe en los números\" El Negro Timoteo o manta de carne. Funes no me entendió o no quiso entenderme. Locke, en el siglo XVII, postuló (y reprobó) un idioma imposible en el que cada cosa individual, cada piedra, cada pájaro y cada rama tuviera un nombre propio; Funes proyectó alguna vez un idioma análogo, pero lo desechó por parecerle demasiado general, demasiado ambiguo. En efecto, Funes no sólo recordaba cada hoja de cada árbol de cada monte, sino cada una de las veces que la había percibido o imaginado. Resolvió reducir cada una de sus jornadas pretéritas a unos setenta mil recuerdos, que definiría luego por cifras. Lo disuadieron dos consideraciones: la conciencia de que la tarea era interminable, la conciencia de que era inútil. Pensó que en la hora de la muerte no habría acabado aún de clasificar todos los recuerdos de la niñez. Los dos proyectos que he indicado (un vocabulario infinito para la serie natural de los números, un inútil catálogo mental de todas las imágenes del recuerdo) son insensatos, pero revelan cierta balbuciente grandeza. Nos dejan vislumbrar o inferír el vertiginoso mundo de Funes. Éste, no lo olvidemos, era casi incapaz de ideas generales, platónicas. No sólo le costaba comprender que el símbolo genérico perro abarcara tantos individuos dispares de diversos tamaños y diversa forma; le molestaba que el perro de las tres y catorce (visto de perfil) tuviera el mismo nombre que el perro de las tres y cuarto visto de frente). Su propia cara en el espejo, sus propias manos, lo sorprendían cada vez. Refiere Swift que el emperador de Lilliput discernía el movimiento del minutero; Funes discernía continuamente los tranquilos avances de la corrupción, de las caries, de la fatiga. Notaba los progresos de la muerte, de la humedad. Era el solitario y lúcido espectador de un mundo multiforme, instantáneo y casi intolerablemente preciso. Babilonia, Londres y Nueva York han abrumado con feroz esplendor la imaginación de los hombres; nadie, en sus torres populosas o en sus avenidas urgentes, ha sentido el calor y la presión de una realidad tan infatigable como la que día y noche convergía sobre el infeliz Ireneo, en su pobre arrabal sudamericano. Le era muy difícil dormir. Dormir es distraerse del mundo; Funes, de espaldas en el catre, en la sombra, se figuraba cada grieta y cada moldura de las casas precisas que lo rodeaban. (Repito que el menos importante de sus recuerdos era más minucioso y más vivo que nuestra percepción de un goce físico o de un tormento físico.) Hacia el Este, en un trecho no amanzanado, había casas nuevas, desconocidas. Funes las imaginaba negras, compactas, hechas de tiniebla homogénea; en esa dirección volvía la cara para dormir. También solía imaginarse en el fondo del río, mecido y anulado por la corriente. Había aprendido sin esfuerzo el inglés, el francés, el portugués, el latín. Sospecho, sin embargo, que no era muy capaz de pensar. Pensar es olvidar diferencias, es generalizar, abstraer. En el abarrotado mundo de Funes no había sino detalles, casi inmediatos. La recelosa claridad de la madrugada entró por el patio de tierra. Entonces vi la cara de la voz que toda la noche había hablado. Ireneo tenía diecinueve años; había nacido en 1868; me pareció monumental como el bronce, más antiguo que Egipto, anterior a las profecías y a las pirámides. Pensé que cada una de mis palabras (que cada uno de mis gestos) perduraría en su implacable memoria; me entorpeció el temor de multiplicar ademanes inútiles. ',\n",
       " 'Ireneo Funes murió en 1889, de una congestión pulmonar.',\n",
       " 'http://www.angelfire.com/la2/pnascimento/latinoamericanos.html']"
      ]
     },
     "execution_count": 2,
     "metadata": {},
     "output_type": "execute_result"
    }
   ],
   "source": [
    "# Leer el archivo\n",
    "texto =  open(file=\"funes.txt\", encoding='utf-8').read()\n",
    "\n",
    "# Hacer una primera limpieza del texto\n",
    "texto = texto.replace('\\n',\"\")\n",
    "texto = texto.replace('\\ufeff',\"\")\n",
    "texto = texto.replace('\\xa0',\"\")\n",
    "\n",
    "# Hacer una lista con cada frase del texto\n",
    "sentences = texto.split(\"\\t\")\n",
    "sentences"
   ]
  },
  {
   "cell_type": "code",
   "execution_count": 3,
   "metadata": {},
   "outputs": [],
   "source": [
    "# Hacer una expresion regular para limpiar el texto\n",
    "import re\n",
    "\n",
    "sentences = list(map(lambda x : re.sub(r\"[^\\w\\s]\",' ',x),sentences))"
   ]
  },
  {
   "cell_type": "code",
   "execution_count": 4,
   "metadata": {},
   "outputs": [
    {
     "data": {
      "text/plain": [
       "['Funes el memoriosoJorge Luis Borges',\n",
       " 'Lo recuerdo  yo no tengo derecho a pronunciar ese verbo sagrado  sólo un hombre en la tierra tuvo derecho y ese hombre ha muerto  con una oscura pasionaria en la mano  viéndola como nadie la ha visto  aunque la mirara desde el crepúsculo del día hasta el de la noche  toda una vida entera  Lo recuerdo  la cara taciturna y aindiada y singularmente remota  detrás del cigarrillo  Recuerdo  creo  sus manos afiladas de trenzado  Recuerdo cerca de esas manos un mate  con las armas de la Banda Oriental  recuerdo en la ventana de la casa una estera amarilla  con un vago paisaje lacustre  Recuerdo claramente su voz  la voz pausada  resentida y nasal del orillero antiguo  sin los silbidos italianos de ahora  Más de tres veces no lo vi  la última  en 1887    Me parece muy feliz el proyecto de que todos aquellos que lo trataron escriban sobre él  mi testimonio será acaso el más breve y sin duda el más pobre  pero no el menos imparcial del volumen que editarán ustedes ',\n",
       " 'Mi deplorable condición de argentino me impedirá incurrir en el ditirambo  género obligatorio en el Uruguay  cuando el tema es un uruguayo  Literato  cajetilla  porteño  Funes no dijo esas injuriosas palabras  pero de un modo suficiente me consta que yo representaba para él esas desventuras  Pedro Leandro Ipuche ha escrito que Funes era un precursor de los superhombres   un Zarathustra cimarrón y vernáculo    no lo discuto  pero no hay que olvidar que era también un compadrito de Fray Bentos  con ciertas incurables limitaciones ',\n",
       " 'Mi primer recuerdo de Funes es muy perspicuo  Lo veo en un atardecer de marzo o febrero del año 84  Mi padre  ese año  me había llevado a veranear a Fray Bentos  Yo volvía con mi primo Bernardo Haedo de la estancia de San Francisco  Volvíamos cantando  a caballo  y ésa no era la única circunstancia de mi felicidad  Después de un día bochornoso  una enorme tormenta color pizarra había escondido el cielo  La alentaba el viento del Sur  ya se enloquecían los árboles  yo tenía el temor la esperanza  de que nos sorprendiera en un descampado el agua elemental  Corrimos una especie de carrera con la tormenta ',\n",
       " 'Entramos en un callejón que se ahondaba entre dos veredas altísimas de ladrillo  Había oscurecido de golpe  oí rápidos y casi secretos pasos en lo alto  alcé los ojos y vi un muchacho que corría por la estrecha y rota vereda como por una estrecha y rota pared  Recuerdo la bombacha  las alpargatas  recuerdo el cigarrillo en el duro rostro  contra el nubarrón ya sin límites  Bernardo le gritó imprevisiblemente    Qué horas son  Ireneo     Sin consultar el cielo  sin detenerse  el otro respondió   Faltan cuatro minutos para las ocho  joven Bernardo Juan Francisco   La voz era aguda  burlona  Yo soy tan distraído que el diálogo que acabo de referir no me hubiera llamado la atención si no lo hubiera recalcado mi primo  a quien estimulaban creo  cierto orgullo local  y el deseo de mostrarse indiferente a la réplica tripartita del otro ',\n",
       " 'Me dijo que el muchacho del callejón era un tal Ireneo Funes  mentado por algunas rarezas como la de no darse con nadie y la de saber siempre la hora  como un reloj  Agregó que era hijo de una planchadora del pueblo  María Clementina Funes  y que algunos decían que su padre era un médico del saladero  un inglés O Connor  y otros un domador o rastreador del departamento del Salto ',\n",
       " 'Vivía con su madre  a la vuelta de la quinta de los Laureles  Los años 85 y 86 veraneamos en la ciudad de Montevideo  El 87 volví a Fray Bentos  Pregunté  como es natural  por todos los conocidos y  finalmente  por el  cronométrico Funes   Me contestaron que lo había volteado un redomón en la estancia de San Francisco  y que había quedado tullido  sin esperanza ',\n",
       " 'Recuerdo la impresión de incómoda magia que la noticia me produjo  la única vez que yo lo vi  veníamos a caballo de San Francisco y él andaba en un lugar alto  el hecho  en boca de mi primo Bernardo  tenía mucho de sueño elaborado con elementos anteriores ',\n",
       " 'Me dijeron que no se movía del catre  puestos los ojos en la higuera del fondo o en una telaraña  En los atardeceres  permitía que lo sacaran a la ventana  Llevaba la soberbia hasta el punto de simular que era benéfico el golpe que lo había fulminado    Dos veces lo vi atrás de la reja  que burdamente recalcaba su condición de eterno prisionero  una  inmóvil  con los ojos cerrados  otra  inmóvil también  absorto en la contemplación de un oloroso gajo de santonina  No sin alguna vanagloria yo había iniciado en aquel tiempo el estudio metódico del latín  Mi valija incluía el De viris illustribus de Lhomond  el Thesaurus de Quicherat  los Comentarios de Julio César y un volumen impar de la Naturalis historia de Plinio  que excedía  y sigue excediendo  mis módicas virtudes de latinista  Todo se propala en un pueblo chico  Ireneo  en su rancho de las orillas  no tardó en enterarse del arribo de esos libros anómalos  Me dirigió una carta florida y ceremoniosa  en la que recordaba nuestro encuentro  desdichadamente fugaz  del día 7 de febrero del año 84   ponderaba los gloriosos servicios que don Gregorio Haedo  mi tío  finado ese mismo año   había prestado a las dos patrias en la valerosa jornada de Ituzaingó    y me solicitaba el préstamo de cualquiera de los volúmenes  acompañado de un diccionario para la buena inteligencia del texto original  porque todavía ignoro el latín  ',\n",
       " 'Prometía devolverlos en buen estado  casi inmediatamente  La letra era perfecta  muy perfilada  la ortografía  del tipo que Andrés Bello preconizó  i por y  f por g  Al principio  temí naturalmente una broma  Mis primos me aseguraron que no  que eran cosas de Ireneo  No supe si atribuir a descaro  a ignorancia o a estupidez la idea de que el arduo latín no requería más instrumento que un diccionario  para desengañarlo con plenitud le mandé el Gradus ad Parnassum de Quicherat y la obra de Plinio ',\n",
       " 'El 14 de febrero me telegrafiaron de Buenos Aires que volviera inmediatamente  porque mi padre no estaba  nada bien   Dios me perdone  el prestigio de ser el destinatario de un telegrama urgente  el deseo de comunicar a todo Fray Bentos la contradicción entre la forma negativa de la noticia y el perentorio adverbio  la tentación de dramatizar mi dolor  fingiendo un viril estoicismo  tal vez me distrajeron de toda posibilidad de dolor  Al hacer la valija  noté que me faltaban el Gradus y el primer tomo de la Naturalis historia  El Saturno  zarpaba al día siguiente  por la mañana  esa noche  después de cenar  me encaminé a casa de Funes  Me asombró que la noche fuera no menos pesada que el día  En el decente rancho  la madre de Funes me recibió  Me dijo que Ireneo estaba en la pieza del fondo y que no me extrañara encontrarla a oscuras  porque ireneo sabía pasarse las horas muertas sin encender la vela  Atravesé el patio de baldosa  el corredorcito  llegué al segundo patio  Había una parra  la oscuridad pudo parecerme total  Oí de pronto la alta y burlona voz de Ireneo  Esa voz hablaba en latín  esa voz  que venía de la tiniebla  articulaba con moroso deleite un discurso o plegaria o incantación  Resonaron las sílabas romanas en el patio de tierra  mi temor las creía indescifrables  interminables  después  en el enorme diálogo de esa noche  supe que formaban el primer párrafo del capítulo XXIV del libro vii de la Naturalis historia  La materia de ese capítulo es la memoria  las palabras últimas fueron ut nihil non iisdern verbis redderetur audíturn  Sin el menor cambio de voz  Ireneo me dijo que pasara  Estaba en el catre  fumando  Me parece que no le vi la cara hasta el alba  creo rememorar el ascua momentánea del cigarrillo  La pieza olía vagamente a humedad  Me senté  repetí la historia del telegrama y de la enfermedad de mi padre  Arribo  ahora  al más difícil punto de mi relato  Éste  bueno es que ya lo sepa el lector  no tiene otro argumento que ese diálogo de hace ya medio siglo  No trataré de reproducir sus palabras  irrecuperables ahora  Prefiero resumir con veracidad las muchas cosas que me dijo Ireneo  El estilo indirecto es remoto y débil  yo sé que sacrifico la eficacia de mi relato  que mis lectores se imaginen los entrecortados períodos que me abrumaron esa noche  Ireneo empezó por enumerar  en latín y español  los casos de memoria prodigiosa registrados por la Naturalis historia  Ciro  rey de los persas  que sabía llamar por su nombre a todos los soldados de sus ejércitos  Mitrídates Eupator  que administraba la justicia en los veintidós idiomas de su imperio  Simónides  inventor de la mnemotecnia  Metrodoro  que profesaba el arte de repetir con fidelidad lo escuchado una sola vez  Con evidente buena fe se maravilló de que tales casos maravillaran  Me dijo que antes de esa tarde lluviosa en que lo volteó el azulejo  él había sido lo que son todos los cristianos  un ciego  un sordo  un abombado  un desmemoriado   Traté de recordarle su percepción exacta del tiempo  su memoria de nombres propios  no me hizo caso   Diecinueve años había vivido como quien sueña  miraba sin ver  oía sin oír  se olvidaba de todo  de casi todo  Al caer  perdió el conocimiento  cuando lo recobró  el presente era casi intolerable de tan rico y tan nítido  y también las memorias más antiguas y más triviales  Poco después averiguó que estaba tullido  El hecho apenas le interesó  Razonó  sintió  que la inmovilidad era un precio mínimo  Ahora su percepción y su memoria eran infalibles  Nosotros  de un vistazo  percibimos tres copas en una mesa  Funes  todos los vástagos y racimos y frutos que comprende una parra  Sabía las formas de las nubes australes del amanecer del 30 de abril de 1882 y podía compararlas en el recuerdo con las vetas de un libro en pasta española que sólo había mirado una vez y con las líneas de la espuma que un remo levantó en el Río Negro la víspera de la acción del Quebracho  Esos recuerdos no eran simples  cada imagen visual estaba ligada a sensaciones musculares  térmicas  etcétera  Podía reconstruir todos los sueños  todos los entre sueños  Dos o tres veces había reconstruido un día entero  no había dudado nunca  pero cada reconstrucción había requerido un día entero  Me dijo   Más recuerdos tengo yo solo que los que habrán tenido todos los hombres desde que el mundo es mundo   Y también   Mis sueños son como la vigilia de ustedes   Y también  hacia el alba   Mi memoria  señor  es como vaciadero de basuras   Una circunferencia en un pizarrón  un triángulo rectángulo  un rombo  son formas que podemos intuir plenamente  lo mismo le pasaba a Ireneo con las aborrascadas crines de un potro  con una punta de ganado en una cuchilla  con el fuego cambiante y con la innumerable ceniza  con las muchas caras de un muerto en un largo velorio  No sé cuántas estrellas veía en el cielo  Esas cosas me dijo  ni entonces ni después las he puesto en duda  En aquel tiempo no había cinematógrafos ni fonógrafos  es  sin embargo  inverosímil y hasta increíble que nadie hiciera un experimento con Funes  Lo cierto es que vivimos postergando todo lo postergable  tal vez todos sabemos profundamente que somos inmortales y que tarde o temprano  todo hombre hará todas las cosas y sabrá todo  La voz de Funes  desde la oscuridad  seguía hablando  Me dijo que hacia 1886 había discurrido un sistema original de numeración y que en muy pocos días había rebasado el veinticuatro mil  No lo había escrito  porque lo pensado una sola vez ya no podía borrársele  Su primer estímulo  creo  fue el desagrado de que los treinta y tres orientales requirieran dos signos y tres palabras  en lugar de una sola palabra y un solo signo  Aplicó luego ese disparatado principio a los otros números  En lugar de siete mil trece  decía  por ejemplo  Máximo Pérez  en lugar de siete mil catorce  El Ferrocarril  otros números eran Luis Melián Lafinur  Olimar  azufre  los bastos  la ballena  el gas  la caldera  Napoléon  Agustín de Vedía  En lugar de quinientos  decía nueve  Cada palabra tenía un signo particular  una especie de marca  las últimas eran muy complicadas    Yo traté de explicarle que esa rapsodia de voces inconexas era precisamente lo contrario de un sistema de numeración  Le dije que decir 365 era decir tres centenas  seis decenas  cinco unidades  análisis que no existe en los números  El Negro Timoteo o manta de carne  Funes no me entendió o no quiso entenderme  Locke  en el siglo XVII  postuló  y reprobó  un idioma imposible en el que cada cosa individual  cada piedra  cada pájaro y cada rama tuviera un nombre propio  Funes proyectó alguna vez un idioma análogo  pero lo desechó por parecerle demasiado general  demasiado ambiguo  En efecto  Funes no sólo recordaba cada hoja de cada árbol de cada monte  sino cada una de las veces que la había percibido o imaginado  Resolvió reducir cada una de sus jornadas pretéritas a unos setenta mil recuerdos  que definiría luego por cifras  Lo disuadieron dos consideraciones  la conciencia de que la tarea era interminable  la conciencia de que era inútil  Pensó que en la hora de la muerte no habría acabado aún de clasificar todos los recuerdos de la niñez  Los dos proyectos que he indicado  un vocabulario infinito para la serie natural de los números  un inútil catálogo mental de todas las imágenes del recuerdo  son insensatos  pero revelan cierta balbuciente grandeza  Nos dejan vislumbrar o inferír el vertiginoso mundo de Funes  Éste  no lo olvidemos  era casi incapaz de ideas generales  platónicas  No sólo le costaba comprender que el símbolo genérico perro abarcara tantos individuos dispares de diversos tamaños y diversa forma  le molestaba que el perro de las tres y catorce  visto de perfil  tuviera el mismo nombre que el perro de las tres y cuarto visto de frente   Su propia cara en el espejo  sus propias manos  lo sorprendían cada vez  Refiere Swift que el emperador de Lilliput discernía el movimiento del minutero  Funes discernía continuamente los tranquilos avances de la corrupción  de las caries  de la fatiga  Notaba los progresos de la muerte  de la humedad  Era el solitario y lúcido espectador de un mundo multiforme  instantáneo y casi intolerablemente preciso  Babilonia  Londres y Nueva York han abrumado con feroz esplendor la imaginación de los hombres  nadie  en sus torres populosas o en sus avenidas urgentes  ha sentido el calor y la presión de una realidad tan infatigable como la que día y noche convergía sobre el infeliz Ireneo  en su pobre arrabal sudamericano  Le era muy difícil dormir  Dormir es distraerse del mundo  Funes  de espaldas en el catre  en la sombra  se figuraba cada grieta y cada moldura de las casas precisas que lo rodeaban   Repito que el menos importante de sus recuerdos era más minucioso y más vivo que nuestra percepción de un goce físico o de un tormento físico   Hacia el Este  en un trecho no amanzanado  había casas nuevas  desconocidas  Funes las imaginaba negras  compactas  hechas de tiniebla homogénea  en esa dirección volvía la cara para dormir  También solía imaginarse en el fondo del río  mecido y anulado por la corriente  Había aprendido sin esfuerzo el inglés  el francés  el portugués  el latín  Sospecho  sin embargo  que no era muy capaz de pensar  Pensar es olvidar diferencias  es generalizar  abstraer  En el abarrotado mundo de Funes no había sino detalles  casi inmediatos  La recelosa claridad de la madrugada entró por el patio de tierra  Entonces vi la cara de la voz que toda la noche había hablado  Ireneo tenía diecinueve años  había nacido en 1868  me pareció monumental como el bronce  más antiguo que Egipto  anterior a las profecías y a las pirámides  Pensé que cada una de mis palabras  que cada uno de mis gestos  perduraría en su implacable memoria  me entorpeció el temor de multiplicar ademanes inútiles  ',\n",
       " 'Ireneo Funes murió en 1889  de una congestión pulmonar ',\n",
       " 'http   www angelfire com la2 pnascimento latinoamericanos html']"
      ]
     },
     "execution_count": 4,
     "metadata": {},
     "output_type": "execute_result"
    }
   ],
   "source": [
    "sentences"
   ]
  },
  {
   "cell_type": "code",
   "execution_count": 44,
   "metadata": {},
   "outputs": [],
   "source": [
    "# Tequenizacion de las frases\n",
    "sentences_tokenized = []\n",
    "for sent in sentences:\n",
    "    sentences_tokenized.append(word_tokenize(sent.lower()))\n",
    "\n",
    "# Entrenamos el modelo, se le pasa ula lista de sentencias, frases, transformados en tokens\n",
    "model = Word2Vec(sentences_tokenized,vector_size=10,window=5,min_count=1,sg=0)\n",
    "\n",
    "\n",
    "# from sentence_transformers import SentenceTransformer\n",
    "\n",
    "# model = SentenceTransformer('hiiamsid/sentence_similarity_spanish_es')\n",
    "# embeddings = model.encode(sentences)\n"
   ]
  },
  {
   "cell_type": "code",
   "execution_count": 45,
   "metadata": {},
   "outputs": [],
   "source": [
    "# Crear los embeddings\n",
    "# si quisiésemos hacer un embedding de un párrafo o sentencia\n",
    "# podemos hacer la media de los embeddings de sus tokens\n",
    "# Por lo tanto obtendremos un embedding para cada frase que sera la media de todos los tokens que contenga\n",
    "\n",
    "list_embeddings = []\n",
    "\n",
    "for tokens in sentences_tokenized:\n",
    "    embedding = sum(model.wv[w] for w in tokens) / len(tokens)\n",
    "    list_embeddings.append(embedding)"
   ]
  },
  {
   "cell_type": "code",
   "execution_count": 6,
   "metadata": {},
   "outputs": [
    {
     "data": {
      "text/plain": [
       "['de',\n",
       " 'la',\n",
       " 'el',\n",
       " 'que',\n",
       " 'en',\n",
       " 'y',\n",
       " 'un',\n",
       " 'no',\n",
       " 'me',\n",
       " 'los',\n",
       " 'del',\n",
       " 'las',\n",
       " 'lo',\n",
       " 'una',\n",
       " 'a',\n",
       " 'había',\n",
       " 'con',\n",
       " 'funes',\n",
       " 'era',\n",
       " 'mi',\n",
       " 'cada',\n",
       " 'por',\n",
       " 'su',\n",
       " 'o',\n",
       " 'ireneo',\n",
       " 'sin',\n",
       " 'es',\n",
       " 'recuerdo',\n",
       " 'más',\n",
       " 'como',\n",
       " 'yo',\n",
       " 'todos',\n",
       " 'dijo',\n",
       " 'le',\n",
       " 'voz',\n",
       " 'sus',\n",
       " 'se',\n",
       " 'esa',\n",
       " 'día',\n",
       " 'vez',\n",
       " 'tres',\n",
       " 'muy',\n",
       " 'dos',\n",
       " 'ese',\n",
       " 'casi',\n",
       " 'noche',\n",
       " 'todo',\n",
       " 'mundo',\n",
       " 'para',\n",
       " 'vi',\n",
       " 'memoria',\n",
       " 'también',\n",
       " 'mis',\n",
       " 'al',\n",
       " 'latín',\n",
       " 'pero',\n",
       " 'estaba',\n",
       " 'después',\n",
       " 'palabras',\n",
       " 'ya',\n",
       " 'lugar',\n",
       " 'historia',\n",
       " 'son',\n",
       " 'recuerdos',\n",
       " 'cara',\n",
       " 'eran',\n",
       " 'tan',\n",
       " 'tenía',\n",
       " 'creo',\n",
       " 'esas',\n",
       " 'porque',\n",
       " 'francisco',\n",
       " 'hasta',\n",
       " 'ha',\n",
       " 'bernardo',\n",
       " 'números',\n",
       " 'padre',\n",
       " 'naturalis',\n",
       " 'año',\n",
       " 'primer',\n",
       " 'sólo',\n",
       " 'nadie',\n",
       " 'cosas',\n",
       " 'él',\n",
       " 'mil',\n",
       " 'patio',\n",
       " 'veces',\n",
       " 'ahora',\n",
       " 'fray',\n",
       " 'bentos',\n",
       " 'sola',\n",
       " 'nombre',\n",
       " 'tal',\n",
       " 'toda',\n",
       " 'años',\n",
       " 'fondo',\n",
       " 'ojos',\n",
       " 'tierra',\n",
       " 'catre',\n",
       " 'sabía',\n",
       " 'perro',\n",
       " 'desde',\n",
       " 'visto',\n",
       " 'entre',\n",
       " 'diálogo',\n",
       " 'otro',\n",
       " 'menos',\n",
       " 'percepción',\n",
       " 'san',\n",
       " 'ni',\n",
       " 'hacia',\n",
       " 'otros',\n",
       " 'febrero',\n",
       " 'dormir',\n",
       " 'mismo',\n",
       " 'primo',\n",
       " 'cigarrillo',\n",
       " 'sueños',\n",
       " 'manos',\n",
       " 'hombre',\n",
       " 'tiempo',\n",
       " 'cielo',\n",
       " 'temor',\n",
       " 'podía',\n",
       " 'forma',\n",
       " 'gradus',\n",
       " 'principio',\n",
       " 'dolor',\n",
       " 'oscuridad',\n",
       " 'tiniebla',\n",
       " 'pieza',\n",
       " 'supe',\n",
       " 'capítulo',\n",
       " 'telegrama',\n",
       " 'muerto',\n",
       " 'libro',\n",
       " 'últimas',\n",
       " 'siete',\n",
       " 'luego',\n",
       " 'signo',\n",
       " 'palabra',\n",
       " 'numeración',\n",
       " 'sistema',\n",
       " 'todas',\n",
       " 'embargo',\n",
       " 'he',\n",
       " 'entonces',\n",
       " 'hombres',\n",
       " 'solo',\n",
       " 'entero',\n",
       " 'luis',\n",
       " 'negro',\n",
       " 'río',\n",
       " 'formas',\n",
       " 'diecinueve',\n",
       " 'traté',\n",
       " 'tarde',\n",
       " 'casos',\n",
       " 'sé',\n",
       " 'muchas',\n",
       " 'siglo',\n",
       " 'éste',\n",
       " 'relato',\n",
       " 'difícil',\n",
       " 'humedad',\n",
       " 'alba',\n",
       " 'inmediatamente',\n",
       " 'hubiera',\n",
       " 'original',\n",
       " 'olvidar',\n",
       " 'golpe',\n",
       " 'callejón',\n",
       " 'especie',\n",
       " 'nos',\n",
       " 'esperanza',\n",
       " 'tormenta',\n",
       " 'enorme',\n",
       " 'única',\n",
       " 'caballo',\n",
       " 'estancia',\n",
       " 'haedo',\n",
       " 'volvía',\n",
       " '84',\n",
       " 'escrito',\n",
       " 'alto',\n",
       " 'cuando',\n",
       " 'condición',\n",
       " 'ustedes',\n",
       " 'volumen',\n",
       " 'pobre',\n",
       " 'duda',\n",
       " 'tengo',\n",
       " 'sobre',\n",
       " 'derecho',\n",
       " 'parece',\n",
       " 'antiguo',\n",
       " 'casa',\n",
       " 'ventana',\n",
       " 'oí',\n",
       " 'muchacho',\n",
       " 'buena',\n",
       " 'noticia',\n",
       " 'diccionario',\n",
       " 'recordaba',\n",
       " 'esos',\n",
       " 'arribo',\n",
       " 'rancho',\n",
       " 'plinio',\n",
       " 'quicherat',\n",
       " 'valija',\n",
       " 'aquel',\n",
       " 'alguna',\n",
       " 'inmóvil',\n",
       " 'punto',\n",
       " 'hecho',\n",
       " 'tullido',\n",
       " 'catorce',\n",
       " 'natural',\n",
       " 'madre',\n",
       " 'inglés',\n",
       " 'pueblo',\n",
       " 'hora',\n",
       " 'deseo',\n",
       " 'cierto',\n",
       " 'quien',\n",
       " 'si',\n",
       " 'burlona',\n",
       " 'horas',\n",
       " 'rota',\n",
       " 'estrecha',\n",
       " 'decía',\n",
       " 'parra',\n",
       " 'inútil',\n",
       " 'pensar',\n",
       " 'decir',\n",
       " 'tuviera',\n",
       " 'conciencia',\n",
       " 'muerte',\n",
       " 'discernía',\n",
       " 'demasiado',\n",
       " 'casas',\n",
       " 'sino',\n",
       " 'físico',\n",
       " 'idioma',\n",
       " 'indiferente',\n",
       " 'saber',\n",
       " 'planchadora',\n",
       " 'hijo',\n",
       " 'agregó',\n",
       " 'reloj',\n",
       " 'perfil',\n",
       " 'orgullo',\n",
       " 'siempre',\n",
       " 'darse',\n",
       " 'réplica',\n",
       " 'local',\n",
       " 'rarezas',\n",
       " 'algunas',\n",
       " 'frente',\n",
       " 'mentado',\n",
       " 'mostrarse',\n",
       " 'cuarto',\n",
       " 'tripartita',\n",
       " 'molestaba',\n",
       " 'clementina',\n",
       " 'maría',\n",
       " 'diversos',\n",
       " 'volví',\n",
       " '87',\n",
       " 'montevideo',\n",
       " 'ciudad',\n",
       " 'veraneamos',\n",
       " '86',\n",
       " '85',\n",
       " 'dispares',\n",
       " 'laureles',\n",
       " 'quinta',\n",
       " 'vuelta',\n",
       " 'vivía',\n",
       " 'estimulaban',\n",
       " 'salto',\n",
       " 'departamento',\n",
       " 'rastreador',\n",
       " 'domador',\n",
       " 'tamaños',\n",
       " 'connor',\n",
       " 'diversa',\n",
       " 'saladero',\n",
       " 'médico',\n",
       " 'decían',\n",
       " 'algunos',\n",
       " 'propia',\n",
       " 'contrario',\n",
       " 'espejo',\n",
       " 'tranquilos',\n",
       " 'gritó',\n",
       " 'continuamente',\n",
       " 'límites',\n",
       " 'nubarrón',\n",
       " 'contra',\n",
       " 'rostro',\n",
       " 'duro',\n",
       " 'alpargatas',\n",
       " 'bombacha',\n",
       " 'pared',\n",
       " 'vereda',\n",
       " 'avances',\n",
       " 'recalcado',\n",
       " 'corrupción',\n",
       " 'corría',\n",
       " 'caries',\n",
       " 'fatiga',\n",
       " 'alcé',\n",
       " 'notaba',\n",
       " 'pasos',\n",
       " 'secretos',\n",
       " 'progresos',\n",
       " 'rápidos',\n",
       " 'solitario',\n",
       " 'imprevisiblemente',\n",
       " 'qué',\n",
       " 'minutero',\n",
       " 'movimiento',\n",
       " 'propias',\n",
       " 'individuos',\n",
       " 'atención',\n",
       " 'llamado',\n",
       " 'sorprendían',\n",
       " 'referir',\n",
       " 'acabo',\n",
       " 'refiere',\n",
       " 'distraído',\n",
       " 'swift',\n",
       " 'soy',\n",
       " 'emperador',\n",
       " 'aguda',\n",
       " 'juan',\n",
       " 'joven',\n",
       " 'ocho',\n",
       " 'minutos',\n",
       " 'cuatro',\n",
       " 'faltan',\n",
       " 'respondió',\n",
       " 'lilliput',\n",
       " 'detenerse',\n",
       " 'consultar',\n",
       " 'pregunté',\n",
       " 'cronométrico',\n",
       " 'conocidos',\n",
       " 'comentarios',\n",
       " 'módicas',\n",
       " 'revelan',\n",
       " 'excediendo',\n",
       " 'sigue',\n",
       " 'excedía',\n",
       " 'cierta',\n",
       " 'balbuciente',\n",
       " 'grandeza',\n",
       " 'impar',\n",
       " 'césar',\n",
       " 'julio',\n",
       " 'dejan',\n",
       " 'latinista',\n",
       " 'thesaurus',\n",
       " 'lhomond',\n",
       " 'illustribus',\n",
       " 'viris',\n",
       " 'incluía',\n",
       " 'vislumbrar',\n",
       " 'inferír',\n",
       " 'metódico',\n",
       " 'estudio',\n",
       " 'vertiginoso',\n",
       " 'olvidemos',\n",
       " 'virtudes',\n",
       " 'insensatos',\n",
       " 'finalmente',\n",
       " 'ceremoniosa',\n",
       " 'gregorio',\n",
       " 'don',\n",
       " 'servicios',\n",
       " 'gloriosos',\n",
       " 'ponderaba',\n",
       " '7',\n",
       " 'fugaz',\n",
       " 'desdichadamente',\n",
       " 'encuentro',\n",
       " 'nuestro',\n",
       " 'serie',\n",
       " 'florida',\n",
       " 'propala',\n",
       " 'carta',\n",
       " 'dirigió',\n",
       " 'anómalos',\n",
       " 'libros',\n",
       " 'catálogo',\n",
       " 'mental',\n",
       " 'enterarse',\n",
       " 'tardó',\n",
       " 'orillas',\n",
       " 'imágenes',\n",
       " 'chico',\n",
       " 'iniciado',\n",
       " 'vanagloria',\n",
       " 'incapaz',\n",
       " 'veníamos',\n",
       " 'movía',\n",
       " 'dijeron',\n",
       " 'anteriores',\n",
       " 'elementos',\n",
       " 'elaborado',\n",
       " 'sueño',\n",
       " 'mucho',\n",
       " 'boca',\n",
       " 'comprender',\n",
       " 'símbolo',\n",
       " 'andaba',\n",
       " 'genérico',\n",
       " 'santonina',\n",
       " 'produjo',\n",
       " 'abarcara',\n",
       " 'magia',\n",
       " 'incómoda',\n",
       " 'impresión',\n",
       " 'tantos',\n",
       " 'quedado',\n",
       " 'redomón',\n",
       " 'volteado',\n",
       " 'contestaron',\n",
       " 'oscurecido',\n",
       " 'costaba',\n",
       " 'puestos',\n",
       " 'higuera',\n",
       " 'platónicas',\n",
       " 'gajo',\n",
       " 'oloroso',\n",
       " 'contemplación',\n",
       " 'absorto',\n",
       " 'otra',\n",
       " 'cerrados',\n",
       " 'ideas',\n",
       " 'prisionero',\n",
       " 'eterno',\n",
       " 'recalcaba',\n",
       " 'burdamente',\n",
       " 'reja',\n",
       " 'atrás',\n",
       " 'fulminado',\n",
       " 'benéfico',\n",
       " 'simular',\n",
       " 'generales',\n",
       " 'soberbia',\n",
       " 'llevaba',\n",
       " 'sacaran',\n",
       " 'permitía',\n",
       " 'atardeceres',\n",
       " 'telaraña',\n",
       " 'lúcido',\n",
       " 'espectador',\n",
       " 'ladrillo',\n",
       " 'amarilla',\n",
       " 'portugués',\n",
       " 'orillero',\n",
       " 'nasal',\n",
       " 'resentida',\n",
       " 'pausada',\n",
       " 'sospecho',\n",
       " 'capaz',\n",
       " 'claramente',\n",
       " 'lacustre',\n",
       " 'paisaje',\n",
       " 'vago',\n",
       " 'estera',\n",
       " 'esfuerzo',\n",
       " 'diferencias',\n",
       " 'oriental',\n",
       " 'banda',\n",
       " 'armas',\n",
       " 'generalizar',\n",
       " 'mate',\n",
       " 'abstraer',\n",
       " 'cerca',\n",
       " 'trenzado',\n",
       " 'afiladas',\n",
       " 'abarrotado',\n",
       " 'francés',\n",
       " 'silbidos',\n",
       " 'altísimas',\n",
       " 'hechas',\n",
       " 'breve',\n",
       " 'acaso',\n",
       " 'será',\n",
       " 'testimonio',\n",
       " 'desconocidas',\n",
       " 'imaginaba',\n",
       " 'negras',\n",
       " 'escriban',\n",
       " 'trataron',\n",
       " 'aquellos',\n",
       " 'compactas',\n",
       " 'proyecto',\n",
       " 'italianos',\n",
       " 'feliz',\n",
       " 'homogénea',\n",
       " 'dirección',\n",
       " 'solía',\n",
       " '1887',\n",
       " 'última',\n",
       " 'imaginarse',\n",
       " 'mecido',\n",
       " 'anulado',\n",
       " 'corriente',\n",
       " 'aprendido',\n",
       " 'detalles',\n",
       " 'inmediatos',\n",
       " 'recelosa',\n",
       " 'murió',\n",
       " 'uno',\n",
       " 'gestos',\n",
       " 'tuvo',\n",
       " 'perduraría',\n",
       " 'implacable',\n",
       " 'entorpeció',\n",
       " 'multiplicar',\n",
       " 'ademanes',\n",
       " 'inútiles',\n",
       " 'sagrado',\n",
       " 'verbo',\n",
       " 'pronunciar',\n",
       " 'detrás',\n",
       " '1889',\n",
       " 'congestión',\n",
       " 'pulmonar',\n",
       " 'http',\n",
       " 'www',\n",
       " 'angelfire',\n",
       " 'com',\n",
       " 'borges',\n",
       " 'la2',\n",
       " 'memoriosojorge',\n",
       " 'pnascimento',\n",
       " 'pensé',\n",
       " 'pirámides',\n",
       " 'profecías',\n",
       " 'oscura',\n",
       " 'remota',\n",
       " 'singularmente',\n",
       " 'aindiada',\n",
       " 'taciturna',\n",
       " 'claridad',\n",
       " 'entera',\n",
       " 'vida',\n",
       " 'madrugada',\n",
       " 'entró',\n",
       " 'hablado',\n",
       " 'nacido',\n",
       " '1868',\n",
       " 'pareció',\n",
       " 'crepúsculo',\n",
       " 'monumental',\n",
       " 'mirara',\n",
       " 'aunque',\n",
       " 'bronce',\n",
       " 'egipto',\n",
       " 'anterior',\n",
       " 'viéndola',\n",
       " 'mano',\n",
       " 'pasionaria',\n",
       " 'nuevas',\n",
       " 'amanzanado',\n",
       " 'trecho',\n",
       " 'volvíamos',\n",
       " 'color',\n",
       " 'feroz',\n",
       " 'esplendor',\n",
       " 'bochornoso',\n",
       " 'imaginación',\n",
       " 'felicidad',\n",
       " 'circunstancia',\n",
       " 'torres',\n",
       " 'ésa',\n",
       " 'populosas',\n",
       " 'cantando',\n",
       " 'avenidas',\n",
       " 'distraerse',\n",
       " 'urgentes',\n",
       " 'sentido',\n",
       " 'calor',\n",
       " 'presión',\n",
       " 'realidad',\n",
       " 'infatigable',\n",
       " 'veranear',\n",
       " 'llevado',\n",
       " 'convergía',\n",
       " 'infeliz',\n",
       " 'arrabal',\n",
       " 'pizarra',\n",
       " 'escondido',\n",
       " 'abrumado',\n",
       " 'alentaba',\n",
       " 'veredas',\n",
       " 'finado',\n",
       " 'multiforme',\n",
       " 'ahondaba',\n",
       " 'instantáneo',\n",
       " 'entramos',\n",
       " 'carrera',\n",
       " 'intolerablemente',\n",
       " 'corrimos',\n",
       " 'elemental',\n",
       " 'agua',\n",
       " 'descampado',\n",
       " 'sorprendiera',\n",
       " 'preciso',\n",
       " 'babilonia',\n",
       " 'londres',\n",
       " 'nueva',\n",
       " 'árboles',\n",
       " 'enloquecían',\n",
       " 'york',\n",
       " 'han',\n",
       " 'sur',\n",
       " 'viento',\n",
       " 'sudamericano',\n",
       " 'espaldas',\n",
       " 'este',\n",
       " 'nuestra',\n",
       " 'suficiente',\n",
       " 'modo',\n",
       " 'importante',\n",
       " 'injuriosas',\n",
       " 'minucioso',\n",
       " 'porteño',\n",
       " 'cajetilla',\n",
       " 'literato',\n",
       " 'uruguayo',\n",
       " 'vivo',\n",
       " 'tema',\n",
       " 'uruguay',\n",
       " 'marzo',\n",
       " 'obligatorio',\n",
       " 'género',\n",
       " 'ditirambo',\n",
       " 'incurrir',\n",
       " 'impedirá',\n",
       " 'argentino',\n",
       " 'goce',\n",
       " 'deplorable',\n",
       " 'editarán',\n",
       " 'tormento',\n",
       " 'imparcial',\n",
       " 'consta',\n",
       " 'representaba',\n",
       " 'repito',\n",
       " 'desventuras',\n",
       " 'atardecer',\n",
       " 'veo',\n",
       " 'perspicuo',\n",
       " 'sombra',\n",
       " 'limitaciones',\n",
       " 'incurables',\n",
       " 'ciertas',\n",
       " 'figuraba',\n",
       " 'grieta',\n",
       " 'compadrito',\n",
       " 'moldura',\n",
       " 'hay',\n",
       " 'discuto',\n",
       " 'vernáculo',\n",
       " 'cimarrón',\n",
       " 'zarathustra',\n",
       " 'superhombres',\n",
       " 'precursor',\n",
       " 'precisas',\n",
       " 'rodeaban',\n",
       " 'ipuche',\n",
       " 'leandro',\n",
       " 'pedro',\n",
       " 'tío',\n",
       " 'jornada',\n",
       " 'infinito',\n",
       " 'rama',\n",
       " 'española',\n",
       " 'pasta',\n",
       " 'vetas',\n",
       " 'compararlas',\n",
       " 'pájaro',\n",
       " '1882',\n",
       " 'abril',\n",
       " '30',\n",
       " 'amanecer',\n",
       " 'australes',\n",
       " 'nubes',\n",
       " 'comprende',\n",
       " 'sintió',\n",
       " 'frutos',\n",
       " 'racimos',\n",
       " 'vástagos',\n",
       " 'mesa',\n",
       " 'copas',\n",
       " 'percibimos',\n",
       " 'vistazo',\n",
       " 'nosotros',\n",
       " 'infalibles',\n",
       " 'mínimo',\n",
       " 'precio',\n",
       " 'mirado',\n",
       " 'líneas',\n",
       " 'espuma',\n",
       " 'remo',\n",
       " 'requerido',\n",
       " 'reconstrucción',\n",
       " 'nunca',\n",
       " 'dudado',\n",
       " 'reprobó',\n",
       " 'reconstruido',\n",
       " 'reconstruir',\n",
       " 'etcétera',\n",
       " 'térmicas',\n",
       " 'musculares',\n",
       " 'sensaciones',\n",
       " 'ligada',\n",
       " 'visual',\n",
       " 'imagen',\n",
       " 'imposible',\n",
       " 'simples',\n",
       " 'cosa',\n",
       " 'quebracho',\n",
       " 'acción',\n",
       " 'víspera',\n",
       " 'individual',\n",
       " 'piedra',\n",
       " 'levantó',\n",
       " 'inmovilidad',\n",
       " 'razonó',\n",
       " 'habrán',\n",
       " 'análogo',\n",
       " 'recordarle',\n",
       " 'proyectó',\n",
       " 'desmemoriado',\n",
       " 'abombado',\n",
       " 'sordo',\n",
       " 'ciego',\n",
       " 'cristianos',\n",
       " 'sido',\n",
       " 'azulejo',\n",
       " 'volteó',\n",
       " 'lluviosa',\n",
       " 'antes',\n",
       " 'interesó',\n",
       " 'maravillaran',\n",
       " 'tales',\n",
       " 'maravilló',\n",
       " 'fe',\n",
       " 'evidente',\n",
       " 'desechó',\n",
       " 'escuchado',\n",
       " 'fidelidad',\n",
       " 'repetir',\n",
       " 'arte',\n",
       " 'profesaba',\n",
       " 'propio',\n",
       " 'exacta',\n",
       " 'nombres',\n",
       " 'propios',\n",
       " 'apenas',\n",
       " 'averiguó',\n",
       " 'poco',\n",
       " 'triviales',\n",
       " 'antiguas',\n",
       " 'memorias',\n",
       " 'nítido',\n",
       " 'rico',\n",
       " 'intolerable',\n",
       " 'presente',\n",
       " 'recobró',\n",
       " 'conocimiento',\n",
       " 'perdió',\n",
       " 'caer',\n",
       " 'olvidaba',\n",
       " 'oír',\n",
       " 'oía',\n",
       " 'ver',\n",
       " 'miraba',\n",
       " 'sueña',\n",
       " 'vivido',\n",
       " 'caso',\n",
       " 'hizo',\n",
       " 'postuló',\n",
       " 'tenido',\n",
       " 'mnemotecnia',\n",
       " 'fue',\n",
       " 'centenas',\n",
       " 'disparatado',\n",
       " 'seis',\n",
       " 'aplicó',\n",
       " 'decenas',\n",
       " 'cinco',\n",
       " 'signos',\n",
       " 'requirieran',\n",
       " 'orientales',\n",
       " 'treinta',\n",
       " 'desagrado',\n",
       " 'estímulo',\n",
       " 'seguía',\n",
       " 'borrársele',\n",
       " 'pensado',\n",
       " 'unidades',\n",
       " 'veinticuatro',\n",
       " 'rebasado',\n",
       " 'días',\n",
       " 'pocos',\n",
       " 'análisis',\n",
       " 'existe',\n",
       " 'discurrido',\n",
       " '1886',\n",
       " '365',\n",
       " 'trece',\n",
       " 'ejemplo',\n",
       " 'máximo',\n",
       " 'inconexas',\n",
       " 'voces',\n",
       " 'rapsodia',\n",
       " 'explicarle',\n",
       " 'complicadas',\n",
       " 'marca',\n",
       " 'particular',\n",
       " 'nueve',\n",
       " 'quinientos',\n",
       " 'vedía',\n",
       " 'agustín',\n",
       " 'napoléon',\n",
       " 'caldera',\n",
       " 'gas',\n",
       " 'ballena',\n",
       " 'bastos',\n",
       " 'azufre',\n",
       " 'olimar',\n",
       " 'lafinur',\n",
       " 'melián',\n",
       " 'ferrocarril',\n",
       " 'dije',\n",
       " 'pérez',\n",
       " 'hablando',\n",
       " 'sabrá',\n",
       " 'xvii',\n",
       " 'intuir',\n",
       " 'innumerable',\n",
       " 'cambiante',\n",
       " 'fuego',\n",
       " 'cuchilla',\n",
       " 'ganado',\n",
       " 'punta',\n",
       " 'potro',\n",
       " 'crines',\n",
       " 'aborrascadas',\n",
       " 'pasaba',\n",
       " 'plenamente',\n",
       " 'podemos',\n",
       " 'timoteo',\n",
       " 'rombo',\n",
       " 'rectángulo',\n",
       " 'triángulo',\n",
       " 'pizarrón',\n",
       " 'circunferencia',\n",
       " 'basuras',\n",
       " 'vaciadero',\n",
       " 'señor',\n",
       " 'entenderme',\n",
       " 'vigilia',\n",
       " 'locke',\n",
       " 'ceniza',\n",
       " 'caras',\n",
       " 'largo',\n",
       " 'velorio',\n",
       " 'hará',\n",
       " 'temprano',\n",
       " 'inmortales',\n",
       " 'somos',\n",
       " 'profundamente',\n",
       " 'sabemos',\n",
       " 'postergable',\n",
       " 'postergando',\n",
       " 'vivimos',\n",
       " 'experimento',\n",
       " 'hiciera',\n",
       " 'increíble',\n",
       " 'inverosímil',\n",
       " 'manta',\n",
       " 'fonógrafos',\n",
       " 'cinematógrafos',\n",
       " 'puesto',\n",
       " 'carne',\n",
       " 'entendió',\n",
       " 'quiso',\n",
       " 'veía',\n",
       " 'estrellas',\n",
       " 'cuántas',\n",
       " 'metrodoro',\n",
       " 'inventor',\n",
       " 'prestado',\n",
       " 'ser',\n",
       " 'consideraciones',\n",
       " 'dramatizar',\n",
       " 'tentación',\n",
       " 'adverbio',\n",
       " 'perentorio',\n",
       " 'negativa',\n",
       " 'contradicción',\n",
       " 'comunicar',\n",
       " 'urgente',\n",
       " 'tarea',\n",
       " 'destinatario',\n",
       " 'prestigio',\n",
       " 'ad',\n",
       " 'perdone',\n",
       " 'dios',\n",
       " 'bien',\n",
       " 'nada',\n",
       " 'interminable',\n",
       " 'volviera',\n",
       " 'aires',\n",
       " 'buenos',\n",
       " 'telegrafiaron',\n",
       " '14',\n",
       " 'obra',\n",
       " 'fingiendo',\n",
       " 'viril',\n",
       " 'estoicismo',\n",
       " 'distrajeron',\n",
       " 'pasarse',\n",
       " 'definiría',\n",
       " 'oscuras',\n",
       " 'encontrarla',\n",
       " 'extrañara',\n",
       " 'cifras',\n",
       " 'recibió',\n",
       " 'decente',\n",
       " 'pesada',\n",
       " 'fuera',\n",
       " 'asombró',\n",
       " 'encaminé',\n",
       " 'cenar',\n",
       " 'disuadieron',\n",
       " 'mañana',\n",
       " 'siguiente',\n",
       " 'zarpaba',\n",
       " 'saturno',\n",
       " 'tomo',\n",
       " 'faltaban',\n",
       " 'noté',\n",
       " 'hacer',\n",
       " 'posibilidad',\n",
       " 'parnassum',\n",
       " 'mandé',\n",
       " 'encender',\n",
       " 'texto',\n",
       " 'perfecta',\n",
       " 'letra',\n",
       " 'clasificar',\n",
       " 'estado',\n",
       " 'buen',\n",
       " 'devolverlos',\n",
       " 'prometía',\n",
       " 'ignoro',\n",
       " 'todavía',\n",
       " 'niñez',\n",
       " 'proyectos',\n",
       " 'inteligencia',\n",
       " 'plenitud',\n",
       " 'indicado',\n",
       " 'vocabulario',\n",
       " 'acompañado',\n",
       " 'volúmenes',\n",
       " 'cualquiera',\n",
       " 'préstamo',\n",
       " 'solicitaba',\n",
       " 'ituzaingó',\n",
       " 'precisamente',\n",
       " 'valerosa',\n",
       " 'patrias',\n",
       " 'perfilada',\n",
       " 'ortografía',\n",
       " 'tipo',\n",
       " 'andrés',\n",
       " 'desengañarlo',\n",
       " 'instrumento',\n",
       " 'requería',\n",
       " 'arduo',\n",
       " 'idea',\n",
       " 'estupidez',\n",
       " 'ignorancia',\n",
       " 'descaro',\n",
       " 'atribuir',\n",
       " 'pensó',\n",
       " 'habría',\n",
       " 'aseguraron',\n",
       " 'primos',\n",
       " 'broma',\n",
       " 'naturalmente',\n",
       " ...]"
      ]
     },
     "execution_count": 6,
     "metadata": {},
     "output_type": "execute_result"
    }
   ],
   "source": [
    "model.wv.index_to_key"
   ]
  },
  {
   "cell_type": "code",
   "execution_count": 7,
   "metadata": {},
   "outputs": [],
   "source": [
    "# Esto nos devuelve los embeddings de todas las frases. Una lista con todas las palabras al monton, sin estar separadas por frases\n",
    "# embedding = model.wv.vectors"
   ]
  },
  {
   "cell_type": "code",
   "execution_count": 20,
   "metadata": {},
   "outputs": [
    {
     "data": {
      "text/plain": [
       "(1119, 10)"
      ]
     },
     "execution_count": 20,
     "metadata": {},
     "output_type": "execute_result"
    }
   ],
   "source": [
    "# embedding.shape"
   ]
  },
  {
   "cell_type": "code",
   "execution_count": 8,
   "metadata": {},
   "outputs": [],
   "source": [
    "#from scipy.spatial import distance\n",
    "\n",
    "\n",
    "#cosine_dist =  distance.cosine(embedding2,embedding3)\n",
    "#print(cosine_dist)"
   ]
  },
  {
   "cell_type": "code",
   "execution_count": 9,
   "metadata": {},
   "outputs": [
    {
     "name": "stdout",
     "output_type": "stream",
     "text": [
      "0.6999336779117584\n"
     ]
    }
   ],
   "source": [
    "# from scipy.spatial import distance\n",
    "\n",
    "# # Da la distancia del coseno para calcular con los dos arrays de los tokens \n",
    "# # Se cogen dos valores de los embeddings para calcular la relacion que hay entre ellos\n",
    "# cosine_dist = distance.cosine(embedding[1100],embedding[2])\n",
    "# print(cosine_dist)"
   ]
  },
  {
   "cell_type": "code",
   "execution_count": 10,
   "metadata": {},
   "outputs": [],
   "source": [
    "import pandas as pd\n",
    "from sklearn.decomposition import PCA\n",
    "\n",
    "# Realizamos un pca para reducir la dimensionalidad del array\n",
    "pca = PCA(n_components=2)\n",
    "X_reduced = pca.fit_transform(pd.DataFrame(embedding))"
   ]
  },
  {
   "cell_type": "code",
   "execution_count": 11,
   "metadata": {},
   "outputs": [
    {
     "data": {
      "text/plain": [
       "(1119, 2)"
      ]
     },
     "execution_count": 11,
     "metadata": {},
     "output_type": "execute_result"
    }
   ],
   "source": [
    "X_reduced.shape"
   ]
  },
  {
   "cell_type": "code",
   "execution_count": 12,
   "metadata": {},
   "outputs": [],
   "source": [
    "words = list(model.wv.index_to_key)"
   ]
  },
  {
   "cell_type": "code",
   "execution_count": 13,
   "metadata": {},
   "outputs": [
    {
     "data": {
      "image/png": "[encoded data removed]",
      "text/plain": [
       "<Figure size 640x480 with 1 Axes>"
      ]
     },
     "metadata": {},
     "output_type": "display_data"
    }
   ],
   "source": [
    "from matplotlib import pyplot as plt\n",
    "\n",
    "# Cojemos todo de la primera columna para las y y todo de la segunda para las x\n",
    "# x = X_reduced[:,0]\n",
    "# y = X_reduced[:,1]\n",
    "\n",
    "plt.scatter(X_reduced[:,0],X_reduced[:,1])\n",
    "\n",
    "for x in range(len(X_reduced)):\n",
    "    plt.text(X_reduced[x,0],X_reduced[x,1],words[x])"
   ]
  },
  {
   "cell_type": "code",
   "execution_count": 14,
   "metadata": {},
   "outputs": [
    {
     "data": {
      "application/vnd.plotly.v1+json": {
       "config": {
        "plotlyServerURL": "https://plot.ly"
       },
       "data": [
        {
         "hovertemplate": "color=de<br>x=%{x}<br>y=%{y}<br>z=%{z}<br>text=%{text}<extra></extra>",
         "legendgroup": "de",
         "marker": {
          "color": "#636efa",
          "symbol": "circle"
         },
         "mode": "markers+text",
         "name": "de",
         "scene": "scene",
         "showlegend": true,
         "text": [
          "de"
         ],
         "type": "scatter3d",
         "x": [
          0.25666293501853943
         ],
         "y": [
          0.07962026447057724
         ],
         "z": [
          "de"
         ]
        },
        {
         "hovertemplate": "color=la<br>x=%{x}<br>y=%{y}<br>z=%{z}<br>text=%{text}<extra></extra>",
         "legendgroup": "la",
         "marker": {
          "color": "#EF553B",
          "symbol": "circle"
         },
         "mode": "markers+text",
         "name": "la",
         "scene": "scene",
         "showlegend": true,
         "text": [
          "la"
         ],
         "type": "scatter3d",
         "x": [
          0.206242635846138
         ],
         "y": [
          0.07312493771314621
         ],
         "z": [
          "la"
         ]
        },
        {
         "hovertemplate": "color=el<br>x=%{x}<br>y=%{y}<br>z=%{z}<br>text=%{text}<extra></extra>",
         "legendgroup": "el",
         "marker": {
          "color": "#00cc96",
          "symbol": "circle"
         },
         "mode": "markers+text",
         "name": "el",
         "scene": "scene",
         "showlegend": true,
         "text": [
          "el"
         ],
         "type": "scatter3d",
         "x": [
          0.1723010092973709
         ],
         "y": [
          0.1606273055076599
         ],
         "z": [
          "el"
         ]
        },
        {
         "hovertemplate": "color=que<br>x=%{x}<br>y=%{y}<br>z=%{z}<br>text=%{text}<extra></extra>",
         "legendgroup": "que",
         "marker": {
          "color": "#ab63fa",
          "symbol": "circle"
         },
         "mode": "markers+text",
         "name": "que",
         "scene": "scene",
         "showlegend": true,
         "text": [
          "que"
         ],
         "type": "scatter3d",
         "x": [
          0.15656337141990662
         ],
         "y": [
          0.11686999350786209
         ],
         "z": [
          "que"
         ]
        },
        {
         "hovertemplate": "color=en<br>x=%{x}<br>y=%{y}<br>z=%{z}<br>text=%{text}<extra></extra>",
         "legendgroup": "en",
         "marker": {
          "color": "#FFA15A",
          "symbol": "circle"
         },
         "mode": "markers+text",
         "name": "en",
         "scene": "scene",
         "showlegend": true,
         "text": [
          "en"
         ],
         "type": "scatter3d",
         "x": [
          -0.08074072003364563
         ],
         "y": [
          0.0346115306019783
         ],
         "z": [
          "en"
         ]
        },
        {
         "hovertemplate": "color=y<br>x=%{x}<br>y=%{y}<br>z=%{z}<br>text=%{text}<extra></extra>",
         "legendgroup": "y",
         "marker": {
          "color": "#19d3f3",
          "symbol": "circle"
         },
         "mode": "markers+text",
         "name": "y",
         "scene": "scene",
         "showlegend": true,
         "text": [
          "y"
         ],
         "type": "scatter3d",
         "x": [
          0.047288600355386734
         ],
         "y": [
          0.05459526553750038
         ],
         "z": [
          "y"
         ]
        },
        {
         "hovertemplate": "color=un<br>x=%{x}<br>y=%{y}<br>z=%{z}<br>text=%{text}<extra></extra>",
         "legendgroup": "un",
         "marker": {
          "color": "#FF6692",
          "symbol": "circle"
         },
         "mode": "markers+text",
         "name": "un",
         "scene": "scene",
         "showlegend": true,
         "text": [
          "un"
         ],
         "type": "scatter3d",
         "x": [
          0.053727246820926666
         ],
         "y": [
          0.07986641675233841
         ],
         "z": [
          "un"
         ]
        },
        {
         "hovertemplate": "color=no<br>x=%{x}<br>y=%{y}<br>z=%{z}<br>text=%{text}<extra></extra>",
         "legendgroup": "no",
         "marker": {
          "color": "#B6E880",
          "symbol": "circle"
         },
         "mode": "markers+text",
         "name": "no",
         "scene": "scene",
         "showlegend": true,
         "text": [
          "no"
         ],
         "type": "scatter3d",
         "x": [
          0.11075515300035477
         ],
         "y": [
          0.20525309443473816
         ],
         "z": [
          "no"
         ]
        },
        {
         "hovertemplate": "color=me<br>x=%{x}<br>y=%{y}<br>z=%{z}<br>text=%{text}<extra></extra>",
         "legendgroup": "me",
         "marker": {
          "color": "#FF97FF",
          "symbol": "circle"
         },
         "mode": "markers+text",
         "name": "me",
         "scene": "scene",
         "showlegend": true,
         "text": [
          "me"
         ],
         "type": "scatter3d",
         "x": [
          0.13796675205230713
         ],
         "y": [
          -0.052989132702350616
         ],
         "z": [
          "me"
         ]
        },
        {
         "hovertemplate": "color=los<br>x=%{x}<br>y=%{y}<br>z=%{z}<br>text=%{text}<extra></extra>",
         "legendgroup": "los",
         "marker": {
          "color": "#FECB52",
          "symbol": "circle"
         },
         "mode": "markers+text",
         "name": "los",
         "scene": "scene",
         "showlegend": true,
         "text": [
          "los"
         ],
         "type": "scatter3d",
         "x": [
          0.01741250976920128
         ],
         "y": [
          0.007126505486667156
         ],
         "z": [
          "los"
         ]
        },
        {
         "hovertemplate": "color=del<br>x=%{x}<br>y=%{y}<br>z=%{z}<br>text=%{text}<extra></extra>",
         "legendgroup": "del",
         "marker": {
          "color": "#636efa",
          "symbol": "circle"
         },
         "mode": "markers+text",
         "name": "del",
         "scene": "scene",
         "showlegend": true,
         "text": [
          "del"
         ],
         "type": "scatter3d",
         "x": [
          0.07297921180725098
         ],
         "y": [
          0.114173024892807
         ],
         "z": [
          "del"
         ]
        },
        {
         "hovertemplate": "color=las<br>x=%{x}<br>y=%{y}<br>z=%{z}<br>text=%{text}<extra></extra>",
         "legendgroup": "las",
         "marker": {
          "color": "#EF553B",
          "symbol": "circle"
         },
         "mode": "markers+text",
         "name": "las",
         "scene": "scene",
         "showlegend": true,
         "text": [
          "las"
         ],
         "type": "scatter3d",
         "x": [
          0.13962824642658234
         ],
         "y": [
          0.018345149233937263
         ],
         "z": [
          "las"
         ]
        },
        {
         "hovertemplate": "color=lo<br>x=%{x}<br>y=%{y}<br>z=%{z}<br>text=%{text}<extra></extra>",
         "legendgroup": "lo",
         "marker": {
          "color": "#00cc96",
          "symbol": "circle"
         },
         "mode": "markers+text",
         "name": "lo",
         "scene": "scene",
         "showlegend": true,
         "text": [
          "lo"
         ],
         "type": "scatter3d",
         "x": [
          0.03878115862607956
         ],
         "y": [
          0.06830237060785294
         ],
         "z": [
          "lo"
         ]
        },
        {
         "hovertemplate": "color=una<br>x=%{x}<br>y=%{y}<br>z=%{z}<br>text=%{text}<extra></extra>",
         "legendgroup": "una",
         "marker": {
          "color": "#ab63fa",
          "symbol": "circle"
         },
         "mode": "markers+text",
         "name": "una",
         "scene": "scene",
         "showlegend": true,
         "text": [
          "una"
         ],
         "type": "scatter3d",
         "x": [
          0.06194905564188957
         ],
         "y": [
          0.05817938223481178
         ],
         "z": [
          "una"
         ]
        },
        {
         "hovertemplate": "color=a<br>x=%{x}<br>y=%{y}<br>z=%{z}<br>text=%{text}<extra></extra>",
         "legendgroup": "a",
         "marker": {
          "color": "#FFA15A",
          "symbol": "circle"
         },
         "mode": "markers+text",
         "name": "a",
         "scene": "scene",
         "showlegend": true,
         "text": [
          "a"
         ],
         "type": "scatter3d",
         "x": [
          0.08652585744857788
         ],
         "y": [
          -0.0204246137291193
         ],
         "z": [
          "a"
         ]
        },
        {
         "hovertemplate": "color=había<br>x=%{x}<br>y=%{y}<br>z=%{z}<br>text=%{text}<extra></extra>",
         "legendgroup": "había",
         "marker": {
          "color": "#19d3f3",
          "symbol": "circle"
         },
         "mode": "markers+text",
         "name": "había",
         "scene": "scene",
         "showlegend": true,
         "text": [
          "había"
         ],
         "type": "scatter3d",
         "x": [
          0.1670711189508438
         ],
         "y": [
          -0.023812059313058853
         ],
         "z": [
          "había"
         ]
        },
        {
         "hovertemplate": "color=con<br>x=%{x}<br>y=%{y}<br>z=%{z}<br>text=%{text}<extra></extra>",
         "legendgroup": "con",
         "marker": {
          "color": "#FF6692",
          "symbol": "circle"
         },
         "mode": "markers+text",
         "name": "con",
         "scene": "scene",
         "showlegend": true,
         "text": [
          "con"
         ],
         "type": "scatter3d",
         "x": [
          -0.029894128441810608
         ],
         "y": [
          0.01962631195783615
         ],
         "z": [
          "con"
         ]
        },
        {
         "hovertemplate": "color=funes<br>x=%{x}<br>y=%{y}<br>z=%{z}<br>text=%{text}<extra></extra>",
         "legendgroup": "funes",
         "marker": {
          "color": "#B6E880",
          "symbol": "circle"
         },
         "mode": "markers+text",
         "name": "funes",
         "scene": "scene",
         "showlegend": true,
         "text": [
          "funes"
         ],
         "type": "scatter3d",
         "x": [
          0.03929993882775307
         ],
         "y": [
          -0.022243566811084747
         ],
         "z": [
          "funes"
         ]
        },
        {
         "hovertemplate": "color=era<br>x=%{x}<br>y=%{y}<br>z=%{z}<br>text=%{text}<extra></extra>",
         "legendgroup": "era",
         "marker": {
          "color": "#FF97FF",
          "symbol": "circle"
         },
         "mode": "markers+text",
         "name": "era",
         "scene": "scene",
         "showlegend": true,
         "text": [
          "era"
         ],
         "type": "scatter3d",
         "x": [
          -0.006556821521371603
         ],
         "y": [
          0.06866560131311417
         ],
         "z": [
          "era"
         ]
        },
        {
         "hovertemplate": "color=mi<br>x=%{x}<br>y=%{y}<br>z=%{z}<br>text=%{text}<extra></extra>",
         "legendgroup": "mi",
         "marker": {
          "color": "#FECB52",
          "symbol": "circle"
         },
         "mode": "markers+text",
         "name": "mi",
         "scene": "scene",
         "showlegend": true,
         "text": [
          "mi"
         ],
         "type": "scatter3d",
         "x": [
          0.11298662424087524
         ],
         "y": [
          0.03764188662171364
         ],
         "z": [
          "mi"
         ]
        },
        {
         "hovertemplate": "color=cada<br>x=%{x}<br>y=%{y}<br>z=%{z}<br>text=%{text}<extra></extra>",
         "legendgroup": "cada",
         "marker": {
          "color": "#636efa",
          "symbol": "circle"
         },
         "mode": "markers+text",
         "name": "cada",
         "scene": "scene",
         "showlegend": true,
         "text": [
          "cada"
         ],
         "type": "scatter3d",
         "x": [
          0.053823284804821014
         ],
         "y": [
          0.05969531089067459
         ],
         "z": [
          "cada"
         ]
        },
        {
         "hovertemplate": "color=por<br>x=%{x}<br>y=%{y}<br>z=%{z}<br>text=%{text}<extra></extra>",
         "legendgroup": "por",
         "marker": {
          "color": "#EF553B",
          "symbol": "circle"
         },
         "mode": "markers+text",
         "name": "por",
         "scene": "scene",
         "showlegend": true,
         "text": [
          "por"
         ],
         "type": "scatter3d",
         "x": [
          0.1335826814174652
         ],
         "y": [
          0.1338776797056198
         ],
         "z": [
          "por"
         ]
        },
        {
         "hovertemplate": "color=su<br>x=%{x}<br>y=%{y}<br>z=%{z}<br>text=%{text}<extra></extra>",
         "legendgroup": "su",
         "marker": {
          "color": "#00cc96",
          "symbol": "circle"
         },
         "mode": "markers+text",
         "name": "su",
         "scene": "scene",
         "showlegend": true,
         "text": [
          "su"
         ],
         "type": "scatter3d",
         "x": [
          0.05891473963856697
         ],
         "y": [
          0.12614361941814423
         ],
         "z": [
          "su"
         ]
        },
        {
         "hovertemplate": "color=o<br>x=%{x}<br>y=%{y}<br>z=%{z}<br>text=%{text}<extra></extra>",
         "legendgroup": "o",
         "marker": {
          "color": "#ab63fa",
          "symbol": "circle"
         },
         "mode": "markers+text",
         "name": "o",
         "scene": "scene",
         "showlegend": true,
         "text": [
          "o"
         ],
         "type": "scatter3d",
         "x": [
          0.04617302864789963
         ],
         "y": [
          -0.006094031967222691
         ],
         "z": [
          "o"
         ]
        },
        {
         "hovertemplate": "color=ireneo<br>x=%{x}<br>y=%{y}<br>z=%{z}<br>text=%{text}<extra></extra>",
         "legendgroup": "ireneo",
         "marker": {
          "color": "#FFA15A",
          "symbol": "circle"
         },
         "mode": "markers+text",
         "name": "ireneo",
         "scene": "scene",
         "showlegend": true,
         "text": [
          "ireneo"
         ],
         "type": "scatter3d",
         "x": [
          0.05911390855908394
         ],
         "y": [
          -0.0008626061608083546
         ],
         "z": [
          "ireneo"
         ]
        },
        {
         "hovertemplate": "color=sin<br>x=%{x}<br>y=%{y}<br>z=%{z}<br>text=%{text}<extra></extra>",
         "legendgroup": "sin",
         "marker": {
          "color": "#19d3f3",
          "symbol": "circle"
         },
         "mode": "markers+text",
         "name": "sin",
         "scene": "scene",
         "showlegend": true,
         "text": [
          "sin"
         ],
         "type": "scatter3d",
         "x": [
          0.039792079478502274
         ],
         "y": [
          0.03779687359929085
         ],
         "z": [
          "sin"
         ]
        },
        {
         "hovertemplate": "color=es<br>x=%{x}<br>y=%{y}<br>z=%{z}<br>text=%{text}<extra></extra>",
         "legendgroup": "es",
         "marker": {
          "color": "#FF6692",
          "symbol": "circle"
         },
         "mode": "markers+text",
         "name": "es",
         "scene": "scene",
         "showlegend": true,
         "text": [
          "es"
         ],
         "type": "scatter3d",
         "x": [
          0.19257238507270813
         ],
         "y": [
          -0.027413083240389824
         ],
         "z": [
          "es"
         ]
        },
        {
         "hovertemplate": "color=recuerdo<br>x=%{x}<br>y=%{y}<br>z=%{z}<br>text=%{text}<extra></extra>",
         "legendgroup": "recuerdo",
         "marker": {
          "color": "#B6E880",
          "symbol": "circle"
         },
         "mode": "markers+text",
         "name": "recuerdo",
         "scene": "scene",
         "showlegend": true,
         "text": [
          "recuerdo"
         ],
         "type": "scatter3d",
         "x": [
          0.13321782648563385
         ],
         "y": [
          0.03070518933236599
         ],
         "z": [
          "recuerdo"
         ]
        },
        {
         "hovertemplate": "color=más<br>x=%{x}<br>y=%{y}<br>z=%{z}<br>text=%{text}<extra></extra>",
         "legendgroup": "más",
         "marker": {
          "color": "#FF97FF",
          "symbol": "circle"
         },
         "mode": "markers+text",
         "name": "más",
         "scene": "scene",
         "showlegend": true,
         "text": [
          "más"
         ],
         "type": "scatter3d",
         "x": [
          -0.053967975080013275
         ],
         "y": [
          -0.02593798004090786
         ],
         "z": [
          "más"
         ]
        },
        {
         "hovertemplate": "color=como<br>x=%{x}<br>y=%{y}<br>z=%{z}<br>text=%{text}<extra></extra>",
         "legendgroup": "como",
         "marker": {
          "color": "#FECB52",
          "symbol": "circle"
         },
         "mode": "markers+text",
         "name": "como",
         "scene": "scene",
         "showlegend": true,
         "text": [
          "como"
         ],
         "type": "scatter3d",
         "x": [
          0.008614589460194111
         ],
         "y": [
          0.11379817873239517
         ],
         "z": [
          "como"
         ]
        },
        {
         "hovertemplate": "color=yo<br>x=%{x}<br>y=%{y}<br>z=%{z}<br>text=%{text}<extra></extra>",
         "legendgroup": "yo",
         "marker": {
          "color": "#636efa",
          "symbol": "circle"
         },
         "mode": "markers+text",
         "name": "yo",
         "scene": "scene",
         "showlegend": true,
         "text": [
          "yo"
         ],
         "type": "scatter3d",
         "x": [
          -0.03831671178340912
         ],
         "y": [
          0.13375501334667206
         ],
         "z": [
          "yo"
         ]
        },
        {
         "hovertemplate": "color=todos<br>x=%{x}<br>y=%{y}<br>z=%{z}<br>text=%{text}<extra></extra>",
         "legendgroup": "todos",
         "marker": {
          "color": "#EF553B",
          "symbol": "circle"
         },
         "mode": "markers+text",
         "name": "todos",
         "scene": "scene",
         "showlegend": true,
         "text": [
          "todos"
         ],
         "type": "scatter3d",
         "x": [
          0.12371381372213364
         ],
         "y": [
          0.10699068009853363
         ],
         "z": [
          "todos"
         ]
        },
        {
         "hovertemplate": "color=dijo<br>x=%{x}<br>y=%{y}<br>z=%{z}<br>text=%{text}<extra></extra>",
         "legendgroup": "dijo",
         "marker": {
          "color": "#00cc96",
          "symbol": "circle"
         },
         "mode": "markers+text",
         "name": "dijo",
         "scene": "scene",
         "showlegend": true,
         "text": [
          "dijo"
         ],
         "type": "scatter3d",
         "x": [
          0.14163681864738464
         ],
         "y": [
          -0.06547717750072479
         ],
         "z": [
          "dijo"
         ]
        },
        {
         "hovertemplate": "color=le<br>x=%{x}<br>y=%{y}<br>z=%{z}<br>text=%{text}<extra></extra>",
         "legendgroup": "le",
         "marker": {
          "color": "#ab63fa",
          "symbol": "circle"
         },
         "mode": "markers+text",
         "name": "le",
         "scene": "scene",
         "showlegend": true,
         "text": [
          "le"
         ],
         "type": "scatter3d",
         "x": [
          0.10750327259302139
         ],
         "y": [
          -0.010030788369476795
         ],
         "z": [
          "le"
         ]
        },
        {
         "hovertemplate": "color=voz<br>x=%{x}<br>y=%{y}<br>z=%{z}<br>text=%{text}<extra></extra>",
         "legendgroup": "voz",
         "marker": {
          "color": "#FFA15A",
          "symbol": "circle"
         },
         "mode": "markers+text",
         "name": "voz",
         "scene": "scene",
         "showlegend": true,
         "text": [
          "voz"
         ],
         "type": "scatter3d",
         "x": [
          0.06351575255393982
         ],
         "y": [
          0.08951062709093094
         ],
         "z": [
          "voz"
         ]
        },
        {
         "hovertemplate": "color=sus<br>x=%{x}<br>y=%{y}<br>z=%{z}<br>text=%{text}<extra></extra>",
         "legendgroup": "sus",
         "marker": {
          "color": "#19d3f3",
          "symbol": "circle"
         },
         "mode": "markers+text",
         "name": "sus",
         "scene": "scene",
         "showlegend": true,
         "text": [
          "sus"
         ],
         "type": "scatter3d",
         "x": [
          -0.0022832744289189577
         ],
         "y": [
          0.09484412521123886
         ],
         "z": [
          "sus"
         ]
        },
        {
         "hovertemplate": "color=se<br>x=%{x}<br>y=%{y}<br>z=%{z}<br>text=%{text}<extra></extra>",
         "legendgroup": "se",
         "marker": {
          "color": "#FF6692",
          "symbol": "circle"
         },
         "mode": "markers+text",
         "name": "se",
         "scene": "scene",
         "showlegend": true,
         "text": [
          "se"
         ],
         "type": "scatter3d",
         "x": [
          0.06069678068161011
         ],
         "y": [
          0.1458572894334793
         ],
         "z": [
          "se"
         ]
        },
        {
         "hovertemplate": "color=esa<br>x=%{x}<br>y=%{y}<br>z=%{z}<br>text=%{text}<extra></extra>",
         "legendgroup": "esa",
         "marker": {
          "color": "#B6E880",
          "symbol": "circle"
         },
         "mode": "markers+text",
         "name": "esa",
         "scene": "scene",
         "showlegend": true,
         "text": [
          "esa"
         ],
         "type": "scatter3d",
         "x": [
          0.0852871686220169
         ],
         "y": [
          -0.03434139862656593
         ],
         "z": [
          "esa"
         ]
        },
        {
         "hovertemplate": "color=día<br>x=%{x}<br>y=%{y}<br>z=%{z}<br>text=%{text}<extra></extra>",
         "legendgroup": "día",
         "marker": {
          "color": "#FF97FF",
          "symbol": "circle"
         },
         "mode": "markers+text",
         "name": "día",
         "scene": "scene",
         "showlegend": true,
         "text": [
          "día"
         ],
         "type": "scatter3d",
         "x": [
          0.09735812991857529
         ],
         "y": [
          0.10325147956609726
         ],
         "z": [
          "día"
         ]
        },
        {
         "hovertemplate": "color=vez<br>x=%{x}<br>y=%{y}<br>z=%{z}<br>text=%{text}<extra></extra>",
         "legendgroup": "vez",
         "marker": {
          "color": "#FECB52",
          "symbol": "circle"
         },
         "mode": "markers+text",
         "name": "vez",
         "scene": "scene",
         "showlegend": true,
         "text": [
          "vez"
         ],
         "type": "scatter3d",
         "x": [
          0.036838315427303314
         ],
         "y": [
          0.09362506121397018
         ],
         "z": [
          "vez"
         ]
        },
        {
         "hovertemplate": "color=tres<br>x=%{x}<br>y=%{y}<br>z=%{z}<br>text=%{text}<extra></extra>",
         "legendgroup": "tres",
         "marker": {
          "color": "#636efa",
          "symbol": "circle"
         },
         "mode": "markers+text",
         "name": "tres",
         "scene": "scene",
         "showlegend": true,
         "text": [
          "tres"
         ],
         "type": "scatter3d",
         "x": [
          -0.00013781912275590003
         ],
         "y": [
          0.01154355239123106
         ],
         "z": [
          "tres"
         ]
        },
        {
         "hovertemplate": "color=muy<br>x=%{x}<br>y=%{y}<br>z=%{z}<br>text=%{text}<extra></extra>",
         "legendgroup": "muy",
         "marker": {
          "color": "#EF553B",
          "symbol": "circle"
         },
         "mode": "markers+text",
         "name": "muy",
         "scene": "scene",
         "showlegend": true,
         "text": [
          "muy"
         ],
         "type": "scatter3d",
         "x": [
          -0.05980474501848221
         ],
         "y": [
          0.02406833879649639
         ],
         "z": [
          "muy"
         ]
        },
        {
         "hovertemplate": "color=dos<br>x=%{x}<br>y=%{y}<br>z=%{z}<br>text=%{text}<extra></extra>",
         "legendgroup": "dos",
         "marker": {
          "color": "#00cc96",
          "symbol": "circle"
         },
         "mode": "markers+text",
         "name": "dos",
         "scene": "scene",
         "showlegend": true,
         "text": [
          "dos"
         ],
         "type": "scatter3d",
         "x": [
          0.17627406120300293
         ],
         "y": [
          -0.031857024878263474
         ],
         "z": [
          "dos"
         ]
        },
        {
         "hovertemplate": "color=ese<br>x=%{x}<br>y=%{y}<br>z=%{z}<br>text=%{text}<extra></extra>",
         "legendgroup": "ese",
         "marker": {
          "color": "#ab63fa",
          "symbol": "circle"
         },
         "mode": "markers+text",
         "name": "ese",
         "scene": "scene",
         "showlegend": true,
         "text": [
          "ese"
         ],
         "type": "scatter3d",
         "x": [
          -0.004875001031905413
         ],
         "y": [
          0.1309221088886261
         ],
         "z": [
          "ese"
         ]
        },
        {
         "hovertemplate": "color=casi<br>x=%{x}<br>y=%{y}<br>z=%{z}<br>text=%{text}<extra></extra>",
         "legendgroup": "casi",
         "marker": {
          "color": "#FFA15A",
          "symbol": "circle"
         },
         "mode": "markers+text",
         "name": "casi",
         "scene": "scene",
         "showlegend": true,
         "text": [
          "casi"
         ],
         "type": "scatter3d",
         "x": [
          0.02392789162695408
         ],
         "y": [
          0.0315205343067646
         ],
         "z": [
          "casi"
         ]
        },
        {
         "hovertemplate": "color=noche<br>x=%{x}<br>y=%{y}<br>z=%{z}<br>text=%{text}<extra></extra>",
         "legendgroup": "noche",
         "marker": {
          "color": "#19d3f3",
          "symbol": "circle"
         },
         "mode": "markers+text",
         "name": "noche",
         "scene": "scene",
         "showlegend": true,
         "text": [
          "noche"
         ],
         "type": "scatter3d",
         "x": [
          0.014651888981461525
         ],
         "y": [
          0.05478868633508682
         ],
         "z": [
          "noche"
         ]
        },
        {
         "hovertemplate": "color=todo<br>x=%{x}<br>y=%{y}<br>z=%{z}<br>text=%{text}<extra></extra>",
         "legendgroup": "todo",
         "marker": {
          "color": "#FF6692",
          "symbol": "circle"
         },
         "mode": "markers+text",
         "name": "todo",
         "scene": "scene",
         "showlegend": true,
         "text": [
          "todo"
         ],
         "type": "scatter3d",
         "x": [
          0.1560031622648239
         ],
         "y": [
          0.005875800270587206
         ],
         "z": [
          "todo"
         ]
        },
        {
         "hovertemplate": "color=mundo<br>x=%{x}<br>y=%{y}<br>z=%{z}<br>text=%{text}<extra></extra>",
         "legendgroup": "mundo",
         "marker": {
          "color": "#B6E880",
          "symbol": "circle"
         },
         "mode": "markers+text",
         "name": "mundo",
         "scene": "scene",
         "showlegend": true,
         "text": [
          "mundo"
         ],
         "type": "scatter3d",
         "x": [
          -0.04889671131968498
         ],
         "y": [
          0.05695461109280586
         ],
         "z": [
          "mundo"
         ]
        },
        {
         "hovertemplate": "color=para<br>x=%{x}<br>y=%{y}<br>z=%{z}<br>text=%{text}<extra></extra>",
         "legendgroup": "para",
         "marker": {
          "color": "#FF97FF",
          "symbol": "circle"
         },
         "mode": "markers+text",
         "name": "para",
         "scene": "scene",
         "showlegend": true,
         "text": [
          "para"
         ],
         "type": "scatter3d",
         "x": [
          0.12783785164356232
         ],
         "y": [
          0.05005611106753349
         ],
         "z": [
          "para"
         ]
        },
        {
         "hovertemplate": "color=vi<br>x=%{x}<br>y=%{y}<br>z=%{z}<br>text=%{text}<extra></extra>",
         "legendgroup": "vi",
         "marker": {
          "color": "#FECB52",
          "symbol": "circle"
         },
         "mode": "markers+text",
         "name": "vi",
         "scene": "scene",
         "showlegend": true,
         "text": [
          "vi"
         ],
         "type": "scatter3d",
         "x": [
          0.07172989845275879
         ],
         "y": [
          0.07461481541395187
         ],
         "z": [
          "vi"
         ]
        },
        {
         "hovertemplate": "color=memoria<br>x=%{x}<br>y=%{y}<br>z=%{z}<br>text=%{text}<extra></extra>",
         "legendgroup": "memoria",
         "marker": {
          "color": "#636efa",
          "symbol": "circle"
         },
         "mode": "markers+text",
         "name": "memoria",
         "scene": "scene",
         "showlegend": true,
         "text": [
          "memoria"
         ],
         "type": "scatter3d",
         "x": [
          0.04730970039963722
         ],
         "y": [
          0.07956504821777344
         ],
         "z": [
          "memoria"
         ]
        },
        {
         "hovertemplate": "color=también<br>x=%{x}<br>y=%{y}<br>z=%{z}<br>text=%{text}<extra></extra>",
         "legendgroup": "también",
         "marker": {
          "color": "#EF553B",
          "symbol": "circle"
         },
         "mode": "markers+text",
         "name": "también",
         "scene": "scene",
         "showlegend": true,
         "text": [
          "también"
         ],
         "type": "scatter3d",
         "x": [
          -0.05925823003053665
         ],
         "y": [
          0.03984377160668373
         ],
         "z": [
          "también"
         ]
        },
        {
         "hovertemplate": "color=mis<br>x=%{x}<br>y=%{y}<br>z=%{z}<br>text=%{text}<extra></extra>",
         "legendgroup": "mis",
         "marker": {
          "color": "#00cc96",
          "symbol": "circle"
         },
         "mode": "markers+text",
         "name": "mis",
         "scene": "scene",
         "showlegend": true,
         "text": [
          "mis"
         ],
         "type": "scatter3d",
         "x": [
          0.058168310672044754
         ],
         "y": [
          -0.10644049197435379
         ],
         "z": [
          "mis"
         ]
        },
        {
         "hovertemplate": "color=al<br>x=%{x}<br>y=%{y}<br>z=%{z}<br>text=%{text}<extra></extra>",
         "legendgroup": "al",
         "marker": {
          "color": "#ab63fa",
          "symbol": "circle"
         },
         "mode": "markers+text",
         "name": "al",
         "scene": "scene",
         "showlegend": true,
         "text": [
          "al"
         ],
         "type": "scatter3d",
         "x": [
          0.04178983345627785
         ],
         "y": [
          0.05041361227631569
         ],
         "z": [
          "al"
         ]
        },
        {
         "hovertemplate": "color=latín<br>x=%{x}<br>y=%{y}<br>z=%{z}<br>text=%{text}<extra></extra>",
         "legendgroup": "latín",
         "marker": {
          "color": "#FFA15A",
          "symbol": "circle"
         },
         "mode": "markers+text",
         "name": "latín",
         "scene": "scene",
         "showlegend": true,
         "text": [
          "latín"
         ],
         "type": "scatter3d",
         "x": [
          0.03939003869891167
         ],
         "y": [
          0.04256868362426758
         ],
         "z": [
          "latín"
         ]
        },
        {
         "hovertemplate": "color=pero<br>x=%{x}<br>y=%{y}<br>z=%{z}<br>text=%{text}<extra></extra>",
         "legendgroup": "pero",
         "marker": {
          "color": "#19d3f3",
          "symbol": "circle"
         },
         "mode": "markers+text",
         "name": "pero",
         "scene": "scene",
         "showlegend": true,
         "text": [
          "pero"
         ],
         "type": "scatter3d",
         "x": [
          0.21866707503795624
         ],
         "y": [
          -0.05288143455982208
         ],
         "z": [
          "pero"
         ]
        },
        {
         "hovertemplate": "color=estaba<br>x=%{x}<br>y=%{y}<br>z=%{z}<br>text=%{text}<extra></extra>",
         "legendgroup": "estaba",
         "marker": {
          "color": "#FF6692",
          "symbol": "circle"
         },
         "mode": "markers+text",
         "name": "estaba",
         "scene": "scene",
         "showlegend": true,
         "text": [
          "estaba"
         ],
         "type": "scatter3d",
         "x": [
          0.11415961384773254
         ],
         "y": [
          0.13485893607139587
         ],
         "z": [
          "estaba"
         ]
        },
        {
         "hovertemplate": "color=después<br>x=%{x}<br>y=%{y}<br>z=%{z}<br>text=%{text}<extra></extra>",
         "legendgroup": "después",
         "marker": {
          "color": "#B6E880",
          "symbol": "circle"
         },
         "mode": "markers+text",
         "name": "después",
         "scene": "scene",
         "showlegend": true,
         "text": [
          "después"
         ],
         "type": "scatter3d",
         "x": [
          0.008763071149587631
         ],
         "y": [
          -0.05501807481050491
         ],
         "z": [
          "después"
         ]
        },
        {
         "hovertemplate": "color=palabras<br>x=%{x}<br>y=%{y}<br>z=%{z}<br>text=%{text}<extra></extra>",
         "legendgroup": "palabras",
         "marker": {
          "color": "#FF97FF",
          "symbol": "circle"
         },
         "mode": "markers+text",
         "name": "palabras",
         "scene": "scene",
         "showlegend": true,
         "text": [
          "palabras"
         ],
         "type": "scatter3d",
         "x": [
          0.04272816330194473
         ],
         "y": [
          0.07812300324440002
         ],
         "z": [
          "palabras"
         ]
        },
        {
         "hovertemplate": "color=ya<br>x=%{x}<br>y=%{y}<br>z=%{z}<br>text=%{text}<extra></extra>",
         "legendgroup": "ya",
         "marker": {
          "color": "#FECB52",
          "symbol": "circle"
         },
         "mode": "markers+text",
         "name": "ya",
         "scene": "scene",
         "showlegend": true,
         "text": [
          "ya"
         ],
         "type": "scatter3d",
         "x": [
          -0.047018010169267654
         ],
         "y": [
          0.0855642631649971
         ],
         "z": [
          "ya"
         ]
        },
        {
         "hovertemplate": "color=lugar<br>x=%{x}<br>y=%{y}<br>z=%{z}<br>text=%{text}<extra></extra>",
         "legendgroup": "lugar",
         "marker": {
          "color": "#636efa",
          "symbol": "circle"
         },
         "mode": "markers+text",
         "name": "lugar",
         "scene": "scene",
         "showlegend": true,
         "text": [
          "lugar"
         ],
         "type": "scatter3d",
         "x": [
          0.10786328464746475
         ],
         "y": [
          0.021674422547221184
         ],
         "z": [
          "lugar"
         ]
        },
        {
         "hovertemplate": "color=historia<br>x=%{x}<br>y=%{y}<br>z=%{z}<br>text=%{text}<extra></extra>",
         "legendgroup": "historia",
         "marker": {
          "color": "#EF553B",
          "symbol": "circle"
         },
         "mode": "markers+text",
         "name": "historia",
         "scene": "scene",
         "showlegend": true,
         "text": [
          "historia"
         ],
         "type": "scatter3d",
         "x": [
          0.11156117171049118
         ],
         "y": [
          0.026845913380384445
         ],
         "z": [
          "historia"
         ]
        },
        {
         "hovertemplate": "color=son<br>x=%{x}<br>y=%{y}<br>z=%{z}<br>text=%{text}<extra></extra>",
         "legendgroup": "son",
         "marker": {
          "color": "#00cc96",
          "symbol": "circle"
         },
         "mode": "markers+text",
         "name": "son",
         "scene": "scene",
         "showlegend": true,
         "text": [
          "son"
         ],
         "type": "scatter3d",
         "x": [
          0.05885683000087738
         ],
         "y": [
          -0.0042665028013288975
         ],
         "z": [
          "son"
         ]
        },
        {
         "hovertemplate": "color=recuerdos<br>x=%{x}<br>y=%{y}<br>z=%{z}<br>text=%{text}<extra></extra>",
         "legendgroup": "recuerdos",
         "marker": {
          "color": "#ab63fa",
          "symbol": "circle"
         },
         "mode": "markers+text",
         "name": "recuerdos",
         "scene": "scene",
         "showlegend": true,
         "text": [
          "recuerdos"
         ],
         "type": "scatter3d",
         "x": [
          0.0376216322183609
         ],
         "y": [
          -0.0020904187113046646
         ],
         "z": [
          "recuerdos"
         ]
        },
        {
         "hovertemplate": "color=cara<br>x=%{x}<br>y=%{y}<br>z=%{z}<br>text=%{text}<extra></extra>",
         "legendgroup": "cara",
         "marker": {
          "color": "#FFA15A",
          "symbol": "circle"
         },
         "mode": "markers+text",
         "name": "cara",
         "scene": "scene",
         "showlegend": true,
         "text": [
          "cara"
         ],
         "type": "scatter3d",
         "x": [
          0.055217333137989044
         ],
         "y": [
          0.00657536368817091
         ],
         "z": [
          "cara"
         ]
        },
        {
         "hovertemplate": "color=eran<br>x=%{x}<br>y=%{y}<br>z=%{z}<br>text=%{text}<extra></extra>",
         "legendgroup": "eran",
         "marker": {
          "color": "#19d3f3",
          "symbol": "circle"
         },
         "mode": "markers+text",
         "name": "eran",
         "scene": "scene",
         "showlegend": true,
         "text": [
          "eran"
         ],
         "type": "scatter3d",
         "x": [
          0.057529907673597336
         ],
         "y": [
          -0.02703944221138954
         ],
         "z": [
          "eran"
         ]
        },
        {
         "hovertemplate": "color=tan<br>x=%{x}<br>y=%{y}<br>z=%{z}<br>text=%{text}<extra></extra>",
         "legendgroup": "tan",
         "marker": {
          "color": "#FF6692",
          "symbol": "circle"
         },
         "mode": "markers+text",
         "name": "tan",
         "scene": "scene",
         "showlegend": true,
         "text": [
          "tan"
         ],
         "type": "scatter3d",
         "x": [
          0.07086914032697678
         ],
         "y": [
          -0.042049940675497055
         ],
         "z": [
          "tan"
         ]
        },
        {
         "hovertemplate": "color=tenía<br>x=%{x}<br>y=%{y}<br>z=%{z}<br>text=%{text}<extra></extra>",
         "legendgroup": "tenía",
         "marker": {
          "color": "#B6E880",
          "symbol": "circle"
         },
         "mode": "markers+text",
         "name": "tenía",
         "scene": "scene",
         "showlegend": true,
         "text": [
          "tenía"
         ],
         "type": "scatter3d",
         "x": [
          0.015656860545277596
         ],
         "y": [
          0.05070691928267479
         ],
         "z": [
          "tenía"
         ]
        },
        {
         "hovertemplate": "color=creo<br>x=%{x}<br>y=%{y}<br>z=%{z}<br>text=%{text}<extra></extra>",
         "legendgroup": "creo",
         "marker": {
          "color": "#FF97FF",
          "symbol": "circle"
         },
         "mode": "markers+text",
         "name": "creo",
         "scene": "scene",
         "showlegend": true,
         "text": [
          "creo"
         ],
         "type": "scatter3d",
         "x": [
          0.11046702414751053
         ],
         "y": [
          0.003054827218875289
         ],
         "z": [
          "creo"
         ]
        },
        {
         "hovertemplate": "color=esas<br>x=%{x}<br>y=%{y}<br>z=%{z}<br>text=%{text}<extra></extra>",
         "legendgroup": "esas",
         "marker": {
          "color": "#FECB52",
          "symbol": "circle"
         },
         "mode": "markers+text",
         "name": "esas",
         "scene": "scene",
         "showlegend": true,
         "text": [
          "esas"
         ],
         "type": "scatter3d",
         "x": [
          0.031020477414131165
         ],
         "y": [
          -0.02227938547730446
         ],
         "z": [
          "esas"
         ]
        },
        {
         "hovertemplate": "color=porque<br>x=%{x}<br>y=%{y}<br>z=%{z}<br>text=%{text}<extra></extra>",
         "legendgroup": "porque",
         "marker": {
          "color": "#636efa",
          "symbol": "circle"
         },
         "mode": "markers+text",
         "name": "porque",
         "scene": "scene",
         "showlegend": true,
         "text": [
          "porque"
         ],
         "type": "scatter3d",
         "x": [
          0.17383432388305664
         ],
         "y": [
          -0.02190230041742325
         ],
         "z": [
          "porque"
         ]
        },
        {
         "hovertemplate": "color=francisco<br>x=%{x}<br>y=%{y}<br>z=%{z}<br>text=%{text}<extra></extra>",
         "legendgroup": "francisco",
         "marker": {
          "color": "#EF553B",
          "symbol": "circle"
         },
         "mode": "markers+text",
         "name": "francisco",
         "scene": "scene",
         "showlegend": true,
         "text": [
          "francisco"
         ],
         "type": "scatter3d",
         "x": [
          0.08487782627344131
         ],
         "y": [
          0.06941656768321991
         ],
         "z": [
          "francisco"
         ]
        },
        {
         "hovertemplate": "color=hasta<br>x=%{x}<br>y=%{y}<br>z=%{z}<br>text=%{text}<extra></extra>",
         "legendgroup": "hasta",
         "marker": {
          "color": "#00cc96",
          "symbol": "circle"
         },
         "mode": "markers+text",
         "name": "hasta",
         "scene": "scene",
         "showlegend": true,
         "text": [
          "hasta"
         ],
         "type": "scatter3d",
         "x": [
          0.0070730894804000854
         ],
         "y": [
          -0.0024000839330255985
         ],
         "z": [
          "hasta"
         ]
        },
        {
         "hovertemplate": "color=ha<br>x=%{x}<br>y=%{y}<br>z=%{z}<br>text=%{text}<extra></extra>",
         "legendgroup": "ha",
         "marker": {
          "color": "#ab63fa",
          "symbol": "circle"
         },
         "mode": "markers+text",
         "name": "ha",
         "scene": "scene",
         "showlegend": true,
         "text": [
          "ha"
         ],
         "type": "scatter3d",
         "x": [
          -0.02090565860271454
         ],
         "y": [
          0.015417114831507206
         ],
         "z": [
          "ha"
         ]
        },
        {
         "hovertemplate": "color=bernardo<br>x=%{x}<br>y=%{y}<br>z=%{z}<br>text=%{text}<extra></extra>",
         "legendgroup": "bernardo",
         "marker": {
          "color": "#FFA15A",
          "symbol": "circle"
         },
         "mode": "markers+text",
         "name": "bernardo",
         "scene": "scene",
         "showlegend": true,
         "text": [
          "bernardo"
         ],
         "type": "scatter3d",
         "x": [
          -0.059904925525188446
         ],
         "y": [
          0.002383350394666195
         ],
         "z": [
          "bernardo"
         ]
        },
        {
         "hovertemplate": "color=números<br>x=%{x}<br>y=%{y}<br>z=%{z}<br>text=%{text}<extra></extra>",
         "legendgroup": "números",
         "marker": {
          "color": "#19d3f3",
          "symbol": "circle"
         },
         "mode": "markers+text",
         "name": "números",
         "scene": "scene",
         "showlegend": true,
         "text": [
          "números"
         ],
         "type": "scatter3d",
         "x": [
          -0.031182104721665382
         ],
         "y": [
          -0.04925478994846344
         ],
         "z": [
          "números"
         ]
        },
        {
         "hovertemplate": "color=padre<br>x=%{x}<br>y=%{y}<br>z=%{z}<br>text=%{text}<extra></extra>",
         "legendgroup": "padre",
         "marker": {
          "color": "#FF6692",
          "symbol": "circle"
         },
         "mode": "markers+text",
         "name": "padre",
         "scene": "scene",
         "showlegend": true,
         "text": [
          "padre"
         ],
         "type": "scatter3d",
         "x": [
          0.023640628904104233
         ],
         "y": [
          -0.013200338929891586
         ],
         "z": [
          "padre"
         ]
        },
        {
         "hovertemplate": "color=naturalis<br>x=%{x}<br>y=%{y}<br>z=%{z}<br>text=%{text}<extra></extra>",
         "legendgroup": "naturalis",
         "marker": {
          "color": "#B6E880",
          "symbol": "circle"
         },
         "mode": "markers+text",
         "name": "naturalis",
         "scene": "scene",
         "showlegend": true,
         "text": [
          "naturalis"
         ],
         "type": "scatter3d",
         "x": [
          0.07230720669031143
         ],
         "y": [
          0.030926676467061043
         ],
         "z": [
          "naturalis"
         ]
        },
        {
         "hovertemplate": "color=año<br>x=%{x}<br>y=%{y}<br>z=%{z}<br>text=%{text}<extra></extra>",
         "legendgroup": "año",
         "marker": {
          "color": "#FF97FF",
          "symbol": "circle"
         },
         "mode": "markers+text",
         "name": "año",
         "scene": "scene",
         "showlegend": true,
         "text": [
          "año"
         ],
         "type": "scatter3d",
         "x": [
          -0.056458987295627594
         ],
         "y": [
          0.02992076613008976
         ],
         "z": [
          "año"
         ]
        },
        {
         "hovertemplate": "color=primer<br>x=%{x}<br>y=%{y}<br>z=%{z}<br>text=%{text}<extra></extra>",
         "legendgroup": "primer",
         "marker": {
          "color": "#FECB52",
          "symbol": "circle"
         },
         "mode": "markers+text",
         "name": "primer",
         "scene": "scene",
         "showlegend": true,
         "text": [
          "primer"
         ],
         "type": "scatter3d",
         "x": [
          -0.017719488590955734
         ],
         "y": [
          -0.051014166325330734
         ],
         "z": [
          "primer"
         ]
        },
        {
         "hovertemplate": "color=sólo<br>x=%{x}<br>y=%{y}<br>z=%{z}<br>text=%{text}<extra></extra>",
         "legendgroup": "sólo",
         "marker": {
          "color": "#636efa",
          "symbol": "circle"
         },
         "mode": "markers+text",
         "name": "sólo",
         "scene": "scene",
         "showlegend": true,
         "text": [
          "sólo"
         ],
         "type": "scatter3d",
         "x": [
          0.07290290296077728
         ],
         "y": [
          -0.0029401667416095734
         ],
         "z": [
          "sólo"
         ]
        },
        {
         "hovertemplate": "color=nadie<br>x=%{x}<br>y=%{y}<br>z=%{z}<br>text=%{text}<extra></extra>",
         "legendgroup": "nadie",
         "marker": {
          "color": "#EF553B",
          "symbol": "circle"
         },
         "mode": "markers+text",
         "name": "nadie",
         "scene": "scene",
         "showlegend": true,
         "text": [
          "nadie"
         ],
         "type": "scatter3d",
         "x": [
          0.06083889678120613
         ],
         "y": [
          0.06327168643474579
         ],
         "z": [
          "nadie"
         ]
        },
        {
         "hovertemplate": "color=cosas<br>x=%{x}<br>y=%{y}<br>z=%{z}<br>text=%{text}<extra></extra>",
         "legendgroup": "cosas",
         "marker": {
          "color": "#00cc96",
          "symbol": "circle"
         },
         "mode": "markers+text",
         "name": "cosas",
         "scene": "scene",
         "showlegend": true,
         "text": [
          "cosas"
         ],
         "type": "scatter3d",
         "x": [
          -0.012075592763721943
         ],
         "y": [
          0.08049716800451279
         ],
         "z": [
          "cosas"
         ]
        },
        {
         "hovertemplate": "color=él<br>x=%{x}<br>y=%{y}<br>z=%{z}<br>text=%{text}<extra></extra>",
         "legendgroup": "él",
         "marker": {
          "color": "#ab63fa",
          "symbol": "circle"
         },
         "mode": "markers+text",
         "name": "él",
         "scene": "scene",
         "showlegend": true,
         "text": [
          "él"
         ],
         "type": "scatter3d",
         "x": [
          0.07507789134979248
         ],
         "y": [
          -0.013768147677183151
         ],
         "z": [
          "él"
         ]
        },
        {
         "hovertemplate": "color=mil<br>x=%{x}<br>y=%{y}<br>z=%{z}<br>text=%{text}<extra></extra>",
         "legendgroup": "mil",
         "marker": {
          "color": "#FFA15A",
          "symbol": "circle"
         },
         "mode": "markers+text",
         "name": "mil",
         "scene": "scene",
         "showlegend": true,
         "text": [
          "mil"
         ],
         "type": "scatter3d",
         "x": [
          0.02975594997406006
         ],
         "y": [
          0.057700030505657196
         ],
         "z": [
          "mil"
         ]
        },
        {
         "hovertemplate": "color=patio<br>x=%{x}<br>y=%{y}<br>z=%{z}<br>text=%{text}<extra></extra>",
         "legendgroup": "patio",
         "marker": {
          "color": "#19d3f3",
          "symbol": "circle"
         },
         "mode": "markers+text",
         "name": "patio",
         "scene": "scene",
         "showlegend": true,
         "text": [
          "patio"
         ],
         "type": "scatter3d",
         "x": [
          -0.027336454018950462
         ],
         "y": [
          0.08703286945819855
         ],
         "z": [
          "patio"
         ]
        },
        {
         "hovertemplate": "color=veces<br>x=%{x}<br>y=%{y}<br>z=%{z}<br>text=%{text}<extra></extra>",
         "legendgroup": "veces",
         "marker": {
          "color": "#FF6692",
          "symbol": "circle"
         },
         "mode": "markers+text",
         "name": "veces",
         "scene": "scene",
         "showlegend": true,
         "text": [
          "veces"
         ],
         "type": "scatter3d",
         "x": [
          0.0792318657040596
         ],
         "y": [
          -0.03518496826291084
         ],
         "z": [
          "veces"
         ]
        },
        {
         "hovertemplate": "color=ahora<br>x=%{x}<br>y=%{y}<br>z=%{z}<br>text=%{text}<extra></extra>",
         "legendgroup": "ahora",
         "marker": {
          "color": "#B6E880",
          "symbol": "circle"
         },
         "mode": "markers+text",
         "name": "ahora",
         "scene": "scene",
         "showlegend": true,
         "text": [
          "ahora"
         ],
         "type": "scatter3d",
         "x": [
          0.04300501570105553
         ],
         "y": [
          -0.07386171072721481
         ],
         "z": [
          "ahora"
         ]
        },
        {
         "hovertemplate": "color=fray<br>x=%{x}<br>y=%{y}<br>z=%{z}<br>text=%{text}<extra></extra>",
         "legendgroup": "fray",
         "marker": {
          "color": "#FF97FF",
          "symbol": "circle"
         },
         "mode": "markers+text",
         "name": "fray",
         "scene": "scene",
         "showlegend": true,
         "text": [
          "fray"
         ],
         "type": "scatter3d",
         "x": [
          0.054908644407987595
         ],
         "y": [
          -0.030711589381098747
         ],
         "z": [
          "fray"
         ]
        },
        {
         "hovertemplate": "color=bentos<br>x=%{x}<br>y=%{y}<br>z=%{z}<br>text=%{text}<extra></extra>",
         "legendgroup": "bentos",
         "marker": {
          "color": "#FECB52",
          "symbol": "circle"
         },
         "mode": "markers+text",
         "name": "bentos",
         "scene": "scene",
         "showlegend": true,
         "text": [
          "bentos"
         ],
         "type": "scatter3d",
         "x": [
          -0.021304598078131676
         ],
         "y": [
          0.0830158218741417
         ],
         "z": [
          "bentos"
         ]
        },
        {
         "hovertemplate": "color=sola<br>x=%{x}<br>y=%{y}<br>z=%{z}<br>text=%{text}<extra></extra>",
         "legendgroup": "sola",
         "marker": {
          "color": "#636efa",
          "symbol": "circle"
         },
         "mode": "markers+text",
         "name": "sola",
         "scene": "scene",
         "showlegend": true,
         "text": [
          "sola"
         ],
         "type": "scatter3d",
         "x": [
          0.0024457371328026056
         ],
         "y": [
          -0.028514888137578964
         ],
         "z": [
          "sola"
         ]
        },
        {
         "hovertemplate": "color=nombre<br>x=%{x}<br>y=%{y}<br>z=%{z}<br>text=%{text}<extra></extra>",
         "legendgroup": "nombre",
         "marker": {
          "color": "#EF553B",
          "symbol": "circle"
         },
         "mode": "markers+text",
         "name": "nombre",
         "scene": "scene",
         "showlegend": true,
         "text": [
          "nombre"
         ],
         "type": "scatter3d",
         "x": [
          0.011132347397506237
         ],
         "y": [
          -0.043328721076250076
         ],
         "z": [
          "nombre"
         ]
        },
        {
         "hovertemplate": "color=tal<br>x=%{x}<br>y=%{y}<br>z=%{z}<br>text=%{text}<extra></extra>",
         "legendgroup": "tal",
         "marker": {
          "color": "#00cc96",
          "symbol": "circle"
         },
         "mode": "markers+text",
         "name": "tal",
         "scene": "scene",
         "showlegend": true,
         "text": [
          "tal"
         ],
         "type": "scatter3d",
         "x": [
          -0.06284972280263901
         ],
         "y": [
          0.10621990263462067
         ],
         "z": [
          "tal"
         ]
        },
        {
         "hovertemplate": "color=toda<br>x=%{x}<br>y=%{y}<br>z=%{z}<br>text=%{text}<extra></extra>",
         "legendgroup": "toda",
         "marker": {
          "color": "#ab63fa",
          "symbol": "circle"
         },
         "mode": "markers+text",
         "name": "toda",
         "scene": "scene",
         "showlegend": true,
         "text": [
          "toda"
         ],
         "type": "scatter3d",
         "x": [
          0.07948543131351471
         ],
         "y": [
          -0.0838414654135704
         ],
         "z": [
          "toda"
         ]
        },
        {
         "hovertemplate": "color=años<br>x=%{x}<br>y=%{y}<br>z=%{z}<br>text=%{text}<extra></extra>",
         "legendgroup": "años",
         "marker": {
          "color": "#FFA15A",
          "symbol": "circle"
         },
         "mode": "markers+text",
         "name": "años",
         "scene": "scene",
         "showlegend": true,
         "text": [
          "años"
         ],
         "type": "scatter3d",
         "x": [
          -0.06176203116774559
         ],
         "y": [
          0.006171327084302902
         ],
         "z": [
          "años"
         ]
        },
        {
         "hovertemplate": "color=fondo<br>x=%{x}<br>y=%{y}<br>z=%{z}<br>text=%{text}<extra></extra>",
         "legendgroup": "fondo",
         "marker": {
          "color": "#19d3f3",
          "symbol": "circle"
         },
         "mode": "markers+text",
         "name": "fondo",
         "scene": "scene",
         "showlegend": true,
         "text": [
          "fondo"
         ],
         "type": "scatter3d",
         "x": [
          -0.050902072340250015
         ],
         "y": [
          0.002695925999432802
         ],
         "z": [
          "fondo"
         ]
        },
        {
         "hovertemplate": "color=ojos<br>x=%{x}<br>y=%{y}<br>z=%{z}<br>text=%{text}<extra></extra>",
         "legendgroup": "ojos",
         "marker": {
          "color": "#FF6692",
          "symbol": "circle"
         },
         "mode": "markers+text",
         "name": "ojos",
         "scene": "scene",
         "showlegend": true,
         "text": [
          "ojos"
         ],
         "type": "scatter3d",
         "x": [
          -0.02328626625239849
         ],
         "y": [
          -0.003733651479706168
         ],
         "z": [
          "ojos"
         ]
        },
        {
         "hovertemplate": "color=tierra<br>x=%{x}<br>y=%{y}<br>z=%{z}<br>text=%{text}<extra></extra>",
         "legendgroup": "tierra",
         "marker": {
          "color": "#B6E880",
          "symbol": "circle"
         },
         "mode": "markers+text",
         "name": "tierra",
         "scene": "scene",
         "showlegend": true,
         "text": [
          "tierra"
         ],
         "type": "scatter3d",
         "x": [
          -0.07951496541500092
         ],
         "y": [
          0.07312848418951035
         ],
         "z": [
          "tierra"
         ]
        },
        {
         "hovertemplate": "color=catre<br>x=%{x}<br>y=%{y}<br>z=%{z}<br>text=%{text}<extra></extra>",
         "legendgroup": "catre",
         "marker": {
          "color": "#FF97FF",
          "symbol": "circle"
         },
         "mode": "markers+text",
         "name": "catre",
         "scene": "scene",
         "showlegend": true,
         "text": [
          "catre"
         ],
         "type": "scatter3d",
         "x": [
          -0.04693053290247917
         ],
         "y": [
          -0.06684397161006927
         ],
         "z": [
          "catre"
         ]
        },
        {
         "hovertemplate": "color=sabía<br>x=%{x}<br>y=%{y}<br>z=%{z}<br>text=%{text}<extra></extra>",
         "legendgroup": "sabía",
         "marker": {
          "color": "#FECB52",
          "symbol": "circle"
         },
         "mode": "markers+text",
         "name": "sabía",
         "scene": "scene",
         "showlegend": true,
         "text": [
          "sabía"
         ],
         "type": "scatter3d",
         "x": [
          -0.12956812977790833
         ],
         "y": [
          0.013081086799502373
         ],
         "z": [
          "sabía"
         ]
        },
        {
         "hovertemplate": "color=perro<br>x=%{x}<br>y=%{y}<br>z=%{z}<br>text=%{text}<extra></extra>",
         "legendgroup": "perro",
         "marker": {
          "color": "#636efa",
          "symbol": "circle"
         },
         "mode": "markers+text",
         "name": "perro",
         "scene": "scene",
         "showlegend": true,
         "text": [
          "perro"
         ],
         "type": "scatter3d",
         "x": [
          0.05965348705649376
         ],
         "y": [
          0.08695396035909653
         ],
         "z": [
          "perro"
         ]
        },
        {
         "hovertemplate": "color=desde<br>x=%{x}<br>y=%{y}<br>z=%{z}<br>text=%{text}<extra></extra>",
         "legendgroup": "desde",
         "marker": {
          "color": "#EF553B",
          "symbol": "circle"
         },
         "mode": "markers+text",
         "name": "desde",
         "scene": "scene",
         "showlegend": true,
         "text": [
          "desde"
         ],
         "type": "scatter3d",
         "x": [
          0.057106565684080124
         ],
         "y": [
          0.06235694885253906
         ],
         "z": [
          "desde"
         ]
        },
        {
         "hovertemplate": "color=visto<br>x=%{x}<br>y=%{y}<br>z=%{z}<br>text=%{text}<extra></extra>",
         "legendgroup": "visto",
         "marker": {
          "color": "#00cc96",
          "symbol": "circle"
         },
         "mode": "markers+text",
         "name": "visto",
         "scene": "scene",
         "showlegend": true,
         "text": [
          "visto"
         ],
         "type": "scatter3d",
         "x": [
          -0.010909159667789936
         ],
         "y": [
          -0.06569206714630127
         ],
         "z": [
          "visto"
         ]
        },
        {
         "hovertemplate": "color=entre<br>x=%{x}<br>y=%{y}<br>z=%{z}<br>text=%{text}<extra></extra>",
         "legendgroup": "entre",
         "marker": {
          "color": "#ab63fa",
          "symbol": "circle"
         },
         "mode": "markers+text",
         "name": "entre",
         "scene": "scene",
         "showlegend": true,
         "text": [
          "entre"
         ],
         "type": "scatter3d",
         "x": [
          0.08937139064073563
         ],
         "y": [
          -0.007784034591168165
         ],
         "z": [
          "entre"
         ]
        },
        {
         "hovertemplate": "color=diálogo<br>x=%{x}<br>y=%{y}<br>z=%{z}<br>text=%{text}<extra></extra>",
         "legendgroup": "diálogo",
         "marker": {
          "color": "#FFA15A",
          "symbol": "circle"
         },
         "mode": "markers+text",
         "name": "diálogo",
         "scene": "scene",
         "showlegend": true,
         "text": [
          "diálogo"
         ],
         "type": "scatter3d",
         "x": [
          0.027075432240962982
         ],
         "y": [
          -0.06090524047613144
         ],
         "z": [
          "diálogo"
         ]
        },
        {
         "hovertemplate": "color=otro<br>x=%{x}<br>y=%{y}<br>z=%{z}<br>text=%{text}<extra></extra>",
         "legendgroup": "otro",
         "marker": {
          "color": "#19d3f3",
          "symbol": "circle"
         },
         "mode": "markers+text",
         "name": "otro",
         "scene": "scene",
         "showlegend": true,
         "text": [
          "otro"
         ],
         "type": "scatter3d",
         "x": [
          -0.11474110186100006
         ],
         "y": [
          -0.05106821656227112
         ],
         "z": [
          "otro"
         ]
        },
        {
         "hovertemplate": "color=menos<br>x=%{x}<br>y=%{y}<br>z=%{z}<br>text=%{text}<extra></extra>",
         "legendgroup": "menos",
         "marker": {
          "color": "#FF6692",
          "symbol": "circle"
         },
         "mode": "markers+text",
         "name": "menos",
         "scene": "scene",
         "showlegend": true,
         "text": [
          "menos"
         ],
         "type": "scatter3d",
         "x": [
          -0.049444764852523804
         ],
         "y": [
          -0.114026740193367
         ],
         "z": [
          "menos"
         ]
        },
        {
         "hovertemplate": "color=percepción<br>x=%{x}<br>y=%{y}<br>z=%{z}<br>text=%{text}<extra></extra>",
         "legendgroup": "percepción",
         "marker": {
          "color": "#B6E880",
          "symbol": "circle"
         },
         "mode": "markers+text",
         "name": "percepción",
         "scene": "scene",
         "showlegend": true,
         "text": [
          "percepción"
         ],
         "type": "scatter3d",
         "x": [
          0.049211226403713226
         ],
         "y": [
          -0.07539341598749161
         ],
         "z": [
          "percepción"
         ]
        },
        {
         "hovertemplate": "color=san<br>x=%{x}<br>y=%{y}<br>z=%{z}<br>text=%{text}<extra></extra>",
         "legendgroup": "san",
         "marker": {
          "color": "#FF97FF",
          "symbol": "circle"
         },
         "mode": "markers+text",
         "name": "san",
         "scene": "scene",
         "showlegend": true,
         "text": [
          "san"
         ],
         "type": "scatter3d",
         "x": [
          -0.0033332097809761763
         ],
         "y": [
          -0.10132350027561188
         ],
         "z": [
          "san"
         ]
        },
        {
         "hovertemplate": "color=ni<br>x=%{x}<br>y=%{y}<br>z=%{z}<br>text=%{text}<extra></extra>",
         "legendgroup": "ni",
         "marker": {
          "color": "#FECB52",
          "symbol": "circle"
         },
         "mode": "markers+text",
         "name": "ni",
         "scene": "scene",
         "showlegend": true,
         "text": [
          "ni"
         ],
         "type": "scatter3d",
         "x": [
          0.0813564583659172
         ],
         "y": [
          -0.005474208854138851
         ],
         "z": [
          "ni"
         ]
        },
        {
         "hovertemplate": "color=hacia<br>x=%{x}<br>y=%{y}<br>z=%{z}<br>text=%{text}<extra></extra>",
         "legendgroup": "hacia",
         "marker": {
          "color": "#636efa",
          "symbol": "circle"
         },
         "mode": "markers+text",
         "name": "hacia",
         "scene": "scene",
         "showlegend": true,
         "text": [
          "hacia"
         ],
         "type": "scatter3d",
         "x": [
          0.055135082453489304
         ],
         "y": [
          0.0693952813744545
         ],
         "z": [
          "hacia"
         ]
        },
        {
         "hovertemplate": "color=otros<br>x=%{x}<br>y=%{y}<br>z=%{z}<br>text=%{text}<extra></extra>",
         "legendgroup": "otros",
         "marker": {
          "color": "#EF553B",
          "symbol": "circle"
         },
         "mode": "markers+text",
         "name": "otros",
         "scene": "scene",
         "showlegend": true,
         "text": [
          "otros"
         ],
         "type": "scatter3d",
         "x": [
          -0.0030326824635267258
         ],
         "y": [
          0.08790741115808487
         ],
         "z": [
          "otros"
         ]
        },
        {
         "hovertemplate": "color=febrero<br>x=%{x}<br>y=%{y}<br>z=%{z}<br>text=%{text}<extra></extra>",
         "legendgroup": "febrero",
         "marker": {
          "color": "#00cc96",
          "symbol": "circle"
         },
         "mode": "markers+text",
         "name": "febrero",
         "scene": "scene",
         "showlegend": true,
         "text": [
          "febrero"
         ],
         "type": "scatter3d",
         "x": [
          -0.04795178398489952
         ],
         "y": [
          -0.00642612436786294
         ],
         "z": [
          "febrero"
         ]
        },
        {
         "hovertemplate": "color=dormir<br>x=%{x}<br>y=%{y}<br>z=%{z}<br>text=%{text}<extra></extra>",
         "legendgroup": "dormir",
         "marker": {
          "color": "#ab63fa",
          "symbol": "circle"
         },
         "mode": "markers+text",
         "name": "dormir",
         "scene": "scene",
         "showlegend": true,
         "text": [
          "dormir"
         ],
         "type": "scatter3d",
         "x": [
          0.07477401942014694
         ],
         "y": [
          0.015685543417930603
         ],
         "z": [
          "dormir"
         ]
        },
        {
         "hovertemplate": "color=mismo<br>x=%{x}<br>y=%{y}<br>z=%{z}<br>text=%{text}<extra></extra>",
         "legendgroup": "mismo",
         "marker": {
          "color": "#FFA15A",
          "symbol": "circle"
         },
         "mode": "markers+text",
         "name": "mismo",
         "scene": "scene",
         "showlegend": true,
         "text": [
          "mismo"
         ],
         "type": "scatter3d",
         "x": [
          0.0680021122097969
         ],
         "y": [
          -0.06125720590353012
         ],
         "z": [
          "mismo"
         ]
        },
        {
         "hovertemplate": "color=primo<br>x=%{x}<br>y=%{y}<br>z=%{z}<br>text=%{text}<extra></extra>",
         "legendgroup": "primo",
         "marker": {
          "color": "#19d3f3",
          "symbol": "circle"
         },
         "mode": "markers+text",
         "name": "primo",
         "scene": "scene",
         "showlegend": true,
         "text": [
          "primo"
         ],
         "type": "scatter3d",
         "x": [
          0.09216848760843277
         ],
         "y": [
          -0.030569210648536682
         ],
         "z": [
          "primo"
         ]
        },
        {
         "hovertemplate": "color=cigarrillo<br>x=%{x}<br>y=%{y}<br>z=%{z}<br>text=%{text}<extra></extra>",
         "legendgroup": "cigarrillo",
         "marker": {
          "color": "#FF6692",
          "symbol": "circle"
         },
         "mode": "markers+text",
         "name": "cigarrillo",
         "scene": "scene",
         "showlegend": true,
         "text": [
          "cigarrillo"
         ],
         "type": "scatter3d",
         "x": [
          0.10966390371322632
         ],
         "y": [
          0.014091895893216133
         ],
         "z": [
          "cigarrillo"
         ]
        },
        {
         "hovertemplate": "color=sueños<br>x=%{x}<br>y=%{y}<br>z=%{z}<br>text=%{text}<extra></extra>",
         "legendgroup": "sueños",
         "marker": {
          "color": "#B6E880",
          "symbol": "circle"
         },
         "mode": "markers+text",
         "name": "sueños",
         "scene": "scene",
         "showlegend": true,
         "text": [
          "sueños"
         ],
         "type": "scatter3d",
         "x": [
          -0.011648384854197502
         ],
         "y": [
          0.029554901644587517
         ],
         "z": [
          "sueños"
         ]
        },
        {
         "hovertemplate": "color=manos<br>x=%{x}<br>y=%{y}<br>z=%{z}<br>text=%{text}<extra></extra>",
         "legendgroup": "manos",
         "marker": {
          "color": "#FF97FF",
          "symbol": "circle"
         },
         "mode": "markers+text",
         "name": "manos",
         "scene": "scene",
         "showlegend": true,
         "text": [
          "manos"
         ],
         "type": "scatter3d",
         "x": [
          -0.16133159399032593
         ],
         "y": [
          -0.006100150756537914
         ],
         "z": [
          "manos"
         ]
        },
        {
         "hovertemplate": "color=hombre<br>x=%{x}<br>y=%{y}<br>z=%{z}<br>text=%{text}<extra></extra>",
         "legendgroup": "hombre",
         "marker": {
          "color": "#FECB52",
          "symbol": "circle"
         },
         "mode": "markers+text",
         "name": "hombre",
         "scene": "scene",
         "showlegend": true,
         "text": [
          "hombre"
         ],
         "type": "scatter3d",
         "x": [
          -0.02145831659436226
         ],
         "y": [
          0.014240384101867676
         ],
         "z": [
          "hombre"
         ]
        },
        {
         "hovertemplate": "color=tiempo<br>x=%{x}<br>y=%{y}<br>z=%{z}<br>text=%{text}<extra></extra>",
         "legendgroup": "tiempo",
         "marker": {
          "color": "#636efa",
          "symbol": "circle"
         },
         "mode": "markers+text",
         "name": "tiempo",
         "scene": "scene",
         "showlegend": true,
         "text": [
          "tiempo"
         ],
         "type": "scatter3d",
         "x": [
          -0.027761710807681084
         ],
         "y": [
          0.08280022442340851
         ],
         "z": [
          "tiempo"
         ]
        },
        {
         "hovertemplate": "color=cielo<br>x=%{x}<br>y=%{y}<br>z=%{z}<br>text=%{text}<extra></extra>",
         "legendgroup": "cielo",
         "marker": {
          "color": "#EF553B",
          "symbol": "circle"
         },
         "mode": "markers+text",
         "name": "cielo",
         "scene": "scene",
         "showlegend": true,
         "text": [
          "cielo"
         ],
         "type": "scatter3d",
         "x": [
          -0.06016506254673004
         ],
         "y": [
          0.0009650438441894948
         ],
         "z": [
          "cielo"
         ]
        },
        {
         "hovertemplate": "color=temor<br>x=%{x}<br>y=%{y}<br>z=%{z}<br>text=%{text}<extra></extra>",
         "legendgroup": "temor",
         "marker": {
          "color": "#00cc96",
          "symbol": "circle"
         },
         "mode": "markers+text",
         "name": "temor",
         "scene": "scene",
         "showlegend": true,
         "text": [
          "temor"
         ],
         "type": "scatter3d",
         "x": [
          -0.020969226956367493
         ],
         "y": [
          -0.09062937647104263
         ],
         "z": [
          "temor"
         ]
        },
        {
         "hovertemplate": "color=podía<br>x=%{x}<br>y=%{y}<br>z=%{z}<br>text=%{text}<extra></extra>",
         "legendgroup": "podía",
         "marker": {
          "color": "#ab63fa",
          "symbol": "circle"
         },
         "mode": "markers+text",
         "name": "podía",
         "scene": "scene",
         "showlegend": true,
         "text": [
          "podía"
         ],
         "type": "scatter3d",
         "x": [
          -0.06770767271518707
         ],
         "y": [
          -0.04268283769488335
         ],
         "z": [
          "podía"
         ]
        },
        {
         "hovertemplate": "color=forma<br>x=%{x}<br>y=%{y}<br>z=%{z}<br>text=%{text}<extra></extra>",
         "legendgroup": "forma",
         "marker": {
          "color": "#FFA15A",
          "symbol": "circle"
         },
         "mode": "markers+text",
         "name": "forma",
         "scene": "scene",
         "showlegend": true,
         "text": [
          "forma"
         ],
         "type": "scatter3d",
         "x": [
          0.04744597524404526
         ],
         "y": [
          -0.0040948460809886456
         ],
         "z": [
          "forma"
         ]
        },
        {
         "hovertemplate": "color=gradus<br>x=%{x}<br>y=%{y}<br>z=%{z}<br>text=%{text}<extra></extra>",
         "legendgroup": "gradus",
         "marker": {
          "color": "#19d3f3",
          "symbol": "circle"
         },
         "mode": "markers+text",
         "name": "gradus",
         "scene": "scene",
         "showlegend": true,
         "text": [
          "gradus"
         ],
         "type": "scatter3d",
         "x": [
          -0.05120459571480751
         ],
         "y": [
          -0.00629826495423913
         ],
         "z": [
          "gradus"
         ]
        },
        {
         "hovertemplate": "color=principio<br>x=%{x}<br>y=%{y}<br>z=%{z}<br>text=%{text}<extra></extra>",
         "legendgroup": "principio",
         "marker": {
          "color": "#FF6692",
          "symbol": "circle"
         },
         "mode": "markers+text",
         "name": "principio",
         "scene": "scene",
         "showlegend": true,
         "text": [
          "principio"
         ],
         "type": "scatter3d",
         "x": [
          0.128446564078331
         ],
         "y": [
          -0.02847200632095337
         ],
         "z": [
          "principio"
         ]
        },
        {
         "hovertemplate": "color=dolor<br>x=%{x}<br>y=%{y}<br>z=%{z}<br>text=%{text}<extra></extra>",
         "legendgroup": "dolor",
         "marker": {
          "color": "#B6E880",
          "symbol": "circle"
         },
         "mode": "markers+text",
         "name": "dolor",
         "scene": "scene",
         "showlegend": true,
         "text": [
          "dolor"
         ],
         "type": "scatter3d",
         "x": [
          0.0699215903878212
         ],
         "y": [
          0.04694100841879845
         ],
         "z": [
          "dolor"
         ]
        },
        {
         "hovertemplate": "color=oscuridad<br>x=%{x}<br>y=%{y}<br>z=%{z}<br>text=%{text}<extra></extra>",
         "legendgroup": "oscuridad",
         "marker": {
          "color": "#FF97FF",
          "symbol": "circle"
         },
         "mode": "markers+text",
         "name": "oscuridad",
         "scene": "scene",
         "showlegend": true,
         "text": [
          "oscuridad"
         ],
         "type": "scatter3d",
         "x": [
          0.05618203058838844
         ],
         "y": [
          -0.06427643448114395
         ],
         "z": [
          "oscuridad"
         ]
        },
        {
         "hovertemplate": "color=tiniebla<br>x=%{x}<br>y=%{y}<br>z=%{z}<br>text=%{text}<extra></extra>",
         "legendgroup": "tiniebla",
         "marker": {
          "color": "#FECB52",
          "symbol": "circle"
         },
         "mode": "markers+text",
         "name": "tiniebla",
         "scene": "scene",
         "showlegend": true,
         "text": [
          "tiniebla"
         ],
         "type": "scatter3d",
         "x": [
          0.019079986959695816
         ],
         "y": [
          0.046588234603405
         ],
         "z": [
          "tiniebla"
         ]
        },
        {
         "hovertemplate": "color=pieza<br>x=%{x}<br>y=%{y}<br>z=%{z}<br>text=%{text}<extra></extra>",
         "legendgroup": "pieza",
         "marker": {
          "color": "#636efa",
          "symbol": "circle"
         },
         "mode": "markers+text",
         "name": "pieza",
         "scene": "scene",
         "showlegend": true,
         "text": [
          "pieza"
         ],
         "type": "scatter3d",
         "x": [
          -0.10752458870410919
         ],
         "y": [
          -0.016304513439536095
         ],
         "z": [
          "pieza"
         ]
        },
        {
         "hovertemplate": "color=supe<br>x=%{x}<br>y=%{y}<br>z=%{z}<br>text=%{text}<extra></extra>",
         "legendgroup": "supe",
         "marker": {
          "color": "#EF553B",
          "symbol": "circle"
         },
         "mode": "markers+text",
         "name": "supe",
         "scene": "scene",
         "showlegend": true,
         "text": [
          "supe"
         ],
         "type": "scatter3d",
         "x": [
          -0.04696180298924446
         ],
         "y": [
          0.11742038279771805
         ],
         "z": [
          "supe"
         ]
        },
        {
         "hovertemplate": "color=capítulo<br>x=%{x}<br>y=%{y}<br>z=%{z}<br>text=%{text}<extra></extra>",
         "legendgroup": "capítulo",
         "marker": {
          "color": "#00cc96",
          "symbol": "circle"
         },
         "mode": "markers+text",
         "name": "capítulo",
         "scene": "scene",
         "showlegend": true,
         "text": [
          "capítulo"
         ],
         "type": "scatter3d",
         "x": [
          -0.017866693437099457
         ],
         "y": [
          -0.07939811050891876
         ],
         "z": [
          "capítulo"
         ]
        },
        {
         "hovertemplate": "color=telegrama<br>x=%{x}<br>y=%{y}<br>z=%{z}<br>text=%{text}<extra></extra>",
         "legendgroup": "telegrama",
         "marker": {
          "color": "#ab63fa",
          "symbol": "circle"
         },
         "mode": "markers+text",
         "name": "telegrama",
         "scene": "scene",
         "showlegend": true,
         "text": [
          "telegrama"
         ],
         "type": "scatter3d",
         "x": [
          -0.03614266216754913
         ],
         "y": [
          0.10595643520355225
         ],
         "z": [
          "telegrama"
         ]
        },
        {
         "hovertemplate": "color=muerto<br>x=%{x}<br>y=%{y}<br>z=%{z}<br>text=%{text}<extra></extra>",
         "legendgroup": "muerto",
         "marker": {
          "color": "#FFA15A",
          "symbol": "circle"
         },
         "mode": "markers+text",
         "name": "muerto",
         "scene": "scene",
         "showlegend": true,
         "text": [
          "muerto"
         ],
         "type": "scatter3d",
         "x": [
          -0.01855914480984211
         ],
         "y": [
          -0.03360946476459503
         ],
         "z": [
          "muerto"
         ]
        },
        {
         "hovertemplate": "color=libro<br>x=%{x}<br>y=%{y}<br>z=%{z}<br>text=%{text}<extra></extra>",
         "legendgroup": "libro",
         "marker": {
          "color": "#19d3f3",
          "symbol": "circle"
         },
         "mode": "markers+text",
         "name": "libro",
         "scene": "scene",
         "showlegend": true,
         "text": [
          "libro"
         ],
         "type": "scatter3d",
         "x": [
          0.01306845247745514
         ],
         "y": [
          -0.049781061708927155
         ],
         "z": [
          "libro"
         ]
        },
        {
         "hovertemplate": "color=últimas<br>x=%{x}<br>y=%{y}<br>z=%{z}<br>text=%{text}<extra></extra>",
         "legendgroup": "últimas",
         "marker": {
          "color": "#FF6692",
          "symbol": "circle"
         },
         "mode": "markers+text",
         "name": "últimas",
         "scene": "scene",
         "showlegend": true,
         "text": [
          "últimas"
         ],
         "type": "scatter3d",
         "x": [
          0.047930050641298294
         ],
         "y": [
          0.04926223307847977
         ],
         "z": [
          "últimas"
         ]
        },
        {
         "hovertemplate": "color=siete<br>x=%{x}<br>y=%{y}<br>z=%{z}<br>text=%{text}<extra></extra>",
         "legendgroup": "siete",
         "marker": {
          "color": "#B6E880",
          "symbol": "circle"
         },
         "mode": "markers+text",
         "name": "siete",
         "scene": "scene",
         "showlegend": true,
         "text": [
          "siete"
         ],
         "type": "scatter3d",
         "x": [
          -0.05027548223733902
         ],
         "y": [
          0.013047886081039906
         ],
         "z": [
          "siete"
         ]
        },
        {
         "hovertemplate": "color=luego<br>x=%{x}<br>y=%{y}<br>z=%{z}<br>text=%{text}<extra></extra>",
         "legendgroup": "luego",
         "marker": {
          "color": "#FF97FF",
          "symbol": "circle"
         },
         "mode": "markers+text",
         "name": "luego",
         "scene": "scene",
         "showlegend": true,
         "text": [
          "luego"
         ],
         "type": "scatter3d",
         "x": [
          0.1265079528093338
         ],
         "y": [
          0.04054495692253113
         ],
         "z": [
          "luego"
         ]
        },
        {
         "hovertemplate": "color=signo<br>x=%{x}<br>y=%{y}<br>z=%{z}<br>text=%{text}<extra></extra>",
         "legendgroup": "signo",
         "marker": {
          "color": "#FECB52",
          "symbol": "circle"
         },
         "mode": "markers+text",
         "name": "signo",
         "scene": "scene",
         "showlegend": true,
         "text": [
          "signo"
         ],
         "type": "scatter3d",
         "x": [
          0.08816978335380554
         ],
         "y": [
          -0.007853991352021694
         ],
         "z": [
          "signo"
         ]
        },
        {
         "hovertemplate": "color=palabra<br>x=%{x}<br>y=%{y}<br>z=%{z}<br>text=%{text}<extra></extra>",
         "legendgroup": "palabra",
         "marker": {
          "color": "#636efa",
          "symbol": "circle"
         },
         "mode": "markers+text",
         "name": "palabra",
         "scene": "scene",
         "showlegend": true,
         "text": [
          "palabra"
         ],
         "type": "scatter3d",
         "x": [
          -0.04396222531795502
         ],
         "y": [
          0.17822447419166565
         ],
         "z": [
          "palabra"
         ]
        },
        {
         "hovertemplate": "color=numeración<br>x=%{x}<br>y=%{y}<br>z=%{z}<br>text=%{text}<extra></extra>",
         "legendgroup": "numeración",
         "marker": {
          "color": "#EF553B",
          "symbol": "circle"
         },
         "mode": "markers+text",
         "name": "numeración",
         "scene": "scene",
         "showlegend": true,
         "text": [
          "numeración"
         ],
         "type": "scatter3d",
         "x": [
          0.0437021367251873
         ],
         "y": [
          0.0038787780795246363
         ],
         "z": [
          "numeración"
         ]
        },
        {
         "hovertemplate": "color=sistema<br>x=%{x}<br>y=%{y}<br>z=%{z}<br>text=%{text}<extra></extra>",
         "legendgroup": "sistema",
         "marker": {
          "color": "#00cc96",
          "symbol": "circle"
         },
         "mode": "markers+text",
         "name": "sistema",
         "scene": "scene",
         "showlegend": true,
         "text": [
          "sistema"
         ],
         "type": "scatter3d",
         "x": [
          -0.02139928936958313
         ],
         "y": [
          -0.005352124106138945
         ],
         "z": [
          "sistema"
         ]
        },
        {
         "hovertemplate": "color=todas<br>x=%{x}<br>y=%{y}<br>z=%{z}<br>text=%{text}<extra></extra>",
         "legendgroup": "todas",
         "marker": {
          "color": "#ab63fa",
          "symbol": "circle"
         },
         "mode": "markers+text",
         "name": "todas",
         "scene": "scene",
         "showlegend": true,
         "text": [
          "todas"
         ],
         "type": "scatter3d",
         "x": [
          0.013545405119657516
         ],
         "y": [
          0.028609246015548706
         ],
         "z": [
          "todas"
         ]
        },
        {
         "hovertemplate": "color=embargo<br>x=%{x}<br>y=%{y}<br>z=%{z}<br>text=%{text}<extra></extra>",
         "legendgroup": "embargo",
         "marker": {
          "color": "#FFA15A",
          "symbol": "circle"
         },
         "mode": "markers+text",
         "name": "embargo",
         "scene": "scene",
         "showlegend": true,
         "text": [
          "embargo"
         ],
         "type": "scatter3d",
         "x": [
          0.02532048523426056
         ],
         "y": [
          -0.04396955296397209
         ],
         "z": [
          "embargo"
         ]
        },
        {
         "hovertemplate": "color=he<br>x=%{x}<br>y=%{y}<br>z=%{z}<br>text=%{text}<extra></extra>",
         "legendgroup": "he",
         "marker": {
          "color": "#19d3f3",
          "symbol": "circle"
         },
         "mode": "markers+text",
         "name": "he",
         "scene": "scene",
         "showlegend": true,
         "text": [
          "he"
         ],
         "type": "scatter3d",
         "x": [
          0.04247300699353218
         ],
         "y": [
          0.08446493744850159
         ],
         "z": [
          "he"
         ]
        },
        {
         "hovertemplate": "color=entonces<br>x=%{x}<br>y=%{y}<br>z=%{z}<br>text=%{text}<extra></extra>",
         "legendgroup": "entonces",
         "marker": {
          "color": "#FF6692",
          "symbol": "circle"
         },
         "mode": "markers+text",
         "name": "entonces",
         "scene": "scene",
         "showlegend": true,
         "text": [
          "entonces"
         ],
         "type": "scatter3d",
         "x": [
          0.010017264634370804
         ],
         "y": [
          -0.05424683913588524
         ],
         "z": [
          "entonces"
         ]
        },
        {
         "hovertemplate": "color=hombres<br>x=%{x}<br>y=%{y}<br>z=%{z}<br>text=%{text}<extra></extra>",
         "legendgroup": "hombres",
         "marker": {
          "color": "#B6E880",
          "symbol": "circle"
         },
         "mode": "markers+text",
         "name": "hombres",
         "scene": "scene",
         "showlegend": true,
         "text": [
          "hombres"
         ],
         "type": "scatter3d",
         "x": [
          0.060404010117053986
         ],
         "y": [
          0.0054495627991855145
         ],
         "z": [
          "hombres"
         ]
        },
        {
         "hovertemplate": "color=solo<br>x=%{x}<br>y=%{y}<br>z=%{z}<br>text=%{text}<extra></extra>",
         "legendgroup": "solo",
         "marker": {
          "color": "#FF97FF",
          "symbol": "circle"
         },
         "mode": "markers+text",
         "name": "solo",
         "scene": "scene",
         "showlegend": true,
         "text": [
          "solo"
         ],
         "type": "scatter3d",
         "x": [
          0.020996544510126114
         ],
         "y": [
          0.12740889191627502
         ],
         "z": [
          "solo"
         ]
        },
        {
         "hovertemplate": "color=entero<br>x=%{x}<br>y=%{y}<br>z=%{z}<br>text=%{text}<extra></extra>",
         "legendgroup": "entero",
         "marker": {
          "color": "#FECB52",
          "symbol": "circle"
         },
         "mode": "markers+text",
         "name": "entero",
         "scene": "scene",
         "showlegend": true,
         "text": [
          "entero"
         ],
         "type": "scatter3d",
         "x": [
          0.07928533852100372
         ],
         "y": [
          -0.0051253074780106544
         ],
         "z": [
          "entero"
         ]
        },
        {
         "hovertemplate": "color=luis<br>x=%{x}<br>y=%{y}<br>z=%{z}<br>text=%{text}<extra></extra>",
         "legendgroup": "luis",
         "marker": {
          "color": "#636efa",
          "symbol": "circle"
         },
         "mode": "markers+text",
         "name": "luis",
         "scene": "scene",
         "showlegend": true,
         "text": [
          "luis"
         ],
         "type": "scatter3d",
         "x": [
          -0.014645173214375973
         ],
         "y": [
          -0.08258713781833649
         ],
         "z": [
          "luis"
         ]
        },
        {
         "hovertemplate": "color=negro<br>x=%{x}<br>y=%{y}<br>z=%{z}<br>text=%{text}<extra></extra>",
         "legendgroup": "negro",
         "marker": {
          "color": "#EF553B",
          "symbol": "circle"
         },
         "mode": "markers+text",
         "name": "negro",
         "scene": "scene",
         "showlegend": true,
         "text": [
          "negro"
         ],
         "type": "scatter3d",
         "x": [
          -0.03979136049747467
         ],
         "y": [
          -0.09470734000205994
         ],
         "z": [
          "negro"
         ]
        },
        {
         "hovertemplate": "color=río<br>x=%{x}<br>y=%{y}<br>z=%{z}<br>text=%{text}<extra></extra>",
         "legendgroup": "río",
         "marker": {
          "color": "#00cc96",
          "symbol": "circle"
         },
         "mode": "markers+text",
         "name": "río",
         "scene": "scene",
         "showlegend": true,
         "text": [
          "río"
         ],
         "type": "scatter3d",
         "x": [
          -0.04181014001369476
         ],
         "y": [
          0.0541423000395298
         ],
         "z": [
          "río"
         ]
        },
        {
         "hovertemplate": "color=formas<br>x=%{x}<br>y=%{y}<br>z=%{z}<br>text=%{text}<extra></extra>",
         "legendgroup": "formas",
         "marker": {
          "color": "#ab63fa",
          "symbol": "circle"
         },
         "mode": "markers+text",
         "name": "formas",
         "scene": "scene",
         "showlegend": true,
         "text": [
          "formas"
         ],
         "type": "scatter3d",
         "x": [
          0.1313619613647461
         ],
         "y": [
          -0.15266133844852448
         ],
         "z": [
          "formas"
         ]
        },
        {
         "hovertemplate": "color=diecinueve<br>x=%{x}<br>y=%{y}<br>z=%{z}<br>text=%{text}<extra></extra>",
         "legendgroup": "diecinueve",
         "marker": {
          "color": "#FFA15A",
          "symbol": "circle"
         },
         "mode": "markers+text",
         "name": "diecinueve",
         "scene": "scene",
         "showlegend": true,
         "text": [
          "diecinueve"
         ],
         "type": "scatter3d",
         "x": [
          -0.010361663065850735
         ],
         "y": [
          -0.05682797357439995
         ],
         "z": [
          "diecinueve"
         ]
        },
        {
         "hovertemplate": "color=traté<br>x=%{x}<br>y=%{y}<br>z=%{z}<br>text=%{text}<extra></extra>",
         "legendgroup": "traté",
         "marker": {
          "color": "#19d3f3",
          "symbol": "circle"
         },
         "mode": "markers+text",
         "name": "traté",
         "scene": "scene",
         "showlegend": true,
         "text": [
          "traté"
         ],
         "type": "scatter3d",
         "x": [
          0.04377656802535057
         ],
         "y": [
          -0.11690074950456619
         ],
         "z": [
          "traté"
         ]
        },
        {
         "hovertemplate": "color=tarde<br>x=%{x}<br>y=%{y}<br>z=%{z}<br>text=%{text}<extra></extra>",
         "legendgroup": "tarde",
         "marker": {
          "color": "#FF6692",
          "symbol": "circle"
         },
         "mode": "markers+text",
         "name": "tarde",
         "scene": "scene",
         "showlegend": true,
         "text": [
          "tarde"
         ],
         "type": "scatter3d",
         "x": [
          -0.061230067163705826
         ],
         "y": [
          0.04773418605327606
         ],
         "z": [
          "tarde"
         ]
        },
        {
         "hovertemplate": "color=casos<br>x=%{x}<br>y=%{y}<br>z=%{z}<br>text=%{text}<extra></extra>",
         "legendgroup": "casos",
         "marker": {
          "color": "#B6E880",
          "symbol": "circle"
         },
         "mode": "markers+text",
         "name": "casos",
         "scene": "scene",
         "showlegend": true,
         "text": [
          "casos"
         ],
         "type": "scatter3d",
         "x": [
          -0.018068021163344383
         ],
         "y": [
          0.04516427591443062
         ],
         "z": [
          "casos"
         ]
        },
        {
         "hovertemplate": "color=sé<br>x=%{x}<br>y=%{y}<br>z=%{z}<br>text=%{text}<extra></extra>",
         "legendgroup": "sé",
         "marker": {
          "color": "#FF97FF",
          "symbol": "circle"
         },
         "mode": "markers+text",
         "name": "sé",
         "scene": "scene",
         "showlegend": true,
         "text": [
          "sé"
         ],
         "type": "scatter3d",
         "x": [
          -0.10307487100362778
         ],
         "y": [
          -0.17406997084617615
         ],
         "z": [
          "sé"
         ]
        },
        {
         "hovertemplate": "color=muchas<br>x=%{x}<br>y=%{y}<br>z=%{z}<br>text=%{text}<extra></extra>",
         "legendgroup": "muchas",
         "marker": {
          "color": "#FECB52",
          "symbol": "circle"
         },
         "mode": "markers+text",
         "name": "muchas",
         "scene": "scene",
         "showlegend": true,
         "text": [
          "muchas"
         ],
         "type": "scatter3d",
         "x": [
          -0.05524614080786705
         ],
         "y": [
          0.009739954955875874
         ],
         "z": [
          "muchas"
         ]
        },
        {
         "hovertemplate": "color=siglo<br>x=%{x}<br>y=%{y}<br>z=%{z}<br>text=%{text}<extra></extra>",
         "legendgroup": "siglo",
         "marker": {
          "color": "#636efa",
          "symbol": "circle"
         },
         "mode": "markers+text",
         "name": "siglo",
         "scene": "scene",
         "showlegend": true,
         "text": [
          "siglo"
         ],
         "type": "scatter3d",
         "x": [
          0.019239574670791626
         ],
         "y": [
          0.019053105264902115
         ],
         "z": [
          "siglo"
         ]
        },
        {
         "hovertemplate": "color=éste<br>x=%{x}<br>y=%{y}<br>z=%{z}<br>text=%{text}<extra></extra>",
         "legendgroup": "éste",
         "marker": {
          "color": "#EF553B",
          "symbol": "circle"
         },
         "mode": "markers+text",
         "name": "éste",
         "scene": "scene",
         "showlegend": true,
         "text": [
          "éste"
         ],
         "type": "scatter3d",
         "x": [
          -0.006741597782820463
         ],
         "y": [
          -0.12029988318681717
         ],
         "z": [
          "éste"
         ]
        },
        {
         "hovertemplate": "color=relato<br>x=%{x}<br>y=%{y}<br>z=%{z}<br>text=%{text}<extra></extra>",
         "legendgroup": "relato",
         "marker": {
          "color": "#00cc96",
          "symbol": "circle"
         },
         "mode": "markers+text",
         "name": "relato",
         "scene": "scene",
         "showlegend": true,
         "text": [
          "relato"
         ],
         "type": "scatter3d",
         "x": [
          0.09487317502498627
         ],
         "y": [
          -0.027170328423380852
         ],
         "z": [
          "relato"
         ]
        },
        {
         "hovertemplate": "color=difícil<br>x=%{x}<br>y=%{y}<br>z=%{z}<br>text=%{text}<extra></extra>",
         "legendgroup": "difícil",
         "marker": {
          "color": "#ab63fa",
          "symbol": "circle"
         },
         "mode": "markers+text",
         "name": "difícil",
         "scene": "scene",
         "showlegend": true,
         "text": [
          "difícil"
         ],
         "type": "scatter3d",
         "x": [
          0.08094242215156555
         ],
         "y": [
          0.08546974509954453
         ],
         "z": [
          "difícil"
         ]
        },
        {
         "hovertemplate": "color=humedad<br>x=%{x}<br>y=%{y}<br>z=%{z}<br>text=%{text}<extra></extra>",
         "legendgroup": "humedad",
         "marker": {
          "color": "#FFA15A",
          "symbol": "circle"
         },
         "mode": "markers+text",
         "name": "humedad",
         "scene": "scene",
         "showlegend": true,
         "text": [
          "humedad"
         ],
         "type": "scatter3d",
         "x": [
          -0.095418781042099
         ],
         "y": [
          -0.0906042754650116
         ],
         "z": [
          "humedad"
         ]
        },
        {
         "hovertemplate": "color=alba<br>x=%{x}<br>y=%{y}<br>z=%{z}<br>text=%{text}<extra></extra>",
         "legendgroup": "alba",
         "marker": {
          "color": "#19d3f3",
          "symbol": "circle"
         },
         "mode": "markers+text",
         "name": "alba",
         "scene": "scene",
         "showlegend": true,
         "text": [
          "alba"
         ],
         "type": "scatter3d",
         "x": [
          0.018336806446313858
         ],
         "y": [
          -0.07533431798219681
         ],
         "z": [
          "alba"
         ]
        },
        {
         "hovertemplate": "color=inmediatamente<br>x=%{x}<br>y=%{y}<br>z=%{z}<br>text=%{text}<extra></extra>",
         "legendgroup": "inmediatamente",
         "marker": {
          "color": "#FF6692",
          "symbol": "circle"
         },
         "mode": "markers+text",
         "name": "inmediatamente",
         "scene": "scene",
         "showlegend": true,
         "text": [
          "inmediatamente"
         ],
         "type": "scatter3d",
         "x": [
          -0.053810324519872665
         ],
         "y": [
          -0.05115193501114845
         ],
         "z": [
          "inmediatamente"
         ]
        },
        {
         "hovertemplate": "color=hubiera<br>x=%{x}<br>y=%{y}<br>z=%{z}<br>text=%{text}<extra></extra>",
         "legendgroup": "hubiera",
         "marker": {
          "color": "#B6E880",
          "symbol": "circle"
         },
         "mode": "markers+text",
         "name": "hubiera",
         "scene": "scene",
         "showlegend": true,
         "text": [
          "hubiera"
         ],
         "type": "scatter3d",
         "x": [
          -0.013429451733827591
         ],
         "y": [
          0.06871187686920166
         ],
         "z": [
          "hubiera"
         ]
        },
        {
         "hovertemplate": "color=original<br>x=%{x}<br>y=%{y}<br>z=%{z}<br>text=%{text}<extra></extra>",
         "legendgroup": "original",
         "marker": {
          "color": "#FF97FF",
          "symbol": "circle"
         },
         "mode": "markers+text",
         "name": "original",
         "scene": "scene",
         "showlegend": true,
         "text": [
          "original"
         ],
         "type": "scatter3d",
         "x": [
          -0.025691037997603416
         ],
         "y": [
          -0.030789028853178024
         ],
         "z": [
          "original"
         ]
        },
        {
         "hovertemplate": "color=olvidar<br>x=%{x}<br>y=%{y}<br>z=%{z}<br>text=%{text}<extra></extra>",
         "legendgroup": "olvidar",
         "marker": {
          "color": "#FECB52",
          "symbol": "circle"
         },
         "mode": "markers+text",
         "name": "olvidar",
         "scene": "scene",
         "showlegend": true,
         "text": [
          "olvidar"
         ],
         "type": "scatter3d",
         "x": [
          0.06621238589286804
         ],
         "y": [
          -0.09837955236434937
         ],
         "z": [
          "olvidar"
         ]
        },
        {
         "hovertemplate": "color=golpe<br>x=%{x}<br>y=%{y}<br>z=%{z}<br>text=%{text}<extra></extra>",
         "legendgroup": "golpe",
         "marker": {
          "color": "#636efa",
          "symbol": "circle"
         },
         "mode": "markers+text",
         "name": "golpe",
         "scene": "scene",
         "showlegend": true,
         "text": [
          "golpe"
         ],
         "type": "scatter3d",
         "x": [
          0.03679702803492546
         ],
         "y": [
          0.1624368131160736
         ],
         "z": [
          "golpe"
         ]
        },
        {
         "hovertemplate": "color=callejón<br>x=%{x}<br>y=%{y}<br>z=%{z}<br>text=%{text}<extra></extra>",
         "legendgroup": "callejón",
         "marker": {
          "color": "#EF553B",
          "symbol": "circle"
         },
         "mode": "markers+text",
         "name": "callejón",
         "scene": "scene",
         "showlegend": true,
         "text": [
          "callejón"
         ],
         "type": "scatter3d",
         "x": [
          -0.014859801158308983
         ],
         "y": [
          0.0881350189447403
         ],
         "z": [
          "callejón"
         ]
        },
        {
         "hovertemplate": "color=especie<br>x=%{x}<br>y=%{y}<br>z=%{z}<br>text=%{text}<extra></extra>",
         "legendgroup": "especie",
         "marker": {
          "color": "#00cc96",
          "symbol": "circle"
         },
         "mode": "markers+text",
         "name": "especie",
         "scene": "scene",
         "showlegend": true,
         "text": [
          "especie"
         ],
         "type": "scatter3d",
         "x": [
          -0.02243713289499283
         ],
         "y": [
          -0.015607633627951145
         ],
         "z": [
          "especie"
         ]
        },
        {
         "hovertemplate": "color=nos<br>x=%{x}<br>y=%{y}<br>z=%{z}<br>text=%{text}<extra></extra>",
         "legendgroup": "nos",
         "marker": {
          "color": "#ab63fa",
          "symbol": "circle"
         },
         "mode": "markers+text",
         "name": "nos",
         "scene": "scene",
         "showlegend": true,
         "text": [
          "nos"
         ],
         "type": "scatter3d",
         "x": [
          -0.12864118814468384
         ],
         "y": [
          0.03187481686472893
         ],
         "z": [
          "nos"
         ]
        },
        {
         "hovertemplate": "color=esperanza<br>x=%{x}<br>y=%{y}<br>z=%{z}<br>text=%{text}<extra></extra>",
         "legendgroup": "esperanza",
         "marker": {
          "color": "#FFA15A",
          "symbol": "circle"
         },
         "mode": "markers+text",
         "name": "esperanza",
         "scene": "scene",
         "showlegend": true,
         "text": [
          "esperanza"
         ],
         "type": "scatter3d",
         "x": [
          0.04710778966546059
         ],
         "y": [
          -0.05548527464270592
         ],
         "z": [
          "esperanza"
         ]
        },
        {
         "hovertemplate": "color=tormenta<br>x=%{x}<br>y=%{y}<br>z=%{z}<br>text=%{text}<extra></extra>",
         "legendgroup": "tormenta",
         "marker": {
          "color": "#19d3f3",
          "symbol": "circle"
         },
         "mode": "markers+text",
         "name": "tormenta",
         "scene": "scene",
         "showlegend": true,
         "text": [
          "tormenta"
         ],
         "type": "scatter3d",
         "x": [
          0.02564842253923416
         ],
         "y": [
          0.10139777511358261
         ],
         "z": [
          "tormenta"
         ]
        },
        {
         "hovertemplate": "color=enorme<br>x=%{x}<br>y=%{y}<br>z=%{z}<br>text=%{text}<extra></extra>",
         "legendgroup": "enorme",
         "marker": {
          "color": "#FF6692",
          "symbol": "circle"
         },
         "mode": "markers+text",
         "name": "enorme",
         "scene": "scene",
         "showlegend": true,
         "text": [
          "enorme"
         ],
         "type": "scatter3d",
         "x": [
          -0.06790602207183838
         ],
         "y": [
          0.02928467094898224
         ],
         "z": [
          "enorme"
         ]
        },
        {
         "hovertemplate": "color=única<br>x=%{x}<br>y=%{y}<br>z=%{z}<br>text=%{text}<extra></extra>",
         "legendgroup": "única",
         "marker": {
          "color": "#B6E880",
          "symbol": "circle"
         },
         "mode": "markers+text",
         "name": "única",
         "scene": "scene",
         "showlegend": true,
         "text": [
          "única"
         ],
         "type": "scatter3d",
         "x": [
          0.052891891449689865
         ],
         "y": [
          -0.060275424271821976
         ],
         "z": [
          "única"
         ]
        },
        {
         "hovertemplate": "color=caballo<br>x=%{x}<br>y=%{y}<br>z=%{z}<br>text=%{text}<extra></extra>",
         "legendgroup": "caballo",
         "marker": {
          "color": "#FF97FF",
          "symbol": "circle"
         },
         "mode": "markers+text",
         "name": "caballo",
         "scene": "scene",
         "showlegend": true,
         "text": [
          "caballo"
         ],
         "type": "scatter3d",
         "x": [
          -0.044696394354104996
         ],
         "y": [
          0.0678291991353035
         ],
         "z": [
          "caballo"
         ]
        },
        {
         "hovertemplate": "color=estancia<br>x=%{x}<br>y=%{y}<br>z=%{z}<br>text=%{text}<extra></extra>",
         "legendgroup": "estancia",
         "marker": {
          "color": "#FECB52",
          "symbol": "circle"
         },
         "mode": "markers+text",
         "name": "estancia",
         "scene": "scene",
         "showlegend": true,
         "text": [
          "estancia"
         ],
         "type": "scatter3d",
         "x": [
          -0.0006937831058166921
         ],
         "y": [
          0.06495172530412674
         ],
         "z": [
          "estancia"
         ]
        },
        {
         "hovertemplate": "color=haedo<br>x=%{x}<br>y=%{y}<br>z=%{z}<br>text=%{text}<extra></extra>",
         "legendgroup": "haedo",
         "marker": {
          "color": "#636efa",
          "symbol": "circle"
         },
         "mode": "markers+text",
         "name": "haedo",
         "scene": "scene",
         "showlegend": true,
         "text": [
          "haedo"
         ],
         "type": "scatter3d",
         "x": [
          0.0888558030128479
         ],
         "y": [
          0.08044760674238205
         ],
         "z": [
          "haedo"
         ]
        },
        {
         "hovertemplate": "color=volvía<br>x=%{x}<br>y=%{y}<br>z=%{z}<br>text=%{text}<extra></extra>",
         "legendgroup": "volvía",
         "marker": {
          "color": "#EF553B",
          "symbol": "circle"
         },
         "mode": "markers+text",
         "name": "volvía",
         "scene": "scene",
         "showlegend": true,
         "text": [
          "volvía"
         ],
         "type": "scatter3d",
         "x": [
          -0.02076231688261032
         ],
         "y": [
          -0.0410430021584034
         ],
         "z": [
          "volvía"
         ]
        },
        {
         "hovertemplate": "color=84<br>x=%{x}<br>y=%{y}<br>z=%{z}<br>text=%{text}<extra></extra>",
         "legendgroup": "84",
         "marker": {
          "color": "#00cc96",
          "symbol": "circle"
         },
         "mode": "markers+text",
         "name": "84",
         "scene": "scene",
         "showlegend": true,
         "text": [
          "84"
         ],
         "type": "scatter3d",
         "x": [
          -0.09198667109012604
         ],
         "y": [
          0.05108918249607086
         ],
         "z": [
          "84"
         ]
        },
        {
         "hovertemplate": "color=escrito<br>x=%{x}<br>y=%{y}<br>z=%{z}<br>text=%{text}<extra></extra>",
         "legendgroup": "escrito",
         "marker": {
          "color": "#ab63fa",
          "symbol": "circle"
         },
         "mode": "markers+text",
         "name": "escrito",
         "scene": "scene",
         "showlegend": true,
         "text": [
          "escrito"
         ],
         "type": "scatter3d",
         "x": [
          0.0022535298485308886
         ],
         "y": [
          0.07046617567539215
         ],
         "z": [
          "escrito"
         ]
        },
        {
         "hovertemplate": "color=alto<br>x=%{x}<br>y=%{y}<br>z=%{z}<br>text=%{text}<extra></extra>",
         "legendgroup": "alto",
         "marker": {
          "color": "#FFA15A",
          "symbol": "circle"
         },
         "mode": "markers+text",
         "name": "alto",
         "scene": "scene",
         "showlegend": true,
         "text": [
          "alto"
         ],
         "type": "scatter3d",
         "x": [
          -0.025164898484945297
         ],
         "y": [
          -0.09198228269815445
         ],
         "z": [
          "alto"
         ]
        },
        {
         "hovertemplate": "color=cuando<br>x=%{x}<br>y=%{y}<br>z=%{z}<br>text=%{text}<extra></extra>",
         "legendgroup": "cuando",
         "marker": {
          "color": "#19d3f3",
          "symbol": "circle"
         },
         "mode": "markers+text",
         "name": "cuando",
         "scene": "scene",
         "showlegend": true,
         "text": [
          "cuando"
         ],
         "type": "scatter3d",
         "x": [
          -0.08195115625858307
         ],
         "y": [
          -0.05191483721137047
         ],
         "z": [
          "cuando"
         ]
        },
        {
         "hovertemplate": "color=condición<br>x=%{x}<br>y=%{y}<br>z=%{z}<br>text=%{text}<extra></extra>",
         "legendgroup": "condición",
         "marker": {
          "color": "#FF6692",
          "symbol": "circle"
         },
         "mode": "markers+text",
         "name": "condición",
         "scene": "scene",
         "showlegend": true,
         "text": [
          "condición"
         ],
         "type": "scatter3d",
         "x": [
          0.09093872457742691
         ],
         "y": [
          -0.039698392152786255
         ],
         "z": [
          "condición"
         ]
        },
        {
         "hovertemplate": "color=ustedes<br>x=%{x}<br>y=%{y}<br>z=%{z}<br>text=%{text}<extra></extra>",
         "legendgroup": "ustedes",
         "marker": {
          "color": "#B6E880",
          "symbol": "circle"
         },
         "mode": "markers+text",
         "name": "ustedes",
         "scene": "scene",
         "showlegend": true,
         "text": [
          "ustedes"
         ],
         "type": "scatter3d",
         "x": [
          0.08724349737167358
         ],
         "y": [
          0.08866549283266068
         ],
         "z": [
          "ustedes"
         ]
        },
        {
         "hovertemplate": "color=volumen<br>x=%{x}<br>y=%{y}<br>z=%{z}<br>text=%{text}<extra></extra>",
         "legendgroup": "volumen",
         "marker": {
          "color": "#FF97FF",
          "symbol": "circle"
         },
         "mode": "markers+text",
         "name": "volumen",
         "scene": "scene",
         "showlegend": true,
         "text": [
          "volumen"
         ],
         "type": "scatter3d",
         "x": [
          -0.0013050087727606297
         ],
         "y": [
          0.04710311442613602
         ],
         "z": [
          "volumen"
         ]
        },
        {
         "hovertemplate": "color=pobre<br>x=%{x}<br>y=%{y}<br>z=%{z}<br>text=%{text}<extra></extra>",
         "legendgroup": "pobre",
         "marker": {
          "color": "#FECB52",
          "symbol": "circle"
         },
         "mode": "markers+text",
         "name": "pobre",
         "scene": "scene",
         "showlegend": true,
         "text": [
          "pobre"
         ],
         "type": "scatter3d",
         "x": [
          0.07226003706455231
         ],
         "y": [
          -0.049397047609090805
         ],
         "z": [
          "pobre"
         ]
        },
        {
         "hovertemplate": "color=duda<br>x=%{x}<br>y=%{y}<br>z=%{z}<br>text=%{text}<extra></extra>",
         "legendgroup": "duda",
         "marker": {
          "color": "#636efa",
          "symbol": "circle"
         },
         "mode": "markers+text",
         "name": "duda",
         "scene": "scene",
         "showlegend": true,
         "text": [
          "duda"
         ],
         "type": "scatter3d",
         "x": [
          0.08496634662151337
         ],
         "y": [
          -0.041152194142341614
         ],
         "z": [
          "duda"
         ]
        },
        {
         "hovertemplate": "color=tengo<br>x=%{x}<br>y=%{y}<br>z=%{z}<br>text=%{text}<extra></extra>",
         "legendgroup": "tengo",
         "marker": {
          "color": "#EF553B",
          "symbol": "circle"
         },
         "mode": "markers+text",
         "name": "tengo",
         "scene": "scene",
         "showlegend": true,
         "text": [
          "tengo"
         ],
         "type": "scatter3d",
         "x": [
          0.10115213692188263
         ],
         "y": [
          0.040898725390434265
         ],
         "z": [
          "tengo"
         ]
        },
        {
         "hovertemplate": "color=sobre<br>x=%{x}<br>y=%{y}<br>z=%{z}<br>text=%{text}<extra></extra>",
         "legendgroup": "sobre",
         "marker": {
          "color": "#00cc96",
          "symbol": "circle"
         },
         "mode": "markers+text",
         "name": "sobre",
         "scene": "scene",
         "showlegend": true,
         "text": [
          "sobre"
         ],
         "type": "scatter3d",
         "x": [
          -0.09119539707899094
         ],
         "y": [
          -0.10823478549718857
         ],
         "z": [
          "sobre"
         ]
        },
        {
         "hovertemplate": "color=derecho<br>x=%{x}<br>y=%{y}<br>z=%{z}<br>text=%{text}<extra></extra>",
         "legendgroup": "derecho",
         "marker": {
          "color": "#ab63fa",
          "symbol": "circle"
         },
         "mode": "markers+text",
         "name": "derecho",
         "scene": "scene",
         "showlegend": true,
         "text": [
          "derecho"
         ],
         "type": "scatter3d",
         "x": [
          0.01290001068264246
         ],
         "y": [
          -0.09054329246282578
         ],
         "z": [
          "derecho"
         ]
        },
        {
         "hovertemplate": "color=parece<br>x=%{x}<br>y=%{y}<br>z=%{z}<br>text=%{text}<extra></extra>",
         "legendgroup": "parece",
         "marker": {
          "color": "#FFA15A",
          "symbol": "circle"
         },
         "mode": "markers+text",
         "name": "parece",
         "scene": "scene",
         "showlegend": true,
         "text": [
          "parece"
         ],
         "type": "scatter3d",
         "x": [
          -0.016812173649668694
         ],
         "y": [
          -0.06356514245271683
         ],
         "z": [
          "parece"
         ]
        },
        {
         "hovertemplate": "color=antiguo<br>x=%{x}<br>y=%{y}<br>z=%{z}<br>text=%{text}<extra></extra>",
         "legendgroup": "antiguo",
         "marker": {
          "color": "#19d3f3",
          "symbol": "circle"
         },
         "mode": "markers+text",
         "name": "antiguo",
         "scene": "scene",
         "showlegend": true,
         "text": [
          "antiguo"
         ],
         "type": "scatter3d",
         "x": [
          -0.09120489656925201
         ],
         "y": [
          0.012293510138988495
         ],
         "z": [
          "antiguo"
         ]
        },
        {
         "hovertemplate": "color=casa<br>x=%{x}<br>y=%{y}<br>z=%{z}<br>text=%{text}<extra></extra>",
         "legendgroup": "casa",
         "marker": {
          "color": "#FF6692",
          "symbol": "circle"
         },
         "mode": "markers+text",
         "name": "casa",
         "scene": "scene",
         "showlegend": true,
         "text": [
          "casa"
         ],
         "type": "scatter3d",
         "x": [
          0.014577805064618587
         ],
         "y": [
          -0.03329654783010483
         ],
         "z": [
          "casa"
         ]
        },
        {
         "hovertemplate": "color=ventana<br>x=%{x}<br>y=%{y}<br>z=%{z}<br>text=%{text}<extra></extra>",
         "legendgroup": "ventana",
         "marker": {
          "color": "#B6E880",
          "symbol": "circle"
         },
         "mode": "markers+text",
         "name": "ventana",
         "scene": "scene",
         "showlegend": true,
         "text": [
          "ventana"
         ],
         "type": "scatter3d",
         "x": [
          0.03886747732758522
         ],
         "y": [
          0.05321770906448364
         ],
         "z": [
          "ventana"
         ]
        },
        {
         "hovertemplate": "color=oí<br>x=%{x}<br>y=%{y}<br>z=%{z}<br>text=%{text}<extra></extra>",
         "legendgroup": "oí",
         "marker": {
          "color": "#FF97FF",
          "symbol": "circle"
         },
         "mode": "markers+text",
         "name": "oí",
         "scene": "scene",
         "showlegend": true,
         "text": [
          "oí"
         ],
         "type": "scatter3d",
         "x": [
          -0.010171229019761086
         ],
         "y": [
          0.04567056894302368
         ],
         "z": [
          "oí"
         ]
        },
        {
         "hovertemplate": "color=muchacho<br>x=%{x}<br>y=%{y}<br>z=%{z}<br>text=%{text}<extra></extra>",
         "legendgroup": "muchacho",
         "marker": {
          "color": "#FECB52",
          "symbol": "circle"
         },
         "mode": "markers+text",
         "name": "muchacho",
         "scene": "scene",
         "showlegend": true,
         "text": [
          "muchacho"
         ],
         "type": "scatter3d",
         "x": [
          -0.0918014720082283
         ],
         "y": [
          -0.11564620584249496
         ],
         "z": [
          "muchacho"
         ]
        },
        {
         "hovertemplate": "color=buena<br>x=%{x}<br>y=%{y}<br>z=%{z}<br>text=%{text}<extra></extra>",
         "legendgroup": "buena",
         "marker": {
          "color": "#636efa",
          "symbol": "circle"
         },
         "mode": "markers+text",
         "name": "buena",
         "scene": "scene",
         "showlegend": true,
         "text": [
          "buena"
         ],
         "type": "scatter3d",
         "x": [
          -0.022990966215729713
         ],
         "y": [
          -0.04977366328239441
         ],
         "z": [
          "buena"
         ]
        },
        {
         "hovertemplate": "color=noticia<br>x=%{x}<br>y=%{y}<br>z=%{z}<br>text=%{text}<extra></extra>",
         "legendgroup": "noticia",
         "marker": {
          "color": "#EF553B",
          "symbol": "circle"
         },
         "mode": "markers+text",
         "name": "noticia",
         "scene": "scene",
         "showlegend": true,
         "text": [
          "noticia"
         ],
         "type": "scatter3d",
         "x": [
          0.04429709166288376
         ],
         "y": [
          0.018861589953303337
         ],
         "z": [
          "noticia"
         ]
        },
        {
         "hovertemplate": "color=diccionario<br>x=%{x}<br>y=%{y}<br>z=%{z}<br>text=%{text}<extra></extra>",
         "legendgroup": "diccionario",
         "marker": {
          "color": "#00cc96",
          "symbol": "circle"
         },
         "mode": "markers+text",
         "name": "diccionario",
         "scene": "scene",
         "showlegend": true,
         "text": [
          "diccionario"
         ],
         "type": "scatter3d",
         "x": [
          0.04514482617378235
         ],
         "y": [
          -0.001257744268514216
         ],
         "z": [
          "diccionario"
         ]
        },
        {
         "hovertemplate": "color=recordaba<br>x=%{x}<br>y=%{y}<br>z=%{z}<br>text=%{text}<extra></extra>",
         "legendgroup": "recordaba",
         "marker": {
          "color": "#ab63fa",
          "symbol": "circle"
         },
         "mode": "markers+text",
         "name": "recordaba",
         "scene": "scene",
         "showlegend": true,
         "text": [
          "recordaba"
         ],
         "type": "scatter3d",
         "x": [
          0.04524676501750946
         ],
         "y": [
          -0.03498871624469757
         ],
         "z": [
          "recordaba"
         ]
        },
        {
         "hovertemplate": "color=esos<br>x=%{x}<br>y=%{y}<br>z=%{z}<br>text=%{text}<extra></extra>",
         "legendgroup": "esos",
         "marker": {
          "color": "#FFA15A",
          "symbol": "circle"
         },
         "mode": "markers+text",
         "name": "esos",
         "scene": "scene",
         "showlegend": true,
         "text": [
          "esos"
         ],
         "type": "scatter3d",
         "x": [
          -0.06070442870259285
         ],
         "y": [
          -0.08611611276865005
         ],
         "z": [
          "esos"
         ]
        },
        {
         "hovertemplate": "color=arribo<br>x=%{x}<br>y=%{y}<br>z=%{z}<br>text=%{text}<extra></extra>",
         "legendgroup": "arribo",
         "marker": {
          "color": "#19d3f3",
          "symbol": "circle"
         },
         "mode": "markers+text",
         "name": "arribo",
         "scene": "scene",
         "showlegend": true,
         "text": [
          "arribo"
         ],
         "type": "scatter3d",
         "x": [
          0.1133149191737175
         ],
         "y": [
          -0.00844088289886713
         ],
         "z": [
          "arribo"
         ]
        },
        {
         "hovertemplate": "color=rancho<br>x=%{x}<br>y=%{y}<br>z=%{z}<br>text=%{text}<extra></extra>",
         "legendgroup": "rancho",
         "marker": {
          "color": "#FF6692",
          "symbol": "circle"
         },
         "mode": "markers+text",
         "name": "rancho",
         "scene": "scene",
         "showlegend": true,
         "text": [
          "rancho"
         ],
         "type": "scatter3d",
         "x": [
          -0.04594304412603378
         ],
         "y": [
          0.000533302198164165
         ],
         "z": [
          "rancho"
         ]
        },
        {
         "hovertemplate": "color=plinio<br>x=%{x}<br>y=%{y}<br>z=%{z}<br>text=%{text}<extra></extra>",
         "legendgroup": "plinio",
         "marker": {
          "color": "#B6E880",
          "symbol": "circle"
         },
         "mode": "markers+text",
         "name": "plinio",
         "scene": "scene",
         "showlegend": true,
         "text": [
          "plinio"
         ],
         "type": "scatter3d",
         "x": [
          0.025650646537542343
         ],
         "y": [
          0.03604484349489212
         ],
         "z": [
          "plinio"
         ]
        },
        {
         "hovertemplate": "color=quicherat<br>x=%{x}<br>y=%{y}<br>z=%{z}<br>text=%{text}<extra></extra>",
         "legendgroup": "quicherat",
         "marker": {
          "color": "#FF97FF",
          "symbol": "circle"
         },
         "mode": "markers+text",
         "name": "quicherat",
         "scene": "scene",
         "showlegend": true,
         "text": [
          "quicherat"
         ],
         "type": "scatter3d",
         "x": [
          0.008837983012199402
         ],
         "y": [
          -0.0727837085723877
         ],
         "z": [
          "quicherat"
         ]
        },
        {
         "hovertemplate": "color=valija<br>x=%{x}<br>y=%{y}<br>z=%{z}<br>text=%{text}<extra></extra>",
         "legendgroup": "valija",
         "marker": {
          "color": "#FECB52",
          "symbol": "circle"
         },
         "mode": "markers+text",
         "name": "valija",
         "scene": "scene",
         "showlegend": true,
         "text": [
          "valija"
         ],
         "type": "scatter3d",
         "x": [
          0.05078034847974777
         ],
         "y": [
          0.023819101974368095
         ],
         "z": [
          "valija"
         ]
        },
        {
         "hovertemplate": "color=aquel<br>x=%{x}<br>y=%{y}<br>z=%{z}<br>text=%{text}<extra></extra>",
         "legendgroup": "aquel",
         "marker": {
          "color": "#636efa",
          "symbol": "circle"
         },
         "mode": "markers+text",
         "name": "aquel",
         "scene": "scene",
         "showlegend": true,
         "text": [
          "aquel"
         ],
         "type": "scatter3d",
         "x": [
          0.029108582064509392
         ],
         "y": [
          -0.12672673165798187
         ],
         "z": [
          "aquel"
         ]
        },
        {
         "hovertemplate": "color=alguna<br>x=%{x}<br>y=%{y}<br>z=%{z}<br>text=%{text}<extra></extra>",
         "legendgroup": "alguna",
         "marker": {
          "color": "#EF553B",
          "symbol": "circle"
         },
         "mode": "markers+text",
         "name": "alguna",
         "scene": "scene",
         "showlegend": true,
         "text": [
          "alguna"
         ],
         "type": "scatter3d",
         "x": [
          0.08891701698303223
         ],
         "y": [
          -0.009361914359033108
         ],
         "z": [
          "alguna"
         ]
        },
        {
         "hovertemplate": "color=inmóvil<br>x=%{x}<br>y=%{y}<br>z=%{z}<br>text=%{text}<extra></extra>",
         "legendgroup": "inmóvil",
         "marker": {
          "color": "#00cc96",
          "symbol": "circle"
         },
         "mode": "markers+text",
         "name": "inmóvil",
         "scene": "scene",
         "showlegend": true,
         "text": [
          "inmóvil"
         ],
         "type": "scatter3d",
         "x": [
          -0.06674837321043015
         ],
         "y": [
          -0.054513540118932724
         ],
         "z": [
          "inmóvil"
         ]
        },
        {
         "hovertemplate": "color=punto<br>x=%{x}<br>y=%{y}<br>z=%{z}<br>text=%{text}<extra></extra>",
         "legendgroup": "punto",
         "marker": {
          "color": "#ab63fa",
          "symbol": "circle"
         },
         "mode": "markers+text",
         "name": "punto",
         "scene": "scene",
         "showlegend": true,
         "text": [
          "punto"
         ],
         "type": "scatter3d",
         "x": [
          0.013829446397721767
         ],
         "y": [
          0.06492604315280914
         ],
         "z": [
          "punto"
         ]
        },
        {
         "hovertemplate": "color=hecho<br>x=%{x}<br>y=%{y}<br>z=%{z}<br>text=%{text}<extra></extra>",
         "legendgroup": "hecho",
         "marker": {
          "color": "#FFA15A",
          "symbol": "circle"
         },
         "mode": "markers+text",
         "name": "hecho",
         "scene": "scene",
         "showlegend": true,
         "text": [
          "hecho"
         ],
         "type": "scatter3d",
         "x": [
          0.0512503907084465
         ],
         "y": [
          -0.012293466366827488
         ],
         "z": [
          "hecho"
         ]
        },
        {
         "hovertemplate": "color=tullido<br>x=%{x}<br>y=%{y}<br>z=%{z}<br>text=%{text}<extra></extra>",
         "legendgroup": "tullido",
         "marker": {
          "color": "#19d3f3",
          "symbol": "circle"
         },
         "mode": "markers+text",
         "name": "tullido",
         "scene": "scene",
         "showlegend": true,
         "text": [
          "tullido"
         ],
         "type": "scatter3d",
         "x": [
          0.022575493901968002
         ],
         "y": [
          0.031112493947148323
         ],
         "z": [
          "tullido"
         ]
        },
        {
         "hovertemplate": "color=catorce<br>x=%{x}<br>y=%{y}<br>z=%{z}<br>text=%{text}<extra></extra>",
         "legendgroup": "catorce",
         "marker": {
          "color": "#FF6692",
          "symbol": "circle"
         },
         "mode": "markers+text",
         "name": "catorce",
         "scene": "scene",
         "showlegend": true,
         "text": [
          "catorce"
         ],
         "type": "scatter3d",
         "x": [
          0.03728649765253067
         ],
         "y": [
          -0.008044477552175522
         ],
         "z": [
          "catorce"
         ]
        },
        {
         "hovertemplate": "color=natural<br>x=%{x}<br>y=%{y}<br>z=%{z}<br>text=%{text}<extra></extra>",
         "legendgroup": "natural",
         "marker": {
          "color": "#B6E880",
          "symbol": "circle"
         },
         "mode": "markers+text",
         "name": "natural",
         "scene": "scene",
         "showlegend": true,
         "text": [
          "natural"
         ],
         "type": "scatter3d",
         "x": [
          -0.05135972797870636
         ],
         "y": [
          0.031130734831094742
         ],
         "z": [
          "natural"
         ]
        },
        {
         "hovertemplate": "color=madre<br>x=%{x}<br>y=%{y}<br>z=%{z}<br>text=%{text}<extra></extra>",
         "legendgroup": "madre",
         "marker": {
          "color": "#FF97FF",
          "symbol": "circle"
         },
         "mode": "markers+text",
         "name": "madre",
         "scene": "scene",
         "showlegend": true,
         "text": [
          "madre"
         ],
         "type": "scatter3d",
         "x": [
          0.06074348837137222
         ],
         "y": [
          -0.0801418125629425
         ],
         "z": [
          "madre"
         ]
        },
        {
         "hovertemplate": "color=inglés<br>x=%{x}<br>y=%{y}<br>z=%{z}<br>text=%{text}<extra></extra>",
         "legendgroup": "inglés",
         "marker": {
          "color": "#FECB52",
          "symbol": "circle"
         },
         "mode": "markers+text",
         "name": "inglés",
         "scene": "scene",
         "showlegend": true,
         "text": [
          "inglés"
         ],
         "type": "scatter3d",
         "x": [
          0.056543607264757156
         ],
         "y": [
          -0.019183112308382988
         ],
         "z": [
          "inglés"
         ]
        },
        {
         "hovertemplate": "color=pueblo<br>x=%{x}<br>y=%{y}<br>z=%{z}<br>text=%{text}<extra></extra>",
         "legendgroup": "pueblo",
         "marker": {
          "color": "#636efa",
          "symbol": "circle"
         },
         "mode": "markers+text",
         "name": "pueblo",
         "scene": "scene",
         "showlegend": true,
         "text": [
          "pueblo"
         ],
         "type": "scatter3d",
         "x": [
          0.035518139600753784
         ],
         "y": [
          0.016564778983592987
         ],
         "z": [
          "pueblo"
         ]
        },
        {
         "hovertemplate": "color=hora<br>x=%{x}<br>y=%{y}<br>z=%{z}<br>text=%{text}<extra></extra>",
         "legendgroup": "hora",
         "marker": {
          "color": "#EF553B",
          "symbol": "circle"
         },
         "mode": "markers+text",
         "name": "hora",
         "scene": "scene",
         "showlegend": true,
         "text": [
          "hora"
         ],
         "type": "scatter3d",
         "x": [
          -0.051457032561302185
         ],
         "y": [
          -0.04253826290369034
         ],
         "z": [
          "hora"
         ]
        },
        {
         "hovertemplate": "color=deseo<br>x=%{x}<br>y=%{y}<br>z=%{z}<br>text=%{text}<extra></extra>",
         "legendgroup": "deseo",
         "marker": {
          "color": "#00cc96",
          "symbol": "circle"
         },
         "mode": "markers+text",
         "name": "deseo",
         "scene": "scene",
         "showlegend": true,
         "text": [
          "deseo"
         ],
         "type": "scatter3d",
         "x": [
          -0.09558945894241333
         ],
         "y": [
          -0.028369653970003128
         ],
         "z": [
          "deseo"
         ]
        },
        {
         "hovertemplate": "color=cierto<br>x=%{x}<br>y=%{y}<br>z=%{z}<br>text=%{text}<extra></extra>",
         "legendgroup": "cierto",
         "marker": {
          "color": "#ab63fa",
          "symbol": "circle"
         },
         "mode": "markers+text",
         "name": "cierto",
         "scene": "scene",
         "showlegend": true,
         "text": [
          "cierto"
         ],
         "type": "scatter3d",
         "x": [
          0.010779501870274544
         ],
         "y": [
          0.00357861933298409
         ],
         "z": [
          "cierto"
         ]
        },
        {
         "hovertemplate": "color=quien<br>x=%{x}<br>y=%{y}<br>z=%{z}<br>text=%{text}<extra></extra>",
         "legendgroup": "quien",
         "marker": {
          "color": "#FFA15A",
          "symbol": "circle"
         },
         "mode": "markers+text",
         "name": "quien",
         "scene": "scene",
         "showlegend": true,
         "text": [
          "quien"
         ],
         "type": "scatter3d",
         "x": [
          0.014353666454553604
         ],
         "y": [
          0.035616185516119
         ],
         "z": [
          "quien"
         ]
        },
        {
         "hovertemplate": "color=si<br>x=%{x}<br>y=%{y}<br>z=%{z}<br>text=%{text}<extra></extra>",
         "legendgroup": "si",
         "marker": {
          "color": "#19d3f3",
          "symbol": "circle"
         },
         "mode": "markers+text",
         "name": "si",
         "scene": "scene",
         "showlegend": true,
         "text": [
          "si"
         ],
         "type": "scatter3d",
         "x": [
          0.0034744662698358297
         ],
         "y": [
          -0.08676034957170486
         ],
         "z": [
          "si"
         ]
        },
        {
         "hovertemplate": "color=burlona<br>x=%{x}<br>y=%{y}<br>z=%{z}<br>text=%{text}<extra></extra>",
         "legendgroup": "burlona",
         "marker": {
          "color": "#FF6692",
          "symbol": "circle"
         },
         "mode": "markers+text",
         "name": "burlona",
         "scene": "scene",
         "showlegend": true,
         "text": [
          "burlona"
         ],
         "type": "scatter3d",
         "x": [
          -0.01372289378196001
         ],
         "y": [
          -0.059276729822158813
         ],
         "z": [
          "burlona"
         ]
        },
        {
         "hovertemplate": "color=horas<br>x=%{x}<br>y=%{y}<br>z=%{z}<br>text=%{text}<extra></extra>",
         "legendgroup": "horas",
         "marker": {
          "color": "#B6E880",
          "symbol": "circle"
         },
         "mode": "markers+text",
         "name": "horas",
         "scene": "scene",
         "showlegend": true,
         "text": [
          "horas"
         ],
         "type": "scatter3d",
         "x": [
          -0.09883852303028107
         ],
         "y": [
          -0.08087973296642303
         ],
         "z": [
          "horas"
         ]
        },
        {
         "hovertemplate": "color=rota<br>x=%{x}<br>y=%{y}<br>z=%{z}<br>text=%{text}<extra></extra>",
         "legendgroup": "rota",
         "marker": {
          "color": "#FF97FF",
          "symbol": "circle"
         },
         "mode": "markers+text",
         "name": "rota",
         "scene": "scene",
         "showlegend": true,
         "text": [
          "rota"
         ],
         "type": "scatter3d",
         "x": [
          -0.026748595759272575
         ],
         "y": [
          0.010049262084066868
         ],
         "z": [
          "rota"
         ]
        },
        {
         "hovertemplate": "color=estrecha<br>x=%{x}<br>y=%{y}<br>z=%{z}<br>text=%{text}<extra></extra>",
         "legendgroup": "estrecha",
         "marker": {
          "color": "#FECB52",
          "symbol": "circle"
         },
         "mode": "markers+text",
         "name": "estrecha",
         "scene": "scene",
         "showlegend": true,
         "text": [
          "estrecha"
         ],
         "type": "scatter3d",
         "x": [
          -0.03904009237885475
         ],
         "y": [
          -0.036093346774578094
         ],
         "z": [
          "estrecha"
         ]
        },
        {
         "hovertemplate": "color=decía<br>x=%{x}<br>y=%{y}<br>z=%{z}<br>text=%{text}<extra></extra>",
         "legendgroup": "decía",
         "marker": {
          "color": "#636efa",
          "symbol": "circle"
         },
         "mode": "markers+text",
         "name": "decía",
         "scene": "scene",
         "showlegend": true,
         "text": [
          "decía"
         ],
         "type": "scatter3d",
         "x": [
          -0.02170904353260994
         ],
         "y": [
          -0.025416329503059387
         ],
         "z": [
          "decía"
         ]
        },
        {
         "hovertemplate": "color=parra<br>x=%{x}<br>y=%{y}<br>z=%{z}<br>text=%{text}<extra></extra>",
         "legendgroup": "parra",
         "marker": {
          "color": "#EF553B",
          "symbol": "circle"
         },
         "mode": "markers+text",
         "name": "parra",
         "scene": "scene",
         "showlegend": true,
         "text": [
          "parra"
         ],
         "type": "scatter3d",
         "x": [
          -0.034395262598991394
         ],
         "y": [
          -0.011690889485180378
         ],
         "z": [
          "parra"
         ]
        },
        {
         "hovertemplate": "color=inútil<br>x=%{x}<br>y=%{y}<br>z=%{z}<br>text=%{text}<extra></extra>",
         "legendgroup": "inútil",
         "marker": {
          "color": "#00cc96",
          "symbol": "circle"
         },
         "mode": "markers+text",
         "name": "inútil",
         "scene": "scene",
         "showlegend": true,
         "text": [
          "inútil"
         ],
         "type": "scatter3d",
         "x": [
          -0.018474901095032692
         ],
         "y": [
          -0.009226685389876366
         ],
         "z": [
          "inútil"
         ]
        },
        {
         "hovertemplate": "color=pensar<br>x=%{x}<br>y=%{y}<br>z=%{z}<br>text=%{text}<extra></extra>",
         "legendgroup": "pensar",
         "marker": {
          "color": "#ab63fa",
          "symbol": "circle"
         },
         "mode": "markers+text",
         "name": "pensar",
         "scene": "scene",
         "showlegend": true,
         "text": [
          "pensar"
         ],
         "type": "scatter3d",
         "x": [
          0.05825372040271759
         ],
         "y": [
          0.05878639966249466
         ],
         "z": [
          "pensar"
         ]
        },
        {
         "hovertemplate": "color=decir<br>x=%{x}<br>y=%{y}<br>z=%{z}<br>text=%{text}<extra></extra>",
         "legendgroup": "decir",
         "marker": {
          "color": "#FFA15A",
          "symbol": "circle"
         },
         "mode": "markers+text",
         "name": "decir",
         "scene": "scene",
         "showlegend": true,
         "text": [
          "decir"
         ],
         "type": "scatter3d",
         "x": [
          -0.012802976183593273
         ],
         "y": [
          0.08605076372623444
         ],
         "z": [
          "decir"
         ]
        },
        {
         "hovertemplate": "color=tuviera<br>x=%{x}<br>y=%{y}<br>z=%{z}<br>text=%{text}<extra></extra>",
         "legendgroup": "tuviera",
         "marker": {
          "color": "#19d3f3",
          "symbol": "circle"
         },
         "mode": "markers+text",
         "name": "tuviera",
         "scene": "scene",
         "showlegend": true,
         "text": [
          "tuviera"
         ],
         "type": "scatter3d",
         "x": [
          0.07452646642923355
         ],
         "y": [
          -0.025125160813331604
         ],
         "z": [
          "tuviera"
         ]
        },
        {
         "hovertemplate": "color=conciencia<br>x=%{x}<br>y=%{y}<br>z=%{z}<br>text=%{text}<extra></extra>",
         "legendgroup": "conciencia",
         "marker": {
          "color": "#FF6692",
          "symbol": "circle"
         },
         "mode": "markers+text",
         "name": "conciencia",
         "scene": "scene",
         "showlegend": true,
         "text": [
          "conciencia"
         ],
         "type": "scatter3d",
         "x": [
          -0.018051525577902794
         ],
         "y": [
          -0.12431924045085907
         ],
         "z": [
          "conciencia"
         ]
        },
        {
         "hovertemplate": "color=muerte<br>x=%{x}<br>y=%{y}<br>z=%{z}<br>text=%{text}<extra></extra>",
         "legendgroup": "muerte",
         "marker": {
          "color": "#B6E880",
          "symbol": "circle"
         },
         "mode": "markers+text",
         "name": "muerte",
         "scene": "scene",
         "showlegend": true,
         "text": [
          "muerte"
         ],
         "type": "scatter3d",
         "x": [
          -0.014839132316410542
         ],
         "y": [
          0.09381856769323349
         ],
         "z": [
          "muerte"
         ]
        },
        {
         "hovertemplate": "color=discernía<br>x=%{x}<br>y=%{y}<br>z=%{z}<br>text=%{text}<extra></extra>",
         "legendgroup": "discernía",
         "marker": {
          "color": "#FF97FF",
          "symbol": "circle"
         },
         "mode": "markers+text",
         "name": "discernía",
         "scene": "scene",
         "showlegend": true,
         "text": [
          "discernía"
         ],
         "type": "scatter3d",
         "x": [
          0.019257351756095886
         ],
         "y": [
          -0.05223648622632027
         ],
         "z": [
          "discernía"
         ]
        },
        {
         "hovertemplate": "color=demasiado<br>x=%{x}<br>y=%{y}<br>z=%{z}<br>text=%{text}<extra></extra>",
         "legendgroup": "demasiado",
         "marker": {
          "color": "#FECB52",
          "symbol": "circle"
         },
         "mode": "markers+text",
         "name": "demasiado",
         "scene": "scene",
         "showlegend": true,
         "text": [
          "demasiado"
         ],
         "type": "scatter3d",
         "x": [
          0.043671876192092896
         ],
         "y": [
          -0.03304266184568405
         ],
         "z": [
          "demasiado"
         ]
        },
        {
         "hovertemplate": "color=casas<br>x=%{x}<br>y=%{y}<br>z=%{z}<br>text=%{text}<extra></extra>",
         "legendgroup": "casas",
         "marker": {
          "color": "#636efa",
          "symbol": "circle"
         },
         "mode": "markers+text",
         "name": "casas",
         "scene": "scene",
         "showlegend": true,
         "text": [
          "casas"
         ],
         "type": "scatter3d",
         "x": [
          0.07706562429666519
         ],
         "y": [
          0.08490262180566788
         ],
         "z": [
          "casas"
         ]
        },
        {
         "hovertemplate": "color=sino<br>x=%{x}<br>y=%{y}<br>z=%{z}<br>text=%{text}<extra></extra>",
         "legendgroup": "sino",
         "marker": {
          "color": "#EF553B",
          "symbol": "circle"
         },
         "mode": "markers+text",
         "name": "sino",
         "scene": "scene",
         "showlegend": true,
         "text": [
          "sino"
         ],
         "type": "scatter3d",
         "x": [
          0.0801888182759285
         ],
         "y": [
          0.03594508767127991
         ],
         "z": [
          "sino"
         ]
        },
        {
         "hovertemplate": "color=físico<br>x=%{x}<br>y=%{y}<br>z=%{z}<br>text=%{text}<extra></extra>",
         "legendgroup": "físico",
         "marker": {
          "color": "#00cc96",
          "symbol": "circle"
         },
         "mode": "markers+text",
         "name": "físico",
         "scene": "scene",
         "showlegend": true,
         "text": [
          "físico"
         ],
         "type": "scatter3d",
         "x": [
          -0.012449507601559162
         ],
         "y": [
          -0.03160231560468674
         ],
         "z": [
          "físico"
         ]
        },
        {
         "hovertemplate": "color=idioma<br>x=%{x}<br>y=%{y}<br>z=%{z}<br>text=%{text}<extra></extra>",
         "legendgroup": "idioma",
         "marker": {
          "color": "#ab63fa",
          "symbol": "circle"
         },
         "mode": "markers+text",
         "name": "idioma",
         "scene": "scene",
         "showlegend": true,
         "text": [
          "idioma"
         ],
         "type": "scatter3d",
         "x": [
          0.02182987704873085
         ],
         "y": [
          0.010968180373311043
         ],
         "z": [
          "idioma"
         ]
        },
        {
         "hovertemplate": "color=indiferente<br>x=%{x}<br>y=%{y}<br>z=%{z}<br>text=%{text}<extra></extra>",
         "legendgroup": "indiferente",
         "marker": {
          "color": "#FFA15A",
          "symbol": "circle"
         },
         "mode": "markers+text",
         "name": "indiferente",
         "scene": "scene",
         "showlegend": true,
         "text": [
          "indiferente"
         ],
         "type": "scatter3d",
         "x": [
          -0.0040067085064947605
         ],
         "y": [
          0.08895110338926315
         ],
         "z": [
          "indiferente"
         ]
        },
        {
         "hovertemplate": "color=saber<br>x=%{x}<br>y=%{y}<br>z=%{z}<br>text=%{text}<extra></extra>",
         "legendgroup": "saber",
         "marker": {
          "color": "#19d3f3",
          "symbol": "circle"
         },
         "mode": "markers+text",
         "name": "saber",
         "scene": "scene",
         "showlegend": true,
         "text": [
          "saber"
         ],
         "type": "scatter3d",
         "x": [
          0.0003419432323426008
         ],
         "y": [
          0.018840603530406952
         ],
         "z": [
          "saber"
         ]
        },
        {
         "hovertemplate": "color=planchadora<br>x=%{x}<br>y=%{y}<br>z=%{z}<br>text=%{text}<extra></extra>",
         "legendgroup": "planchadora",
         "marker": {
          "color": "#FF6692",
          "symbol": "circle"
         },
         "mode": "markers+text",
         "name": "planchadora",
         "scene": "scene",
         "showlegend": true,
         "text": [
          "planchadora"
         ],
         "type": "scatter3d",
         "x": [
          -0.02738139219582081
         ],
         "y": [
          -0.09572018682956696
         ],
         "z": [
          "planchadora"
         ]
        },
        {
         "hovertemplate": "color=hijo<br>x=%{x}<br>y=%{y}<br>z=%{z}<br>text=%{text}<extra></extra>",
         "legendgroup": "hijo",
         "marker": {
          "color": "#B6E880",
          "symbol": "circle"
         },
         "mode": "markers+text",
         "name": "hijo",
         "scene": "scene",
         "showlegend": true,
         "text": [
          "hijo"
         ],
         "type": "scatter3d",
         "x": [
          0.03391404449939728
         ],
         "y": [
          -0.010746178217232227
         ],
         "z": [
          "hijo"
         ]
        },
        {
         "hovertemplate": "color=agregó<br>x=%{x}<br>y=%{y}<br>z=%{z}<br>text=%{text}<extra></extra>",
         "legendgroup": "agregó",
         "marker": {
          "color": "#FF97FF",
          "symbol": "circle"
         },
         "mode": "markers+text",
         "name": "agregó",
         "scene": "scene",
         "showlegend": true,
         "text": [
          "agregó"
         ],
         "type": "scatter3d",
         "x": [
          -0.049083512276411057
         ],
         "y": [
          -0.04616452753543854
         ],
         "z": [
          "agregó"
         ]
        },
        {
         "hovertemplate": "color=reloj<br>x=%{x}<br>y=%{y}<br>z=%{z}<br>text=%{text}<extra></extra>",
         "legendgroup": "reloj",
         "marker": {
          "color": "#FECB52",
          "symbol": "circle"
         },
         "mode": "markers+text",
         "name": "reloj",
         "scene": "scene",
         "showlegend": true,
         "text": [
          "reloj"
         ],
         "type": "scatter3d",
         "x": [
          0.029320957139134407
         ],
         "y": [
          0.05120300501585007
         ],
         "z": [
          "reloj"
         ]
        },
        {
         "hovertemplate": "color=perfil<br>x=%{x}<br>y=%{y}<br>z=%{z}<br>text=%{text}<extra></extra>",
         "legendgroup": "perfil",
         "marker": {
          "color": "#636efa",
          "symbol": "circle"
         },
         "mode": "markers+text",
         "name": "perfil",
         "scene": "scene",
         "showlegend": true,
         "text": [
          "perfil"
         ],
         "type": "scatter3d",
         "x": [
          -0.04472167044878006
         ],
         "y": [
          0.019438527524471283
         ],
         "z": [
          "perfil"
         ]
        },
        {
         "hovertemplate": "color=orgullo<br>x=%{x}<br>y=%{y}<br>z=%{z}<br>text=%{text}<extra></extra>",
         "legendgroup": "orgullo",
         "marker": {
          "color": "#EF553B",
          "symbol": "circle"
         },
         "mode": "markers+text",
         "name": "orgullo",
         "scene": "scene",
         "showlegend": true,
         "text": [
          "orgullo"
         ],
         "type": "scatter3d",
         "x": [
          0.04721537604928017
         ],
         "y": [
          0.03821079060435295
         ],
         "z": [
          "orgullo"
         ]
        },
        {
         "hovertemplate": "color=siempre<br>x=%{x}<br>y=%{y}<br>z=%{z}<br>text=%{text}<extra></extra>",
         "legendgroup": "siempre",
         "marker": {
          "color": "#00cc96",
          "symbol": "circle"
         },
         "mode": "markers+text",
         "name": "siempre",
         "scene": "scene",
         "showlegend": true,
         "text": [
          "siempre"
         ],
         "type": "scatter3d",
         "x": [
          -0.1365533322095871
         ],
         "y": [
          -0.04980604723095894
         ],
         "z": [
          "siempre"
         ]
        },
        {
         "hovertemplate": "color=darse<br>x=%{x}<br>y=%{y}<br>z=%{z}<br>text=%{text}<extra></extra>",
         "legendgroup": "darse",
         "marker": {
          "color": "#ab63fa",
          "symbol": "circle"
         },
         "mode": "markers+text",
         "name": "darse",
         "scene": "scene",
         "showlegend": true,
         "text": [
          "darse"
         ],
         "type": "scatter3d",
         "x": [
          -0.012109489180147648
         ],
         "y": [
          0.05277663469314575
         ],
         "z": [
          "darse"
         ]
        },
        {
         "hovertemplate": "color=réplica<br>x=%{x}<br>y=%{y}<br>z=%{z}<br>text=%{text}<extra></extra>",
         "legendgroup": "réplica",
         "marker": {
          "color": "#FFA15A",
          "symbol": "circle"
         },
         "mode": "markers+text",
         "name": "réplica",
         "scene": "scene",
         "showlegend": true,
         "text": [
          "réplica"
         ],
         "type": "scatter3d",
         "x": [
          0.01927199773490429
         ],
         "y": [
          -0.00625164108350873
         ],
         "z": [
          "réplica"
         ]
        },
        {
         "hovertemplate": "color=local<br>x=%{x}<br>y=%{y}<br>z=%{z}<br>text=%{text}<extra></extra>",
         "legendgroup": "local",
         "marker": {
          "color": "#19d3f3",
          "symbol": "circle"
         },
         "mode": "markers+text",
         "name": "local",
         "scene": "scene",
         "showlegend": true,
         "text": [
          "local"
         ],
         "type": "scatter3d",
         "x": [
          -0.03902240842580795
         ],
         "y": [
          -0.008529476821422577
         ],
         "z": [
          "local"
         ]
        },
        {
         "hovertemplate": "color=rarezas<br>x=%{x}<br>y=%{y}<br>z=%{z}<br>text=%{text}<extra></extra>",
         "legendgroup": "rarezas",
         "marker": {
          "color": "#FF6692",
          "symbol": "circle"
         },
         "mode": "markers+text",
         "name": "rarezas",
         "scene": "scene",
         "showlegend": true,
         "text": [
          "rarezas"
         ],
         "type": "scatter3d",
         "x": [
          0.12702228128910065
         ],
         "y": [
          0.025448765605688095
         ],
         "z": [
          "rarezas"
         ]
        },
        {
         "hovertemplate": "color=algunas<br>x=%{x}<br>y=%{y}<br>z=%{z}<br>text=%{text}<extra></extra>",
         "legendgroup": "algunas",
         "marker": {
          "color": "#B6E880",
          "symbol": "circle"
         },
         "mode": "markers+text",
         "name": "algunas",
         "scene": "scene",
         "showlegend": true,
         "text": [
          "algunas"
         ],
         "type": "scatter3d",
         "x": [
          -0.1034424677491188
         ],
         "y": [
          -0.033005647361278534
         ],
         "z": [
          "algunas"
         ]
        },
        {
         "hovertemplate": "color=frente<br>x=%{x}<br>y=%{y}<br>z=%{z}<br>text=%{text}<extra></extra>",
         "legendgroup": "frente",
         "marker": {
          "color": "#FF97FF",
          "symbol": "circle"
         },
         "mode": "markers+text",
         "name": "frente",
         "scene": "scene",
         "showlegend": true,
         "text": [
          "frente"
         ],
         "type": "scatter3d",
         "x": [
          0.05712394788861275
         ],
         "y": [
          0.004101535305380821
         ],
         "z": [
          "frente"
         ]
        },
        {
         "hovertemplate": "color=mentado<br>x=%{x}<br>y=%{y}<br>z=%{z}<br>text=%{text}<extra></extra>",
         "legendgroup": "mentado",
         "marker": {
          "color": "#FECB52",
          "symbol": "circle"
         },
         "mode": "markers+text",
         "name": "mentado",
         "scene": "scene",
         "showlegend": true,
         "text": [
          "mentado"
         ],
         "type": "scatter3d",
         "x": [
          -0.019141975790262222
         ],
         "y": [
          0.015762934461236
         ],
         "z": [
          "mentado"
         ]
        },
        {
         "hovertemplate": "color=mostrarse<br>x=%{x}<br>y=%{y}<br>z=%{z}<br>text=%{text}<extra></extra>",
         "legendgroup": "mostrarse",
         "marker": {
          "color": "#636efa",
          "symbol": "circle"
         },
         "mode": "markers+text",
         "name": "mostrarse",
         "scene": "scene",
         "showlegend": true,
         "text": [
          "mostrarse"
         ],
         "type": "scatter3d",
         "x": [
          0.04624509438872337
         ],
         "y": [
          -0.05613790452480316
         ],
         "z": [
          "mostrarse"
         ]
        },
        {
         "hovertemplate": "color=cuarto<br>x=%{x}<br>y=%{y}<br>z=%{z}<br>text=%{text}<extra></extra>",
         "legendgroup": "cuarto",
         "marker": {
          "color": "#EF553B",
          "symbol": "circle"
         },
         "mode": "markers+text",
         "name": "cuarto",
         "scene": "scene",
         "showlegend": true,
         "text": [
          "cuarto"
         ],
         "type": "scatter3d",
         "x": [
          0.017190515995025635
         ],
         "y": [
          0.015217175707221031
         ],
         "z": [
          "cuarto"
         ]
        },
        {
         "hovertemplate": "color=tripartita<br>x=%{x}<br>y=%{y}<br>z=%{z}<br>text=%{text}<extra></extra>",
         "legendgroup": "tripartita",
         "marker": {
          "color": "#00cc96",
          "symbol": "circle"
         },
         "mode": "markers+text",
         "name": "tripartita",
         "scene": "scene",
         "showlegend": true,
         "text": [
          "tripartita"
         ],
         "type": "scatter3d",
         "x": [
          0.029202716425061226
         ],
         "y": [
          -0.0338815338909626
         ],
         "z": [
          "tripartita"
         ]
        },
        {
         "hovertemplate": "color=molestaba<br>x=%{x}<br>y=%{y}<br>z=%{z}<br>text=%{text}<extra></extra>",
         "legendgroup": "molestaba",
         "marker": {
          "color": "#ab63fa",
          "symbol": "circle"
         },
         "mode": "markers+text",
         "name": "molestaba",
         "scene": "scene",
         "showlegend": true,
         "text": [
          "molestaba"
         ],
         "type": "scatter3d",
         "x": [
          -0.00928901880979538
         ],
         "y": [
          -0.0791735053062439
         ],
         "z": [
          "molestaba"
         ]
        },
        {
         "hovertemplate": "color=clementina<br>x=%{x}<br>y=%{y}<br>z=%{z}<br>text=%{text}<extra></extra>",
         "legendgroup": "clementina",
         "marker": {
          "color": "#FFA15A",
          "symbol": "circle"
         },
         "mode": "markers+text",
         "name": "clementina",
         "scene": "scene",
         "showlegend": true,
         "text": [
          "clementina"
         ],
         "type": "scatter3d",
         "x": [
          -0.004847619216889143
         ],
         "y": [
          -0.015349313616752625
         ],
         "z": [
          "clementina"
         ]
        },
        {
         "hovertemplate": "color=maría<br>x=%{x}<br>y=%{y}<br>z=%{z}<br>text=%{text}<extra></extra>",
         "legendgroup": "maría",
         "marker": {
          "color": "#19d3f3",
          "symbol": "circle"
         },
         "mode": "markers+text",
         "name": "maría",
         "scene": "scene",
         "showlegend": true,
         "text": [
          "maría"
         ],
         "type": "scatter3d",
         "x": [
          0.060134053230285645
         ],
         "y": [
          0.01523425243794918
         ],
         "z": [
          "maría"
         ]
        },
        {
         "hovertemplate": "color=diversos<br>x=%{x}<br>y=%{y}<br>z=%{z}<br>text=%{text}<extra></extra>",
         "legendgroup": "diversos",
         "marker": {
          "color": "#FF6692",
          "symbol": "circle"
         },
         "mode": "markers+text",
         "name": "diversos",
         "scene": "scene",
         "showlegend": true,
         "text": [
          "diversos"
         ],
         "type": "scatter3d",
         "x": [
          0.0763302743434906
         ],
         "y": [
          -0.038294631987810135
         ],
         "z": [
          "diversos"
         ]
        },
        {
         "hovertemplate": "color=volví<br>x=%{x}<br>y=%{y}<br>z=%{z}<br>text=%{text}<extra></extra>",
         "legendgroup": "volví",
         "marker": {
          "color": "#B6E880",
          "symbol": "circle"
         },
         "mode": "markers+text",
         "name": "volví",
         "scene": "scene",
         "showlegend": true,
         "text": [
          "volví"
         ],
         "type": "scatter3d",
         "x": [
          0.04775054380297661
         ],
         "y": [
          -0.006358667742460966
         ],
         "z": [
          "volví"
         ]
        },
        {
         "hovertemplate": "color=87<br>x=%{x}<br>y=%{y}<br>z=%{z}<br>text=%{text}<extra></extra>",
         "legendgroup": "87",
         "marker": {
          "color": "#FF97FF",
          "symbol": "circle"
         },
         "mode": "markers+text",
         "name": "87",
         "scene": "scene",
         "showlegend": true,
         "text": [
          "87"
         ],
         "type": "scatter3d",
         "x": [
          -0.03755137324333191
         ],
         "y": [
          0.0020440288353711367
         ],
         "z": [
          "87"
         ]
        },
        {
         "hovertemplate": "color=montevideo<br>x=%{x}<br>y=%{y}<br>z=%{z}<br>text=%{text}<extra></extra>",
         "legendgroup": "montevideo",
         "marker": {
          "color": "#FECB52",
          "symbol": "circle"
         },
         "mode": "markers+text",
         "name": "montevideo",
         "scene": "scene",
         "showlegend": true,
         "text": [
          "montevideo"
         ],
         "type": "scatter3d",
         "x": [
          -0.00019938364857807755
         ],
         "y": [
          0.0167471282184124
         ],
         "z": [
          "montevideo"
         ]
        },
        {
         "hovertemplate": "color=ciudad<br>x=%{x}<br>y=%{y}<br>z=%{z}<br>text=%{text}<extra></extra>",
         "legendgroup": "ciudad",
         "marker": {
          "color": "#636efa",
          "symbol": "circle"
         },
         "mode": "markers+text",
         "name": "ciudad",
         "scene": "scene",
         "showlegend": true,
         "text": [
          "ciudad"
         ],
         "type": "scatter3d",
         "x": [
          -0.03841967135667801
         ],
         "y": [
          -0.0009168987162411213
         ],
         "z": [
          "ciudad"
         ]
        },
        {
         "hovertemplate": "color=veraneamos<br>x=%{x}<br>y=%{y}<br>z=%{z}<br>text=%{text}<extra></extra>",
         "legendgroup": "veraneamos",
         "marker": {
          "color": "#EF553B",
          "symbol": "circle"
         },
         "mode": "markers+text",
         "name": "veraneamos",
         "scene": "scene",
         "showlegend": true,
         "text": [
          "veraneamos"
         ],
         "type": "scatter3d",
         "x": [
          0.0964609757065773
         ],
         "y": [
          -0.08815420418977737
         ],
         "z": [
          "veraneamos"
         ]
        },
        {
         "hovertemplate": "color=86<br>x=%{x}<br>y=%{y}<br>z=%{z}<br>text=%{text}<extra></extra>",
         "legendgroup": "86",
         "marker": {
          "color": "#00cc96",
          "symbol": "circle"
         },
         "mode": "markers+text",
         "name": "86",
         "scene": "scene",
         "showlegend": true,
         "text": [
          "86"
         ],
         "type": "scatter3d",
         "x": [
          -0.05031188949942589
         ],
         "y": [
          -0.013362745754420757
         ],
         "z": [
          "86"
         ]
        },
        {
         "hovertemplate": "color=85<br>x=%{x}<br>y=%{y}<br>z=%{z}<br>text=%{text}<extra></extra>",
         "legendgroup": "85",
         "marker": {
          "color": "#ab63fa",
          "symbol": "circle"
         },
         "mode": "markers+text",
         "name": "85",
         "scene": "scene",
         "showlegend": true,
         "text": [
          "85"
         ],
         "type": "scatter3d",
         "x": [
          -0.036006879061460495
         ],
         "y": [
          0.03739938512444496
         ],
         "z": [
          "85"
         ]
        },
        {
         "hovertemplate": "color=dispares<br>x=%{x}<br>y=%{y}<br>z=%{z}<br>text=%{text}<extra></extra>",
         "legendgroup": "dispares",
         "marker": {
          "color": "#FFA15A",
          "symbol": "circle"
         },
         "mode": "markers+text",
         "name": "dispares",
         "scene": "scene",
         "showlegend": true,
         "text": [
          "dispares"
         ],
         "type": "scatter3d",
         "x": [
          -0.11741875112056732
         ],
         "y": [
          -0.07004161179065704
         ],
         "z": [
          "dispares"
         ]
        },
        {
         "hovertemplate": "color=laureles<br>x=%{x}<br>y=%{y}<br>z=%{z}<br>text=%{text}<extra></extra>",
         "legendgroup": "laureles",
         "marker": {
          "color": "#19d3f3",
          "symbol": "circle"
         },
         "mode": "markers+text",
         "name": "laureles",
         "scene": "scene",
         "showlegend": true,
         "text": [
          "laureles"
         ],
         "type": "scatter3d",
         "x": [
          0.06129774823784828
         ],
         "y": [
          0.01768690161406994
         ],
         "z": [
          "laureles"
         ]
        },
        {
         "hovertemplate": "color=quinta<br>x=%{x}<br>y=%{y}<br>z=%{z}<br>text=%{text}<extra></extra>",
         "legendgroup": "quinta",
         "marker": {
          "color": "#FF6692",
          "symbol": "circle"
         },
         "mode": "markers+text",
         "name": "quinta",
         "scene": "scene",
         "showlegend": true,
         "text": [
          "quinta"
         ],
         "type": "scatter3d",
         "x": [
          -0.03782803192734718
         ],
         "y": [
          -0.040798839181661606
         ],
         "z": [
          "quinta"
         ]
        },
        {
         "hovertemplate": "color=vuelta<br>x=%{x}<br>y=%{y}<br>z=%{z}<br>text=%{text}<extra></extra>",
         "legendgroup": "vuelta",
         "marker": {
          "color": "#B6E880",
          "symbol": "circle"
         },
         "mode": "markers+text",
         "name": "vuelta",
         "scene": "scene",
         "showlegend": true,
         "text": [
          "vuelta"
         ],
         "type": "scatter3d",
         "x": [
          -0.041857026517391205
         ],
         "y": [
          0.057130713015794754
         ],
         "z": [
          "vuelta"
         ]
        },
        {
         "hovertemplate": "color=vivía<br>x=%{x}<br>y=%{y}<br>z=%{z}<br>text=%{text}<extra></extra>",
         "legendgroup": "vivía",
         "marker": {
          "color": "#FF97FF",
          "symbol": "circle"
         },
         "mode": "markers+text",
         "name": "vivía",
         "scene": "scene",
         "showlegend": true,
         "text": [
          "vivía"
         ],
         "type": "scatter3d",
         "x": [
          -0.08514250069856644
         ],
         "y": [
          0.00854584388434887
         ],
         "z": [
          "vivía"
         ]
        },
        {
         "hovertemplate": "color=estimulaban<br>x=%{x}<br>y=%{y}<br>z=%{z}<br>text=%{text}<extra></extra>",
         "legendgroup": "estimulaban",
         "marker": {
          "color": "#FECB52",
          "symbol": "circle"
         },
         "mode": "markers+text",
         "name": "estimulaban",
         "scene": "scene",
         "showlegend": true,
         "text": [
          "estimulaban"
         ],
         "type": "scatter3d",
         "x": [
          0.05773773044347763
         ],
         "y": [
          0.1048821285367012
         ],
         "z": [
          "estimulaban"
         ]
        },
        {
         "hovertemplate": "color=salto<br>x=%{x}<br>y=%{y}<br>z=%{z}<br>text=%{text}<extra></extra>",
         "legendgroup": "salto",
         "marker": {
          "color": "#636efa",
          "symbol": "circle"
         },
         "mode": "markers+text",
         "name": "salto",
         "scene": "scene",
         "showlegend": true,
         "text": [
          "salto"
         ],
         "type": "scatter3d",
         "x": [
          0.012255349196493626
         ],
         "y": [
          -0.10692495107650757
         ],
         "z": [
          "salto"
         ]
        },
        {
         "hovertemplate": "color=departamento<br>x=%{x}<br>y=%{y}<br>z=%{z}<br>text=%{text}<extra></extra>",
         "legendgroup": "departamento",
         "marker": {
          "color": "#EF553B",
          "symbol": "circle"
         },
         "mode": "markers+text",
         "name": "departamento",
         "scene": "scene",
         "showlegend": true,
         "text": [
          "departamento"
         ],
         "type": "scatter3d",
         "x": [
          0.10136020928621292
         ],
         "y": [
          -0.09697889536619186
         ],
         "z": [
          "departamento"
         ]
        },
        {
         "hovertemplate": "color=rastreador<br>x=%{x}<br>y=%{y}<br>z=%{z}<br>text=%{text}<extra></extra>",
         "legendgroup": "rastreador",
         "marker": {
          "color": "#00cc96",
          "symbol": "circle"
         },
         "mode": "markers+text",
         "name": "rastreador",
         "scene": "scene",
         "showlegend": true,
         "text": [
          "rastreador"
         ],
         "type": "scatter3d",
         "x": [
          0.030578861013054848
         ],
         "y": [
          -0.0247007068246603
         ],
         "z": [
          "rastreador"
         ]
        },
        {
         "hovertemplate": "color=domador<br>x=%{x}<br>y=%{y}<br>z=%{z}<br>text=%{text}<extra></extra>",
         "legendgroup": "domador",
         "marker": {
          "color": "#ab63fa",
          "symbol": "circle"
         },
         "mode": "markers+text",
         "name": "domador",
         "scene": "scene",
         "showlegend": true,
         "text": [
          "domador"
         ],
         "type": "scatter3d",
         "x": [
          0.0937034860253334
         ],
         "y": [
          0.05820781737565994
         ],
         "z": [
          "domador"
         ]
        },
        {
         "hovertemplate": "color=tamaños<br>x=%{x}<br>y=%{y}<br>z=%{z}<br>text=%{text}<extra></extra>",
         "legendgroup": "tamaños",
         "marker": {
          "color": "#FFA15A",
          "symbol": "circle"
         },
         "mode": "markers+text",
         "name": "tamaños",
         "scene": "scene",
         "showlegend": true,
         "text": [
          "tamaños"
         ],
         "type": "scatter3d",
         "x": [
          -0.10950702428817749
         ],
         "y": [
          -0.01129855401813984
         ],
         "z": [
          "tamaños"
         ]
        },
        {
         "hovertemplate": "color=connor<br>x=%{x}<br>y=%{y}<br>z=%{z}<br>text=%{text}<extra></extra>",
         "legendgroup": "connor",
         "marker": {
          "color": "#19d3f3",
          "symbol": "circle"
         },
         "mode": "markers+text",
         "name": "connor",
         "scene": "scene",
         "showlegend": true,
         "text": [
          "connor"
         ],
         "type": "scatter3d",
         "x": [
          -0.061256203800439835
         ],
         "y": [
          -0.013613401912152767
         ],
         "z": [
          "connor"
         ]
        },
        {
         "hovertemplate": "color=diversa<br>x=%{x}<br>y=%{y}<br>z=%{z}<br>text=%{text}<extra></extra>",
         "legendgroup": "diversa",
         "marker": {
          "color": "#FF6692",
          "symbol": "circle"
         },
         "mode": "markers+text",
         "name": "diversa",
         "scene": "scene",
         "showlegend": true,
         "text": [
          "diversa"
         ],
         "type": "scatter3d",
         "x": [
          -0.06210111454129219
         ],
         "y": [
          -0.13918770849704742
         ],
         "z": [
          "diversa"
         ]
        },
        {
         "hovertemplate": "color=saladero<br>x=%{x}<br>y=%{y}<br>z=%{z}<br>text=%{text}<extra></extra>",
         "legendgroup": "saladero",
         "marker": {
          "color": "#B6E880",
          "symbol": "circle"
         },
         "mode": "markers+text",
         "name": "saladero",
         "scene": "scene",
         "showlegend": true,
         "text": [
          "saladero"
         ],
         "type": "scatter3d",
         "x": [
          0.08208078891038895
         ],
         "y": [
          -0.028766054660081863
         ],
         "z": [
          "saladero"
         ]
        },
        {
         "hovertemplate": "color=médico<br>x=%{x}<br>y=%{y}<br>z=%{z}<br>text=%{text}<extra></extra>",
         "legendgroup": "médico",
         "marker": {
          "color": "#FF97FF",
          "symbol": "circle"
         },
         "mode": "markers+text",
         "name": "médico",
         "scene": "scene",
         "showlegend": true,
         "text": [
          "médico"
         ],
         "type": "scatter3d",
         "x": [
          0.054214056581258774
         ],
         "y": [
          -0.0457335002720356
         ],
         "z": [
          "médico"
         ]
        },
        {
         "hovertemplate": "color=decían<br>x=%{x}<br>y=%{y}<br>z=%{z}<br>text=%{text}<extra></extra>",
         "legendgroup": "decían",
         "marker": {
          "color": "#FECB52",
          "symbol": "circle"
         },
         "mode": "markers+text",
         "name": "decían",
         "scene": "scene",
         "showlegend": true,
         "text": [
          "decían"
         ],
         "type": "scatter3d",
         "x": [
          -0.1546720415353775
         ],
         "y": [
          -0.07513183355331421
         ],
         "z": [
          "decían"
         ]
        },
        {
         "hovertemplate": "color=algunos<br>x=%{x}<br>y=%{y}<br>z=%{z}<br>text=%{text}<extra></extra>",
         "legendgroup": "algunos",
         "marker": {
          "color": "#636efa",
          "symbol": "circle"
         },
         "mode": "markers+text",
         "name": "algunos",
         "scene": "scene",
         "showlegend": true,
         "text": [
          "algunos"
         ],
         "type": "scatter3d",
         "x": [
          -0.006094017531722784
         ],
         "y": [
          0.0008795050671324134
         ],
         "z": [
          "algunos"
         ]
        },
        {
         "hovertemplate": "color=propia<br>x=%{x}<br>y=%{y}<br>z=%{z}<br>text=%{text}<extra></extra>",
         "legendgroup": "propia",
         "marker": {
          "color": "#EF553B",
          "symbol": "circle"
         },
         "mode": "markers+text",
         "name": "propia",
         "scene": "scene",
         "showlegend": true,
         "text": [
          "propia"
         ],
         "type": "scatter3d",
         "x": [
          0.09615062177181244
         ],
         "y": [
          0.0198063962161541
         ],
         "z": [
          "propia"
         ]
        },
        {
         "hovertemplate": "color=contrario<br>x=%{x}<br>y=%{y}<br>z=%{z}<br>text=%{text}<extra></extra>",
         "legendgroup": "contrario",
         "marker": {
          "color": "#00cc96",
          "symbol": "circle"
         },
         "mode": "markers+text",
         "name": "contrario",
         "scene": "scene",
         "showlegend": true,
         "text": [
          "contrario"
         ],
         "type": "scatter3d",
         "x": [
          -0.04146653413772583
         ],
         "y": [
          0.04110002517700195
         ],
         "z": [
          "contrario"
         ]
        },
        {
         "hovertemplate": "color=espejo<br>x=%{x}<br>y=%{y}<br>z=%{z}<br>text=%{text}<extra></extra>",
         "legendgroup": "espejo",
         "marker": {
          "color": "#ab63fa",
          "symbol": "circle"
         },
         "mode": "markers+text",
         "name": "espejo",
         "scene": "scene",
         "showlegend": true,
         "text": [
          "espejo"
         ],
         "type": "scatter3d",
         "x": [
          -0.12285050749778748
         ],
         "y": [
          0.00032276433194056153
         ],
         "z": [
          "espejo"
         ]
        },
        {
         "hovertemplate": "color=tranquilos<br>x=%{x}<br>y=%{y}<br>z=%{z}<br>text=%{text}<extra></extra>",
         "legendgroup": "tranquilos",
         "marker": {
          "color": "#FFA15A",
          "symbol": "circle"
         },
         "mode": "markers+text",
         "name": "tranquilos",
         "scene": "scene",
         "showlegend": true,
         "text": [
          "tranquilos"
         ],
         "type": "scatter3d",
         "x": [
          -0.01706760935485363
         ],
         "y": [
          -0.0021766703575849533
         ],
         "z": [
          "tranquilos"
         ]
        },
        {
         "hovertemplate": "color=gritó<br>x=%{x}<br>y=%{y}<br>z=%{z}<br>text=%{text}<extra></extra>",
         "legendgroup": "gritó",
         "marker": {
          "color": "#19d3f3",
          "symbol": "circle"
         },
         "mode": "markers+text",
         "name": "gritó",
         "scene": "scene",
         "showlegend": true,
         "text": [
          "gritó"
         ],
         "type": "scatter3d",
         "x": [
          -0.018400421366095543
         ],
         "y": [
          -0.009756958112120628
         ],
         "z": [
          "gritó"
         ]
        },
        {
         "hovertemplate": "color=continuamente<br>x=%{x}<br>y=%{y}<br>z=%{z}<br>text=%{text}<extra></extra>",
         "legendgroup": "continuamente",
         "marker": {
          "color": "#FF6692",
          "symbol": "circle"
         },
         "mode": "markers+text",
         "name": "continuamente",
         "scene": "scene",
         "showlegend": true,
         "text": [
          "continuamente"
         ],
         "type": "scatter3d",
         "x": [
          0.07578863948583603
         ],
         "y": [
          -0.09590570628643036
         ],
         "z": [
          "continuamente"
         ]
        },
        {
         "hovertemplate": "color=límites<br>x=%{x}<br>y=%{y}<br>z=%{z}<br>text=%{text}<extra></extra>",
         "legendgroup": "límites",
         "marker": {
          "color": "#B6E880",
          "symbol": "circle"
         },
         "mode": "markers+text",
         "name": "límites",
         "scene": "scene",
         "showlegend": true,
         "text": [
          "límites"
         ],
         "type": "scatter3d",
         "x": [
          -0.05327308177947998
         ],
         "y": [
          0.03672027960419655
         ],
         "z": [
          "límites"
         ]
        },
        {
         "hovertemplate": "color=nubarrón<br>x=%{x}<br>y=%{y}<br>z=%{z}<br>text=%{text}<extra></extra>",
         "legendgroup": "nubarrón",
         "marker": {
          "color": "#FF97FF",
          "symbol": "circle"
         },
         "mode": "markers+text",
         "name": "nubarrón",
         "scene": "scene",
         "showlegend": true,
         "text": [
          "nubarrón"
         ],
         "type": "scatter3d",
         "x": [
          -0.08322251588106155
         ],
         "y": [
          -0.0693468526005745
         ],
         "z": [
          "nubarrón"
         ]
        },
        {
         "hovertemplate": "color=contra<br>x=%{x}<br>y=%{y}<br>z=%{z}<br>text=%{text}<extra></extra>",
         "legendgroup": "contra",
         "marker": {
          "color": "#FECB52",
          "symbol": "circle"
         },
         "mode": "markers+text",
         "name": "contra",
         "scene": "scene",
         "showlegend": true,
         "text": [
          "contra"
         ],
         "type": "scatter3d",
         "x": [
          0.0554395467042923
         ],
         "y": [
          -0.032655853778123856
         ],
         "z": [
          "contra"
         ]
        },
        {
         "hovertemplate": "color=rostro<br>x=%{x}<br>y=%{y}<br>z=%{z}<br>text=%{text}<extra></extra>",
         "legendgroup": "rostro",
         "marker": {
          "color": "#636efa",
          "symbol": "circle"
         },
         "mode": "markers+text",
         "name": "rostro",
         "scene": "scene",
         "showlegend": true,
         "text": [
          "rostro"
         ],
         "type": "scatter3d",
         "x": [
          0.030568035319447517
         ],
         "y": [
          -0.06145655736327171
         ],
         "z": [
          "rostro"
         ]
        },
        {
         "hovertemplate": "color=duro<br>x=%{x}<br>y=%{y}<br>z=%{z}<br>text=%{text}<extra></extra>",
         "legendgroup": "duro",
         "marker": {
          "color": "#EF553B",
          "symbol": "circle"
         },
         "mode": "markers+text",
         "name": "duro",
         "scene": "scene",
         "showlegend": true,
         "text": [
          "duro"
         ],
         "type": "scatter3d",
         "x": [
          -0.047632504254579544
         ],
         "y": [
          0.01888241060078144
         ],
         "z": [
          "duro"
         ]
        },
        {
         "hovertemplate": "color=alpargatas<br>x=%{x}<br>y=%{y}<br>z=%{z}<br>text=%{text}<extra></extra>",
         "legendgroup": "alpargatas",
         "marker": {
          "color": "#00cc96",
          "symbol": "circle"
         },
         "mode": "markers+text",
         "name": "alpargatas",
         "scene": "scene",
         "showlegend": true,
         "text": [
          "alpargatas"
         ],
         "type": "scatter3d",
         "x": [
          0.06121634319424629
         ],
         "y": [
          -0.010862859897315502
         ],
         "z": [
          "alpargatas"
         ]
        },
        {
         "hovertemplate": "color=bombacha<br>x=%{x}<br>y=%{y}<br>z=%{z}<br>text=%{text}<extra></extra>",
         "legendgroup": "bombacha",
         "marker": {
          "color": "#ab63fa",
          "symbol": "circle"
         },
         "mode": "markers+text",
         "name": "bombacha",
         "scene": "scene",
         "showlegend": true,
         "text": [
          "bombacha"
         ],
         "type": "scatter3d",
         "x": [
          0.07308334112167358
         ],
         "y": [
          0.09136558324098587
         ],
         "z": [
          "bombacha"
         ]
        },
        {
         "hovertemplate": "color=pared<br>x=%{x}<br>y=%{y}<br>z=%{z}<br>text=%{text}<extra></extra>",
         "legendgroup": "pared",
         "marker": {
          "color": "#FFA15A",
          "symbol": "circle"
         },
         "mode": "markers+text",
         "name": "pared",
         "scene": "scene",
         "showlegend": true,
         "text": [
          "pared"
         ],
         "type": "scatter3d",
         "x": [
          0.057638976722955704
         ],
         "y": [
          -0.05079737305641174
         ],
         "z": [
          "pared"
         ]
        },
        {
         "hovertemplate": "color=vereda<br>x=%{x}<br>y=%{y}<br>z=%{z}<br>text=%{text}<extra></extra>",
         "legendgroup": "vereda",
         "marker": {
          "color": "#19d3f3",
          "symbol": "circle"
         },
         "mode": "markers+text",
         "name": "vereda",
         "scene": "scene",
         "showlegend": true,
         "text": [
          "vereda"
         ],
         "type": "scatter3d",
         "x": [
          0.08990667015314102
         ],
         "y": [
          -0.12031061202287674
         ],
         "z": [
          "vereda"
         ]
        },
        {
         "hovertemplate": "color=avances<br>x=%{x}<br>y=%{y}<br>z=%{z}<br>text=%{text}<extra></extra>",
         "legendgroup": "avances",
         "marker": {
          "color": "#FF6692",
          "symbol": "circle"
         },
         "mode": "markers+text",
         "name": "avances",
         "scene": "scene",
         "showlegend": true,
         "text": [
          "avances"
         ],
         "type": "scatter3d",
         "x": [
          0.03138476237654686
         ],
         "y": [
          0.010124112479388714
         ],
         "z": [
          "avances"
         ]
        },
        {
         "hovertemplate": "color=recalcado<br>x=%{x}<br>y=%{y}<br>z=%{z}<br>text=%{text}<extra></extra>",
         "legendgroup": "recalcado",
         "marker": {
          "color": "#B6E880",
          "symbol": "circle"
         },
         "mode": "markers+text",
         "name": "recalcado",
         "scene": "scene",
         "showlegend": true,
         "text": [
          "recalcado"
         ],
         "type": "scatter3d",
         "x": [
          -0.01625058986246586
         ],
         "y": [
          0.056536562740802765
         ],
         "z": [
          "recalcado"
         ]
        },
        {
         "hovertemplate": "color=corrupción<br>x=%{x}<br>y=%{y}<br>z=%{z}<br>text=%{text}<extra></extra>",
         "legendgroup": "corrupción",
         "marker": {
          "color": "#FF97FF",
          "symbol": "circle"
         },
         "mode": "markers+text",
         "name": "corrupción",
         "scene": "scene",
         "showlegend": true,
         "text": [
          "corrupción"
         ],
         "type": "scatter3d",
         "x": [
          -0.02853524126112461
         ],
         "y": [
          -0.04969187080860138
         ],
         "z": [
          "corrupción"
         ]
        },
        {
         "hovertemplate": "color=corría<br>x=%{x}<br>y=%{y}<br>z=%{z}<br>text=%{text}<extra></extra>",
         "legendgroup": "corría",
         "marker": {
          "color": "#FECB52",
          "symbol": "circle"
         },
         "mode": "markers+text",
         "name": "corría",
         "scene": "scene",
         "showlegend": true,
         "text": [
          "corría"
         ],
         "type": "scatter3d",
         "x": [
          0.010756615549325943
         ],
         "y": [
          0.04409072548151016
         ],
         "z": [
          "corría"
         ]
        },
        {
         "hovertemplate": "color=caries<br>x=%{x}<br>y=%{y}<br>z=%{z}<br>text=%{text}<extra></extra>",
         "legendgroup": "caries",
         "marker": {
          "color": "#636efa",
          "symbol": "circle"
         },
         "mode": "markers+text",
         "name": "caries",
         "scene": "scene",
         "showlegend": true,
         "text": [
          "caries"
         ],
         "type": "scatter3d",
         "x": [
          -0.047347571700811386
         ],
         "y": [
          -0.08026885241270065
         ],
         "z": [
          "caries"
         ]
        },
        {
         "hovertemplate": "color=fatiga<br>x=%{x}<br>y=%{y}<br>z=%{z}<br>text=%{text}<extra></extra>",
         "legendgroup": "fatiga",
         "marker": {
          "color": "#EF553B",
          "symbol": "circle"
         },
         "mode": "markers+text",
         "name": "fatiga",
         "scene": "scene",
         "showlegend": true,
         "text": [
          "fatiga"
         ],
         "type": "scatter3d",
         "x": [
          0.022421101108193398
         ],
         "y": [
          -0.04730291664600372
         ],
         "z": [
          "fatiga"
         ]
        },
        {
         "hovertemplate": "color=alcé<br>x=%{x}<br>y=%{y}<br>z=%{z}<br>text=%{text}<extra></extra>",
         "legendgroup": "alcé",
         "marker": {
          "color": "#00cc96",
          "symbol": "circle"
         },
         "mode": "markers+text",
         "name": "alcé",
         "scene": "scene",
         "showlegend": true,
         "text": [
          "alcé"
         ],
         "type": "scatter3d",
         "x": [
          -0.05538554862141609
         ],
         "y": [
          0.05569025129079819
         ],
         "z": [
          "alcé"
         ]
        },
        {
         "hovertemplate": "color=notaba<br>x=%{x}<br>y=%{y}<br>z=%{z}<br>text=%{text}<extra></extra>",
         "legendgroup": "notaba",
         "marker": {
          "color": "#ab63fa",
          "symbol": "circle"
         },
         "mode": "markers+text",
         "name": "notaba",
         "scene": "scene",
         "showlegend": true,
         "text": [
          "notaba"
         ],
         "type": "scatter3d",
         "x": [
          -0.01465994119644165
         ],
         "y": [
          -0.012711281888186932
         ],
         "z": [
          "notaba"
         ]
        },
        {
         "hovertemplate": "color=pasos<br>x=%{x}<br>y=%{y}<br>z=%{z}<br>text=%{text}<extra></extra>",
         "legendgroup": "pasos",
         "marker": {
          "color": "#FFA15A",
          "symbol": "circle"
         },
         "mode": "markers+text",
         "name": "pasos",
         "scene": "scene",
         "showlegend": true,
         "text": [
          "pasos"
         ],
         "type": "scatter3d",
         "x": [
          0.032382816076278687
         ],
         "y": [
          0.04342161864042282
         ],
         "z": [
          "pasos"
         ]
        },
        {
         "hovertemplate": "color=secretos<br>x=%{x}<br>y=%{y}<br>z=%{z}<br>text=%{text}<extra></extra>",
         "legendgroup": "secretos",
         "marker": {
          "color": "#19d3f3",
          "symbol": "circle"
         },
         "mode": "markers+text",
         "name": "secretos",
         "scene": "scene",
         "showlegend": true,
         "text": [
          "secretos"
         ],
         "type": "scatter3d",
         "x": [
          -0.01878362149000168
         ],
         "y": [
          -0.024164285510778427
         ],
         "z": [
          "secretos"
         ]
        },
        {
         "hovertemplate": "color=progresos<br>x=%{x}<br>y=%{y}<br>z=%{z}<br>text=%{text}<extra></extra>",
         "legendgroup": "progresos",
         "marker": {
          "color": "#FF6692",
          "symbol": "circle"
         },
         "mode": "markers+text",
         "name": "progresos",
         "scene": "scene",
         "showlegend": true,
         "text": [
          "progresos"
         ],
         "type": "scatter3d",
         "x": [
          -0.05524474009871483
         ],
         "y": [
          0.016574233770370483
         ],
         "z": [
          "progresos"
         ]
        },
        {
         "hovertemplate": "color=rápidos<br>x=%{x}<br>y=%{y}<br>z=%{z}<br>text=%{text}<extra></extra>",
         "legendgroup": "rápidos",
         "marker": {
          "color": "#B6E880",
          "symbol": "circle"
         },
         "mode": "markers+text",
         "name": "rápidos",
         "scene": "scene",
         "showlegend": true,
         "text": [
          "rápidos"
         ],
         "type": "scatter3d",
         "x": [
          -0.12694451212882996
         ],
         "y": [
          -0.06224893406033516
         ],
         "z": [
          "rápidos"
         ]
        },
        {
         "hovertemplate": "color=solitario<br>x=%{x}<br>y=%{y}<br>z=%{z}<br>text=%{text}<extra></extra>",
         "legendgroup": "solitario",
         "marker": {
          "color": "#FF97FF",
          "symbol": "circle"
         },
         "mode": "markers+text",
         "name": "solitario",
         "scene": "scene",
         "showlegend": true,
         "text": [
          "solitario"
         ],
         "type": "scatter3d",
         "x": [
          -0.08541550487279892
         ],
         "y": [
          -0.09373294562101364
         ],
         "z": [
          "solitario"
         ]
        },
        {
         "hovertemplate": "color=imprevisiblemente<br>x=%{x}<br>y=%{y}<br>z=%{z}<br>text=%{text}<extra></extra>",
         "legendgroup": "imprevisiblemente",
         "marker": {
          "color": "#FECB52",
          "symbol": "circle"
         },
         "mode": "markers+text",
         "name": "imprevisiblemente",
         "scene": "scene",
         "showlegend": true,
         "text": [
          "imprevisiblemente"
         ],
         "type": "scatter3d",
         "x": [
          -0.06129218637943268
         ],
         "y": [
          0.10692016035318375
         ],
         "z": [
          "imprevisiblemente"
         ]
        },
        {
         "hovertemplate": "color=qué<br>x=%{x}<br>y=%{y}<br>z=%{z}<br>text=%{text}<extra></extra>",
         "legendgroup": "qué",
         "marker": {
          "color": "#636efa",
          "symbol": "circle"
         },
         "mode": "markers+text",
         "name": "qué",
         "scene": "scene",
         "showlegend": true,
         "text": [
          "qué"
         ],
         "type": "scatter3d",
         "x": [
          -0.06468602269887924
         ],
         "y": [
          0.023452578112483025
         ],
         "z": [
          "qué"
         ]
        },
        {
         "hovertemplate": "color=minutero<br>x=%{x}<br>y=%{y}<br>z=%{z}<br>text=%{text}<extra></extra>",
         "legendgroup": "minutero",
         "marker": {
          "color": "#EF553B",
          "symbol": "circle"
         },
         "mode": "markers+text",
         "name": "minutero",
         "scene": "scene",
         "showlegend": true,
         "text": [
          "minutero"
         ],
         "type": "scatter3d",
         "x": [
          -0.06973280012607574
         ],
         "y": [
          0.03695346415042877
         ],
         "z": [
          "minutero"
         ]
        },
        {
         "hovertemplate": "color=movimiento<br>x=%{x}<br>y=%{y}<br>z=%{z}<br>text=%{text}<extra></extra>",
         "legendgroup": "movimiento",
         "marker": {
          "color": "#00cc96",
          "symbol": "circle"
         },
         "mode": "markers+text",
         "name": "movimiento",
         "scene": "scene",
         "showlegend": true,
         "text": [
          "movimiento"
         ],
         "type": "scatter3d",
         "x": [
          -0.017169741913676262
         ],
         "y": [
          0.03373252972960472
         ],
         "z": [
          "movimiento"
         ]
        },
        {
         "hovertemplate": "color=propias<br>x=%{x}<br>y=%{y}<br>z=%{z}<br>text=%{text}<extra></extra>",
         "legendgroup": "propias",
         "marker": {
          "color": "#ab63fa",
          "symbol": "circle"
         },
         "mode": "markers+text",
         "name": "propias",
         "scene": "scene",
         "showlegend": true,
         "text": [
          "propias"
         ],
         "type": "scatter3d",
         "x": [
          -0.036749467253685
         ],
         "y": [
          -0.00223993300460279
         ],
         "z": [
          "propias"
         ]
        },
        {
         "hovertemplate": "color=individuos<br>x=%{x}<br>y=%{y}<br>z=%{z}<br>text=%{text}<extra></extra>",
         "legendgroup": "individuos",
         "marker": {
          "color": "#FFA15A",
          "symbol": "circle"
         },
         "mode": "markers+text",
         "name": "individuos",
         "scene": "scene",
         "showlegend": true,
         "text": [
          "individuos"
         ],
         "type": "scatter3d",
         "x": [
          -0.016856646165251732
         ],
         "y": [
          0.034967418760061264
         ],
         "z": [
          "individuos"
         ]
        },
        {
         "hovertemplate": "color=atención<br>x=%{x}<br>y=%{y}<br>z=%{z}<br>text=%{text}<extra></extra>",
         "legendgroup": "atención",
         "marker": {
          "color": "#19d3f3",
          "symbol": "circle"
         },
         "mode": "markers+text",
         "name": "atención",
         "scene": "scene",
         "showlegend": true,
         "text": [
          "atención"
         ],
         "type": "scatter3d",
         "x": [
          0.0488562248647213
         ],
         "y": [
          -0.015457252971827984
         ],
         "z": [
          "atención"
         ]
        },
        {
         "hovertemplate": "color=llamado<br>x=%{x}<br>y=%{y}<br>z=%{z}<br>text=%{text}<extra></extra>",
         "legendgroup": "llamado",
         "marker": {
          "color": "#FF6692",
          "symbol": "circle"
         },
         "mode": "markers+text",
         "name": "llamado",
         "scene": "scene",
         "showlegend": true,
         "text": [
          "llamado"
         ],
         "type": "scatter3d",
         "x": [
          0.0974898636341095
         ],
         "y": [
          -0.025151334702968597
         ],
         "z": [
          "llamado"
         ]
        },
        {
         "hovertemplate": "color=sorprendían<br>x=%{x}<br>y=%{y}<br>z=%{z}<br>text=%{text}<extra></extra>",
         "legendgroup": "sorprendían",
         "marker": {
          "color": "#B6E880",
          "symbol": "circle"
         },
         "mode": "markers+text",
         "name": "sorprendían",
         "scene": "scene",
         "showlegend": true,
         "text": [
          "sorprendían"
         ],
         "type": "scatter3d",
         "x": [
          0.04215748608112335
         ],
         "y": [
          0.052176669239997864
         ],
         "z": [
          "sorprendían"
         ]
        },
        {
         "hovertemplate": "color=referir<br>x=%{x}<br>y=%{y}<br>z=%{z}<br>text=%{text}<extra></extra>",
         "legendgroup": "referir",
         "marker": {
          "color": "#FF97FF",
          "symbol": "circle"
         },
         "mode": "markers+text",
         "name": "referir",
         "scene": "scene",
         "showlegend": true,
         "text": [
          "referir"
         ],
         "type": "scatter3d",
         "x": [
          0.010335740633308887
         ],
         "y": [
          -0.04784400761127472
         ],
         "z": [
          "referir"
         ]
        },
        {
         "hovertemplate": "color=acabo<br>x=%{x}<br>y=%{y}<br>z=%{z}<br>text=%{text}<extra></extra>",
         "legendgroup": "acabo",
         "marker": {
          "color": "#FECB52",
          "symbol": "circle"
         },
         "mode": "markers+text",
         "name": "acabo",
         "scene": "scene",
         "showlegend": true,
         "text": [
          "acabo"
         ],
         "type": "scatter3d",
         "x": [
          -0.01243716198951006
         ],
         "y": [
          0.0398159883916378
         ],
         "z": [
          "acabo"
         ]
        },
        {
         "hovertemplate": "color=refiere<br>x=%{x}<br>y=%{y}<br>z=%{z}<br>text=%{text}<extra></extra>",
         "legendgroup": "refiere",
         "marker": {
          "color": "#636efa",
          "symbol": "circle"
         },
         "mode": "markers+text",
         "name": "refiere",
         "scene": "scene",
         "showlegend": true,
         "text": [
          "refiere"
         ],
         "type": "scatter3d",
         "x": [
          0.07673785835504532
         ],
         "y": [
          0.06030800938606262
         ],
         "z": [
          "refiere"
         ]
        },
        {
         "hovertemplate": "color=distraído<br>x=%{x}<br>y=%{y}<br>z=%{z}<br>text=%{text}<extra></extra>",
         "legendgroup": "distraído",
         "marker": {
          "color": "#EF553B",
          "symbol": "circle"
         },
         "mode": "markers+text",
         "name": "distraído",
         "scene": "scene",
         "showlegend": true,
         "text": [
          "distraído"
         ],
         "type": "scatter3d",
         "x": [
          -0.0830182284116745
         ],
         "y": [
          -0.1045285314321518
         ],
         "z": [
          "distraído"
         ]
        },
        {
         "hovertemplate": "color=swift<br>x=%{x}<br>y=%{y}<br>z=%{z}<br>text=%{text}<extra></extra>",
         "legendgroup": "swift",
         "marker": {
          "color": "#00cc96",
          "symbol": "circle"
         },
         "mode": "markers+text",
         "name": "swift",
         "scene": "scene",
         "showlegend": true,
         "text": [
          "swift"
         ],
         "type": "scatter3d",
         "x": [
          0.01972106471657753
         ],
         "y": [
          -0.02803552709519863
         ],
         "z": [
          "swift"
         ]
        },
        {
         "hovertemplate": "color=soy<br>x=%{x}<br>y=%{y}<br>z=%{z}<br>text=%{text}<extra></extra>",
         "legendgroup": "soy",
         "marker": {
          "color": "#ab63fa",
          "symbol": "circle"
         },
         "mode": "markers+text",
         "name": "soy",
         "scene": "scene",
         "showlegend": true,
         "text": [
          "soy"
         ],
         "type": "scatter3d",
         "x": [
          -0.058525655418634415
         ],
         "y": [
          0.0077340686693787575
         ],
         "z": [
          "soy"
         ]
        },
        {
         "hovertemplate": "color=emperador<br>x=%{x}<br>y=%{y}<br>z=%{z}<br>text=%{text}<extra></extra>",
         "legendgroup": "emperador",
         "marker": {
          "color": "#FFA15A",
          "symbol": "circle"
         },
         "mode": "markers+text",
         "name": "emperador",
         "scene": "scene",
         "showlegend": true,
         "text": [
          "emperador"
         ],
         "type": "scatter3d",
         "x": [
          -0.011055893264710903
         ],
         "y": [
          0.016632121056318283
         ],
         "z": [
          "emperador"
         ]
        },
        {
         "hovertemplate": "color=aguda<br>x=%{x}<br>y=%{y}<br>z=%{z}<br>text=%{text}<extra></extra>",
         "legendgroup": "aguda",
         "marker": {
          "color": "#19d3f3",
          "symbol": "circle"
         },
         "mode": "markers+text",
         "name": "aguda",
         "scene": "scene",
         "showlegend": true,
         "text": [
          "aguda"
         ],
         "type": "scatter3d",
         "x": [
          -0.11019771546125412
         ],
         "y": [
          0.038934145122766495
         ],
         "z": [
          "aguda"
         ]
        },
        {
         "hovertemplate": "color=juan<br>x=%{x}<br>y=%{y}<br>z=%{z}<br>text=%{text}<extra></extra>",
         "legendgroup": "juan",
         "marker": {
          "color": "#FF6692",
          "symbol": "circle"
         },
         "mode": "markers+text",
         "name": "juan",
         "scene": "scene",
         "showlegend": true,
         "text": [
          "juan"
         ],
         "type": "scatter3d",
         "x": [
          -0.03894726559519768
         ],
         "y": [
          -0.07569694519042969
         ],
         "z": [
          "juan"
         ]
        },
        {
         "hovertemplate": "color=joven<br>x=%{x}<br>y=%{y}<br>z=%{z}<br>text=%{text}<extra></extra>",
         "legendgroup": "joven",
         "marker": {
          "color": "#B6E880",
          "symbol": "circle"
         },
         "mode": "markers+text",
         "name": "joven",
         "scene": "scene",
         "showlegend": true,
         "text": [
          "joven"
         ],
         "type": "scatter3d",
         "x": [
          -0.11455618590116501
         ],
         "y": [
          0.022092005237936974
         ],
         "z": [
          "joven"
         ]
        },
        {
         "hovertemplate": "color=ocho<br>x=%{x}<br>y=%{y}<br>z=%{z}<br>text=%{text}<extra></extra>",
         "legendgroup": "ocho",
         "marker": {
          "color": "#FF97FF",
          "symbol": "circle"
         },
         "mode": "markers+text",
         "name": "ocho",
         "scene": "scene",
         "showlegend": true,
         "text": [
          "ocho"
         ],
         "type": "scatter3d",
         "x": [
          -0.0030491703655570745
         ],
         "y": [
          0.02429981715977192
         ],
         "z": [
          "ocho"
         ]
        },
        {
         "hovertemplate": "color=minutos<br>x=%{x}<br>y=%{y}<br>z=%{z}<br>text=%{text}<extra></extra>",
         "legendgroup": "minutos",
         "marker": {
          "color": "#FECB52",
          "symbol": "circle"
         },
         "mode": "markers+text",
         "name": "minutos",
         "scene": "scene",
         "showlegend": true,
         "text": [
          "minutos"
         ],
         "type": "scatter3d",
         "x": [
          -0.05551563948392868
         ],
         "y": [
          -0.0940123125910759
         ],
         "z": [
          "minutos"
         ]
        },
        {
         "hovertemplate": "color=cuatro<br>x=%{x}<br>y=%{y}<br>z=%{z}<br>text=%{text}<extra></extra>",
         "legendgroup": "cuatro",
         "marker": {
          "color": "#636efa",
          "symbol": "circle"
         },
         "mode": "markers+text",
         "name": "cuatro",
         "scene": "scene",
         "showlegend": true,
         "text": [
          "cuatro"
         ],
         "type": "scatter3d",
         "x": [
          -0.09536111354827881
         ],
         "y": [
          0.009084019809961319
         ],
         "z": [
          "cuatro"
         ]
        },
        {
         "hovertemplate": "color=faltan<br>x=%{x}<br>y=%{y}<br>z=%{z}<br>text=%{text}<extra></extra>",
         "legendgroup": "faltan",
         "marker": {
          "color": "#EF553B",
          "symbol": "circle"
         },
         "mode": "markers+text",
         "name": "faltan",
         "scene": "scene",
         "showlegend": true,
         "text": [
          "faltan"
         ],
         "type": "scatter3d",
         "x": [
          0.06518403440713882
         ],
         "y": [
          -0.04550199955701828
         ],
         "z": [
          "faltan"
         ]
        },
        {
         "hovertemplate": "color=respondió<br>x=%{x}<br>y=%{y}<br>z=%{z}<br>text=%{text}<extra></extra>",
         "legendgroup": "respondió",
         "marker": {
          "color": "#00cc96",
          "symbol": "circle"
         },
         "mode": "markers+text",
         "name": "respondió",
         "scene": "scene",
         "showlegend": true,
         "text": [
          "respondió"
         ],
         "type": "scatter3d",
         "x": [
          0.04235854744911194
         ],
         "y": [
          -0.018508296459913254
         ],
         "z": [
          "respondió"
         ]
        },
        {
         "hovertemplate": "color=lilliput<br>x=%{x}<br>y=%{y}<br>z=%{z}<br>text=%{text}<extra></extra>",
         "legendgroup": "lilliput",
         "marker": {
          "color": "#ab63fa",
          "symbol": "circle"
         },
         "mode": "markers+text",
         "name": "lilliput",
         "scene": "scene",
         "showlegend": true,
         "text": [
          "lilliput"
         ],
         "type": "scatter3d",
         "x": [
          -0.03227299079298973
         ],
         "y": [
          -0.06673741340637207
         ],
         "z": [
          "lilliput"
         ]
        },
        {
         "hovertemplate": "color=detenerse<br>x=%{x}<br>y=%{y}<br>z=%{z}<br>text=%{text}<extra></extra>",
         "legendgroup": "detenerse",
         "marker": {
          "color": "#FFA15A",
          "symbol": "circle"
         },
         "mode": "markers+text",
         "name": "detenerse",
         "scene": "scene",
         "showlegend": true,
         "text": [
          "detenerse"
         ],
         "type": "scatter3d",
         "x": [
          0.015281710773706436
         ],
         "y": [
          0.0561293289065361
         ],
         "z": [
          "detenerse"
         ]
        },
        {
         "hovertemplate": "color=consultar<br>x=%{x}<br>y=%{y}<br>z=%{z}<br>text=%{text}<extra></extra>",
         "legendgroup": "consultar",
         "marker": {
          "color": "#19d3f3",
          "symbol": "circle"
         },
         "mode": "markers+text",
         "name": "consultar",
         "scene": "scene",
         "showlegend": true,
         "text": [
          "consultar"
         ],
         "type": "scatter3d",
         "x": [
          -0.03464788571000099
         ],
         "y": [
          0.08066319674253464
         ],
         "z": [
          "consultar"
         ]
        },
        {
         "hovertemplate": "color=pregunté<br>x=%{x}<br>y=%{y}<br>z=%{z}<br>text=%{text}<extra></extra>",
         "legendgroup": "pregunté",
         "marker": {
          "color": "#FF6692",
          "symbol": "circle"
         },
         "mode": "markers+text",
         "name": "pregunté",
         "scene": "scene",
         "showlegend": true,
         "text": [
          "pregunté"
         ],
         "type": "scatter3d",
         "x": [
          0.04566337540745735
         ],
         "y": [
          -0.06968677788972855
         ],
         "z": [
          "pregunté"
         ]
        },
        {
         "hovertemplate": "color=cronométrico<br>x=%{x}<br>y=%{y}<br>z=%{z}<br>text=%{text}<extra></extra>",
         "legendgroup": "cronométrico",
         "marker": {
          "color": "#B6E880",
          "symbol": "circle"
         },
         "mode": "markers+text",
         "name": "cronométrico",
         "scene": "scene",
         "showlegend": true,
         "text": [
          "cronométrico"
         ],
         "type": "scatter3d",
         "x": [
          0.08722230046987534
         ],
         "y": [
          -0.021818114444613457
         ],
         "z": [
          "cronométrico"
         ]
        },
        {
         "hovertemplate": "color=conocidos<br>x=%{x}<br>y=%{y}<br>z=%{z}<br>text=%{text}<extra></extra>",
         "legendgroup": "conocidos",
         "marker": {
          "color": "#FF97FF",
          "symbol": "circle"
         },
         "mode": "markers+text",
         "name": "conocidos",
         "scene": "scene",
         "showlegend": true,
         "text": [
          "conocidos"
         ],
         "type": "scatter3d",
         "x": [
          -0.017610609531402588
         ],
         "y": [
          -0.01697159744799137
         ],
         "z": [
          "conocidos"
         ]
        },
        {
         "hovertemplate": "color=comentarios<br>x=%{x}<br>y=%{y}<br>z=%{z}<br>text=%{text}<extra></extra>",
         "legendgroup": "comentarios",
         "marker": {
          "color": "#FECB52",
          "symbol": "circle"
         },
         "mode": "markers+text",
         "name": "comentarios",
         "scene": "scene",
         "showlegend": true,
         "text": [
          "comentarios"
         ],
         "type": "scatter3d",
         "x": [
          -0.018373457714915276
         ],
         "y": [
          -0.07961224019527435
         ],
         "z": [
          "comentarios"
         ]
        },
        {
         "hovertemplate": "color=módicas<br>x=%{x}<br>y=%{y}<br>z=%{z}<br>text=%{text}<extra></extra>",
         "legendgroup": "módicas",
         "marker": {
          "color": "#636efa",
          "symbol": "circle"
         },
         "mode": "markers+text",
         "name": "módicas",
         "scene": "scene",
         "showlegend": true,
         "text": [
          "módicas"
         ],
         "type": "scatter3d",
         "x": [
          0.0649847537279129
         ],
         "y": [
          -0.04192163422703743
         ],
         "z": [
          "módicas"
         ]
        },
        {
         "hovertemplate": "color=revelan<br>x=%{x}<br>y=%{y}<br>z=%{z}<br>text=%{text}<extra></extra>",
         "legendgroup": "revelan",
         "marker": {
          "color": "#EF553B",
          "symbol": "circle"
         },
         "mode": "markers+text",
         "name": "revelan",
         "scene": "scene",
         "showlegend": true,
         "text": [
          "revelan"
         ],
         "type": "scatter3d",
         "x": [
          -0.06966931372880936
         ],
         "y": [
          -0.041747596114873886
         ],
         "z": [
          "revelan"
         ]
        },
        {
         "hovertemplate": "color=excediendo<br>x=%{x}<br>y=%{y}<br>z=%{z}<br>text=%{text}<extra></extra>",
         "legendgroup": "excediendo",
         "marker": {
          "color": "#00cc96",
          "symbol": "circle"
         },
         "mode": "markers+text",
         "name": "excediendo",
         "scene": "scene",
         "showlegend": true,
         "text": [
          "excediendo"
         ],
         "type": "scatter3d",
         "x": [
          0.06273776292800903
         ],
         "y": [
          0.09742460399866104
         ],
         "z": [
          "excediendo"
         ]
        },
        {
         "hovertemplate": "color=sigue<br>x=%{x}<br>y=%{y}<br>z=%{z}<br>text=%{text}<extra></extra>",
         "legendgroup": "sigue",
         "marker": {
          "color": "#ab63fa",
          "symbol": "circle"
         },
         "mode": "markers+text",
         "name": "sigue",
         "scene": "scene",
         "showlegend": true,
         "text": [
          "sigue"
         ],
         "type": "scatter3d",
         "x": [
          -0.027466893196105957
         ],
         "y": [
          0.0972025990486145
         ],
         "z": [
          "sigue"
         ]
        },
        {
         "hovertemplate": "color=excedía<br>x=%{x}<br>y=%{y}<br>z=%{z}<br>text=%{text}<extra></extra>",
         "legendgroup": "excedía",
         "marker": {
          "color": "#FFA15A",
          "symbol": "circle"
         },
         "mode": "markers+text",
         "name": "excedía",
         "scene": "scene",
         "showlegend": true,
         "text": [
          "excedía"
         ],
         "type": "scatter3d",
         "x": [
          -0.11467316746711731
         ],
         "y": [
          0.00509664649143815
         ],
         "z": [
          "excedía"
         ]
        },
        {
         "hovertemplate": "color=cierta<br>x=%{x}<br>y=%{y}<br>z=%{z}<br>text=%{text}<extra></extra>",
         "legendgroup": "cierta",
         "marker": {
          "color": "#19d3f3",
          "symbol": "circle"
         },
         "mode": "markers+text",
         "name": "cierta",
         "scene": "scene",
         "showlegend": true,
         "text": [
          "cierta"
         ],
         "type": "scatter3d",
         "x": [
          -0.06523798406124115
         ],
         "y": [
          0.1513863354921341
         ],
         "z": [
          "cierta"
         ]
        },
        {
         "hovertemplate": "color=balbuciente<br>x=%{x}<br>y=%{y}<br>z=%{z}<br>text=%{text}<extra></extra>",
         "legendgroup": "balbuciente",
         "marker": {
          "color": "#FF6692",
          "symbol": "circle"
         },
         "mode": "markers+text",
         "name": "balbuciente",
         "scene": "scene",
         "showlegend": true,
         "text": [
          "balbuciente"
         ],
         "type": "scatter3d",
         "x": [
          -0.06992914527654648
         ],
         "y": [
          -0.012551859952509403
         ],
         "z": [
          "balbuciente"
         ]
        },
        {
         "hovertemplate": "color=grandeza<br>x=%{x}<br>y=%{y}<br>z=%{z}<br>text=%{text}<extra></extra>",
         "legendgroup": "grandeza",
         "marker": {
          "color": "#B6E880",
          "symbol": "circle"
         },
         "mode": "markers+text",
         "name": "grandeza",
         "scene": "scene",
         "showlegend": true,
         "text": [
          "grandeza"
         ],
         "type": "scatter3d",
         "x": [
          0.07693125307559967
         ],
         "y": [
          -0.07424121350049973
         ],
         "z": [
          "grandeza"
         ]
        },
        {
         "hovertemplate": "color=impar<br>x=%{x}<br>y=%{y}<br>z=%{z}<br>text=%{text}<extra></extra>",
         "legendgroup": "impar",
         "marker": {
          "color": "#FF97FF",
          "symbol": "circle"
         },
         "mode": "markers+text",
         "name": "impar",
         "scene": "scene",
         "showlegend": true,
         "text": [
          "impar"
         ],
         "type": "scatter3d",
         "x": [
          -0.10655920207500458
         ],
         "y": [
          -0.12009143084287643
         ],
         "z": [
          "impar"
         ]
        },
        {
         "hovertemplate": "color=césar<br>x=%{x}<br>y=%{y}<br>z=%{z}<br>text=%{text}<extra></extra>",
         "legendgroup": "césar",
         "marker": {
          "color": "#FECB52",
          "symbol": "circle"
         },
         "mode": "markers+text",
         "name": "césar",
         "scene": "scene",
         "showlegend": true,
         "text": [
          "césar"
         ],
         "type": "scatter3d",
         "x": [
          0.05696377158164978
         ],
         "y": [
          0.05510703846812248
         ],
         "z": [
          "césar"
         ]
        },
        {
         "hovertemplate": "color=julio<br>x=%{x}<br>y=%{y}<br>z=%{z}<br>text=%{text}<extra></extra>",
         "legendgroup": "julio",
         "marker": {
          "color": "#636efa",
          "symbol": "circle"
         },
         "mode": "markers+text",
         "name": "julio",
         "scene": "scene",
         "showlegend": true,
         "text": [
          "julio"
         ],
         "type": "scatter3d",
         "x": [
          -0.017397239804267883
         ],
         "y": [
          -0.030570227652788162
         ],
         "z": [
          "julio"
         ]
        },
        {
         "hovertemplate": "color=dejan<br>x=%{x}<br>y=%{y}<br>z=%{z}<br>text=%{text}<extra></extra>",
         "legendgroup": "dejan",
         "marker": {
          "color": "#EF553B",
          "symbol": "circle"
         },
         "mode": "markers+text",
         "name": "dejan",
         "scene": "scene",
         "showlegend": true,
         "text": [
          "dejan"
         ],
         "type": "scatter3d",
         "x": [
          0.04687562212347984
         ],
         "y": [
          -0.009897797368466854
         ],
         "z": [
          "dejan"
         ]
        },
        {
         "hovertemplate": "color=latinista<br>x=%{x}<br>y=%{y}<br>z=%{z}<br>text=%{text}<extra></extra>",
         "legendgroup": "latinista",
         "marker": {
          "color": "#00cc96",
          "symbol": "circle"
         },
         "mode": "markers+text",
         "name": "latinista",
         "scene": "scene",
         "showlegend": true,
         "text": [
          "latinista"
         ],
         "type": "scatter3d",
         "x": [
          0.028488587588071823
         ],
         "y": [
          -0.08224937319755554
         ],
         "z": [
          "latinista"
         ]
        },
        {
         "hovertemplate": "color=thesaurus<br>x=%{x}<br>y=%{y}<br>z=%{z}<br>text=%{text}<extra></extra>",
         "legendgroup": "thesaurus",
         "marker": {
          "color": "#ab63fa",
          "symbol": "circle"
         },
         "mode": "markers+text",
         "name": "thesaurus",
         "scene": "scene",
         "showlegend": true,
         "text": [
          "thesaurus"
         ],
         "type": "scatter3d",
         "x": [
          0.10279570519924164
         ],
         "y": [
          0.025131873786449432
         ],
         "z": [
          "thesaurus"
         ]
        },
        {
         "hovertemplate": "color=lhomond<br>x=%{x}<br>y=%{y}<br>z=%{z}<br>text=%{text}<extra></extra>",
         "legendgroup": "lhomond",
         "marker": {
          "color": "#FFA15A",
          "symbol": "circle"
         },
         "mode": "markers+text",
         "name": "lhomond",
         "scene": "scene",
         "showlegend": true,
         "text": [
          "lhomond"
         ],
         "type": "scatter3d",
         "x": [
          -0.05984790250658989
         ],
         "y": [
          0.06948256492614746
         ],
         "z": [
          "lhomond"
         ]
        },
        {
         "hovertemplate": "color=illustribus<br>x=%{x}<br>y=%{y}<br>z=%{z}<br>text=%{text}<extra></extra>",
         "legendgroup": "illustribus",
         "marker": {
          "color": "#19d3f3",
          "symbol": "circle"
         },
         "mode": "markers+text",
         "name": "illustribus",
         "scene": "scene",
         "showlegend": true,
         "text": [
          "illustribus"
         ],
         "type": "scatter3d",
         "x": [
          -0.11741283535957336
         ],
         "y": [
          0.09326586872339249
         ],
         "z": [
          "illustribus"
         ]
        },
        {
         "hovertemplate": "color=viris<br>x=%{x}<br>y=%{y}<br>z=%{z}<br>text=%{text}<extra></extra>",
         "legendgroup": "viris",
         "marker": {
          "color": "#FF6692",
          "symbol": "circle"
         },
         "mode": "markers+text",
         "name": "viris",
         "scene": "scene",
         "showlegend": true,
         "text": [
          "viris"
         ],
         "type": "scatter3d",
         "x": [
          -0.02987339347600937
         ],
         "y": [
          0.05608406662940979
         ],
         "z": [
          "viris"
         ]
        },
        {
         "hovertemplate": "color=incluía<br>x=%{x}<br>y=%{y}<br>z=%{z}<br>text=%{text}<extra></extra>",
         "legendgroup": "incluía",
         "marker": {
          "color": "#B6E880",
          "symbol": "circle"
         },
         "mode": "markers+text",
         "name": "incluía",
         "scene": "scene",
         "showlegend": true,
         "text": [
          "incluía"
         ],
         "type": "scatter3d",
         "x": [
          -0.007132313679903746
         ],
         "y": [
          -0.04790860041975975
         ],
         "z": [
          "incluía"
         ]
        },
        {
         "hovertemplate": "color=vislumbrar<br>x=%{x}<br>y=%{y}<br>z=%{z}<br>text=%{text}<extra></extra>",
         "legendgroup": "vislumbrar",
         "marker": {
          "color": "#FF97FF",
          "symbol": "circle"
         },
         "mode": "markers+text",
         "name": "vislumbrar",
         "scene": "scene",
         "showlegend": true,
         "text": [
          "vislumbrar"
         ],
         "type": "scatter3d",
         "x": [
          -0.06584716588258743
         ],
         "y": [
          0.045394908636808395
         ],
         "z": [
          "vislumbrar"
         ]
        },
        {
         "hovertemplate": "color=inferír<br>x=%{x}<br>y=%{y}<br>z=%{z}<br>text=%{text}<extra></extra>",
         "legendgroup": "inferír",
         "marker": {
          "color": "#FECB52",
          "symbol": "circle"
         },
         "mode": "markers+text",
         "name": "inferír",
         "scene": "scene",
         "showlegend": true,
         "text": [
          "inferír"
         ],
         "type": "scatter3d",
         "x": [
          0.021424122154712677
         ],
         "y": [
          0.06013007089495659
         ],
         "z": [
          "inferír"
         ]
        },
        {
         "hovertemplate": "color=metódico<br>x=%{x}<br>y=%{y}<br>z=%{z}<br>text=%{text}<extra></extra>",
         "legendgroup": "metódico",
         "marker": {
          "color": "#636efa",
          "symbol": "circle"
         },
         "mode": "markers+text",
         "name": "metódico",
         "scene": "scene",
         "showlegend": true,
         "text": [
          "metódico"
         ],
         "type": "scatter3d",
         "x": [
          0.08210869133472443
         ],
         "y": [
          0.03379998356103897
         ],
         "z": [
          "metódico"
         ]
        },
        {
         "hovertemplate": "color=estudio<br>x=%{x}<br>y=%{y}<br>z=%{z}<br>text=%{text}<extra></extra>",
         "legendgroup": "estudio",
         "marker": {
          "color": "#EF553B",
          "symbol": "circle"
         },
         "mode": "markers+text",
         "name": "estudio",
         "scene": "scene",
         "showlegend": true,
         "text": [
          "estudio"
         ],
         "type": "scatter3d",
         "x": [
          -0.025910332798957825
         ],
         "y": [
          0.03608321398496628
         ],
         "z": [
          "estudio"
         ]
        },
        {
         "hovertemplate": "color=vertiginoso<br>x=%{x}<br>y=%{y}<br>z=%{z}<br>text=%{text}<extra></extra>",
         "legendgroup": "vertiginoso",
         "marker": {
          "color": "#00cc96",
          "symbol": "circle"
         },
         "mode": "markers+text",
         "name": "vertiginoso",
         "scene": "scene",
         "showlegend": true,
         "text": [
          "vertiginoso"
         ],
         "type": "scatter3d",
         "x": [
          -0.01887848973274231
         ],
         "y": [
          0.012036386877298355
         ],
         "z": [
          "vertiginoso"
         ]
        },
        {
         "hovertemplate": "color=olvidemos<br>x=%{x}<br>y=%{y}<br>z=%{z}<br>text=%{text}<extra></extra>",
         "legendgroup": "olvidemos",
         "marker": {
          "color": "#ab63fa",
          "symbol": "circle"
         },
         "mode": "markers+text",
         "name": "olvidemos",
         "scene": "scene",
         "showlegend": true,
         "text": [
          "olvidemos"
         ],
         "type": "scatter3d",
         "x": [
          0.014398305676877499
         ],
         "y": [
          -0.03517953306436539
         ],
         "z": [
          "olvidemos"
         ]
        },
        {
         "hovertemplate": "color=virtudes<br>x=%{x}<br>y=%{y}<br>z=%{z}<br>text=%{text}<extra></extra>",
         "legendgroup": "virtudes",
         "marker": {
          "color": "#FFA15A",
          "symbol": "circle"
         },
         "mode": "markers+text",
         "name": "virtudes",
         "scene": "scene",
         "showlegend": true,
         "text": [
          "virtudes"
         ],
         "type": "scatter3d",
         "x": [
          0.03266793116927147
         ],
         "y": [
          -0.010409414768218994
         ],
         "z": [
          "virtudes"
         ]
        },
        {
         "hovertemplate": "color=insensatos<br>x=%{x}<br>y=%{y}<br>z=%{z}<br>text=%{text}<extra></extra>",
         "legendgroup": "insensatos",
         "marker": {
          "color": "#19d3f3",
          "symbol": "circle"
         },
         "mode": "markers+text",
         "name": "insensatos",
         "scene": "scene",
         "showlegend": true,
         "text": [
          "insensatos"
         ],
         "type": "scatter3d",
         "x": [
          -0.006053941324353218
         ],
         "y": [
          -0.022595997899770737
         ],
         "z": [
          "insensatos"
         ]
        },
        {
         "hovertemplate": "color=finalmente<br>x=%{x}<br>y=%{y}<br>z=%{z}<br>text=%{text}<extra></extra>",
         "legendgroup": "finalmente",
         "marker": {
          "color": "#FF6692",
          "symbol": "circle"
         },
         "mode": "markers+text",
         "name": "finalmente",
         "scene": "scene",
         "showlegend": true,
         "text": [
          "finalmente"
         ],
         "type": "scatter3d",
         "x": [
          0.0422738716006279
         ],
         "y": [
          -0.09205814450979233
         ],
         "z": [
          "finalmente"
         ]
        },
        {
         "hovertemplate": "color=ceremoniosa<br>x=%{x}<br>y=%{y}<br>z=%{z}<br>text=%{text}<extra></extra>",
         "legendgroup": "ceremoniosa",
         "marker": {
          "color": "#B6E880",
          "symbol": "circle"
         },
         "mode": "markers+text",
         "name": "ceremoniosa",
         "scene": "scene",
         "showlegend": true,
         "text": [
          "ceremoniosa"
         ],
         "type": "scatter3d",
         "x": [
          -0.05765669047832489
         ],
         "y": [
          0.029157698154449463
         ],
         "z": [
          "ceremoniosa"
         ]
        },
        {
         "hovertemplate": "color=gregorio<br>x=%{x}<br>y=%{y}<br>z=%{z}<br>text=%{text}<extra></extra>",
         "legendgroup": "gregorio",
         "marker": {
          "color": "#FF97FF",
          "symbol": "circle"
         },
         "mode": "markers+text",
         "name": "gregorio",
         "scene": "scene",
         "showlegend": true,
         "text": [
          "gregorio"
         ],
         "type": "scatter3d",
         "x": [
          0.07257326692342758
         ],
         "y": [
          0.058668315410614014
         ],
         "z": [
          "gregorio"
         ]
        },
        {
         "hovertemplate": "color=don<br>x=%{x}<br>y=%{y}<br>z=%{z}<br>text=%{text}<extra></extra>",
         "legendgroup": "don",
         "marker": {
          "color": "#FECB52",
          "symbol": "circle"
         },
         "mode": "markers+text",
         "name": "don",
         "scene": "scene",
         "showlegend": true,
         "text": [
          "don"
         ],
         "type": "scatter3d",
         "x": [
          0.046269532293081284
         ],
         "y": [
          0.09581121057271957
         ],
         "z": [
          "don"
         ]
        },
        {
         "hovertemplate": "color=servicios<br>x=%{x}<br>y=%{y}<br>z=%{z}<br>text=%{text}<extra></extra>",
         "legendgroup": "servicios",
         "marker": {
          "color": "#636efa",
          "symbol": "circle"
         },
         "mode": "markers+text",
         "name": "servicios",
         "scene": "scene",
         "showlegend": true,
         "text": [
          "servicios"
         ],
         "type": "scatter3d",
         "x": [
          -0.03897165134549141
         ],
         "y": [
          -0.12713220715522766
         ],
         "z": [
          "servicios"
         ]
        },
        {
         "hovertemplate": "color=gloriosos<br>x=%{x}<br>y=%{y}<br>z=%{z}<br>text=%{text}<extra></extra>",
         "legendgroup": "gloriosos",
         "marker": {
          "color": "#EF553B",
          "symbol": "circle"
         },
         "mode": "markers+text",
         "name": "gloriosos",
         "scene": "scene",
         "showlegend": true,
         "text": [
          "gloriosos"
         ],
         "type": "scatter3d",
         "x": [
          -0.08014698326587677
         ],
         "y": [
          -0.08129063248634338
         ],
         "z": [
          "gloriosos"
         ]
        },
        {
         "hovertemplate": "color=ponderaba<br>x=%{x}<br>y=%{y}<br>z=%{z}<br>text=%{text}<extra></extra>",
         "legendgroup": "ponderaba",
         "marker": {
          "color": "#00cc96",
          "symbol": "circle"
         },
         "mode": "markers+text",
         "name": "ponderaba",
         "scene": "scene",
         "showlegend": true,
         "text": [
          "ponderaba"
         ],
         "type": "scatter3d",
         "x": [
          0.05270637944340706
         ],
         "y": [
          -0.026422254741191864
         ],
         "z": [
          "ponderaba"
         ]
        },
        {
         "hovertemplate": "color=7<br>x=%{x}<br>y=%{y}<br>z=%{z}<br>text=%{text}<extra></extra>",
         "legendgroup": "7",
         "marker": {
          "color": "#ab63fa",
          "symbol": "circle"
         },
         "mode": "markers+text",
         "name": "7",
         "scene": "scene",
         "showlegend": true,
         "text": [
          "7"
         ],
         "type": "scatter3d",
         "x": [
          -0.029632722958922386
         ],
         "y": [
          0.05629971623420715
         ],
         "z": [
          "7"
         ]
        },
        {
         "hovertemplate": "color=fugaz<br>x=%{x}<br>y=%{y}<br>z=%{z}<br>text=%{text}<extra></extra>",
         "legendgroup": "fugaz",
         "marker": {
          "color": "#FFA15A",
          "symbol": "circle"
         },
         "mode": "markers+text",
         "name": "fugaz",
         "scene": "scene",
         "showlegend": true,
         "text": [
          "fugaz"
         ],
         "type": "scatter3d",
         "x": [
          -0.01770872250199318
         ],
         "y": [
          0.000038117319490993395
         ],
         "z": [
          "fugaz"
         ]
        },
        {
         "hovertemplate": "color=desdichadamente<br>x=%{x}<br>y=%{y}<br>z=%{z}<br>text=%{text}<extra></extra>",
         "legendgroup": "desdichadamente",
         "marker": {
          "color": "#19d3f3",
          "symbol": "circle"
         },
         "mode": "markers+text",
         "name": "desdichadamente",
         "scene": "scene",
         "showlegend": true,
         "text": [
          "desdichadamente"
         ],
         "type": "scatter3d",
         "x": [
          0.04355330765247345
         ],
         "y": [
          0.01659289561212063
         ],
         "z": [
          "desdichadamente"
         ]
        },
        {
         "hovertemplate": "color=encuentro<br>x=%{x}<br>y=%{y}<br>z=%{z}<br>text=%{text}<extra></extra>",
         "legendgroup": "encuentro",
         "marker": {
          "color": "#FF6692",
          "symbol": "circle"
         },
         "mode": "markers+text",
         "name": "encuentro",
         "scene": "scene",
         "showlegend": true,
         "text": [
          "encuentro"
         ],
         "type": "scatter3d",
         "x": [
          0.03685292974114418
         ],
         "y": [
          -0.004846596159040928
         ],
         "z": [
          "encuentro"
         ]
        },
        {
         "hovertemplate": "color=nuestro<br>x=%{x}<br>y=%{y}<br>z=%{z}<br>text=%{text}<extra></extra>",
         "legendgroup": "nuestro",
         "marker": {
          "color": "#B6E880",
          "symbol": "circle"
         },
         "mode": "markers+text",
         "name": "nuestro",
         "scene": "scene",
         "showlegend": true,
         "text": [
          "nuestro"
         ],
         "type": "scatter3d",
         "x": [
          0.03492577373981476
         ],
         "y": [
          -0.06708948314189911
         ],
         "z": [
          "nuestro"
         ]
        },
        {
         "hovertemplate": "color=serie<br>x=%{x}<br>y=%{y}<br>z=%{z}<br>text=%{text}<extra></extra>",
         "legendgroup": "serie",
         "marker": {
          "color": "#FF97FF",
          "symbol": "circle"
         },
         "mode": "markers+text",
         "name": "serie",
         "scene": "scene",
         "showlegend": true,
         "text": [
          "serie"
         ],
         "type": "scatter3d",
         "x": [
          0.021628521382808685
         ],
         "y": [
          0.001585642108693719
         ],
         "z": [
          "serie"
         ]
        },
        {
         "hovertemplate": "color=florida<br>x=%{x}<br>y=%{y}<br>z=%{z}<br>text=%{text}<extra></extra>",
         "legendgroup": "florida",
         "marker": {
          "color": "#FECB52",
          "symbol": "circle"
         },
         "mode": "markers+text",
         "name": "florida",
         "scene": "scene",
         "showlegend": true,
         "text": [
          "florida"
         ],
         "type": "scatter3d",
         "x": [
          -0.00021345991990529
         ],
         "y": [
          -0.17344240844249725
         ],
         "z": [
          "florida"
         ]
        },
        {
         "hovertemplate": "color=propala<br>x=%{x}<br>y=%{y}<br>z=%{z}<br>text=%{text}<extra></extra>",
         "legendgroup": "propala",
         "marker": {
          "color": "#636efa",
          "symbol": "circle"
         },
         "mode": "markers+text",
         "name": "propala",
         "scene": "scene",
         "showlegend": true,
         "text": [
          "propala"
         ],
         "type": "scatter3d",
         "x": [
          -0.07384436577558517
         ],
         "y": [
          -0.005068396683782339
         ],
         "z": [
          "propala"
         ]
        },
        {
         "hovertemplate": "color=carta<br>x=%{x}<br>y=%{y}<br>z=%{z}<br>text=%{text}<extra></extra>",
         "legendgroup": "carta",
         "marker": {
          "color": "#EF553B",
          "symbol": "circle"
         },
         "mode": "markers+text",
         "name": "carta",
         "scene": "scene",
         "showlegend": true,
         "text": [
          "carta"
         ],
         "type": "scatter3d",
         "x": [
          0.012333140708506107
         ],
         "y": [
          -0.046918947249650955
         ],
         "z": [
          "carta"
         ]
        },
        {
         "hovertemplate": "color=dirigió<br>x=%{x}<br>y=%{y}<br>z=%{z}<br>text=%{text}<extra></extra>",
         "legendgroup": "dirigió",
         "marker": {
          "color": "#00cc96",
          "symbol": "circle"
         },
         "mode": "markers+text",
         "name": "dirigió",
         "scene": "scene",
         "showlegend": true,
         "text": [
          "dirigió"
         ],
         "type": "scatter3d",
         "x": [
          -0.021137332543730736
         ],
         "y": [
          -0.056809499859809875
         ],
         "z": [
          "dirigió"
         ]
        },
        {
         "hovertemplate": "color=anómalos<br>x=%{x}<br>y=%{y}<br>z=%{z}<br>text=%{text}<extra></extra>",
         "legendgroup": "anómalos",
         "marker": {
          "color": "#ab63fa",
          "symbol": "circle"
         },
         "mode": "markers+text",
         "name": "anómalos",
         "scene": "scene",
         "showlegend": true,
         "text": [
          "anómalos"
         ],
         "type": "scatter3d",
         "x": [
          0.04288829118013382
         ],
         "y": [
          -0.02376185543835163
         ],
         "z": [
          "anómalos"
         ]
        },
        {
         "hovertemplate": "color=libros<br>x=%{x}<br>y=%{y}<br>z=%{z}<br>text=%{text}<extra></extra>",
         "legendgroup": "libros",
         "marker": {
          "color": "#FFA15A",
          "symbol": "circle"
         },
         "mode": "markers+text",
         "name": "libros",
         "scene": "scene",
         "showlegend": true,
         "text": [
          "libros"
         ],
         "type": "scatter3d",
         "x": [
          0.06629510223865509
         ],
         "y": [
          -0.05204908177256584
         ],
         "z": [
          "libros"
         ]
        },
        {
         "hovertemplate": "color=catálogo<br>x=%{x}<br>y=%{y}<br>z=%{z}<br>text=%{text}<extra></extra>",
         "legendgroup": "catálogo",
         "marker": {
          "color": "#19d3f3",
          "symbol": "circle"
         },
         "mode": "markers+text",
         "name": "catálogo",
         "scene": "scene",
         "showlegend": true,
         "text": [
          "catálogo"
         ],
         "type": "scatter3d",
         "x": [
          0.018622050061821938
         ],
         "y": [
          0.057627398520708084
         ],
         "z": [
          "catálogo"
         ]
        },
        {
         "hovertemplate": "color=mental<br>x=%{x}<br>y=%{y}<br>z=%{z}<br>text=%{text}<extra></extra>",
         "legendgroup": "mental",
         "marker": {
          "color": "#FF6692",
          "symbol": "circle"
         },
         "mode": "markers+text",
         "name": "mental",
         "scene": "scene",
         "showlegend": true,
         "text": [
          "mental"
         ],
         "type": "scatter3d",
         "x": [
          -0.01323731616139412
         ],
         "y": [
          -0.08953563868999481
         ],
         "z": [
          "mental"
         ]
        },
        {
         "hovertemplate": "color=enterarse<br>x=%{x}<br>y=%{y}<br>z=%{z}<br>text=%{text}<extra></extra>",
         "legendgroup": "enterarse",
         "marker": {
          "color": "#B6E880",
          "symbol": "circle"
         },
         "mode": "markers+text",
         "name": "enterarse",
         "scene": "scene",
         "showlegend": true,
         "text": [
          "enterarse"
         ],
         "type": "scatter3d",
         "x": [
          0.05727730318903923
         ],
         "y": [
          -0.0019032497657462955
         ],
         "z": [
          "enterarse"
         ]
        },
        {
         "hovertemplate": "color=tardó<br>x=%{x}<br>y=%{y}<br>z=%{z}<br>text=%{text}<extra></extra>",
         "legendgroup": "tardó",
         "marker": {
          "color": "#FF97FF",
          "symbol": "circle"
         },
         "mode": "markers+text",
         "name": "tardó",
         "scene": "scene",
         "showlegend": true,
         "text": [
          "tardó"
         ],
         "type": "scatter3d",
         "x": [
          -0.01947016268968582
         ],
         "y": [
          0.006394629832357168
         ],
         "z": [
          "tardó"
         ]
        },
        {
         "hovertemplate": "color=orillas<br>x=%{x}<br>y=%{y}<br>z=%{z}<br>text=%{text}<extra></extra>",
         "legendgroup": "orillas",
         "marker": {
          "color": "#FECB52",
          "symbol": "circle"
         },
         "mode": "markers+text",
         "name": "orillas",
         "scene": "scene",
         "showlegend": true,
         "text": [
          "orillas"
         ],
         "type": "scatter3d",
         "x": [
          -0.06762439012527466
         ],
         "y": [
          0.015217483974993229
         ],
         "z": [
          "orillas"
         ]
        },
        {
         "hovertemplate": "color=imágenes<br>x=%{x}<br>y=%{y}<br>z=%{z}<br>text=%{text}<extra></extra>",
         "legendgroup": "imágenes",
         "marker": {
          "color": "#636efa",
          "symbol": "circle"
         },
         "mode": "markers+text",
         "name": "imágenes",
         "scene": "scene",
         "showlegend": true,
         "text": [
          "imágenes"
         ],
         "type": "scatter3d",
         "x": [
          -0.14181020855903625
         ],
         "y": [
          0.00579863553866744
         ],
         "z": [
          "imágenes"
         ]
        },
        {
         "hovertemplate": "color=chico<br>x=%{x}<br>y=%{y}<br>z=%{z}<br>text=%{text}<extra></extra>",
         "legendgroup": "chico",
         "marker": {
          "color": "#EF553B",
          "symbol": "circle"
         },
         "mode": "markers+text",
         "name": "chico",
         "scene": "scene",
         "showlegend": true,
         "text": [
          "chico"
         ],
         "type": "scatter3d",
         "x": [
          -0.1911037266254425
         ],
         "y": [
          -0.05080155283212662
         ],
         "z": [
          "chico"
         ]
        },
        {
         "hovertemplate": "color=iniciado<br>x=%{x}<br>y=%{y}<br>z=%{z}<br>text=%{text}<extra></extra>",
         "legendgroup": "iniciado",
         "marker": {
          "color": "#00cc96",
          "symbol": "circle"
         },
         "mode": "markers+text",
         "name": "iniciado",
         "scene": "scene",
         "showlegend": true,
         "text": [
          "iniciado"
         ],
         "type": "scatter3d",
         "x": [
          0.06892688572406769
         ],
         "y": [
          0.10050083696842194
         ],
         "z": [
          "iniciado"
         ]
        },
        {
         "hovertemplate": "color=vanagloria<br>x=%{x}<br>y=%{y}<br>z=%{z}<br>text=%{text}<extra></extra>",
         "legendgroup": "vanagloria",
         "marker": {
          "color": "#ab63fa",
          "symbol": "circle"
         },
         "mode": "markers+text",
         "name": "vanagloria",
         "scene": "scene",
         "showlegend": true,
         "text": [
          "vanagloria"
         ],
         "type": "scatter3d",
         "x": [
          -0.013247476890683174
         ],
         "y": [
          0.0013025854714214802
         ],
         "z": [
          "vanagloria"
         ]
        },
        {
         "hovertemplate": "color=incapaz<br>x=%{x}<br>y=%{y}<br>z=%{z}<br>text=%{text}<extra></extra>",
         "legendgroup": "incapaz",
         "marker": {
          "color": "#FFA15A",
          "symbol": "circle"
         },
         "mode": "markers+text",
         "name": "incapaz",
         "scene": "scene",
         "showlegend": true,
         "text": [
          "incapaz"
         ],
         "type": "scatter3d",
         "x": [
          -0.12458519637584686
         ],
         "y": [
          0.03969965875148773
         ],
         "z": [
          "incapaz"
         ]
        },
        {
         "hovertemplate": "color=veníamos<br>x=%{x}<br>y=%{y}<br>z=%{z}<br>text=%{text}<extra></extra>",
         "legendgroup": "veníamos",
         "marker": {
          "color": "#19d3f3",
          "symbol": "circle"
         },
         "mode": "markers+text",
         "name": "veníamos",
         "scene": "scene",
         "showlegend": true,
         "text": [
          "veníamos"
         ],
         "type": "scatter3d",
         "x": [
          0.04331252723932266
         ],
         "y": [
          0.038522884249687195
         ],
         "z": [
          "veníamos"
         ]
        },
        {
         "hovertemplate": "color=movía<br>x=%{x}<br>y=%{y}<br>z=%{z}<br>text=%{text}<extra></extra>",
         "legendgroup": "movía",
         "marker": {
          "color": "#FF6692",
          "symbol": "circle"
         },
         "mode": "markers+text",
         "name": "movía",
         "scene": "scene",
         "showlegend": true,
         "text": [
          "movía"
         ],
         "type": "scatter3d",
         "x": [
          -0.13885901868343353
         ],
         "y": [
          -0.03405386954545975
         ],
         "z": [
          "movía"
         ]
        },
        {
         "hovertemplate": "color=dijeron<br>x=%{x}<br>y=%{y}<br>z=%{z}<br>text=%{text}<extra></extra>",
         "legendgroup": "dijeron",
         "marker": {
          "color": "#B6E880",
          "symbol": "circle"
         },
         "mode": "markers+text",
         "name": "dijeron",
         "scene": "scene",
         "showlegend": true,
         "text": [
          "dijeron"
         ],
         "type": "scatter3d",
         "x": [
          -0.0624055452644825
         ],
         "y": [
          0.029243387281894684
         ],
         "z": [
          "dijeron"
         ]
        },
        {
         "hovertemplate": "color=anteriores<br>x=%{x}<br>y=%{y}<br>z=%{z}<br>text=%{text}<extra></extra>",
         "legendgroup": "anteriores",
         "marker": {
          "color": "#FF97FF",
          "symbol": "circle"
         },
         "mode": "markers+text",
         "name": "anteriores",
         "scene": "scene",
         "showlegend": true,
         "text": [
          "anteriores"
         ],
         "type": "scatter3d",
         "x": [
          -0.011101965792477131
         ],
         "y": [
          0.06358789652585983
         ],
         "z": [
          "anteriores"
         ]
        },
        {
         "hovertemplate": "color=elementos<br>x=%{x}<br>y=%{y}<br>z=%{z}<br>text=%{text}<extra></extra>",
         "legendgroup": "elementos",
         "marker": {
          "color": "#FECB52",
          "symbol": "circle"
         },
         "mode": "markers+text",
         "name": "elementos",
         "scene": "scene",
         "showlegend": true,
         "text": [
          "elementos"
         ],
         "type": "scatter3d",
         "x": [
          0.067936010658741
         ],
         "y": [
          0.06135159358382225
         ],
         "z": [
          "elementos"
         ]
        },
        {
         "hovertemplate": "color=elaborado<br>x=%{x}<br>y=%{y}<br>z=%{z}<br>text=%{text}<extra></extra>",
         "legendgroup": "elaborado",
         "marker": {
          "color": "#636efa",
          "symbol": "circle"
         },
         "mode": "markers+text",
         "name": "elaborado",
         "scene": "scene",
         "showlegend": true,
         "text": [
          "elaborado"
         ],
         "type": "scatter3d",
         "x": [
          -0.11305785179138184
         ],
         "y": [
          0.11141210794448853
         ],
         "z": [
          "elaborado"
         ]
        },
        {
         "hovertemplate": "color=sueño<br>x=%{x}<br>y=%{y}<br>z=%{z}<br>text=%{text}<extra></extra>",
         "legendgroup": "sueño",
         "marker": {
          "color": "#EF553B",
          "symbol": "circle"
         },
         "mode": "markers+text",
         "name": "sueño",
         "scene": "scene",
         "showlegend": true,
         "text": [
          "sueño"
         ],
         "type": "scatter3d",
         "x": [
          0.1009112000465393
         ],
         "y": [
          0.01923198439180851
         ],
         "z": [
          "sueño"
         ]
        },
        {
         "hovertemplate": "color=mucho<br>x=%{x}<br>y=%{y}<br>z=%{z}<br>text=%{text}<extra></extra>",
         "legendgroup": "mucho",
         "marker": {
          "color": "#00cc96",
          "symbol": "circle"
         },
         "mode": "markers+text",
         "name": "mucho",
         "scene": "scene",
         "showlegend": true,
         "text": [
          "mucho"
         ],
         "type": "scatter3d",
         "x": [
          -0.005844351835548878
         ],
         "y": [
          0.11794278025627136
         ],
         "z": [
          "mucho"
         ]
        },
        {
         "hovertemplate": "color=boca<br>x=%{x}<br>y=%{y}<br>z=%{z}<br>text=%{text}<extra></extra>",
         "legendgroup": "boca",
         "marker": {
          "color": "#ab63fa",
          "symbol": "circle"
         },
         "mode": "markers+text",
         "name": "boca",
         "scene": "scene",
         "showlegend": true,
         "text": [
          "boca"
         ],
         "type": "scatter3d",
         "x": [
          -0.03966834768652916
         ],
         "y": [
          0.022581132128834724
         ],
         "z": [
          "boca"
         ]
        },
        {
         "hovertemplate": "color=comprender<br>x=%{x}<br>y=%{y}<br>z=%{z}<br>text=%{text}<extra></extra>",
         "legendgroup": "comprender",
         "marker": {
          "color": "#FFA15A",
          "symbol": "circle"
         },
         "mode": "markers+text",
         "name": "comprender",
         "scene": "scene",
         "showlegend": true,
         "text": [
          "comprender"
         ],
         "type": "scatter3d",
         "x": [
          -0.011189340613782406
         ],
         "y": [
          0.00212874892167747
         ],
         "z": [
          "comprender"
         ]
        },
        {
         "hovertemplate": "color=símbolo<br>x=%{x}<br>y=%{y}<br>z=%{z}<br>text=%{text}<extra></extra>",
         "legendgroup": "símbolo",
         "marker": {
          "color": "#19d3f3",
          "symbol": "circle"
         },
         "mode": "markers+text",
         "name": "símbolo",
         "scene": "scene",
         "showlegend": true,
         "text": [
          "símbolo"
         ],
         "type": "scatter3d",
         "x": [
          0.08828921616077423
         ],
         "y": [
          -0.004323282279074192
         ],
         "z": [
          "símbolo"
         ]
        },
        {
         "hovertemplate": "color=andaba<br>x=%{x}<br>y=%{y}<br>z=%{z}<br>text=%{text}<extra></extra>",
         "legendgroup": "andaba",
         "marker": {
          "color": "#FF6692",
          "symbol": "circle"
         },
         "mode": "markers+text",
         "name": "andaba",
         "scene": "scene",
         "showlegend": true,
         "text": [
          "andaba"
         ],
         "type": "scatter3d",
         "x": [
          -0.003256148425862193
         ],
         "y": [
          -0.053815264254808426
         ],
         "z": [
          "andaba"
         ]
        },
        {
         "hovertemplate": "color=genérico<br>x=%{x}<br>y=%{y}<br>z=%{z}<br>text=%{text}<extra></extra>",
         "legendgroup": "genérico",
         "marker": {
          "color": "#B6E880",
          "symbol": "circle"
         },
         "mode": "markers+text",
         "name": "genérico",
         "scene": "scene",
         "showlegend": true,
         "text": [
          "genérico"
         ],
         "type": "scatter3d",
         "x": [
          0.08233579248189926
         ],
         "y": [
          0.015260470099747181
         ],
         "z": [
          "genérico"
         ]
        },
        {
         "hovertemplate": "color=santonina<br>x=%{x}<br>y=%{y}<br>z=%{z}<br>text=%{text}<extra></extra>",
         "legendgroup": "santonina",
         "marker": {
          "color": "#FF97FF",
          "symbol": "circle"
         },
         "mode": "markers+text",
         "name": "santonina",
         "scene": "scene",
         "showlegend": true,
         "text": [
          "santonina"
         ],
         "type": "scatter3d",
         "x": [
          -0.05856094881892204
         ],
         "y": [
          0.046673424541950226
         ],
         "z": [
          "santonina"
         ]
        },
        {
         "hovertemplate": "color=produjo<br>x=%{x}<br>y=%{y}<br>z=%{z}<br>text=%{text}<extra></extra>",
         "legendgroup": "produjo",
         "marker": {
          "color": "#FECB52",
          "symbol": "circle"
         },
         "mode": "markers+text",
         "name": "produjo",
         "scene": "scene",
         "showlegend": true,
         "text": [
          "produjo"
         ],
         "type": "scatter3d",
         "x": [
          -0.0019558588974177837
         ],
         "y": [
          -0.03592255339026451
         ],
         "z": [
          "produjo"
         ]
        },
        {
         "hovertemplate": "color=abarcara<br>x=%{x}<br>y=%{y}<br>z=%{z}<br>text=%{text}<extra></extra>",
         "legendgroup": "abarcara",
         "marker": {
          "color": "#636efa",
          "symbol": "circle"
         },
         "mode": "markers+text",
         "name": "abarcara",
         "scene": "scene",
         "showlegend": true,
         "text": [
          "abarcara"
         ],
         "type": "scatter3d",
         "x": [
          -0.08548568189144135
         ],
         "y": [
          0.037911370396614075
         ],
         "z": [
          "abarcara"
         ]
        },
        {
         "hovertemplate": "color=magia<br>x=%{x}<br>y=%{y}<br>z=%{z}<br>text=%{text}<extra></extra>",
         "legendgroup": "magia",
         "marker": {
          "color": "#EF553B",
          "symbol": "circle"
         },
         "mode": "markers+text",
         "name": "magia",
         "scene": "scene",
         "showlegend": true,
         "text": [
          "magia"
         ],
         "type": "scatter3d",
         "x": [
          -0.011997404508292675
         ],
         "y": [
          0.049104396253824234
         ],
         "z": [
          "magia"
         ]
        },
        {
         "hovertemplate": "color=incómoda<br>x=%{x}<br>y=%{y}<br>z=%{z}<br>text=%{text}<extra></extra>",
         "legendgroup": "incómoda",
         "marker": {
          "color": "#00cc96",
          "symbol": "circle"
         },
         "mode": "markers+text",
         "name": "incómoda",
         "scene": "scene",
         "showlegend": true,
         "text": [
          "incómoda"
         ],
         "type": "scatter3d",
         "x": [
          0.013520753011107445
         ],
         "y": [
          0.0750296413898468
         ],
         "z": [
          "incómoda"
         ]
        },
        {
         "hovertemplate": "color=impresión<br>x=%{x}<br>y=%{y}<br>z=%{z}<br>text=%{text}<extra></extra>",
         "legendgroup": "impresión",
         "marker": {
          "color": "#ab63fa",
          "symbol": "circle"
         },
         "mode": "markers+text",
         "name": "impresión",
         "scene": "scene",
         "showlegend": true,
         "text": [
          "impresión"
         ],
         "type": "scatter3d",
         "x": [
          -0.01586499623954296
         ],
         "y": [
          0.012898506596684456
         ],
         "z": [
          "impresión"
         ]
        },
        {
         "hovertemplate": "color=tantos<br>x=%{x}<br>y=%{y}<br>z=%{z}<br>text=%{text}<extra></extra>",
         "legendgroup": "tantos",
         "marker": {
          "color": "#FFA15A",
          "symbol": "circle"
         },
         "mode": "markers+text",
         "name": "tantos",
         "scene": "scene",
         "showlegend": true,
         "text": [
          "tantos"
         ],
         "type": "scatter3d",
         "x": [
          -0.012055744417011738
         ],
         "y": [
          0.01030272338539362
         ],
         "z": [
          "tantos"
         ]
        },
        {
         "hovertemplate": "color=quedado<br>x=%{x}<br>y=%{y}<br>z=%{z}<br>text=%{text}<extra></extra>",
         "legendgroup": "quedado",
         "marker": {
          "color": "#19d3f3",
          "symbol": "circle"
         },
         "mode": "markers+text",
         "name": "quedado",
         "scene": "scene",
         "showlegend": true,
         "text": [
          "quedado"
         ],
         "type": "scatter3d",
         "x": [
          0.04647507146000862
         ],
         "y": [
          -0.09907594323158264
         ],
         "z": [
          "quedado"
         ]
        },
        {
         "hovertemplate": "color=redomón<br>x=%{x}<br>y=%{y}<br>z=%{z}<br>text=%{text}<extra></extra>",
         "legendgroup": "redomón",
         "marker": {
          "color": "#FF6692",
          "symbol": "circle"
         },
         "mode": "markers+text",
         "name": "redomón",
         "scene": "scene",
         "showlegend": true,
         "text": [
          "redomón"
         ],
         "type": "scatter3d",
         "x": [
          0.03469923138618469
         ],
         "y": [
          -0.010092955082654953
         ],
         "z": [
          "redomón"
         ]
        },
        {
         "hovertemplate": "color=volteado<br>x=%{x}<br>y=%{y}<br>z=%{z}<br>text=%{text}<extra></extra>",
         "legendgroup": "volteado",
         "marker": {
          "color": "#B6E880",
          "symbol": "circle"
         },
         "mode": "markers+text",
         "name": "volteado",
         "scene": "scene",
         "showlegend": true,
         "text": [
          "volteado"
         ],
         "type": "scatter3d",
         "x": [
          -0.03519514203071594
         ],
         "y": [
          0.08229583501815796
         ],
         "z": [
          "volteado"
         ]
        },
        {
         "hovertemplate": "color=contestaron<br>x=%{x}<br>y=%{y}<br>z=%{z}<br>text=%{text}<extra></extra>",
         "legendgroup": "contestaron",
         "marker": {
          "color": "#FF97FF",
          "symbol": "circle"
         },
         "mode": "markers+text",
         "name": "contestaron",
         "scene": "scene",
         "showlegend": true,
         "text": [
          "contestaron"
         ],
         "type": "scatter3d",
         "x": [
          -0.017488742247223854
         ],
         "y": [
          -0.011523107066750526
         ],
         "z": [
          "contestaron"
         ]
        },
        {
         "hovertemplate": "color=oscurecido<br>x=%{x}<br>y=%{y}<br>z=%{z}<br>text=%{text}<extra></extra>",
         "legendgroup": "oscurecido",
         "marker": {
          "color": "#FECB52",
          "symbol": "circle"
         },
         "mode": "markers+text",
         "name": "oscurecido",
         "scene": "scene",
         "showlegend": true,
         "text": [
          "oscurecido"
         ],
         "type": "scatter3d",
         "x": [
          -0.0199887678027153
         ],
         "y": [
          0.006889848969876766
         ],
         "z": [
          "oscurecido"
         ]
        },
        {
         "hovertemplate": "color=costaba<br>x=%{x}<br>y=%{y}<br>z=%{z}<br>text=%{text}<extra></extra>",
         "legendgroup": "costaba",
         "marker": {
          "color": "#636efa",
          "symbol": "circle"
         },
         "mode": "markers+text",
         "name": "costaba",
         "scene": "scene",
         "showlegend": true,
         "text": [
          "costaba"
         ],
         "type": "scatter3d",
         "x": [
          -0.1050490066409111
         ],
         "y": [
          0.07659140229225159
         ],
         "z": [
          "costaba"
         ]
        },
        {
         "hovertemplate": "color=puestos<br>x=%{x}<br>y=%{y}<br>z=%{z}<br>text=%{text}<extra></extra>",
         "legendgroup": "puestos",
         "marker": {
          "color": "#EF553B",
          "symbol": "circle"
         },
         "mode": "markers+text",
         "name": "puestos",
         "scene": "scene",
         "showlegend": true,
         "text": [
          "puestos"
         ],
         "type": "scatter3d",
         "x": [
          0.03112892620265484
         ],
         "y": [
          -0.04998214170336723
         ],
         "z": [
          "puestos"
         ]
        },
        {
         "hovertemplate": "color=higuera<br>x=%{x}<br>y=%{y}<br>z=%{z}<br>text=%{text}<extra></extra>",
         "legendgroup": "higuera",
         "marker": {
          "color": "#00cc96",
          "symbol": "circle"
         },
         "mode": "markers+text",
         "name": "higuera",
         "scene": "scene",
         "showlegend": true,
         "text": [
          "higuera"
         ],
         "type": "scatter3d",
         "x": [
          -0.06272165477275848
         ],
         "y": [
          0.059386152774095535
         ],
         "z": [
          "higuera"
         ]
        },
        {
         "hovertemplate": "color=platónicas<br>x=%{x}<br>y=%{y}<br>z=%{z}<br>text=%{text}<extra></extra>",
         "legendgroup": "platónicas",
         "marker": {
          "color": "#ab63fa",
          "symbol": "circle"
         },
         "mode": "markers+text",
         "name": "platónicas",
         "scene": "scene",
         "showlegend": true,
         "text": [
          "platónicas"
         ],
         "type": "scatter3d",
         "x": [
          0.03700951486825943
         ],
         "y": [
          0.022591395303606987
         ],
         "z": [
          "platónicas"
         ]
        },
        {
         "hovertemplate": "color=gajo<br>x=%{x}<br>y=%{y}<br>z=%{z}<br>text=%{text}<extra></extra>",
         "legendgroup": "gajo",
         "marker": {
          "color": "#FFA15A",
          "symbol": "circle"
         },
         "mode": "markers+text",
         "name": "gajo",
         "scene": "scene",
         "showlegend": true,
         "text": [
          "gajo"
         ],
         "type": "scatter3d",
         "x": [
          -0.02059129998087883
         ],
         "y": [
          0.04219575226306915
         ],
         "z": [
          "gajo"
         ]
        },
        {
         "hovertemplate": "color=oloroso<br>x=%{x}<br>y=%{y}<br>z=%{z}<br>text=%{text}<extra></extra>",
         "legendgroup": "oloroso",
         "marker": {
          "color": "#19d3f3",
          "symbol": "circle"
         },
         "mode": "markers+text",
         "name": "oloroso",
         "scene": "scene",
         "showlegend": true,
         "text": [
          "oloroso"
         ],
         "type": "scatter3d",
         "x": [
          0.01633959822356701
         ],
         "y": [
          -0.04853983595967293
         ],
         "z": [
          "oloroso"
         ]
        },
        {
         "hovertemplate": "color=contemplación<br>x=%{x}<br>y=%{y}<br>z=%{z}<br>text=%{text}<extra></extra>",
         "legendgroup": "contemplación",
         "marker": {
          "color": "#FF6692",
          "symbol": "circle"
         },
         "mode": "markers+text",
         "name": "contemplación",
         "scene": "scene",
         "showlegend": true,
         "text": [
          "contemplación"
         ],
         "type": "scatter3d",
         "x": [
          0.007301359437406063
         ],
         "y": [
          -0.07492048293352127
         ],
         "z": [
          "contemplación"
         ]
        },
        {
         "hovertemplate": "color=absorto<br>x=%{x}<br>y=%{y}<br>z=%{z}<br>text=%{text}<extra></extra>",
         "legendgroup": "absorto",
         "marker": {
          "color": "#B6E880",
          "symbol": "circle"
         },
         "mode": "markers+text",
         "name": "absorto",
         "scene": "scene",
         "showlegend": true,
         "text": [
          "absorto"
         ],
         "type": "scatter3d",
         "x": [
          0.1698308140039444
         ],
         "y": [
          -0.060188475996255875
         ],
         "z": [
          "absorto"
         ]
        },
        {
         "hovertemplate": "color=otra<br>x=%{x}<br>y=%{y}<br>z=%{z}<br>text=%{text}<extra></extra>",
         "legendgroup": "otra",
         "marker": {
          "color": "#FF97FF",
          "symbol": "circle"
         },
         "mode": "markers+text",
         "name": "otra",
         "scene": "scene",
         "showlegend": true,
         "text": [
          "otra"
         ],
         "type": "scatter3d",
         "x": [
          -0.029636463150382042
         ],
         "y": [
          0.012329752556979656
         ],
         "z": [
          "otra"
         ]
        },
        {
         "hovertemplate": "color=cerrados<br>x=%{x}<br>y=%{y}<br>z=%{z}<br>text=%{text}<extra></extra>",
         "legendgroup": "cerrados",
         "marker": {
          "color": "#FECB52",
          "symbol": "circle"
         },
         "mode": "markers+text",
         "name": "cerrados",
         "scene": "scene",
         "showlegend": true,
         "text": [
          "cerrados"
         ],
         "type": "scatter3d",
         "x": [
          -0.07159162312746048
         ],
         "y": [
          -0.06880747526884079
         ],
         "z": [
          "cerrados"
         ]
        },
        {
         "hovertemplate": "color=ideas<br>x=%{x}<br>y=%{y}<br>z=%{z}<br>text=%{text}<extra></extra>",
         "legendgroup": "ideas",
         "marker": {
          "color": "#636efa",
          "symbol": "circle"
         },
         "mode": "markers+text",
         "name": "ideas",
         "scene": "scene",
         "showlegend": true,
         "text": [
          "ideas"
         ],
         "type": "scatter3d",
         "x": [
          0.052329838275909424
         ],
         "y": [
          -0.028627214953303337
         ],
         "z": [
          "ideas"
         ]
        },
        {
         "hovertemplate": "color=prisionero<br>x=%{x}<br>y=%{y}<br>z=%{z}<br>text=%{text}<extra></extra>",
         "legendgroup": "prisionero",
         "marker": {
          "color": "#EF553B",
          "symbol": "circle"
         },
         "mode": "markers+text",
         "name": "prisionero",
         "scene": "scene",
         "showlegend": true,
         "text": [
          "prisionero"
         ],
         "type": "scatter3d",
         "x": [
          -0.04637739434838295
         ],
         "y": [
          -0.006571235600858927
         ],
         "z": [
          "prisionero"
         ]
        },
        {
         "hovertemplate": "color=eterno<br>x=%{x}<br>y=%{y}<br>z=%{z}<br>text=%{text}<extra></extra>",
         "legendgroup": "eterno",
         "marker": {
          "color": "#00cc96",
          "symbol": "circle"
         },
         "mode": "markers+text",
         "name": "eterno",
         "scene": "scene",
         "showlegend": true,
         "text": [
          "eterno"
         ],
         "type": "scatter3d",
         "x": [
          -0.10586961358785629
         ],
         "y": [
          0.09666576981544495
         ],
         "z": [
          "eterno"
         ]
        },
        {
         "hovertemplate": "color=recalcaba<br>x=%{x}<br>y=%{y}<br>z=%{z}<br>text=%{text}<extra></extra>",
         "legendgroup": "recalcaba",
         "marker": {
          "color": "#ab63fa",
          "symbol": "circle"
         },
         "mode": "markers+text",
         "name": "recalcaba",
         "scene": "scene",
         "showlegend": true,
         "text": [
          "recalcaba"
         ],
         "type": "scatter3d",
         "x": [
          -0.1099800392985344
         ],
         "y": [
          -0.062326740473508835
         ],
         "z": [
          "recalcaba"
         ]
        },
        {
         "hovertemplate": "color=burdamente<br>x=%{x}<br>y=%{y}<br>z=%{z}<br>text=%{text}<extra></extra>",
         "legendgroup": "burdamente",
         "marker": {
          "color": "#FFA15A",
          "symbol": "circle"
         },
         "mode": "markers+text",
         "name": "burdamente",
         "scene": "scene",
         "showlegend": true,
         "text": [
          "burdamente"
         ],
         "type": "scatter3d",
         "x": [
          -0.04776352271437645
         ],
         "y": [
          0.059038057923316956
         ],
         "z": [
          "burdamente"
         ]
        },
        {
         "hovertemplate": "color=reja<br>x=%{x}<br>y=%{y}<br>z=%{z}<br>text=%{text}<extra></extra>",
         "legendgroup": "reja",
         "marker": {
          "color": "#19d3f3",
          "symbol": "circle"
         },
         "mode": "markers+text",
         "name": "reja",
         "scene": "scene",
         "showlegend": true,
         "text": [
          "reja"
         ],
         "type": "scatter3d",
         "x": [
          -0.11803934723138809
         ],
         "y": [
          -0.04939231649041176
         ],
         "z": [
          "reja"
         ]
        },
        {
         "hovertemplate": "color=atrás<br>x=%{x}<br>y=%{y}<br>z=%{z}<br>text=%{text}<extra></extra>",
         "legendgroup": "atrás",
         "marker": {
          "color": "#FF6692",
          "symbol": "circle"
         },
         "mode": "markers+text",
         "name": "atrás",
         "scene": "scene",
         "showlegend": true,
         "text": [
          "atrás"
         ],
         "type": "scatter3d",
         "x": [
          -0.04835988208651543
         ],
         "y": [
          -0.0327131487429142
         ],
         "z": [
          "atrás"
         ]
        },
        {
         "hovertemplate": "color=fulminado<br>x=%{x}<br>y=%{y}<br>z=%{z}<br>text=%{text}<extra></extra>",
         "legendgroup": "fulminado",
         "marker": {
          "color": "#B6E880",
          "symbol": "circle"
         },
         "mode": "markers+text",
         "name": "fulminado",
         "scene": "scene",
         "showlegend": true,
         "text": [
          "fulminado"
         ],
         "type": "scatter3d",
         "x": [
          -0.02338533289730549
         ],
         "y": [
          -0.0012896846747025847
         ],
         "z": [
          "fulminado"
         ]
        },
        {
         "hovertemplate": "color=benéfico<br>x=%{x}<br>y=%{y}<br>z=%{z}<br>text=%{text}<extra></extra>",
         "legendgroup": "benéfico",
         "marker": {
          "color": "#FF97FF",
          "symbol": "circle"
         },
         "mode": "markers+text",
         "name": "benéfico",
         "scene": "scene",
         "showlegend": true,
         "text": [
          "benéfico"
         ],
         "type": "scatter3d",
         "x": [
          0.09694791585206985
         ],
         "y": [
          -0.03186875581741333
         ],
         "z": [
          "benéfico"
         ]
        },
        {
         "hovertemplate": "color=simular<br>x=%{x}<br>y=%{y}<br>z=%{z}<br>text=%{text}<extra></extra>",
         "legendgroup": "simular",
         "marker": {
          "color": "#FECB52",
          "symbol": "circle"
         },
         "mode": "markers+text",
         "name": "simular",
         "scene": "scene",
         "showlegend": true,
         "text": [
          "simular"
         ],
         "type": "scatter3d",
         "x": [
          0.030418233945965767
         ],
         "y": [
          0.04284116253256798
         ],
         "z": [
          "simular"
         ]
        },
        {
         "hovertemplate": "color=generales<br>x=%{x}<br>y=%{y}<br>z=%{z}<br>text=%{text}<extra></extra>",
         "legendgroup": "generales",
         "marker": {
          "color": "#636efa",
          "symbol": "circle"
         },
         "mode": "markers+text",
         "name": "generales",
         "scene": "scene",
         "showlegend": true,
         "text": [
          "generales"
         ],
         "type": "scatter3d",
         "x": [
          -0.10695701092481613
         ],
         "y": [
          0.09872034192085266
         ],
         "z": [
          "generales"
         ]
        },
        {
         "hovertemplate": "color=soberbia<br>x=%{x}<br>y=%{y}<br>z=%{z}<br>text=%{text}<extra></extra>",
         "legendgroup": "soberbia",
         "marker": {
          "color": "#EF553B",
          "symbol": "circle"
         },
         "mode": "markers+text",
         "name": "soberbia",
         "scene": "scene",
         "showlegend": true,
         "text": [
          "soberbia"
         ],
         "type": "scatter3d",
         "x": [
          -0.04092821478843689
         ],
         "y": [
          -0.014474770054221153
         ],
         "z": [
          "soberbia"
         ]
        },
        {
         "hovertemplate": "color=llevaba<br>x=%{x}<br>y=%{y}<br>z=%{z}<br>text=%{text}<extra></extra>",
         "legendgroup": "llevaba",
         "marker": {
          "color": "#00cc96",
          "symbol": "circle"
         },
         "mode": "markers+text",
         "name": "llevaba",
         "scene": "scene",
         "showlegend": true,
         "text": [
          "llevaba"
         ],
         "type": "scatter3d",
         "x": [
          0.05532083660364151
         ],
         "y": [
          0.027914052829146385
         ],
         "z": [
          "llevaba"
         ]
        },
        {
         "hovertemplate": "color=sacaran<br>x=%{x}<br>y=%{y}<br>z=%{z}<br>text=%{text}<extra></extra>",
         "legendgroup": "sacaran",
         "marker": {
          "color": "#ab63fa",
          "symbol": "circle"
         },
         "mode": "markers+text",
         "name": "sacaran",
         "scene": "scene",
         "showlegend": true,
         "text": [
          "sacaran"
         ],
         "type": "scatter3d",
         "x": [
          0.11586644500494003
         ],
         "y": [
          -0.05843471363186836
         ],
         "z": [
          "sacaran"
         ]
        },
        {
         "hovertemplate": "color=permitía<br>x=%{x}<br>y=%{y}<br>z=%{z}<br>text=%{text}<extra></extra>",
         "legendgroup": "permitía",
         "marker": {
          "color": "#FFA15A",
          "symbol": "circle"
         },
         "mode": "markers+text",
         "name": "permitía",
         "scene": "scene",
         "showlegend": true,
         "text": [
          "permitía"
         ],
         "type": "scatter3d",
         "x": [
          -0.003205847227945924
         ],
         "y": [
          -0.011409425176680088
         ],
         "z": [
          "permitía"
         ]
        },
        {
         "hovertemplate": "color=atardeceres<br>x=%{x}<br>y=%{y}<br>z=%{z}<br>text=%{text}<extra></extra>",
         "legendgroup": "atardeceres",
         "marker": {
          "color": "#19d3f3",
          "symbol": "circle"
         },
         "mode": "markers+text",
         "name": "atardeceres",
         "scene": "scene",
         "showlegend": true,
         "text": [
          "atardeceres"
         ],
         "type": "scatter3d",
         "x": [
          -0.02778797410428524
         ],
         "y": [
          0.09419414401054382
         ],
         "z": [
          "atardeceres"
         ]
        },
        {
         "hovertemplate": "color=telaraña<br>x=%{x}<br>y=%{y}<br>z=%{z}<br>text=%{text}<extra></extra>",
         "legendgroup": "telaraña",
         "marker": {
          "color": "#FF6692",
          "symbol": "circle"
         },
         "mode": "markers+text",
         "name": "telaraña",
         "scene": "scene",
         "showlegend": true,
         "text": [
          "telaraña"
         ],
         "type": "scatter3d",
         "x": [
          0.0897173136472702
         ],
         "y": [
          -0.12206462025642395
         ],
         "z": [
          "telaraña"
         ]
        },
        {
         "hovertemplate": "color=lúcido<br>x=%{x}<br>y=%{y}<br>z=%{z}<br>text=%{text}<extra></extra>",
         "legendgroup": "lúcido",
         "marker": {
          "color": "#B6E880",
          "symbol": "circle"
         },
         "mode": "markers+text",
         "name": "lúcido",
         "scene": "scene",
         "showlegend": true,
         "text": [
          "lúcido"
         ],
         "type": "scatter3d",
         "x": [
          0.005447827745229006
         ],
         "y": [
          0.026687169447541237
         ],
         "z": [
          "lúcido"
         ]
        },
        {
         "hovertemplate": "color=espectador<br>x=%{x}<br>y=%{y}<br>z=%{z}<br>text=%{text}<extra></extra>",
         "legendgroup": "espectador",
         "marker": {
          "color": "#FF97FF",
          "symbol": "circle"
         },
         "mode": "markers+text",
         "name": "espectador",
         "scene": "scene",
         "showlegend": true,
         "text": [
          "espectador"
         ],
         "type": "scatter3d",
         "x": [
          -0.05914502218365669
         ],
         "y": [
          -0.02221834845840931
         ],
         "z": [
          "espectador"
         ]
        },
        {
         "hovertemplate": "color=ladrillo<br>x=%{x}<br>y=%{y}<br>z=%{z}<br>text=%{text}<extra></extra>",
         "legendgroup": "ladrillo",
         "marker": {
          "color": "#FECB52",
          "symbol": "circle"
         },
         "mode": "markers+text",
         "name": "ladrillo",
         "scene": "scene",
         "showlegend": true,
         "text": [
          "ladrillo"
         ],
         "type": "scatter3d",
         "x": [
          0.04792805761098862
         ],
         "y": [
          0.05973956733942032
         ],
         "z": [
          "ladrillo"
         ]
        },
        {
         "hovertemplate": "color=amarilla<br>x=%{x}<br>y=%{y}<br>z=%{z}<br>text=%{text}<extra></extra>",
         "legendgroup": "amarilla",
         "marker": {
          "color": "#636efa",
          "symbol": "circle"
         },
         "mode": "markers+text",
         "name": "amarilla",
         "scene": "scene",
         "showlegend": true,
         "text": [
          "amarilla"
         ],
         "type": "scatter3d",
         "x": [
          -0.08231370896100998
         ],
         "y": [
          -0.057314183562994
         ],
         "z": [
          "amarilla"
         ]
        },
        {
         "hovertemplate": "color=portugués<br>x=%{x}<br>y=%{y}<br>z=%{z}<br>text=%{text}<extra></extra>",
         "legendgroup": "portugués",
         "marker": {
          "color": "#EF553B",
          "symbol": "circle"
         },
         "mode": "markers+text",
         "name": "portugués",
         "scene": "scene",
         "showlegend": true,
         "text": [
          "portugués"
         ],
         "type": "scatter3d",
         "x": [
          -0.016887087374925613
         ],
         "y": [
          0.008702335879206657
         ],
         "z": [
          "portugués"
         ]
        },
        {
         "hovertemplate": "color=orillero<br>x=%{x}<br>y=%{y}<br>z=%{z}<br>text=%{text}<extra></extra>",
         "legendgroup": "orillero",
         "marker": {
          "color": "#00cc96",
          "symbol": "circle"
         },
         "mode": "markers+text",
         "name": "orillero",
         "scene": "scene",
         "showlegend": true,
         "text": [
          "orillero"
         ],
         "type": "scatter3d",
         "x": [
          -0.027445048093795776
         ],
         "y": [
          0.0018050657818093896
         ],
         "z": [
          "orillero"
         ]
        },
        {
         "hovertemplate": "color=nasal<br>x=%{x}<br>y=%{y}<br>z=%{z}<br>text=%{text}<extra></extra>",
         "legendgroup": "nasal",
         "marker": {
          "color": "#ab63fa",
          "symbol": "circle"
         },
         "mode": "markers+text",
         "name": "nasal",
         "scene": "scene",
         "showlegend": true,
         "text": [
          "nasal"
         ],
         "type": "scatter3d",
         "x": [
          -0.06329873204231262
         ],
         "y": [
          0.060053978115320206
         ],
         "z": [
          "nasal"
         ]
        },
        {
         "hovertemplate": "color=resentida<br>x=%{x}<br>y=%{y}<br>z=%{z}<br>text=%{text}<extra></extra>",
         "legendgroup": "resentida",
         "marker": {
          "color": "#FFA15A",
          "symbol": "circle"
         },
         "mode": "markers+text",
         "name": "resentida",
         "scene": "scene",
         "showlegend": true,
         "text": [
          "resentida"
         ],
         "type": "scatter3d",
         "x": [
          -0.059650152921676636
         ],
         "y": [
          -0.02820231020450592
         ],
         "z": [
          "resentida"
         ]
        },
        {
         "hovertemplate": "color=pausada<br>x=%{x}<br>y=%{y}<br>z=%{z}<br>text=%{text}<extra></extra>",
         "legendgroup": "pausada",
         "marker": {
          "color": "#19d3f3",
          "symbol": "circle"
         },
         "mode": "markers+text",
         "name": "pausada",
         "scene": "scene",
         "showlegend": true,
         "text": [
          "pausada"
         ],
         "type": "scatter3d",
         "x": [
          0.0685698539018631
         ],
         "y": [
          0.03353448212146759
         ],
         "z": [
          "pausada"
         ]
        },
        {
         "hovertemplate": "color=sospecho<br>x=%{x}<br>y=%{y}<br>z=%{z}<br>text=%{text}<extra></extra>",
         "legendgroup": "sospecho",
         "marker": {
          "color": "#FF6692",
          "symbol": "circle"
         },
         "mode": "markers+text",
         "name": "sospecho",
         "scene": "scene",
         "showlegend": true,
         "text": [
          "sospecho"
         ],
         "type": "scatter3d",
         "x": [
          -0.14305968582630157
         ],
         "y": [
          0.005299079697579145
         ],
         "z": [
          "sospecho"
         ]
        },
        {
         "hovertemplate": "color=capaz<br>x=%{x}<br>y=%{y}<br>z=%{z}<br>text=%{text}<extra></extra>",
         "legendgroup": "capaz",
         "marker": {
          "color": "#B6E880",
          "symbol": "circle"
         },
         "mode": "markers+text",
         "name": "capaz",
         "scene": "scene",
         "showlegend": true,
         "text": [
          "capaz"
         ],
         "type": "scatter3d",
         "x": [
          0.018941204994916916
         ],
         "y": [
          -0.016534006223082542
         ],
         "z": [
          "capaz"
         ]
        },
        {
         "hovertemplate": "color=claramente<br>x=%{x}<br>y=%{y}<br>z=%{z}<br>text=%{text}<extra></extra>",
         "legendgroup": "claramente",
         "marker": {
          "color": "#FF97FF",
          "symbol": "circle"
         },
         "mode": "markers+text",
         "name": "claramente",
         "scene": "scene",
         "showlegend": true,
         "text": [
          "claramente"
         ],
         "type": "scatter3d",
         "x": [
          -0.10120576620101929
         ],
         "y": [
          -0.014332296326756477
         ],
         "z": [
          "claramente"
         ]
        },
        {
         "hovertemplate": "color=lacustre<br>x=%{x}<br>y=%{y}<br>z=%{z}<br>text=%{text}<extra></extra>",
         "legendgroup": "lacustre",
         "marker": {
          "color": "#FECB52",
          "symbol": "circle"
         },
         "mode": "markers+text",
         "name": "lacustre",
         "scene": "scene",
         "showlegend": true,
         "text": [
          "lacustre"
         ],
         "type": "scatter3d",
         "x": [
          -0.012524383142590523
         ],
         "y": [
          -0.0256182998418808
         ],
         "z": [
          "lacustre"
         ]
        },
        {
         "hovertemplate": "color=paisaje<br>x=%{x}<br>y=%{y}<br>z=%{z}<br>text=%{text}<extra></extra>",
         "legendgroup": "paisaje",
         "marker": {
          "color": "#636efa",
          "symbol": "circle"
         },
         "mode": "markers+text",
         "name": "paisaje",
         "scene": "scene",
         "showlegend": true,
         "text": [
          "paisaje"
         ],
         "type": "scatter3d",
         "x": [
          -0.007622087839990854
         ],
         "y": [
          0.01997135579586029
         ],
         "z": [
          "paisaje"
         ]
        },
        {
         "hovertemplate": "color=vago<br>x=%{x}<br>y=%{y}<br>z=%{z}<br>text=%{text}<extra></extra>",
         "legendgroup": "vago",
         "marker": {
          "color": "#EF553B",
          "symbol": "circle"
         },
         "mode": "markers+text",
         "name": "vago",
         "scene": "scene",
         "showlegend": true,
         "text": [
          "vago"
         ],
         "type": "scatter3d",
         "x": [
          -0.05815137177705765
         ],
         "y": [
          -0.03205108270049095
         ],
         "z": [
          "vago"
         ]
        },
        {
         "hovertemplate": "color=estera<br>x=%{x}<br>y=%{y}<br>z=%{z}<br>text=%{text}<extra></extra>",
         "legendgroup": "estera",
         "marker": {
          "color": "#00cc96",
          "symbol": "circle"
         },
         "mode": "markers+text",
         "name": "estera",
         "scene": "scene",
         "showlegend": true,
         "text": [
          "estera"
         ],
         "type": "scatter3d",
         "x": [
          0.019518621265888214
         ],
         "y": [
          0.10255622863769531
         ],
         "z": [
          "estera"
         ]
        },
        {
         "hovertemplate": "color=esfuerzo<br>x=%{x}<br>y=%{y}<br>z=%{z}<br>text=%{text}<extra></extra>",
         "legendgroup": "esfuerzo",
         "marker": {
          "color": "#ab63fa",
          "symbol": "circle"
         },
         "mode": "markers+text",
         "name": "esfuerzo",
         "scene": "scene",
         "showlegend": true,
         "text": [
          "esfuerzo"
         ],
         "type": "scatter3d",
         "x": [
          -0.01548349391669035
         ],
         "y": [
          -0.021490532904863358
         ],
         "z": [
          "esfuerzo"
         ]
        },
        {
         "hovertemplate": "color=diferencias<br>x=%{x}<br>y=%{y}<br>z=%{z}<br>text=%{text}<extra></extra>",
         "legendgroup": "diferencias",
         "marker": {
          "color": "#FFA15A",
          "symbol": "circle"
         },
         "mode": "markers+text",
         "name": "diferencias",
         "scene": "scene",
         "showlegend": true,
         "text": [
          "diferencias"
         ],
         "type": "scatter3d",
         "x": [
          0.07403098791837692
         ],
         "y": [
          -0.08176708966493607
         ],
         "z": [
          "diferencias"
         ]
        },
        {
         "hovertemplate": "color=oriental<br>x=%{x}<br>y=%{y}<br>z=%{z}<br>text=%{text}<extra></extra>",
         "legendgroup": "oriental",
         "marker": {
          "color": "#19d3f3",
          "symbol": "circle"
         },
         "mode": "markers+text",
         "name": "oriental",
         "scene": "scene",
         "showlegend": true,
         "text": [
          "oriental"
         ],
         "type": "scatter3d",
         "x": [
          0.07422643154859543
         ],
         "y": [
          0.06491974741220474
         ],
         "z": [
          "oriental"
         ]
        },
        {
         "hovertemplate": "color=banda<br>x=%{x}<br>y=%{y}<br>z=%{z}<br>text=%{text}<extra></extra>",
         "legendgroup": "banda",
         "marker": {
          "color": "#FF6692",
          "symbol": "circle"
         },
         "mode": "markers+text",
         "name": "banda",
         "scene": "scene",
         "showlegend": true,
         "text": [
          "banda"
         ],
         "type": "scatter3d",
         "x": [
          0.0232880637049675
         ],
         "y": [
          0.03668161481618881
         ],
         "z": [
          "banda"
         ]
        },
        {
         "hovertemplate": "color=armas<br>x=%{x}<br>y=%{y}<br>z=%{z}<br>text=%{text}<extra></extra>",
         "legendgroup": "armas",
         "marker": {
          "color": "#B6E880",
          "symbol": "circle"
         },
         "mode": "markers+text",
         "name": "armas",
         "scene": "scene",
         "showlegend": true,
         "text": [
          "armas"
         ],
         "type": "scatter3d",
         "x": [
          -0.024275073781609535
         ],
         "y": [
          0.04363251477479935
         ],
         "z": [
          "armas"
         ]
        },
        {
         "hovertemplate": "color=generalizar<br>x=%{x}<br>y=%{y}<br>z=%{z}<br>text=%{text}<extra></extra>",
         "legendgroup": "generalizar",
         "marker": {
          "color": "#FF97FF",
          "symbol": "circle"
         },
         "mode": "markers+text",
         "name": "generalizar",
         "scene": "scene",
         "showlegend": true,
         "text": [
          "generalizar"
         ],
         "type": "scatter3d",
         "x": [
          0.018468884751200676
         ],
         "y": [
          0.05288030207157135
         ],
         "z": [
          "generalizar"
         ]
        },
        {
         "hovertemplate": "color=mate<br>x=%{x}<br>y=%{y}<br>z=%{z}<br>text=%{text}<extra></extra>",
         "legendgroup": "mate",
         "marker": {
          "color": "#FECB52",
          "symbol": "circle"
         },
         "mode": "markers+text",
         "name": "mate",
         "scene": "scene",
         "showlegend": true,
         "text": [
          "mate"
         ],
         "type": "scatter3d",
         "x": [
          -0.09443120658397675
         ],
         "y": [
          0.02929745241999626
         ],
         "z": [
          "mate"
         ]
        },
        {
         "hovertemplate": "color=abstraer<br>x=%{x}<br>y=%{y}<br>z=%{z}<br>text=%{text}<extra></extra>",
         "legendgroup": "abstraer",
         "marker": {
          "color": "#636efa",
          "symbol": "circle"
         },
         "mode": "markers+text",
         "name": "abstraer",
         "scene": "scene",
         "showlegend": true,
         "text": [
          "abstraer"
         ],
         "type": "scatter3d",
         "x": [
          -0.026321984827518463
         ],
         "y": [
          0.014009506441652775
         ],
         "z": [
          "abstraer"
         ]
        },
        {
         "hovertemplate": "color=cerca<br>x=%{x}<br>y=%{y}<br>z=%{z}<br>text=%{text}<extra></extra>",
         "legendgroup": "cerca",
         "marker": {
          "color": "#EF553B",
          "symbol": "circle"
         },
         "mode": "markers+text",
         "name": "cerca",
         "scene": "scene",
         "showlegend": true,
         "text": [
          "cerca"
         ],
         "type": "scatter3d",
         "x": [
          0.03486277908086777
         ],
         "y": [
          0.017134618014097214
         ],
         "z": [
          "cerca"
         ]
        },
        {
         "hovertemplate": "color=trenzado<br>x=%{x}<br>y=%{y}<br>z=%{z}<br>text=%{text}<extra></extra>",
         "legendgroup": "trenzado",
         "marker": {
          "color": "#00cc96",
          "symbol": "circle"
         },
         "mode": "markers+text",
         "name": "trenzado",
         "scene": "scene",
         "showlegend": true,
         "text": [
          "trenzado"
         ],
         "type": "scatter3d",
         "x": [
          0.0662071481347084
         ],
         "y": [
          0.03601958230137825
         ],
         "z": [
          "trenzado"
         ]
        },
        {
         "hovertemplate": "color=afiladas<br>x=%{x}<br>y=%{y}<br>z=%{z}<br>text=%{text}<extra></extra>",
         "legendgroup": "afiladas",
         "marker": {
          "color": "#ab63fa",
          "symbol": "circle"
         },
         "mode": "markers+text",
         "name": "afiladas",
         "scene": "scene",
         "showlegend": true,
         "text": [
          "afiladas"
         ],
         "type": "scatter3d",
         "x": [
          0.07652123272418976
         ],
         "y": [
          0.04417897015810013
         ],
         "z": [
          "afiladas"
         ]
        },
        {
         "hovertemplate": "color=abarrotado<br>x=%{x}<br>y=%{y}<br>z=%{z}<br>text=%{text}<extra></extra>",
         "legendgroup": "abarrotado",
         "marker": {
          "color": "#FFA15A",
          "symbol": "circle"
         },
         "mode": "markers+text",
         "name": "abarrotado",
         "scene": "scene",
         "showlegend": true,
         "text": [
          "abarrotado"
         ],
         "type": "scatter3d",
         "x": [
          0.02503051981329918
         ],
         "y": [
          0.028086982667446136
         ],
         "z": [
          "abarrotado"
         ]
        },
        {
         "hovertemplate": "color=francés<br>x=%{x}<br>y=%{y}<br>z=%{z}<br>text=%{text}<extra></extra>",
         "legendgroup": "francés",
         "marker": {
          "color": "#19d3f3",
          "symbol": "circle"
         },
         "mode": "markers+text",
         "name": "francés",
         "scene": "scene",
         "showlegend": true,
         "text": [
          "francés"
         ],
         "type": "scatter3d",
         "x": [
          -0.057290248572826385
         ],
         "y": [
          0.09118125587701797
         ],
         "z": [
          "francés"
         ]
        },
        {
         "hovertemplate": "color=silbidos<br>x=%{x}<br>y=%{y}<br>z=%{z}<br>text=%{text}<extra></extra>",
         "legendgroup": "silbidos",
         "marker": {
          "color": "#FF6692",
          "symbol": "circle"
         },
         "mode": "markers+text",
         "name": "silbidos",
         "scene": "scene",
         "showlegend": true,
         "text": [
          "silbidos"
         ],
         "type": "scatter3d",
         "x": [
          0.010150461457669735
         ],
         "y": [
          -0.02522864378988743
         ],
         "z": [
          "silbidos"
         ]
        },
        {
         "hovertemplate": "color=altísimas<br>x=%{x}<br>y=%{y}<br>z=%{z}<br>text=%{text}<extra></extra>",
         "legendgroup": "altísimas",
         "marker": {
          "color": "#B6E880",
          "symbol": "circle"
         },
         "mode": "markers+text",
         "name": "altísimas",
         "scene": "scene",
         "showlegend": true,
         "text": [
          "altísimas"
         ],
         "type": "scatter3d",
         "x": [
          0.016839897260069847
         ],
         "y": [
          -0.08456631004810333
         ],
         "z": [
          "altísimas"
         ]
        },
        {
         "hovertemplate": "color=hechas<br>x=%{x}<br>y=%{y}<br>z=%{z}<br>text=%{text}<extra></extra>",
         "legendgroup": "hechas",
         "marker": {
          "color": "#FF97FF",
          "symbol": "circle"
         },
         "mode": "markers+text",
         "name": "hechas",
         "scene": "scene",
         "showlegend": true,
         "text": [
          "hechas"
         ],
         "type": "scatter3d",
         "x": [
          0.08252839744091034
         ],
         "y": [
          -0.0931573435664177
         ],
         "z": [
          "hechas"
         ]
        },
        {
         "hovertemplate": "color=breve<br>x=%{x}<br>y=%{y}<br>z=%{z}<br>text=%{text}<extra></extra>",
         "legendgroup": "breve",
         "marker": {
          "color": "#FECB52",
          "symbol": "circle"
         },
         "mode": "markers+text",
         "name": "breve",
         "scene": "scene",
         "showlegend": true,
         "text": [
          "breve"
         ],
         "type": "scatter3d",
         "x": [
          0.020497852936387062
         ],
         "y": [
          -0.06793061643838882
         ],
         "z": [
          "breve"
         ]
        },
        {
         "hovertemplate": "color=acaso<br>x=%{x}<br>y=%{y}<br>z=%{z}<br>text=%{text}<extra></extra>",
         "legendgroup": "acaso",
         "marker": {
          "color": "#636efa",
          "symbol": "circle"
         },
         "mode": "markers+text",
         "name": "acaso",
         "scene": "scene",
         "showlegend": true,
         "text": [
          "acaso"
         ],
         "type": "scatter3d",
         "x": [
          -0.05159081518650055
         ],
         "y": [
          -0.016889827325940132
         ],
         "z": [
          "acaso"
         ]
        },
        {
         "hovertemplate": "color=será<br>x=%{x}<br>y=%{y}<br>z=%{z}<br>text=%{text}<extra></extra>",
         "legendgroup": "será",
         "marker": {
          "color": "#EF553B",
          "symbol": "circle"
         },
         "mode": "markers+text",
         "name": "será",
         "scene": "scene",
         "showlegend": true,
         "text": [
          "será"
         ],
         "type": "scatter3d",
         "x": [
          -0.05993155762553215
         ],
         "y": [
          -0.038620591163635254
         ],
         "z": [
          "será"
         ]
        },
        {
         "hovertemplate": "color=testimonio<br>x=%{x}<br>y=%{y}<br>z=%{z}<br>text=%{text}<extra></extra>",
         "legendgroup": "testimonio",
         "marker": {
          "color": "#00cc96",
          "symbol": "circle"
         },
         "mode": "markers+text",
         "name": "testimonio",
         "scene": "scene",
         "showlegend": true,
         "text": [
          "testimonio"
         ],
         "type": "scatter3d",
         "x": [
          -0.06613779067993164
         ],
         "y": [
          0.009438903070986271
         ],
         "z": [
          "testimonio"
         ]
        },
        {
         "hovertemplate": "color=desconocidas<br>x=%{x}<br>y=%{y}<br>z=%{z}<br>text=%{text}<extra></extra>",
         "legendgroup": "desconocidas",
         "marker": {
          "color": "#ab63fa",
          "symbol": "circle"
         },
         "mode": "markers+text",
         "name": "desconocidas",
         "scene": "scene",
         "showlegend": true,
         "text": [
          "desconocidas"
         ],
         "type": "scatter3d",
         "x": [
          -0.08217892795801163
         ],
         "y": [
          0.015524412505328655
         ],
         "z": [
          "desconocidas"
         ]
        },
        {
         "hovertemplate": "color=imaginaba<br>x=%{x}<br>y=%{y}<br>z=%{z}<br>text=%{text}<extra></extra>",
         "legendgroup": "imaginaba",
         "marker": {
          "color": "#FFA15A",
          "symbol": "circle"
         },
         "mode": "markers+text",
         "name": "imaginaba",
         "scene": "scene",
         "showlegend": true,
         "text": [
          "imaginaba"
         ],
         "type": "scatter3d",
         "x": [
          -0.03770881146192551
         ],
         "y": [
          -0.005545724183320999
         ],
         "z": [
          "imaginaba"
         ]
        },
        {
         "hovertemplate": "color=negras<br>x=%{x}<br>y=%{y}<br>z=%{z}<br>text=%{text}<extra></extra>",
         "legendgroup": "negras",
         "marker": {
          "color": "#19d3f3",
          "symbol": "circle"
         },
         "mode": "markers+text",
         "name": "negras",
         "scene": "scene",
         "showlegend": true,
         "text": [
          "negras"
         ],
         "type": "scatter3d",
         "x": [
          -0.009820016101002693
         ],
         "y": [
          -0.0044784280471503735
         ],
         "z": [
          "negras"
         ]
        },
        {
         "hovertemplate": "color=escriban<br>x=%{x}<br>y=%{y}<br>z=%{z}<br>text=%{text}<extra></extra>",
         "legendgroup": "escriban",
         "marker": {
          "color": "#FF6692",
          "symbol": "circle"
         },
         "mode": "markers+text",
         "name": "escriban",
         "scene": "scene",
         "showlegend": true,
         "text": [
          "escriban"
         ],
         "type": "scatter3d",
         "x": [
          0.013256293721497059
         ],
         "y": [
          0.08256799727678299
         ],
         "z": [
          "escriban"
         ]
        },
        {
         "hovertemplate": "color=trataron<br>x=%{x}<br>y=%{y}<br>z=%{z}<br>text=%{text}<extra></extra>",
         "legendgroup": "trataron",
         "marker": {
          "color": "#B6E880",
          "symbol": "circle"
         },
         "mode": "markers+text",
         "name": "trataron",
         "scene": "scene",
         "showlegend": true,
         "text": [
          "trataron"
         ],
         "type": "scatter3d",
         "x": [
          0.0042725251987576485
         ],
         "y": [
          -0.06882305443286896
         ],
         "z": [
          "trataron"
         ]
        },
        {
         "hovertemplate": "color=aquellos<br>x=%{x}<br>y=%{y}<br>z=%{z}<br>text=%{text}<extra></extra>",
         "legendgroup": "aquellos",
         "marker": {
          "color": "#FF97FF",
          "symbol": "circle"
         },
         "mode": "markers+text",
         "name": "aquellos",
         "scene": "scene",
         "showlegend": true,
         "text": [
          "aquellos"
         ],
         "type": "scatter3d",
         "x": [
          -0.005004559643566608
         ],
         "y": [
          0.10275597870349884
         ],
         "z": [
          "aquellos"
         ]
        },
        {
         "hovertemplate": "color=compactas<br>x=%{x}<br>y=%{y}<br>z=%{z}<br>text=%{text}<extra></extra>",
         "legendgroup": "compactas",
         "marker": {
          "color": "#FECB52",
          "symbol": "circle"
         },
         "mode": "markers+text",
         "name": "compactas",
         "scene": "scene",
         "showlegend": true,
         "text": [
          "compactas"
         ],
         "type": "scatter3d",
         "x": [
          0.015033816918730736
         ],
         "y": [
          0.060629405081272125
         ],
         "z": [
          "compactas"
         ]
        },
        {
         "hovertemplate": "color=proyecto<br>x=%{x}<br>y=%{y}<br>z=%{z}<br>text=%{text}<extra></extra>",
         "legendgroup": "proyecto",
         "marker": {
          "color": "#636efa",
          "symbol": "circle"
         },
         "mode": "markers+text",
         "name": "proyecto",
         "scene": "scene",
         "showlegend": true,
         "text": [
          "proyecto"
         ],
         "type": "scatter3d",
         "x": [
          0.069754458963871
         ],
         "y": [
          -0.04781642556190491
         ],
         "z": [
          "proyecto"
         ]
        },
        {
         "hovertemplate": "color=italianos<br>x=%{x}<br>y=%{y}<br>z=%{z}<br>text=%{text}<extra></extra>",
         "legendgroup": "italianos",
         "marker": {
          "color": "#EF553B",
          "symbol": "circle"
         },
         "mode": "markers+text",
         "name": "italianos",
         "scene": "scene",
         "showlegend": true,
         "text": [
          "italianos"
         ],
         "type": "scatter3d",
         "x": [
          0.08496396988630295
         ],
         "y": [
          -0.08264302462339401
         ],
         "z": [
          "italianos"
         ]
        },
        {
         "hovertemplate": "color=feliz<br>x=%{x}<br>y=%{y}<br>z=%{z}<br>text=%{text}<extra></extra>",
         "legendgroup": "feliz",
         "marker": {
          "color": "#00cc96",
          "symbol": "circle"
         },
         "mode": "markers+text",
         "name": "feliz",
         "scene": "scene",
         "showlegend": true,
         "text": [
          "feliz"
         ],
         "type": "scatter3d",
         "x": [
          0.028632402420043945
         ],
         "y": [
          -0.021085137501358986
         ],
         "z": [
          "feliz"
         ]
        },
        {
         "hovertemplate": "color=homogénea<br>x=%{x}<br>y=%{y}<br>z=%{z}<br>text=%{text}<extra></extra>",
         "legendgroup": "homogénea",
         "marker": {
          "color": "#ab63fa",
          "symbol": "circle"
         },
         "mode": "markers+text",
         "name": "homogénea",
         "scene": "scene",
         "showlegend": true,
         "text": [
          "homogénea"
         ],
         "type": "scatter3d",
         "x": [
          -0.004055908415466547
         ],
         "y": [
          0.14291715621948242
         ],
         "z": [
          "homogénea"
         ]
        },
        {
         "hovertemplate": "color=dirección<br>x=%{x}<br>y=%{y}<br>z=%{z}<br>text=%{text}<extra></extra>",
         "legendgroup": "dirección",
         "marker": {
          "color": "#FFA15A",
          "symbol": "circle"
         },
         "mode": "markers+text",
         "name": "dirección",
         "scene": "scene",
         "showlegend": true,
         "text": [
          "dirección"
         ],
         "type": "scatter3d",
         "x": [
          0.04088914021849632
         ],
         "y": [
          -0.02497062087059021
         ],
         "z": [
          "dirección"
         ]
        },
        {
         "hovertemplate": "color=solía<br>x=%{x}<br>y=%{y}<br>z=%{z}<br>text=%{text}<extra></extra>",
         "legendgroup": "solía",
         "marker": {
          "color": "#19d3f3",
          "symbol": "circle"
         },
         "mode": "markers+text",
         "name": "solía",
         "scene": "scene",
         "showlegend": true,
         "text": [
          "solía"
         ],
         "type": "scatter3d",
         "x": [
          -0.08651980757713318
         ],
         "y": [
          0.05662113428115845
         ],
         "z": [
          "solía"
         ]
        },
        {
         "hovertemplate": "color=1887<br>x=%{x}<br>y=%{y}<br>z=%{z}<br>text=%{text}<extra></extra>",
         "legendgroup": "1887",
         "marker": {
          "color": "#FF6692",
          "symbol": "circle"
         },
         "mode": "markers+text",
         "name": "1887",
         "scene": "scene",
         "showlegend": true,
         "text": [
          "1887"
         ],
         "type": "scatter3d",
         "x": [
          0.10853230208158493
         ],
         "y": [
          0.06039034202694893
         ],
         "z": [
          "1887"
         ]
        },
        {
         "hovertemplate": "color=última<br>x=%{x}<br>y=%{y}<br>z=%{z}<br>text=%{text}<extra></extra>",
         "legendgroup": "última",
         "marker": {
          "color": "#B6E880",
          "symbol": "circle"
         },
         "mode": "markers+text",
         "name": "última",
         "scene": "scene",
         "showlegend": true,
         "text": [
          "última"
         ],
         "type": "scatter3d",
         "x": [
          -0.00909275934100151
         ],
         "y": [
          -0.04801444336771965
         ],
         "z": [
          "última"
         ]
        },
        {
         "hovertemplate": "color=imaginarse<br>x=%{x}<br>y=%{y}<br>z=%{z}<br>text=%{text}<extra></extra>",
         "legendgroup": "imaginarse",
         "marker": {
          "color": "#FF97FF",
          "symbol": "circle"
         },
         "mode": "markers+text",
         "name": "imaginarse",
         "scene": "scene",
         "showlegend": true,
         "text": [
          "imaginarse"
         ],
         "type": "scatter3d",
         "x": [
          -0.03163474425673485
         ],
         "y": [
          -0.023786956444382668
         ],
         "z": [
          "imaginarse"
         ]
        },
        {
         "hovertemplate": "color=mecido<br>x=%{x}<br>y=%{y}<br>z=%{z}<br>text=%{text}<extra></extra>",
         "legendgroup": "mecido",
         "marker": {
          "color": "#FECB52",
          "symbol": "circle"
         },
         "mode": "markers+text",
         "name": "mecido",
         "scene": "scene",
         "showlegend": true,
         "text": [
          "mecido"
         ],
         "type": "scatter3d",
         "x": [
          0.012547953054308891
         ],
         "y": [
          0.008672423660755157
         ],
         "z": [
          "mecido"
         ]
        },
        {
         "hovertemplate": "color=anulado<br>x=%{x}<br>y=%{y}<br>z=%{z}<br>text=%{text}<extra></extra>",
         "legendgroup": "anulado",
         "marker": {
          "color": "#636efa",
          "symbol": "circle"
         },
         "mode": "markers+text",
         "name": "anulado",
         "scene": "scene",
         "showlegend": true,
         "text": [
          "anulado"
         ],
         "type": "scatter3d",
         "x": [
          0.028127647936344147
         ],
         "y": [
          0.09673129767179489
         ],
         "z": [
          "anulado"
         ]
        },
        {
         "hovertemplate": "color=corriente<br>x=%{x}<br>y=%{y}<br>z=%{z}<br>text=%{text}<extra></extra>",
         "legendgroup": "corriente",
         "marker": {
          "color": "#EF553B",
          "symbol": "circle"
         },
         "mode": "markers+text",
         "name": "corriente",
         "scene": "scene",
         "showlegend": true,
         "text": [
          "corriente"
         ],
         "type": "scatter3d",
         "x": [
          0.006272878963500261
         ],
         "y": [
          0.030072182416915894
         ],
         "z": [
          "corriente"
         ]
        },
        {
         "hovertemplate": "color=aprendido<br>x=%{x}<br>y=%{y}<br>z=%{z}<br>text=%{text}<extra></extra>",
         "legendgroup": "aprendido",
         "marker": {
          "color": "#00cc96",
          "symbol": "circle"
         },
         "mode": "markers+text",
         "name": "aprendido",
         "scene": "scene",
         "showlegend": true,
         "text": [
          "aprendido"
         ],
         "type": "scatter3d",
         "x": [
          -0.04642416164278984
         ],
         "y": [
          -0.04000096023082733
         ],
         "z": [
          "aprendido"
         ]
        },
        {
         "hovertemplate": "color=detalles<br>x=%{x}<br>y=%{y}<br>z=%{z}<br>text=%{text}<extra></extra>",
         "legendgroup": "detalles",
         "marker": {
          "color": "#ab63fa",
          "symbol": "circle"
         },
         "mode": "markers+text",
         "name": "detalles",
         "scene": "scene",
         "showlegend": true,
         "text": [
          "detalles"
         ],
         "type": "scatter3d",
         "x": [
          -0.11982767283916473
         ],
         "y": [
          0.033594172447919846
         ],
         "z": [
          "detalles"
         ]
        },
        {
         "hovertemplate": "color=inmediatos<br>x=%{x}<br>y=%{y}<br>z=%{z}<br>text=%{text}<extra></extra>",
         "legendgroup": "inmediatos",
         "marker": {
          "color": "#FFA15A",
          "symbol": "circle"
         },
         "mode": "markers+text",
         "name": "inmediatos",
         "scene": "scene",
         "showlegend": true,
         "text": [
          "inmediatos"
         ],
         "type": "scatter3d",
         "x": [
          0.07946053147315979
         ],
         "y": [
          -0.03335786610841751
         ],
         "z": [
          "inmediatos"
         ]
        },
        {
         "hovertemplate": "color=recelosa<br>x=%{x}<br>y=%{y}<br>z=%{z}<br>text=%{text}<extra></extra>",
         "legendgroup": "recelosa",
         "marker": {
          "color": "#19d3f3",
          "symbol": "circle"
         },
         "mode": "markers+text",
         "name": "recelosa",
         "scene": "scene",
         "showlegend": true,
         "text": [
          "recelosa"
         ],
         "type": "scatter3d",
         "x": [
          -0.022326061502099037
         ],
         "y": [
          -0.0037665911950170994
         ],
         "z": [
          "recelosa"
         ]
        },
        {
         "hovertemplate": "color=murió<br>x=%{x}<br>y=%{y}<br>z=%{z}<br>text=%{text}<extra></extra>",
         "legendgroup": "murió",
         "marker": {
          "color": "#FF6692",
          "symbol": "circle"
         },
         "mode": "markers+text",
         "name": "murió",
         "scene": "scene",
         "showlegend": true,
         "text": [
          "murió"
         ],
         "type": "scatter3d",
         "x": [
          -0.00007946773257572204
         ],
         "y": [
          -0.08461856096982956
         ],
         "z": [
          "murió"
         ]
        },
        {
         "hovertemplate": "color=uno<br>x=%{x}<br>y=%{y}<br>z=%{z}<br>text=%{text}<extra></extra>",
         "legendgroup": "uno",
         "marker": {
          "color": "#B6E880",
          "symbol": "circle"
         },
         "mode": "markers+text",
         "name": "uno",
         "scene": "scene",
         "showlegend": true,
         "text": [
          "uno"
         ],
         "type": "scatter3d",
         "x": [
          -0.08881999552249908
         ],
         "y": [
          -0.05037224665284157
         ],
         "z": [
          "uno"
         ]
        },
        {
         "hovertemplate": "color=gestos<br>x=%{x}<br>y=%{y}<br>z=%{z}<br>text=%{text}<extra></extra>",
         "legendgroup": "gestos",
         "marker": {
          "color": "#FF97FF",
          "symbol": "circle"
         },
         "mode": "markers+text",
         "name": "gestos",
         "scene": "scene",
         "showlegend": true,
         "text": [
          "gestos"
         ],
         "type": "scatter3d",
         "x": [
          -0.0792047455906868
         ],
         "y": [
          -0.10099011659622192
         ],
         "z": [
          "gestos"
         ]
        },
        {
         "hovertemplate": "color=tuvo<br>x=%{x}<br>y=%{y}<br>z=%{z}<br>text=%{text}<extra></extra>",
         "legendgroup": "tuvo",
         "marker": {
          "color": "#FECB52",
          "symbol": "circle"
         },
         "mode": "markers+text",
         "name": "tuvo",
         "scene": "scene",
         "showlegend": true,
         "text": [
          "tuvo"
         ],
         "type": "scatter3d",
         "x": [
          -0.004737618379294872
         ],
         "y": [
          0.02481786720454693
         ],
         "z": [
          "tuvo"
         ]
        },
        {
         "hovertemplate": "color=perduraría<br>x=%{x}<br>y=%{y}<br>z=%{z}<br>text=%{text}<extra></extra>",
         "legendgroup": "perduraría",
         "marker": {
          "color": "#636efa",
          "symbol": "circle"
         },
         "mode": "markers+text",
         "name": "perduraría",
         "scene": "scene",
         "showlegend": true,
         "text": [
          "perduraría"
         ],
         "type": "scatter3d",
         "x": [
          0.10237132012844086
         ],
         "y": [
          -0.10295622795820236
         ],
         "z": [
          "perduraría"
         ]
        },
        {
         "hovertemplate": "color=implacable<br>x=%{x}<br>y=%{y}<br>z=%{z}<br>text=%{text}<extra></extra>",
         "legendgroup": "implacable",
         "marker": {
          "color": "#EF553B",
          "symbol": "circle"
         },
         "mode": "markers+text",
         "name": "implacable",
         "scene": "scene",
         "showlegend": true,
         "text": [
          "implacable"
         ],
         "type": "scatter3d",
         "x": [
          0.05803477764129639
         ],
         "y": [
          0.03416510298848152
         ],
         "z": [
          "implacable"
         ]
        },
        {
         "hovertemplate": "color=entorpeció<br>x=%{x}<br>y=%{y}<br>z=%{z}<br>text=%{text}<extra></extra>",
         "legendgroup": "entorpeció",
         "marker": {
          "color": "#00cc96",
          "symbol": "circle"
         },
         "mode": "markers+text",
         "name": "entorpeció",
         "scene": "scene",
         "showlegend": true,
         "text": [
          "entorpeció"
         ],
         "type": "scatter3d",
         "x": [
          0.029005803167819977
         ],
         "y": [
          0.054784901440143585
         ],
         "z": [
          "entorpeció"
         ]
        },
        {
         "hovertemplate": "color=multiplicar<br>x=%{x}<br>y=%{y}<br>z=%{z}<br>text=%{text}<extra></extra>",
         "legendgroup": "multiplicar",
         "marker": {
          "color": "#ab63fa",
          "symbol": "circle"
         },
         "mode": "markers+text",
         "name": "multiplicar",
         "scene": "scene",
         "showlegend": true,
         "text": [
          "multiplicar"
         ],
         "type": "scatter3d",
         "x": [
          -0.025623146444559097
         ],
         "y": [
          0.02275037206709385
         ],
         "z": [
          "multiplicar"
         ]
        },
        {
         "hovertemplate": "color=ademanes<br>x=%{x}<br>y=%{y}<br>z=%{z}<br>text=%{text}<extra></extra>",
         "legendgroup": "ademanes",
         "marker": {
          "color": "#FFA15A",
          "symbol": "circle"
         },
         "mode": "markers+text",
         "name": "ademanes",
         "scene": "scene",
         "showlegend": true,
         "text": [
          "ademanes"
         ],
         "type": "scatter3d",
         "x": [
          0.022654764354228973
         ],
         "y": [
          -0.07021880149841309
         ],
         "z": [
          "ademanes"
         ]
        },
        {
         "hovertemplate": "color=inútiles<br>x=%{x}<br>y=%{y}<br>z=%{z}<br>text=%{text}<extra></extra>",
         "legendgroup": "inútiles",
         "marker": {
          "color": "#19d3f3",
          "symbol": "circle"
         },
         "mode": "markers+text",
         "name": "inútiles",
         "scene": "scene",
         "showlegend": true,
         "text": [
          "inútiles"
         ],
         "type": "scatter3d",
         "x": [
          -0.02355697751045227
         ],
         "y": [
          0.05977599322795868
         ],
         "z": [
          "inútiles"
         ]
        },
        {
         "hovertemplate": "color=sagrado<br>x=%{x}<br>y=%{y}<br>z=%{z}<br>text=%{text}<extra></extra>",
         "legendgroup": "sagrado",
         "marker": {
          "color": "#FF6692",
          "symbol": "circle"
         },
         "mode": "markers+text",
         "name": "sagrado",
         "scene": "scene",
         "showlegend": true,
         "text": [
          "sagrado"
         ],
         "type": "scatter3d",
         "x": [
          -0.005438154563307762
         ],
         "y": [
          -0.09670495241880417
         ],
         "z": [
          "sagrado"
         ]
        },
        {
         "hovertemplate": "color=verbo<br>x=%{x}<br>y=%{y}<br>z=%{z}<br>text=%{text}<extra></extra>",
         "legendgroup": "verbo",
         "marker": {
          "color": "#B6E880",
          "symbol": "circle"
         },
         "mode": "markers+text",
         "name": "verbo",
         "scene": "scene",
         "showlegend": true,
         "text": [
          "verbo"
         ],
         "type": "scatter3d",
         "x": [
          0.08102276921272278
         ],
         "y": [
          -0.05695619061589241
         ],
         "z": [
          "verbo"
         ]
        },
        {
         "hovertemplate": "color=pronunciar<br>x=%{x}<br>y=%{y}<br>z=%{z}<br>text=%{text}<extra></extra>",
         "legendgroup": "pronunciar",
         "marker": {
          "color": "#FF97FF",
          "symbol": "circle"
         },
         "mode": "markers+text",
         "name": "pronunciar",
         "scene": "scene",
         "showlegend": true,
         "text": [
          "pronunciar"
         ],
         "type": "scatter3d",
         "x": [
          -0.06556425988674164
         ],
         "y": [
          0.020224599167704582
         ],
         "z": [
          "pronunciar"
         ]
        },
        {
         "hovertemplate": "color=detrás<br>x=%{x}<br>y=%{y}<br>z=%{z}<br>text=%{text}<extra></extra>",
         "legendgroup": "detrás",
         "marker": {
          "color": "#FECB52",
          "symbol": "circle"
         },
         "mode": "markers+text",
         "name": "detrás",
         "scene": "scene",
         "showlegend": true,
         "text": [
          "detrás"
         ],
         "type": "scatter3d",
         "x": [
          0.06539376825094223
         ],
         "y": [
          0.0906188115477562
         ],
         "z": [
          "detrás"
         ]
        },
        {
         "hovertemplate": "color=1889<br>x=%{x}<br>y=%{y}<br>z=%{z}<br>text=%{text}<extra></extra>",
         "legendgroup": "1889",
         "marker": {
          "color": "#636efa",
          "symbol": "circle"
         },
         "mode": "markers+text",
         "name": "1889",
         "scene": "scene",
         "showlegend": true,
         "text": [
          "1889"
         ],
         "type": "scatter3d",
         "x": [
          0.038707882165908813
         ],
         "y": [
          0.047033291310071945
         ],
         "z": [
          "1889"
         ]
        },
        {
         "hovertemplate": "color=congestión<br>x=%{x}<br>y=%{y}<br>z=%{z}<br>text=%{text}<extra></extra>",
         "legendgroup": "congestión",
         "marker": {
          "color": "#EF553B",
          "symbol": "circle"
         },
         "mode": "markers+text",
         "name": "congestión",
         "scene": "scene",
         "showlegend": true,
         "text": [
          "congestión"
         ],
         "type": "scatter3d",
         "x": [
          -0.051483962684869766
         ],
         "y": [
          -0.058254044502973557
         ],
         "z": [
          "congestión"
         ]
        },
        {
         "hovertemplate": "color=pulmonar<br>x=%{x}<br>y=%{y}<br>z=%{z}<br>text=%{text}<extra></extra>",
         "legendgroup": "pulmonar",
         "marker": {
          "color": "#00cc96",
          "symbol": "circle"
         },
         "mode": "markers+text",
         "name": "pulmonar",
         "scene": "scene",
         "showlegend": true,
         "text": [
          "pulmonar"
         ],
         "type": "scatter3d",
         "x": [
          -0.14348533749580383
         ],
         "y": [
          0.06226113811135292
         ],
         "z": [
          "pulmonar"
         ]
        },
        {
         "hovertemplate": "color=http<br>x=%{x}<br>y=%{y}<br>z=%{z}<br>text=%{text}<extra></extra>",
         "legendgroup": "http",
         "marker": {
          "color": "#ab63fa",
          "symbol": "circle"
         },
         "mode": "markers+text",
         "name": "http",
         "scene": "scene",
         "showlegend": true,
         "text": [
          "http"
         ],
         "type": "scatter3d",
         "x": [
          0.07647600769996643
         ],
         "y": [
          -0.02661038748919964
         ],
         "z": [
          "http"
         ]
        },
        {
         "hovertemplate": "color=www<br>x=%{x}<br>y=%{y}<br>z=%{z}<br>text=%{text}<extra></extra>",
         "legendgroup": "www",
         "marker": {
          "color": "#FFA15A",
          "symbol": "circle"
         },
         "mode": "markers+text",
         "name": "www",
         "scene": "scene",
         "showlegend": true,
         "text": [
          "www"
         ],
         "type": "scatter3d",
         "x": [
          -0.07243513315916061
         ],
         "y": [
          0.02890094928443432
         ],
         "z": [
          "www"
         ]
        },
        {
         "hovertemplate": "color=angelfire<br>x=%{x}<br>y=%{y}<br>z=%{z}<br>text=%{text}<extra></extra>",
         "legendgroup": "angelfire",
         "marker": {
          "color": "#19d3f3",
          "symbol": "circle"
         },
         "mode": "markers+text",
         "name": "angelfire",
         "scene": "scene",
         "showlegend": true,
         "text": [
          "angelfire"
         ],
         "type": "scatter3d",
         "x": [
          -0.024961574003100395
         ],
         "y": [
          -0.1353049874305725
         ],
         "z": [
          "angelfire"
         ]
        },
        {
         "hovertemplate": "color=com<br>x=%{x}<br>y=%{y}<br>z=%{z}<br>text=%{text}<extra></extra>",
         "legendgroup": "com",
         "marker": {
          "color": "#FF6692",
          "symbol": "circle"
         },
         "mode": "markers+text",
         "name": "com",
         "scene": "scene",
         "showlegend": true,
         "text": [
          "com"
         ],
         "type": "scatter3d",
         "x": [
          -0.018022499978542328
         ],
         "y": [
          0.04702478274703026
         ],
         "z": [
          "com"
         ]
        },
        {
         "hovertemplate": "color=borges<br>x=%{x}<br>y=%{y}<br>z=%{z}<br>text=%{text}<extra></extra>",
         "legendgroup": "borges",
         "marker": {
          "color": "#B6E880",
          "symbol": "circle"
         },
         "mode": "markers+text",
         "name": "borges",
         "scene": "scene",
         "showlegend": true,
         "text": [
          "borges"
         ],
         "type": "scatter3d",
         "x": [
          0.04033001884818077
         ],
         "y": [
          0.04825957864522934
         ],
         "z": [
          "borges"
         ]
        },
        {
         "hovertemplate": "color=la2<br>x=%{x}<br>y=%{y}<br>z=%{z}<br>text=%{text}<extra></extra>",
         "legendgroup": "la2",
         "marker": {
          "color": "#FF97FF",
          "symbol": "circle"
         },
         "mode": "markers+text",
         "name": "la2",
         "scene": "scene",
         "showlegend": true,
         "text": [
          "la2"
         ],
         "type": "scatter3d",
         "x": [
          0.08745986968278885
         ],
         "y": [
          -0.05579790472984314
         ],
         "z": [
          "la2"
         ]
        },
        {
         "hovertemplate": "color=memoriosojorge<br>x=%{x}<br>y=%{y}<br>z=%{z}<br>text=%{text}<extra></extra>",
         "legendgroup": "memoriosojorge",
         "marker": {
          "color": "#FECB52",
          "symbol": "circle"
         },
         "mode": "markers+text",
         "name": "memoriosojorge",
         "scene": "scene",
         "showlegend": true,
         "text": [
          "memoriosojorge"
         ],
         "type": "scatter3d",
         "x": [
          -0.04328719899058342
         ],
         "y": [
          -0.12215878069400787
         ],
         "z": [
          "memoriosojorge"
         ]
        },
        {
         "hovertemplate": "color=pnascimento<br>x=%{x}<br>y=%{y}<br>z=%{z}<br>text=%{text}<extra></extra>",
         "legendgroup": "pnascimento",
         "marker": {
          "color": "#636efa",
          "symbol": "circle"
         },
         "mode": "markers+text",
         "name": "pnascimento",
         "scene": "scene",
         "showlegend": true,
         "text": [
          "pnascimento"
         ],
         "type": "scatter3d",
         "x": [
          0.0017112327041104436
         ],
         "y": [
          -0.08058887720108032
         ],
         "z": [
          "pnascimento"
         ]
        },
        {
         "hovertemplate": "color=pensé<br>x=%{x}<br>y=%{y}<br>z=%{z}<br>text=%{text}<extra></extra>",
         "legendgroup": "pensé",
         "marker": {
          "color": "#EF553B",
          "symbol": "circle"
         },
         "mode": "markers+text",
         "name": "pensé",
         "scene": "scene",
         "showlegend": true,
         "text": [
          "pensé"
         ],
         "type": "scatter3d",
         "x": [
          -0.023624202236533165
         ],
         "y": [
          0.03702334687113762
         ],
         "z": [
          "pensé"
         ]
        },
        {
         "hovertemplate": "color=pirámides<br>x=%{x}<br>y=%{y}<br>z=%{z}<br>text=%{text}<extra></extra>",
         "legendgroup": "pirámides",
         "marker": {
          "color": "#00cc96",
          "symbol": "circle"
         },
         "mode": "markers+text",
         "name": "pirámides",
         "scene": "scene",
         "showlegend": true,
         "text": [
          "pirámides"
         ],
         "type": "scatter3d",
         "x": [
          0.0771368071436882
         ],
         "y": [
          -0.009430995211005211
         ],
         "z": [
          "pirámides"
         ]
        },
        {
         "hovertemplate": "color=profecías<br>x=%{x}<br>y=%{y}<br>z=%{z}<br>text=%{text}<extra></extra>",
         "legendgroup": "profecías",
         "marker": {
          "color": "#ab63fa",
          "symbol": "circle"
         },
         "mode": "markers+text",
         "name": "profecías",
         "scene": "scene",
         "showlegend": true,
         "text": [
          "profecías"
         ],
         "type": "scatter3d",
         "x": [
          -0.05149511620402336
         ],
         "y": [
          -0.0027214153669774532
         ],
         "z": [
          "profecías"
         ]
        },
        {
         "hovertemplate": "color=oscura<br>x=%{x}<br>y=%{y}<br>z=%{z}<br>text=%{text}<extra></extra>",
         "legendgroup": "oscura",
         "marker": {
          "color": "#FFA15A",
          "symbol": "circle"
         },
         "mode": "markers+text",
         "name": "oscura",
         "scene": "scene",
         "showlegend": true,
         "text": [
          "oscura"
         ],
         "type": "scatter3d",
         "x": [
          -0.05986792966723442
         ],
         "y": [
          0.1146930605173111
         ],
         "z": [
          "oscura"
         ]
        },
        {
         "hovertemplate": "color=remota<br>x=%{x}<br>y=%{y}<br>z=%{z}<br>text=%{text}<extra></extra>",
         "legendgroup": "remota",
         "marker": {
          "color": "#19d3f3",
          "symbol": "circle"
         },
         "mode": "markers+text",
         "name": "remota",
         "scene": "scene",
         "showlegend": true,
         "text": [
          "remota"
         ],
         "type": "scatter3d",
         "x": [
          0.017240459099411964
         ],
         "y": [
          -0.1544760763645172
         ],
         "z": [
          "remota"
         ]
        },
        {
         "hovertemplate": "color=singularmente<br>x=%{x}<br>y=%{y}<br>z=%{z}<br>text=%{text}<extra></extra>",
         "legendgroup": "singularmente",
         "marker": {
          "color": "#FF6692",
          "symbol": "circle"
         },
         "mode": "markers+text",
         "name": "singularmente",
         "scene": "scene",
         "showlegend": true,
         "text": [
          "singularmente"
         ],
         "type": "scatter3d",
         "x": [
          -0.07736841589212418
         ],
         "y": [
          0.04364779591560364
         ],
         "z": [
          "singularmente"
         ]
        },
        {
         "hovertemplate": "color=aindiada<br>x=%{x}<br>y=%{y}<br>z=%{z}<br>text=%{text}<extra></extra>",
         "legendgroup": "aindiada",
         "marker": {
          "color": "#B6E880",
          "symbol": "circle"
         },
         "mode": "markers+text",
         "name": "aindiada",
         "scene": "scene",
         "showlegend": true,
         "text": [
          "aindiada"
         ],
         "type": "scatter3d",
         "x": [
          0.05944906175136566
         ],
         "y": [
          0.11377813667058945
         ],
         "z": [
          "aindiada"
         ]
        },
        {
         "hovertemplate": "color=taciturna<br>x=%{x}<br>y=%{y}<br>z=%{z}<br>text=%{text}<extra></extra>",
         "legendgroup": "taciturna",
         "marker": {
          "color": "#FF97FF",
          "symbol": "circle"
         },
         "mode": "markers+text",
         "name": "taciturna",
         "scene": "scene",
         "showlegend": true,
         "text": [
          "taciturna"
         ],
         "type": "scatter3d",
         "x": [
          -0.07906020432710648
         ],
         "y": [
          -0.07484036684036255
         ],
         "z": [
          "taciturna"
         ]
        },
        {
         "hovertemplate": "color=claridad<br>x=%{x}<br>y=%{y}<br>z=%{z}<br>text=%{text}<extra></extra>",
         "legendgroup": "claridad",
         "marker": {
          "color": "#FECB52",
          "symbol": "circle"
         },
         "mode": "markers+text",
         "name": "claridad",
         "scene": "scene",
         "showlegend": true,
         "text": [
          "claridad"
         ],
         "type": "scatter3d",
         "x": [
          0.11361031234264374
         ],
         "y": [
          -0.019497251138091087
         ],
         "z": [
          "claridad"
         ]
        },
        {
         "hovertemplate": "color=entera<br>x=%{x}<br>y=%{y}<br>z=%{z}<br>text=%{text}<extra></extra>",
         "legendgroup": "entera",
         "marker": {
          "color": "#636efa",
          "symbol": "circle"
         },
         "mode": "markers+text",
         "name": "entera",
         "scene": "scene",
         "showlegend": true,
         "text": [
          "entera"
         ],
         "type": "scatter3d",
         "x": [
          0.04532625898718834
         ],
         "y": [
          0.06041023135185242
         ],
         "z": [
          "entera"
         ]
        },
        {
         "hovertemplate": "color=vida<br>x=%{x}<br>y=%{y}<br>z=%{z}<br>text=%{text}<extra></extra>",
         "legendgroup": "vida",
         "marker": {
          "color": "#EF553B",
          "symbol": "circle"
         },
         "mode": "markers+text",
         "name": "vida",
         "scene": "scene",
         "showlegend": true,
         "text": [
          "vida"
         ],
         "type": "scatter3d",
         "x": [
          -0.06223881617188454
         ],
         "y": [
          -0.02538980171084404
         ],
         "z": [
          "vida"
         ]
        },
        {
         "hovertemplate": "color=madrugada<br>x=%{x}<br>y=%{y}<br>z=%{z}<br>text=%{text}<extra></extra>",
         "legendgroup": "madrugada",
         "marker": {
          "color": "#00cc96",
          "symbol": "circle"
         },
         "mode": "markers+text",
         "name": "madrugada",
         "scene": "scene",
         "showlegend": true,
         "text": [
          "madrugada"
         ],
         "type": "scatter3d",
         "x": [
          0.051081255078315735
         ],
         "y": [
          -0.09492817521095276
         ],
         "z": [
          "madrugada"
         ]
        },
        {
         "hovertemplate": "color=entró<br>x=%{x}<br>y=%{y}<br>z=%{z}<br>text=%{text}<extra></extra>",
         "legendgroup": "entró",
         "marker": {
          "color": "#ab63fa",
          "symbol": "circle"
         },
         "mode": "markers+text",
         "name": "entró",
         "scene": "scene",
         "showlegend": true,
         "text": [
          "entró"
         ],
         "type": "scatter3d",
         "x": [
          -0.041753076016902924
         ],
         "y": [
          0.0563822016119957
         ],
         "z": [
          "entró"
         ]
        },
        {
         "hovertemplate": "color=hablado<br>x=%{x}<br>y=%{y}<br>z=%{z}<br>text=%{text}<extra></extra>",
         "legendgroup": "hablado",
         "marker": {
          "color": "#FFA15A",
          "symbol": "circle"
         },
         "mode": "markers+text",
         "name": "hablado",
         "scene": "scene",
         "showlegend": true,
         "text": [
          "hablado"
         ],
         "type": "scatter3d",
         "x": [
          0.012485342100262642
         ],
         "y": [
          0.010809279046952724
         ],
         "z": [
          "hablado"
         ]
        },
        {
         "hovertemplate": "color=nacido<br>x=%{x}<br>y=%{y}<br>z=%{z}<br>text=%{text}<extra></extra>",
         "legendgroup": "nacido",
         "marker": {
          "color": "#19d3f3",
          "symbol": "circle"
         },
         "mode": "markers+text",
         "name": "nacido",
         "scene": "scene",
         "showlegend": true,
         "text": [
          "nacido"
         ],
         "type": "scatter3d",
         "x": [
          -0.023088030517101288
         ],
         "y": [
          0.05938061326742172
         ],
         "z": [
          "nacido"
         ]
        },
        {
         "hovertemplate": "color=1868<br>x=%{x}<br>y=%{y}<br>z=%{z}<br>text=%{text}<extra></extra>",
         "legendgroup": "1868",
         "marker": {
          "color": "#FF6692",
          "symbol": "circle"
         },
         "mode": "markers+text",
         "name": "1868",
         "scene": "scene",
         "showlegend": true,
         "text": [
          "1868"
         ],
         "type": "scatter3d",
         "x": [
          0.05913922190666199
         ],
         "y": [
          -0.05837790295481682
         ],
         "z": [
          "1868"
         ]
        },
        {
         "hovertemplate": "color=pareció<br>x=%{x}<br>y=%{y}<br>z=%{z}<br>text=%{text}<extra></extra>",
         "legendgroup": "pareció",
         "marker": {
          "color": "#B6E880",
          "symbol": "circle"
         },
         "mode": "markers+text",
         "name": "pareció",
         "scene": "scene",
         "showlegend": true,
         "text": [
          "pareció"
         ],
         "type": "scatter3d",
         "x": [
          -0.042301300913095474
         ],
         "y": [
          0.050038840621709824
         ],
         "z": [
          "pareció"
         ]
        },
        {
         "hovertemplate": "color=crepúsculo<br>x=%{x}<br>y=%{y}<br>z=%{z}<br>text=%{text}<extra></extra>",
         "legendgroup": "crepúsculo",
         "marker": {
          "color": "#FF97FF",
          "symbol": "circle"
         },
         "mode": "markers+text",
         "name": "crepúsculo",
         "scene": "scene",
         "showlegend": true,
         "text": [
          "crepúsculo"
         ],
         "type": "scatter3d",
         "x": [
          -0.06021466478705406
         ],
         "y": [
          0.05938747525215149
         ],
         "z": [
          "crepúsculo"
         ]
        },
        {
         "hovertemplate": "color=monumental<br>x=%{x}<br>y=%{y}<br>z=%{z}<br>text=%{text}<extra></extra>",
         "legendgroup": "monumental",
         "marker": {
          "color": "#FECB52",
          "symbol": "circle"
         },
         "mode": "markers+text",
         "name": "monumental",
         "scene": "scene",
         "showlegend": true,
         "text": [
          "monumental"
         ],
         "type": "scatter3d",
         "x": [
          -0.13630644977092743
         ],
         "y": [
          0.07875806093215942
         ],
         "z": [
          "monumental"
         ]
        },
        {
         "hovertemplate": "color=mirara<br>x=%{x}<br>y=%{y}<br>z=%{z}<br>text=%{text}<extra></extra>",
         "legendgroup": "mirara",
         "marker": {
          "color": "#636efa",
          "symbol": "circle"
         },
         "mode": "markers+text",
         "name": "mirara",
         "scene": "scene",
         "showlegend": true,
         "text": [
          "mirara"
         ],
         "type": "scatter3d",
         "x": [
          0.01240510679781437
         ],
         "y": [
          0.11155299842357635
         ],
         "z": [
          "mirara"
         ]
        },
        {
         "hovertemplate": "color=aunque<br>x=%{x}<br>y=%{y}<br>z=%{z}<br>text=%{text}<extra></extra>",
         "legendgroup": "aunque",
         "marker": {
          "color": "#EF553B",
          "symbol": "circle"
         },
         "mode": "markers+text",
         "name": "aunque",
         "scene": "scene",
         "showlegend": true,
         "text": [
          "aunque"
         ],
         "type": "scatter3d",
         "x": [
          -0.10412406176328659
         ],
         "y": [
          0.01958736777305603
         ],
         "z": [
          "aunque"
         ]
        },
        {
         "hovertemplate": "color=bronce<br>x=%{x}<br>y=%{y}<br>z=%{z}<br>text=%{text}<extra></extra>",
         "legendgroup": "bronce",
         "marker": {
          "color": "#00cc96",
          "symbol": "circle"
         },
         "mode": "markers+text",
         "name": "bronce",
         "scene": "scene",
         "showlegend": true,
         "text": [
          "bronce"
         ],
         "type": "scatter3d",
         "x": [
          -0.016093067824840546
         ],
         "y": [
          -0.09919841587543488
         ],
         "z": [
          "bronce"
         ]
        },
        {
         "hovertemplate": "color=egipto<br>x=%{x}<br>y=%{y}<br>z=%{z}<br>text=%{text}<extra></extra>",
         "legendgroup": "egipto",
         "marker": {
          "color": "#ab63fa",
          "symbol": "circle"
         },
         "mode": "markers+text",
         "name": "egipto",
         "scene": "scene",
         "showlegend": true,
         "text": [
          "egipto"
         ],
         "type": "scatter3d",
         "x": [
          0.04354412108659744
         ],
         "y": [
          -0.03586569428443909
         ],
         "z": [
          "egipto"
         ]
        },
        {
         "hovertemplate": "color=anterior<br>x=%{x}<br>y=%{y}<br>z=%{z}<br>text=%{text}<extra></extra>",
         "legendgroup": "anterior",
         "marker": {
          "color": "#FFA15A",
          "symbol": "circle"
         },
         "mode": "markers+text",
         "name": "anterior",
         "scene": "scene",
         "showlegend": true,
         "text": [
          "anterior"
         ],
         "type": "scatter3d",
         "x": [
          -0.1330098658800125
         ],
         "y": [
          0.05699540302157402
         ],
         "z": [
          "anterior"
         ]
        },
        {
         "hovertemplate": "color=viéndola<br>x=%{x}<br>y=%{y}<br>z=%{z}<br>text=%{text}<extra></extra>",
         "legendgroup": "viéndola",
         "marker": {
          "color": "#19d3f3",
          "symbol": "circle"
         },
         "mode": "markers+text",
         "name": "viéndola",
         "scene": "scene",
         "showlegend": true,
         "text": [
          "viéndola"
         ],
         "type": "scatter3d",
         "x": [
          0.017656683921813965
         ],
         "y": [
          0.09788975864648819
         ],
         "z": [
          "viéndola"
         ]
        },
        {
         "hovertemplate": "color=mano<br>x=%{x}<br>y=%{y}<br>z=%{z}<br>text=%{text}<extra></extra>",
         "legendgroup": "mano",
         "marker": {
          "color": "#FF6692",
          "symbol": "circle"
         },
         "mode": "markers+text",
         "name": "mano",
         "scene": "scene",
         "showlegend": true,
         "text": [
          "mano"
         ],
         "type": "scatter3d",
         "x": [
          0.016489177942276
         ],
         "y": [
          0.052259333431720734
         ],
         "z": [
          "mano"
         ]
        },
        {
         "hovertemplate": "color=pasionaria<br>x=%{x}<br>y=%{y}<br>z=%{z}<br>text=%{text}<extra></extra>",
         "legendgroup": "pasionaria",
         "marker": {
          "color": "#B6E880",
          "symbol": "circle"
         },
         "mode": "markers+text",
         "name": "pasionaria",
         "scene": "scene",
         "showlegend": true,
         "text": [
          "pasionaria"
         ],
         "type": "scatter3d",
         "x": [
          -0.01844952069222927
         ],
         "y": [
          0.044654812663793564
         ],
         "z": [
          "pasionaria"
         ]
        },
        {
         "hovertemplate": "color=nuevas<br>x=%{x}<br>y=%{y}<br>z=%{z}<br>text=%{text}<extra></extra>",
         "legendgroup": "nuevas",
         "marker": {
          "color": "#FF97FF",
          "symbol": "circle"
         },
         "mode": "markers+text",
         "name": "nuevas",
         "scene": "scene",
         "showlegend": true,
         "text": [
          "nuevas"
         ],
         "type": "scatter3d",
         "x": [
          0.014598148874938488
         ],
         "y": [
          -0.05956023558974266
         ],
         "z": [
          "nuevas"
         ]
        },
        {
         "hovertemplate": "color=amanzanado<br>x=%{x}<br>y=%{y}<br>z=%{z}<br>text=%{text}<extra></extra>",
         "legendgroup": "amanzanado",
         "marker": {
          "color": "#FECB52",
          "symbol": "circle"
         },
         "mode": "markers+text",
         "name": "amanzanado",
         "scene": "scene",
         "showlegend": true,
         "text": [
          "amanzanado"
         ],
         "type": "scatter3d",
         "x": [
          -0.08858714252710342
         ],
         "y": [
          0.007959996350109577
         ],
         "z": [
          "amanzanado"
         ]
        },
        {
         "hovertemplate": "color=trecho<br>x=%{x}<br>y=%{y}<br>z=%{z}<br>text=%{text}<extra></extra>",
         "legendgroup": "trecho",
         "marker": {
          "color": "#636efa",
          "symbol": "circle"
         },
         "mode": "markers+text",
         "name": "trecho",
         "scene": "scene",
         "showlegend": true,
         "text": [
          "trecho"
         ],
         "type": "scatter3d",
         "x": [
          0.007302607875317335
         ],
         "y": [
          0.08538887649774551
         ],
         "z": [
          "trecho"
         ]
        },
        {
         "hovertemplate": "color=volvíamos<br>x=%{x}<br>y=%{y}<br>z=%{z}<br>text=%{text}<extra></extra>",
         "legendgroup": "volvíamos",
         "marker": {
          "color": "#EF553B",
          "symbol": "circle"
         },
         "mode": "markers+text",
         "name": "volvíamos",
         "scene": "scene",
         "showlegend": true,
         "text": [
          "volvíamos"
         ],
         "type": "scatter3d",
         "x": [
          -0.010911324061453342
         ],
         "y": [
          -0.04951191321015358
         ],
         "z": [
          "volvíamos"
         ]
        },
        {
         "hovertemplate": "color=color<br>x=%{x}<br>y=%{y}<br>z=%{z}<br>text=%{text}<extra></extra>",
         "legendgroup": "color",
         "marker": {
          "color": "#00cc96",
          "symbol": "circle"
         },
         "mode": "markers+text",
         "name": "color",
         "scene": "scene",
         "showlegend": true,
         "text": [
          "color"
         ],
         "type": "scatter3d",
         "x": [
          -0.016078799962997437
         ],
         "y": [
          0.012437605299055576
         ],
         "z": [
          "color"
         ]
        },
        {
         "hovertemplate": "color=feroz<br>x=%{x}<br>y=%{y}<br>z=%{z}<br>text=%{text}<extra></extra>",
         "legendgroup": "feroz",
         "marker": {
          "color": "#ab63fa",
          "symbol": "circle"
         },
         "mode": "markers+text",
         "name": "feroz",
         "scene": "scene",
         "showlegend": true,
         "text": [
          "feroz"
         ],
         "type": "scatter3d",
         "x": [
          -0.03871501237154007
         ],
         "y": [
          0.00811229832470417
         ],
         "z": [
          "feroz"
         ]
        },
        {
         "hovertemplate": "color=esplendor<br>x=%{x}<br>y=%{y}<br>z=%{z}<br>text=%{text}<extra></extra>",
         "legendgroup": "esplendor",
         "marker": {
          "color": "#FFA15A",
          "symbol": "circle"
         },
         "mode": "markers+text",
         "name": "esplendor",
         "scene": "scene",
         "showlegend": true,
         "text": [
          "esplendor"
         ],
         "type": "scatter3d",
         "x": [
          -0.028509266674518585
         ],
         "y": [
          -0.086790531873703
         ],
         "z": [
          "esplendor"
         ]
        },
        {
         "hovertemplate": "color=bochornoso<br>x=%{x}<br>y=%{y}<br>z=%{z}<br>text=%{text}<extra></extra>",
         "legendgroup": "bochornoso",
         "marker": {
          "color": "#19d3f3",
          "symbol": "circle"
         },
         "mode": "markers+text",
         "name": "bochornoso",
         "scene": "scene",
         "showlegend": true,
         "text": [
          "bochornoso"
         ],
         "type": "scatter3d",
         "x": [
          0.02350800670683384
         ],
         "y": [
          0.0217357836663723
         ],
         "z": [
          "bochornoso"
         ]
        },
        {
         "hovertemplate": "color=imaginación<br>x=%{x}<br>y=%{y}<br>z=%{z}<br>text=%{text}<extra></extra>",
         "legendgroup": "imaginación",
         "marker": {
          "color": "#FF6692",
          "symbol": "circle"
         },
         "mode": "markers+text",
         "name": "imaginación",
         "scene": "scene",
         "showlegend": true,
         "text": [
          "imaginación"
         ],
         "type": "scatter3d",
         "x": [
          -0.054478783160448074
         ],
         "y": [
          0.0012853328371420503
         ],
         "z": [
          "imaginación"
         ]
        },
        {
         "hovertemplate": "color=felicidad<br>x=%{x}<br>y=%{y}<br>z=%{z}<br>text=%{text}<extra></extra>",
         "legendgroup": "felicidad",
         "marker": {
          "color": "#B6E880",
          "symbol": "circle"
         },
         "mode": "markers+text",
         "name": "felicidad",
         "scene": "scene",
         "showlegend": true,
         "text": [
          "felicidad"
         ],
         "type": "scatter3d",
         "x": [
          0.003973495680838823
         ],
         "y": [
          0.06240672990679741
         ],
         "z": [
          "felicidad"
         ]
        },
        {
         "hovertemplate": "color=circunstancia<br>x=%{x}<br>y=%{y}<br>z=%{z}<br>text=%{text}<extra></extra>",
         "legendgroup": "circunstancia",
         "marker": {
          "color": "#FF97FF",
          "symbol": "circle"
         },
         "mode": "markers+text",
         "name": "circunstancia",
         "scene": "scene",
         "showlegend": true,
         "text": [
          "circunstancia"
         ],
         "type": "scatter3d",
         "x": [
          -0.01753227226436138
         ],
         "y": [
          -0.05034387484192848
         ],
         "z": [
          "circunstancia"
         ]
        },
        {
         "hovertemplate": "color=torres<br>x=%{x}<br>y=%{y}<br>z=%{z}<br>text=%{text}<extra></extra>",
         "legendgroup": "torres",
         "marker": {
          "color": "#FECB52",
          "symbol": "circle"
         },
         "mode": "markers+text",
         "name": "torres",
         "scene": "scene",
         "showlegend": true,
         "text": [
          "torres"
         ],
         "type": "scatter3d",
         "x": [
          -0.06872086226940155
         ],
         "y": [
          -0.002341788960620761
         ],
         "z": [
          "torres"
         ]
        },
        {
         "hovertemplate": "color=ésa<br>x=%{x}<br>y=%{y}<br>z=%{z}<br>text=%{text}<extra></extra>",
         "legendgroup": "ésa",
         "marker": {
          "color": "#636efa",
          "symbol": "circle"
         },
         "mode": "markers+text",
         "name": "ésa",
         "scene": "scene",
         "showlegend": true,
         "text": [
          "ésa"
         ],
         "type": "scatter3d",
         "x": [
          -0.005511145107448101
         ],
         "y": [
          0.06809889525175095
         ],
         "z": [
          "ésa"
         ]
        },
        {
         "hovertemplate": "color=populosas<br>x=%{x}<br>y=%{y}<br>z=%{z}<br>text=%{text}<extra></extra>",
         "legendgroup": "populosas",
         "marker": {
          "color": "#EF553B",
          "symbol": "circle"
         },
         "mode": "markers+text",
         "name": "populosas",
         "scene": "scene",
         "showlegend": true,
         "text": [
          "populosas"
         ],
         "type": "scatter3d",
         "x": [
          0.029764965176582336
         ],
         "y": [
          0.058605313301086426
         ],
         "z": [
          "populosas"
         ]
        },
        {
         "hovertemplate": "color=cantando<br>x=%{x}<br>y=%{y}<br>z=%{z}<br>text=%{text}<extra></extra>",
         "legendgroup": "cantando",
         "marker": {
          "color": "#00cc96",
          "symbol": "circle"
         },
         "mode": "markers+text",
         "name": "cantando",
         "scene": "scene",
         "showlegend": true,
         "text": [
          "cantando"
         ],
         "type": "scatter3d",
         "x": [
          -0.05850551277399063
         ],
         "y": [
          -0.02491617016494274
         ],
         "z": [
          "cantando"
         ]
        },
        {
         "hovertemplate": "color=avenidas<br>x=%{x}<br>y=%{y}<br>z=%{z}<br>text=%{text}<extra></extra>",
         "legendgroup": "avenidas",
         "marker": {
          "color": "#ab63fa",
          "symbol": "circle"
         },
         "mode": "markers+text",
         "name": "avenidas",
         "scene": "scene",
         "showlegend": true,
         "text": [
          "avenidas"
         ],
         "type": "scatter3d",
         "x": [
          -0.034318190068006516
         ],
         "y": [
          -0.04824938252568245
         ],
         "z": [
          "avenidas"
         ]
        },
        {
         "hovertemplate": "color=distraerse<br>x=%{x}<br>y=%{y}<br>z=%{z}<br>text=%{text}<extra></extra>",
         "legendgroup": "distraerse",
         "marker": {
          "color": "#FFA15A",
          "symbol": "circle"
         },
         "mode": "markers+text",
         "name": "distraerse",
         "scene": "scene",
         "showlegend": true,
         "text": [
          "distraerse"
         ],
         "type": "scatter3d",
         "x": [
          -0.048787690699100494
         ],
         "y": [
          -0.010017274878919125
         ],
         "z": [
          "distraerse"
         ]
        },
        {
         "hovertemplate": "color=urgentes<br>x=%{x}<br>y=%{y}<br>z=%{z}<br>text=%{text}<extra></extra>",
         "legendgroup": "urgentes",
         "marker": {
          "color": "#19d3f3",
          "symbol": "circle"
         },
         "mode": "markers+text",
         "name": "urgentes",
         "scene": "scene",
         "showlegend": true,
         "text": [
          "urgentes"
         ],
         "type": "scatter3d",
         "x": [
          0.12097267061471939
         ],
         "y": [
          0.006483732722699642
         ],
         "z": [
          "urgentes"
         ]
        },
        {
         "hovertemplate": "color=sentido<br>x=%{x}<br>y=%{y}<br>z=%{z}<br>text=%{text}<extra></extra>",
         "legendgroup": "sentido",
         "marker": {
          "color": "#FF6692",
          "symbol": "circle"
         },
         "mode": "markers+text",
         "name": "sentido",
         "scene": "scene",
         "showlegend": true,
         "text": [
          "sentido"
         ],
         "type": "scatter3d",
         "x": [
          -0.04294496029615402
         ],
         "y": [
          0.07930220663547516
         ],
         "z": [
          "sentido"
         ]
        },
        {
         "hovertemplate": "color=calor<br>x=%{x}<br>y=%{y}<br>z=%{z}<br>text=%{text}<extra></extra>",
         "legendgroup": "calor",
         "marker": {
          "color": "#B6E880",
          "symbol": "circle"
         },
         "mode": "markers+text",
         "name": "calor",
         "scene": "scene",
         "showlegend": true,
         "text": [
          "calor"
         ],
         "type": "scatter3d",
         "x": [
          -0.02524641901254654
         ],
         "y": [
          0.04380457475781441
         ],
         "z": [
          "calor"
         ]
        },
        {
         "hovertemplate": "color=presión<br>x=%{x}<br>y=%{y}<br>z=%{z}<br>text=%{text}<extra></extra>",
         "legendgroup": "presión",
         "marker": {
          "color": "#FF97FF",
          "symbol": "circle"
         },
         "mode": "markers+text",
         "name": "presión",
         "scene": "scene",
         "showlegend": true,
         "text": [
          "presión"
         ],
         "type": "scatter3d",
         "x": [
          0.026195103302598
         ],
         "y": [
          -0.08669551461935043
         ],
         "z": [
          "presión"
         ]
        },
        {
         "hovertemplate": "color=realidad<br>x=%{x}<br>y=%{y}<br>z=%{z}<br>text=%{text}<extra></extra>",
         "legendgroup": "realidad",
         "marker": {
          "color": "#FECB52",
          "symbol": "circle"
         },
         "mode": "markers+text",
         "name": "realidad",
         "scene": "scene",
         "showlegend": true,
         "text": [
          "realidad"
         ],
         "type": "scatter3d",
         "x": [
          -0.003436507424339652
         ],
         "y": [
          0.0802498608827591
         ],
         "z": [
          "realidad"
         ]
        },
        {
         "hovertemplate": "color=infatigable<br>x=%{x}<br>y=%{y}<br>z=%{z}<br>text=%{text}<extra></extra>",
         "legendgroup": "infatigable",
         "marker": {
          "color": "#636efa",
          "symbol": "circle"
         },
         "mode": "markers+text",
         "name": "infatigable",
         "scene": "scene",
         "showlegend": true,
         "text": [
          "infatigable"
         ],
         "type": "scatter3d",
         "x": [
          0.13066047430038452
         ],
         "y": [
          0.004032183904200792
         ],
         "z": [
          "infatigable"
         ]
        },
        {
         "hovertemplate": "color=veranear<br>x=%{x}<br>y=%{y}<br>z=%{z}<br>text=%{text}<extra></extra>",
         "legendgroup": "veranear",
         "marker": {
          "color": "#EF553B",
          "symbol": "circle"
         },
         "mode": "markers+text",
         "name": "veranear",
         "scene": "scene",
         "showlegend": true,
         "text": [
          "veranear"
         ],
         "type": "scatter3d",
         "x": [
          -0.04329976066946983
         ],
         "y": [
          0.07272365689277649
         ],
         "z": [
          "veranear"
         ]
        },
        {
         "hovertemplate": "color=llevado<br>x=%{x}<br>y=%{y}<br>z=%{z}<br>text=%{text}<extra></extra>",
         "legendgroup": "llevado",
         "marker": {
          "color": "#00cc96",
          "symbol": "circle"
         },
         "mode": "markers+text",
         "name": "llevado",
         "scene": "scene",
         "showlegend": true,
         "text": [
          "llevado"
         ],
         "type": "scatter3d",
         "x": [
          0.018885130062699318
         ],
         "y": [
          0.013205790892243385
         ],
         "z": [
          "llevado"
         ]
        },
        {
         "hovertemplate": "color=convergía<br>x=%{x}<br>y=%{y}<br>z=%{z}<br>text=%{text}<extra></extra>",
         "legendgroup": "convergía",
         "marker": {
          "color": "#ab63fa",
          "symbol": "circle"
         },
         "mode": "markers+text",
         "name": "convergía",
         "scene": "scene",
         "showlegend": true,
         "text": [
          "convergía"
         ],
         "type": "scatter3d",
         "x": [
          -0.006312760524451733
         ],
         "y": [
          -0.0072599295526742935
         ],
         "z": [
          "convergía"
         ]
        },
        {
         "hovertemplate": "color=infeliz<br>x=%{x}<br>y=%{y}<br>z=%{z}<br>text=%{text}<extra></extra>",
         "legendgroup": "infeliz",
         "marker": {
          "color": "#FFA15A",
          "symbol": "circle"
         },
         "mode": "markers+text",
         "name": "infeliz",
         "scene": "scene",
         "showlegend": true,
         "text": [
          "infeliz"
         ],
         "type": "scatter3d",
         "x": [
          0.08275599032640457
         ],
         "y": [
          -0.12438785284757614
         ],
         "z": [
          "infeliz"
         ]
        },
        {
         "hovertemplate": "color=arrabal<br>x=%{x}<br>y=%{y}<br>z=%{z}<br>text=%{text}<extra></extra>",
         "legendgroup": "arrabal",
         "marker": {
          "color": "#19d3f3",
          "symbol": "circle"
         },
         "mode": "markers+text",
         "name": "arrabal",
         "scene": "scene",
         "showlegend": true,
         "text": [
          "arrabal"
         ],
         "type": "scatter3d",
         "x": [
          -0.05635576695203781
         ],
         "y": [
          0.04500753805041313
         ],
         "z": [
          "arrabal"
         ]
        },
        {
         "hovertemplate": "color=pizarra<br>x=%{x}<br>y=%{y}<br>z=%{z}<br>text=%{text}<extra></extra>",
         "legendgroup": "pizarra",
         "marker": {
          "color": "#FF6692",
          "symbol": "circle"
         },
         "mode": "markers+text",
         "name": "pizarra",
         "scene": "scene",
         "showlegend": true,
         "text": [
          "pizarra"
         ],
         "type": "scatter3d",
         "x": [
          -0.007430899888277054
         ],
         "y": [
          0.012650059536099434
         ],
         "z": [
          "pizarra"
         ]
        },
        {
         "hovertemplate": "color=escondido<br>x=%{x}<br>y=%{y}<br>z=%{z}<br>text=%{text}<extra></extra>",
         "legendgroup": "escondido",
         "marker": {
          "color": "#B6E880",
          "symbol": "circle"
         },
         "mode": "markers+text",
         "name": "escondido",
         "scene": "scene",
         "showlegend": true,
         "text": [
          "escondido"
         ],
         "type": "scatter3d",
         "x": [
          -0.07674909383058548
         ],
         "y": [
          0.1557973176240921
         ],
         "z": [
          "escondido"
         ]
        },
        {
         "hovertemplate": "color=abrumado<br>x=%{x}<br>y=%{y}<br>z=%{z}<br>text=%{text}<extra></extra>",
         "legendgroup": "abrumado",
         "marker": {
          "color": "#FF97FF",
          "symbol": "circle"
         },
         "mode": "markers+text",
         "name": "abrumado",
         "scene": "scene",
         "showlegend": true,
         "text": [
          "abrumado"
         ],
         "type": "scatter3d",
         "x": [
          -0.08139882236719131
         ],
         "y": [
          -0.0547565221786499
         ],
         "z": [
          "abrumado"
         ]
        },
        {
         "hovertemplate": "color=alentaba<br>x=%{x}<br>y=%{y}<br>z=%{z}<br>text=%{text}<extra></extra>",
         "legendgroup": "alentaba",
         "marker": {
          "color": "#FECB52",
          "symbol": "circle"
         },
         "mode": "markers+text",
         "name": "alentaba",
         "scene": "scene",
         "showlegend": true,
         "text": [
          "alentaba"
         ],
         "type": "scatter3d",
         "x": [
          0.06686892360448837
         ],
         "y": [
          -0.0889718234539032
         ],
         "z": [
          "alentaba"
         ]
        },
        {
         "hovertemplate": "color=veredas<br>x=%{x}<br>y=%{y}<br>z=%{z}<br>text=%{text}<extra></extra>",
         "legendgroup": "veredas",
         "marker": {
          "color": "#636efa",
          "symbol": "circle"
         },
         "mode": "markers+text",
         "name": "veredas",
         "scene": "scene",
         "showlegend": true,
         "text": [
          "veredas"
         ],
         "type": "scatter3d",
         "x": [
          -0.008326150476932526
         ],
         "y": [
          -0.11308176815509796
         ],
         "z": [
          "veredas"
         ]
        },
        {
         "hovertemplate": "color=finado<br>x=%{x}<br>y=%{y}<br>z=%{z}<br>text=%{text}<extra></extra>",
         "legendgroup": "finado",
         "marker": {
          "color": "#EF553B",
          "symbol": "circle"
         },
         "mode": "markers+text",
         "name": "finado",
         "scene": "scene",
         "showlegend": true,
         "text": [
          "finado"
         ],
         "type": "scatter3d",
         "x": [
          -0.043049562722444534
         ],
         "y": [
          -0.04749615490436554
         ],
         "z": [
          "finado"
         ]
        },
        {
         "hovertemplate": "color=multiforme<br>x=%{x}<br>y=%{y}<br>z=%{z}<br>text=%{text}<extra></extra>",
         "legendgroup": "multiforme",
         "marker": {
          "color": "#00cc96",
          "symbol": "circle"
         },
         "mode": "markers+text",
         "name": "multiforme",
         "scene": "scene",
         "showlegend": true,
         "text": [
          "multiforme"
         ],
         "type": "scatter3d",
         "x": [
          0.07336349785327911
         ],
         "y": [
          -0.08118968456983566
         ],
         "z": [
          "multiforme"
         ]
        },
        {
         "hovertemplate": "color=ahondaba<br>x=%{x}<br>y=%{y}<br>z=%{z}<br>text=%{text}<extra></extra>",
         "legendgroup": "ahondaba",
         "marker": {
          "color": "#ab63fa",
          "symbol": "circle"
         },
         "mode": "markers+text",
         "name": "ahondaba",
         "scene": "scene",
         "showlegend": true,
         "text": [
          "ahondaba"
         ],
         "type": "scatter3d",
         "x": [
          0.04860622435808182
         ],
         "y": [
          -0.05108396336436272
         ],
         "z": [
          "ahondaba"
         ]
        },
        {
         "hovertemplate": "color=instantáneo<br>x=%{x}<br>y=%{y}<br>z=%{z}<br>text=%{text}<extra></extra>",
         "legendgroup": "instantáneo",
         "marker": {
          "color": "#FFA15A",
          "symbol": "circle"
         },
         "mode": "markers+text",
         "name": "instantáneo",
         "scene": "scene",
         "showlegend": true,
         "text": [
          "instantáneo"
         ],
         "type": "scatter3d",
         "x": [
          0.06637684255838394
         ],
         "y": [
          -0.030759328976273537
         ],
         "z": [
          "instantáneo"
         ]
        },
        {
         "hovertemplate": "color=entramos<br>x=%{x}<br>y=%{y}<br>z=%{z}<br>text=%{text}<extra></extra>",
         "legendgroup": "entramos",
         "marker": {
          "color": "#19d3f3",
          "symbol": "circle"
         },
         "mode": "markers+text",
         "name": "entramos",
         "scene": "scene",
         "showlegend": true,
         "text": [
          "entramos"
         ],
         "type": "scatter3d",
         "x": [
          -0.004231644328683615
         ],
         "y": [
          0.07494331896305084
         ],
         "z": [
          "entramos"
         ]
        },
        {
         "hovertemplate": "color=carrera<br>x=%{x}<br>y=%{y}<br>z=%{z}<br>text=%{text}<extra></extra>",
         "legendgroup": "carrera",
         "marker": {
          "color": "#FF6692",
          "symbol": "circle"
         },
         "mode": "markers+text",
         "name": "carrera",
         "scene": "scene",
         "showlegend": true,
         "text": [
          "carrera"
         ],
         "type": "scatter3d",
         "x": [
          -0.02085559442639351
         ],
         "y": [
          -0.059356775134801865
         ],
         "z": [
          "carrera"
         ]
        },
        {
         "hovertemplate": "color=intolerablemente<br>x=%{x}<br>y=%{y}<br>z=%{z}<br>text=%{text}<extra></extra>",
         "legendgroup": "intolerablemente",
         "marker": {
          "color": "#B6E880",
          "symbol": "circle"
         },
         "mode": "markers+text",
         "name": "intolerablemente",
         "scene": "scene",
         "showlegend": true,
         "text": [
          "intolerablemente"
         ],
         "type": "scatter3d",
         "x": [
          -0.0432850681245327
         ],
         "y": [
          0.06417935341596603
         ],
         "z": [
          "intolerablemente"
         ]
        },
        {
         "hovertemplate": "color=corrimos<br>x=%{x}<br>y=%{y}<br>z=%{z}<br>text=%{text}<extra></extra>",
         "legendgroup": "corrimos",
         "marker": {
          "color": "#FF97FF",
          "symbol": "circle"
         },
         "mode": "markers+text",
         "name": "corrimos",
         "scene": "scene",
         "showlegend": true,
         "text": [
          "corrimos"
         ],
         "type": "scatter3d",
         "x": [
          -0.020674116909503937
         ],
         "y": [
          0.003853428876027465
         ],
         "z": [
          "corrimos"
         ]
        },
        {
         "hovertemplate": "color=elemental<br>x=%{x}<br>y=%{y}<br>z=%{z}<br>text=%{text}<extra></extra>",
         "legendgroup": "elemental",
         "marker": {
          "color": "#FECB52",
          "symbol": "circle"
         },
         "mode": "markers+text",
         "name": "elemental",
         "scene": "scene",
         "showlegend": true,
         "text": [
          "elemental"
         ],
         "type": "scatter3d",
         "x": [
          0.022936204448342323
         ],
         "y": [
          -0.10368148982524872
         ],
         "z": [
          "elemental"
         ]
        },
        {
         "hovertemplate": "color=agua<br>x=%{x}<br>y=%{y}<br>z=%{z}<br>text=%{text}<extra></extra>",
         "legendgroup": "agua",
         "marker": {
          "color": "#636efa",
          "symbol": "circle"
         },
         "mode": "markers+text",
         "name": "agua",
         "scene": "scene",
         "showlegend": true,
         "text": [
          "agua"
         ],
         "type": "scatter3d",
         "x": [
          0.004328680224716663
         ],
         "y": [
          -0.054574694484472275
         ],
         "z": [
          "agua"
         ]
        },
        {
         "hovertemplate": "color=descampado<br>x=%{x}<br>y=%{y}<br>z=%{z}<br>text=%{text}<extra></extra>",
         "legendgroup": "descampado",
         "marker": {
          "color": "#EF553B",
          "symbol": "circle"
         },
         "mode": "markers+text",
         "name": "descampado",
         "scene": "scene",
         "showlegend": true,
         "text": [
          "descampado"
         ],
         "type": "scatter3d",
         "x": [
          -0.0655394122004509
         ],
         "y": [
          0.04182941094040871
         ],
         "z": [
          "descampado"
         ]
        },
        {
         "hovertemplate": "color=sorprendiera<br>x=%{x}<br>y=%{y}<br>z=%{z}<br>text=%{text}<extra></extra>",
         "legendgroup": "sorprendiera",
         "marker": {
          "color": "#00cc96",
          "symbol": "circle"
         },
         "mode": "markers+text",
         "name": "sorprendiera",
         "scene": "scene",
         "showlegend": true,
         "text": [
          "sorprendiera"
         ],
         "type": "scatter3d",
         "x": [
          -0.07910940051078796
         ],
         "y": [
          -0.015792515128850937
         ],
         "z": [
          "sorprendiera"
         ]
        },
        {
         "hovertemplate": "color=preciso<br>x=%{x}<br>y=%{y}<br>z=%{z}<br>text=%{text}<extra></extra>",
         "legendgroup": "preciso",
         "marker": {
          "color": "#ab63fa",
          "symbol": "circle"
         },
         "mode": "markers+text",
         "name": "preciso",
         "scene": "scene",
         "showlegend": true,
         "text": [
          "preciso"
         ],
         "type": "scatter3d",
         "x": [
          0.09392457455396652
         ],
         "y": [
          0.08558543771505356
         ],
         "z": [
          "preciso"
         ]
        },
        {
         "hovertemplate": "color=babilonia<br>x=%{x}<br>y=%{y}<br>z=%{z}<br>text=%{text}<extra></extra>",
         "legendgroup": "babilonia",
         "marker": {
          "color": "#FFA15A",
          "symbol": "circle"
         },
         "mode": "markers+text",
         "name": "babilonia",
         "scene": "scene",
         "showlegend": true,
         "text": [
          "babilonia"
         ],
         "type": "scatter3d",
         "x": [
          -0.03775721788406372
         ],
         "y": [
          -0.03736795485019684
         ],
         "z": [
          "babilonia"
         ]
        },
        {
         "hovertemplate": "color=londres<br>x=%{x}<br>y=%{y}<br>z=%{z}<br>text=%{text}<extra></extra>",
         "legendgroup": "londres",
         "marker": {
          "color": "#19d3f3",
          "symbol": "circle"
         },
         "mode": "markers+text",
         "name": "londres",
         "scene": "scene",
         "showlegend": true,
         "text": [
          "londres"
         ],
         "type": "scatter3d",
         "x": [
          -0.02306973561644554
         ],
         "y": [
          -0.10934001952409744
         ],
         "z": [
          "londres"
         ]
        },
        {
         "hovertemplate": "color=nueva<br>x=%{x}<br>y=%{y}<br>z=%{z}<br>text=%{text}<extra></extra>",
         "legendgroup": "nueva",
         "marker": {
          "color": "#FF6692",
          "symbol": "circle"
         },
         "mode": "markers+text",
         "name": "nueva",
         "scene": "scene",
         "showlegend": true,
         "text": [
          "nueva"
         ],
         "type": "scatter3d",
         "x": [
          0.10774023830890656
         ],
         "y": [
          0.03280740603804588
         ],
         "z": [
          "nueva"
         ]
        },
        {
         "hovertemplate": "color=árboles<br>x=%{x}<br>y=%{y}<br>z=%{z}<br>text=%{text}<extra></extra>",
         "legendgroup": "árboles",
         "marker": {
          "color": "#B6E880",
          "symbol": "circle"
         },
         "mode": "markers+text",
         "name": "árboles",
         "scene": "scene",
         "showlegend": true,
         "text": [
          "árboles"
         ],
         "type": "scatter3d",
         "x": [
          -0.05434257164597511
         ],
         "y": [
          -0.05303185060620308
         ],
         "z": [
          "árboles"
         ]
        },
        {
         "hovertemplate": "color=enloquecían<br>x=%{x}<br>y=%{y}<br>z=%{z}<br>text=%{text}<extra></extra>",
         "legendgroup": "enloquecían",
         "marker": {
          "color": "#FF97FF",
          "symbol": "circle"
         },
         "mode": "markers+text",
         "name": "enloquecían",
         "scene": "scene",
         "showlegend": true,
         "text": [
          "enloquecían"
         ],
         "type": "scatter3d",
         "x": [
          0.020039325580000877
         ],
         "y": [
          0.01943153515458107
         ],
         "z": [
          "enloquecían"
         ]
        },
        {
         "hovertemplate": "color=york<br>x=%{x}<br>y=%{y}<br>z=%{z}<br>text=%{text}<extra></extra>",
         "legendgroup": "york",
         "marker": {
          "color": "#FECB52",
          "symbol": "circle"
         },
         "mode": "markers+text",
         "name": "york",
         "scene": "scene",
         "showlegend": true,
         "text": [
          "york"
         ],
         "type": "scatter3d",
         "x": [
          0.04823334142565727
         ],
         "y": [
          0.07437416911125183
         ],
         "z": [
          "york"
         ]
        },
        {
         "hovertemplate": "color=han<br>x=%{x}<br>y=%{y}<br>z=%{z}<br>text=%{text}<extra></extra>",
         "legendgroup": "han",
         "marker": {
          "color": "#636efa",
          "symbol": "circle"
         },
         "mode": "markers+text",
         "name": "han",
         "scene": "scene",
         "showlegend": true,
         "text": [
          "han"
         ],
         "type": "scatter3d",
         "x": [
          0.030891377478837967
         ],
         "y": [
          0.11591214686632156
         ],
         "z": [
          "han"
         ]
        },
        {
         "hovertemplate": "color=sur<br>x=%{x}<br>y=%{y}<br>z=%{z}<br>text=%{text}<extra></extra>",
         "legendgroup": "sur",
         "marker": {
          "color": "#EF553B",
          "symbol": "circle"
         },
         "mode": "markers+text",
         "name": "sur",
         "scene": "scene",
         "showlegend": true,
         "text": [
          "sur"
         ],
         "type": "scatter3d",
         "x": [
          -0.05458522215485573
         ],
         "y": [
          -0.060439981520175934
         ],
         "z": [
          "sur"
         ]
        },
        {
         "hovertemplate": "color=viento<br>x=%{x}<br>y=%{y}<br>z=%{z}<br>text=%{text}<extra></extra>",
         "legendgroup": "viento",
         "marker": {
          "color": "#00cc96",
          "symbol": "circle"
         },
         "mode": "markers+text",
         "name": "viento",
         "scene": "scene",
         "showlegend": true,
         "text": [
          "viento"
         ],
         "type": "scatter3d",
         "x": [
          -0.030039072036743164
         ],
         "y": [
          -0.003491578157991171
         ],
         "z": [
          "viento"
         ]
        },
        {
         "hovertemplate": "color=sudamericano<br>x=%{x}<br>y=%{y}<br>z=%{z}<br>text=%{text}<extra></extra>",
         "legendgroup": "sudamericano",
         "marker": {
          "color": "#ab63fa",
          "symbol": "circle"
         },
         "mode": "markers+text",
         "name": "sudamericano",
         "scene": "scene",
         "showlegend": true,
         "text": [
          "sudamericano"
         ],
         "type": "scatter3d",
         "x": [
          0.06639866530895233
         ],
         "y": [
          0.02265055477619171
         ],
         "z": [
          "sudamericano"
         ]
        },
        {
         "hovertemplate": "color=espaldas<br>x=%{x}<br>y=%{y}<br>z=%{z}<br>text=%{text}<extra></extra>",
         "legendgroup": "espaldas",
         "marker": {
          "color": "#FFA15A",
          "symbol": "circle"
         },
         "mode": "markers+text",
         "name": "espaldas",
         "scene": "scene",
         "showlegend": true,
         "text": [
          "espaldas"
         ],
         "type": "scatter3d",
         "x": [
          0.03808054327964783
         ],
         "y": [
          -0.06178940460085869
         ],
         "z": [
          "espaldas"
         ]
        },
        {
         "hovertemplate": "color=este<br>x=%{x}<br>y=%{y}<br>z=%{z}<br>text=%{text}<extra></extra>",
         "legendgroup": "este",
         "marker": {
          "color": "#19d3f3",
          "symbol": "circle"
         },
         "mode": "markers+text",
         "name": "este",
         "scene": "scene",
         "showlegend": true,
         "text": [
          "este"
         ],
         "type": "scatter3d",
         "x": [
          -0.0214973296970129
         ],
         "y": [
          0.05532301217317581
         ],
         "z": [
          "este"
         ]
        },
        {
         "hovertemplate": "color=nuestra<br>x=%{x}<br>y=%{y}<br>z=%{z}<br>text=%{text}<extra></extra>",
         "legendgroup": "nuestra",
         "marker": {
          "color": "#FF6692",
          "symbol": "circle"
         },
         "mode": "markers+text",
         "name": "nuestra",
         "scene": "scene",
         "showlegend": true,
         "text": [
          "nuestra"
         ],
         "type": "scatter3d",
         "x": [
          0.017611145973205566
         ],
         "y": [
          0.16796790063381195
         ],
         "z": [
          "nuestra"
         ]
        },
        {
         "hovertemplate": "color=suficiente<br>x=%{x}<br>y=%{y}<br>z=%{z}<br>text=%{text}<extra></extra>",
         "legendgroup": "suficiente",
         "marker": {
          "color": "#B6E880",
          "symbol": "circle"
         },
         "mode": "markers+text",
         "name": "suficiente",
         "scene": "scene",
         "showlegend": true,
         "text": [
          "suficiente"
         ],
         "type": "scatter3d",
         "x": [
          0.03596777841448784
         ],
         "y": [
          -0.006164458580315113
         ],
         "z": [
          "suficiente"
         ]
        },
        {
         "hovertemplate": "color=modo<br>x=%{x}<br>y=%{y}<br>z=%{z}<br>text=%{text}<extra></extra>",
         "legendgroup": "modo",
         "marker": {
          "color": "#FF97FF",
          "symbol": "circle"
         },
         "mode": "markers+text",
         "name": "modo",
         "scene": "scene",
         "showlegend": true,
         "text": [
          "modo"
         ],
         "type": "scatter3d",
         "x": [
          0.0923490822315216
         ],
         "y": [
          0.09698838740587234
         ],
         "z": [
          "modo"
         ]
        },
        {
         "hovertemplate": "color=importante<br>x=%{x}<br>y=%{y}<br>z=%{z}<br>text=%{text}<extra></extra>",
         "legendgroup": "importante",
         "marker": {
          "color": "#FECB52",
          "symbol": "circle"
         },
         "mode": "markers+text",
         "name": "importante",
         "scene": "scene",
         "showlegend": true,
         "text": [
          "importante"
         ],
         "type": "scatter3d",
         "x": [
          0.02593097649514675
         ],
         "y": [
          0.015870271250605583
         ],
         "z": [
          "importante"
         ]
        },
        {
         "hovertemplate": "color=injuriosas<br>x=%{x}<br>y=%{y}<br>z=%{z}<br>text=%{text}<extra></extra>",
         "legendgroup": "injuriosas",
         "marker": {
          "color": "#636efa",
          "symbol": "circle"
         },
         "mode": "markers+text",
         "name": "injuriosas",
         "scene": "scene",
         "showlegend": true,
         "text": [
          "injuriosas"
         ],
         "type": "scatter3d",
         "x": [
          -0.055604446679353714
         ],
         "y": [
          0.09635039418935776
         ],
         "z": [
          "injuriosas"
         ]
        },
        {
         "hovertemplate": "color=minucioso<br>x=%{x}<br>y=%{y}<br>z=%{z}<br>text=%{text}<extra></extra>",
         "legendgroup": "minucioso",
         "marker": {
          "color": "#EF553B",
          "symbol": "circle"
         },
         "mode": "markers+text",
         "name": "minucioso",
         "scene": "scene",
         "showlegend": true,
         "text": [
          "minucioso"
         ],
         "type": "scatter3d",
         "x": [
          -0.04155786335468292
         ],
         "y": [
          0.03560459613800049
         ],
         "z": [
          "minucioso"
         ]
        },
        {
         "hovertemplate": "color=porteño<br>x=%{x}<br>y=%{y}<br>z=%{z}<br>text=%{text}<extra></extra>",
         "legendgroup": "porteño",
         "marker": {
          "color": "#00cc96",
          "symbol": "circle"
         },
         "mode": "markers+text",
         "name": "porteño",
         "scene": "scene",
         "showlegend": true,
         "text": [
          "porteño"
         ],
         "type": "scatter3d",
         "x": [
          0.023976877331733704
         ],
         "y": [
          0.002444187179207802
         ],
         "z": [
          "porteño"
         ]
        },
        {
         "hovertemplate": "color=cajetilla<br>x=%{x}<br>y=%{y}<br>z=%{z}<br>text=%{text}<extra></extra>",
         "legendgroup": "cajetilla",
         "marker": {
          "color": "#ab63fa",
          "symbol": "circle"
         },
         "mode": "markers+text",
         "name": "cajetilla",
         "scene": "scene",
         "showlegend": true,
         "text": [
          "cajetilla"
         ],
         "type": "scatter3d",
         "x": [
          -0.019604649394750595
         ],
         "y": [
          -0.01721806637942791
         ],
         "z": [
          "cajetilla"
         ]
        },
        {
         "hovertemplate": "color=literato<br>x=%{x}<br>y=%{y}<br>z=%{z}<br>text=%{text}<extra></extra>",
         "legendgroup": "literato",
         "marker": {
          "color": "#FFA15A",
          "symbol": "circle"
         },
         "mode": "markers+text",
         "name": "literato",
         "scene": "scene",
         "showlegend": true,
         "text": [
          "literato"
         ],
         "type": "scatter3d",
         "x": [
          0.0009090329986065626
         ],
         "y": [
          -0.07452735304832458
         ],
         "z": [
          "literato"
         ]
        },
        {
         "hovertemplate": "color=uruguayo<br>x=%{x}<br>y=%{y}<br>z=%{z}<br>text=%{text}<extra></extra>",
         "legendgroup": "uruguayo",
         "marker": {
          "color": "#19d3f3",
          "symbol": "circle"
         },
         "mode": "markers+text",
         "name": "uruguayo",
         "scene": "scene",
         "showlegend": true,
         "text": [
          "uruguayo"
         ],
         "type": "scatter3d",
         "x": [
          -0.08931822329759598
         ],
         "y": [
          -0.06831217557191849
         ],
         "z": [
          "uruguayo"
         ]
        },
        {
         "hovertemplate": "color=vivo<br>x=%{x}<br>y=%{y}<br>z=%{z}<br>text=%{text}<extra></extra>",
         "legendgroup": "vivo",
         "marker": {
          "color": "#FF6692",
          "symbol": "circle"
         },
         "mode": "markers+text",
         "name": "vivo",
         "scene": "scene",
         "showlegend": true,
         "text": [
          "vivo"
         ],
         "type": "scatter3d",
         "x": [
          0.05233846604824066
         ],
         "y": [
          0.0314452163875103
         ],
         "z": [
          "vivo"
         ]
        },
        {
         "hovertemplate": "color=tema<br>x=%{x}<br>y=%{y}<br>z=%{z}<br>text=%{text}<extra></extra>",
         "legendgroup": "tema",
         "marker": {
          "color": "#B6E880",
          "symbol": "circle"
         },
         "mode": "markers+text",
         "name": "tema",
         "scene": "scene",
         "showlegend": true,
         "text": [
          "tema"
         ],
         "type": "scatter3d",
         "x": [
          0.009536024183034897
         ],
         "y": [
          -0.11090827733278275
         ],
         "z": [
          "tema"
         ]
        },
        {
         "hovertemplate": "color=uruguay<br>x=%{x}<br>y=%{y}<br>z=%{z}<br>text=%{text}<extra></extra>",
         "legendgroup": "uruguay",
         "marker": {
          "color": "#FF97FF",
          "symbol": "circle"
         },
         "mode": "markers+text",
         "name": "uruguay",
         "scene": "scene",
         "showlegend": true,
         "text": [
          "uruguay"
         ],
         "type": "scatter3d",
         "x": [
          -0.0894586443901062
         ],
         "y": [
          -0.061083290725946426
         ],
         "z": [
          "uruguay"
         ]
        },
        {
         "hovertemplate": "color=marzo<br>x=%{x}<br>y=%{y}<br>z=%{z}<br>text=%{text}<extra></extra>",
         "legendgroup": "marzo",
         "marker": {
          "color": "#FECB52",
          "symbol": "circle"
         },
         "mode": "markers+text",
         "name": "marzo",
         "scene": "scene",
         "showlegend": true,
         "text": [
          "marzo"
         ],
         "type": "scatter3d",
         "x": [
          0.040774986147880554
         ],
         "y": [
          -0.11712022870779037
         ],
         "z": [
          "marzo"
         ]
        },
        {
         "hovertemplate": "color=obligatorio<br>x=%{x}<br>y=%{y}<br>z=%{z}<br>text=%{text}<extra></extra>",
         "legendgroup": "obligatorio",
         "marker": {
          "color": "#636efa",
          "symbol": "circle"
         },
         "mode": "markers+text",
         "name": "obligatorio",
         "scene": "scene",
         "showlegend": true,
         "text": [
          "obligatorio"
         ],
         "type": "scatter3d",
         "x": [
          0.06196504086256027
         ],
         "y": [
          0.009400111623108387
         ],
         "z": [
          "obligatorio"
         ]
        },
        {
         "hovertemplate": "color=género<br>x=%{x}<br>y=%{y}<br>z=%{z}<br>text=%{text}<extra></extra>",
         "legendgroup": "género",
         "marker": {
          "color": "#EF553B",
          "symbol": "circle"
         },
         "mode": "markers+text",
         "name": "género",
         "scene": "scene",
         "showlegend": true,
         "text": [
          "género"
         ],
         "type": "scatter3d",
         "x": [
          0.03680386021733284
         ],
         "y": [
          -0.011911234818398952
         ],
         "z": [
          "género"
         ]
        },
        {
         "hovertemplate": "color=ditirambo<br>x=%{x}<br>y=%{y}<br>z=%{z}<br>text=%{text}<extra></extra>",
         "legendgroup": "ditirambo",
         "marker": {
          "color": "#00cc96",
          "symbol": "circle"
         },
         "mode": "markers+text",
         "name": "ditirambo",
         "scene": "scene",
         "showlegend": true,
         "text": [
          "ditirambo"
         ],
         "type": "scatter3d",
         "x": [
          -0.06509639322757721
         ],
         "y": [
          -0.032969772815704346
         ],
         "z": [
          "ditirambo"
         ]
        },
        {
         "hovertemplate": "color=incurrir<br>x=%{x}<br>y=%{y}<br>z=%{z}<br>text=%{text}<extra></extra>",
         "legendgroup": "incurrir",
         "marker": {
          "color": "#ab63fa",
          "symbol": "circle"
         },
         "mode": "markers+text",
         "name": "incurrir",
         "scene": "scene",
         "showlegend": true,
         "text": [
          "incurrir"
         ],
         "type": "scatter3d",
         "x": [
          -0.07006889581680298
         ],
         "y": [
          -0.01816369965672493
         ],
         "z": [
          "incurrir"
         ]
        },
        {
         "hovertemplate": "color=impedirá<br>x=%{x}<br>y=%{y}<br>z=%{z}<br>text=%{text}<extra></extra>",
         "legendgroup": "impedirá",
         "marker": {
          "color": "#FFA15A",
          "symbol": "circle"
         },
         "mode": "markers+text",
         "name": "impedirá",
         "scene": "scene",
         "showlegend": true,
         "text": [
          "impedirá"
         ],
         "type": "scatter3d",
         "x": [
          0.05838167294859886
         ],
         "y": [
          -0.04501102864742279
         ],
         "z": [
          "impedirá"
         ]
        },
        {
         "hovertemplate": "color=argentino<br>x=%{x}<br>y=%{y}<br>z=%{z}<br>text=%{text}<extra></extra>",
         "legendgroup": "argentino",
         "marker": {
          "color": "#19d3f3",
          "symbol": "circle"
         },
         "mode": "markers+text",
         "name": "argentino",
         "scene": "scene",
         "showlegend": true,
         "text": [
          "argentino"
         ],
         "type": "scatter3d",
         "x": [
          0.027166903018951416
         ],
         "y": [
          -0.01802002266049385
         ],
         "z": [
          "argentino"
         ]
        },
        {
         "hovertemplate": "color=goce<br>x=%{x}<br>y=%{y}<br>z=%{z}<br>text=%{text}<extra></extra>",
         "legendgroup": "goce",
         "marker": {
          "color": "#FF6692",
          "symbol": "circle"
         },
         "mode": "markers+text",
         "name": "goce",
         "scene": "scene",
         "showlegend": true,
         "text": [
          "goce"
         ],
         "type": "scatter3d",
         "x": [
          -0.0798763707280159
         ],
         "y": [
          0.010911785066127777
         ],
         "z": [
          "goce"
         ]
        },
        {
         "hovertemplate": "color=deplorable<br>x=%{x}<br>y=%{y}<br>z=%{z}<br>text=%{text}<extra></extra>",
         "legendgroup": "deplorable",
         "marker": {
          "color": "#B6E880",
          "symbol": "circle"
         },
         "mode": "markers+text",
         "name": "deplorable",
         "scene": "scene",
         "showlegend": true,
         "text": [
          "deplorable"
         ],
         "type": "scatter3d",
         "x": [
          -0.07662253826856613
         ],
         "y": [
          0.09616691619157791
         ],
         "z": [
          "deplorable"
         ]
        },
        {
         "hovertemplate": "color=editarán<br>x=%{x}<br>y=%{y}<br>z=%{z}<br>text=%{text}<extra></extra>",
         "legendgroup": "editarán",
         "marker": {
          "color": "#FF97FF",
          "symbol": "circle"
         },
         "mode": "markers+text",
         "name": "editarán",
         "scene": "scene",
         "showlegend": true,
         "text": [
          "editarán"
         ],
         "type": "scatter3d",
         "x": [
          -0.04272835701704025
         ],
         "y": [
          0.02236032858490944
         ],
         "z": [
          "editarán"
         ]
        },
        {
         "hovertemplate": "color=tormento<br>x=%{x}<br>y=%{y}<br>z=%{z}<br>text=%{text}<extra></extra>",
         "legendgroup": "tormento",
         "marker": {
          "color": "#FECB52",
          "symbol": "circle"
         },
         "mode": "markers+text",
         "name": "tormento",
         "scene": "scene",
         "showlegend": true,
         "text": [
          "tormento"
         ],
         "type": "scatter3d",
         "x": [
          0.08933801203966141
         ],
         "y": [
          -0.08301832526922226
         ],
         "z": [
          "tormento"
         ]
        },
        {
         "hovertemplate": "color=imparcial<br>x=%{x}<br>y=%{y}<br>z=%{z}<br>text=%{text}<extra></extra>",
         "legendgroup": "imparcial",
         "marker": {
          "color": "#636efa",
          "symbol": "circle"
         },
         "mode": "markers+text",
         "name": "imparcial",
         "scene": "scene",
         "showlegend": true,
         "text": [
          "imparcial"
         ],
         "type": "scatter3d",
         "x": [
          -0.013912661001086235
         ],
         "y": [
          -0.04523703083395958
         ],
         "z": [
          "imparcial"
         ]
        },
        {
         "hovertemplate": "color=consta<br>x=%{x}<br>y=%{y}<br>z=%{z}<br>text=%{text}<extra></extra>",
         "legendgroup": "consta",
         "marker": {
          "color": "#EF553B",
          "symbol": "circle"
         },
         "mode": "markers+text",
         "name": "consta",
         "scene": "scene",
         "showlegend": true,
         "text": [
          "consta"
         ],
         "type": "scatter3d",
         "x": [
          0.038578569889068604
         ],
         "y": [
          -0.12413439899682999
         ],
         "z": [
          "consta"
         ]
        },
        {
         "hovertemplate": "color=representaba<br>x=%{x}<br>y=%{y}<br>z=%{z}<br>text=%{text}<extra></extra>",
         "legendgroup": "representaba",
         "marker": {
          "color": "#00cc96",
          "symbol": "circle"
         },
         "mode": "markers+text",
         "name": "representaba",
         "scene": "scene",
         "showlegend": true,
         "text": [
          "representaba"
         ],
         "type": "scatter3d",
         "x": [
          0.0025137655902653933
         ],
         "y": [
          -0.045496199280023575
         ],
         "z": [
          "representaba"
         ]
        },
        {
         "hovertemplate": "color=repito<br>x=%{x}<br>y=%{y}<br>z=%{z}<br>text=%{text}<extra></extra>",
         "legendgroup": "repito",
         "marker": {
          "color": "#ab63fa",
          "symbol": "circle"
         },
         "mode": "markers+text",
         "name": "repito",
         "scene": "scene",
         "showlegend": true,
         "text": [
          "repito"
         ],
         "type": "scatter3d",
         "x": [
          0.017328878864645958
         ],
         "y": [
          -0.04459669068455696
         ],
         "z": [
          "repito"
         ]
        },
        {
         "hovertemplate": "color=desventuras<br>x=%{x}<br>y=%{y}<br>z=%{z}<br>text=%{text}<extra></extra>",
         "legendgroup": "desventuras",
         "marker": {
          "color": "#FFA15A",
          "symbol": "circle"
         },
         "mode": "markers+text",
         "name": "desventuras",
         "scene": "scene",
         "showlegend": true,
         "text": [
          "desventuras"
         ],
         "type": "scatter3d",
         "x": [
          -0.10540489852428436
         ],
         "y": [
          -0.026738984510302544
         ],
         "z": [
          "desventuras"
         ]
        },
        {
         "hovertemplate": "color=atardecer<br>x=%{x}<br>y=%{y}<br>z=%{z}<br>text=%{text}<extra></extra>",
         "legendgroup": "atardecer",
         "marker": {
          "color": "#19d3f3",
          "symbol": "circle"
         },
         "mode": "markers+text",
         "name": "atardecer",
         "scene": "scene",
         "showlegend": true,
         "text": [
          "atardecer"
         ],
         "type": "scatter3d",
         "x": [
          0.009873374365270138
         ],
         "y": [
          0.03759235888719559
         ],
         "z": [
          "atardecer"
         ]
        },
        {
         "hovertemplate": "color=veo<br>x=%{x}<br>y=%{y}<br>z=%{z}<br>text=%{text}<extra></extra>",
         "legendgroup": "veo",
         "marker": {
          "color": "#FF6692",
          "symbol": "circle"
         },
         "mode": "markers+text",
         "name": "veo",
         "scene": "scene",
         "showlegend": true,
         "text": [
          "veo"
         ],
         "type": "scatter3d",
         "x": [
          0.06734910607337952
         ],
         "y": [
          -0.06750728189945221
         ],
         "z": [
          "veo"
         ]
        },
        {
         "hovertemplate": "color=perspicuo<br>x=%{x}<br>y=%{y}<br>z=%{z}<br>text=%{text}<extra></extra>",
         "legendgroup": "perspicuo",
         "marker": {
          "color": "#B6E880",
          "symbol": "circle"
         },
         "mode": "markers+text",
         "name": "perspicuo",
         "scene": "scene",
         "showlegend": true,
         "text": [
          "perspicuo"
         ],
         "type": "scatter3d",
         "x": [
          -0.03708624839782715
         ],
         "y": [
          -0.06290547549724579
         ],
         "z": [
          "perspicuo"
         ]
        },
        {
         "hovertemplate": "color=sombra<br>x=%{x}<br>y=%{y}<br>z=%{z}<br>text=%{text}<extra></extra>",
         "legendgroup": "sombra",
         "marker": {
          "color": "#FF97FF",
          "symbol": "circle"
         },
         "mode": "markers+text",
         "name": "sombra",
         "scene": "scene",
         "showlegend": true,
         "text": [
          "sombra"
         ],
         "type": "scatter3d",
         "x": [
          0.02997632510960102
         ],
         "y": [
          0.08480126410722733
         ],
         "z": [
          "sombra"
         ]
        },
        {
         "hovertemplate": "color=limitaciones<br>x=%{x}<br>y=%{y}<br>z=%{z}<br>text=%{text}<extra></extra>",
         "legendgroup": "limitaciones",
         "marker": {
          "color": "#FECB52",
          "symbol": "circle"
         },
         "mode": "markers+text",
         "name": "limitaciones",
         "scene": "scene",
         "showlegend": true,
         "text": [
          "limitaciones"
         ],
         "type": "scatter3d",
         "x": [
          0.08632957190275192
         ],
         "y": [
          -0.0017620660364627838
         ],
         "z": [
          "limitaciones"
         ]
        },
        {
         "hovertemplate": "color=incurables<br>x=%{x}<br>y=%{y}<br>z=%{z}<br>text=%{text}<extra></extra>",
         "legendgroup": "incurables",
         "marker": {
          "color": "#636efa",
          "symbol": "circle"
         },
         "mode": "markers+text",
         "name": "incurables",
         "scene": "scene",
         "showlegend": true,
         "text": [
          "incurables"
         ],
         "type": "scatter3d",
         "x": [
          -0.08026360720396042
         ],
         "y": [
          0.05870923399925232
         ],
         "z": [
          "incurables"
         ]
        },
        {
         "hovertemplate": "color=ciertas<br>x=%{x}<br>y=%{y}<br>z=%{z}<br>text=%{text}<extra></extra>",
         "legendgroup": "ciertas",
         "marker": {
          "color": "#EF553B",
          "symbol": "circle"
         },
         "mode": "markers+text",
         "name": "ciertas",
         "scene": "scene",
         "showlegend": true,
         "text": [
          "ciertas"
         ],
         "type": "scatter3d",
         "x": [
          0.012210928834974766
         ],
         "y": [
          0.05799335613846779
         ],
         "z": [
          "ciertas"
         ]
        },
        {
         "hovertemplate": "color=figuraba<br>x=%{x}<br>y=%{y}<br>z=%{z}<br>text=%{text}<extra></extra>",
         "legendgroup": "figuraba",
         "marker": {
          "color": "#00cc96",
          "symbol": "circle"
         },
         "mode": "markers+text",
         "name": "figuraba",
         "scene": "scene",
         "showlegend": true,
         "text": [
          "figuraba"
         ],
         "type": "scatter3d",
         "x": [
          -0.11148563772439957
         ],
         "y": [
          -0.04774211719632149
         ],
         "z": [
          "figuraba"
         ]
        },
        {
         "hovertemplate": "color=grieta<br>x=%{x}<br>y=%{y}<br>z=%{z}<br>text=%{text}<extra></extra>",
         "legendgroup": "grieta",
         "marker": {
          "color": "#ab63fa",
          "symbol": "circle"
         },
         "mode": "markers+text",
         "name": "grieta",
         "scene": "scene",
         "showlegend": true,
         "text": [
          "grieta"
         ],
         "type": "scatter3d",
         "x": [
          -0.12125477194786072
         ],
         "y": [
          0.0530841201543808
         ],
         "z": [
          "grieta"
         ]
        },
        {
         "hovertemplate": "color=compadrito<br>x=%{x}<br>y=%{y}<br>z=%{z}<br>text=%{text}<extra></extra>",
         "legendgroup": "compadrito",
         "marker": {
          "color": "#FFA15A",
          "symbol": "circle"
         },
         "mode": "markers+text",
         "name": "compadrito",
         "scene": "scene",
         "showlegend": true,
         "text": [
          "compadrito"
         ],
         "type": "scatter3d",
         "x": [
          -0.04839218035340309
         ],
         "y": [
          0.112431101500988
         ],
         "z": [
          "compadrito"
         ]
        },
        {
         "hovertemplate": "color=moldura<br>x=%{x}<br>y=%{y}<br>z=%{z}<br>text=%{text}<extra></extra>",
         "legendgroup": "moldura",
         "marker": {
          "color": "#19d3f3",
          "symbol": "circle"
         },
         "mode": "markers+text",
         "name": "moldura",
         "scene": "scene",
         "showlegend": true,
         "text": [
          "moldura"
         ],
         "type": "scatter3d",
         "x": [
          -0.031630631536245346
         ],
         "y": [
          -0.05815836042165756
         ],
         "z": [
          "moldura"
         ]
        },
        {
         "hovertemplate": "color=hay<br>x=%{x}<br>y=%{y}<br>z=%{z}<br>text=%{text}<extra></extra>",
         "legendgroup": "hay",
         "marker": {
          "color": "#FF6692",
          "symbol": "circle"
         },
         "mode": "markers+text",
         "name": "hay",
         "scene": "scene",
         "showlegend": true,
         "text": [
          "hay"
         ],
         "type": "scatter3d",
         "x": [
          0.06359795480966568
         ],
         "y": [
          0.01787124201655388
         ],
         "z": [
          "hay"
         ]
        },
        {
         "hovertemplate": "color=discuto<br>x=%{x}<br>y=%{y}<br>z=%{z}<br>text=%{text}<extra></extra>",
         "legendgroup": "discuto",
         "marker": {
          "color": "#B6E880",
          "symbol": "circle"
         },
         "mode": "markers+text",
         "name": "discuto",
         "scene": "scene",
         "showlegend": true,
         "text": [
          "discuto"
         ],
         "type": "scatter3d",
         "x": [
          -0.11133980751037598
         ],
         "y": [
          0.0017531701596453786
         ],
         "z": [
          "discuto"
         ]
        },
        {
         "hovertemplate": "color=vernáculo<br>x=%{x}<br>y=%{y}<br>z=%{z}<br>text=%{text}<extra></extra>",
         "legendgroup": "vernáculo",
         "marker": {
          "color": "#FF97FF",
          "symbol": "circle"
         },
         "mode": "markers+text",
         "name": "vernáculo",
         "scene": "scene",
         "showlegend": true,
         "text": [
          "vernáculo"
         ],
         "type": "scatter3d",
         "x": [
          -0.011321240104734898
         ],
         "y": [
          -0.025926893576979637
         ],
         "z": [
          "vernáculo"
         ]
        },
        {
         "hovertemplate": "color=cimarrón<br>x=%{x}<br>y=%{y}<br>z=%{z}<br>text=%{text}<extra></extra>",
         "legendgroup": "cimarrón",
         "marker": {
          "color": "#FECB52",
          "symbol": "circle"
         },
         "mode": "markers+text",
         "name": "cimarrón",
         "scene": "scene",
         "showlegend": true,
         "text": [
          "cimarrón"
         ],
         "type": "scatter3d",
         "x": [
          0.006416764575988054
         ],
         "y": [
          -0.023355254903435707
         ],
         "z": [
          "cimarrón"
         ]
        },
        {
         "hovertemplate": "color=zarathustra<br>x=%{x}<br>y=%{y}<br>z=%{z}<br>text=%{text}<extra></extra>",
         "legendgroup": "zarathustra",
         "marker": {
          "color": "#636efa",
          "symbol": "circle"
         },
         "mode": "markers+text",
         "name": "zarathustra",
         "scene": "scene",
         "showlegend": true,
         "text": [
          "zarathustra"
         ],
         "type": "scatter3d",
         "x": [
          0.06322887539863586
         ],
         "y": [
          -0.02397412620484829
         ],
         "z": [
          "zarathustra"
         ]
        },
        {
         "hovertemplate": "color=superhombres<br>x=%{x}<br>y=%{y}<br>z=%{z}<br>text=%{text}<extra></extra>",
         "legendgroup": "superhombres",
         "marker": {
          "color": "#EF553B",
          "symbol": "circle"
         },
         "mode": "markers+text",
         "name": "superhombres",
         "scene": "scene",
         "showlegend": true,
         "text": [
          "superhombres"
         ],
         "type": "scatter3d",
         "x": [
          0.02664184756577015
         ],
         "y": [
          -0.009516834281384945
         ],
         "z": [
          "superhombres"
         ]
        },
        {
         "hovertemplate": "color=precursor<br>x=%{x}<br>y=%{y}<br>z=%{z}<br>text=%{text}<extra></extra>",
         "legendgroup": "precursor",
         "marker": {
          "color": "#00cc96",
          "symbol": "circle"
         },
         "mode": "markers+text",
         "name": "precursor",
         "scene": "scene",
         "showlegend": true,
         "text": [
          "precursor"
         ],
         "type": "scatter3d",
         "x": [
          -0.07115038484334946
         ],
         "y": [
          -0.02399457059800625
         ],
         "z": [
          "precursor"
         ]
        },
        {
         "hovertemplate": "color=precisas<br>x=%{x}<br>y=%{y}<br>z=%{z}<br>text=%{text}<extra></extra>",
         "legendgroup": "precisas",
         "marker": {
          "color": "#ab63fa",
          "symbol": "circle"
         },
         "mode": "markers+text",
         "name": "precisas",
         "scene": "scene",
         "showlegend": true,
         "text": [
          "precisas"
         ],
         "type": "scatter3d",
         "x": [
          0.08350922912359238
         ],
         "y": [
          0.09110269695520401
         ],
         "z": [
          "precisas"
         ]
        },
        {
         "hovertemplate": "color=rodeaban<br>x=%{x}<br>y=%{y}<br>z=%{z}<br>text=%{text}<extra></extra>",
         "legendgroup": "rodeaban",
         "marker": {
          "color": "#FFA15A",
          "symbol": "circle"
         },
         "mode": "markers+text",
         "name": "rodeaban",
         "scene": "scene",
         "showlegend": true,
         "text": [
          "rodeaban"
         ],
         "type": "scatter3d",
         "x": [
          0.003246787004172802
         ],
         "y": [
          -0.03756522759795189
         ],
         "z": [
          "rodeaban"
         ]
        },
        {
         "hovertemplate": "color=ipuche<br>x=%{x}<br>y=%{y}<br>z=%{z}<br>text=%{text}<extra></extra>",
         "legendgroup": "ipuche",
         "marker": {
          "color": "#19d3f3",
          "symbol": "circle"
         },
         "mode": "markers+text",
         "name": "ipuche",
         "scene": "scene",
         "showlegend": true,
         "text": [
          "ipuche"
         ],
         "type": "scatter3d",
         "x": [
          0.15407422184944153
         ],
         "y": [
          -0.034945275634527206
         ],
         "z": [
          "ipuche"
         ]
        },
        {
         "hovertemplate": "color=leandro<br>x=%{x}<br>y=%{y}<br>z=%{z}<br>text=%{text}<extra></extra>",
         "legendgroup": "leandro",
         "marker": {
          "color": "#FF6692",
          "symbol": "circle"
         },
         "mode": "markers+text",
         "name": "leandro",
         "scene": "scene",
         "showlegend": true,
         "text": [
          "leandro"
         ],
         "type": "scatter3d",
         "x": [
          -0.05259181186556816
         ],
         "y": [
          -0.0372881181538105
         ],
         "z": [
          "leandro"
         ]
        },
        {
         "hovertemplate": "color=pedro<br>x=%{x}<br>y=%{y}<br>z=%{z}<br>text=%{text}<extra></extra>",
         "legendgroup": "pedro",
         "marker": {
          "color": "#B6E880",
          "symbol": "circle"
         },
         "mode": "markers+text",
         "name": "pedro",
         "scene": "scene",
         "showlegend": true,
         "text": [
          "pedro"
         ],
         "type": "scatter3d",
         "x": [
          -0.05270349606871605
         ],
         "y": [
          -0.03344269096851349
         ],
         "z": [
          "pedro"
         ]
        },
        {
         "hovertemplate": "color=tío<br>x=%{x}<br>y=%{y}<br>z=%{z}<br>text=%{text}<extra></extra>",
         "legendgroup": "tío",
         "marker": {
          "color": "#FF97FF",
          "symbol": "circle"
         },
         "mode": "markers+text",
         "name": "tío",
         "scene": "scene",
         "showlegend": true,
         "text": [
          "tío"
         ],
         "type": "scatter3d",
         "x": [
          -0.03509535640478134
         ],
         "y": [
          -0.04997691139578819
         ],
         "z": [
          "tío"
         ]
        },
        {
         "hovertemplate": "color=jornada<br>x=%{x}<br>y=%{y}<br>z=%{z}<br>text=%{text}<extra></extra>",
         "legendgroup": "jornada",
         "marker": {
          "color": "#FECB52",
          "symbol": "circle"
         },
         "mode": "markers+text",
         "name": "jornada",
         "scene": "scene",
         "showlegend": true,
         "text": [
          "jornada"
         ],
         "type": "scatter3d",
         "x": [
          -0.12569868564605713
         ],
         "y": [
          -0.06084199622273445
         ],
         "z": [
          "jornada"
         ]
        },
        {
         "hovertemplate": "color=infinito<br>x=%{x}<br>y=%{y}<br>z=%{z}<br>text=%{text}<extra></extra>",
         "legendgroup": "infinito",
         "marker": {
          "color": "#636efa",
          "symbol": "circle"
         },
         "mode": "markers+text",
         "name": "infinito",
         "scene": "scene",
         "showlegend": true,
         "text": [
          "infinito"
         ],
         "type": "scatter3d",
         "x": [
          0.05490298569202423
         ],
         "y": [
          0.03426530584692955
         ],
         "z": [
          "infinito"
         ]
        },
        {
         "hovertemplate": "color=rama<br>x=%{x}<br>y=%{y}<br>z=%{z}<br>text=%{text}<extra></extra>",
         "legendgroup": "rama",
         "marker": {
          "color": "#EF553B",
          "symbol": "circle"
         },
         "mode": "markers+text",
         "name": "rama",
         "scene": "scene",
         "showlegend": true,
         "text": [
          "rama"
         ],
         "type": "scatter3d",
         "x": [
          -0.0010530458530411124
         ],
         "y": [
          0.07434354722499847
         ],
         "z": [
          "rama"
         ]
        },
        {
         "hovertemplate": "color=española<br>x=%{x}<br>y=%{y}<br>z=%{z}<br>text=%{text}<extra></extra>",
         "legendgroup": "española",
         "marker": {
          "color": "#00cc96",
          "symbol": "circle"
         },
         "mode": "markers+text",
         "name": "española",
         "scene": "scene",
         "showlegend": true,
         "text": [
          "española"
         ],
         "type": "scatter3d",
         "x": [
          0.04577898606657982
         ],
         "y": [
          -0.00924441497772932
         ],
         "z": [
          "española"
         ]
        },
        {
         "hovertemplate": "color=pasta<br>x=%{x}<br>y=%{y}<br>z=%{z}<br>text=%{text}<extra></extra>",
         "legendgroup": "pasta",
         "marker": {
          "color": "#ab63fa",
          "symbol": "circle"
         },
         "mode": "markers+text",
         "name": "pasta",
         "scene": "scene",
         "showlegend": true,
         "text": [
          "pasta"
         ],
         "type": "scatter3d",
         "x": [
          0.04998788237571716
         ],
         "y": [
          -0.03203883022069931
         ],
         "z": [
          "pasta"
         ]
        },
        {
         "hovertemplate": "color=vetas<br>x=%{x}<br>y=%{y}<br>z=%{z}<br>text=%{text}<extra></extra>",
         "legendgroup": "vetas",
         "marker": {
          "color": "#FFA15A",
          "symbol": "circle"
         },
         "mode": "markers+text",
         "name": "vetas",
         "scene": "scene",
         "showlegend": true,
         "text": [
          "vetas"
         ],
         "type": "scatter3d",
         "x": [
          0.09476246684789658
         ],
         "y": [
          -0.04052659496665001
         ],
         "z": [
          "vetas"
         ]
        },
        {
         "hovertemplate": "color=compararlas<br>x=%{x}<br>y=%{y}<br>z=%{z}<br>text=%{text}<extra></extra>",
         "legendgroup": "compararlas",
         "marker": {
          "color": "#19d3f3",
          "symbol": "circle"
         },
         "mode": "markers+text",
         "name": "compararlas",
         "scene": "scene",
         "showlegend": true,
         "text": [
          "compararlas"
         ],
         "type": "scatter3d",
         "x": [
          0.07365350425243378
         ],
         "y": [
          0.02538500912487507
         ],
         "z": [
          "compararlas"
         ]
        },
        {
         "hovertemplate": "color=pájaro<br>x=%{x}<br>y=%{y}<br>z=%{z}<br>text=%{text}<extra></extra>",
         "legendgroup": "pájaro",
         "marker": {
          "color": "#FF6692",
          "symbol": "circle"
         },
         "mode": "markers+text",
         "name": "pájaro",
         "scene": "scene",
         "showlegend": true,
         "text": [
          "pájaro"
         ],
         "type": "scatter3d",
         "x": [
          0.024817300960421562
         ],
         "y": [
          0.15307654440402985
         ],
         "z": [
          "pájaro"
         ]
        },
        {
         "hovertemplate": "color=1882<br>x=%{x}<br>y=%{y}<br>z=%{z}<br>text=%{text}<extra></extra>",
         "legendgroup": "1882",
         "marker": {
          "color": "#B6E880",
          "symbol": "circle"
         },
         "mode": "markers+text",
         "name": "1882",
         "scene": "scene",
         "showlegend": true,
         "text": [
          "1882"
         ],
         "type": "scatter3d",
         "x": [
          -0.06561169773340225
         ],
         "y": [
          0.05864330381155014
         ],
         "z": [
          "1882"
         ]
        },
        {
         "hovertemplate": "color=abril<br>x=%{x}<br>y=%{y}<br>z=%{z}<br>text=%{text}<extra></extra>",
         "legendgroup": "abril",
         "marker": {
          "color": "#FF97FF",
          "symbol": "circle"
         },
         "mode": "markers+text",
         "name": "abril",
         "scene": "scene",
         "showlegend": true,
         "text": [
          "abril"
         ],
         "type": "scatter3d",
         "x": [
          -0.07938157767057419
         ],
         "y": [
          -0.1842202991247177
         ],
         "z": [
          "abril"
         ]
        },
        {
         "hovertemplate": "color=30<br>x=%{x}<br>y=%{y}<br>z=%{z}<br>text=%{text}<extra></extra>",
         "legendgroup": "30",
         "marker": {
          "color": "#FECB52",
          "symbol": "circle"
         },
         "mode": "markers+text",
         "name": "30",
         "scene": "scene",
         "showlegend": true,
         "text": [
          "30"
         ],
         "type": "scatter3d",
         "x": [
          -0.06915785372257233
         ],
         "y": [
          0.09414363652467728
         ],
         "z": [
          "30"
         ]
        },
        {
         "hovertemplate": "color=amanecer<br>x=%{x}<br>y=%{y}<br>z=%{z}<br>text=%{text}<extra></extra>",
         "legendgroup": "amanecer",
         "marker": {
          "color": "#636efa",
          "symbol": "circle"
         },
         "mode": "markers+text",
         "name": "amanecer",
         "scene": "scene",
         "showlegend": true,
         "text": [
          "amanecer"
         ],
         "type": "scatter3d",
         "x": [
          0.01202242448925972
         ],
         "y": [
          0.005359846632927656
         ],
         "z": [
          "amanecer"
         ]
        },
        {
         "hovertemplate": "color=australes<br>x=%{x}<br>y=%{y}<br>z=%{z}<br>text=%{text}<extra></extra>",
         "legendgroup": "australes",
         "marker": {
          "color": "#EF553B",
          "symbol": "circle"
         },
         "mode": "markers+text",
         "name": "australes",
         "scene": "scene",
         "showlegend": true,
         "text": [
          "australes"
         ],
         "type": "scatter3d",
         "x": [
          -0.02080925926566124
         ],
         "y": [
          0.04112771525979042
         ],
         "z": [
          "australes"
         ]
        },
        {
         "hovertemplate": "color=nubes<br>x=%{x}<br>y=%{y}<br>z=%{z}<br>text=%{text}<extra></extra>",
         "legendgroup": "nubes",
         "marker": {
          "color": "#00cc96",
          "symbol": "circle"
         },
         "mode": "markers+text",
         "name": "nubes",
         "scene": "scene",
         "showlegend": true,
         "text": [
          "nubes"
         ],
         "type": "scatter3d",
         "x": [
          -0.08271028846502304
         ],
         "y": [
          -0.023594481870532036
         ],
         "z": [
          "nubes"
         ]
        },
        {
         "hovertemplate": "color=comprende<br>x=%{x}<br>y=%{y}<br>z=%{z}<br>text=%{text}<extra></extra>",
         "legendgroup": "comprende",
         "marker": {
          "color": "#ab63fa",
          "symbol": "circle"
         },
         "mode": "markers+text",
         "name": "comprende",
         "scene": "scene",
         "showlegend": true,
         "text": [
          "comprende"
         ],
         "type": "scatter3d",
         "x": [
          -0.11751951277256012
         ],
         "y": [
          0.019571732729673386
         ],
         "z": [
          "comprende"
         ]
        },
        {
         "hovertemplate": "color=sintió<br>x=%{x}<br>y=%{y}<br>z=%{z}<br>text=%{text}<extra></extra>",
         "legendgroup": "sintió",
         "marker": {
          "color": "#FFA15A",
          "symbol": "circle"
         },
         "mode": "markers+text",
         "name": "sintió",
         "scene": "scene",
         "showlegend": true,
         "text": [
          "sintió"
         ],
         "type": "scatter3d",
         "x": [
          0.04858116805553436
         ],
         "y": [
          -0.006285994779318571
         ],
         "z": [
          "sintió"
         ]
        },
        {
         "hovertemplate": "color=frutos<br>x=%{x}<br>y=%{y}<br>z=%{z}<br>text=%{text}<extra></extra>",
         "legendgroup": "frutos",
         "marker": {
          "color": "#19d3f3",
          "symbol": "circle"
         },
         "mode": "markers+text",
         "name": "frutos",
         "scene": "scene",
         "showlegend": true,
         "text": [
          "frutos"
         ],
         "type": "scatter3d",
         "x": [
          0.029822014272212982
         ],
         "y": [
          0.0005452323821373284
         ],
         "z": [
          "frutos"
         ]
        },
        {
         "hovertemplate": "color=racimos<br>x=%{x}<br>y=%{y}<br>z=%{z}<br>text=%{text}<extra></extra>",
         "legendgroup": "racimos",
         "marker": {
          "color": "#FF6692",
          "symbol": "circle"
         },
         "mode": "markers+text",
         "name": "racimos",
         "scene": "scene",
         "showlegend": true,
         "text": [
          "racimos"
         ],
         "type": "scatter3d",
         "x": [
          0.04898194596171379
         ],
         "y": [
          0.038064174354076385
         ],
         "z": [
          "racimos"
         ]
        },
        {
         "hovertemplate": "color=vástagos<br>x=%{x}<br>y=%{y}<br>z=%{z}<br>text=%{text}<extra></extra>",
         "legendgroup": "vástagos",
         "marker": {
          "color": "#B6E880",
          "symbol": "circle"
         },
         "mode": "markers+text",
         "name": "vástagos",
         "scene": "scene",
         "showlegend": true,
         "text": [
          "vástagos"
         ],
         "type": "scatter3d",
         "x": [
          -0.03893068805336952
         ],
         "y": [
          0.009821979328989983
         ],
         "z": [
          "vástagos"
         ]
        },
        {
         "hovertemplate": "color=mesa<br>x=%{x}<br>y=%{y}<br>z=%{z}<br>text=%{text}<extra></extra>",
         "legendgroup": "mesa",
         "marker": {
          "color": "#FF97FF",
          "symbol": "circle"
         },
         "mode": "markers+text",
         "name": "mesa",
         "scene": "scene",
         "showlegend": true,
         "text": [
          "mesa"
         ],
         "type": "scatter3d",
         "x": [
          0.05481678247451782
         ],
         "y": [
          0.0661352127790451
         ],
         "z": [
          "mesa"
         ]
        },
        {
         "hovertemplate": "color=copas<br>x=%{x}<br>y=%{y}<br>z=%{z}<br>text=%{text}<extra></extra>",
         "legendgroup": "copas",
         "marker": {
          "color": "#FECB52",
          "symbol": "circle"
         },
         "mode": "markers+text",
         "name": "copas",
         "scene": "scene",
         "showlegend": true,
         "text": [
          "copas"
         ],
         "type": "scatter3d",
         "x": [
          -0.03910467401146889
         ],
         "y": [
          -0.06018868088722229
         ],
         "z": [
          "copas"
         ]
        },
        {
         "hovertemplate": "color=percibimos<br>x=%{x}<br>y=%{y}<br>z=%{z}<br>text=%{text}<extra></extra>",
         "legendgroup": "percibimos",
         "marker": {
          "color": "#636efa",
          "symbol": "circle"
         },
         "mode": "markers+text",
         "name": "percibimos",
         "scene": "scene",
         "showlegend": true,
         "text": [
          "percibimos"
         ],
         "type": "scatter3d",
         "x": [
          0.03446413576602936
         ],
         "y": [
          -0.01891392283141613
         ],
         "z": [
          "percibimos"
         ]
        },
        {
         "hovertemplate": "color=vistazo<br>x=%{x}<br>y=%{y}<br>z=%{z}<br>text=%{text}<extra></extra>",
         "legendgroup": "vistazo",
         "marker": {
          "color": "#EF553B",
          "symbol": "circle"
         },
         "mode": "markers+text",
         "name": "vistazo",
         "scene": "scene",
         "showlegend": true,
         "text": [
          "vistazo"
         ],
         "type": "scatter3d",
         "x": [
          -0.16380798816680908
         ],
         "y": [
          0.07875723391771317
         ],
         "z": [
          "vistazo"
         ]
        },
        {
         "hovertemplate": "color=nosotros<br>x=%{x}<br>y=%{y}<br>z=%{z}<br>text=%{text}<extra></extra>",
         "legendgroup": "nosotros",
         "marker": {
          "color": "#00cc96",
          "symbol": "circle"
         },
         "mode": "markers+text",
         "name": "nosotros",
         "scene": "scene",
         "showlegend": true,
         "text": [
          "nosotros"
         ],
         "type": "scatter3d",
         "x": [
          -0.13913334906101227
         ],
         "y": [
          -0.0110654691234231
         ],
         "z": [
          "nosotros"
         ]
        },
        {
         "hovertemplate": "color=infalibles<br>x=%{x}<br>y=%{y}<br>z=%{z}<br>text=%{text}<extra></extra>",
         "legendgroup": "infalibles",
         "marker": {
          "color": "#ab63fa",
          "symbol": "circle"
         },
         "mode": "markers+text",
         "name": "infalibles",
         "scene": "scene",
         "showlegend": true,
         "text": [
          "infalibles"
         ],
         "type": "scatter3d",
         "x": [
          -0.07103747874498367
         ],
         "y": [
          -0.010034710168838501
         ],
         "z": [
          "infalibles"
         ]
        },
        {
         "hovertemplate": "color=mínimo<br>x=%{x}<br>y=%{y}<br>z=%{z}<br>text=%{text}<extra></extra>",
         "legendgroup": "mínimo",
         "marker": {
          "color": "#FFA15A",
          "symbol": "circle"
         },
         "mode": "markers+text",
         "name": "mínimo",
         "scene": "scene",
         "showlegend": true,
         "text": [
          "mínimo"
         ],
         "type": "scatter3d",
         "x": [
          0.044020876288414
         ],
         "y": [
          -0.007239332422614098
         ],
         "z": [
          "mínimo"
         ]
        },
        {
         "hovertemplate": "color=precio<br>x=%{x}<br>y=%{y}<br>z=%{z}<br>text=%{text}<extra></extra>",
         "legendgroup": "precio",
         "marker": {
          "color": "#19d3f3",
          "symbol": "circle"
         },
         "mode": "markers+text",
         "name": "precio",
         "scene": "scene",
         "showlegend": true,
         "text": [
          "precio"
         ],
         "type": "scatter3d",
         "x": [
          -0.07117747515439987
         ],
         "y": [
          0.09300905466079712
         ],
         "z": [
          "precio"
         ]
        },
        {
         "hovertemplate": "color=mirado<br>x=%{x}<br>y=%{y}<br>z=%{z}<br>text=%{text}<extra></extra>",
         "legendgroup": "mirado",
         "marker": {
          "color": "#FF6692",
          "symbol": "circle"
         },
         "mode": "markers+text",
         "name": "mirado",
         "scene": "scene",
         "showlegend": true,
         "text": [
          "mirado"
         ],
         "type": "scatter3d",
         "x": [
          -0.03554949164390564
         ],
         "y": [
          0.11183969676494598
         ],
         "z": [
          "mirado"
         ]
        },
        {
         "hovertemplate": "color=líneas<br>x=%{x}<br>y=%{y}<br>z=%{z}<br>text=%{text}<extra></extra>",
         "legendgroup": "líneas",
         "marker": {
          "color": "#B6E880",
          "symbol": "circle"
         },
         "mode": "markers+text",
         "name": "líneas",
         "scene": "scene",
         "showlegend": true,
         "text": [
          "líneas"
         ],
         "type": "scatter3d",
         "x": [
          0.08886430412530899
         ],
         "y": [
          0.12175831198692322
         ],
         "z": [
          "líneas"
         ]
        },
        {
         "hovertemplate": "color=espuma<br>x=%{x}<br>y=%{y}<br>z=%{z}<br>text=%{text}<extra></extra>",
         "legendgroup": "espuma",
         "marker": {
          "color": "#FF97FF",
          "symbol": "circle"
         },
         "mode": "markers+text",
         "name": "espuma",
         "scene": "scene",
         "showlegend": true,
         "text": [
          "espuma"
         ],
         "type": "scatter3d",
         "x": [
          -0.1021312028169632
         ],
         "y": [
          0.08255155384540558
         ],
         "z": [
          "espuma"
         ]
        },
        {
         "hovertemplate": "color=remo<br>x=%{x}<br>y=%{y}<br>z=%{z}<br>text=%{text}<extra></extra>",
         "legendgroup": "remo",
         "marker": {
          "color": "#FECB52",
          "symbol": "circle"
         },
         "mode": "markers+text",
         "name": "remo",
         "scene": "scene",
         "showlegend": true,
         "text": [
          "remo"
         ],
         "type": "scatter3d",
         "x": [
          -0.03786107152700424
         ],
         "y": [
          0.02812061458826065
         ],
         "z": [
          "remo"
         ]
        },
        {
         "hovertemplate": "color=requerido<br>x=%{x}<br>y=%{y}<br>z=%{z}<br>text=%{text}<extra></extra>",
         "legendgroup": "requerido",
         "marker": {
          "color": "#636efa",
          "symbol": "circle"
         },
         "mode": "markers+text",
         "name": "requerido",
         "scene": "scene",
         "showlegend": true,
         "text": [
          "requerido"
         ],
         "type": "scatter3d",
         "x": [
          -0.014307740144431591
         ],
         "y": [
          0.03358471766114235
         ],
         "z": [
          "requerido"
         ]
        },
        {
         "hovertemplate": "color=reconstrucción<br>x=%{x}<br>y=%{y}<br>z=%{z}<br>text=%{text}<extra></extra>",
         "legendgroup": "reconstrucción",
         "marker": {
          "color": "#EF553B",
          "symbol": "circle"
         },
         "mode": "markers+text",
         "name": "reconstrucción",
         "scene": "scene",
         "showlegend": true,
         "text": [
          "reconstrucción"
         ],
         "type": "scatter3d",
         "x": [
          -0.06050465628504753
         ],
         "y": [
          -0.008431171998381615
         ],
         "z": [
          "reconstrucción"
         ]
        },
        {
         "hovertemplate": "color=nunca<br>x=%{x}<br>y=%{y}<br>z=%{z}<br>text=%{text}<extra></extra>",
         "legendgroup": "nunca",
         "marker": {
          "color": "#00cc96",
          "symbol": "circle"
         },
         "mode": "markers+text",
         "name": "nunca",
         "scene": "scene",
         "showlegend": true,
         "text": [
          "nunca"
         ],
         "type": "scatter3d",
         "x": [
          0.06957825273275375
         ],
         "y": [
          0.0035147275775671005
         ],
         "z": [
          "nunca"
         ]
        },
        {
         "hovertemplate": "color=dudado<br>x=%{x}<br>y=%{y}<br>z=%{z}<br>text=%{text}<extra></extra>",
         "legendgroup": "dudado",
         "marker": {
          "color": "#ab63fa",
          "symbol": "circle"
         },
         "mode": "markers+text",
         "name": "dudado",
         "scene": "scene",
         "showlegend": true,
         "text": [
          "dudado"
         ],
         "type": "scatter3d",
         "x": [
          0.10102173686027527
         ],
         "y": [
          -0.034373220056295395
         ],
         "z": [
          "dudado"
         ]
        },
        {
         "hovertemplate": "color=reprobó<br>x=%{x}<br>y=%{y}<br>z=%{z}<br>text=%{text}<extra></extra>",
         "legendgroup": "reprobó",
         "marker": {
          "color": "#FFA15A",
          "symbol": "circle"
         },
         "mode": "markers+text",
         "name": "reprobó",
         "scene": "scene",
         "showlegend": true,
         "text": [
          "reprobó"
         ],
         "type": "scatter3d",
         "x": [
          -0.039027076214551926
         ],
         "y": [
          0.00873457919806242
         ],
         "z": [
          "reprobó"
         ]
        },
        {
         "hovertemplate": "color=reconstruido<br>x=%{x}<br>y=%{y}<br>z=%{z}<br>text=%{text}<extra></extra>",
         "legendgroup": "reconstruido",
         "marker": {
          "color": "#19d3f3",
          "symbol": "circle"
         },
         "mode": "markers+text",
         "name": "reconstruido",
         "scene": "scene",
         "showlegend": true,
         "text": [
          "reconstruido"
         ],
         "type": "scatter3d",
         "x": [
          -0.037773553282022476
         ],
         "y": [
          -0.004220112692564726
         ],
         "z": [
          "reconstruido"
         ]
        },
        {
         "hovertemplate": "color=reconstruir<br>x=%{x}<br>y=%{y}<br>z=%{z}<br>text=%{text}<extra></extra>",
         "legendgroup": "reconstruir",
         "marker": {
          "color": "#FF6692",
          "symbol": "circle"
         },
         "mode": "markers+text",
         "name": "reconstruir",
         "scene": "scene",
         "showlegend": true,
         "text": [
          "reconstruir"
         ],
         "type": "scatter3d",
         "x": [
          -0.06498949974775314
         ],
         "y": [
          -0.06934405863285065
         ],
         "z": [
          "reconstruir"
         ]
        },
        {
         "hovertemplate": "color=etcétera<br>x=%{x}<br>y=%{y}<br>z=%{z}<br>text=%{text}<extra></extra>",
         "legendgroup": "etcétera",
         "marker": {
          "color": "#B6E880",
          "symbol": "circle"
         },
         "mode": "markers+text",
         "name": "etcétera",
         "scene": "scene",
         "showlegend": true,
         "text": [
          "etcétera"
         ],
         "type": "scatter3d",
         "x": [
          -0.0428178533911705
         ],
         "y": [
          -0.139150008559227
         ],
         "z": [
          "etcétera"
         ]
        },
        {
         "hovertemplate": "color=térmicas<br>x=%{x}<br>y=%{y}<br>z=%{z}<br>text=%{text}<extra></extra>",
         "legendgroup": "térmicas",
         "marker": {
          "color": "#FF97FF",
          "symbol": "circle"
         },
         "mode": "markers+text",
         "name": "térmicas",
         "scene": "scene",
         "showlegend": true,
         "text": [
          "térmicas"
         ],
         "type": "scatter3d",
         "x": [
          0.09634329378604889
         ],
         "y": [
          0.06439825147390366
         ],
         "z": [
          "térmicas"
         ]
        },
        {
         "hovertemplate": "color=musculares<br>x=%{x}<br>y=%{y}<br>z=%{z}<br>text=%{text}<extra></extra>",
         "legendgroup": "musculares",
         "marker": {
          "color": "#FECB52",
          "symbol": "circle"
         },
         "mode": "markers+text",
         "name": "musculares",
         "scene": "scene",
         "showlegend": true,
         "text": [
          "musculares"
         ],
         "type": "scatter3d",
         "x": [
          -0.01944741979241371
         ],
         "y": [
          0.0773765817284584
         ],
         "z": [
          "musculares"
         ]
        },
        {
         "hovertemplate": "color=sensaciones<br>x=%{x}<br>y=%{y}<br>z=%{z}<br>text=%{text}<extra></extra>",
         "legendgroup": "sensaciones",
         "marker": {
          "color": "#636efa",
          "symbol": "circle"
         },
         "mode": "markers+text",
         "name": "sensaciones",
         "scene": "scene",
         "showlegend": true,
         "text": [
          "sensaciones"
         ],
         "type": "scatter3d",
         "x": [
          -0.054182276129722595
         ],
         "y": [
          0.09038998931646347
         ],
         "z": [
          "sensaciones"
         ]
        },
        {
         "hovertemplate": "color=ligada<br>x=%{x}<br>y=%{y}<br>z=%{z}<br>text=%{text}<extra></extra>",
         "legendgroup": "ligada",
         "marker": {
          "color": "#EF553B",
          "symbol": "circle"
         },
         "mode": "markers+text",
         "name": "ligada",
         "scene": "scene",
         "showlegend": true,
         "text": [
          "ligada"
         ],
         "type": "scatter3d",
         "x": [
          0.009235274977982044
         ],
         "y": [
          0.05008907616138458
         ],
         "z": [
          "ligada"
         ]
        },
        {
         "hovertemplate": "color=visual<br>x=%{x}<br>y=%{y}<br>z=%{z}<br>text=%{text}<extra></extra>",
         "legendgroup": "visual",
         "marker": {
          "color": "#00cc96",
          "symbol": "circle"
         },
         "mode": "markers+text",
         "name": "visual",
         "scene": "scene",
         "showlegend": true,
         "text": [
          "visual"
         ],
         "type": "scatter3d",
         "x": [
          0.0529542937874794
         ],
         "y": [
          0.0764312818646431
         ],
         "z": [
          "visual"
         ]
        },
        {
         "hovertemplate": "color=imagen<br>x=%{x}<br>y=%{y}<br>z=%{z}<br>text=%{text}<extra></extra>",
         "legendgroup": "imagen",
         "marker": {
          "color": "#ab63fa",
          "symbol": "circle"
         },
         "mode": "markers+text",
         "name": "imagen",
         "scene": "scene",
         "showlegend": true,
         "text": [
          "imagen"
         ],
         "type": "scatter3d",
         "x": [
          -0.020876936614513397
         ],
         "y": [
          0.0214875265955925
         ],
         "z": [
          "imagen"
         ]
        },
        {
         "hovertemplate": "color=imposible<br>x=%{x}<br>y=%{y}<br>z=%{z}<br>text=%{text}<extra></extra>",
         "legendgroup": "imposible",
         "marker": {
          "color": "#FFA15A",
          "symbol": "circle"
         },
         "mode": "markers+text",
         "name": "imposible",
         "scene": "scene",
         "showlegend": true,
         "text": [
          "imposible"
         ],
         "type": "scatter3d",
         "x": [
          -0.04116874188184738
         ],
         "y": [
          0.054982464760541916
         ],
         "z": [
          "imposible"
         ]
        },
        {
         "hovertemplate": "color=simples<br>x=%{x}<br>y=%{y}<br>z=%{z}<br>text=%{text}<extra></extra>",
         "legendgroup": "simples",
         "marker": {
          "color": "#19d3f3",
          "symbol": "circle"
         },
         "mode": "markers+text",
         "name": "simples",
         "scene": "scene",
         "showlegend": true,
         "text": [
          "simples"
         ],
         "type": "scatter3d",
         "x": [
          -0.0031263912096619606
         ],
         "y": [
          0.03309507295489311
         ],
         "z": [
          "simples"
         ]
        },
        {
         "hovertemplate": "color=cosa<br>x=%{x}<br>y=%{y}<br>z=%{z}<br>text=%{text}<extra></extra>",
         "legendgroup": "cosa",
         "marker": {
          "color": "#FF6692",
          "symbol": "circle"
         },
         "mode": "markers+text",
         "name": "cosa",
         "scene": "scene",
         "showlegend": true,
         "text": [
          "cosa"
         ],
         "type": "scatter3d",
         "x": [
          0.05289939045906067
         ],
         "y": [
          0.034446269273757935
         ],
         "z": [
          "cosa"
         ]
        },
        {
         "hovertemplate": "color=quebracho<br>x=%{x}<br>y=%{y}<br>z=%{z}<br>text=%{text}<extra></extra>",
         "legendgroup": "quebracho",
         "marker": {
          "color": "#B6E880",
          "symbol": "circle"
         },
         "mode": "markers+text",
         "name": "quebracho",
         "scene": "scene",
         "showlegend": true,
         "text": [
          "quebracho"
         ],
         "type": "scatter3d",
         "x": [
          -0.05233035236597061
         ],
         "y": [
          0.013311998918652534
         ],
         "z": [
          "quebracho"
         ]
        },
        {
         "hovertemplate": "color=acción<br>x=%{x}<br>y=%{y}<br>z=%{z}<br>text=%{text}<extra></extra>",
         "legendgroup": "acción",
         "marker": {
          "color": "#FF97FF",
          "symbol": "circle"
         },
         "mode": "markers+text",
         "name": "acción",
         "scene": "scene",
         "showlegend": true,
         "text": [
          "acción"
         ],
         "type": "scatter3d",
         "x": [
          -0.04779728129506111
         ],
         "y": [
          -0.03756868839263916
         ],
         "z": [
          "acción"
         ]
        },
        {
         "hovertemplate": "color=víspera<br>x=%{x}<br>y=%{y}<br>z=%{z}<br>text=%{text}<extra></extra>",
         "legendgroup": "víspera",
         "marker": {
          "color": "#FECB52",
          "symbol": "circle"
         },
         "mode": "markers+text",
         "name": "víspera",
         "scene": "scene",
         "showlegend": true,
         "text": [
          "víspera"
         ],
         "type": "scatter3d",
         "x": [
          -0.05216732248663902
         ],
         "y": [
          -0.03353069722652435
         ],
         "z": [
          "víspera"
         ]
        },
        {
         "hovertemplate": "color=individual<br>x=%{x}<br>y=%{y}<br>z=%{z}<br>text=%{text}<extra></extra>",
         "legendgroup": "individual",
         "marker": {
          "color": "#636efa",
          "symbol": "circle"
         },
         "mode": "markers+text",
         "name": "individual",
         "scene": "scene",
         "showlegend": true,
         "text": [
          "individual"
         ],
         "type": "scatter3d",
         "x": [
          -0.001596987945958972
         ],
         "y": [
          0.0293203704059124
         ],
         "z": [
          "individual"
         ]
        },
        {
         "hovertemplate": "color=piedra<br>x=%{x}<br>y=%{y}<br>z=%{z}<br>text=%{text}<extra></extra>",
         "legendgroup": "piedra",
         "marker": {
          "color": "#EF553B",
          "symbol": "circle"
         },
         "mode": "markers+text",
         "name": "piedra",
         "scene": "scene",
         "showlegend": true,
         "text": [
          "piedra"
         ],
         "type": "scatter3d",
         "x": [
          -0.062372129410505295
         ],
         "y": [
          0.11404434591531754
         ],
         "z": [
          "piedra"
         ]
        },
        {
         "hovertemplate": "color=levantó<br>x=%{x}<br>y=%{y}<br>z=%{z}<br>text=%{text}<extra></extra>",
         "legendgroup": "levantó",
         "marker": {
          "color": "#00cc96",
          "symbol": "circle"
         },
         "mode": "markers+text",
         "name": "levantó",
         "scene": "scene",
         "showlegend": true,
         "text": [
          "levantó"
         ],
         "type": "scatter3d",
         "x": [
          0.011398274451494217
         ],
         "y": [
          -0.07452698051929474
         ],
         "z": [
          "levantó"
         ]
        },
        {
         "hovertemplate": "color=inmovilidad<br>x=%{x}<br>y=%{y}<br>z=%{z}<br>text=%{text}<extra></extra>",
         "legendgroup": "inmovilidad",
         "marker": {
          "color": "#ab63fa",
          "symbol": "circle"
         },
         "mode": "markers+text",
         "name": "inmovilidad",
         "scene": "scene",
         "showlegend": true,
         "text": [
          "inmovilidad"
         ],
         "type": "scatter3d",
         "x": [
          0.08121366053819656
         ],
         "y": [
          0.0232622679322958
         ],
         "z": [
          "inmovilidad"
         ]
        },
        {
         "hovertemplate": "color=razonó<br>x=%{x}<br>y=%{y}<br>z=%{z}<br>text=%{text}<extra></extra>",
         "legendgroup": "razonó",
         "marker": {
          "color": "#FFA15A",
          "symbol": "circle"
         },
         "mode": "markers+text",
         "name": "razonó",
         "scene": "scene",
         "showlegend": true,
         "text": [
          "razonó"
         ],
         "type": "scatter3d",
         "x": [
          -0.07675136625766754
         ],
         "y": [
          0.048266127705574036
         ],
         "z": [
          "razonó"
         ]
        },
        {
         "hovertemplate": "color=habrán<br>x=%{x}<br>y=%{y}<br>z=%{z}<br>text=%{text}<extra></extra>",
         "legendgroup": "habrán",
         "marker": {
          "color": "#19d3f3",
          "symbol": "circle"
         },
         "mode": "markers+text",
         "name": "habrán",
         "scene": "scene",
         "showlegend": true,
         "text": [
          "habrán"
         ],
         "type": "scatter3d",
         "x": [
          -0.04657365754246712
         ],
         "y": [
          -0.10165605694055557
         ],
         "z": [
          "habrán"
         ]
        },
        {
         "hovertemplate": "color=análogo<br>x=%{x}<br>y=%{y}<br>z=%{z}<br>text=%{text}<extra></extra>",
         "legendgroup": "análogo",
         "marker": {
          "color": "#FF6692",
          "symbol": "circle"
         },
         "mode": "markers+text",
         "name": "análogo",
         "scene": "scene",
         "showlegend": true,
         "text": [
          "análogo"
         ],
         "type": "scatter3d",
         "x": [
          0.014224928803741932
         ],
         "y": [
          0.1318342536687851
         ],
         "z": [
          "análogo"
         ]
        },
        {
         "hovertemplate": "color=recordarle<br>x=%{x}<br>y=%{y}<br>z=%{z}<br>text=%{text}<extra></extra>",
         "legendgroup": "recordarle",
         "marker": {
          "color": "#B6E880",
          "symbol": "circle"
         },
         "mode": "markers+text",
         "name": "recordarle",
         "scene": "scene",
         "showlegend": true,
         "text": [
          "recordarle"
         ],
         "type": "scatter3d",
         "x": [
          -0.0021343440748751163
         ],
         "y": [
          -0.038739122450351715
         ],
         "z": [
          "recordarle"
         ]
        },
        {
         "hovertemplate": "color=proyectó<br>x=%{x}<br>y=%{y}<br>z=%{z}<br>text=%{text}<extra></extra>",
         "legendgroup": "proyectó",
         "marker": {
          "color": "#FF97FF",
          "symbol": "circle"
         },
         "mode": "markers+text",
         "name": "proyectó",
         "scene": "scene",
         "showlegend": true,
         "text": [
          "proyectó"
         ],
         "type": "scatter3d",
         "x": [
          0.036833520978689194
         ],
         "y": [
          -0.13583561778068542
         ],
         "z": [
          "proyectó"
         ]
        },
        {
         "hovertemplate": "color=desmemoriado<br>x=%{x}<br>y=%{y}<br>z=%{z}<br>text=%{text}<extra></extra>",
         "legendgroup": "desmemoriado",
         "marker": {
          "color": "#FECB52",
          "symbol": "circle"
         },
         "mode": "markers+text",
         "name": "desmemoriado",
         "scene": "scene",
         "showlegend": true,
         "text": [
          "desmemoriado"
         ],
         "type": "scatter3d",
         "x": [
          0.050841107964515686
         ],
         "y": [
          0.10833654552698135
         ],
         "z": [
          "desmemoriado"
         ]
        },
        {
         "hovertemplate": "color=abombado<br>x=%{x}<br>y=%{y}<br>z=%{z}<br>text=%{text}<extra></extra>",
         "legendgroup": "abombado",
         "marker": {
          "color": "#636efa",
          "symbol": "circle"
         },
         "mode": "markers+text",
         "name": "abombado",
         "scene": "scene",
         "showlegend": true,
         "text": [
          "abombado"
         ],
         "type": "scatter3d",
         "x": [
          -0.07964503765106201
         ],
         "y": [
          0.024341516196727753
         ],
         "z": [
          "abombado"
         ]
        },
        {
         "hovertemplate": "color=sordo<br>x=%{x}<br>y=%{y}<br>z=%{z}<br>text=%{text}<extra></extra>",
         "legendgroup": "sordo",
         "marker": {
          "color": "#EF553B",
          "symbol": "circle"
         },
         "mode": "markers+text",
         "name": "sordo",
         "scene": "scene",
         "showlegend": true,
         "text": [
          "sordo"
         ],
         "type": "scatter3d",
         "x": [
          -0.06316333264112473
         ],
         "y": [
          -0.05684565752744675
         ],
         "z": [
          "sordo"
         ]
        },
        {
         "hovertemplate": "color=ciego<br>x=%{x}<br>y=%{y}<br>z=%{z}<br>text=%{text}<extra></extra>",
         "legendgroup": "ciego",
         "marker": {
          "color": "#00cc96",
          "symbol": "circle"
         },
         "mode": "markers+text",
         "name": "ciego",
         "scene": "scene",
         "showlegend": true,
         "text": [
          "ciego"
         ],
         "type": "scatter3d",
         "x": [
          -0.03093085065484047
         ],
         "y": [
          -0.02845127508044243
         ],
         "z": [
          "ciego"
         ]
        },
        {
         "hovertemplate": "color=cristianos<br>x=%{x}<br>y=%{y}<br>z=%{z}<br>text=%{text}<extra></extra>",
         "legendgroup": "cristianos",
         "marker": {
          "color": "#ab63fa",
          "symbol": "circle"
         },
         "mode": "markers+text",
         "name": "cristianos",
         "scene": "scene",
         "showlegend": true,
         "text": [
          "cristianos"
         ],
         "type": "scatter3d",
         "x": [
          0.01808059588074684
         ],
         "y": [
          -0.07068055123090744
         ],
         "z": [
          "cristianos"
         ]
        },
        {
         "hovertemplate": "color=sido<br>x=%{x}<br>y=%{y}<br>z=%{z}<br>text=%{text}<extra></extra>",
         "legendgroup": "sido",
         "marker": {
          "color": "#FFA15A",
          "symbol": "circle"
         },
         "mode": "markers+text",
         "name": "sido",
         "scene": "scene",
         "showlegend": true,
         "text": [
          "sido"
         ],
         "type": "scatter3d",
         "x": [
          -0.06898640096187592
         ],
         "y": [
          0.005923517048358917
         ],
         "z": [
          "sido"
         ]
        },
        {
         "hovertemplate": "color=azulejo<br>x=%{x}<br>y=%{y}<br>z=%{z}<br>text=%{text}<extra></extra>",
         "legendgroup": "azulejo",
         "marker": {
          "color": "#19d3f3",
          "symbol": "circle"
         },
         "mode": "markers+text",
         "name": "azulejo",
         "scene": "scene",
         "showlegend": true,
         "text": [
          "azulejo"
         ],
         "type": "scatter3d",
         "x": [
          0.005456582643091679
         ],
         "y": [
          0.005204503890126944
         ],
         "z": [
          "azulejo"
         ]
        },
        {
         "hovertemplate": "color=volteó<br>x=%{x}<br>y=%{y}<br>z=%{z}<br>text=%{text}<extra></extra>",
         "legendgroup": "volteó",
         "marker": {
          "color": "#FF6692",
          "symbol": "circle"
         },
         "mode": "markers+text",
         "name": "volteó",
         "scene": "scene",
         "showlegend": true,
         "text": [
          "volteó"
         ],
         "type": "scatter3d",
         "x": [
          -0.08151604235172272
         ],
         "y": [
          -0.058969080448150635
         ],
         "z": [
          "volteó"
         ]
        },
        {
         "hovertemplate": "color=lluviosa<br>x=%{x}<br>y=%{y}<br>z=%{z}<br>text=%{text}<extra></extra>",
         "legendgroup": "lluviosa",
         "marker": {
          "color": "#B6E880",
          "symbol": "circle"
         },
         "mode": "markers+text",
         "name": "lluviosa",
         "scene": "scene",
         "showlegend": true,
         "text": [
          "lluviosa"
         ],
         "type": "scatter3d",
         "x": [
          0.04553581774234772
         ],
         "y": [
          -0.045194778591394424
         ],
         "z": [
          "lluviosa"
         ]
        },
        {
         "hovertemplate": "color=antes<br>x=%{x}<br>y=%{y}<br>z=%{z}<br>text=%{text}<extra></extra>",
         "legendgroup": "antes",
         "marker": {
          "color": "#FF97FF",
          "symbol": "circle"
         },
         "mode": "markers+text",
         "name": "antes",
         "scene": "scene",
         "showlegend": true,
         "text": [
          "antes"
         ],
         "type": "scatter3d",
         "x": [
          0.038635317236185074
         ],
         "y": [
          -0.06929511576890945
         ],
         "z": [
          "antes"
         ]
        },
        {
         "hovertemplate": "color=interesó<br>x=%{x}<br>y=%{y}<br>z=%{z}<br>text=%{text}<extra></extra>",
         "legendgroup": "interesó",
         "marker": {
          "color": "#FECB52",
          "symbol": "circle"
         },
         "mode": "markers+text",
         "name": "interesó",
         "scene": "scene",
         "showlegend": true,
         "text": [
          "interesó"
         ],
         "type": "scatter3d",
         "x": [
          0.028103364631533623
         ],
         "y": [
          0.05356041342020035
         ],
         "z": [
          "interesó"
         ]
        },
        {
         "hovertemplate": "color=maravillaran<br>x=%{x}<br>y=%{y}<br>z=%{z}<br>text=%{text}<extra></extra>",
         "legendgroup": "maravillaran",
         "marker": {
          "color": "#636efa",
          "symbol": "circle"
         },
         "mode": "markers+text",
         "name": "maravillaran",
         "scene": "scene",
         "showlegend": true,
         "text": [
          "maravillaran"
         ],
         "type": "scatter3d",
         "x": [
          -0.09383442997932434
         ],
         "y": [
          0.11244896054267883
         ],
         "z": [
          "maravillaran"
         ]
        },
        {
         "hovertemplate": "color=tales<br>x=%{x}<br>y=%{y}<br>z=%{z}<br>text=%{text}<extra></extra>",
         "legendgroup": "tales",
         "marker": {
          "color": "#EF553B",
          "symbol": "circle"
         },
         "mode": "markers+text",
         "name": "tales",
         "scene": "scene",
         "showlegend": true,
         "text": [
          "tales"
         ],
         "type": "scatter3d",
         "x": [
          -0.011451072059571743
         ],
         "y": [
          0.06025504320859909
         ],
         "z": [
          "tales"
         ]
        },
        {
         "hovertemplate": "color=maravilló<br>x=%{x}<br>y=%{y}<br>z=%{z}<br>text=%{text}<extra></extra>",
         "legendgroup": "maravilló",
         "marker": {
          "color": "#00cc96",
          "symbol": "circle"
         },
         "mode": "markers+text",
         "name": "maravilló",
         "scene": "scene",
         "showlegend": true,
         "text": [
          "maravilló"
         ],
         "type": "scatter3d",
         "x": [
          -0.03899658843874931
         ],
         "y": [
          0.11661753058433533
         ],
         "z": [
          "maravilló"
         ]
        },
        {
         "hovertemplate": "color=fe<br>x=%{x}<br>y=%{y}<br>z=%{z}<br>text=%{text}<extra></extra>",
         "legendgroup": "fe",
         "marker": {
          "color": "#ab63fa",
          "symbol": "circle"
         },
         "mode": "markers+text",
         "name": "fe",
         "scene": "scene",
         "showlegend": true,
         "text": [
          "fe"
         ],
         "type": "scatter3d",
         "x": [
          -0.07060403376817703
         ],
         "y": [
          -0.05365799739956856
         ],
         "z": [
          "fe"
         ]
        },
        {
         "hovertemplate": "color=evidente<br>x=%{x}<br>y=%{y}<br>z=%{z}<br>text=%{text}<extra></extra>",
         "legendgroup": "evidente",
         "marker": {
          "color": "#FFA15A",
          "symbol": "circle"
         },
         "mode": "markers+text",
         "name": "evidente",
         "scene": "scene",
         "showlegend": true,
         "text": [
          "evidente"
         ],
         "type": "scatter3d",
         "x": [
          0.020299408584833145
         ],
         "y": [
          0.06072315573692322
         ],
         "z": [
          "evidente"
         ]
        },
        {
         "hovertemplate": "color=desechó<br>x=%{x}<br>y=%{y}<br>z=%{z}<br>text=%{text}<extra></extra>",
         "legendgroup": "desechó",
         "marker": {
          "color": "#19d3f3",
          "symbol": "circle"
         },
         "mode": "markers+text",
         "name": "desechó",
         "scene": "scene",
         "showlegend": true,
         "text": [
          "desechó"
         ],
         "type": "scatter3d",
         "x": [
          -0.06653100997209549
         ],
         "y": [
          0.027333304286003113
         ],
         "z": [
          "desechó"
         ]
        },
        {
         "hovertemplate": "color=escuchado<br>x=%{x}<br>y=%{y}<br>z=%{z}<br>text=%{text}<extra></extra>",
         "legendgroup": "escuchado",
         "marker": {
          "color": "#FF6692",
          "symbol": "circle"
         },
         "mode": "markers+text",
         "name": "escuchado",
         "scene": "scene",
         "showlegend": true,
         "text": [
          "escuchado"
         ],
         "type": "scatter3d",
         "x": [
          -0.015417243354022503
         ],
         "y": [
          -0.05617356300354004
         ],
         "z": [
          "escuchado"
         ]
        },
        {
         "hovertemplate": "color=fidelidad<br>x=%{x}<br>y=%{y}<br>z=%{z}<br>text=%{text}<extra></extra>",
         "legendgroup": "fidelidad",
         "marker": {
          "color": "#B6E880",
          "symbol": "circle"
         },
         "mode": "markers+text",
         "name": "fidelidad",
         "scene": "scene",
         "showlegend": true,
         "text": [
          "fidelidad"
         ],
         "type": "scatter3d",
         "x": [
          0.08026345074176788
         ],
         "y": [
          -0.14591537415981293
         ],
         "z": [
          "fidelidad"
         ]
        },
        {
         "hovertemplate": "color=repetir<br>x=%{x}<br>y=%{y}<br>z=%{z}<br>text=%{text}<extra></extra>",
         "legendgroup": "repetir",
         "marker": {
          "color": "#FF97FF",
          "symbol": "circle"
         },
         "mode": "markers+text",
         "name": "repetir",
         "scene": "scene",
         "showlegend": true,
         "text": [
          "repetir"
         ],
         "type": "scatter3d",
         "x": [
          -0.07934477180242538
         ],
         "y": [
          0.03435611352324486
         ],
         "z": [
          "repetir"
         ]
        },
        {
         "hovertemplate": "color=arte<br>x=%{x}<br>y=%{y}<br>z=%{z}<br>text=%{text}<extra></extra>",
         "legendgroup": "arte",
         "marker": {
          "color": "#FECB52",
          "symbol": "circle"
         },
         "mode": "markers+text",
         "name": "arte",
         "scene": "scene",
         "showlegend": true,
         "text": [
          "arte"
         ],
         "type": "scatter3d",
         "x": [
          0.10916104167699814
         ],
         "y": [
          -0.02443362958729267
         ],
         "z": [
          "arte"
         ]
        },
        {
         "hovertemplate": "color=profesaba<br>x=%{x}<br>y=%{y}<br>z=%{z}<br>text=%{text}<extra></extra>",
         "legendgroup": "profesaba",
         "marker": {
          "color": "#636efa",
          "symbol": "circle"
         },
         "mode": "markers+text",
         "name": "profesaba",
         "scene": "scene",
         "showlegend": true,
         "text": [
          "profesaba"
         ],
         "type": "scatter3d",
         "x": [
          -0.10872438549995422
         ],
         "y": [
          -0.02448594570159912
         ],
         "z": [
          "profesaba"
         ]
        },
        {
         "hovertemplate": "color=propio<br>x=%{x}<br>y=%{y}<br>z=%{z}<br>text=%{text}<extra></extra>",
         "legendgroup": "propio",
         "marker": {
          "color": "#EF553B",
          "symbol": "circle"
         },
         "mode": "markers+text",
         "name": "propio",
         "scene": "scene",
         "showlegend": true,
         "text": [
          "propio"
         ],
         "type": "scatter3d",
         "x": [
          -0.09623720496892929
         ],
         "y": [
          -0.011092699132859707
         ],
         "z": [
          "propio"
         ]
        },
        {
         "hovertemplate": "color=exacta<br>x=%{x}<br>y=%{y}<br>z=%{z}<br>text=%{text}<extra></extra>",
         "legendgroup": "exacta",
         "marker": {
          "color": "#00cc96",
          "symbol": "circle"
         },
         "mode": "markers+text",
         "name": "exacta",
         "scene": "scene",
         "showlegend": true,
         "text": [
          "exacta"
         ],
         "type": "scatter3d",
         "x": [
          -0.045008111745119095
         ],
         "y": [
          -0.09618519246578217
         ],
         "z": [
          "exacta"
         ]
        },
        {
         "hovertemplate": "color=nombres<br>x=%{x}<br>y=%{y}<br>z=%{z}<br>text=%{text}<extra></extra>",
         "legendgroup": "nombres",
         "marker": {
          "color": "#ab63fa",
          "symbol": "circle"
         },
         "mode": "markers+text",
         "name": "nombres",
         "scene": "scene",
         "showlegend": true,
         "text": [
          "nombres"
         ],
         "type": "scatter3d",
         "x": [
          -0.018924864009022713
         ],
         "y": [
          0.02199041284620762
         ],
         "z": [
          "nombres"
         ]
        },
        {
         "hovertemplate": "color=propios<br>x=%{x}<br>y=%{y}<br>z=%{z}<br>text=%{text}<extra></extra>",
         "legendgroup": "propios",
         "marker": {
          "color": "#FFA15A",
          "symbol": "circle"
         },
         "mode": "markers+text",
         "name": "propios",
         "scene": "scene",
         "showlegend": true,
         "text": [
          "propios"
         ],
         "type": "scatter3d",
         "x": [
          -0.14916934072971344
         ],
         "y": [
          -0.0341823548078537
         ],
         "z": [
          "propios"
         ]
        },
        {
         "hovertemplate": "color=apenas<br>x=%{x}<br>y=%{y}<br>z=%{z}<br>text=%{text}<extra></extra>",
         "legendgroup": "apenas",
         "marker": {
          "color": "#19d3f3",
          "symbol": "circle"
         },
         "mode": "markers+text",
         "name": "apenas",
         "scene": "scene",
         "showlegend": true,
         "text": [
          "apenas"
         ],
         "type": "scatter3d",
         "x": [
          -0.0607634000480175
         ],
         "y": [
          0.0733862817287445
         ],
         "z": [
          "apenas"
         ]
        },
        {
         "hovertemplate": "color=averiguó<br>x=%{x}<br>y=%{y}<br>z=%{z}<br>text=%{text}<extra></extra>",
         "legendgroup": "averiguó",
         "marker": {
          "color": "#FF6692",
          "symbol": "circle"
         },
         "mode": "markers+text",
         "name": "averiguó",
         "scene": "scene",
         "showlegend": true,
         "text": [
          "averiguó"
         ],
         "type": "scatter3d",
         "x": [
          -0.08225852996110916
         ],
         "y": [
          -0.03656477481126785
         ],
         "z": [
          "averiguó"
         ]
        },
        {
         "hovertemplate": "color=poco<br>x=%{x}<br>y=%{y}<br>z=%{z}<br>text=%{text}<extra></extra>",
         "legendgroup": "poco",
         "marker": {
          "color": "#B6E880",
          "symbol": "circle"
         },
         "mode": "markers+text",
         "name": "poco",
         "scene": "scene",
         "showlegend": true,
         "text": [
          "poco"
         ],
         "type": "scatter3d",
         "x": [
          0.07442279160022736
         ],
         "y": [
          0.0006918565486557782
         ],
         "z": [
          "poco"
         ]
        },
        {
         "hovertemplate": "color=triviales<br>x=%{x}<br>y=%{y}<br>z=%{z}<br>text=%{text}<extra></extra>",
         "legendgroup": "triviales",
         "marker": {
          "color": "#FF97FF",
          "symbol": "circle"
         },
         "mode": "markers+text",
         "name": "triviales",
         "scene": "scene",
         "showlegend": true,
         "text": [
          "triviales"
         ],
         "type": "scatter3d",
         "x": [
          0.001483484753407538
         ],
         "y": [
          -0.03889761492609978
         ],
         "z": [
          "triviales"
         ]
        },
        {
         "hovertemplate": "color=antiguas<br>x=%{x}<br>y=%{y}<br>z=%{z}<br>text=%{text}<extra></extra>",
         "legendgroup": "antiguas",
         "marker": {
          "color": "#FECB52",
          "symbol": "circle"
         },
         "mode": "markers+text",
         "name": "antiguas",
         "scene": "scene",
         "showlegend": true,
         "text": [
          "antiguas"
         ],
         "type": "scatter3d",
         "x": [
          -0.02437007613480091
         ],
         "y": [
          -0.02830163761973381
         ],
         "z": [
          "antiguas"
         ]
        },
        {
         "hovertemplate": "color=memorias<br>x=%{x}<br>y=%{y}<br>z=%{z}<br>text=%{text}<extra></extra>",
         "legendgroup": "memorias",
         "marker": {
          "color": "#636efa",
          "symbol": "circle"
         },
         "mode": "markers+text",
         "name": "memorias",
         "scene": "scene",
         "showlegend": true,
         "text": [
          "memorias"
         ],
         "type": "scatter3d",
         "x": [
          -0.016587741672992706
         ],
         "y": [
          0.07081039249897003
         ],
         "z": [
          "memorias"
         ]
        },
        {
         "hovertemplate": "color=nítido<br>x=%{x}<br>y=%{y}<br>z=%{z}<br>text=%{text}<extra></extra>",
         "legendgroup": "nítido",
         "marker": {
          "color": "#EF553B",
          "symbol": "circle"
         },
         "mode": "markers+text",
         "name": "nítido",
         "scene": "scene",
         "showlegend": true,
         "text": [
          "nítido"
         ],
         "type": "scatter3d",
         "x": [
          0.04590502008795738
         ],
         "y": [
          0.03620818257331848
         ],
         "z": [
          "nítido"
         ]
        },
        {
         "hovertemplate": "color=rico<br>x=%{x}<br>y=%{y}<br>z=%{z}<br>text=%{text}<extra></extra>",
         "legendgroup": "rico",
         "marker": {
          "color": "#00cc96",
          "symbol": "circle"
         },
         "mode": "markers+text",
         "name": "rico",
         "scene": "scene",
         "showlegend": true,
         "text": [
          "rico"
         ],
         "type": "scatter3d",
         "x": [
          -0.05322118103504181
         ],
         "y": [
          -0.07969392836093903
         ],
         "z": [
          "rico"
         ]
        },
        {
         "hovertemplate": "color=intolerable<br>x=%{x}<br>y=%{y}<br>z=%{z}<br>text=%{text}<extra></extra>",
         "legendgroup": "intolerable",
         "marker": {
          "color": "#ab63fa",
          "symbol": "circle"
         },
         "mode": "markers+text",
         "name": "intolerable",
         "scene": "scene",
         "showlegend": true,
         "text": [
          "intolerable"
         ],
         "type": "scatter3d",
         "x": [
          0.010759878903627396
         ],
         "y": [
          -0.004837437532842159
         ],
         "z": [
          "intolerable"
         ]
        },
        {
         "hovertemplate": "color=presente<br>x=%{x}<br>y=%{y}<br>z=%{z}<br>text=%{text}<extra></extra>",
         "legendgroup": "presente",
         "marker": {
          "color": "#FFA15A",
          "symbol": "circle"
         },
         "mode": "markers+text",
         "name": "presente",
         "scene": "scene",
         "showlegend": true,
         "text": [
          "presente"
         ],
         "type": "scatter3d",
         "x": [
          0.046788737177848816
         ],
         "y": [
          -0.057013075798749924
         ],
         "z": [
          "presente"
         ]
        },
        {
         "hovertemplate": "color=recobró<br>x=%{x}<br>y=%{y}<br>z=%{z}<br>text=%{text}<extra></extra>",
         "legendgroup": "recobró",
         "marker": {
          "color": "#19d3f3",
          "symbol": "circle"
         },
         "mode": "markers+text",
         "name": "recobró",
         "scene": "scene",
         "showlegend": true,
         "text": [
          "recobró"
         ],
         "type": "scatter3d",
         "x": [
          -0.023096172139048576
         ],
         "y": [
          -0.031848277896642685
         ],
         "z": [
          "recobró"
         ]
        },
        {
         "hovertemplate": "color=conocimiento<br>x=%{x}<br>y=%{y}<br>z=%{z}<br>text=%{text}<extra></extra>",
         "legendgroup": "conocimiento",
         "marker": {
          "color": "#FF6692",
          "symbol": "circle"
         },
         "mode": "markers+text",
         "name": "conocimiento",
         "scene": "scene",
         "showlegend": true,
         "text": [
          "conocimiento"
         ],
         "type": "scatter3d",
         "x": [
          0.05782081186771393
         ],
         "y": [
          -0.0519622303545475
         ],
         "z": [
          "conocimiento"
         ]
        },
        {
         "hovertemplate": "color=perdió<br>x=%{x}<br>y=%{y}<br>z=%{z}<br>text=%{text}<extra></extra>",
         "legendgroup": "perdió",
         "marker": {
          "color": "#B6E880",
          "symbol": "circle"
         },
         "mode": "markers+text",
         "name": "perdió",
         "scene": "scene",
         "showlegend": true,
         "text": [
          "perdió"
         ],
         "type": "scatter3d",
         "x": [
          -0.02711496874690056
         ],
         "y": [
          -0.005353259388357401
         ],
         "z": [
          "perdió"
         ]
        },
        {
         "hovertemplate": "color=caer<br>x=%{x}<br>y=%{y}<br>z=%{z}<br>text=%{text}<extra></extra>",
         "legendgroup": "caer",
         "marker": {
          "color": "#FF97FF",
          "symbol": "circle"
         },
         "mode": "markers+text",
         "name": "caer",
         "scene": "scene",
         "showlegend": true,
         "text": [
          "caer"
         ],
         "type": "scatter3d",
         "x": [
          -0.08047106117010117
         ],
         "y": [
          0.029672127217054367
         ],
         "z": [
          "caer"
         ]
        },
        {
         "hovertemplate": "color=olvidaba<br>x=%{x}<br>y=%{y}<br>z=%{z}<br>text=%{text}<extra></extra>",
         "legendgroup": "olvidaba",
         "marker": {
          "color": "#FECB52",
          "symbol": "circle"
         },
         "mode": "markers+text",
         "name": "olvidaba",
         "scene": "scene",
         "showlegend": true,
         "text": [
          "olvidaba"
         ],
         "type": "scatter3d",
         "x": [
          0.04976515844464302
         ],
         "y": [
          -0.02026214450597763
         ],
         "z": [
          "olvidaba"
         ]
        },
        {
         "hovertemplate": "color=oír<br>x=%{x}<br>y=%{y}<br>z=%{z}<br>text=%{text}<extra></extra>",
         "legendgroup": "oír",
         "marker": {
          "color": "#636efa",
          "symbol": "circle"
         },
         "mode": "markers+text",
         "name": "oír",
         "scene": "scene",
         "showlegend": true,
         "text": [
          "oír"
         ],
         "type": "scatter3d",
         "x": [
          -0.053643062710762024
         ],
         "y": [
          0.16925807297229767
         ],
         "z": [
          "oír"
         ]
        },
        {
         "hovertemplate": "color=oía<br>x=%{x}<br>y=%{y}<br>z=%{z}<br>text=%{text}<extra></extra>",
         "legendgroup": "oía",
         "marker": {
          "color": "#EF553B",
          "symbol": "circle"
         },
         "mode": "markers+text",
         "name": "oía",
         "scene": "scene",
         "showlegend": true,
         "text": [
          "oía"
         ],
         "type": "scatter3d",
         "x": [
          0.07349545508623123
         ],
         "y": [
          -0.08437522500753403
         ],
         "z": [
          "oía"
         ]
        },
        {
         "hovertemplate": "color=ver<br>x=%{x}<br>y=%{y}<br>z=%{z}<br>text=%{text}<extra></extra>",
         "legendgroup": "ver",
         "marker": {
          "color": "#00cc96",
          "symbol": "circle"
         },
         "mode": "markers+text",
         "name": "ver",
         "scene": "scene",
         "showlegend": true,
         "text": [
          "ver"
         ],
         "type": "scatter3d",
         "x": [
          -0.0052438462153077126
         ],
         "y": [
          -0.11055425554513931
         ],
         "z": [
          "ver"
         ]
        },
        {
         "hovertemplate": "color=miraba<br>x=%{x}<br>y=%{y}<br>z=%{z}<br>text=%{text}<extra></extra>",
         "legendgroup": "miraba",
         "marker": {
          "color": "#ab63fa",
          "symbol": "circle"
         },
         "mode": "markers+text",
         "name": "miraba",
         "scene": "scene",
         "showlegend": true,
         "text": [
          "miraba"
         ],
         "type": "scatter3d",
         "x": [
          -0.0050245774909853935
         ],
         "y": [
          0.007867267355322838
         ],
         "z": [
          "miraba"
         ]
        },
        {
         "hovertemplate": "color=sueña<br>x=%{x}<br>y=%{y}<br>z=%{z}<br>text=%{text}<extra></extra>",
         "legendgroup": "sueña",
         "marker": {
          "color": "#FFA15A",
          "symbol": "circle"
         },
         "mode": "markers+text",
         "name": "sueña",
         "scene": "scene",
         "showlegend": true,
         "text": [
          "sueña"
         ],
         "type": "scatter3d",
         "x": [
          -0.05522038787603378
         ],
         "y": [
          0.09984183311462402
         ],
         "z": [
          "sueña"
         ]
        },
        {
         "hovertemplate": "color=vivido<br>x=%{x}<br>y=%{y}<br>z=%{z}<br>text=%{text}<extra></extra>",
         "legendgroup": "vivido",
         "marker": {
          "color": "#19d3f3",
          "symbol": "circle"
         },
         "mode": "markers+text",
         "name": "vivido",
         "scene": "scene",
         "showlegend": true,
         "text": [
          "vivido"
         ],
         "type": "scatter3d",
         "x": [
          0.003481595078483224
         ],
         "y": [
          -0.10326643288135529
         ],
         "z": [
          "vivido"
         ]
        },
        {
         "hovertemplate": "color=caso<br>x=%{x}<br>y=%{y}<br>z=%{z}<br>text=%{text}<extra></extra>",
         "legendgroup": "caso",
         "marker": {
          "color": "#FF6692",
          "symbol": "circle"
         },
         "mode": "markers+text",
         "name": "caso",
         "scene": "scene",
         "showlegend": true,
         "text": [
          "caso"
         ],
         "type": "scatter3d",
         "x": [
          0.10279642045497894
         ],
         "y": [
          -0.04516051709651947
         ],
         "z": [
          "caso"
         ]
        },
        {
         "hovertemplate": "color=hizo<br>x=%{x}<br>y=%{y}<br>z=%{z}<br>text=%{text}<extra></extra>",
         "legendgroup": "hizo",
         "marker": {
          "color": "#B6E880",
          "symbol": "circle"
         },
         "mode": "markers+text",
         "name": "hizo",
         "scene": "scene",
         "showlegend": true,
         "text": [
          "hizo"
         ],
         "type": "scatter3d",
         "x": [
          -0.029134094715118408
         ],
         "y": [
          -0.013227579183876514
         ],
         "z": [
          "hizo"
         ]
        },
        {
         "hovertemplate": "color=postuló<br>x=%{x}<br>y=%{y}<br>z=%{z}<br>text=%{text}<extra></extra>",
         "legendgroup": "postuló",
         "marker": {
          "color": "#FF97FF",
          "symbol": "circle"
         },
         "mode": "markers+text",
         "name": "postuló",
         "scene": "scene",
         "showlegend": true,
         "text": [
          "postuló"
         ],
         "type": "scatter3d",
         "x": [
          -0.011931275017559528
         ],
         "y": [
          -0.030727531760931015
         ],
         "z": [
          "postuló"
         ]
        },
        {
         "hovertemplate": "color=tenido<br>x=%{x}<br>y=%{y}<br>z=%{z}<br>text=%{text}<extra></extra>",
         "legendgroup": "tenido",
         "marker": {
          "color": "#FECB52",
          "symbol": "circle"
         },
         "mode": "markers+text",
         "name": "tenido",
         "scene": "scene",
         "showlegend": true,
         "text": [
          "tenido"
         ],
         "type": "scatter3d",
         "x": [
          -0.032567981630563736
         ],
         "y": [
          0.06312352418899536
         ],
         "z": [
          "tenido"
         ]
        },
        {
         "hovertemplate": "color=mnemotecnia<br>x=%{x}<br>y=%{y}<br>z=%{z}<br>text=%{text}<extra></extra>",
         "legendgroup": "mnemotecnia",
         "marker": {
          "color": "#636efa",
          "symbol": "circle"
         },
         "mode": "markers+text",
         "name": "mnemotecnia",
         "scene": "scene",
         "showlegend": true,
         "text": [
          "mnemotecnia"
         ],
         "type": "scatter3d",
         "x": [
          -0.09642308205366135
         ],
         "y": [
          -0.07956910133361816
         ],
         "z": [
          "mnemotecnia"
         ]
        },
        {
         "hovertemplate": "color=fue<br>x=%{x}<br>y=%{y}<br>z=%{z}<br>text=%{text}<extra></extra>",
         "legendgroup": "fue",
         "marker": {
          "color": "#EF553B",
          "symbol": "circle"
         },
         "mode": "markers+text",
         "name": "fue",
         "scene": "scene",
         "showlegend": true,
         "text": [
          "fue"
         ],
         "type": "scatter3d",
         "x": [
          -0.08232487738132477
         ],
         "y": [
          -0.09985022246837616
         ],
         "z": [
          "fue"
         ]
        },
        {
         "hovertemplate": "color=centenas<br>x=%{x}<br>y=%{y}<br>z=%{z}<br>text=%{text}<extra></extra>",
         "legendgroup": "centenas",
         "marker": {
          "color": "#00cc96",
          "symbol": "circle"
         },
         "mode": "markers+text",
         "name": "centenas",
         "scene": "scene",
         "showlegend": true,
         "text": [
          "centenas"
         ],
         "type": "scatter3d",
         "x": [
          -0.00236549973487854
         ],
         "y": [
          0.020093077793717384
         ],
         "z": [
          "centenas"
         ]
        },
        {
         "hovertemplate": "color=disparatado<br>x=%{x}<br>y=%{y}<br>z=%{z}<br>text=%{text}<extra></extra>",
         "legendgroup": "disparatado",
         "marker": {
          "color": "#ab63fa",
          "symbol": "circle"
         },
         "mode": "markers+text",
         "name": "disparatado",
         "scene": "scene",
         "showlegend": true,
         "text": [
          "disparatado"
         ],
         "type": "scatter3d",
         "x": [
          0.0006756384391337633
         ],
         "y": [
          -0.1714099645614624
         ],
         "z": [
          "disparatado"
         ]
        },
        {
         "hovertemplate": "color=seis<br>x=%{x}<br>y=%{y}<br>z=%{z}<br>text=%{text}<extra></extra>",
         "legendgroup": "seis",
         "marker": {
          "color": "#FFA15A",
          "symbol": "circle"
         },
         "mode": "markers+text",
         "name": "seis",
         "scene": "scene",
         "showlegend": true,
         "text": [
          "seis"
         ],
         "type": "scatter3d",
         "x": [
          0.07061463594436646
         ],
         "y": [
          0.020614979788661003
         ],
         "z": [
          "seis"
         ]
        },
        {
         "hovertemplate": "color=aplicó<br>x=%{x}<br>y=%{y}<br>z=%{z}<br>text=%{text}<extra></extra>",
         "legendgroup": "aplicó",
         "marker": {
          "color": "#19d3f3",
          "symbol": "circle"
         },
         "mode": "markers+text",
         "name": "aplicó",
         "scene": "scene",
         "showlegend": true,
         "text": [
          "aplicó"
         ],
         "type": "scatter3d",
         "x": [
          0.13369981944561005
         ],
         "y": [
          0.03286954388022423
         ],
         "z": [
          "aplicó"
         ]
        },
        {
         "hovertemplate": "color=decenas<br>x=%{x}<br>y=%{y}<br>z=%{z}<br>text=%{text}<extra></extra>",
         "legendgroup": "decenas",
         "marker": {
          "color": "#FF6692",
          "symbol": "circle"
         },
         "mode": "markers+text",
         "name": "decenas",
         "scene": "scene",
         "showlegend": true,
         "text": [
          "decenas"
         ],
         "type": "scatter3d",
         "x": [
          0.00552552193403244
         ],
         "y": [
          0.10016879439353943
         ],
         "z": [
          "decenas"
         ]
        },
        {
         "hovertemplate": "color=cinco<br>x=%{x}<br>y=%{y}<br>z=%{z}<br>text=%{text}<extra></extra>",
         "legendgroup": "cinco",
         "marker": {
          "color": "#B6E880",
          "symbol": "circle"
         },
         "mode": "markers+text",
         "name": "cinco",
         "scene": "scene",
         "showlegend": true,
         "text": [
          "cinco"
         ],
         "type": "scatter3d",
         "x": [
          -0.08317947387695312
         ],
         "y": [
          -0.036104269325733185
         ],
         "z": [
          "cinco"
         ]
        },
        {
         "hovertemplate": "color=signos<br>x=%{x}<br>y=%{y}<br>z=%{z}<br>text=%{text}<extra></extra>",
         "legendgroup": "signos",
         "marker": {
          "color": "#FF97FF",
          "symbol": "circle"
         },
         "mode": "markers+text",
         "name": "signos",
         "scene": "scene",
         "showlegend": true,
         "text": [
          "signos"
         ],
         "type": "scatter3d",
         "x": [
          0.024970244616270065
         ],
         "y": [
          -0.003270483808591962
         ],
         "z": [
          "signos"
         ]
        },
        {
         "hovertemplate": "color=requirieran<br>x=%{x}<br>y=%{y}<br>z=%{z}<br>text=%{text}<extra></extra>",
         "legendgroup": "requirieran",
         "marker": {
          "color": "#FECB52",
          "symbol": "circle"
         },
         "mode": "markers+text",
         "name": "requirieran",
         "scene": "scene",
         "showlegend": true,
         "text": [
          "requirieran"
         ],
         "type": "scatter3d",
         "x": [
          -0.06068131700158119
         ],
         "y": [
          -0.023922154679894447
         ],
         "z": [
          "requirieran"
         ]
        },
        {
         "hovertemplate": "color=orientales<br>x=%{x}<br>y=%{y}<br>z=%{z}<br>text=%{text}<extra></extra>",
         "legendgroup": "orientales",
         "marker": {
          "color": "#636efa",
          "symbol": "circle"
         },
         "mode": "markers+text",
         "name": "orientales",
         "scene": "scene",
         "showlegend": true,
         "text": [
          "orientales"
         ],
         "type": "scatter3d",
         "x": [
          -0.00016959005733951926
         ],
         "y": [
          0.05563420057296753
         ],
         "z": [
          "orientales"
         ]
        },
        {
         "hovertemplate": "color=treinta<br>x=%{x}<br>y=%{y}<br>z=%{z}<br>text=%{text}<extra></extra>",
         "legendgroup": "treinta",
         "marker": {
          "color": "#EF553B",
          "symbol": "circle"
         },
         "mode": "markers+text",
         "name": "treinta",
         "scene": "scene",
         "showlegend": true,
         "text": [
          "treinta"
         ],
         "type": "scatter3d",
         "x": [
          -0.09028726071119308
         ],
         "y": [
          -0.09364523738622665
         ],
         "z": [
          "treinta"
         ]
        },
        {
         "hovertemplate": "color=desagrado<br>x=%{x}<br>y=%{y}<br>z=%{z}<br>text=%{text}<extra></extra>",
         "legendgroup": "desagrado",
         "marker": {
          "color": "#00cc96",
          "symbol": "circle"
         },
         "mode": "markers+text",
         "name": "desagrado",
         "scene": "scene",
         "showlegend": true,
         "text": [
          "desagrado"
         ],
         "type": "scatter3d",
         "x": [
          0.11609961092472076
         ],
         "y": [
          0.01697632670402527
         ],
         "z": [
          "desagrado"
         ]
        },
        {
         "hovertemplate": "color=estímulo<br>x=%{x}<br>y=%{y}<br>z=%{z}<br>text=%{text}<extra></extra>",
         "legendgroup": "estímulo",
         "marker": {
          "color": "#ab63fa",
          "symbol": "circle"
         },
         "mode": "markers+text",
         "name": "estímulo",
         "scene": "scene",
         "showlegend": true,
         "text": [
          "estímulo"
         ],
         "type": "scatter3d",
         "x": [
          0.07519006729125977
         ],
         "y": [
          -0.04790583625435829
         ],
         "z": [
          "estímulo"
         ]
        },
        {
         "hovertemplate": "color=seguía<br>x=%{x}<br>y=%{y}<br>z=%{z}<br>text=%{text}<extra></extra>",
         "legendgroup": "seguía",
         "marker": {
          "color": "#FFA15A",
          "symbol": "circle"
         },
         "mode": "markers+text",
         "name": "seguía",
         "scene": "scene",
         "showlegend": true,
         "text": [
          "seguía"
         ],
         "type": "scatter3d",
         "x": [
          -0.061436913907527924
         ],
         "y": [
          0.013451305218040943
         ],
         "z": [
          "seguía"
         ]
        },
        {
         "hovertemplate": "color=borrársele<br>x=%{x}<br>y=%{y}<br>z=%{z}<br>text=%{text}<extra></extra>",
         "legendgroup": "borrársele",
         "marker": {
          "color": "#19d3f3",
          "symbol": "circle"
         },
         "mode": "markers+text",
         "name": "borrársele",
         "scene": "scene",
         "showlegend": true,
         "text": [
          "borrársele"
         ],
         "type": "scatter3d",
         "x": [
          -0.023525891825556755
         ],
         "y": [
          0.06110793352127075
         ],
         "z": [
          "borrársele"
         ]
        },
        {
         "hovertemplate": "color=pensado<br>x=%{x}<br>y=%{y}<br>z=%{z}<br>text=%{text}<extra></extra>",
         "legendgroup": "pensado",
         "marker": {
          "color": "#FF6692",
          "symbol": "circle"
         },
         "mode": "markers+text",
         "name": "pensado",
         "scene": "scene",
         "showlegend": true,
         "text": [
          "pensado"
         ],
         "type": "scatter3d",
         "x": [
          0.005019311793148518
         ],
         "y": [
          -0.02599046193063259
         ],
         "z": [
          "pensado"
         ]
        },
        {
         "hovertemplate": "color=unidades<br>x=%{x}<br>y=%{y}<br>z=%{z}<br>text=%{text}<extra></extra>",
         "legendgroup": "unidades",
         "marker": {
          "color": "#B6E880",
          "symbol": "circle"
         },
         "mode": "markers+text",
         "name": "unidades",
         "scene": "scene",
         "showlegend": true,
         "text": [
          "unidades"
         ],
         "type": "scatter3d",
         "x": [
          -0.027261696755886078
         ],
         "y": [
          -0.008097255602478981
         ],
         "z": [
          "unidades"
         ]
        },
        {
         "hovertemplate": "color=veinticuatro<br>x=%{x}<br>y=%{y}<br>z=%{z}<br>text=%{text}<extra></extra>",
         "legendgroup": "veinticuatro",
         "marker": {
          "color": "#FF97FF",
          "symbol": "circle"
         },
         "mode": "markers+text",
         "name": "veinticuatro",
         "scene": "scene",
         "showlegend": true,
         "text": [
          "veinticuatro"
         ],
         "type": "scatter3d",
         "x": [
          0.028515057638287544
         ],
         "y": [
          -0.06884787231683731
         ],
         "z": [
          "veinticuatro"
         ]
        },
        {
         "hovertemplate": "color=rebasado<br>x=%{x}<br>y=%{y}<br>z=%{z}<br>text=%{text}<extra></extra>",
         "legendgroup": "rebasado",
         "marker": {
          "color": "#FECB52",
          "symbol": "circle"
         },
         "mode": "markers+text",
         "name": "rebasado",
         "scene": "scene",
         "showlegend": true,
         "text": [
          "rebasado"
         ],
         "type": "scatter3d",
         "x": [
          -0.004237244371324778
         ],
         "y": [
          -0.04945463314652443
         ],
         "z": [
          "rebasado"
         ]
        },
        {
         "hovertemplate": "color=días<br>x=%{x}<br>y=%{y}<br>z=%{z}<br>text=%{text}<extra></extra>",
         "legendgroup": "días",
         "marker": {
          "color": "#636efa",
          "symbol": "circle"
         },
         "mode": "markers+text",
         "name": "días",
         "scene": "scene",
         "showlegend": true,
         "text": [
          "días"
         ],
         "type": "scatter3d",
         "x": [
          -0.08035187423229218
         ],
         "y": [
          -0.006956149358302355
         ],
         "z": [
          "días"
         ]
        },
        {
         "hovertemplate": "color=pocos<br>x=%{x}<br>y=%{y}<br>z=%{z}<br>text=%{text}<extra></extra>",
         "legendgroup": "pocos",
         "marker": {
          "color": "#EF553B",
          "symbol": "circle"
         },
         "mode": "markers+text",
         "name": "pocos",
         "scene": "scene",
         "showlegend": true,
         "text": [
          "pocos"
         ],
         "type": "scatter3d",
         "x": [
          -0.03600117191672325
         ],
         "y": [
          0.09436501562595367
         ],
         "z": [
          "pocos"
         ]
        },
        {
         "hovertemplate": "color=análisis<br>x=%{x}<br>y=%{y}<br>z=%{z}<br>text=%{text}<extra></extra>",
         "legendgroup": "análisis",
         "marker": {
          "color": "#00cc96",
          "symbol": "circle"
         },
         "mode": "markers+text",
         "name": "análisis",
         "scene": "scene",
         "showlegend": true,
         "text": [
          "análisis"
         ],
         "type": "scatter3d",
         "x": [
          -0.05884818360209465
         ],
         "y": [
          -0.11241370439529419
         ],
         "z": [
          "análisis"
         ]
        },
        {
         "hovertemplate": "color=existe<br>x=%{x}<br>y=%{y}<br>z=%{z}<br>text=%{text}<extra></extra>",
         "legendgroup": "existe",
         "marker": {
          "color": "#ab63fa",
          "symbol": "circle"
         },
         "mode": "markers+text",
         "name": "existe",
         "scene": "scene",
         "showlegend": true,
         "text": [
          "existe"
         ],
         "type": "scatter3d",
         "x": [
          -0.05360260605812073
         ],
         "y": [
          -0.010174212045967579
         ],
         "z": [
          "existe"
         ]
        },
        {
         "hovertemplate": "color=discurrido<br>x=%{x}<br>y=%{y}<br>z=%{z}<br>text=%{text}<extra></extra>",
         "legendgroup": "discurrido",
         "marker": {
          "color": "#FFA15A",
          "symbol": "circle"
         },
         "mode": "markers+text",
         "name": "discurrido",
         "scene": "scene",
         "showlegend": true,
         "text": [
          "discurrido"
         ],
         "type": "scatter3d",
         "x": [
          -0.05890059098601341
         ],
         "y": [
          -0.12850669026374817
         ],
         "z": [
          "discurrido"
         ]
        },
        {
         "hovertemplate": "color=1886<br>x=%{x}<br>y=%{y}<br>z=%{z}<br>text=%{text}<extra></extra>",
         "legendgroup": "1886",
         "marker": {
          "color": "#19d3f3",
          "symbol": "circle"
         },
         "mode": "markers+text",
         "name": "1886",
         "scene": "scene",
         "showlegend": true,
         "text": [
          "1886"
         ],
         "type": "scatter3d",
         "x": [
          0.032527100294828415
         ],
         "y": [
          0.0046189771965146065
         ],
         "z": [
          "1886"
         ]
        },
        {
         "hovertemplate": "color=365<br>x=%{x}<br>y=%{y}<br>z=%{z}<br>text=%{text}<extra></extra>",
         "legendgroup": "365",
         "marker": {
          "color": "#FF6692",
          "symbol": "circle"
         },
         "mode": "markers+text",
         "name": "365",
         "scene": "scene",
         "showlegend": true,
         "text": [
          "365"
         ],
         "type": "scatter3d",
         "x": [
          -0.031085144728422165
         ],
         "y": [
          0.005443887785077095
         ],
         "z": [
          "365"
         ]
        },
        {
         "hovertemplate": "color=trece<br>x=%{x}<br>y=%{y}<br>z=%{z}<br>text=%{text}<extra></extra>",
         "legendgroup": "trece",
         "marker": {
          "color": "#B6E880",
          "symbol": "circle"
         },
         "mode": "markers+text",
         "name": "trece",
         "scene": "scene",
         "showlegend": true,
         "text": [
          "trece"
         ],
         "type": "scatter3d",
         "x": [
          -0.004104024730622768
         ],
         "y": [
          0.011519297026097775
         ],
         "z": [
          "trece"
         ]
        },
        {
         "hovertemplate": "color=ejemplo<br>x=%{x}<br>y=%{y}<br>z=%{z}<br>text=%{text}<extra></extra>",
         "legendgroup": "ejemplo",
         "marker": {
          "color": "#FF97FF",
          "symbol": "circle"
         },
         "mode": "markers+text",
         "name": "ejemplo",
         "scene": "scene",
         "showlegend": true,
         "text": [
          "ejemplo"
         ],
         "type": "scatter3d",
         "x": [
          -0.056473422795534134
         ],
         "y": [
          -0.015685195103287697
         ],
         "z": [
          "ejemplo"
         ]
        },
        {
         "hovertemplate": "color=máximo<br>x=%{x}<br>y=%{y}<br>z=%{z}<br>text=%{text}<extra></extra>",
         "legendgroup": "máximo",
         "marker": {
          "color": "#FECB52",
          "symbol": "circle"
         },
         "mode": "markers+text",
         "name": "máximo",
         "scene": "scene",
         "showlegend": true,
         "text": [
          "máximo"
         ],
         "type": "scatter3d",
         "x": [
          0.06633695960044861
         ],
         "y": [
          0.033914849162101746
         ],
         "z": [
          "máximo"
         ]
        },
        {
         "hovertemplate": "color=inconexas<br>x=%{x}<br>y=%{y}<br>z=%{z}<br>text=%{text}<extra></extra>",
         "legendgroup": "inconexas",
         "marker": {
          "color": "#636efa",
          "symbol": "circle"
         },
         "mode": "markers+text",
         "name": "inconexas",
         "scene": "scene",
         "showlegend": true,
         "text": [
          "inconexas"
         ],
         "type": "scatter3d",
         "x": [
          0.11278293281793594
         ],
         "y": [
          0.07719408720731735
         ],
         "z": [
          "inconexas"
         ]
        },
        {
         "hovertemplate": "color=voces<br>x=%{x}<br>y=%{y}<br>z=%{z}<br>text=%{text}<extra></extra>",
         "legendgroup": "voces",
         "marker": {
          "color": "#EF553B",
          "symbol": "circle"
         },
         "mode": "markers+text",
         "name": "voces",
         "scene": "scene",
         "showlegend": true,
         "text": [
          "voces"
         ],
         "type": "scatter3d",
         "x": [
          -0.04733826220035553
         ],
         "y": [
          -0.05787942558526993
         ],
         "z": [
          "voces"
         ]
        },
        {
         "hovertemplate": "color=rapsodia<br>x=%{x}<br>y=%{y}<br>z=%{z}<br>text=%{text}<extra></extra>",
         "legendgroup": "rapsodia",
         "marker": {
          "color": "#00cc96",
          "symbol": "circle"
         },
         "mode": "markers+text",
         "name": "rapsodia",
         "scene": "scene",
         "showlegend": true,
         "text": [
          "rapsodia"
         ],
         "type": "scatter3d",
         "x": [
          0.048176296055316925
         ],
         "y": [
          -0.035063233226537704
         ],
         "z": [
          "rapsodia"
         ]
        },
        {
         "hovertemplate": "color=explicarle<br>x=%{x}<br>y=%{y}<br>z=%{z}<br>text=%{text}<extra></extra>",
         "legendgroup": "explicarle",
         "marker": {
          "color": "#ab63fa",
          "symbol": "circle"
         },
         "mode": "markers+text",
         "name": "explicarle",
         "scene": "scene",
         "showlegend": true,
         "text": [
          "explicarle"
         ],
         "type": "scatter3d",
         "x": [
          -0.05147070065140724
         ],
         "y": [
          0.10815522819757462
         ],
         "z": [
          "explicarle"
         ]
        },
        {
         "hovertemplate": "color=complicadas<br>x=%{x}<br>y=%{y}<br>z=%{z}<br>text=%{text}<extra></extra>",
         "legendgroup": "complicadas",
         "marker": {
          "color": "#FFA15A",
          "symbol": "circle"
         },
         "mode": "markers+text",
         "name": "complicadas",
         "scene": "scene",
         "showlegend": true,
         "text": [
          "complicadas"
         ],
         "type": "scatter3d",
         "x": [
          -0.05524513125419617
         ],
         "y": [
          0.015332404524087906
         ],
         "z": [
          "complicadas"
         ]
        },
        {
         "hovertemplate": "color=marca<br>x=%{x}<br>y=%{y}<br>z=%{z}<br>text=%{text}<extra></extra>",
         "legendgroup": "marca",
         "marker": {
          "color": "#19d3f3",
          "symbol": "circle"
         },
         "mode": "markers+text",
         "name": "marca",
         "scene": "scene",
         "showlegend": true,
         "text": [
          "marca"
         ],
         "type": "scatter3d",
         "x": [
          0.00920011755079031
         ],
         "y": [
          -0.056744735687971115
         ],
         "z": [
          "marca"
         ]
        },
        {
         "hovertemplate": "color=particular<br>x=%{x}<br>y=%{y}<br>z=%{z}<br>text=%{text}<extra></extra>",
         "legendgroup": "particular",
         "marker": {
          "color": "#FF6692",
          "symbol": "circle"
         },
         "mode": "markers+text",
         "name": "particular",
         "scene": "scene",
         "showlegend": true,
         "text": [
          "particular"
         ],
         "type": "scatter3d",
         "x": [
          -0.00040848838398233056
         ],
         "y": [
          -0.0009804136352613568
         ],
         "z": [
          "particular"
         ]
        },
        {
         "hovertemplate": "color=nueve<br>x=%{x}<br>y=%{y}<br>z=%{z}<br>text=%{text}<extra></extra>",
         "legendgroup": "nueve",
         "marker": {
          "color": "#B6E880",
          "symbol": "circle"
         },
         "mode": "markers+text",
         "name": "nueve",
         "scene": "scene",
         "showlegend": true,
         "text": [
          "nueve"
         ],
         "type": "scatter3d",
         "x": [
          -0.051092036068439484
         ],
         "y": [
          0.04341854527592659
         ],
         "z": [
          "nueve"
         ]
        },
        {
         "hovertemplate": "color=quinientos<br>x=%{x}<br>y=%{y}<br>z=%{z}<br>text=%{text}<extra></extra>",
         "legendgroup": "quinientos",
         "marker": {
          "color": "#FF97FF",
          "symbol": "circle"
         },
         "mode": "markers+text",
         "name": "quinientos",
         "scene": "scene",
         "showlegend": true,
         "text": [
          "quinientos"
         ],
         "type": "scatter3d",
         "x": [
          -0.02776828594505787
         ],
         "y": [
          0.07618239521980286
         ],
         "z": [
          "quinientos"
         ]
        },
        {
         "hovertemplate": "color=vedía<br>x=%{x}<br>y=%{y}<br>z=%{z}<br>text=%{text}<extra></extra>",
         "legendgroup": "vedía",
         "marker": {
          "color": "#FECB52",
          "symbol": "circle"
         },
         "mode": "markers+text",
         "name": "vedía",
         "scene": "scene",
         "showlegend": true,
         "text": [
          "vedía"
         ],
         "type": "scatter3d",
         "x": [
          -0.09511563926935196
         ],
         "y": [
          -0.06756199151277542
         ],
         "z": [
          "vedía"
         ]
        },
        {
         "hovertemplate": "color=agustín<br>x=%{x}<br>y=%{y}<br>z=%{z}<br>text=%{text}<extra></extra>",
         "legendgroup": "agustín",
         "marker": {
          "color": "#636efa",
          "symbol": "circle"
         },
         "mode": "markers+text",
         "name": "agustín",
         "scene": "scene",
         "showlegend": true,
         "text": [
          "agustín"
         ],
         "type": "scatter3d",
         "x": [
          -0.0676271989941597
         ],
         "y": [
          0.040049463510513306
         ],
         "z": [
          "agustín"
         ]
        },
        {
         "hovertemplate": "color=napoléon<br>x=%{x}<br>y=%{y}<br>z=%{z}<br>text=%{text}<extra></extra>",
         "legendgroup": "napoléon",
         "marker": {
          "color": "#EF553B",
          "symbol": "circle"
         },
         "mode": "markers+text",
         "name": "napoléon",
         "scene": "scene",
         "showlegend": true,
         "text": [
          "napoléon"
         ],
         "type": "scatter3d",
         "x": [
          0.05610234662890434
         ],
         "y": [
          -0.02231629751622677
         ],
         "z": [
          "napoléon"
         ]
        },
        {
         "hovertemplate": "color=caldera<br>x=%{x}<br>y=%{y}<br>z=%{z}<br>text=%{text}<extra></extra>",
         "legendgroup": "caldera",
         "marker": {
          "color": "#00cc96",
          "symbol": "circle"
         },
         "mode": "markers+text",
         "name": "caldera",
         "scene": "scene",
         "showlegend": true,
         "text": [
          "caldera"
         ],
         "type": "scatter3d",
         "x": [
          -0.01715770736336708
         ],
         "y": [
          0.08643867820501328
         ],
         "z": [
          "caldera"
         ]
        },
        {
         "hovertemplate": "color=gas<br>x=%{x}<br>y=%{y}<br>z=%{z}<br>text=%{text}<extra></extra>",
         "legendgroup": "gas",
         "marker": {
          "color": "#ab63fa",
          "symbol": "circle"
         },
         "mode": "markers+text",
         "name": "gas",
         "scene": "scene",
         "showlegend": true,
         "text": [
          "gas"
         ],
         "type": "scatter3d",
         "x": [
          -0.13388679921627045
         ],
         "y": [
          0.021818717941641808
         ],
         "z": [
          "gas"
         ]
        },
        {
         "hovertemplate": "color=ballena<br>x=%{x}<br>y=%{y}<br>z=%{z}<br>text=%{text}<extra></extra>",
         "legendgroup": "ballena",
         "marker": {
          "color": "#FFA15A",
          "symbol": "circle"
         },
         "mode": "markers+text",
         "name": "ballena",
         "scene": "scene",
         "showlegend": true,
         "text": [
          "ballena"
         ],
         "type": "scatter3d",
         "x": [
          -0.07440165430307388
         ],
         "y": [
          0.016774101182818413
         ],
         "z": [
          "ballena"
         ]
        },
        {
         "hovertemplate": "color=bastos<br>x=%{x}<br>y=%{y}<br>z=%{z}<br>text=%{text}<extra></extra>",
         "legendgroup": "bastos",
         "marker": {
          "color": "#19d3f3",
          "symbol": "circle"
         },
         "mode": "markers+text",
         "name": "bastos",
         "scene": "scene",
         "showlegend": true,
         "text": [
          "bastos"
         ],
         "type": "scatter3d",
         "x": [
          0.11739475280046463
         ],
         "y": [
          -0.07268690317869186
         ],
         "z": [
          "bastos"
         ]
        },
        {
         "hovertemplate": "color=azufre<br>x=%{x}<br>y=%{y}<br>z=%{z}<br>text=%{text}<extra></extra>",
         "legendgroup": "azufre",
         "marker": {
          "color": "#FF6692",
          "symbol": "circle"
         },
         "mode": "markers+text",
         "name": "azufre",
         "scene": "scene",
         "showlegend": true,
         "text": [
          "azufre"
         ],
         "type": "scatter3d",
         "x": [
          -0.10844837874174118
         ],
         "y": [
          0.07316544651985168
         ],
         "z": [
          "azufre"
         ]
        },
        {
         "hovertemplate": "color=olimar<br>x=%{x}<br>y=%{y}<br>z=%{z}<br>text=%{text}<extra></extra>",
         "legendgroup": "olimar",
         "marker": {
          "color": "#B6E880",
          "symbol": "circle"
         },
         "mode": "markers+text",
         "name": "olimar",
         "scene": "scene",
         "showlegend": true,
         "text": [
          "olimar"
         ],
         "type": "scatter3d",
         "x": [
          0.025751380249857903
         ],
         "y": [
          0.08252139389514923
         ],
         "z": [
          "olimar"
         ]
        },
        {
         "hovertemplate": "color=lafinur<br>x=%{x}<br>y=%{y}<br>z=%{z}<br>text=%{text}<extra></extra>",
         "legendgroup": "lafinur",
         "marker": {
          "color": "#FF97FF",
          "symbol": "circle"
         },
         "mode": "markers+text",
         "name": "lafinur",
         "scene": "scene",
         "showlegend": true,
         "text": [
          "lafinur"
         ],
         "type": "scatter3d",
         "x": [
          -0.05323502793908119
         ],
         "y": [
          0.023677047342061996
         ],
         "z": [
          "lafinur"
         ]
        },
        {
         "hovertemplate": "color=melián<br>x=%{x}<br>y=%{y}<br>z=%{z}<br>text=%{text}<extra></extra>",
         "legendgroup": "melián",
         "marker": {
          "color": "#FECB52",
          "symbol": "circle"
         },
         "mode": "markers+text",
         "name": "melián",
         "scene": "scene",
         "showlegend": true,
         "text": [
          "melián"
         ],
         "type": "scatter3d",
         "x": [
          -0.031854767352342606
         ],
         "y": [
          0.03792917728424072
         ],
         "z": [
          "melián"
         ]
        },
        {
         "hovertemplate": "color=ferrocarril<br>x=%{x}<br>y=%{y}<br>z=%{z}<br>text=%{text}<extra></extra>",
         "legendgroup": "ferrocarril",
         "marker": {
          "color": "#636efa",
          "symbol": "circle"
         },
         "mode": "markers+text",
         "name": "ferrocarril",
         "scene": "scene",
         "showlegend": true,
         "text": [
          "ferrocarril"
         ],
         "type": "scatter3d",
         "x": [
          0.011503847315907478
         ],
         "y": [
          -0.05911950021982193
         ],
         "z": [
          "ferrocarril"
         ]
        },
        {
         "hovertemplate": "color=dije<br>x=%{x}<br>y=%{y}<br>z=%{z}<br>text=%{text}<extra></extra>",
         "legendgroup": "dije",
         "marker": {
          "color": "#EF553B",
          "symbol": "circle"
         },
         "mode": "markers+text",
         "name": "dije",
         "scene": "scene",
         "showlegend": true,
         "text": [
          "dije"
         ],
         "type": "scatter3d",
         "x": [
          0.07124652713537216
         ],
         "y": [
          0.014583620242774487
         ],
         "z": [
          "dije"
         ]
        },
        {
         "hovertemplate": "color=pérez<br>x=%{x}<br>y=%{y}<br>z=%{z}<br>text=%{text}<extra></extra>",
         "legendgroup": "pérez",
         "marker": {
          "color": "#00cc96",
          "symbol": "circle"
         },
         "mode": "markers+text",
         "name": "pérez",
         "scene": "scene",
         "showlegend": true,
         "text": [
          "pérez"
         ],
         "type": "scatter3d",
         "x": [
          0.10094156116247177
         ],
         "y": [
          -0.05723579600453377
         ],
         "z": [
          "pérez"
         ]
        },
        {
         "hovertemplate": "color=hablando<br>x=%{x}<br>y=%{y}<br>z=%{z}<br>text=%{text}<extra></extra>",
         "legendgroup": "hablando",
         "marker": {
          "color": "#ab63fa",
          "symbol": "circle"
         },
         "mode": "markers+text",
         "name": "hablando",
         "scene": "scene",
         "showlegend": true,
         "text": [
          "hablando"
         ],
         "type": "scatter3d",
         "x": [
          -0.022457212209701538
         ],
         "y": [
          0.03965168073773384
         ],
         "z": [
          "hablando"
         ]
        },
        {
         "hovertemplate": "color=sabrá<br>x=%{x}<br>y=%{y}<br>z=%{z}<br>text=%{text}<extra></extra>",
         "legendgroup": "sabrá",
         "marker": {
          "color": "#FFA15A",
          "symbol": "circle"
         },
         "mode": "markers+text",
         "name": "sabrá",
         "scene": "scene",
         "showlegend": true,
         "text": [
          "sabrá"
         ],
         "type": "scatter3d",
         "x": [
          -0.13197220861911774
         ],
         "y": [
          0.023432938382029533
         ],
         "z": [
          "sabrá"
         ]
        },
        {
         "hovertemplate": "color=xvii<br>x=%{x}<br>y=%{y}<br>z=%{z}<br>text=%{text}<extra></extra>",
         "legendgroup": "xvii",
         "marker": {
          "color": "#19d3f3",
          "symbol": "circle"
         },
         "mode": "markers+text",
         "name": "xvii",
         "scene": "scene",
         "showlegend": true,
         "text": [
          "xvii"
         ],
         "type": "scatter3d",
         "x": [
          -0.10119599848985672
         ],
         "y": [
          -0.1350087672472
         ],
         "z": [
          "xvii"
         ]
        },
        {
         "hovertemplate": "color=intuir<br>x=%{x}<br>y=%{y}<br>z=%{z}<br>text=%{text}<extra></extra>",
         "legendgroup": "intuir",
         "marker": {
          "color": "#FF6692",
          "symbol": "circle"
         },
         "mode": "markers+text",
         "name": "intuir",
         "scene": "scene",
         "showlegend": true,
         "text": [
          "intuir"
         ],
         "type": "scatter3d",
         "x": [
          0.10495824366807938
         ],
         "y": [
          -0.12012472748756409
         ],
         "z": [
          "intuir"
         ]
        },
        {
         "hovertemplate": "color=innumerable<br>x=%{x}<br>y=%{y}<br>z=%{z}<br>text=%{text}<extra></extra>",
         "legendgroup": "innumerable",
         "marker": {
          "color": "#B6E880",
          "symbol": "circle"
         },
         "mode": "markers+text",
         "name": "innumerable",
         "scene": "scene",
         "showlegend": true,
         "text": [
          "innumerable"
         ],
         "type": "scatter3d",
         "x": [
          -0.032796889543533325
         ],
         "y": [
          -0.025790594518184662
         ],
         "z": [
          "innumerable"
         ]
        },
        {
         "hovertemplate": "color=cambiante<br>x=%{x}<br>y=%{y}<br>z=%{z}<br>text=%{text}<extra></extra>",
         "legendgroup": "cambiante",
         "marker": {
          "color": "#FF97FF",
          "symbol": "circle"
         },
         "mode": "markers+text",
         "name": "cambiante",
         "scene": "scene",
         "showlegend": true,
         "text": [
          "cambiante"
         ],
         "type": "scatter3d",
         "x": [
          -0.07106391340494156
         ],
         "y": [
          0.007595958653837442
         ],
         "z": [
          "cambiante"
         ]
        },
        {
         "hovertemplate": "color=fuego<br>x=%{x}<br>y=%{y}<br>z=%{z}<br>text=%{text}<extra></extra>",
         "legendgroup": "fuego",
         "marker": {
          "color": "#FECB52",
          "symbol": "circle"
         },
         "mode": "markers+text",
         "name": "fuego",
         "scene": "scene",
         "showlegend": true,
         "text": [
          "fuego"
         ],
         "type": "scatter3d",
         "x": [
          0.008534752763807774
         ],
         "y": [
          0.012368276715278625
         ],
         "z": [
          "fuego"
         ]
        },
        {
         "hovertemplate": "color=cuchilla<br>x=%{x}<br>y=%{y}<br>z=%{z}<br>text=%{text}<extra></extra>",
         "legendgroup": "cuchilla",
         "marker": {
          "color": "#636efa",
          "symbol": "circle"
         },
         "mode": "markers+text",
         "name": "cuchilla",
         "scene": "scene",
         "showlegend": true,
         "text": [
          "cuchilla"
         ],
         "type": "scatter3d",
         "x": [
          0.076364666223526
         ],
         "y": [
          0.035648297518491745
         ],
         "z": [
          "cuchilla"
         ]
        },
        {
         "hovertemplate": "color=ganado<br>x=%{x}<br>y=%{y}<br>z=%{z}<br>text=%{text}<extra></extra>",
         "legendgroup": "ganado",
         "marker": {
          "color": "#EF553B",
          "symbol": "circle"
         },
         "mode": "markers+text",
         "name": "ganado",
         "scene": "scene",
         "showlegend": true,
         "text": [
          "ganado"
         ],
         "type": "scatter3d",
         "x": [
          -0.08482879400253296
         ],
         "y": [
          0.07467807829380035
         ],
         "z": [
          "ganado"
         ]
        },
        {
         "hovertemplate": "color=punta<br>x=%{x}<br>y=%{y}<br>z=%{z}<br>text=%{text}<extra></extra>",
         "legendgroup": "punta",
         "marker": {
          "color": "#00cc96",
          "symbol": "circle"
         },
         "mode": "markers+text",
         "name": "punta",
         "scene": "scene",
         "showlegend": true,
         "text": [
          "punta"
         ],
         "type": "scatter3d",
         "x": [
          -0.010233509354293346
         ],
         "y": [
          0.05063309893012047
         ],
         "z": [
          "punta"
         ]
        },
        {
         "hovertemplate": "color=potro<br>x=%{x}<br>y=%{y}<br>z=%{z}<br>text=%{text}<extra></extra>",
         "legendgroup": "potro",
         "marker": {
          "color": "#ab63fa",
          "symbol": "circle"
         },
         "mode": "markers+text",
         "name": "potro",
         "scene": "scene",
         "showlegend": true,
         "text": [
          "potro"
         ],
         "type": "scatter3d",
         "x": [
          -0.00335982465185225
         ],
         "y": [
          -0.008721712976694107
         ],
         "z": [
          "potro"
         ]
        },
        {
         "hovertemplate": "color=crines<br>x=%{x}<br>y=%{y}<br>z=%{z}<br>text=%{text}<extra></extra>",
         "legendgroup": "crines",
         "marker": {
          "color": "#FFA15A",
          "symbol": "circle"
         },
         "mode": "markers+text",
         "name": "crines",
         "scene": "scene",
         "showlegend": true,
         "text": [
          "crines"
         ],
         "type": "scatter3d",
         "x": [
          -0.08800531178712845
         ],
         "y": [
          0.07146047800779343
         ],
         "z": [
          "crines"
         ]
        },
        {
         "hovertemplate": "color=aborrascadas<br>x=%{x}<br>y=%{y}<br>z=%{z}<br>text=%{text}<extra></extra>",
         "legendgroup": "aborrascadas",
         "marker": {
          "color": "#19d3f3",
          "symbol": "circle"
         },
         "mode": "markers+text",
         "name": "aborrascadas",
         "scene": "scene",
         "showlegend": true,
         "text": [
          "aborrascadas"
         ],
         "type": "scatter3d",
         "x": [
          -0.1226947009563446
         ],
         "y": [
          0.04103466123342514
         ],
         "z": [
          "aborrascadas"
         ]
        },
        {
         "hovertemplate": "color=pasaba<br>x=%{x}<br>y=%{y}<br>z=%{z}<br>text=%{text}<extra></extra>",
         "legendgroup": "pasaba",
         "marker": {
          "color": "#FF6692",
          "symbol": "circle"
         },
         "mode": "markers+text",
         "name": "pasaba",
         "scene": "scene",
         "showlegend": true,
         "text": [
          "pasaba"
         ],
         "type": "scatter3d",
         "x": [
          0.030632048845291138
         ],
         "y": [
          0.054076291620731354
         ],
         "z": [
          "pasaba"
         ]
        },
        {
         "hovertemplate": "color=plenamente<br>x=%{x}<br>y=%{y}<br>z=%{z}<br>text=%{text}<extra></extra>",
         "legendgroup": "plenamente",
         "marker": {
          "color": "#B6E880",
          "symbol": "circle"
         },
         "mode": "markers+text",
         "name": "plenamente",
         "scene": "scene",
         "showlegend": true,
         "text": [
          "plenamente"
         ],
         "type": "scatter3d",
         "x": [
          -0.07639390230178833
         ],
         "y": [
          -0.00014724358334206045
         ],
         "z": [
          "plenamente"
         ]
        },
        {
         "hovertemplate": "color=podemos<br>x=%{x}<br>y=%{y}<br>z=%{z}<br>text=%{text}<extra></extra>",
         "legendgroup": "podemos",
         "marker": {
          "color": "#FF97FF",
          "symbol": "circle"
         },
         "mode": "markers+text",
         "name": "podemos",
         "scene": "scene",
         "showlegend": true,
         "text": [
          "podemos"
         ],
         "type": "scatter3d",
         "x": [
          0.03582243621349335
         ],
         "y": [
          0.03735533729195595
         ],
         "z": [
          "podemos"
         ]
        },
        {
         "hovertemplate": "color=timoteo<br>x=%{x}<br>y=%{y}<br>z=%{z}<br>text=%{text}<extra></extra>",
         "legendgroup": "timoteo",
         "marker": {
          "color": "#FECB52",
          "symbol": "circle"
         },
         "mode": "markers+text",
         "name": "timoteo",
         "scene": "scene",
         "showlegend": true,
         "text": [
          "timoteo"
         ],
         "type": "scatter3d",
         "x": [
          -0.1151500716805458
         ],
         "y": [
          0.009252827614545822
         ],
         "z": [
          "timoteo"
         ]
        },
        {
         "hovertemplate": "color=rombo<br>x=%{x}<br>y=%{y}<br>z=%{z}<br>text=%{text}<extra></extra>",
         "legendgroup": "rombo",
         "marker": {
          "color": "#636efa",
          "symbol": "circle"
         },
         "mode": "markers+text",
         "name": "rombo",
         "scene": "scene",
         "showlegend": true,
         "text": [
          "rombo"
         ],
         "type": "scatter3d",
         "x": [
          -0.0432615652680397
         ],
         "y": [
          0.02692791447043419
         ],
         "z": [
          "rombo"
         ]
        },
        {
         "hovertemplate": "color=rectángulo<br>x=%{x}<br>y=%{y}<br>z=%{z}<br>text=%{text}<extra></extra>",
         "legendgroup": "rectángulo",
         "marker": {
          "color": "#EF553B",
          "symbol": "circle"
         },
         "mode": "markers+text",
         "name": "rectángulo",
         "scene": "scene",
         "showlegend": true,
         "text": [
          "rectángulo"
         ],
         "type": "scatter3d",
         "x": [
          -0.026958391070365906
         ],
         "y": [
          -0.05317423865199089
         ],
         "z": [
          "rectángulo"
         ]
        },
        {
         "hovertemplate": "color=triángulo<br>x=%{x}<br>y=%{y}<br>z=%{z}<br>text=%{text}<extra></extra>",
         "legendgroup": "triángulo",
         "marker": {
          "color": "#00cc96",
          "symbol": "circle"
         },
         "mode": "markers+text",
         "name": "triángulo",
         "scene": "scene",
         "showlegend": true,
         "text": [
          "triángulo"
         ],
         "type": "scatter3d",
         "x": [
          -0.0868372768163681
         ],
         "y": [
          0.001149875344708562
         ],
         "z": [
          "triángulo"
         ]
        },
        {
         "hovertemplate": "color=pizarrón<br>x=%{x}<br>y=%{y}<br>z=%{z}<br>text=%{text}<extra></extra>",
         "legendgroup": "pizarrón",
         "marker": {
          "color": "#ab63fa",
          "symbol": "circle"
         },
         "mode": "markers+text",
         "name": "pizarrón",
         "scene": "scene",
         "showlegend": true,
         "text": [
          "pizarrón"
         ],
         "type": "scatter3d",
         "x": [
          -0.011478929780423641
         ],
         "y": [
          0.012040931731462479
         ],
         "z": [
          "pizarrón"
         ]
        },
        {
         "hovertemplate": "color=circunferencia<br>x=%{x}<br>y=%{y}<br>z=%{z}<br>text=%{text}<extra></extra>",
         "legendgroup": "circunferencia",
         "marker": {
          "color": "#FFA15A",
          "symbol": "circle"
         },
         "mode": "markers+text",
         "name": "circunferencia",
         "scene": "scene",
         "showlegend": true,
         "text": [
          "circunferencia"
         ],
         "type": "scatter3d",
         "x": [
          0.033571384847164154
         ],
         "y": [
          0.03021675907075405
         ],
         "z": [
          "circunferencia"
         ]
        },
        {
         "hovertemplate": "color=basuras<br>x=%{x}<br>y=%{y}<br>z=%{z}<br>text=%{text}<extra></extra>",
         "legendgroup": "basuras",
         "marker": {
          "color": "#19d3f3",
          "symbol": "circle"
         },
         "mode": "markers+text",
         "name": "basuras",
         "scene": "scene",
         "showlegend": true,
         "text": [
          "basuras"
         ],
         "type": "scatter3d",
         "x": [
          0.04848099127411842
         ],
         "y": [
          0.01010227482765913
         ],
         "z": [
          "basuras"
         ]
        },
        {
         "hovertemplate": "color=vaciadero<br>x=%{x}<br>y=%{y}<br>z=%{z}<br>text=%{text}<extra></extra>",
         "legendgroup": "vaciadero",
         "marker": {
          "color": "#FF6692",
          "symbol": "circle"
         },
         "mode": "markers+text",
         "name": "vaciadero",
         "scene": "scene",
         "showlegend": true,
         "text": [
          "vaciadero"
         ],
         "type": "scatter3d",
         "x": [
          -0.015485234558582306
         ],
         "y": [
          -0.01515289768576622
         ],
         "z": [
          "vaciadero"
         ]
        },
        {
         "hovertemplate": "color=señor<br>x=%{x}<br>y=%{y}<br>z=%{z}<br>text=%{text}<extra></extra>",
         "legendgroup": "señor",
         "marker": {
          "color": "#B6E880",
          "symbol": "circle"
         },
         "mode": "markers+text",
         "name": "señor",
         "scene": "scene",
         "showlegend": true,
         "text": [
          "señor"
         ],
         "type": "scatter3d",
         "x": [
          0.07423216104507446
         ],
         "y": [
          -0.057493142783641815
         ],
         "z": [
          "señor"
         ]
        },
        {
         "hovertemplate": "color=entenderme<br>x=%{x}<br>y=%{y}<br>z=%{z}<br>text=%{text}<extra></extra>",
         "legendgroup": "entenderme",
         "marker": {
          "color": "#FF97FF",
          "symbol": "circle"
         },
         "mode": "markers+text",
         "name": "entenderme",
         "scene": "scene",
         "showlegend": true,
         "text": [
          "entenderme"
         ],
         "type": "scatter3d",
         "x": [
          -0.046322133392095566
         ],
         "y": [
          0.02287677675485611
         ],
         "z": [
          "entenderme"
         ]
        },
        {
         "hovertemplate": "color=vigilia<br>x=%{x}<br>y=%{y}<br>z=%{z}<br>text=%{text}<extra></extra>",
         "legendgroup": "vigilia",
         "marker": {
          "color": "#FECB52",
          "symbol": "circle"
         },
         "mode": "markers+text",
         "name": "vigilia",
         "scene": "scene",
         "showlegend": true,
         "text": [
          "vigilia"
         ],
         "type": "scatter3d",
         "x": [
          0.03188156709074974
         ],
         "y": [
          -0.0046322159469127655
         ],
         "z": [
          "vigilia"
         ]
        },
        {
         "hovertemplate": "color=locke<br>x=%{x}<br>y=%{y}<br>z=%{z}<br>text=%{text}<extra></extra>",
         "legendgroup": "locke",
         "marker": {
          "color": "#636efa",
          "symbol": "circle"
         },
         "mode": "markers+text",
         "name": "locke",
         "scene": "scene",
         "showlegend": true,
         "text": [
          "locke"
         ],
         "type": "scatter3d",
         "x": [
          -0.10595470666885376
         ],
         "y": [
          0.06157262250781059
         ],
         "z": [
          "locke"
         ]
        },
        {
         "hovertemplate": "color=ceniza<br>x=%{x}<br>y=%{y}<br>z=%{z}<br>text=%{text}<extra></extra>",
         "legendgroup": "ceniza",
         "marker": {
          "color": "#EF553B",
          "symbol": "circle"
         },
         "mode": "markers+text",
         "name": "ceniza",
         "scene": "scene",
         "showlegend": true,
         "text": [
          "ceniza"
         ],
         "type": "scatter3d",
         "x": [
          0.07157199829816818
         ],
         "y": [
          0.0011075536021962762
         ],
         "z": [
          "ceniza"
         ]
        },
        {
         "hovertemplate": "color=caras<br>x=%{x}<br>y=%{y}<br>z=%{z}<br>text=%{text}<extra></extra>",
         "legendgroup": "caras",
         "marker": {
          "color": "#00cc96",
          "symbol": "circle"
         },
         "mode": "markers+text",
         "name": "caras",
         "scene": "scene",
         "showlegend": true,
         "text": [
          "caras"
         ],
         "type": "scatter3d",
         "x": [
          0.07456683367490768
         ],
         "y": [
          0.013268769718706608
         ],
         "z": [
          "caras"
         ]
        },
        {
         "hovertemplate": "color=largo<br>x=%{x}<br>y=%{y}<br>z=%{z}<br>text=%{text}<extra></extra>",
         "legendgroup": "largo",
         "marker": {
          "color": "#ab63fa",
          "symbol": "circle"
         },
         "mode": "markers+text",
         "name": "largo",
         "scene": "scene",
         "showlegend": true,
         "text": [
          "largo"
         ],
         "type": "scatter3d",
         "x": [
          -0.09535066038370132
         ],
         "y": [
          -0.029655728489160538
         ],
         "z": [
          "largo"
         ]
        },
        {
         "hovertemplate": "color=velorio<br>x=%{x}<br>y=%{y}<br>z=%{z}<br>text=%{text}<extra></extra>",
         "legendgroup": "velorio",
         "marker": {
          "color": "#FFA15A",
          "symbol": "circle"
         },
         "mode": "markers+text",
         "name": "velorio",
         "scene": "scene",
         "showlegend": true,
         "text": [
          "velorio"
         ],
         "type": "scatter3d",
         "x": [
          -0.020648960024118423
         ],
         "y": [
          -0.04827624186873436
         ],
         "z": [
          "velorio"
         ]
        },
        {
         "hovertemplate": "color=hará<br>x=%{x}<br>y=%{y}<br>z=%{z}<br>text=%{text}<extra></extra>",
         "legendgroup": "hará",
         "marker": {
          "color": "#19d3f3",
          "symbol": "circle"
         },
         "mode": "markers+text",
         "name": "hará",
         "scene": "scene",
         "showlegend": true,
         "text": [
          "hará"
         ],
         "type": "scatter3d",
         "x": [
          0.023278523236513138
         ],
         "y": [
          -0.07807479798793793
         ],
         "z": [
          "hará"
         ]
        },
        {
         "hovertemplate": "color=temprano<br>x=%{x}<br>y=%{y}<br>z=%{z}<br>text=%{text}<extra></extra>",
         "legendgroup": "temprano",
         "marker": {
          "color": "#FF6692",
          "symbol": "circle"
         },
         "mode": "markers+text",
         "name": "temprano",
         "scene": "scene",
         "showlegend": true,
         "text": [
          "temprano"
         ],
         "type": "scatter3d",
         "x": [
          -0.05344799533486366
         ],
         "y": [
          0.02243112213909626
         ],
         "z": [
          "temprano"
         ]
        },
        {
         "hovertemplate": "color=inmortales<br>x=%{x}<br>y=%{y}<br>z=%{z}<br>text=%{text}<extra></extra>",
         "legendgroup": "inmortales",
         "marker": {
          "color": "#B6E880",
          "symbol": "circle"
         },
         "mode": "markers+text",
         "name": "inmortales",
         "scene": "scene",
         "showlegend": true,
         "text": [
          "inmortales"
         ],
         "type": "scatter3d",
         "x": [
          0.03628594055771828
         ],
         "y": [
          -0.010839341208338737
         ],
         "z": [
          "inmortales"
         ]
        },
        {
         "hovertemplate": "color=somos<br>x=%{x}<br>y=%{y}<br>z=%{z}<br>text=%{text}<extra></extra>",
         "legendgroup": "somos",
         "marker": {
          "color": "#FF97FF",
          "symbol": "circle"
         },
         "mode": "markers+text",
         "name": "somos",
         "scene": "scene",
         "showlegend": true,
         "text": [
          "somos"
         ],
         "type": "scatter3d",
         "x": [
          0.08859698474407196
         ],
         "y": [
          -0.06316832453012466
         ],
         "z": [
          "somos"
         ]
        },
        {
         "hovertemplate": "color=profundamente<br>x=%{x}<br>y=%{y}<br>z=%{z}<br>text=%{text}<extra></extra>",
         "legendgroup": "profundamente",
         "marker": {
          "color": "#FECB52",
          "symbol": "circle"
         },
         "mode": "markers+text",
         "name": "profundamente",
         "scene": "scene",
         "showlegend": true,
         "text": [
          "profundamente"
         ],
         "type": "scatter3d",
         "x": [
          0.1047833263874054
         ],
         "y": [
          -0.04241468012332916
         ],
         "z": [
          "profundamente"
         ]
        },
        {
         "hovertemplate": "color=sabemos<br>x=%{x}<br>y=%{y}<br>z=%{z}<br>text=%{text}<extra></extra>",
         "legendgroup": "sabemos",
         "marker": {
          "color": "#636efa",
          "symbol": "circle"
         },
         "mode": "markers+text",
         "name": "sabemos",
         "scene": "scene",
         "showlegend": true,
         "text": [
          "sabemos"
         ],
         "type": "scatter3d",
         "x": [
          -0.03271593526005745
         ],
         "y": [
          0.12784631550312042
         ],
         "z": [
          "sabemos"
         ]
        },
        {
         "hovertemplate": "color=postergable<br>x=%{x}<br>y=%{y}<br>z=%{z}<br>text=%{text}<extra></extra>",
         "legendgroup": "postergable",
         "marker": {
          "color": "#EF553B",
          "symbol": "circle"
         },
         "mode": "markers+text",
         "name": "postergable",
         "scene": "scene",
         "showlegend": true,
         "text": [
          "postergable"
         ],
         "type": "scatter3d",
         "x": [
          -0.001372762955725193
         ],
         "y": [
          0.024941571056842804
         ],
         "z": [
          "postergable"
         ]
        },
        {
         "hovertemplate": "color=postergando<br>x=%{x}<br>y=%{y}<br>z=%{z}<br>text=%{text}<extra></extra>",
         "legendgroup": "postergando",
         "marker": {
          "color": "#00cc96",
          "symbol": "circle"
         },
         "mode": "markers+text",
         "name": "postergando",
         "scene": "scene",
         "showlegend": true,
         "text": [
          "postergando"
         ],
         "type": "scatter3d",
         "x": [
          -0.05365351587533951
         ],
         "y": [
          -0.07663685083389282
         ],
         "z": [
          "postergando"
         ]
        },
        {
         "hovertemplate": "color=vivimos<br>x=%{x}<br>y=%{y}<br>z=%{z}<br>text=%{text}<extra></extra>",
         "legendgroup": "vivimos",
         "marker": {
          "color": "#ab63fa",
          "symbol": "circle"
         },
         "mode": "markers+text",
         "name": "vivimos",
         "scene": "scene",
         "showlegend": true,
         "text": [
          "vivimos"
         ],
         "type": "scatter3d",
         "x": [
          0.04716349393129349
         ],
         "y": [
          0.02262859232723713
         ],
         "z": [
          "vivimos"
         ]
        },
        {
         "hovertemplate": "color=experimento<br>x=%{x}<br>y=%{y}<br>z=%{z}<br>text=%{text}<extra></extra>",
         "legendgroup": "experimento",
         "marker": {
          "color": "#FFA15A",
          "symbol": "circle"
         },
         "mode": "markers+text",
         "name": "experimento",
         "scene": "scene",
         "showlegend": true,
         "text": [
          "experimento"
         ],
         "type": "scatter3d",
         "x": [
          0.044203367084264755
         ],
         "y": [
          -0.03737756609916687
         ],
         "z": [
          "experimento"
         ]
        },
        {
         "hovertemplate": "color=hiciera<br>x=%{x}<br>y=%{y}<br>z=%{z}<br>text=%{text}<extra></extra>",
         "legendgroup": "hiciera",
         "marker": {
          "color": "#19d3f3",
          "symbol": "circle"
         },
         "mode": "markers+text",
         "name": "hiciera",
         "scene": "scene",
         "showlegend": true,
         "text": [
          "hiciera"
         ],
         "type": "scatter3d",
         "x": [
          0.014148113317787647
         ],
         "y": [
          -0.0501091331243515
         ],
         "z": [
          "hiciera"
         ]
        },
        {
         "hovertemplate": "color=increíble<br>x=%{x}<br>y=%{y}<br>z=%{z}<br>text=%{text}<extra></extra>",
         "legendgroup": "increíble",
         "marker": {
          "color": "#FF6692",
          "symbol": "circle"
         },
         "mode": "markers+text",
         "name": "increíble",
         "scene": "scene",
         "showlegend": true,
         "text": [
          "increíble"
         ],
         "type": "scatter3d",
         "x": [
          -0.03472628444433212
         ],
         "y": [
          0.0011503204004839063
         ],
         "z": [
          "increíble"
         ]
        },
        {
         "hovertemplate": "color=inverosímil<br>x=%{x}<br>y=%{y}<br>z=%{z}<br>text=%{text}<extra></extra>",
         "legendgroup": "inverosímil",
         "marker": {
          "color": "#B6E880",
          "symbol": "circle"
         },
         "mode": "markers+text",
         "name": "inverosímil",
         "scene": "scene",
         "showlegend": true,
         "text": [
          "inverosímil"
         ],
         "type": "scatter3d",
         "x": [
          0.0594482347369194
         ],
         "y": [
          0.018908841535449028
         ],
         "z": [
          "inverosímil"
         ]
        },
        {
         "hovertemplate": "color=manta<br>x=%{x}<br>y=%{y}<br>z=%{z}<br>text=%{text}<extra></extra>",
         "legendgroup": "manta",
         "marker": {
          "color": "#FF97FF",
          "symbol": "circle"
         },
         "mode": "markers+text",
         "name": "manta",
         "scene": "scene",
         "showlegend": true,
         "text": [
          "manta"
         ],
         "type": "scatter3d",
         "x": [
          -0.029453836381435394
         ],
         "y": [
          0.14684288203716278
         ],
         "z": [
          "manta"
         ]
        },
        {
         "hovertemplate": "color=fonógrafos<br>x=%{x}<br>y=%{y}<br>z=%{z}<br>text=%{text}<extra></extra>",
         "legendgroup": "fonógrafos",
         "marker": {
          "color": "#FECB52",
          "symbol": "circle"
         },
         "mode": "markers+text",
         "name": "fonógrafos",
         "scene": "scene",
         "showlegend": true,
         "text": [
          "fonógrafos"
         ],
         "type": "scatter3d",
         "x": [
          -0.08665113896131516
         ],
         "y": [
          -0.05490374565124512
         ],
         "z": [
          "fonógrafos"
         ]
        },
        {
         "hovertemplate": "color=cinematógrafos<br>x=%{x}<br>y=%{y}<br>z=%{z}<br>text=%{text}<extra></extra>",
         "legendgroup": "cinematógrafos",
         "marker": {
          "color": "#636efa",
          "symbol": "circle"
         },
         "mode": "markers+text",
         "name": "cinematógrafos",
         "scene": "scene",
         "showlegend": true,
         "text": [
          "cinematógrafos"
         ],
         "type": "scatter3d",
         "x": [
          0.023541878908872604
         ],
         "y": [
          0.06323128193616867
         ],
         "z": [
          "cinematógrafos"
         ]
        },
        {
         "hovertemplate": "color=puesto<br>x=%{x}<br>y=%{y}<br>z=%{z}<br>text=%{text}<extra></extra>",
         "legendgroup": "puesto",
         "marker": {
          "color": "#EF553B",
          "symbol": "circle"
         },
         "mode": "markers+text",
         "name": "puesto",
         "scene": "scene",
         "showlegend": true,
         "text": [
          "puesto"
         ],
         "type": "scatter3d",
         "x": [
          0.01036866009235382
         ],
         "y": [
          -0.003503898624330759
         ],
         "z": [
          "puesto"
         ]
        },
        {
         "hovertemplate": "color=carne<br>x=%{x}<br>y=%{y}<br>z=%{z}<br>text=%{text}<extra></extra>",
         "legendgroup": "carne",
         "marker": {
          "color": "#00cc96",
          "symbol": "circle"
         },
         "mode": "markers+text",
         "name": "carne",
         "scene": "scene",
         "showlegend": true,
         "text": [
          "carne"
         ],
         "type": "scatter3d",
         "x": [
          0.04743988811969757
         ],
         "y": [
          0.014763657934963703
         ],
         "z": [
          "carne"
         ]
        },
        {
         "hovertemplate": "color=entendió<br>x=%{x}<br>y=%{y}<br>z=%{z}<br>text=%{text}<extra></extra>",
         "legendgroup": "entendió",
         "marker": {
          "color": "#ab63fa",
          "symbol": "circle"
         },
         "mode": "markers+text",
         "name": "entendió",
         "scene": "scene",
         "showlegend": true,
         "text": [
          "entendió"
         ],
         "type": "scatter3d",
         "x": [
          0.08071742951869965
         ],
         "y": [
          0.03716498613357544
         ],
         "z": [
          "entendió"
         ]
        },
        {
         "hovertemplate": "color=quiso<br>x=%{x}<br>y=%{y}<br>z=%{z}<br>text=%{text}<extra></extra>",
         "legendgroup": "quiso",
         "marker": {
          "color": "#FFA15A",
          "symbol": "circle"
         },
         "mode": "markers+text",
         "name": "quiso",
         "scene": "scene",
         "showlegend": true,
         "text": [
          "quiso"
         ],
         "type": "scatter3d",
         "x": [
          0.029730377718806267
         ],
         "y": [
          0.14296698570251465
         ],
         "z": [
          "quiso"
         ]
        },
        {
         "hovertemplate": "color=veía<br>x=%{x}<br>y=%{y}<br>z=%{z}<br>text=%{text}<extra></extra>",
         "legendgroup": "veía",
         "marker": {
          "color": "#19d3f3",
          "symbol": "circle"
         },
         "mode": "markers+text",
         "name": "veía",
         "scene": "scene",
         "showlegend": true,
         "text": [
          "veía"
         ],
         "type": "scatter3d",
         "x": [
          0.0552452877163887
         ],
         "y": [
          0.03650718182325363
         ],
         "z": [
          "veía"
         ]
        },
        {
         "hovertemplate": "color=estrellas<br>x=%{x}<br>y=%{y}<br>z=%{z}<br>text=%{text}<extra></extra>",
         "legendgroup": "estrellas",
         "marker": {
          "color": "#FF6692",
          "symbol": "circle"
         },
         "mode": "markers+text",
         "name": "estrellas",
         "scene": "scene",
         "showlegend": true,
         "text": [
          "estrellas"
         ],
         "type": "scatter3d",
         "x": [
          0.06414710730314255
         ],
         "y": [
          -0.028745854273438454
         ],
         "z": [
          "estrellas"
         ]
        },
        {
         "hovertemplate": "color=cuántas<br>x=%{x}<br>y=%{y}<br>z=%{z}<br>text=%{text}<extra></extra>",
         "legendgroup": "cuántas",
         "marker": {
          "color": "#B6E880",
          "symbol": "circle"
         },
         "mode": "markers+text",
         "name": "cuántas",
         "scene": "scene",
         "showlegend": true,
         "text": [
          "cuántas"
         ],
         "type": "scatter3d",
         "x": [
          -0.07649297267198563
         ],
         "y": [
          0.009407225996255875
         ],
         "z": [
          "cuántas"
         ]
        },
        {
         "hovertemplate": "color=metrodoro<br>x=%{x}<br>y=%{y}<br>z=%{z}<br>text=%{text}<extra></extra>",
         "legendgroup": "metrodoro",
         "marker": {
          "color": "#FF97FF",
          "symbol": "circle"
         },
         "mode": "markers+text",
         "name": "metrodoro",
         "scene": "scene",
         "showlegend": true,
         "text": [
          "metrodoro"
         ],
         "type": "scatter3d",
         "x": [
          -0.03450509533286095
         ],
         "y": [
          0.0035831949207931757
         ],
         "z": [
          "metrodoro"
         ]
        },
        {
         "hovertemplate": "color=inventor<br>x=%{x}<br>y=%{y}<br>z=%{z}<br>text=%{text}<extra></extra>",
         "legendgroup": "inventor",
         "marker": {
          "color": "#FECB52",
          "symbol": "circle"
         },
         "mode": "markers+text",
         "name": "inventor",
         "scene": "scene",
         "showlegend": true,
         "text": [
          "inventor"
         ],
         "type": "scatter3d",
         "x": [
          -0.0537276454269886
         ],
         "y": [
          -0.050279125571250916
         ],
         "z": [
          "inventor"
         ]
        },
        {
         "hovertemplate": "color=prestado<br>x=%{x}<br>y=%{y}<br>z=%{z}<br>text=%{text}<extra></extra>",
         "legendgroup": "prestado",
         "marker": {
          "color": "#636efa",
          "symbol": "circle"
         },
         "mode": "markers+text",
         "name": "prestado",
         "scene": "scene",
         "showlegend": true,
         "text": [
          "prestado"
         ],
         "type": "scatter3d",
         "x": [
          0.07658375799655914
         ],
         "y": [
          0.007911375723779202
         ],
         "z": [
          "prestado"
         ]
        },
        {
         "hovertemplate": "color=ser<br>x=%{x}<br>y=%{y}<br>z=%{z}<br>text=%{text}<extra></extra>",
         "legendgroup": "ser",
         "marker": {
          "color": "#EF553B",
          "symbol": "circle"
         },
         "mode": "markers+text",
         "name": "ser",
         "scene": "scene",
         "showlegend": true,
         "text": [
          "ser"
         ],
         "type": "scatter3d",
         "x": [
          0.0013243877328932285
         ],
         "y": [
          0.03882049396634102
         ],
         "z": [
          "ser"
         ]
        },
        {
         "hovertemplate": "color=consideraciones<br>x=%{x}<br>y=%{y}<br>z=%{z}<br>text=%{text}<extra></extra>",
         "legendgroup": "consideraciones",
         "marker": {
          "color": "#00cc96",
          "symbol": "circle"
         },
         "mode": "markers+text",
         "name": "consideraciones",
         "scene": "scene",
         "showlegend": true,
         "text": [
          "consideraciones"
         ],
         "type": "scatter3d",
         "x": [
          0.030258512124419212
         ],
         "y": [
          -0.04785548895597458
         ],
         "z": [
          "consideraciones"
         ]
        },
        {
         "hovertemplate": "color=dramatizar<br>x=%{x}<br>y=%{y}<br>z=%{z}<br>text=%{text}<extra></extra>",
         "legendgroup": "dramatizar",
         "marker": {
          "color": "#ab63fa",
          "symbol": "circle"
         },
         "mode": "markers+text",
         "name": "dramatizar",
         "scene": "scene",
         "showlegend": true,
         "text": [
          "dramatizar"
         ],
         "type": "scatter3d",
         "x": [
          -0.02127920836210251
         ],
         "y": [
          0.041620127856731415
         ],
         "z": [
          "dramatizar"
         ]
        },
        {
         "hovertemplate": "color=tentación<br>x=%{x}<br>y=%{y}<br>z=%{z}<br>text=%{text}<extra></extra>",
         "legendgroup": "tentación",
         "marker": {
          "color": "#FFA15A",
          "symbol": "circle"
         },
         "mode": "markers+text",
         "name": "tentación",
         "scene": "scene",
         "showlegend": true,
         "text": [
          "tentación"
         ],
         "type": "scatter3d",
         "x": [
          0.025835582986474037
         ],
         "y": [
          0.016867613419890404
         ],
         "z": [
          "tentación"
         ]
        },
        {
         "hovertemplate": "color=adverbio<br>x=%{x}<br>y=%{y}<br>z=%{z}<br>text=%{text}<extra></extra>",
         "legendgroup": "adverbio",
         "marker": {
          "color": "#19d3f3",
          "symbol": "circle"
         },
         "mode": "markers+text",
         "name": "adverbio",
         "scene": "scene",
         "showlegend": true,
         "text": [
          "adverbio"
         ],
         "type": "scatter3d",
         "x": [
          0.03437312692403793
         ],
         "y": [
          0.06029864028096199
         ],
         "z": [
          "adverbio"
         ]
        },
        {
         "hovertemplate": "color=perentorio<br>x=%{x}<br>y=%{y}<br>z=%{z}<br>text=%{text}<extra></extra>",
         "legendgroup": "perentorio",
         "marker": {
          "color": "#FF6692",
          "symbol": "circle"
         },
         "mode": "markers+text",
         "name": "perentorio",
         "scene": "scene",
         "showlegend": true,
         "text": [
          "perentorio"
         ],
         "type": "scatter3d",
         "x": [
          -0.05957559868693352
         ],
         "y": [
          -0.040224719792604446
         ],
         "z": [
          "perentorio"
         ]
        },
        {
         "hovertemplate": "color=negativa<br>x=%{x}<br>y=%{y}<br>z=%{z}<br>text=%{text}<extra></extra>",
         "legendgroup": "negativa",
         "marker": {
          "color": "#B6E880",
          "symbol": "circle"
         },
         "mode": "markers+text",
         "name": "negativa",
         "scene": "scene",
         "showlegend": true,
         "text": [
          "negativa"
         ],
         "type": "scatter3d",
         "x": [
          -0.04814499616622925
         ],
         "y": [
          -0.07567502558231354
         ],
         "z": [
          "negativa"
         ]
        },
        {
         "hovertemplate": "color=contradicción<br>x=%{x}<br>y=%{y}<br>z=%{z}<br>text=%{text}<extra></extra>",
         "legendgroup": "contradicción",
         "marker": {
          "color": "#FF97FF",
          "symbol": "circle"
         },
         "mode": "markers+text",
         "name": "contradicción",
         "scene": "scene",
         "showlegend": true,
         "text": [
          "contradicción"
         ],
         "type": "scatter3d",
         "x": [
          0.024161193519830704
         ],
         "y": [
          -0.0465737022459507
         ],
         "z": [
          "contradicción"
         ]
        },
        {
         "hovertemplate": "color=comunicar<br>x=%{x}<br>y=%{y}<br>z=%{z}<br>text=%{text}<extra></extra>",
         "legendgroup": "comunicar",
         "marker": {
          "color": "#FECB52",
          "symbol": "circle"
         },
         "mode": "markers+text",
         "name": "comunicar",
         "scene": "scene",
         "showlegend": true,
         "text": [
          "comunicar"
         ],
         "type": "scatter3d",
         "x": [
          0.00945848785340786
         ],
         "y": [
          0.01786220446228981
         ],
         "z": [
          "comunicar"
         ]
        },
        {
         "hovertemplate": "color=urgente<br>x=%{x}<br>y=%{y}<br>z=%{z}<br>text=%{text}<extra></extra>",
         "legendgroup": "urgente",
         "marker": {
          "color": "#636efa",
          "symbol": "circle"
         },
         "mode": "markers+text",
         "name": "urgente",
         "scene": "scene",
         "showlegend": true,
         "text": [
          "urgente"
         ],
         "type": "scatter3d",
         "x": [
          0.03106209821999073
         ],
         "y": [
          -0.0059821512550115585
         ],
         "z": [
          "urgente"
         ]
        },
        {
         "hovertemplate": "color=tarea<br>x=%{x}<br>y=%{y}<br>z=%{z}<br>text=%{text}<extra></extra>",
         "legendgroup": "tarea",
         "marker": {
          "color": "#EF553B",
          "symbol": "circle"
         },
         "mode": "markers+text",
         "name": "tarea",
         "scene": "scene",
         "showlegend": true,
         "text": [
          "tarea"
         ],
         "type": "scatter3d",
         "x": [
          -0.04233319312334061
         ],
         "y": [
          -0.020110733807086945
         ],
         "z": [
          "tarea"
         ]
        },
        {
         "hovertemplate": "color=destinatario<br>x=%{x}<br>y=%{y}<br>z=%{z}<br>text=%{text}<extra></extra>",
         "legendgroup": "destinatario",
         "marker": {
          "color": "#00cc96",
          "symbol": "circle"
         },
         "mode": "markers+text",
         "name": "destinatario",
         "scene": "scene",
         "showlegend": true,
         "text": [
          "destinatario"
         ],
         "type": "scatter3d",
         "x": [
          0.03091462515294552
         ],
         "y": [
          0.04112760350108147
         ],
         "z": [
          "destinatario"
         ]
        },
        {
         "hovertemplate": "color=prestigio<br>x=%{x}<br>y=%{y}<br>z=%{z}<br>text=%{text}<extra></extra>",
         "legendgroup": "prestigio",
         "marker": {
          "color": "#ab63fa",
          "symbol": "circle"
         },
         "mode": "markers+text",
         "name": "prestigio",
         "scene": "scene",
         "showlegend": true,
         "text": [
          "prestigio"
         ],
         "type": "scatter3d",
         "x": [
          0.08355618268251419
         ],
         "y": [
          -0.09842022508382797
         ],
         "z": [
          "prestigio"
         ]
        },
        {
         "hovertemplate": "color=ad<br>x=%{x}<br>y=%{y}<br>z=%{z}<br>text=%{text}<extra></extra>",
         "legendgroup": "ad",
         "marker": {
          "color": "#FFA15A",
          "symbol": "circle"
         },
         "mode": "markers+text",
         "name": "ad",
         "scene": "scene",
         "showlegend": true,
         "text": [
          "ad"
         ],
         "type": "scatter3d",
         "x": [
          -0.048401396721601486
         ],
         "y": [
          -0.06351523101329803
         ],
         "z": [
          "ad"
         ]
        },
        {
         "hovertemplate": "color=perdone<br>x=%{x}<br>y=%{y}<br>z=%{z}<br>text=%{text}<extra></extra>",
         "legendgroup": "perdone",
         "marker": {
          "color": "#19d3f3",
          "symbol": "circle"
         },
         "mode": "markers+text",
         "name": "perdone",
         "scene": "scene",
         "showlegend": true,
         "text": [
          "perdone"
         ],
         "type": "scatter3d",
         "x": [
          0.08639276027679443
         ],
         "y": [
          0.01741214282810688
         ],
         "z": [
          "perdone"
         ]
        },
        {
         "hovertemplate": "color=dios<br>x=%{x}<br>y=%{y}<br>z=%{z}<br>text=%{text}<extra></extra>",
         "legendgroup": "dios",
         "marker": {
          "color": "#FF6692",
          "symbol": "circle"
         },
         "mode": "markers+text",
         "name": "dios",
         "scene": "scene",
         "showlegend": true,
         "text": [
          "dios"
         ],
         "type": "scatter3d",
         "x": [
          -0.0015528384828940034
         ],
         "y": [
          0.0024245120584964752
         ],
         "z": [
          "dios"
         ]
        },
        {
         "hovertemplate": "color=bien<br>x=%{x}<br>y=%{y}<br>z=%{z}<br>text=%{text}<extra></extra>",
         "legendgroup": "bien",
         "marker": {
          "color": "#B6E880",
          "symbol": "circle"
         },
         "mode": "markers+text",
         "name": "bien",
         "scene": "scene",
         "showlegend": true,
         "text": [
          "bien"
         ],
         "type": "scatter3d",
         "x": [
          0.008126283995807171
         ],
         "y": [
          -0.0877143070101738
         ],
         "z": [
          "bien"
         ]
        },
        {
         "hovertemplate": "color=nada<br>x=%{x}<br>y=%{y}<br>z=%{z}<br>text=%{text}<extra></extra>",
         "legendgroup": "nada",
         "marker": {
          "color": "#FF97FF",
          "symbol": "circle"
         },
         "mode": "markers+text",
         "name": "nada",
         "scene": "scene",
         "showlegend": true,
         "text": [
          "nada"
         ],
         "type": "scatter3d",
         "x": [
          0.0005498449318110943
         ],
         "y": [
          -0.07864870131015778
         ],
         "z": [
          "nada"
         ]
        },
        {
         "hovertemplate": "color=interminable<br>x=%{x}<br>y=%{y}<br>z=%{z}<br>text=%{text}<extra></extra>",
         "legendgroup": "interminable",
         "marker": {
          "color": "#FECB52",
          "symbol": "circle"
         },
         "mode": "markers+text",
         "name": "interminable",
         "scene": "scene",
         "showlegend": true,
         "text": [
          "interminable"
         ],
         "type": "scatter3d",
         "x": [
          -0.042052533477544785
         ],
         "y": [
          0.009188047610223293
         ],
         "z": [
          "interminable"
         ]
        },
        {
         "hovertemplate": "color=volviera<br>x=%{x}<br>y=%{y}<br>z=%{z}<br>text=%{text}<extra></extra>",
         "legendgroup": "volviera",
         "marker": {
          "color": "#636efa",
          "symbol": "circle"
         },
         "mode": "markers+text",
         "name": "volviera",
         "scene": "scene",
         "showlegend": true,
         "text": [
          "volviera"
         ],
         "type": "scatter3d",
         "x": [
          -0.1541978418827057
         ],
         "y": [
          -0.016678351908922195
         ],
         "z": [
          "volviera"
         ]
        },
        {
         "hovertemplate": "color=aires<br>x=%{x}<br>y=%{y}<br>z=%{z}<br>text=%{text}<extra></extra>",
         "legendgroup": "aires",
         "marker": {
          "color": "#EF553B",
          "symbol": "circle"
         },
         "mode": "markers+text",
         "name": "aires",
         "scene": "scene",
         "showlegend": true,
         "text": [
          "aires"
         ],
         "type": "scatter3d",
         "x": [
          -0.05264792591333389
         ],
         "y": [
          0.09058193862438202
         ],
         "z": [
          "aires"
         ]
        },
        {
         "hovertemplate": "color=buenos<br>x=%{x}<br>y=%{y}<br>z=%{z}<br>text=%{text}<extra></extra>",
         "legendgroup": "buenos",
         "marker": {
          "color": "#00cc96",
          "symbol": "circle"
         },
         "mode": "markers+text",
         "name": "buenos",
         "scene": "scene",
         "showlegend": true,
         "text": [
          "buenos"
         ],
         "type": "scatter3d",
         "x": [
          0.08933702856302261
         ],
         "y": [
          -0.002198187168687582
         ],
         "z": [
          "buenos"
         ]
        },
        {
         "hovertemplate": "color=telegrafiaron<br>x=%{x}<br>y=%{y}<br>z=%{z}<br>text=%{text}<extra></extra>",
         "legendgroup": "telegrafiaron",
         "marker": {
          "color": "#ab63fa",
          "symbol": "circle"
         },
         "mode": "markers+text",
         "name": "telegrafiaron",
         "scene": "scene",
         "showlegend": true,
         "text": [
          "telegrafiaron"
         ],
         "type": "scatter3d",
         "x": [
          0.020510384812951088
         ],
         "y": [
          -0.10998152196407318
         ],
         "z": [
          "telegrafiaron"
         ]
        },
        {
         "hovertemplate": "color=14<br>x=%{x}<br>y=%{y}<br>z=%{z}<br>text=%{text}<extra></extra>",
         "legendgroup": "14",
         "marker": {
          "color": "#FFA15A",
          "symbol": "circle"
         },
         "mode": "markers+text",
         "name": "14",
         "scene": "scene",
         "showlegend": true,
         "text": [
          "14"
         ],
         "type": "scatter3d",
         "x": [
          -0.10630793869495392
         ],
         "y": [
          0.0274059921503067
         ],
         "z": [
          "14"
         ]
        },
        {
         "hovertemplate": "color=obra<br>x=%{x}<br>y=%{y}<br>z=%{z}<br>text=%{text}<extra></extra>",
         "legendgroup": "obra",
         "marker": {
          "color": "#19d3f3",
          "symbol": "circle"
         },
         "mode": "markers+text",
         "name": "obra",
         "scene": "scene",
         "showlegend": true,
         "text": [
          "obra"
         ],
         "type": "scatter3d",
         "x": [
          -0.05958985164761543
         ],
         "y": [
          0.028367336839437485
         ],
         "z": [
          "obra"
         ]
        },
        {
         "hovertemplate": "color=fingiendo<br>x=%{x}<br>y=%{y}<br>z=%{z}<br>text=%{text}<extra></extra>",
         "legendgroup": "fingiendo",
         "marker": {
          "color": "#FF6692",
          "symbol": "circle"
         },
         "mode": "markers+text",
         "name": "fingiendo",
         "scene": "scene",
         "showlegend": true,
         "text": [
          "fingiendo"
         ],
         "type": "scatter3d",
         "x": [
          -0.06504078954458237
         ],
         "y": [
          0.008648307994008064
         ],
         "z": [
          "fingiendo"
         ]
        },
        {
         "hovertemplate": "color=viril<br>x=%{x}<br>y=%{y}<br>z=%{z}<br>text=%{text}<extra></extra>",
         "legendgroup": "viril",
         "marker": {
          "color": "#B6E880",
          "symbol": "circle"
         },
         "mode": "markers+text",
         "name": "viril",
         "scene": "scene",
         "showlegend": true,
         "text": [
          "viril"
         ],
         "type": "scatter3d",
         "x": [
          -0.010830649174749851
         ],
         "y": [
          -0.08800452202558517
         ],
         "z": [
          "viril"
         ]
        },
        {
         "hovertemplate": "color=estoicismo<br>x=%{x}<br>y=%{y}<br>z=%{z}<br>text=%{text}<extra></extra>",
         "legendgroup": "estoicismo",
         "marker": {
          "color": "#FF97FF",
          "symbol": "circle"
         },
         "mode": "markers+text",
         "name": "estoicismo",
         "scene": "scene",
         "showlegend": true,
         "text": [
          "estoicismo"
         ],
         "type": "scatter3d",
         "x": [
          -0.12464446574449539
         ],
         "y": [
          0.06597252190113068
         ],
         "z": [
          "estoicismo"
         ]
        },
        {
         "hovertemplate": "color=distrajeron<br>x=%{x}<br>y=%{y}<br>z=%{z}<br>text=%{text}<extra></extra>",
         "legendgroup": "distrajeron",
         "marker": {
          "color": "#FECB52",
          "symbol": "circle"
         },
         "mode": "markers+text",
         "name": "distrajeron",
         "scene": "scene",
         "showlegend": true,
         "text": [
          "distrajeron"
         ],
         "type": "scatter3d",
         "x": [
          0.024398408830165863
         ],
         "y": [
          0.016215680167078972
         ],
         "z": [
          "distrajeron"
         ]
        },
        {
         "hovertemplate": "color=pasarse<br>x=%{x}<br>y=%{y}<br>z=%{z}<br>text=%{text}<extra></extra>",
         "legendgroup": "pasarse",
         "marker": {
          "color": "#636efa",
          "symbol": "circle"
         },
         "mode": "markers+text",
         "name": "pasarse",
         "scene": "scene",
         "showlegend": true,
         "text": [
          "pasarse"
         ],
         "type": "scatter3d",
         "x": [
          -0.04788838326931
         ],
         "y": [
          0.07594988495111465
         ],
         "z": [
          "pasarse"
         ]
        },
        {
         "hovertemplate": "color=definiría<br>x=%{x}<br>y=%{y}<br>z=%{z}<br>text=%{text}<extra></extra>",
         "legendgroup": "definiría",
         "marker": {
          "color": "#EF553B",
          "symbol": "circle"
         },
         "mode": "markers+text",
         "name": "definiría",
         "scene": "scene",
         "showlegend": true,
         "text": [
          "definiría"
         ],
         "type": "scatter3d",
         "x": [
          -0.041181836277246475
         ],
         "y": [
          0.07116221636533737
         ],
         "z": [
          "definiría"
         ]
        },
        {
         "hovertemplate": "color=oscuras<br>x=%{x}<br>y=%{y}<br>z=%{z}<br>text=%{text}<extra></extra>",
         "legendgroup": "oscuras",
         "marker": {
          "color": "#00cc96",
          "symbol": "circle"
         },
         "mode": "markers+text",
         "name": "oscuras",
         "scene": "scene",
         "showlegend": true,
         "text": [
          "oscuras"
         ],
         "type": "scatter3d",
         "x": [
          -0.058616820722818375
         ],
         "y": [
          0.06169399246573448
         ],
         "z": [
          "oscuras"
         ]
        },
        {
         "hovertemplate": "color=encontrarla<br>x=%{x}<br>y=%{y}<br>z=%{z}<br>text=%{text}<extra></extra>",
         "legendgroup": "encontrarla",
         "marker": {
          "color": "#ab63fa",
          "symbol": "circle"
         },
         "mode": "markers+text",
         "name": "encontrarla",
         "scene": "scene",
         "showlegend": true,
         "text": [
          "encontrarla"
         ],
         "type": "scatter3d",
         "x": [
          -0.053638163954019547
         ],
         "y": [
          -0.025086183100938797
         ],
         "z": [
          "encontrarla"
         ]
        },
        {
         "hovertemplate": "color=extrañara<br>x=%{x}<br>y=%{y}<br>z=%{z}<br>text=%{text}<extra></extra>",
         "legendgroup": "extrañara",
         "marker": {
          "color": "#FFA15A",
          "symbol": "circle"
         },
         "mode": "markers+text",
         "name": "extrañara",
         "scene": "scene",
         "showlegend": true,
         "text": [
          "extrañara"
         ],
         "type": "scatter3d",
         "x": [
          -0.10644708573818207
         ],
         "y": [
          0.05927456170320511
         ],
         "z": [
          "extrañara"
         ]
        },
        {
         "hovertemplate": "color=cifras<br>x=%{x}<br>y=%{y}<br>z=%{z}<br>text=%{text}<extra></extra>",
         "legendgroup": "cifras",
         "marker": {
          "color": "#19d3f3",
          "symbol": "circle"
         },
         "mode": "markers+text",
         "name": "cifras",
         "scene": "scene",
         "showlegend": true,
         "text": [
          "cifras"
         ],
         "type": "scatter3d",
         "x": [
          0.007227771915495396
         ],
         "y": [
          -0.11462187021970749
         ],
         "z": [
          "cifras"
         ]
        },
        {
         "hovertemplate": "color=recibió<br>x=%{x}<br>y=%{y}<br>z=%{z}<br>text=%{text}<extra></extra>",
         "legendgroup": "recibió",
         "marker": {
          "color": "#FF6692",
          "symbol": "circle"
         },
         "mode": "markers+text",
         "name": "recibió",
         "scene": "scene",
         "showlegend": true,
         "text": [
          "recibió"
         ],
         "type": "scatter3d",
         "x": [
          -0.08177059888839722
         ],
         "y": [
          -0.029391808435320854
         ],
         "z": [
          "recibió"
         ]
        },
        {
         "hovertemplate": "color=decente<br>x=%{x}<br>y=%{y}<br>z=%{z}<br>text=%{text}<extra></extra>",
         "legendgroup": "decente",
         "marker": {
          "color": "#B6E880",
          "symbol": "circle"
         },
         "mode": "markers+text",
         "name": "decente",
         "scene": "scene",
         "showlegend": true,
         "text": [
          "decente"
         ],
         "type": "scatter3d",
         "x": [
          -0.07839606702327728
         ],
         "y": [
          0.03926808759570122
         ],
         "z": [
          "decente"
         ]
        },
        {
         "hovertemplate": "color=pesada<br>x=%{x}<br>y=%{y}<br>z=%{z}<br>text=%{text}<extra></extra>",
         "legendgroup": "pesada",
         "marker": {
          "color": "#FF97FF",
          "symbol": "circle"
         },
         "mode": "markers+text",
         "name": "pesada",
         "scene": "scene",
         "showlegend": true,
         "text": [
          "pesada"
         ],
         "type": "scatter3d",
         "x": [
          0.09455940872430801
         ],
         "y": [
          -0.051354896277189255
         ],
         "z": [
          "pesada"
         ]
        },
        {
         "hovertemplate": "color=fuera<br>x=%{x}<br>y=%{y}<br>z=%{z}<br>text=%{text}<extra></extra>",
         "legendgroup": "fuera",
         "marker": {
          "color": "#FECB52",
          "symbol": "circle"
         },
         "mode": "markers+text",
         "name": "fuera",
         "scene": "scene",
         "showlegend": true,
         "text": [
          "fuera"
         ],
         "type": "scatter3d",
         "x": [
          -0.05050697177648544
         ],
         "y": [
          -0.0008859083172865212
         ],
         "z": [
          "fuera"
         ]
        },
        {
         "hovertemplate": "color=asombró<br>x=%{x}<br>y=%{y}<br>z=%{z}<br>text=%{text}<extra></extra>",
         "legendgroup": "asombró",
         "marker": {
          "color": "#636efa",
          "symbol": "circle"
         },
         "mode": "markers+text",
         "name": "asombró",
         "scene": "scene",
         "showlegend": true,
         "text": [
          "asombró"
         ],
         "type": "scatter3d",
         "x": [
          -0.0471605621278286
         ],
         "y": [
          0.06392271816730499
         ],
         "z": [
          "asombró"
         ]
        },
        {
         "hovertemplate": "color=encaminé<br>x=%{x}<br>y=%{y}<br>z=%{z}<br>text=%{text}<extra></extra>",
         "legendgroup": "encaminé",
         "marker": {
          "color": "#EF553B",
          "symbol": "circle"
         },
         "mode": "markers+text",
         "name": "encaminé",
         "scene": "scene",
         "showlegend": true,
         "text": [
          "encaminé"
         ],
         "type": "scatter3d",
         "x": [
          0.021741658449172974
         ],
         "y": [
          0.07846149802207947
         ],
         "z": [
          "encaminé"
         ]
        },
        {
         "hovertemplate": "color=cenar<br>x=%{x}<br>y=%{y}<br>z=%{z}<br>text=%{text}<extra></extra>",
         "legendgroup": "cenar",
         "marker": {
          "color": "#00cc96",
          "symbol": "circle"
         },
         "mode": "markers+text",
         "name": "cenar",
         "scene": "scene",
         "showlegend": true,
         "text": [
          "cenar"
         ],
         "type": "scatter3d",
         "x": [
          -0.013935239054262638
         ],
         "y": [
          -0.12968866527080536
         ],
         "z": [
          "cenar"
         ]
        },
        {
         "hovertemplate": "color=disuadieron<br>x=%{x}<br>y=%{y}<br>z=%{z}<br>text=%{text}<extra></extra>",
         "legendgroup": "disuadieron",
         "marker": {
          "color": "#ab63fa",
          "symbol": "circle"
         },
         "mode": "markers+text",
         "name": "disuadieron",
         "scene": "scene",
         "showlegend": true,
         "text": [
          "disuadieron"
         ],
         "type": "scatter3d",
         "x": [
          -0.12362056970596313
         ],
         "y": [
          0.04107991233468056
         ],
         "z": [
          "disuadieron"
         ]
        },
        {
         "hovertemplate": "color=mañana<br>x=%{x}<br>y=%{y}<br>z=%{z}<br>text=%{text}<extra></extra>",
         "legendgroup": "mañana",
         "marker": {
          "color": "#FFA15A",
          "symbol": "circle"
         },
         "mode": "markers+text",
         "name": "mañana",
         "scene": "scene",
         "showlegend": true,
         "text": [
          "mañana"
         ],
         "type": "scatter3d",
         "x": [
          0.004451846703886986
         ],
         "y": [
          -0.07766292244195938
         ],
         "z": [
          "mañana"
         ]
        },
        {
         "hovertemplate": "color=siguiente<br>x=%{x}<br>y=%{y}<br>z=%{z}<br>text=%{text}<extra></extra>",
         "legendgroup": "siguiente",
         "marker": {
          "color": "#19d3f3",
          "symbol": "circle"
         },
         "mode": "markers+text",
         "name": "siguiente",
         "scene": "scene",
         "showlegend": true,
         "text": [
          "siguiente"
         ],
         "type": "scatter3d",
         "x": [
          -0.0023546882439404726
         ],
         "y": [
          -0.05625147372484207
         ],
         "z": [
          "siguiente"
         ]
        },
        {
         "hovertemplate": "color=zarpaba<br>x=%{x}<br>y=%{y}<br>z=%{z}<br>text=%{text}<extra></extra>",
         "legendgroup": "zarpaba",
         "marker": {
          "color": "#FF6692",
          "symbol": "circle"
         },
         "mode": "markers+text",
         "name": "zarpaba",
         "scene": "scene",
         "showlegend": true,
         "text": [
          "zarpaba"
         ],
         "type": "scatter3d",
         "x": [
          -0.0009132028208114207
         ],
         "y": [
          -0.046242605894804
         ],
         "z": [
          "zarpaba"
         ]
        },
        {
         "hovertemplate": "color=saturno<br>x=%{x}<br>y=%{y}<br>z=%{z}<br>text=%{text}<extra></extra>",
         "legendgroup": "saturno",
         "marker": {
          "color": "#B6E880",
          "symbol": "circle"
         },
         "mode": "markers+text",
         "name": "saturno",
         "scene": "scene",
         "showlegend": true,
         "text": [
          "saturno"
         ],
         "type": "scatter3d",
         "x": [
          0.017000723630189896
         ],
         "y": [
          -0.012189270928502083
         ],
         "z": [
          "saturno"
         ]
        },
        {
         "hovertemplate": "color=tomo<br>x=%{x}<br>y=%{y}<br>z=%{z}<br>text=%{text}<extra></extra>",
         "legendgroup": "tomo",
         "marker": {
          "color": "#FF97FF",
          "symbol": "circle"
         },
         "mode": "markers+text",
         "name": "tomo",
         "scene": "scene",
         "showlegend": true,
         "text": [
          "tomo"
         ],
         "type": "scatter3d",
         "x": [
          0.033685777336359024
         ],
         "y": [
          0.006673961877822876
         ],
         "z": [
          "tomo"
         ]
        },
        {
         "hovertemplate": "color=faltaban<br>x=%{x}<br>y=%{y}<br>z=%{z}<br>text=%{text}<extra></extra>",
         "legendgroup": "faltaban",
         "marker": {
          "color": "#FECB52",
          "symbol": "circle"
         },
         "mode": "markers+text",
         "name": "faltaban",
         "scene": "scene",
         "showlegend": true,
         "text": [
          "faltaban"
         ],
         "type": "scatter3d",
         "x": [
          0.019642462953925133
         ],
         "y": [
          -0.033755574375391006
         ],
         "z": [
          "faltaban"
         ]
        },
        {
         "hovertemplate": "color=noté<br>x=%{x}<br>y=%{y}<br>z=%{z}<br>text=%{text}<extra></extra>",
         "legendgroup": "noté",
         "marker": {
          "color": "#636efa",
          "symbol": "circle"
         },
         "mode": "markers+text",
         "name": "noté",
         "scene": "scene",
         "showlegend": true,
         "text": [
          "noté"
         ],
         "type": "scatter3d",
         "x": [
          -0.0857384130358696
         ],
         "y": [
          0.014817207120358944
         ],
         "z": [
          "noté"
         ]
        },
        {
         "hovertemplate": "color=hacer<br>x=%{x}<br>y=%{y}<br>z=%{z}<br>text=%{text}<extra></extra>",
         "legendgroup": "hacer",
         "marker": {
          "color": "#EF553B",
          "symbol": "circle"
         },
         "mode": "markers+text",
         "name": "hacer",
         "scene": "scene",
         "showlegend": true,
         "text": [
          "hacer"
         ],
         "type": "scatter3d",
         "x": [
          0.017588738352060318
         ],
         "y": [
          0.005076887551695108
         ],
         "z": [
          "hacer"
         ]
        },
        {
         "hovertemplate": "color=posibilidad<br>x=%{x}<br>y=%{y}<br>z=%{z}<br>text=%{text}<extra></extra>",
         "legendgroup": "posibilidad",
         "marker": {
          "color": "#00cc96",
          "symbol": "circle"
         },
         "mode": "markers+text",
         "name": "posibilidad",
         "scene": "scene",
         "showlegend": true,
         "text": [
          "posibilidad"
         ],
         "type": "scatter3d",
         "x": [
          -0.042976703494787216
         ],
         "y": [
          -0.030921410769224167
         ],
         "z": [
          "posibilidad"
         ]
        },
        {
         "hovertemplate": "color=parnassum<br>x=%{x}<br>y=%{y}<br>z=%{z}<br>text=%{text}<extra></extra>",
         "legendgroup": "parnassum",
         "marker": {
          "color": "#ab63fa",
          "symbol": "circle"
         },
         "mode": "markers+text",
         "name": "parnassum",
         "scene": "scene",
         "showlegend": true,
         "text": [
          "parnassum"
         ],
         "type": "scatter3d",
         "x": [
          -0.03601422905921936
         ],
         "y": [
          -0.004229116719216108
         ],
         "z": [
          "parnassum"
         ]
        },
        {
         "hovertemplate": "color=mandé<br>x=%{x}<br>y=%{y}<br>z=%{z}<br>text=%{text}<extra></extra>",
         "legendgroup": "mandé",
         "marker": {
          "color": "#FFA15A",
          "symbol": "circle"
         },
         "mode": "markers+text",
         "name": "mandé",
         "scene": "scene",
         "showlegend": true,
         "text": [
          "mandé"
         ],
         "type": "scatter3d",
         "x": [
          0.002996613970026374
         ],
         "y": [
          -0.04331574961543083
         ],
         "z": [
          "mandé"
         ]
        },
        {
         "hovertemplate": "color=encender<br>x=%{x}<br>y=%{y}<br>z=%{z}<br>text=%{text}<extra></extra>",
         "legendgroup": "encender",
         "marker": {
          "color": "#19d3f3",
          "symbol": "circle"
         },
         "mode": "markers+text",
         "name": "encender",
         "scene": "scene",
         "showlegend": true,
         "text": [
          "encender"
         ],
         "type": "scatter3d",
         "x": [
          -0.12156983464956284
         ],
         "y": [
          -0.010938969440758228
         ],
         "z": [
          "encender"
         ]
        },
        {
         "hovertemplate": "color=texto<br>x=%{x}<br>y=%{y}<br>z=%{z}<br>text=%{text}<extra></extra>",
         "legendgroup": "texto",
         "marker": {
          "color": "#FF6692",
          "symbol": "circle"
         },
         "mode": "markers+text",
         "name": "texto",
         "scene": "scene",
         "showlegend": true,
         "text": [
          "texto"
         ],
         "type": "scatter3d",
         "x": [
          0.02474132366478443
         ],
         "y": [
          -0.06046806648373604
         ],
         "z": [
          "texto"
         ]
        },
        {
         "hovertemplate": "color=perfecta<br>x=%{x}<br>y=%{y}<br>z=%{z}<br>text=%{text}<extra></extra>",
         "legendgroup": "perfecta",
         "marker": {
          "color": "#B6E880",
          "symbol": "circle"
         },
         "mode": "markers+text",
         "name": "perfecta",
         "scene": "scene",
         "showlegend": true,
         "text": [
          "perfecta"
         ],
         "type": "scatter3d",
         "x": [
          -0.11900845915079117
         ],
         "y": [
          0.017395896837115288
         ],
         "z": [
          "perfecta"
         ]
        },
        {
         "hovertemplate": "color=letra<br>x=%{x}<br>y=%{y}<br>z=%{z}<br>text=%{text}<extra></extra>",
         "legendgroup": "letra",
         "marker": {
          "color": "#FF97FF",
          "symbol": "circle"
         },
         "mode": "markers+text",
         "name": "letra",
         "scene": "scene",
         "showlegend": true,
         "text": [
          "letra"
         ],
         "type": "scatter3d",
         "x": [
          0.003890737658366561
         ],
         "y": [
          -0.011257197707891464
         ],
         "z": [
          "letra"
         ]
        },
        {
         "hovertemplate": "color=clasificar<br>x=%{x}<br>y=%{y}<br>z=%{z}<br>text=%{text}<extra></extra>",
         "legendgroup": "clasificar",
         "marker": {
          "color": "#FECB52",
          "symbol": "circle"
         },
         "mode": "markers+text",
         "name": "clasificar",
         "scene": "scene",
         "showlegend": true,
         "text": [
          "clasificar"
         ],
         "type": "scatter3d",
         "x": [
          -0.03311242163181305
         ],
         "y": [
          0.08980640023946762
         ],
         "z": [
          "clasificar"
         ]
        },
        {
         "hovertemplate": "color=estado<br>x=%{x}<br>y=%{y}<br>z=%{z}<br>text=%{text}<extra></extra>",
         "legendgroup": "estado",
         "marker": {
          "color": "#636efa",
          "symbol": "circle"
         },
         "mode": "markers+text",
         "name": "estado",
         "scene": "scene",
         "showlegend": true,
         "text": [
          "estado"
         ],
         "type": "scatter3d",
         "x": [
          0.03678517788648605
         ],
         "y": [
          -0.00012803393474314362
         ],
         "z": [
          "estado"
         ]
        },
        {
         "hovertemplate": "color=buen<br>x=%{x}<br>y=%{y}<br>z=%{z}<br>text=%{text}<extra></extra>",
         "legendgroup": "buen",
         "marker": {
          "color": "#EF553B",
          "symbol": "circle"
         },
         "mode": "markers+text",
         "name": "buen",
         "scene": "scene",
         "showlegend": true,
         "text": [
          "buen"
         ],
         "type": "scatter3d",
         "x": [
          0.03170904517173767
         ],
         "y": [
          -0.04955584928393364
         ],
         "z": [
          "buen"
         ]
        },
        {
         "hovertemplate": "color=devolverlos<br>x=%{x}<br>y=%{y}<br>z=%{z}<br>text=%{text}<extra></extra>",
         "legendgroup": "devolverlos",
         "marker": {
          "color": "#00cc96",
          "symbol": "circle"
         },
         "mode": "markers+text",
         "name": "devolverlos",
         "scene": "scene",
         "showlegend": true,
         "text": [
          "devolverlos"
         ],
         "type": "scatter3d",
         "x": [
          -0.06636732071638107
         ],
         "y": [
          0.06861100345849991
         ],
         "z": [
          "devolverlos"
         ]
        },
        {
         "hovertemplate": "color=prometía<br>x=%{x}<br>y=%{y}<br>z=%{z}<br>text=%{text}<extra></extra>",
         "legendgroup": "prometía",
         "marker": {
          "color": "#ab63fa",
          "symbol": "circle"
         },
         "mode": "markers+text",
         "name": "prometía",
         "scene": "scene",
         "showlegend": true,
         "text": [
          "prometía"
         ],
         "type": "scatter3d",
         "x": [
          0.1297600120306015
         ],
         "y": [
          -0.038030218333005905
         ],
         "z": [
          "prometía"
         ]
        },
        {
         "hovertemplate": "color=ignoro<br>x=%{x}<br>y=%{y}<br>z=%{z}<br>text=%{text}<extra></extra>",
         "legendgroup": "ignoro",
         "marker": {
          "color": "#FFA15A",
          "symbol": "circle"
         },
         "mode": "markers+text",
         "name": "ignoro",
         "scene": "scene",
         "showlegend": true,
         "text": [
          "ignoro"
         ],
         "type": "scatter3d",
         "x": [
          -0.05852075666189194
         ],
         "y": [
          -0.014349546283483505
         ],
         "z": [
          "ignoro"
         ]
        },
        {
         "hovertemplate": "color=todavía<br>x=%{x}<br>y=%{y}<br>z=%{z}<br>text=%{text}<extra></extra>",
         "legendgroup": "todavía",
         "marker": {
          "color": "#19d3f3",
          "symbol": "circle"
         },
         "mode": "markers+text",
         "name": "todavía",
         "scene": "scene",
         "showlegend": true,
         "text": [
          "todavía"
         ],
         "type": "scatter3d",
         "x": [
          0.02658182568848133
         ],
         "y": [
          -0.02017245814204216
         ],
         "z": [
          "todavía"
         ]
        },
        {
         "hovertemplate": "color=niñez<br>x=%{x}<br>y=%{y}<br>z=%{z}<br>text=%{text}<extra></extra>",
         "legendgroup": "niñez",
         "marker": {
          "color": "#FF6692",
          "symbol": "circle"
         },
         "mode": "markers+text",
         "name": "niñez",
         "scene": "scene",
         "showlegend": true,
         "text": [
          "niñez"
         ],
         "type": "scatter3d",
         "x": [
          0.046174921095371246
         ],
         "y": [
          -0.07374788075685501
         ],
         "z": [
          "niñez"
         ]
        },
        {
         "hovertemplate": "color=proyectos<br>x=%{x}<br>y=%{y}<br>z=%{z}<br>text=%{text}<extra></extra>",
         "legendgroup": "proyectos",
         "marker": {
          "color": "#B6E880",
          "symbol": "circle"
         },
         "mode": "markers+text",
         "name": "proyectos",
         "scene": "scene",
         "showlegend": true,
         "text": [
          "proyectos"
         ],
         "type": "scatter3d",
         "x": [
          0.016511445865035057
         ],
         "y": [
          -0.005864351522177458
         ],
         "z": [
          "proyectos"
         ]
        },
        {
         "hovertemplate": "color=inteligencia<br>x=%{x}<br>y=%{y}<br>z=%{z}<br>text=%{text}<extra></extra>",
         "legendgroup": "inteligencia",
         "marker": {
          "color": "#FF97FF",
          "symbol": "circle"
         },
         "mode": "markers+text",
         "name": "inteligencia",
         "scene": "scene",
         "showlegend": true,
         "text": [
          "inteligencia"
         ],
         "type": "scatter3d",
         "x": [
          0.06393884867429733
         ],
         "y": [
          -0.11412738263607025
         ],
         "z": [
          "inteligencia"
         ]
        },
        {
         "hovertemplate": "color=plenitud<br>x=%{x}<br>y=%{y}<br>z=%{z}<br>text=%{text}<extra></extra>",
         "legendgroup": "plenitud",
         "marker": {
          "color": "#FECB52",
          "symbol": "circle"
         },
         "mode": "markers+text",
         "name": "plenitud",
         "scene": "scene",
         "showlegend": true,
         "text": [
          "plenitud"
         ],
         "type": "scatter3d",
         "x": [
          -0.02966250292956829
         ],
         "y": [
          0.04678165540099144
         ],
         "z": [
          "plenitud"
         ]
        },
        {
         "hovertemplate": "color=indicado<br>x=%{x}<br>y=%{y}<br>z=%{z}<br>text=%{text}<extra></extra>",
         "legendgroup": "indicado",
         "marker": {
          "color": "#636efa",
          "symbol": "circle"
         },
         "mode": "markers+text",
         "name": "indicado",
         "scene": "scene",
         "showlegend": true,
         "text": [
          "indicado"
         ],
         "type": "scatter3d",
         "x": [
          0.018698005005717278
         ],
         "y": [
          0.04310308396816254
         ],
         "z": [
          "indicado"
         ]
        },
        {
         "hovertemplate": "color=vocabulario<br>x=%{x}<br>y=%{y}<br>z=%{z}<br>text=%{text}<extra></extra>",
         "legendgroup": "vocabulario",
         "marker": {
          "color": "#EF553B",
          "symbol": "circle"
         },
         "mode": "markers+text",
         "name": "vocabulario",
         "scene": "scene",
         "showlegend": true,
         "text": [
          "vocabulario"
         ],
         "type": "scatter3d",
         "x": [
          0.044765014201402664
         ],
         "y": [
          0.03830736130475998
         ],
         "z": [
          "vocabulario"
         ]
        },
        {
         "hovertemplate": "color=acompañado<br>x=%{x}<br>y=%{y}<br>z=%{z}<br>text=%{text}<extra></extra>",
         "legendgroup": "acompañado",
         "marker": {
          "color": "#00cc96",
          "symbol": "circle"
         },
         "mode": "markers+text",
         "name": "acompañado",
         "scene": "scene",
         "showlegend": true,
         "text": [
          "acompañado"
         ],
         "type": "scatter3d",
         "x": [
          0.02415456622838974
         ],
         "y": [
          0.03926596790552139
         ],
         "z": [
          "acompañado"
         ]
        },
        {
         "hovertemplate": "color=volúmenes<br>x=%{x}<br>y=%{y}<br>z=%{z}<br>text=%{text}<extra></extra>",
         "legendgroup": "volúmenes",
         "marker": {
          "color": "#ab63fa",
          "symbol": "circle"
         },
         "mode": "markers+text",
         "name": "volúmenes",
         "scene": "scene",
         "showlegend": true,
         "text": [
          "volúmenes"
         ],
         "type": "scatter3d",
         "x": [
          0.00946247298270464
         ],
         "y": [
          -0.07088594138622284
         ],
         "z": [
          "volúmenes"
         ]
        },
        {
         "hovertemplate": "color=cualquiera<br>x=%{x}<br>y=%{y}<br>z=%{z}<br>text=%{text}<extra></extra>",
         "legendgroup": "cualquiera",
         "marker": {
          "color": "#FFA15A",
          "symbol": "circle"
         },
         "mode": "markers+text",
         "name": "cualquiera",
         "scene": "scene",
         "showlegend": true,
         "text": [
          "cualquiera"
         ],
         "type": "scatter3d",
         "x": [
          0.06156250089406967
         ],
         "y": [
          0.06390002369880676
         ],
         "z": [
          "cualquiera"
         ]
        },
        {
         "hovertemplate": "color=préstamo<br>x=%{x}<br>y=%{y}<br>z=%{z}<br>text=%{text}<extra></extra>",
         "legendgroup": "préstamo",
         "marker": {
          "color": "#19d3f3",
          "symbol": "circle"
         },
         "mode": "markers+text",
         "name": "préstamo",
         "scene": "scene",
         "showlegend": true,
         "text": [
          "préstamo"
         ],
         "type": "scatter3d",
         "x": [
          -0.03710409998893738
         ],
         "y": [
          -0.11648382246494293
         ],
         "z": [
          "préstamo"
         ]
        },
        {
         "hovertemplate": "color=solicitaba<br>x=%{x}<br>y=%{y}<br>z=%{z}<br>text=%{text}<extra></extra>",
         "legendgroup": "solicitaba",
         "marker": {
          "color": "#FF6692",
          "symbol": "circle"
         },
         "mode": "markers+text",
         "name": "solicitaba",
         "scene": "scene",
         "showlegend": true,
         "text": [
          "solicitaba"
         ],
         "type": "scatter3d",
         "x": [
          -0.05359814688563347
         ],
         "y": [
          -0.02138027362525463
         ],
         "z": [
          "solicitaba"
         ]
        },
        {
         "hovertemplate": "color=ituzaingó<br>x=%{x}<br>y=%{y}<br>z=%{z}<br>text=%{text}<extra></extra>",
         "legendgroup": "ituzaingó",
         "marker": {
          "color": "#B6E880",
          "symbol": "circle"
         },
         "mode": "markers+text",
         "name": "ituzaingó",
         "scene": "scene",
         "showlegend": true,
         "text": [
          "ituzaingó"
         ],
         "type": "scatter3d",
         "x": [
          -0.029371902346611023
         ],
         "y": [
          0.04794134572148323
         ],
         "z": [
          "ituzaingó"
         ]
        },
        {
         "hovertemplate": "color=precisamente<br>x=%{x}<br>y=%{y}<br>z=%{z}<br>text=%{text}<extra></extra>",
         "legendgroup": "precisamente",
         "marker": {
          "color": "#FF97FF",
          "symbol": "circle"
         },
         "mode": "markers+text",
         "name": "precisamente",
         "scene": "scene",
         "showlegend": true,
         "text": [
          "precisamente"
         ],
         "type": "scatter3d",
         "x": [
          0.06829753518104553
         ],
         "y": [
          0.052399642765522
         ],
         "z": [
          "precisamente"
         ]
        },
        {
         "hovertemplate": "color=valerosa<br>x=%{x}<br>y=%{y}<br>z=%{z}<br>text=%{text}<extra></extra>",
         "legendgroup": "valerosa",
         "marker": {
          "color": "#FECB52",
          "symbol": "circle"
         },
         "mode": "markers+text",
         "name": "valerosa",
         "scene": "scene",
         "showlegend": true,
         "text": [
          "valerosa"
         ],
         "type": "scatter3d",
         "x": [
          0.08691654354333878
         ],
         "y": [
          0.0008646762580610812
         ],
         "z": [
          "valerosa"
         ]
        },
        {
         "hovertemplate": "color=patrias<br>x=%{x}<br>y=%{y}<br>z=%{z}<br>text=%{text}<extra></extra>",
         "legendgroup": "patrias",
         "marker": {
          "color": "#636efa",
          "symbol": "circle"
         },
         "mode": "markers+text",
         "name": "patrias",
         "scene": "scene",
         "showlegend": true,
         "text": [
          "patrias"
         ],
         "type": "scatter3d",
         "x": [
          -0.06421494483947754
         ],
         "y": [
          -0.08925435692071915
         ],
         "z": [
          "patrias"
         ]
        },
        {
         "hovertemplate": "color=perfilada<br>x=%{x}<br>y=%{y}<br>z=%{z}<br>text=%{text}<extra></extra>",
         "legendgroup": "perfilada",
         "marker": {
          "color": "#EF553B",
          "symbol": "circle"
         },
         "mode": "markers+text",
         "name": "perfilada",
         "scene": "scene",
         "showlegend": true,
         "text": [
          "perfilada"
         ],
         "type": "scatter3d",
         "x": [
          0.041175033897161484
         ],
         "y": [
          -0.07461271435022354
         ],
         "z": [
          "perfilada"
         ]
        },
        {
         "hovertemplate": "color=ortografía<br>x=%{x}<br>y=%{y}<br>z=%{z}<br>text=%{text}<extra></extra>",
         "legendgroup": "ortografía",
         "marker": {
          "color": "#00cc96",
          "symbol": "circle"
         },
         "mode": "markers+text",
         "name": "ortografía",
         "scene": "scene",
         "showlegend": true,
         "text": [
          "ortografía"
         ],
         "type": "scatter3d",
         "x": [
          -0.040365733206272125
         ],
         "y": [
          -0.04823710396885872
         ],
         "z": [
          "ortografía"
         ]
        },
        {
         "hovertemplate": "color=tipo<br>x=%{x}<br>y=%{y}<br>z=%{z}<br>text=%{text}<extra></extra>",
         "legendgroup": "tipo",
         "marker": {
          "color": "#ab63fa",
          "symbol": "circle"
         },
         "mode": "markers+text",
         "name": "tipo",
         "scene": "scene",
         "showlegend": true,
         "text": [
          "tipo"
         ],
         "type": "scatter3d",
         "x": [
          0.09839257597923279
         ],
         "y": [
          0.0015446830075234175
         ],
         "z": [
          "tipo"
         ]
        },
        {
         "hovertemplate": "color=andrés<br>x=%{x}<br>y=%{y}<br>z=%{z}<br>text=%{text}<extra></extra>",
         "legendgroup": "andrés",
         "marker": {
          "color": "#FFA15A",
          "symbol": "circle"
         },
         "mode": "markers+text",
         "name": "andrés",
         "scene": "scene",
         "showlegend": true,
         "text": [
          "andrés"
         ],
         "type": "scatter3d",
         "x": [
          0.056374844163656235
         ],
         "y": [
          0.08810015767812729
         ],
         "z": [
          "andrés"
         ]
        },
        {
         "hovertemplate": "color=desengañarlo<br>x=%{x}<br>y=%{y}<br>z=%{z}<br>text=%{text}<extra></extra>",
         "legendgroup": "desengañarlo",
         "marker": {
          "color": "#19d3f3",
          "symbol": "circle"
         },
         "mode": "markers+text",
         "name": "desengañarlo",
         "scene": "scene",
         "showlegend": true,
         "text": [
          "desengañarlo"
         ],
         "type": "scatter3d",
         "x": [
          0.02899817004799843
         ],
         "y": [
          -0.026745472103357315
         ],
         "z": [
          "desengañarlo"
         ]
        },
        {
         "hovertemplate": "color=instrumento<br>x=%{x}<br>y=%{y}<br>z=%{z}<br>text=%{text}<extra></extra>",
         "legendgroup": "instrumento",
         "marker": {
          "color": "#FF6692",
          "symbol": "circle"
         },
         "mode": "markers+text",
         "name": "instrumento",
         "scene": "scene",
         "showlegend": true,
         "text": [
          "instrumento"
         ],
         "type": "scatter3d",
         "x": [
          -0.011094823479652405
         ],
         "y": [
          -0.0018350882455706596
         ],
         "z": [
          "instrumento"
         ]
        },
        {
         "hovertemplate": "color=requería<br>x=%{x}<br>y=%{y}<br>z=%{z}<br>text=%{text}<extra></extra>",
         "legendgroup": "requería",
         "marker": {
          "color": "#B6E880",
          "symbol": "circle"
         },
         "mode": "markers+text",
         "name": "requería",
         "scene": "scene",
         "showlegend": true,
         "text": [
          "requería"
         ],
         "type": "scatter3d",
         "x": [
          0.023265846073627472
         ],
         "y": [
          0.05242588743567467
         ],
         "z": [
          "requería"
         ]
        },
        {
         "hovertemplate": "color=arduo<br>x=%{x}<br>y=%{y}<br>z=%{z}<br>text=%{text}<extra></extra>",
         "legendgroup": "arduo",
         "marker": {
          "color": "#FF97FF",
          "symbol": "circle"
         },
         "mode": "markers+text",
         "name": "arduo",
         "scene": "scene",
         "showlegend": true,
         "text": [
          "arduo"
         ],
         "type": "scatter3d",
         "x": [
          0.0818076953291893
         ],
         "y": [
          0.06148712337017059
         ],
         "z": [
          "arduo"
         ]
        },
        {
         "hovertemplate": "color=idea<br>x=%{x}<br>y=%{y}<br>z=%{z}<br>text=%{text}<extra></extra>",
         "legendgroup": "idea",
         "marker": {
          "color": "#FECB52",
          "symbol": "circle"
         },
         "mode": "markers+text",
         "name": "idea",
         "scene": "scene",
         "showlegend": true,
         "text": [
          "idea"
         ],
         "type": "scatter3d",
         "x": [
          0.006926983594894409
         ],
         "y": [
          0.043846577405929565
         ],
         "z": [
          "idea"
         ]
        },
        {
         "hovertemplate": "color=estupidez<br>x=%{x}<br>y=%{y}<br>z=%{z}<br>text=%{text}<extra></extra>",
         "legendgroup": "estupidez",
         "marker": {
          "color": "#636efa",
          "symbol": "circle"
         },
         "mode": "markers+text",
         "name": "estupidez",
         "scene": "scene",
         "showlegend": true,
         "text": [
          "estupidez"
         ],
         "type": "scatter3d",
         "x": [
          -0.0663885623216629
         ],
         "y": [
          -0.038826994597911835
         ],
         "z": [
          "estupidez"
         ]
        },
        {
         "hovertemplate": "color=ignorancia<br>x=%{x}<br>y=%{y}<br>z=%{z}<br>text=%{text}<extra></extra>",
         "legendgroup": "ignorancia",
         "marker": {
          "color": "#EF553B",
          "symbol": "circle"
         },
         "mode": "markers+text",
         "name": "ignorancia",
         "scene": "scene",
         "showlegend": true,
         "text": [
          "ignorancia"
         ],
         "type": "scatter3d",
         "x": [
          -0.034642163664102554
         ],
         "y": [
          -0.06175968796014786
         ],
         "z": [
          "ignorancia"
         ]
        },
        {
         "hovertemplate": "color=descaro<br>x=%{x}<br>y=%{y}<br>z=%{z}<br>text=%{text}<extra></extra>",
         "legendgroup": "descaro",
         "marker": {
          "color": "#00cc96",
          "symbol": "circle"
         },
         "mode": "markers+text",
         "name": "descaro",
         "scene": "scene",
         "showlegend": true,
         "text": [
          "descaro"
         ],
         "type": "scatter3d",
         "x": [
          -0.06660821288824081
         ],
         "y": [
          -0.16572421789169312
         ],
         "z": [
          "descaro"
         ]
        },
        {
         "hovertemplate": "color=atribuir<br>x=%{x}<br>y=%{y}<br>z=%{z}<br>text=%{text}<extra></extra>",
         "legendgroup": "atribuir",
         "marker": {
          "color": "#ab63fa",
          "symbol": "circle"
         },
         "mode": "markers+text",
         "name": "atribuir",
         "scene": "scene",
         "showlegend": true,
         "text": [
          "atribuir"
         ],
         "type": "scatter3d",
         "x": [
          -0.0909741222858429
         ],
         "y": [
          -0.008484229445457458
         ],
         "z": [
          "atribuir"
         ]
        },
        {
         "hovertemplate": "color=pensó<br>x=%{x}<br>y=%{y}<br>z=%{z}<br>text=%{text}<extra></extra>",
         "legendgroup": "pensó",
         "marker": {
          "color": "#FFA15A",
          "symbol": "circle"
         },
         "mode": "markers+text",
         "name": "pensó",
         "scene": "scene",
         "showlegend": true,
         "text": [
          "pensó"
         ],
         "type": "scatter3d",
         "x": [
          -0.11742323637008667
         ],
         "y": [
          -0.029671411961317062
         ],
         "z": [
          "pensó"
         ]
        },
        {
         "hovertemplate": "color=habría<br>x=%{x}<br>y=%{y}<br>z=%{z}<br>text=%{text}<extra></extra>",
         "legendgroup": "habría",
         "marker": {
          "color": "#19d3f3",
          "symbol": "circle"
         },
         "mode": "markers+text",
         "name": "habría",
         "scene": "scene",
         "showlegend": true,
         "text": [
          "habría"
         ],
         "type": "scatter3d",
         "x": [
          0.003564222017303109
         ],
         "y": [
          0.12219072133302689
         ],
         "z": [
          "habría"
         ]
        },
        {
         "hovertemplate": "color=aseguraron<br>x=%{x}<br>y=%{y}<br>z=%{z}<br>text=%{text}<extra></extra>",
         "legendgroup": "aseguraron",
         "marker": {
          "color": "#FF6692",
          "symbol": "circle"
         },
         "mode": "markers+text",
         "name": "aseguraron",
         "scene": "scene",
         "showlegend": true,
         "text": [
          "aseguraron"
         ],
         "type": "scatter3d",
         "x": [
          0.034471072256565094
         ],
         "y": [
          -0.09672834724187851
         ],
         "z": [
          "aseguraron"
         ]
        },
        {
         "hovertemplate": "color=primos<br>x=%{x}<br>y=%{y}<br>z=%{z}<br>text=%{text}<extra></extra>",
         "legendgroup": "primos",
         "marker": {
          "color": "#B6E880",
          "symbol": "circle"
         },
         "mode": "markers+text",
         "name": "primos",
         "scene": "scene",
         "showlegend": true,
         "text": [
          "primos"
         ],
         "type": "scatter3d",
         "x": [
          -0.024128936231136322
         ],
         "y": [
          0.11587746441364288
         ],
         "z": [
          "primos"
         ]
        },
        {
         "hovertemplate": "color=broma<br>x=%{x}<br>y=%{y}<br>z=%{z}<br>text=%{text}<extra></extra>",
         "legendgroup": "broma",
         "marker": {
          "color": "#FF97FF",
          "symbol": "circle"
         },
         "mode": "markers+text",
         "name": "broma",
         "scene": "scene",
         "showlegend": true,
         "text": [
          "broma"
         ],
         "type": "scatter3d",
         "x": [
          -0.008385787717998028
         ],
         "y": [
          -0.06674271821975708
         ],
         "z": [
          "broma"
         ]
        },
        {
         "hovertemplate": "color=naturalmente<br>x=%{x}<br>y=%{y}<br>z=%{z}<br>text=%{text}<extra></extra>",
         "legendgroup": "naturalmente",
         "marker": {
          "color": "#FECB52",
          "symbol": "circle"
         },
         "mode": "markers+text",
         "name": "naturalmente",
         "scene": "scene",
         "showlegend": true,
         "text": [
          "naturalmente"
         ],
         "type": "scatter3d",
         "x": [
          0.016165371984243393
         ],
         "y": [
          -0.09888550639152527
         ],
         "z": [
          "naturalmente"
         ]
        },
        {
         "hovertemplate": "color=temí<br>x=%{x}<br>y=%{y}<br>z=%{z}<br>text=%{text}<extra></extra>",
         "legendgroup": "temí",
         "marker": {
          "color": "#636efa",
          "symbol": "circle"
         },
         "mode": "markers+text",
         "name": "temí",
         "scene": "scene",
         "showlegend": true,
         "text": [
          "temí"
         ],
         "type": "scatter3d",
         "x": [
          0.0075590056367218494
         ],
         "y": [
          -0.11945228278636932
         ],
         "z": [
          "temí"
         ]
        },
        {
         "hovertemplate": "color=acabado<br>x=%{x}<br>y=%{y}<br>z=%{z}<br>text=%{text}<extra></extra>",
         "legendgroup": "acabado",
         "marker": {
          "color": "#EF553B",
          "symbol": "circle"
         },
         "mode": "markers+text",
         "name": "acabado",
         "scene": "scene",
         "showlegend": true,
         "text": [
          "acabado"
         ],
         "type": "scatter3d",
         "x": [
          -0.056122951209545135
         ],
         "y": [
          0.05684199556708336
         ],
         "z": [
          "acabado"
         ]
        },
        {
         "hovertemplate": "color=aún<br>x=%{x}<br>y=%{y}<br>z=%{z}<br>text=%{text}<extra></extra>",
         "legendgroup": "aún",
         "marker": {
          "color": "#00cc96",
          "symbol": "circle"
         },
         "mode": "markers+text",
         "name": "aún",
         "scene": "scene",
         "showlegend": true,
         "text": [
          "aún"
         ],
         "type": "scatter3d",
         "x": [
          -0.05147377774119377
         ],
         "y": [
          -0.05812712386250496
         ],
         "z": [
          "aún"
         ]
        },
        {
         "hovertemplate": "color=g<br>x=%{x}<br>y=%{y}<br>z=%{z}<br>text=%{text}<extra></extra>",
         "legendgroup": "g",
         "marker": {
          "color": "#ab63fa",
          "symbol": "circle"
         },
         "mode": "markers+text",
         "name": "g",
         "scene": "scene",
         "showlegend": true,
         "text": [
          "g"
         ],
         "type": "scatter3d",
         "x": [
          0.01444717962294817
         ],
         "y": [
          -0.017678245902061462
         ],
         "z": [
          "g"
         ]
        },
        {
         "hovertemplate": "color=f<br>x=%{x}<br>y=%{y}<br>z=%{z}<br>text=%{text}<extra></extra>",
         "legendgroup": "f",
         "marker": {
          "color": "#FFA15A",
          "symbol": "circle"
         },
         "mode": "markers+text",
         "name": "f",
         "scene": "scene",
         "showlegend": true,
         "text": [
          "f"
         ],
         "type": "scatter3d",
         "x": [
          0.059247277677059174
         ],
         "y": [
          -0.12167467176914215
         ],
         "z": [
          "f"
         ]
        },
        {
         "hovertemplate": "color=i<br>x=%{x}<br>y=%{y}<br>z=%{z}<br>text=%{text}<extra></extra>",
         "legendgroup": "i",
         "marker": {
          "color": "#19d3f3",
          "symbol": "circle"
         },
         "mode": "markers+text",
         "name": "i",
         "scene": "scene",
         "showlegend": true,
         "text": [
          "i"
         ],
         "type": "scatter3d",
         "x": [
          -0.0071909427642822266
         ],
         "y": [
          0.08083059638738632
         ],
         "z": [
          "i"
         ]
        },
        {
         "hovertemplate": "color=preconizó<br>x=%{x}<br>y=%{y}<br>z=%{z}<br>text=%{text}<extra></extra>",
         "legendgroup": "preconizó",
         "marker": {
          "color": "#FF6692",
          "symbol": "circle"
         },
         "mode": "markers+text",
         "name": "preconizó",
         "scene": "scene",
         "showlegend": true,
         "text": [
          "preconizó"
         ],
         "type": "scatter3d",
         "x": [
          -0.03230443224310875
         ],
         "y": [
          -0.09294979274272919
         ],
         "z": [
          "preconizó"
         ]
        },
        {
         "hovertemplate": "color=bello<br>x=%{x}<br>y=%{y}<br>z=%{z}<br>text=%{text}<extra></extra>",
         "legendgroup": "bello",
         "marker": {
          "color": "#B6E880",
          "symbol": "circle"
         },
         "mode": "markers+text",
         "name": "bello",
         "scene": "scene",
         "showlegend": true,
         "text": [
          "bello"
         ],
         "type": "scatter3d",
         "x": [
          -0.04297374188899994
         ],
         "y": [
          -0.023161860182881355
         ],
         "z": [
          "bello"
         ]
        },
        {
         "hovertemplate": "color=muertas<br>x=%{x}<br>y=%{y}<br>z=%{z}<br>text=%{text}<extra></extra>",
         "legendgroup": "muertas",
         "marker": {
          "color": "#FF97FF",
          "symbol": "circle"
         },
         "mode": "markers+text",
         "name": "muertas",
         "scene": "scene",
         "showlegend": true,
         "text": [
          "muertas"
         ],
         "type": "scatter3d",
         "x": [
          0.015561215579509735
         ],
         "y": [
          -0.025097239762544632
         ],
         "z": [
          "muertas"
         ]
        },
        {
         "hovertemplate": "color=vela<br>x=%{x}<br>y=%{y}<br>z=%{z}<br>text=%{text}<extra></extra>",
         "legendgroup": "vela",
         "marker": {
          "color": "#FECB52",
          "symbol": "circle"
         },
         "mode": "markers+text",
         "name": "vela",
         "scene": "scene",
         "showlegend": true,
         "text": [
          "vela"
         ],
         "type": "scatter3d",
         "x": [
          0.04299546405673027
         ],
         "y": [
          -0.00305612338706851
         ],
         "z": [
          "vela"
         ]
        },
        {
         "hovertemplate": "color=simónides<br>x=%{x}<br>y=%{y}<br>z=%{z}<br>text=%{text}<extra></extra>",
         "legendgroup": "simónides",
         "marker": {
          "color": "#636efa",
          "symbol": "circle"
         },
         "mode": "markers+text",
         "name": "simónides",
         "scene": "scene",
         "showlegend": true,
         "text": [
          "simónides"
         ],
         "type": "scatter3d",
         "x": [
          -0.004646713379770517
         ],
         "y": [
          -0.12072692811489105
         ],
         "z": [
          "simónides"
         ]
        },
        {
         "hovertemplate": "color=efecto<br>x=%{x}<br>y=%{y}<br>z=%{z}<br>text=%{text}<extra></extra>",
         "legendgroup": "efecto",
         "marker": {
          "color": "#EF553B",
          "symbol": "circle"
         },
         "mode": "markers+text",
         "name": "efecto",
         "scene": "scene",
         "showlegend": true,
         "text": [
          "efecto"
         ],
         "type": "scatter3d",
         "x": [
          -0.0585627481341362
         ],
         "y": [
          -0.003452044678851962
         ],
         "z": [
          "efecto"
         ]
        },
        {
         "hovertemplate": "color=débil<br>x=%{x}<br>y=%{y}<br>z=%{z}<br>text=%{text}<extra></extra>",
         "legendgroup": "débil",
         "marker": {
          "color": "#00cc96",
          "symbol": "circle"
         },
         "mode": "markers+text",
         "name": "débil",
         "scene": "scene",
         "showlegend": true,
         "text": [
          "débil"
         ],
         "type": "scatter3d",
         "x": [
          0.04094438999891281
         ],
         "y": [
          -0.01555246114730835
         ],
         "z": [
          "débil"
         ]
        },
        {
         "hovertemplate": "color=remoto<br>x=%{x}<br>y=%{y}<br>z=%{z}<br>text=%{text}<extra></extra>",
         "legendgroup": "remoto",
         "marker": {
          "color": "#ab63fa",
          "symbol": "circle"
         },
         "mode": "markers+text",
         "name": "remoto",
         "scene": "scene",
         "showlegend": true,
         "text": [
          "remoto"
         ],
         "type": "scatter3d",
         "x": [
          0.015031854622066021
         ],
         "y": [
          -0.05786741152405739
         ],
         "z": [
          "remoto"
         ]
        },
        {
         "hovertemplate": "color=indirecto<br>x=%{x}<br>y=%{y}<br>z=%{z}<br>text=%{text}<extra></extra>",
         "legendgroup": "indirecto",
         "marker": {
          "color": "#FFA15A",
          "symbol": "circle"
         },
         "mode": "markers+text",
         "name": "indirecto",
         "scene": "scene",
         "showlegend": true,
         "text": [
          "indirecto"
         ],
         "type": "scatter3d",
         "x": [
          -0.020419606938958168
         ],
         "y": [
          -0.015649499371647835
         ],
         "z": [
          "indirecto"
         ]
        },
        {
         "hovertemplate": "color=estilo<br>x=%{x}<br>y=%{y}<br>z=%{z}<br>text=%{text}<extra></extra>",
         "legendgroup": "estilo",
         "marker": {
          "color": "#19d3f3",
          "symbol": "circle"
         },
         "mode": "markers+text",
         "name": "estilo",
         "scene": "scene",
         "showlegend": true,
         "text": [
          "estilo"
         ],
         "type": "scatter3d",
         "x": [
          -0.003900710726156831
         ],
         "y": [
          -0.002629730384796858
         ],
         "z": [
          "estilo"
         ]
        },
        {
         "hovertemplate": "color=ambiguo<br>x=%{x}<br>y=%{y}<br>z=%{z}<br>text=%{text}<extra></extra>",
         "legendgroup": "ambiguo",
         "marker": {
          "color": "#FF6692",
          "symbol": "circle"
         },
         "mode": "markers+text",
         "name": "ambiguo",
         "scene": "scene",
         "showlegend": true,
         "text": [
          "ambiguo"
         ],
         "type": "scatter3d",
         "x": [
          -0.0009353983332403004
         ],
         "y": [
          0.009365454316139221
         ],
         "z": [
          "ambiguo"
         ]
        },
        {
         "hovertemplate": "color=veracidad<br>x=%{x}<br>y=%{y}<br>z=%{z}<br>text=%{text}<extra></extra>",
         "legendgroup": "veracidad",
         "marker": {
          "color": "#B6E880",
          "symbol": "circle"
         },
         "mode": "markers+text",
         "name": "veracidad",
         "scene": "scene",
         "showlegend": true,
         "text": [
          "veracidad"
         ],
         "type": "scatter3d",
         "x": [
          0.14205774664878845
         ],
         "y": [
          -0.08977151662111282
         ],
         "z": [
          "veracidad"
         ]
        },
        {
         "hovertemplate": "color=resumir<br>x=%{x}<br>y=%{y}<br>z=%{z}<br>text=%{text}<extra></extra>",
         "legendgroup": "resumir",
         "marker": {
          "color": "#FF97FF",
          "symbol": "circle"
         },
         "mode": "markers+text",
         "name": "resumir",
         "scene": "scene",
         "showlegend": true,
         "text": [
          "resumir"
         ],
         "type": "scatter3d",
         "x": [
          0.07909230887889862
         ],
         "y": [
          -0.010083809494972229
         ],
         "z": [
          "resumir"
         ]
        },
        {
         "hovertemplate": "color=prefiero<br>x=%{x}<br>y=%{y}<br>z=%{z}<br>text=%{text}<extra></extra>",
         "legendgroup": "prefiero",
         "marker": {
          "color": "#FECB52",
          "symbol": "circle"
         },
         "mode": "markers+text",
         "name": "prefiero",
         "scene": "scene",
         "showlegend": true,
         "text": [
          "prefiero"
         ],
         "type": "scatter3d",
         "x": [
          0.11753904074430466
         ],
         "y": [
          -0.05231510475277901
         ],
         "z": [
          "prefiero"
         ]
        },
        {
         "hovertemplate": "color=irrecuperables<br>x=%{x}<br>y=%{y}<br>z=%{z}<br>text=%{text}<extra></extra>",
         "legendgroup": "irrecuperables",
         "marker": {
          "color": "#636efa",
          "symbol": "circle"
         },
         "mode": "markers+text",
         "name": "irrecuperables",
         "scene": "scene",
         "showlegend": true,
         "text": [
          "irrecuperables"
         ],
         "type": "scatter3d",
         "x": [
          0.07262639701366425
         ],
         "y": [
          0.06714264303445816
         ],
         "z": [
          "irrecuperables"
         ]
        },
        {
         "hovertemplate": "color=reproducir<br>x=%{x}<br>y=%{y}<br>z=%{z}<br>text=%{text}<extra></extra>",
         "legendgroup": "reproducir",
         "marker": {
          "color": "#EF553B",
          "symbol": "circle"
         },
         "mode": "markers+text",
         "name": "reproducir",
         "scene": "scene",
         "showlegend": true,
         "text": [
          "reproducir"
         ],
         "type": "scatter3d",
         "x": [
          -0.02626226097345352
         ],
         "y": [
          0.04259848594665527
         ],
         "z": [
          "reproducir"
         ]
        },
        {
         "hovertemplate": "color=trataré<br>x=%{x}<br>y=%{y}<br>z=%{z}<br>text=%{text}<extra></extra>",
         "legendgroup": "trataré",
         "marker": {
          "color": "#00cc96",
          "symbol": "circle"
         },
         "mode": "markers+text",
         "name": "trataré",
         "scene": "scene",
         "showlegend": true,
         "text": [
          "trataré"
         ],
         "type": "scatter3d",
         "x": [
          0.13642555475234985
         ],
         "y": [
          -0.06830104440450668
         ],
         "z": [
          "trataré"
         ]
        },
        {
         "hovertemplate": "color=medio<br>x=%{x}<br>y=%{y}<br>z=%{z}<br>text=%{text}<extra></extra>",
         "legendgroup": "medio",
         "marker": {
          "color": "#ab63fa",
          "symbol": "circle"
         },
         "mode": "markers+text",
         "name": "medio",
         "scene": "scene",
         "showlegend": true,
         "text": [
          "medio"
         ],
         "type": "scatter3d",
         "x": [
          -0.0031911502592265606
         ],
         "y": [
          -0.05569760501384735
         ],
         "z": [
          "medio"
         ]
        },
        {
         "hovertemplate": "color=vagamente<br>x=%{x}<br>y=%{y}<br>z=%{z}<br>text=%{text}<extra></extra>",
         "legendgroup": "vagamente",
         "marker": {
          "color": "#FFA15A",
          "symbol": "circle"
         },
         "mode": "markers+text",
         "name": "vagamente",
         "scene": "scene",
         "showlegend": true,
         "text": [
          "vagamente"
         ],
         "type": "scatter3d",
         "x": [
          0.006886168848723173
         ],
         "y": [
          -0.14997993409633636
         ],
         "z": [
          "vagamente"
         ]
        },
        {
         "hovertemplate": "color=hace<br>x=%{x}<br>y=%{y}<br>z=%{z}<br>text=%{text}<extra></extra>",
         "legendgroup": "hace",
         "marker": {
          "color": "#19d3f3",
          "symbol": "circle"
         },
         "mode": "markers+text",
         "name": "hace",
         "scene": "scene",
         "showlegend": true,
         "text": [
          "hace"
         ],
         "type": "scatter3d",
         "x": [
          0.08854029327630997
         ],
         "y": [
          -0.039568956941366196
         ],
         "z": [
          "hace"
         ]
        },
        {
         "hovertemplate": "color=argumento<br>x=%{x}<br>y=%{y}<br>z=%{z}<br>text=%{text}<extra></extra>",
         "legendgroup": "argumento",
         "marker": {
          "color": "#FF6692",
          "symbol": "circle"
         },
         "mode": "markers+text",
         "name": "argumento",
         "scene": "scene",
         "showlegend": true,
         "text": [
          "argumento"
         ],
         "type": "scatter3d",
         "x": [
          0.06259418278932571
         ],
         "y": [
          0.0596722848713398
         ],
         "z": [
          "argumento"
         ]
        },
        {
         "hovertemplate": "color=tiene<br>x=%{x}<br>y=%{y}<br>z=%{z}<br>text=%{text}<extra></extra>",
         "legendgroup": "tiene",
         "marker": {
          "color": "#B6E880",
          "symbol": "circle"
         },
         "mode": "markers+text",
         "name": "tiene",
         "scene": "scene",
         "showlegend": true,
         "text": [
          "tiene"
         ],
         "type": "scatter3d",
         "x": [
          0.028376085683703423
         ],
         "y": [
          0.050229623913764954
         ],
         "z": [
          "tiene"
         ]
        },
        {
         "hovertemplate": "color=lector<br>x=%{x}<br>y=%{y}<br>z=%{z}<br>text=%{text}<extra></extra>",
         "legendgroup": "lector",
         "marker": {
          "color": "#FF97FF",
          "symbol": "circle"
         },
         "mode": "markers+text",
         "name": "lector",
         "scene": "scene",
         "showlegend": true,
         "text": [
          "lector"
         ],
         "type": "scatter3d",
         "x": [
          -0.09633765369653702
         ],
         "y": [
          0.0906369760632515
         ],
         "z": [
          "lector"
         ]
        },
        {
         "hovertemplate": "color=sepa<br>x=%{x}<br>y=%{y}<br>z=%{z}<br>text=%{text}<extra></extra>",
         "legendgroup": "sepa",
         "marker": {
          "color": "#FECB52",
          "symbol": "circle"
         },
         "mode": "markers+text",
         "name": "sepa",
         "scene": "scene",
         "showlegend": true,
         "text": [
          "sepa"
         ],
         "type": "scatter3d",
         "x": [
          0.0168533306568861
         ],
         "y": [
          -0.08394713699817657
         ],
         "z": [
          "sepa"
         ]
        },
        {
         "hovertemplate": "color=bueno<br>x=%{x}<br>y=%{y}<br>z=%{z}<br>text=%{text}<extra></extra>",
         "legendgroup": "bueno",
         "marker": {
          "color": "#636efa",
          "symbol": "circle"
         },
         "mode": "markers+text",
         "name": "bueno",
         "scene": "scene",
         "showlegend": true,
         "text": [
          "bueno"
         ],
         "type": "scatter3d",
         "x": [
          0.11591613292694092
         ],
         "y": [
          0.10445012152194977
         ],
         "z": [
          "bueno"
         ]
        },
        {
         "hovertemplate": "color=hoja<br>x=%{x}<br>y=%{y}<br>z=%{z}<br>text=%{text}<extra></extra>",
         "legendgroup": "hoja",
         "marker": {
          "color": "#EF553B",
          "symbol": "circle"
         },
         "mode": "markers+text",
         "name": "hoja",
         "scene": "scene",
         "showlegend": true,
         "text": [
          "hoja"
         ],
         "type": "scatter3d",
         "x": [
          0.07153081893920898
         ],
         "y": [
          -0.12558700144290924
         ],
         "z": [
          "hoja"
         ]
        },
        {
         "hovertemplate": "color=árbol<br>x=%{x}<br>y=%{y}<br>z=%{z}<br>text=%{text}<extra></extra>",
         "legendgroup": "árbol",
         "marker": {
          "color": "#00cc96",
          "symbol": "circle"
         },
         "mode": "markers+text",
         "name": "árbol",
         "scene": "scene",
         "showlegend": true,
         "text": [
          "árbol"
         ],
         "type": "scatter3d",
         "x": [
          0.03056531772017479
         ],
         "y": [
          0.018459081649780273
         ],
         "z": [
          "árbol"
         ]
        },
        {
         "hovertemplate": "color=monte<br>x=%{x}<br>y=%{y}<br>z=%{z}<br>text=%{text}<extra></extra>",
         "legendgroup": "monte",
         "marker": {
          "color": "#ab63fa",
          "symbol": "circle"
         },
         "mode": "markers+text",
         "name": "monte",
         "scene": "scene",
         "showlegend": true,
         "text": [
          "monte"
         ],
         "type": "scatter3d",
         "x": [
          0.060796596109867096
         ],
         "y": [
          0.14292629063129425
         ],
         "z": [
          "monte"
         ]
        },
        {
         "hovertemplate": "color=enfermedad<br>x=%{x}<br>y=%{y}<br>z=%{z}<br>text=%{text}<extra></extra>",
         "legendgroup": "enfermedad",
         "marker": {
          "color": "#FFA15A",
          "symbol": "circle"
         },
         "mode": "markers+text",
         "name": "enfermedad",
         "scene": "scene",
         "showlegend": true,
         "text": [
          "enfermedad"
         ],
         "type": "scatter3d",
         "x": [
          0.004162210039794445
         ],
         "y": [
          -0.05701638013124466
         ],
         "z": [
          "enfermedad"
         ]
        },
        {
         "hovertemplate": "color=repetí<br>x=%{x}<br>y=%{y}<br>z=%{z}<br>text=%{text}<extra></extra>",
         "legendgroup": "repetí",
         "marker": {
          "color": "#19d3f3",
          "symbol": "circle"
         },
         "mode": "markers+text",
         "name": "repetí",
         "scene": "scene",
         "showlegend": true,
         "text": [
          "repetí"
         ],
         "type": "scatter3d",
         "x": [
          -0.026358675211668015
         ],
         "y": [
          -0.044195715337991714
         ],
         "z": [
          "repetí"
         ]
        },
        {
         "hovertemplate": "color=general<br>x=%{x}<br>y=%{y}<br>z=%{z}<br>text=%{text}<extra></extra>",
         "legendgroup": "general",
         "marker": {
          "color": "#FF6692",
          "symbol": "circle"
         },
         "mode": "markers+text",
         "name": "general",
         "scene": "scene",
         "showlegend": true,
         "text": [
          "general"
         ],
         "type": "scatter3d",
         "x": [
          -0.06430315971374512
         ],
         "y": [
          -0.014348371885716915
         ],
         "z": [
          "general"
         ]
        },
        {
         "hovertemplate": "color=sacrifico<br>x=%{x}<br>y=%{y}<br>z=%{z}<br>text=%{text}<extra></extra>",
         "legendgroup": "sacrifico",
         "marker": {
          "color": "#B6E880",
          "symbol": "circle"
         },
         "mode": "markers+text",
         "name": "sacrifico",
         "scene": "scene",
         "showlegend": true,
         "text": [
          "sacrifico"
         ],
         "type": "scatter3d",
         "x": [
          -0.14103026688098907
         ],
         "y": [
          -0.04553179442882538
         ],
         "z": [
          "sacrifico"
         ]
        },
        {
         "hovertemplate": "color=eficacia<br>x=%{x}<br>y=%{y}<br>z=%{z}<br>text=%{text}<extra></extra>",
         "legendgroup": "eficacia",
         "marker": {
          "color": "#FF97FF",
          "symbol": "circle"
         },
         "mode": "markers+text",
         "name": "eficacia",
         "scene": "scene",
         "showlegend": true,
         "text": [
          "eficacia"
         ],
         "type": "scatter3d",
         "x": [
          -0.07371100783348083
         ],
         "y": [
          0.1056147962808609
         ],
         "z": [
          "eficacia"
         ]
        },
        {
         "hovertemplate": "color=lectores<br>x=%{x}<br>y=%{y}<br>z=%{z}<br>text=%{text}<extra></extra>",
         "legendgroup": "lectores",
         "marker": {
          "color": "#FECB52",
          "symbol": "circle"
         },
         "mode": "markers+text",
         "name": "lectores",
         "scene": "scene",
         "showlegend": true,
         "text": [
          "lectores"
         ],
         "type": "scatter3d",
         "x": [
          -0.15985122323036194
         ],
         "y": [
          -0.014053747989237309
         ],
         "z": [
          "lectores"
         ]
        },
        {
         "hovertemplate": "color=imperio<br>x=%{x}<br>y=%{y}<br>z=%{z}<br>text=%{text}<extra></extra>",
         "legendgroup": "imperio",
         "marker": {
          "color": "#636efa",
          "symbol": "circle"
         },
         "mode": "markers+text",
         "name": "imperio",
         "scene": "scene",
         "showlegend": true,
         "text": [
          "imperio"
         ],
         "type": "scatter3d",
         "x": [
          -0.08576993644237518
         ],
         "y": [
          0.09292629361152649
         ],
         "z": [
          "imperio"
         ]
        },
        {
         "hovertemplate": "color=idiomas<br>x=%{x}<br>y=%{y}<br>z=%{z}<br>text=%{text}<extra></extra>",
         "legendgroup": "idiomas",
         "marker": {
          "color": "#EF553B",
          "symbol": "circle"
         },
         "mode": "markers+text",
         "name": "idiomas",
         "scene": "scene",
         "showlegend": true,
         "text": [
          "idiomas"
         ],
         "type": "scatter3d",
         "x": [
          -0.0002065865701297298
         ],
         "y": [
          -0.01162173505872488
         ],
         "z": [
          "idiomas"
         ]
        },
        {
         "hovertemplate": "color=veintidós<br>x=%{x}<br>y=%{y}<br>z=%{z}<br>text=%{text}<extra></extra>",
         "legendgroup": "veintidós",
         "marker": {
          "color": "#00cc96",
          "symbol": "circle"
         },
         "mode": "markers+text",
         "name": "veintidós",
         "scene": "scene",
         "showlegend": true,
         "text": [
          "veintidós"
         ],
         "type": "scatter3d",
         "x": [
          0.05877486243844032
         ],
         "y": [
          0.12889549136161804
         ],
         "z": [
          "veintidós"
         ]
        },
        {
         "hovertemplate": "color=justicia<br>x=%{x}<br>y=%{y}<br>z=%{z}<br>text=%{text}<extra></extra>",
         "legendgroup": "justicia",
         "marker": {
          "color": "#ab63fa",
          "symbol": "circle"
         },
         "mode": "markers+text",
         "name": "justicia",
         "scene": "scene",
         "showlegend": true,
         "text": [
          "justicia"
         ],
         "type": "scatter3d",
         "x": [
          0.018602857366204262
         ],
         "y": [
          -0.04206877574324608
         ],
         "z": [
          "justicia"
         ]
        },
        {
         "hovertemplate": "color=administraba<br>x=%{x}<br>y=%{y}<br>z=%{z}<br>text=%{text}<extra></extra>",
         "legendgroup": "administraba",
         "marker": {
          "color": "#FFA15A",
          "symbol": "circle"
         },
         "mode": "markers+text",
         "name": "administraba",
         "scene": "scene",
         "showlegend": true,
         "text": [
          "administraba"
         ],
         "type": "scatter3d",
         "x": [
          -0.013388137333095074
         ],
         "y": [
          -0.051078394055366516
         ],
         "z": [
          "administraba"
         ]
        },
        {
         "hovertemplate": "color=eupator<br>x=%{x}<br>y=%{y}<br>z=%{z}<br>text=%{text}<extra></extra>",
         "legendgroup": "eupator",
         "marker": {
          "color": "#19d3f3",
          "symbol": "circle"
         },
         "mode": "markers+text",
         "name": "eupator",
         "scene": "scene",
         "showlegend": true,
         "text": [
          "eupator"
         ],
         "type": "scatter3d",
         "x": [
          0.012763828970491886
         ],
         "y": [
          -0.05539616197347641
         ],
         "z": [
          "eupator"
         ]
        },
        {
         "hovertemplate": "color=mitrídates<br>x=%{x}<br>y=%{y}<br>z=%{z}<br>text=%{text}<extra></extra>",
         "legendgroup": "mitrídates",
         "marker": {
          "color": "#FF6692",
          "symbol": "circle"
         },
         "mode": "markers+text",
         "name": "mitrídates",
         "scene": "scene",
         "showlegend": true,
         "text": [
          "mitrídates"
         ],
         "type": "scatter3d",
         "x": [
          0.06849521398544312
         ],
         "y": [
          0.0240836963057518
         ],
         "z": [
          "mitrídates"
         ]
        },
        {
         "hovertemplate": "color=ejércitos<br>x=%{x}<br>y=%{y}<br>z=%{z}<br>text=%{text}<extra></extra>",
         "legendgroup": "ejércitos",
         "marker": {
          "color": "#B6E880",
          "symbol": "circle"
         },
         "mode": "markers+text",
         "name": "ejércitos",
         "scene": "scene",
         "showlegend": true,
         "text": [
          "ejércitos"
         ],
         "type": "scatter3d",
         "x": [
          0.10279208421707153
         ],
         "y": [
          -0.11568286269903183
         ],
         "z": [
          "ejércitos"
         ]
        },
        {
         "hovertemplate": "color=soldados<br>x=%{x}<br>y=%{y}<br>z=%{z}<br>text=%{text}<extra></extra>",
         "legendgroup": "soldados",
         "marker": {
          "color": "#FF97FF",
          "symbol": "circle"
         },
         "mode": "markers+text",
         "name": "soldados",
         "scene": "scene",
         "showlegend": true,
         "text": [
          "soldados"
         ],
         "type": "scatter3d",
         "x": [
          0.002401224570348859
         ],
         "y": [
          -0.04138318449258804
         ],
         "z": [
          "soldados"
         ]
        },
        {
         "hovertemplate": "color=parecerle<br>x=%{x}<br>y=%{y}<br>z=%{z}<br>text=%{text}<extra></extra>",
         "legendgroup": "parecerle",
         "marker": {
          "color": "#FECB52",
          "symbol": "circle"
         },
         "mode": "markers+text",
         "name": "parecerle",
         "scene": "scene",
         "showlegend": true,
         "text": [
          "parecerle"
         ],
         "type": "scatter3d",
         "x": [
          -0.06794525682926178
         ],
         "y": [
          0.13247191905975342
         ],
         "z": [
          "parecerle"
         ]
        },
        {
         "hovertemplate": "color=llamar<br>x=%{x}<br>y=%{y}<br>z=%{z}<br>text=%{text}<extra></extra>",
         "legendgroup": "llamar",
         "marker": {
          "color": "#636efa",
          "symbol": "circle"
         },
         "mode": "markers+text",
         "name": "llamar",
         "scene": "scene",
         "showlegend": true,
         "text": [
          "llamar"
         ],
         "type": "scatter3d",
         "x": [
          -0.04989783093333244
         ],
         "y": [
          0.07678597420454025
         ],
         "z": [
          "llamar"
         ]
        },
        {
         "hovertemplate": "color=persas<br>x=%{x}<br>y=%{y}<br>z=%{z}<br>text=%{text}<extra></extra>",
         "legendgroup": "persas",
         "marker": {
          "color": "#EF553B",
          "symbol": "circle"
         },
         "mode": "markers+text",
         "name": "persas",
         "scene": "scene",
         "showlegend": true,
         "text": [
          "persas"
         ],
         "type": "scatter3d",
         "x": [
          0.06263910979032516
         ],
         "y": [
          -0.024710584431886673
         ],
         "z": [
          "persas"
         ]
        },
        {
         "hovertemplate": "color=rey<br>x=%{x}<br>y=%{y}<br>z=%{z}<br>text=%{text}<extra></extra>",
         "legendgroup": "rey",
         "marker": {
          "color": "#00cc96",
          "symbol": "circle"
         },
         "mode": "markers+text",
         "name": "rey",
         "scene": "scene",
         "showlegend": true,
         "text": [
          "rey"
         ],
         "type": "scatter3d",
         "x": [
          0.016845200210809708
         ],
         "y": [
          0.05998711287975311
         ],
         "z": [
          "rey"
         ]
        },
        {
         "hovertemplate": "color=ciro<br>x=%{x}<br>y=%{y}<br>z=%{z}<br>text=%{text}<extra></extra>",
         "legendgroup": "ciro",
         "marker": {
          "color": "#ab63fa",
          "symbol": "circle"
         },
         "mode": "markers+text",
         "name": "ciro",
         "scene": "scene",
         "showlegend": true,
         "text": [
          "ciro"
         ],
         "type": "scatter3d",
         "x": [
          -0.08716516941785812
         ],
         "y": [
          0.0004557010834105313
         ],
         "z": [
          "ciro"
         ]
        },
        {
         "hovertemplate": "color=registrados<br>x=%{x}<br>y=%{y}<br>z=%{z}<br>text=%{text}<extra></extra>",
         "legendgroup": "registrados",
         "marker": {
          "color": "#FFA15A",
          "symbol": "circle"
         },
         "mode": "markers+text",
         "name": "registrados",
         "scene": "scene",
         "showlegend": true,
         "text": [
          "registrados"
         ],
         "type": "scatter3d",
         "x": [
          0.06511329859495163
         ],
         "y": [
          -0.0007925351383164525
         ],
         "z": [
          "registrados"
         ]
        },
        {
         "hovertemplate": "color=prodigiosa<br>x=%{x}<br>y=%{y}<br>z=%{z}<br>text=%{text}<extra></extra>",
         "legendgroup": "prodigiosa",
         "marker": {
          "color": "#19d3f3",
          "symbol": "circle"
         },
         "mode": "markers+text",
         "name": "prodigiosa",
         "scene": "scene",
         "showlegend": true,
         "text": [
          "prodigiosa"
         ],
         "type": "scatter3d",
         "x": [
          -0.05631357058882713
         ],
         "y": [
          -0.08447598665952682
         ],
         "z": [
          "prodigiosa"
         ]
        },
        {
         "hovertemplate": "color=español<br>x=%{x}<br>y=%{y}<br>z=%{z}<br>text=%{text}<extra></extra>",
         "legendgroup": "español",
         "marker": {
          "color": "#FF6692",
          "symbol": "circle"
         },
         "mode": "markers+text",
         "name": "español",
         "scene": "scene",
         "showlegend": true,
         "text": [
          "español"
         ],
         "type": "scatter3d",
         "x": [
          0.16807948052883148
         ],
         "y": [
          -0.0865471288561821
         ],
         "z": [
          "español"
         ]
        },
        {
         "hovertemplate": "color=enumerar<br>x=%{x}<br>y=%{y}<br>z=%{z}<br>text=%{text}<extra></extra>",
         "legendgroup": "enumerar",
         "marker": {
          "color": "#B6E880",
          "symbol": "circle"
         },
         "mode": "markers+text",
         "name": "enumerar",
         "scene": "scene",
         "showlegend": true,
         "text": [
          "enumerar"
         ],
         "type": "scatter3d",
         "x": [
          -0.009053274989128113
         ],
         "y": [
          0.021380450576543808
         ],
         "z": [
          "enumerar"
         ]
        },
        {
         "hovertemplate": "color=empezó<br>x=%{x}<br>y=%{y}<br>z=%{z}<br>text=%{text}<extra></extra>",
         "legendgroup": "empezó",
         "marker": {
          "color": "#FF97FF",
          "symbol": "circle"
         },
         "mode": "markers+text",
         "name": "empezó",
         "scene": "scene",
         "showlegend": true,
         "text": [
          "empezó"
         ],
         "type": "scatter3d",
         "x": [
          0.04667789116501808
         ],
         "y": [
          0.11053343117237091
         ],
         "z": [
          "empezó"
         ]
        },
        {
         "hovertemplate": "color=abrumaron<br>x=%{x}<br>y=%{y}<br>z=%{z}<br>text=%{text}<extra></extra>",
         "legendgroup": "abrumaron",
         "marker": {
          "color": "#FECB52",
          "symbol": "circle"
         },
         "mode": "markers+text",
         "name": "abrumaron",
         "scene": "scene",
         "showlegend": true,
         "text": [
          "abrumaron"
         ],
         "type": "scatter3d",
         "x": [
          0.1324104368686676
         ],
         "y": [
          -0.046028830111026764
         ],
         "z": [
          "abrumaron"
         ]
        },
        {
         "hovertemplate": "color=períodos<br>x=%{x}<br>y=%{y}<br>z=%{z}<br>text=%{text}<extra></extra>",
         "legendgroup": "períodos",
         "marker": {
          "color": "#636efa",
          "symbol": "circle"
         },
         "mode": "markers+text",
         "name": "períodos",
         "scene": "scene",
         "showlegend": true,
         "text": [
          "períodos"
         ],
         "type": "scatter3d",
         "x": [
          0.05808010697364807
         ],
         "y": [
          0.030658774077892303
         ],
         "z": [
          "períodos"
         ]
        },
        {
         "hovertemplate": "color=entrecortados<br>x=%{x}<br>y=%{y}<br>z=%{z}<br>text=%{text}<extra></extra>",
         "legendgroup": "entrecortados",
         "marker": {
          "color": "#EF553B",
          "symbol": "circle"
         },
         "mode": "markers+text",
         "name": "entrecortados",
         "scene": "scene",
         "showlegend": true,
         "text": [
          "entrecortados"
         ],
         "type": "scatter3d",
         "x": [
          -0.007062757853418589
         ],
         "y": [
          -0.007497042883187532
         ],
         "z": [
          "entrecortados"
         ]
        },
        {
         "hovertemplate": "color=imaginen<br>x=%{x}<br>y=%{y}<br>z=%{z}<br>text=%{text}<extra></extra>",
         "legendgroup": "imaginen",
         "marker": {
          "color": "#00cc96",
          "symbol": "circle"
         },
         "mode": "markers+text",
         "name": "imaginen",
         "scene": "scene",
         "showlegend": true,
         "text": [
          "imaginen"
         ],
         "type": "scatter3d",
         "x": [
          -0.04659183323383331
         ],
         "y": [
          0.0526050329208374
         ],
         "z": [
          "imaginen"
         ]
        },
        {
         "hovertemplate": "color=senté<br>x=%{x}<br>y=%{y}<br>z=%{z}<br>text=%{text}<extra></extra>",
         "legendgroup": "senté",
         "marker": {
          "color": "#ab63fa",
          "symbol": "circle"
         },
         "mode": "markers+text",
         "name": "senté",
         "scene": "scene",
         "showlegend": true,
         "text": [
          "senté"
         ],
         "type": "scatter3d",
         "x": [
          -0.0638117864727974
         ],
         "y": [
          0.0308651365339756
         ],
         "z": [
          "senté"
         ]
        },
        {
         "hovertemplate": "color=olía<br>x=%{x}<br>y=%{y}<br>z=%{z}<br>text=%{text}<extra></extra>",
         "legendgroup": "olía",
         "marker": {
          "color": "#FFA15A",
          "symbol": "circle"
         },
         "mode": "markers+text",
         "name": "olía",
         "scene": "scene",
         "showlegend": true,
         "text": [
          "olía"
         ],
         "type": "scatter3d",
         "x": [
          0.048011280596256256
         ],
         "y": [
          0.052683025598526
         ],
         "z": [
          "olía"
         ]
        },
        {
         "hovertemplate": "color=atravesé<br>x=%{x}<br>y=%{y}<br>z=%{z}<br>text=%{text}<extra></extra>",
         "legendgroup": "atravesé",
         "marker": {
          "color": "#19d3f3",
          "symbol": "circle"
         },
         "mode": "markers+text",
         "name": "atravesé",
         "scene": "scene",
         "showlegend": true,
         "text": [
          "atravesé"
         ],
         "type": "scatter3d",
         "x": [
          0.09784118086099625
         ],
         "y": [
          0.052389971911907196
         ],
         "z": [
          "atravesé"
         ]
        },
        {
         "hovertemplate": "color=hablaba<br>x=%{x}<br>y=%{y}<br>z=%{z}<br>text=%{text}<extra></extra>",
         "legendgroup": "hablaba",
         "marker": {
          "color": "#FF6692",
          "symbol": "circle"
         },
         "mode": "markers+text",
         "name": "hablaba",
         "scene": "scene",
         "showlegend": true,
         "text": [
          "hablaba"
         ],
         "type": "scatter3d",
         "x": [
          -0.05196652188897133
         ],
         "y": [
          -0.013575476594269276
         ],
         "z": [
          "hablaba"
         ]
        },
        {
         "hovertemplate": "color=romanas<br>x=%{x}<br>y=%{y}<br>z=%{z}<br>text=%{text}<extra></extra>",
         "legendgroup": "romanas",
         "marker": {
          "color": "#B6E880",
          "symbol": "circle"
         },
         "mode": "markers+text",
         "name": "romanas",
         "scene": "scene",
         "showlegend": true,
         "text": [
          "romanas"
         ],
         "type": "scatter3d",
         "x": [
          -0.08529441058635712
         ],
         "y": [
          -0.12481185793876648
         ],
         "z": [
          "romanas"
         ]
        },
        {
         "hovertemplate": "color=sílabas<br>x=%{x}<br>y=%{y}<br>z=%{z}<br>text=%{text}<extra></extra>",
         "legendgroup": "sílabas",
         "marker": {
          "color": "#FF97FF",
          "symbol": "circle"
         },
         "mode": "markers+text",
         "name": "sílabas",
         "scene": "scene",
         "showlegend": true,
         "text": [
          "sílabas"
         ],
         "type": "scatter3d",
         "x": [
          0.033356305211782455
         ],
         "y": [
          -0.08446233719587326
         ],
         "z": [
          "sílabas"
         ]
        },
        {
         "hovertemplate": "color=resonaron<br>x=%{x}<br>y=%{y}<br>z=%{z}<br>text=%{text}<extra></extra>",
         "legendgroup": "resonaron",
         "marker": {
          "color": "#FECB52",
          "symbol": "circle"
         },
         "mode": "markers+text",
         "name": "resonaron",
         "scene": "scene",
         "showlegend": true,
         "text": [
          "resonaron"
         ],
         "type": "scatter3d",
         "x": [
          -0.06277401000261307
         ],
         "y": [
          -0.0851050391793251
         ],
         "z": [
          "resonaron"
         ]
        },
        {
         "hovertemplate": "color=incantación<br>x=%{x}<br>y=%{y}<br>z=%{z}<br>text=%{text}<extra></extra>",
         "legendgroup": "incantación",
         "marker": {
          "color": "#636efa",
          "symbol": "circle"
         },
         "mode": "markers+text",
         "name": "incantación",
         "scene": "scene",
         "showlegend": true,
         "text": [
          "incantación"
         ],
         "type": "scatter3d",
         "x": [
          -0.03554695472121239
         ],
         "y": [
          0.047940000891685486
         ],
         "z": [
          "incantación"
         ]
        },
        {
         "hovertemplate": "color=plegaria<br>x=%{x}<br>y=%{y}<br>z=%{z}<br>text=%{text}<extra></extra>",
         "legendgroup": "plegaria",
         "marker": {
          "color": "#EF553B",
          "symbol": "circle"
         },
         "mode": "markers+text",
         "name": "plegaria",
         "scene": "scene",
         "showlegend": true,
         "text": [
          "plegaria"
         ],
         "type": "scatter3d",
         "x": [
          0.03994853049516678
         ],
         "y": [
          0.0007453807629644871
         ],
         "z": [
          "plegaria"
         ]
        },
        {
         "hovertemplate": "color=discurso<br>x=%{x}<br>y=%{y}<br>z=%{z}<br>text=%{text}<extra></extra>",
         "legendgroup": "discurso",
         "marker": {
          "color": "#00cc96",
          "symbol": "circle"
         },
         "mode": "markers+text",
         "name": "discurso",
         "scene": "scene",
         "showlegend": true,
         "text": [
          "discurso"
         ],
         "type": "scatter3d",
         "x": [
          0.08378030359745026
         ],
         "y": [
          0.015846388414502144
         ],
         "z": [
          "discurso"
         ]
        },
        {
         "hovertemplate": "color=deleite<br>x=%{x}<br>y=%{y}<br>z=%{z}<br>text=%{text}<extra></extra>",
         "legendgroup": "deleite",
         "marker": {
          "color": "#ab63fa",
          "symbol": "circle"
         },
         "mode": "markers+text",
         "name": "deleite",
         "scene": "scene",
         "showlegend": true,
         "text": [
          "deleite"
         ],
         "type": "scatter3d",
         "x": [
          -0.07451477646827698
         ],
         "y": [
          -0.05079358443617821
         ],
         "z": [
          "deleite"
         ]
        },
        {
         "hovertemplate": "color=moroso<br>x=%{x}<br>y=%{y}<br>z=%{z}<br>text=%{text}<extra></extra>",
         "legendgroup": "moroso",
         "marker": {
          "color": "#FFA15A",
          "symbol": "circle"
         },
         "mode": "markers+text",
         "name": "moroso",
         "scene": "scene",
         "showlegend": true,
         "text": [
          "moroso"
         ],
         "type": "scatter3d",
         "x": [
          -0.025149501860141754
         ],
         "y": [
          -0.06405633687973022
         ],
         "z": [
          "moroso"
         ]
        },
        {
         "hovertemplate": "color=articulaba<br>x=%{x}<br>y=%{y}<br>z=%{z}<br>text=%{text}<extra></extra>",
         "legendgroup": "articulaba",
         "marker": {
          "color": "#19d3f3",
          "symbol": "circle"
         },
         "mode": "markers+text",
         "name": "articulaba",
         "scene": "scene",
         "showlegend": true,
         "text": [
          "articulaba"
         ],
         "type": "scatter3d",
         "x": [
          0.016041215509176254
         ],
         "y": [
          0.030816325917840004
         ],
         "z": [
          "articulaba"
         ]
        },
        {
         "hovertemplate": "color=pretéritas<br>x=%{x}<br>y=%{y}<br>z=%{z}<br>text=%{text}<extra></extra>",
         "legendgroup": "pretéritas",
         "marker": {
          "color": "#FF6692",
          "symbol": "circle"
         },
         "mode": "markers+text",
         "name": "pretéritas",
         "scene": "scene",
         "showlegend": true,
         "text": [
          "pretéritas"
         ],
         "type": "scatter3d",
         "x": [
          0.028843745589256287
         ],
         "y": [
          0.03178122639656067
         ],
         "z": [
          "pretéritas"
         ]
        },
        {
         "hovertemplate": "color=venía<br>x=%{x}<br>y=%{y}<br>z=%{z}<br>text=%{text}<extra></extra>",
         "legendgroup": "venía",
         "marker": {
          "color": "#B6E880",
          "symbol": "circle"
         },
         "mode": "markers+text",
         "name": "venía",
         "scene": "scene",
         "showlegend": true,
         "text": [
          "venía"
         ],
         "type": "scatter3d",
         "x": [
          -0.063399538397789
         ],
         "y": [
          0.07032209634780884
         ],
         "z": [
          "venía"
         ]
        },
        {
         "hovertemplate": "color=alta<br>x=%{x}<br>y=%{y}<br>z=%{z}<br>text=%{text}<extra></extra>",
         "legendgroup": "alta",
         "marker": {
          "color": "#FF97FF",
          "symbol": "circle"
         },
         "mode": "markers+text",
         "name": "alta",
         "scene": "scene",
         "showlegend": true,
         "text": [
          "alta"
         ],
         "type": "scatter3d",
         "x": [
          0.07349356263875961
         ],
         "y": [
          -0.0394667349755764
         ],
         "z": [
          "alta"
         ]
        },
        {
         "hovertemplate": "color=momentánea<br>x=%{x}<br>y=%{y}<br>z=%{z}<br>text=%{text}<extra></extra>",
         "legendgroup": "momentánea",
         "marker": {
          "color": "#FECB52",
          "symbol": "circle"
         },
         "mode": "markers+text",
         "name": "momentánea",
         "scene": "scene",
         "showlegend": true,
         "text": [
          "momentánea"
         ],
         "type": "scatter3d",
         "x": [
          0.06347157061100006
         ],
         "y": [
          -0.010139885358512402
         ],
         "z": [
          "momentánea"
         ]
        },
        {
         "hovertemplate": "color=pronto<br>x=%{x}<br>y=%{y}<br>z=%{z}<br>text=%{text}<extra></extra>",
         "legendgroup": "pronto",
         "marker": {
          "color": "#636efa",
          "symbol": "circle"
         },
         "mode": "markers+text",
         "name": "pronto",
         "scene": "scene",
         "showlegend": true,
         "text": [
          "pronto"
         ],
         "type": "scatter3d",
         "x": [
          -0.008389201946556568
         ],
         "y": [
          -0.09278823435306549
         ],
         "z": [
          "pronto"
         ]
        },
        {
         "hovertemplate": "color=total<br>x=%{x}<br>y=%{y}<br>z=%{z}<br>text=%{text}<extra></extra>",
         "legendgroup": "total",
         "marker": {
          "color": "#EF553B",
          "symbol": "circle"
         },
         "mode": "markers+text",
         "name": "total",
         "scene": "scene",
         "showlegend": true,
         "text": [
          "total"
         ],
         "type": "scatter3d",
         "x": [
          0.01607196405529976
         ],
         "y": [
          -0.008162863552570343
         ],
         "z": [
          "total"
         ]
        },
        {
         "hovertemplate": "color=parecerme<br>x=%{x}<br>y=%{y}<br>z=%{z}<br>text=%{text}<extra></extra>",
         "legendgroup": "parecerme",
         "marker": {
          "color": "#00cc96",
          "symbol": "circle"
         },
         "mode": "markers+text",
         "name": "parecerme",
         "scene": "scene",
         "showlegend": true,
         "text": [
          "parecerme"
         ],
         "type": "scatter3d",
         "x": [
          -0.09222627431154251
         ],
         "y": [
          -0.007378316950052977
         ],
         "z": [
          "parecerme"
         ]
        },
        {
         "hovertemplate": "color=pudo<br>x=%{x}<br>y=%{y}<br>z=%{z}<br>text=%{text}<extra></extra>",
         "legendgroup": "pudo",
         "marker": {
          "color": "#ab63fa",
          "symbol": "circle"
         },
         "mode": "markers+text",
         "name": "pudo",
         "scene": "scene",
         "showlegend": true,
         "text": [
          "pudo"
         ],
         "type": "scatter3d",
         "x": [
          -0.12291352450847626
         ],
         "y": [
          -0.03154968470335007
         ],
         "z": [
          "pudo"
         ]
        },
        {
         "hovertemplate": "color=unos<br>x=%{x}<br>y=%{y}<br>z=%{z}<br>text=%{text}<extra></extra>",
         "legendgroup": "unos",
         "marker": {
          "color": "#FFA15A",
          "symbol": "circle"
         },
         "mode": "markers+text",
         "name": "unos",
         "scene": "scene",
         "showlegend": true,
         "text": [
          "unos"
         ],
         "type": "scatter3d",
         "x": [
          -0.0854082778096199
         ],
         "y": [
          0.12978725135326385
         ],
         "z": [
          "unos"
         ]
        },
        {
         "hovertemplate": "color=latinoamericanos<br>x=%{x}<br>y=%{y}<br>z=%{z}<br>text=%{text}<extra></extra>",
         "legendgroup": "latinoamericanos",
         "marker": {
          "color": "#19d3f3",
          "symbol": "circle"
         },
         "mode": "markers+text",
         "name": "latinoamericanos",
         "scene": "scene",
         "showlegend": true,
         "text": [
          "latinoamericanos"
         ],
         "type": "scatter3d",
         "x": [
          0.06275144219398499
         ],
         "y": [
          0.006921155843883753
         ],
         "z": [
          "latinoamericanos"
         ]
        },
        {
         "hovertemplate": "color=segundo<br>x=%{x}<br>y=%{y}<br>z=%{z}<br>text=%{text}<extra></extra>",
         "legendgroup": "segundo",
         "marker": {
          "color": "#FF6692",
          "symbol": "circle"
         },
         "mode": "markers+text",
         "name": "segundo",
         "scene": "scene",
         "showlegend": true,
         "text": [
          "segundo"
         ],
         "type": "scatter3d",
         "x": [
          -0.018400976434350014
         ],
         "y": [
          0.022437511011958122
         ],
         "z": [
          "segundo"
         ]
        },
        {
         "hovertemplate": "color=llegué<br>x=%{x}<br>y=%{y}<br>z=%{z}<br>text=%{text}<extra></extra>",
         "legendgroup": "llegué",
         "marker": {
          "color": "#B6E880",
          "symbol": "circle"
         },
         "mode": "markers+text",
         "name": "llegué",
         "scene": "scene",
         "showlegend": true,
         "text": [
          "llegué"
         ],
         "type": "scatter3d",
         "x": [
          -0.08641272783279419
         ],
         "y": [
          0.08087222278118134
         ],
         "z": [
          "llegué"
         ]
        },
        {
         "hovertemplate": "color=corredorcito<br>x=%{x}<br>y=%{y}<br>z=%{z}<br>text=%{text}<extra></extra>",
         "legendgroup": "corredorcito",
         "marker": {
          "color": "#FF97FF",
          "symbol": "circle"
         },
         "mode": "markers+text",
         "name": "corredorcito",
         "scene": "scene",
         "showlegend": true,
         "text": [
          "corredorcito"
         ],
         "type": "scatter3d",
         "x": [
          0.07785792648792267
         ],
         "y": [
          0.008913914673030376
         ],
         "z": [
          "corredorcito"
         ]
        },
        {
         "hovertemplate": "color=baldosa<br>x=%{x}<br>y=%{y}<br>z=%{z}<br>text=%{text}<extra></extra>",
         "legendgroup": "baldosa",
         "marker": {
          "color": "#FECB52",
          "symbol": "circle"
         },
         "mode": "markers+text",
         "name": "baldosa",
         "scene": "scene",
         "showlegend": true,
         "text": [
          "baldosa"
         ],
         "type": "scatter3d",
         "x": [
          -0.10495690256357193
         ],
         "y": [
          -0.010906538926064968
         ],
         "z": [
          "baldosa"
         ]
        },
        {
         "hovertemplate": "color=setenta<br>x=%{x}<br>y=%{y}<br>z=%{z}<br>text=%{text}<extra></extra>",
         "legendgroup": "setenta",
         "marker": {
          "color": "#636efa",
          "symbol": "circle"
         },
         "mode": "markers+text",
         "name": "setenta",
         "scene": "scene",
         "showlegend": true,
         "text": [
          "setenta"
         ],
         "type": "scatter3d",
         "x": [
          0.052134640514850616
         ],
         "y": [
          -0.08016015589237213
         ],
         "z": [
          "setenta"
         ]
        },
        {
         "hovertemplate": "color=creía<br>x=%{x}<br>y=%{y}<br>z=%{z}<br>text=%{text}<extra></extra>",
         "legendgroup": "creía",
         "marker": {
          "color": "#EF553B",
          "symbol": "circle"
         },
         "mode": "markers+text",
         "name": "creía",
         "scene": "scene",
         "showlegend": true,
         "text": [
          "creía"
         ],
         "type": "scatter3d",
         "x": [
          0.0504959411919117
         ],
         "y": [
          -0.10189831256866455
         ],
         "z": [
          "creía"
         ]
        },
        {
         "hovertemplate": "color=indescifrables<br>x=%{x}<br>y=%{y}<br>z=%{z}<br>text=%{text}<extra></extra>",
         "legendgroup": "indescifrables",
         "marker": {
          "color": "#00cc96",
          "symbol": "circle"
         },
         "mode": "markers+text",
         "name": "indescifrables",
         "scene": "scene",
         "showlegend": true,
         "text": [
          "indescifrables"
         ],
         "type": "scatter3d",
         "x": [
          0.0285363607108593
         ],
         "y": [
          -0.011773181147873402
         ],
         "z": [
          "indescifrables"
         ]
        },
        {
         "hovertemplate": "color=interminables<br>x=%{x}<br>y=%{y}<br>z=%{z}<br>text=%{text}<extra></extra>",
         "legendgroup": "interminables",
         "marker": {
          "color": "#ab63fa",
          "symbol": "circle"
         },
         "mode": "markers+text",
         "name": "interminables",
         "scene": "scene",
         "showlegend": true,
         "text": [
          "interminables"
         ],
         "type": "scatter3d",
         "x": [
          0.0038873814046382904
         ],
         "y": [
          0.04617274925112724
         ],
         "z": [
          "interminables"
         ]
        },
        {
         "hovertemplate": "color=formaban<br>x=%{x}<br>y=%{y}<br>z=%{z}<br>text=%{text}<extra></extra>",
         "legendgroup": "formaban",
         "marker": {
          "color": "#FFA15A",
          "symbol": "circle"
         },
         "mode": "markers+text",
         "name": "formaban",
         "scene": "scene",
         "showlegend": true,
         "text": [
          "formaban"
         ],
         "type": "scatter3d",
         "x": [
          0.03981080651283264
         ],
         "y": [
          0.05292229354381561
         ],
         "z": [
          "formaban"
         ]
        },
        {
         "hovertemplate": "color=ascua<br>x=%{x}<br>y=%{y}<br>z=%{z}<br>text=%{text}<extra></extra>",
         "legendgroup": "ascua",
         "marker": {
          "color": "#19d3f3",
          "symbol": "circle"
         },
         "mode": "markers+text",
         "name": "ascua",
         "scene": "scene",
         "showlegend": true,
         "text": [
          "ascua"
         ],
         "type": "scatter3d",
         "x": [
          -0.0803859755396843
         ],
         "y": [
          -0.07839840650558472
         ],
         "z": [
          "ascua"
         ]
        },
        {
         "hovertemplate": "color=rememorar<br>x=%{x}<br>y=%{y}<br>z=%{z}<br>text=%{text}<extra></extra>",
         "legendgroup": "rememorar",
         "marker": {
          "color": "#FF6692",
          "symbol": "circle"
         },
         "mode": "markers+text",
         "name": "rememorar",
         "scene": "scene",
         "showlegend": true,
         "text": [
          "rememorar"
         ],
         "type": "scatter3d",
         "x": [
          0.013272152282297611
         ],
         "y": [
          0.0006054044351913035
         ],
         "z": [
          "rememorar"
         ]
        },
        {
         "hovertemplate": "color=percibido<br>x=%{x}<br>y=%{y}<br>z=%{z}<br>text=%{text}<extra></extra>",
         "legendgroup": "percibido",
         "marker": {
          "color": "#B6E880",
          "symbol": "circle"
         },
         "mode": "markers+text",
         "name": "percibido",
         "scene": "scene",
         "showlegend": true,
         "text": [
          "percibido"
         ],
         "type": "scatter3d",
         "x": [
          -0.06585776805877686
         ],
         "y": [
          -0.01897428184747696
         ],
         "z": [
          "percibido"
         ]
        },
        {
         "hovertemplate": "color=fumando<br>x=%{x}<br>y=%{y}<br>z=%{z}<br>text=%{text}<extra></extra>",
         "legendgroup": "fumando",
         "marker": {
          "color": "#FF97FF",
          "symbol": "circle"
         },
         "mode": "markers+text",
         "name": "fumando",
         "scene": "scene",
         "showlegend": true,
         "text": [
          "fumando"
         ],
         "type": "scatter3d",
         "x": [
          0.020562972873449326
         ],
         "y": [
          0.0427926667034626
         ],
         "z": [
          "fumando"
         ]
        },
        {
         "hovertemplate": "color=pasara<br>x=%{x}<br>y=%{y}<br>z=%{z}<br>text=%{text}<extra></extra>",
         "legendgroup": "pasara",
         "marker": {
          "color": "#FECB52",
          "symbol": "circle"
         },
         "mode": "markers+text",
         "name": "pasara",
         "scene": "scene",
         "showlegend": true,
         "text": [
          "pasara"
         ],
         "type": "scatter3d",
         "x": [
          0.014943649992346764
         ],
         "y": [
          -0.00746147520840168
         ],
         "z": [
          "pasara"
         ]
        },
        {
         "hovertemplate": "color=cambio<br>x=%{x}<br>y=%{y}<br>z=%{z}<br>text=%{text}<extra></extra>",
         "legendgroup": "cambio",
         "marker": {
          "color": "#636efa",
          "symbol": "circle"
         },
         "mode": "markers+text",
         "name": "cambio",
         "scene": "scene",
         "showlegend": true,
         "text": [
          "cambio"
         ],
         "type": "scatter3d",
         "x": [
          0.11230047792196274
         ],
         "y": [
          -0.019363073632121086
         ],
         "z": [
          "cambio"
         ]
        },
        {
         "hovertemplate": "color=menor<br>x=%{x}<br>y=%{y}<br>z=%{z}<br>text=%{text}<extra></extra>",
         "legendgroup": "menor",
         "marker": {
          "color": "#EF553B",
          "symbol": "circle"
         },
         "mode": "markers+text",
         "name": "menor",
         "scene": "scene",
         "showlegend": true,
         "text": [
          "menor"
         ],
         "type": "scatter3d",
         "x": [
          0.054705675691366196
         ],
         "y": [
          -0.1743527501821518
         ],
         "z": [
          "menor"
         ]
        },
        {
         "hovertemplate": "color=audíturn<br>x=%{x}<br>y=%{y}<br>z=%{z}<br>text=%{text}<extra></extra>",
         "legendgroup": "audíturn",
         "marker": {
          "color": "#00cc96",
          "symbol": "circle"
         },
         "mode": "markers+text",
         "name": "audíturn",
         "scene": "scene",
         "showlegend": true,
         "text": [
          "audíturn"
         ],
         "type": "scatter3d",
         "x": [
          0.02216145768761635
         ],
         "y": [
          0.06878376007080078
         ],
         "z": [
          "audíturn"
         ]
        },
        {
         "hovertemplate": "color=redderetur<br>x=%{x}<br>y=%{y}<br>z=%{z}<br>text=%{text}<extra></extra>",
         "legendgroup": "redderetur",
         "marker": {
          "color": "#ab63fa",
          "symbol": "circle"
         },
         "mode": "markers+text",
         "name": "redderetur",
         "scene": "scene",
         "showlegend": true,
         "text": [
          "redderetur"
         ],
         "type": "scatter3d",
         "x": [
          -0.019383052363991737
         ],
         "y": [
          -0.004998314660042524
         ],
         "z": [
          "redderetur"
         ]
        },
        {
         "hovertemplate": "color=verbis<br>x=%{x}<br>y=%{y}<br>z=%{z}<br>text=%{text}<extra></extra>",
         "legendgroup": "verbis",
         "marker": {
          "color": "#FFA15A",
          "symbol": "circle"
         },
         "mode": "markers+text",
         "name": "verbis",
         "scene": "scene",
         "showlegend": true,
         "text": [
          "verbis"
         ],
         "type": "scatter3d",
         "x": [
          0.014736824668943882
         ],
         "y": [
          -0.0398026779294014
         ],
         "z": [
          "verbis"
         ]
        },
        {
         "hovertemplate": "color=iisdern<br>x=%{x}<br>y=%{y}<br>z=%{z}<br>text=%{text}<extra></extra>",
         "legendgroup": "iisdern",
         "marker": {
          "color": "#19d3f3",
          "symbol": "circle"
         },
         "mode": "markers+text",
         "name": "iisdern",
         "scene": "scene",
         "showlegend": true,
         "text": [
          "iisdern"
         ],
         "type": "scatter3d",
         "x": [
          0.025407737120985985
         ],
         "y": [
          0.08175265043973923
         ],
         "z": [
          "iisdern"
         ]
        },
        {
         "hovertemplate": "color=non<br>x=%{x}<br>y=%{y}<br>z=%{z}<br>text=%{text}<extra></extra>",
         "legendgroup": "non",
         "marker": {
          "color": "#FF6692",
          "symbol": "circle"
         },
         "mode": "markers+text",
         "name": "non",
         "scene": "scene",
         "showlegend": true,
         "text": [
          "non"
         ],
         "type": "scatter3d",
         "x": [
          -0.04320324957370758
         ],
         "y": [
          0.0008315805462189019
         ],
         "z": [
          "non"
         ]
        },
        {
         "hovertemplate": "color=nihil<br>x=%{x}<br>y=%{y}<br>z=%{z}<br>text=%{text}<extra></extra>",
         "legendgroup": "nihil",
         "marker": {
          "color": "#B6E880",
          "symbol": "circle"
         },
         "mode": "markers+text",
         "name": "nihil",
         "scene": "scene",
         "showlegend": true,
         "text": [
          "nihil"
         ],
         "type": "scatter3d",
         "x": [
          -0.03656407818198204
         ],
         "y": [
          -0.031430404633283615
         ],
         "z": [
          "nihil"
         ]
        },
        {
         "hovertemplate": "color=ut<br>x=%{x}<br>y=%{y}<br>z=%{z}<br>text=%{text}<extra></extra>",
         "legendgroup": "ut",
         "marker": {
          "color": "#FF97FF",
          "symbol": "circle"
         },
         "mode": "markers+text",
         "name": "ut",
         "scene": "scene",
         "showlegend": true,
         "text": [
          "ut"
         ],
         "type": "scatter3d",
         "x": [
          -0.021084124222397804
         ],
         "y": [
          -0.06602055579423904
         ],
         "z": [
          "ut"
         ]
        },
        {
         "hovertemplate": "color=fueron<br>x=%{x}<br>y=%{y}<br>z=%{z}<br>text=%{text}<extra></extra>",
         "legendgroup": "fueron",
         "marker": {
          "color": "#FECB52",
          "symbol": "circle"
         },
         "mode": "markers+text",
         "name": "fueron",
         "scene": "scene",
         "showlegend": true,
         "text": [
          "fueron"
         ],
         "type": "scatter3d",
         "x": [
          -0.060864392668008804
         ],
         "y": [
          0.018242528662085533
         ],
         "z": [
          "fueron"
         ]
        },
        {
         "hovertemplate": "color=imaginado<br>x=%{x}<br>y=%{y}<br>z=%{z}<br>text=%{text}<extra></extra>",
         "legendgroup": "imaginado",
         "marker": {
          "color": "#636efa",
          "symbol": "circle"
         },
         "mode": "markers+text",
         "name": "imaginado",
         "scene": "scene",
         "showlegend": true,
         "text": [
          "imaginado"
         ],
         "type": "scatter3d",
         "x": [
          -0.004275059327483177
         ],
         "y": [
          0.06505440175533295
         ],
         "z": [
          "imaginado"
         ]
        },
        {
         "hovertemplate": "color=resolvió<br>x=%{x}<br>y=%{y}<br>z=%{z}<br>text=%{text}<extra></extra>",
         "legendgroup": "resolvió",
         "marker": {
          "color": "#EF553B",
          "symbol": "circle"
         },
         "mode": "markers+text",
         "name": "resolvió",
         "scene": "scene",
         "showlegend": true,
         "text": [
          "resolvió"
         ],
         "type": "scatter3d",
         "x": [
          0.05254145339131355
         ],
         "y": [
          0.038568124175071716
         ],
         "z": [
          "resolvió"
         ]
        },
        {
         "hovertemplate": "color=materia<br>x=%{x}<br>y=%{y}<br>z=%{z}<br>text=%{text}<extra></extra>",
         "legendgroup": "materia",
         "marker": {
          "color": "#00cc96",
          "symbol": "circle"
         },
         "mode": "markers+text",
         "name": "materia",
         "scene": "scene",
         "showlegend": true,
         "text": [
          "materia"
         ],
         "type": "scatter3d",
         "x": [
          -0.023762697353959084
         ],
         "y": [
          -0.009734215214848518
         ],
         "z": [
          "materia"
         ]
        },
        {
         "hovertemplate": "color=vii<br>x=%{x}<br>y=%{y}<br>z=%{z}<br>text=%{text}<extra></extra>",
         "legendgroup": "vii",
         "marker": {
          "color": "#ab63fa",
          "symbol": "circle"
         },
         "mode": "markers+text",
         "name": "vii",
         "scene": "scene",
         "showlegend": true,
         "text": [
          "vii"
         ],
         "type": "scatter3d",
         "x": [
          -0.06786022335290909
         ],
         "y": [
          -0.11336886137723923
         ],
         "z": [
          "vii"
         ]
        },
        {
         "hovertemplate": "color=reducir<br>x=%{x}<br>y=%{y}<br>z=%{z}<br>text=%{text}<extra></extra>",
         "legendgroup": "reducir",
         "marker": {
          "color": "#FFA15A",
          "symbol": "circle"
         },
         "mode": "markers+text",
         "name": "reducir",
         "scene": "scene",
         "showlegend": true,
         "text": [
          "reducir"
         ],
         "type": "scatter3d",
         "x": [
          0.03448110446333885
         ],
         "y": [
          0.012407463975250721
         ],
         "z": [
          "reducir"
         ]
        },
        {
         "hovertemplate": "color=xxiv<br>x=%{x}<br>y=%{y}<br>z=%{z}<br>text=%{text}<extra></extra>",
         "legendgroup": "xxiv",
         "marker": {
          "color": "#19d3f3",
          "symbol": "circle"
         },
         "mode": "markers+text",
         "name": "xxiv",
         "scene": "scene",
         "showlegend": true,
         "text": [
          "xxiv"
         ],
         "type": "scatter3d",
         "x": [
          -0.02699805423617363
         ],
         "y": [
          -0.12559427320957184
         ],
         "z": [
          "xxiv"
         ]
        },
        {
         "hovertemplate": "color=jornadas<br>x=%{x}<br>y=%{y}<br>z=%{z}<br>text=%{text}<extra></extra>",
         "legendgroup": "jornadas",
         "marker": {
          "color": "#FF6692",
          "symbol": "circle"
         },
         "mode": "markers+text",
         "name": "jornadas",
         "scene": "scene",
         "showlegend": true,
         "text": [
          "jornadas"
         ],
         "type": "scatter3d",
         "x": [
          -0.02266274392604828
         ],
         "y": [
          -0.010358198545873165
         ],
         "z": [
          "jornadas"
         ]
        },
        {
         "hovertemplate": "color=párrafo<br>x=%{x}<br>y=%{y}<br>z=%{z}<br>text=%{text}<extra></extra>",
         "legendgroup": "párrafo",
         "marker": {
          "color": "#B6E880",
          "symbol": "circle"
         },
         "mode": "markers+text",
         "name": "párrafo",
         "scene": "scene",
         "showlegend": true,
         "text": [
          "párrafo"
         ],
         "type": "scatter3d",
         "x": [
          -0.008305962197482586
         ],
         "y": [
          -0.03235235437750816
         ],
         "z": [
          "párrafo"
         ]
        },
        {
         "hovertemplate": "color=html<br>x=%{x}<br>y=%{y}<br>z=%{z}<br>text=%{text}<extra></extra>",
         "legendgroup": "html",
         "marker": {
          "color": "#FF97FF",
          "symbol": "circle"
         },
         "mode": "markers+text",
         "name": "html",
         "scene": "scene",
         "showlegend": true,
         "text": [
          "html"
         ],
         "type": "scatter3d",
         "x": [
          0.08903423696756363
         ],
         "y": [
          -0.010011063888669014
         ],
         "z": [
          "html"
         ]
        }
       ],
       "layout": {
        "legend": {
         "title": {
          "text": "color"
         },
         "tracegroupgap": 0
        },
        "margin": {
         "t": 60
        },
        "scene": {
         "domain": {
          "x": [
           0,
           1
          ],
          "y": [
           0,
           1
          ]
         },
         "xaxis": {
          "title": {
           "text": "x"
          }
         },
         "yaxis": {
          "title": {
           "text": "y"
          }
         },
         "zaxis": {
          "title": {
           "text": "z"
          }
         }
        },
        "template": {
         "data": {
          "bar": [
           {
            "error_x": {
             "color": "#2a3f5f"
            },
            "error_y": {
             "color": "#2a3f5f"
            },
            "marker": {
             "line": {
              "color": "#E5ECF6",
              "width": 0.5
             },
             "pattern": {
              "fillmode": "overlay",
              "size": 10,
              "solidity": 0.2
             }
            },
            "type": "bar"
           }
          ],
          "barpolar": [
           {
            "marker": {
             "line": {
              "color": "#E5ECF6",
              "width": 0.5
             },
             "pattern": {
              "fillmode": "overlay",
              "size": 10,
              "solidity": 0.2
             }
            },
            "type": "barpolar"
           }
          ],
          "carpet": [
           {
            "aaxis": {
             "endlinecolor": "#2a3f5f",
             "gridcolor": "white",
             "linecolor": "white",
             "minorgridcolor": "white",
             "startlinecolor": "#2a3f5f"
            },
            "baxis": {
             "endlinecolor": "#2a3f5f",
             "gridcolor": "white",
             "linecolor": "white",
             "minorgridcolor": "white",
             "startlinecolor": "#2a3f5f"
            },
            "type": "carpet"
           }
          ],
          "choropleth": [
           {
            "colorbar": {
             "outlinewidth": 0,
             "ticks": ""
            },
            "type": "choropleth"
           }
          ],
          "contour": [
           {
            "colorbar": {
             "outlinewidth": 0,
             "ticks": ""
            },
            "colorscale": [
             [
              0,
              "#0d0887"
             ],
             [
              0.1111111111111111,
              "#46039f"
             ],
             [
              0.2222222222222222,
              "#7201a8"
             ],
             [
              0.3333333333333333,
              "#9c179e"
             ],
             [
              0.4444444444444444,
              "#bd3786"
             ],
             [
              0.5555555555555556,
              "#d8576b"
             ],
             [
              0.6666666666666666,
              "#ed7953"
             ],
             [
              0.7777777777777778,
              "#fb9f3a"
             ],
             [
              0.8888888888888888,
              "#fdca26"
             ],
             [
              1,
              "#f0f921"
             ]
            ],
            "type": "contour"
           }
          ],
          "contourcarpet": [
           {
            "colorbar": {
             "outlinewidth": 0,
             "ticks": ""
            },
            "type": "contourcarpet"
           }
          ],
          "heatmap": [
           {
            "colorbar": {
             "outlinewidth": 0,
             "ticks": ""
            },
            "colorscale": [
             [
              0,
              "#0d0887"
             ],
             [
              0.1111111111111111,
              "#46039f"
             ],
             [
              0.2222222222222222,
              "#7201a8"
             ],
             [
              0.3333333333333333,
              "#9c179e"
             ],
             [
              0.4444444444444444,
              "#bd3786"
             ],
             [
              0.5555555555555556,
              "#d8576b"
             ],
             [
              0.6666666666666666,
              "#ed7953"
             ],
             [
              0.7777777777777778,
              "#fb9f3a"
             ],
             [
              0.8888888888888888,
              "#fdca26"
             ],
             [
              1,
              "#f0f921"
             ]
            ],
            "type": "heatmap"
           }
          ],
          "heatmapgl": [
           {
            "colorbar": {
             "outlinewidth": 0,
             "ticks": ""
            },
            "colorscale": [
             [
              0,
              "#0d0887"
             ],
             [
              0.1111111111111111,
              "#46039f"
             ],
             [
              0.2222222222222222,
              "#7201a8"
             ],
             [
              0.3333333333333333,
              "#9c179e"
             ],
             [
              0.4444444444444444,
              "#bd3786"
             ],
             [
              0.5555555555555556,
              "#d8576b"
             ],
             [
              0.6666666666666666,
              "#ed7953"
             ],
             [
              0.7777777777777778,
              "#fb9f3a"
             ],
             [
              0.8888888888888888,
              "#fdca26"
             ],
             [
              1,
              "#f0f921"
             ]
            ],
            "type": "heatmapgl"
           }
          ],
          "histogram": [
           {
            "marker": {
             "pattern": {
              "fillmode": "overlay",
              "size": 10,
              "solidity": 0.2
             }
            },
            "type": "histogram"
           }
          ],
          "histogram2d": [
           {
            "colorbar": {
             "outlinewidth": 0,
             "ticks": ""
            },
            "colorscale": [
             [
              0,
              "#0d0887"
             ],
             [
              0.1111111111111111,
              "#46039f"
             ],
             [
              0.2222222222222222,
              "#7201a8"
             ],
             [
              0.3333333333333333,
              "#9c179e"
             ],
             [
              0.4444444444444444,
              "#bd3786"
             ],
             [
              0.5555555555555556,
              "#d8576b"
             ],
             [
              0.6666666666666666,
              "#ed7953"
             ],
             [
              0.7777777777777778,
              "#fb9f3a"
             ],
             [
              0.8888888888888888,
              "#fdca26"
             ],
             [
              1,
              "#f0f921"
             ]
            ],
            "type": "histogram2d"
           }
          ],
          "histogram2dcontour": [
           {
            "colorbar": {
             "outlinewidth": 0,
             "ticks": ""
            },
            "colorscale": [
             [
              0,
              "#0d0887"
             ],
             [
              0.1111111111111111,
              "#46039f"
             ],
             [
              0.2222222222222222,
              "#7201a8"
             ],
             [
              0.3333333333333333,
              "#9c179e"
             ],
             [
              0.4444444444444444,
              "#bd3786"
             ],
             [
              0.5555555555555556,
              "#d8576b"
             ],
             [
              0.6666666666666666,
              "#ed7953"
             ],
             [
              0.7777777777777778,
              "#fb9f3a"
             ],
             [
              0.8888888888888888,
              "#fdca26"
             ],
             [
              1,
              "#f0f921"
             ]
            ],
            "type": "histogram2dcontour"
           }
          ],
          "mesh3d": [
           {
            "colorbar": {
             "outlinewidth": 0,
             "ticks": ""
            },
            "type": "mesh3d"
           }
          ],
          "parcoords": [
           {
            "line": {
             "colorbar": {
              "outlinewidth": 0,
              "ticks": ""
             }
            },
            "type": "parcoords"
           }
          ],
          "pie": [
           {
            "automargin": true,
            "type": "pie"
           }
          ],
          "scatter": [
           {
            "fillpattern": {
             "fillmode": "overlay",
             "size": 10,
             "solidity": 0.2
            },
            "type": "scatter"
           }
          ],
          "scatter3d": [
           {
            "line": {
             "colorbar": {
              "outlinewidth": 0,
              "ticks": ""
             }
            },
            "marker": {
             "colorbar": {
              "outlinewidth": 0,
              "ticks": ""
             }
            },
            "type": "scatter3d"
           }
          ],
          "scattercarpet": [
           {
            "marker": {
             "colorbar": {
              "outlinewidth": 0,
              "ticks": ""
             }
            },
            "type": "scattercarpet"
           }
          ],
          "scattergeo": [
           {
            "marker": {
             "colorbar": {
              "outlinewidth": 0,
              "ticks": ""
             }
            },
            "type": "scattergeo"
           }
          ],
          "scattergl": [
           {
            "marker": {
             "colorbar": {
              "outlinewidth": 0,
              "ticks": ""
             }
            },
            "type": "scattergl"
           }
          ],
          "scattermapbox": [
           {
            "marker": {
             "colorbar": {
              "outlinewidth": 0,
              "ticks": ""
             }
            },
            "type": "scattermapbox"
           }
          ],
          "scatterpolar": [
           {
            "marker": {
             "colorbar": {
              "outlinewidth": 0,
              "ticks": ""
             }
            },
            "type": "scatterpolar"
           }
          ],
          "scatterpolargl": [
           {
            "marker": {
             "colorbar": {
              "outlinewidth": 0,
              "ticks": ""
             }
            },
            "type": "scatterpolargl"
           }
          ],
          "scatterternary": [
           {
            "marker": {
             "colorbar": {
              "outlinewidth": 0,
              "ticks": ""
             }
            },
            "type": "scatterternary"
           }
          ],
          "surface": [
           {
            "colorbar": {
             "outlinewidth": 0,
             "ticks": ""
            },
            "colorscale": [
             [
              0,
              "#0d0887"
             ],
             [
              0.1111111111111111,
              "#46039f"
             ],
             [
              0.2222222222222222,
              "#7201a8"
             ],
             [
              0.3333333333333333,
              "#9c179e"
             ],
             [
              0.4444444444444444,
              "#bd3786"
             ],
             [
              0.5555555555555556,
              "#d8576b"
             ],
             [
              0.6666666666666666,
              "#ed7953"
             ],
             [
              0.7777777777777778,
              "#fb9f3a"
             ],
             [
              0.8888888888888888,
              "#fdca26"
             ],
             [
              1,
              "#f0f921"
             ]
            ],
            "type": "surface"
           }
          ],
          "table": [
           {
            "cells": {
             "fill": {
              "color": "#EBF0F8"
             },
             "line": {
              "color": "white"
             }
            },
            "header": {
             "fill": {
              "color": "#C8D4E3"
             },
             "line": {
              "color": "white"
             }
            },
            "type": "table"
           }
          ]
         },
         "layout": {
          "annotationdefaults": {
           "arrowcolor": "#2a3f5f",
           "arrowhead": 0,
           "arrowwidth": 1
          },
          "autotypenumbers": "strict",
          "coloraxis": {
           "colorbar": {
            "outlinewidth": 0,
            "ticks": ""
           }
          },
          "colorscale": {
           "diverging": [
            [
             0,
             "#8e0152"
            ],
            [
             0.1,
             "#c51b7d"
            ],
            [
             0.2,
             "#de77ae"
            ],
            [
             0.3,
             "#f1b6da"
            ],
            [
             0.4,
             "#fde0ef"
            ],
            [
             0.5,
             "#f7f7f7"
            ],
            [
             0.6,
             "#e6f5d0"
            ],
            [
             0.7,
             "#b8e186"
            ],
            [
             0.8,
             "#7fbc41"
            ],
            [
             0.9,
             "#4d9221"
            ],
            [
             1,
             "#276419"
            ]
           ],
           "sequential": [
            [
             0,
             "#0d0887"
            ],
            [
             0.1111111111111111,
             "#46039f"
            ],
            [
             0.2222222222222222,
             "#7201a8"
            ],
            [
             0.3333333333333333,
             "#9c179e"
            ],
            [
             0.4444444444444444,
             "#bd3786"
            ],
            [
             0.5555555555555556,
             "#d8576b"
            ],
            [
             0.6666666666666666,
             "#ed7953"
            ],
            [
             0.7777777777777778,
             "#fb9f3a"
            ],
            [
             0.8888888888888888,
             "#fdca26"
            ],
            [
             1,
             "#f0f921"
            ]
           ],
           "sequentialminus": [
            [
             0,
             "#0d0887"
            ],
            [
             0.1111111111111111,
             "#46039f"
            ],
            [
             0.2222222222222222,
             "#7201a8"
            ],
            [
             0.3333333333333333,
             "#9c179e"
            ],
            [
             0.4444444444444444,
             "#bd3786"
            ],
            [
             0.5555555555555556,
             "#d8576b"
            ],
            [
             0.6666666666666666,
             "#ed7953"
            ],
            [
             0.7777777777777778,
             "#fb9f3a"
            ],
            [
             0.8888888888888888,
             "#fdca26"
            ],
            [
             1,
             "#f0f921"
            ]
           ]
          },
          "colorway": [
           "#636efa",
           "#EF553B",
           "#00cc96",
           "#ab63fa",
           "#FFA15A",
           "#19d3f3",
           "#FF6692",
           "#B6E880",
           "#FF97FF",
           "#FECB52"
          ],
          "font": {
           "color": "#2a3f5f"
          },
          "geo": {
           "bgcolor": "white",
           "lakecolor": "white",
           "landcolor": "#E5ECF6",
           "showlakes": true,
           "showland": true,
           "subunitcolor": "white"
          },
          "hoverlabel": {
           "align": "left"
          },
          "hovermode": "closest",
          "mapbox": {
           "style": "light"
          },
          "paper_bgcolor": "white",
          "plot_bgcolor": "#E5ECF6",
          "polar": {
           "angularaxis": {
            "gridcolor": "white",
            "linecolor": "white",
            "ticks": ""
           },
           "bgcolor": "#E5ECF6",
           "radialaxis": {
            "gridcolor": "white",
            "linecolor": "white",
            "ticks": ""
           }
          },
          "scene": {
           "xaxis": {
            "backgroundcolor": "#E5ECF6",
            "gridcolor": "white",
            "gridwidth": 2,
            "linecolor": "white",
            "showbackground": true,
            "ticks": "",
            "zerolinecolor": "white"
           },
           "yaxis": {
            "backgroundcolor": "#E5ECF6",
            "gridcolor": "white",
            "gridwidth": 2,
            "linecolor": "white",
            "showbackground": true,
            "ticks": "",
            "zerolinecolor": "white"
           },
           "zaxis": {
            "backgroundcolor": "#E5ECF6",
            "gridcolor": "white",
            "gridwidth": 2,
            "linecolor": "white",
            "showbackground": true,
            "ticks": "",
            "zerolinecolor": "white"
           }
          },
          "shapedefaults": {
           "line": {
            "color": "#2a3f5f"
           }
          },
          "ternary": {
           "aaxis": {
            "gridcolor": "white",
            "linecolor": "white",
            "ticks": ""
           },
           "baxis": {
            "gridcolor": "white",
            "linecolor": "white",
            "ticks": ""
           },
           "bgcolor": "#E5ECF6",
           "caxis": {
            "gridcolor": "white",
            "linecolor": "white",
            "ticks": ""
           }
          },
          "title": {
           "x": 0.05
          },
          "xaxis": {
           "automargin": true,
           "gridcolor": "white",
           "linecolor": "white",
           "ticks": "",
           "title": {
            "standoff": 15
           },
           "zerolinecolor": "white",
           "zerolinewidth": 2
          },
          "yaxis": {
           "automargin": true,
           "gridcolor": "white",
           "linecolor": "white",
           "ticks": "",
           "title": {
            "standoff": 15
           },
           "zerolinecolor": "white",
           "zerolinewidth": 2
          }
         }
        }
       }
      }
     },
     "metadata": {},
     "output_type": "display_data"
    }
   ],
   "source": [
    "import plotly.express as px\n",
    "\n",
    "df=pd.DataFrame([X_reduced[:,0],X_reduced[:,1],words]).transpose()\n",
    "df.columns = ['X','Y','WORD']\n",
    "df=df.set_index(\"WORD\")\n",
    "\n",
    "px.scatter_3d(\n",
    "    x=df.X,y=df.Y,z=df.index,color=df.index,text=df.index\n",
    ")"
   ]
  },
  {
   "cell_type": "markdown",
   "metadata": {},
   "source": [
    "### Mediante una frase proporcionada, encontrar el parafo que mejor se ajuste\n",
    "\n",
    "* Sacar los embeddings para cada frase \n",
    "* Sacar el embedding para la frase introducida por el usuario\n",
    "* Hacer el coseno del embedding del usuario con todos los embeddings que tenemos, comparar los valores y el que menor valor tenga es el que mas se ajusta"
   ]
  },
  {
   "cell_type": "code",
   "execution_count": 64,
   "metadata": {},
   "outputs": [],
   "source": [
    "user_sentence = \"Diego es tonto\"\n",
    "\n",
    "# Tequenizacion de la frase del usuario\n",
    "user_tokenized = word_tokenize(user_sentence.lower())\n",
    "\n",
    "# Entrenamos el modelo, se le pasa ula lista de sentencias, frases, transformados en tokens\n",
    "user_model = Word2Vec([user_tokenized],vector_size=10,window=5,min_count=1,sg=0)\n",
    "\n",
    "user_embedding = sum(user_model.wv[w] for w in user_tokenized) / len(user_tokenized)"
   ]
  },
  {
   "cell_type": "code",
   "execution_count": 70,
   "metadata": {},
   "outputs": [
    {
     "name": "stdout",
     "output_type": "stream",
     "text": [
      "El embedding con el menor coseno es el 7 con un valor de 0.23428267240524292\n",
      "Recuerdo la impresión de incómoda magia que la noticia me produjo  la única vez que yo lo vi  veníamos a caballo de San Francisco y él andaba en un lugar alto  el hecho  en boca de mi primo Bernardo  tenía mucho de sueño elaborado con elementos anteriores \n"
     ]
    }
   ],
   "source": [
    "# Calculamos el coseno para cada embedding con la frase del usuario, nos quedaremos con el menor de los valores\n",
    "from scipy.spatial import distance\n",
    "\n",
    "# Da la distancia del coseno para calcular con los dos arrays de los tokens \n",
    "# Se cogen dos valores de los embeddings para calcular la relacion que hay entre ellos\n",
    "min_coss = 10\n",
    "indice = 0\n",
    "for index, embedding in enumerate(list_embeddings):\n",
    "    cosine_dist = distance.cosine(embedding,user_embedding)\n",
    "    if cosine_dist < min_coss:\n",
    "        min_coss = cosine_dist\n",
    "        indice = index\n",
    "\n",
    "print(\"El embedding con el menor coseno es el\",indice,\"con un valor de\",min_coss)\n",
    "print(sentences[indice])"
   ]
  }
 ],
 "metadata": {
  "kernelspec": {
   "display_name": "tracking",
   "language": "python",
   "name": "python3"
  },
  "language_info": {
   "codemirror_mode": {
    "name": "ipython",
    "version": 3
   },
   "file_extension": ".py",
   "mimetype": "text/x-python",
   "name": "python",
   "nbconvert_exporter": "python",
   "pygments_lexer": "ipython3",
   "version": "3.8.18"
  }
 },
 "nbformat": 4,
 "nbformat_minor": 2
}
