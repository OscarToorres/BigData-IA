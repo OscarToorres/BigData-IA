{
 "cells": [
  {
   "cell_type": "code",
   "execution_count": 1,
   "metadata": {},
   "outputs": [],
   "source": [
    "from gensim.models import Word2Vec\n",
    "import numpy as np\n",
    "from nltk.tokenize import word_tokenize\n",
    "import nltk"
   ]
  },
  {
   "cell_type": "markdown",
   "metadata": {},
   "source": [
    "### Cogemos un modelo que valga para tokenizar, en este caso utilizaremos \"punkt\""
   ]
  },
  {
   "cell_type": "code",
   "execution_count": 2,
   "metadata": {},
   "outputs": [
    {
     "name": "stderr",
     "output_type": "stream",
     "text": [
      "[nltk_data] Downloading package punkt to\n",
      "[nltk_data]     C:\\Users\\oscar.torresrodrigue\\AppData\\Roaming\\nltk_dat\n",
      "[nltk_data]     a...\n",
      "[nltk_data]   Package punkt is already up-to-date!\n"
     ]
    },
    {
     "data": {
      "text/plain": [
       "True"
      ]
     },
     "execution_count": 2,
     "metadata": {},
     "output_type": "execute_result"
    }
   ],
   "source": [
    "nltk.download(\"punkt\")"
   ]
  },
  {
   "cell_type": "markdown",
   "metadata": {},
   "source": [
    "El embedding consiste en que para una palabra se va a generar un array de caracteristicas."
   ]
  },
  {
   "cell_type": "code",
   "execution_count": 3,
   "metadata": {},
   "outputs": [],
   "source": [
    "text1 = \"The Titanic sailed with hope and illusion to cross the Atlantic.\"\n",
    "text2 = \"The sinking of the Titanic was one of the greatest maritime tragedies.\"\n",
    "\n",
    "#Tequenizacion de las frases\n",
    "token1 = word_tokenize(text1.lower())\n",
    "token2 = word_tokenize(text2.lower())\n",
    "\n",
    "# Entrenamos el modelo, se le pasa ula lista de sentencias, frases, transformados en tokens\n",
    "model = Word2Vec([token1,token2],vector_size=10,window=5,min_count=1,sg=0)"
   ]
  },
  {
   "cell_type": "code",
   "execution_count": 4,
   "metadata": {},
   "outputs": [
    {
     "data": {
      "text/plain": [
       "array([ 0.07380505, -0.01533471, -0.04536613,  0.06554051, -0.0486016 ,\n",
       "       -0.01816018,  0.0287658 ,  0.00991874, -0.08285215, -0.09448818],\n",
       "      dtype=float32)"
      ]
     },
     "execution_count": 4,
     "metadata": {},
     "output_type": "execute_result"
    }
   ],
   "source": [
    "model.wv[\"titanic\"]"
   ]
  },
  {
   "cell_type": "code",
   "execution_count": 5,
   "metadata": {},
   "outputs": [
    {
     "data": {
      "text/plain": [
       "{'the': 0,\n",
       " 'titanic': 1,\n",
       " 'of': 2,\n",
       " '.': 3,\n",
       " 'to': 4,\n",
       " 'sailed': 5,\n",
       " 'with': 6,\n",
       " 'hope': 7,\n",
       " 'and': 8,\n",
       " 'illusion': 9,\n",
       " 'tragedies': 10,\n",
       " 'maritime': 11,\n",
       " 'atlantic': 12,\n",
       " 'sinking': 13,\n",
       " 'was': 14,\n",
       " 'one': 15,\n",
       " 'greatest': 16,\n",
       " 'cross': 17}"
      ]
     },
     "execution_count": 5,
     "metadata": {},
     "output_type": "execute_result"
    }
   ],
   "source": [
    "model.wv.key_to_index"
   ]
  },
  {
   "cell_type": "code",
   "execution_count": 6,
   "metadata": {},
   "outputs": [
    {
     "data": {
      "text/plain": [
       "[('one', 0.7191647887229919),\n",
       " ('was', 0.5374302268028259),\n",
       " ('titanic', 0.3582616448402405)]"
      ]
     },
     "execution_count": 6,
     "metadata": {},
     "output_type": "execute_result"
    }
   ],
   "source": [
    "# Palabras similares a... muestrame las 3 mas aprecidas\n",
    "model.wv.most_similar(\"maritime\",topn=3)"
   ]
  },
  {
   "cell_type": "code",
   "execution_count": 7,
   "metadata": {},
   "outputs": [
    {
     "data": {
      "text/plain": [
       "[('titanic', 0.5306490063667297),\n",
       " ('tragedies', 0.3752540647983551),\n",
       " ('one', 0.3642173409461975)]"
      ]
     },
     "execution_count": 7,
     "metadata": {},
     "output_type": "execute_result"
    }
   ],
   "source": [
    "# Palabras similares a... y que no tengan que ver con ...\n",
    "model.wv.most_similar(positive=[\"the\",\"maritime\"],negative=[\"and\"],topn=3)"
   ]
  },
  {
   "cell_type": "code",
   "execution_count": 8,
   "metadata": {},
   "outputs": [
    {
     "data": {
      "text/plain": [
       "0.7727770805358887"
      ]
     },
     "execution_count": 8,
     "metadata": {},
     "output_type": "execute_result"
    }
   ],
   "source": [
    "# Nos da la distancia entre las dos palabras indicadas\n",
    "model.wv.distance(\"the\",\"maritime\")"
   ]
  },
  {
   "cell_type": "code",
   "execution_count": 9,
   "metadata": {},
   "outputs": [
    {
     "name": "stdout",
     "output_type": "stream",
     "text": [
      "0.5285577476024628\n"
     ]
    }
   ],
   "source": [
    "embedding1 = sum(model.wv[w] for w in token1) / len(token1)\n",
    "embedding2 = sum(model.wv[w] for w in token2) / len(token2)\n",
    "\n",
    "from scipy.spatial import distance\n",
    "cosine_dist = distance.cosine(embedding1,embedding2)\n",
    "print(cosine_dist)\n"
   ]
  },
  {
   "cell_type": "markdown",
   "metadata": {},
   "source": [
    "# Ejercicio"
   ]
  },
  {
   "cell_type": "code",
   "execution_count": 10,
   "metadata": {},
   "outputs": [],
   "source": [
    "texto1 = \"\"\"Lo recuerdo (yo no tengo derecho a pronunciar ese verbo sagrado, sólo un hombre en la tierra \n",
    "tuvo derecho y ese hombre ha muerto) con una oscura pasionaria en la mano, viéndola como nadie la ha visto, \n",
    "aunque la mirara desde el crepúsculo del día hasta el de la noche, toda una vida entera. Lo recuerdo, la cara \n",
    "taciturna y aindiada y singularmente remota, detrás del cigarrillo. Recuerdo (creo) sus manos afiladas de trenzado. \n",
    "Recuerdo cerca de esas manos un mate, con las armas de la Banda Oriental; recuerdo en la ventana de la casa una \n",
    "estera amarilla, con un vago paisaje lacustre. Recuerdo claramente su voz; la voz pausada, resentida y nasal del \n",
    "orillero antiguo, sin los silbidos italianos de ahora. Más de tres veces no lo vi; la última, en 1887... Me parece \n",
    "muy feliz el proyecto de que todos aquellos que lo trataron escriban sobre él; mi testimonio será acaso el más breve \n",
    "y sin duda el más pobre, pero no el menos imparcial del volumen que editarán ustedes.\"\"\"\n",
    "\n",
    "texto2 = \"\"\" Mi deplorable condición de argentino me impedirá incurrir en el ditirambo -género obligatorio en el Uruguay, \n",
    "cuando el tema es un uruguayo. Literato, cajetilla, porteño; Funes no dijo esas injuriosas palabras, pero de un modo \n",
    "suficiente me consta que yo representaba para él esas desventuras. Pedro Leandro Ipuche ha escrito que Funes era un precursor \n",
    "de los superhombres, \"un Zarathustra cimarrón y vernáculo \"; no lo discuto, pero no hay que olvidar que era también un \n",
    "compadrito de Fray Bentos, con ciertas incurables limitaciones.\"\"\"\n",
    "\n",
    "texto3 = \"\"\"Mi primer recuerdo de Funes es muy perspicuo. Lo veo en un atardecer de marzo o febrero del año 84. Mi padre, \n",
    "ese año, me había llevado a veranear a Fray Bentos. Yo volvía con mi primo Bernardo Haedo de la estancia de San Francisco. \n",
    "Volvíamos cantando, a caballo, y ésa no era la única circunstancia de mi felicidad. Después de un día bochornoso, una enorme \n",
    "tormenta color pizarra había escondido el cielo. La alentaba el viento del Sur, ya se enloquecían los árboles; yo tenía el \n",
    "temor la esperanza) de que nos sorprendiera en un descampado el agua elemental. Corrimos una especie de carrera con la tormenta.\"\"\""
   ]
  },
  {
   "cell_type": "code",
   "execution_count": 11,
   "metadata": {},
   "outputs": [],
   "source": [
    "import re\n",
    "\n",
    "# Limpieza de cada texto\n",
    "texto1 = re.sub(r'[^\\w\\s]', ' ', texto1)\n",
    "texto2 = re.sub(r'[^\\w\\s]', ' ', texto2)\n",
    "texto3 = re.sub(r'[^\\w\\s]', ' ', texto3)\n",
    "\n",
    "#Tequenizacion de las frases\n",
    "token1 = word_tokenize(texto1.lower())\n",
    "token2 = word_tokenize(texto2.lower())\n",
    "token3 = word_tokenize(texto3.lower())\n",
    "\n",
    "# Entrenamos el modelo, se le pasa ula lista de sentencias, frases, transformados en tokens\n",
    "model = Word2Vec([token1,token2,token3],vector_size=10,window=5,min_count=1,sg=0)"
   ]
  },
  {
   "cell_type": "code",
   "execution_count": 12,
   "metadata": {},
   "outputs": [
    {
     "name": "stdout",
     "output_type": "stream",
     "text": [
      "0.25668078660964966\n"
     ]
    }
   ],
   "source": [
    "embedding1 = sum(model.wv[w] for w in token1) / len(token1)\n",
    "embedding2 = sum(model.wv[w] for w in token2) / len(token2)\n",
    "embedding3 = sum(model.wv[w] for w in token3) / len(token3)\n",
    "\n",
    "from scipy.spatial import distance\n",
    "cosine_dist = distance.cosine(embedding1,embedding2)\n",
    "print(cosine_dist)"
   ]
  },
  {
   "cell_type": "code",
   "execution_count": 13,
   "metadata": {},
   "outputs": [
    {
     "name": "stdout",
     "output_type": "stream",
     "text": [
      "Palabra mas parecida a \"cigarrillo\": [('remota', 0.7052414417266846), ('sus', 0.6605857014656067), ('compadrito', 0.6309230327606201)]\n",
      "[('banda', 0.7925114631652832), ('estera', 0.7708041071891785), ('parece', 0.7571136951446533)]\n",
      "0.4320305585861206\n"
     ]
    }
   ],
   "source": [
    "print('Palabra mas parecida a \"cigarrillo\":',model.wv.most_similar(\"cigarrillo\",topn=3))\n",
    "print(model.wv.most_similar(positive=[\"mi\",\"felicidad\"],negative=[\"bochornoso\"],topn=3))\n",
    "print(model.wv.distance(\"felicidad\",\"bochornoso\"))"
   ]
  },
  {
   "cell_type": "markdown",
   "metadata": {},
   "source": [
    "### Grafica"
   ]
  },
  {
   "cell_type": "code",
   "execution_count": 14,
   "metadata": {},
   "outputs": [
    {
     "data": {
      "text/plain": [
       "array([[-0.00320682,  0.00180127,  0.05348885, ...,  0.09104067,\n",
       "        -0.05265529, -0.04057723],\n",
       "       [ 0.07528784, -0.01534194, -0.04354919, ...,  0.01137994,\n",
       "        -0.08463925, -0.09624124],\n",
       "       [ 0.07503524,  0.05016708,  0.06976303, ...,  0.05923372,\n",
       "        -0.07735602, -0.04212149],\n",
       "       ...,\n",
       "       [-0.06371602,  0.03094918,  0.00878739, ..., -0.01635744,\n",
       "        -0.09560081, -0.02727511],\n",
       "       [ 0.01454997,  0.06511271,  0.10103463, ..., -0.00919518,\n",
       "         0.00357021,  0.06442598],\n",
       "       [ 0.04573371,  0.04571282,  0.09580258, ..., -0.05178645,\n",
       "        -0.02976025,  0.03962326]])"
      ]
     },
     "execution_count": 14,
     "metadata": {},
     "output_type": "execute_result"
    }
   ],
   "source": [
    "ln = np.zeros((len(model.wv.index_to_key), 10), dtype=float)\n",
    "for i, k in enumerate(model.wv.index_to_key):\n",
    "  v = model.wv[k]\n",
    "  ln[i] = v\n",
    "\n",
    "ln"
   ]
  },
  {
   "cell_type": "markdown",
   "metadata": {},
   "source": [
    "### Un scatter simple"
   ]
  },
  {
   "cell_type": "code",
   "execution_count": 15,
   "metadata": {},
   "outputs": [
    {
     "data": {
      "image/png": "[encoded data removed]",
      "text/plain": [
       "<Figure size 640x480 with 1 Axes>"
      ]
     },
     "metadata": {},
     "output_type": "display_data"
    }
   ],
   "source": [
    "import matplotlib.pyplot as plt\n",
    "\n",
    "x = ln[:,0]\n",
    "y = ln[:,1]\n",
    "\n",
    "plt.scatter(x,y)\n",
    "\n",
    "for i, txt in enumerate(model.wv.key_to_index):\n",
    "    plt.annotate(txt, (x[i], y[i]))\n",
    "\n",
    "plt.show()\n"
   ]
  },
  {
   "cell_type": "markdown",
   "metadata": {},
   "source": [
    "### Ahora utilizaremos plotly\n",
    "\n",
    "https://builtin.com/data-science/python-plotly"
   ]
  },
  {
   "cell_type": "code",
   "execution_count": 16,
   "metadata": {},
   "outputs": [],
   "source": [
    "import pandas as pd\n",
    "from sklearn.decomposition import PCA\n",
    "\n",
    "#  Hacemos un pca para pasar de las 10 columnas que tenemos a 2 para poder representar\n",
    "pca = PCA(n_components=3)\n",
    "pca_transf = pca.fit_transform(ln)\n",
    "\n",
    "# Ahora necesitamos pasar a un Dataframe los datos\n",
    "df = pd.DataFrame(pca_transf) \n"
   ]
  },
  {
   "cell_type": "code",
   "execution_count": 17,
   "metadata": {},
   "outputs": [
    {
     "data": {
      "application/vnd.plotly.v1+json": {
       "config": {
        "plotlyServerURL": "https://plot.ly"
       },
       "data": [
        {
         "hovertemplate": "0=%{x}<br>1=%{y}<br>2=%{marker.color}<extra></extra>",
         "legendgroup": "",
         "marker": {
          "color": [
           0.01941930917663919,
           0.08827906191732098,
           -0.0011693129091442554,
           0.06005139408419095,
           -0.06250216121941268,
           -0.026193549575732174,
           0.015102865995929799,
           0.058428571125574265,
           -0.04840028195738704,
           -0.06491533111912275,
           -0.01590963526567753,
           -0.04170867219128823,
           -0.0390393231394165,
           -0.08281011859187287,
           0.009067217735631865,
           -0.07815097138100585,
           -0.05678688228014586,
           0.03160406447049576,
           0.05290290883303111,
           0.04052886438246805,
           -0.047078905326335053,
           0.010201203053547075,
           0.03435292676355527,
           0.07272772813154346,
           -0.030538885956136533,
           0.16327476173995772,
           -0.06116115096575428,
           -0.06189705855842271,
           0.06545165451030034,
           -0.06277086118361741,
           -0.015159385398903774,
           -0.0009989192811705192,
           -0.056302122812524814,
           -0.016915126125246496,
           -0.018379155552365977,
           0.056153663978304166,
           0.021876837909271637,
           -0.001342153878460791,
           0.016399841221653156,
           0.045208699895462966,
           -0.04322360088021897,
           0.0251339146685991,
           -0.015863190503037555,
           0.022528874964169398,
           0.04284364932785169,
           0.09170318408823452,
           -0.038230013945028896,
           -0.06070010792331842,
           0.12307363460393068,
           0.012215721547395642,
           0.10654381768452297,
           0.14209195897844226,
           -0.020226083966246963,
           0.009066897183657316,
           0.056782945234589224,
           0.07129447062849156,
           0.05836760061673637,
           -0.11298374192888011,
           0.05195777878038421,
           0.016279168679549892,
           0.027642799111553464,
           0.0013893840806874077,
           -0.0070746816192227705,
           0.07818347551314965,
           0.0369512644611511,
           0.1932638253849782,
           0.037924969121950224,
           -0.05638641911452751,
           0.09367830813184089,
           0.00030773105258465733,
           0.03721719603436957,
           0.05699390353803812,
           -0.028556698168236073,
           0.05261698296788779,
           -0.017560157099411715,
           -0.06070207215778252,
           -0.03251802180639245,
           0.046846950599153024,
           -0.03168537681068582,
           0.04262745810841128,
           -0.08989963607249696,
           0.026437263098701737,
           0.028549340592013767,
           -0.0384291322314543,
           0.028583912449387707,
           0.030284776172287194,
           0.02478063093484978,
           0.07220883420150254,
           -0.015065751569079,
           -0.08230642055468919,
           0.057253011637865885,
           0.023344720521431255,
           0.015596912694612821,
           -0.0908704934018736,
           -0.06524557559118627,
           -0.019418782599695986,
           0.04965228938533287,
           0.045216422756605514,
           -0.039417919880418616,
           -0.11634062867105431,
           0.11960213788972548,
           0.020131690767292237,
           -0.027796773399618096,
           -0.06345720572733939,
           0.07040664819127536,
           -0.027758466045469398,
           0.03437499263539703,
           -0.08983704180574034,
           -0.10497679979331943,
           0.04053714357165174,
           0.005476447298269485,
           0.10110524501141263,
           0.08479386888083924,
           0.06907478666163124,
           -0.05367240112724762,
           0.00808513075232514,
           -0.021503373379737355,
           -0.07370333239473448,
           -0.056216750322204107,
           0.067411755163393,
           -0.04133956483176891,
           0.08406750991787669,
           -0.1250982783801107,
           0.06758668022582864,
           0.07269354106071634,
           -0.009538875689303226,
           0.01753827370399525,
           0.048884247687581546,
           -0.01714258339979253,
           -0.07277048293335621,
           0.08897625112371661,
           -0.017704631337104124,
           -0.11623667455844287,
           -0.02145108964752699,
           0.02221763058816716,
           -0.026430395433836223,
           -0.10088953827540889,
           -0.05013763187203396,
           -0.03816161482335375,
           0.0020295160458955667,
           0.0029920165372564035,
           0.0753374965887346,
           0.005754536808945486,
           0.019437851838170362,
           -0.08382103560744184,
           0.011476424862680341,
           -0.027143296009138427,
           0.023156246190935658,
           0.022638975192182016,
           -0.06624760890760055,
           -0.044728793563785896,
           0.013478421215778559,
           0.04852550270135303,
           -0.045157024725398495,
           0.03590361880670095,
           -0.12835876127570506,
           -0.025859049814460796,
           -0.019295182439663675,
           -0.05683538636474681,
           -0.06417055889257987,
           -0.0337333935284324,
           0.051423024005691285,
           -0.030410285875977886,
           0.09389303860928924,
           -0.03887439709775695,
           0.040455851546934145,
           -0.11287172409320924,
           0.03858781857316442,
           0.15752210316639878,
           -0.05257905972437731,
           0.03351025949806286,
           0.04914788582387195,
           0.10513265982795962,
           -0.04342677389929377,
           0.0113168625869229,
           -0.07670520659528061,
           0.006963957016717199,
           -0.1613722220670969,
           -0.12482418260581828,
           -0.025707640314948838,
           0.06731230965015268,
           -0.13499039859864667,
           0.01860812585390993,
           0.0377606588742191,
           -0.03960296047824791,
           -0.06631033204308982,
           -0.14055596739001094,
           0.02649342368522482,
           0.0012953676723566675,
           -0.05848031221274404,
           -0.008902867795784647,
           0.013944919458398255,
           -0.00949407248277631,
           0.0570401586063654,
           -0.057107783749609155,
           -0.023017908305563255,
           0.05661135788024876,
           0.026903239347160417,
           0.04323517315892298,
           -0.025513026279007867,
           -0.07256281700914359,
           0.005872741371616258,
           0.06204107768538091,
           -0.03358622055471005,
           0.026930968225047452,
           0.07560556216388699,
           0.018292270745711752,
           -0.03177316197281002,
           -0.027092510456942324,
           0.0018031964889471633,
           -0.10601357294936128,
           0.015917318118623045
          ],
          "coloraxis": "coloraxis",
          "symbol": "circle"
         },
         "mode": "markers",
         "name": "",
         "scene": "scene",
         "showlegend": false,
         "type": "scatter3d",
         "x": [
          -0.07902998116544806,
          -0.04225999573861059,
          -0.018774442691906857,
          -0.07474375419306636,
          0.13572269212667554,
          -0.006701117806386223,
          0.0412981521914883,
          0.0028597749132852537,
          -0.12498049978513645,
          0.02240634448237062,
          0.00957915791580554,
          0.005688934689697951,
          0.030251314557484258,
          0.06728206593570213,
          0.010419749415843073,
          -0.03430597655672556,
          0.023618102132770314,
          0.031562089084434516,
          -0.012546983370881636,
          -0.08079588915362239,
          0.02970433894187702,
          -0.024084195961970624,
          0.037117527793375425,
          0.046610712491124105,
          -0.034277596296186603,
          0.001886955607780819,
          -0.1293446686103123,
          -0.08921905847071747,
          0.10512660800493677,
          0.012364641618272318,
          0.07807877927098697,
          -0.07127838315151606,
          -0.10044945363840956,
          -0.06319264971977889,
          -0.035461543953902,
          0.10919868139682296,
          0.019629486698113905,
          0.006731435543319833,
          -0.04498660179711845,
          -0.0001532218282888756,
          0.025564602503859904,
          0.09419141333166746,
          -0.08468629361581932,
          0.07869578787548934,
          0.09413014498373731,
          -0.02323525388578486,
          -0.05185891850526942,
          0.09611716023777646,
          -0.07120426311850991,
          0.011044087066430971,
          -0.03094561821379054,
          0.06586028113849192,
          -0.11232752913470478,
          0.06257471229033217,
          0.0816732145147975,
          -0.17503871274102245,
          -0.03591701661639616,
          -0.024324133548351053,
          0.05657976850689714,
          0.06827364985232488,
          -0.028934348406516503,
          -0.02621185806231776,
          -0.04562401307177219,
          -0.05622992925045543,
          -0.041435758307512296,
          -0.011317237882217867,
          -0.07267786048317752,
          0.022923959643233086,
          -0.04267869069286112,
          -0.04384680450281283,
          -0.12175314330162493,
          -0.05670932872916114,
          -0.03294348216419262,
          -0.008725026218871767,
          0.10805875085852443,
          -0.010517383048037973,
          0.0724900616979126,
          -0.05867315164851381,
          0.11420985212062386,
          0.04686351400272635,
          -0.11399400188142557,
          -0.012062842634970334,
          -0.034775366949387314,
          0.014406500878906813,
          -0.00018521895132286878,
          0.06857314907946714,
          -0.07736557647299176,
          -0.10344345067781467,
          -0.04669930127790657,
          0.06836984315095196,
          0.06189735144832025,
          -0.021773401101404508,
          0.12352092605074655,
          -0.070041473392409,
          0.06762709269812794,
          0.046889601360247626,
          -0.056607587467999716,
          0.07265004438959555,
          0.07718380020935069,
          0.1101812902223251,
          -0.007567514816973173,
          -0.013091904974958171,
          -0.028765281887539528,
          -0.08792820958972433,
          -0.023318125737418982,
          0.1005414060466648,
          -0.017818475706530827,
          -0.09276630407751629,
          -0.04018590244643346,
          -0.05169005176830348,
          0.0035513302502229276,
          0.026882198361206065,
          0.0737918861732451,
          -0.027716204972702035,
          -0.07595084357237951,
          -0.045779364138225684,
          -0.07548179257313964,
          0.01148259666576207,
          0.10289811783491062,
          0.07896305092741024,
          0.08519549109927557,
          0.09717261476231968,
          0.01700215720723236,
          0.007766674873365269,
          -0.09084705168019835,
          0.09162377418835325,
          -0.13616608514819314,
          -0.09583276126130087,
          -0.1072060355394954,
          0.01991623266545302,
          0.016403799446192947,
          0.07656814949272467,
          -0.020516478920566333,
          0.07979536111477774,
          0.026350306031681394,
          -0.01845750938560006,
          -0.0029894820175642533,
          0.11554601006599376,
          -0.04255341504428138,
          -0.10681449471896837,
          0.09725030180267191,
          0.01213985844811584,
          0.002574746754799839,
          0.0009061365667785849,
          -0.01824210597999016,
          -0.02484248338254199,
          -0.01092450694331267,
          -0.034952833779763,
          0.004463156049987445,
          -0.031068356656999148,
          -0.029886161704781724,
          0.07482020022750276,
          0.06175762715998497,
          -0.1662149506755503,
          0.03923570484315966,
          -0.07394138998865492,
          0.13607381298749652,
          0.0005317942430282407,
          0.011732952225848598,
          0.05829414776371678,
          0.061555016438284656,
          0.021172868498326863,
          -0.1252255869999772,
          -0.04017208908645372,
          0.1043240247794197,
          -0.04236651803229906,
          0.06090386266477134,
          0.007871209763079704,
          0.041026872771351516,
          -0.10756205016007774,
          -0.001157351706578689,
          0.052785758009573865,
          0.03778595025732743,
          0.14631281450187844,
          -0.008677220033511417,
          -0.020041169460057004,
          0.12445934661169844,
          0.008442073712851928,
          0.02201261080806552,
          0.016420820134133634,
          0.06518138734519631,
          0.0635228559265718,
          0.1767209265688092,
          0.08335285644874274,
          0.015184101229906512,
          0.09486292647717497,
          -0.1109133140747574,
          0.003147077116339265,
          0.03881325884096725,
          -0.03428459156593475,
          -0.1023523321017795,
          -0.11101369613105275,
          0.0007753083795219556,
          -0.04910071089751024,
          -0.051649645901280336,
          0.10945968343171067,
          -0.006076821993036208,
          -0.03212063747307411,
          0.008887255470052693,
          0.0876829155006514,
          0.04154013779309079,
          -0.0060656149445112405,
          -0.028170068138892806,
          0.021153068381956543,
          0.06908244081857269,
          -0.07868935973326309,
          -0.028169619899651152,
          0.032262378019388895,
          -0.06643436966486375,
          -0.04916268868491171,
          -0.09603197574678321,
          -0.11931800653715656
         ],
         "y": [
          -0.018684494019202677,
          -0.005278613974643304,
          0.09461087021246585,
          0.0582567592737517,
          -0.07725475865568686,
          -0.02707579749968988,
          0.008321215544684705,
          0.14783699275349785,
          -0.0485526744760943,
          -0.01932894431159909,
          0.031399784528736215,
          -0.007987535450425262,
          0.060440457323291376,
          0.07062877969340614,
          -0.013843597256926219,
          0.010345231775481746,
          0.0025024805089424278,
          -0.0851145899104578,
          0.015142411376890014,
          0.03364917516038268,
          -0.002925985810984504,
          0.08721752359137573,
          0.05854512828680439,
          -0.046312696983422885,
          -0.030286403399346695,
          -0.03837662749096889,
          0.018283864883928313,
          0.062006308639648636,
          -0.08024075387971076,
          0.12345461799670943,
          0.06275018468322496,
          0.11993311015198528,
          -0.03181317834365197,
          -0.0022183603516519857,
          0.09812448163316341,
          0.03717129795155187,
          0.09445309930111177,
          -0.07487969097490471,
          0.06257713101580607,
          0.0484031458405793,
          -0.03034573373208221,
          -0.06387554933494316,
          -0.039517992913686274,
          0.09140118394137652,
          -0.027600329316519928,
          0.01672672973118364,
          0.018880604324666678,
          0.01445461766245286,
          -0.00375969307447239,
          0.06362460532823683,
          0.019391359326301184,
          -0.052813535692426215,
          -0.11028476974803089,
          0.06845758346487904,
          0.010124224618509259,
          -0.019562264147405587,
          0.14280407964322828,
          -0.034730408342614164,
          0.04396456466521819,
          0.07380828746449827,
          0.03414109561643478,
          0.028460083418304544,
          0.010015845591634301,
          -0.026588456500034892,
          0.03939341436310346,
          -0.10534312030928325,
          -0.03654750651130714,
          0.0085506082897423,
          -0.010440905386963992,
          -0.01890732867719186,
          0.01077875423646375,
          0.06896170433495309,
          -0.006260489900057163,
          -0.0395391086749226,
          -0.008667869650707453,
          -0.045680785219303875,
          -0.03005267866190741,
          0.0608620690365086,
          -0.01793798550523215,
          -0.07672051846269347,
          0.0036482429323650804,
          0.0616010490803678,
          0.0889344216547238,
          0.006913280974576883,
          0.01768156350850026,
          0.06431821304767453,
          -0.05879364315704027,
          -0.12468026695424346,
          -0.008130348764939004,
          0.08460316812832529,
          -0.10842426849248891,
          -0.009506043861284471,
          0.034333382303434225,
          -0.033892663650352234,
          0.0036779110986750537,
          -0.032726562762745055,
          -0.016930095350040728,
          0.04903490130460104,
          -0.09107978236676322,
          -0.04324791469574932,
          0.06229950994027893,
          0.11125895173637367,
          -0.03426384709108202,
          0.01262722856422866,
          -0.11574276082021855,
          -0.08525433150141176,
          -0.12829760010684468,
          -0.03229312679000782,
          -0.06032999999397584,
          0.019239401170012205,
          0.04535246474602211,
          0.04801752146884613,
          -0.06085773362528796,
          -0.007425077071665305,
          -0.06129854867616889,
          -0.018251752118240497,
          0.03824365262589558,
          0.0095202957597274,
          -0.034899826875218816,
          -0.04683929449989256,
          0.0974511421104178,
          -0.06338640845845799,
          -0.09742515756012603,
          -0.10184943578956154,
          -0.030953518212142296,
          0.002447036067828115,
          -0.01663890753665106,
          0.06956212067667462,
          -0.07258793558854647,
          0.090014923957943,
          -0.09751948738712736,
          0.09315580403677784,
          -0.02687414765350415,
          0.09028440319025482,
          -0.05490562522515372,
          -0.046486812463958804,
          0.07941292899124379,
          -0.001769599858023811,
          0.07887001710079508,
          0.020495233926877195,
          0.17698555696812168,
          0.048904068177698407,
          0.030431702460465584,
          -0.0058888398837281825,
          0.006657579227900275,
          0.08978457276427412,
          -0.051702753308002586,
          0.005490004591596814,
          0.11290867971689234,
          -0.0010381738506692907,
          -0.11988053799306872,
          -0.14588734618138388,
          -0.004342327954016557,
          -0.10181467501031943,
          -0.04772196238731559,
          -0.04595891146678393,
          0.007796656356276606,
          0.05571513435610127,
          -0.16914786784936856,
          0.016126073998466675,
          0.022782652262602596,
          -0.15134475390535426,
          0.04321005878684527,
          0.09716604031544811,
          -0.10222709492626604,
          -0.08585635703788978,
          -0.04201888366950963,
          0.0767494825366553,
          -0.07670733560685997,
          -0.060234028327269006,
          0.14882276490321156,
          0.06933049791307906,
          -0.029682160616536037,
          -0.0023034084041084145,
          -0.03074710917411307,
          0.1414126432137864,
          -0.004973793218255373,
          0.005696056099836491,
          0.10380832849202463,
          0.1091239308340633,
          0.048459315900032364,
          -0.035247608710971004,
          0.023076269049450867,
          0.06152907370039505,
          -0.07245684795733305,
          -0.04209310234676844,
          0.020320226608143043,
          0.07952046057682725,
          0.008537295646140662,
          0.003938365638802727,
          0.013107479906641906,
          0.07528483259422435,
          -0.10714782078293919,
          -0.08105838378447537,
          -0.043865574567293175,
          -0.003223487408811799,
          -0.037910975041305466,
          0.05002397066826577,
          0.017564187754408073,
          -0.17392124960532038,
          -0.03710388883027377,
          -0.00023387412752454365,
          -0.04727043554832421,
          -0.025816411588529063,
          -0.13393947533919753,
          0.023991845623135888,
          0.027237371683898184,
          0.04730493132372966,
          -0.05025279652220235,
          -0.010413663150647593,
          -0.08164910890967328,
          0.019344934564479024
         ],
         "z": [
          0.01941930917663919,
          0.08827906191732098,
          -0.0011693129091442554,
          0.06005139408419095,
          -0.06250216121941268,
          -0.026193549575732174,
          0.015102865995929799,
          0.058428571125574265,
          -0.04840028195738704,
          -0.06491533111912275,
          -0.01590963526567753,
          -0.04170867219128823,
          -0.0390393231394165,
          -0.08281011859187287,
          0.009067217735631865,
          -0.07815097138100585,
          -0.05678688228014586,
          0.03160406447049576,
          0.05290290883303111,
          0.04052886438246805,
          -0.047078905326335053,
          0.010201203053547075,
          0.03435292676355527,
          0.07272772813154346,
          -0.030538885956136533,
          0.16327476173995772,
          -0.06116115096575428,
          -0.06189705855842271,
          0.06545165451030034,
          -0.06277086118361741,
          -0.015159385398903774,
          -0.0009989192811705192,
          -0.056302122812524814,
          -0.016915126125246496,
          -0.018379155552365977,
          0.056153663978304166,
          0.021876837909271637,
          -0.001342153878460791,
          0.016399841221653156,
          0.045208699895462966,
          -0.04322360088021897,
          0.0251339146685991,
          -0.015863190503037555,
          0.022528874964169398,
          0.04284364932785169,
          0.09170318408823452,
          -0.038230013945028896,
          -0.06070010792331842,
          0.12307363460393068,
          0.012215721547395642,
          0.10654381768452297,
          0.14209195897844226,
          -0.020226083966246963,
          0.009066897183657316,
          0.056782945234589224,
          0.07129447062849156,
          0.05836760061673637,
          -0.11298374192888011,
          0.05195777878038421,
          0.016279168679549892,
          0.027642799111553464,
          0.0013893840806874077,
          -0.0070746816192227705,
          0.07818347551314965,
          0.0369512644611511,
          0.1932638253849782,
          0.037924969121950224,
          -0.05638641911452751,
          0.09367830813184089,
          0.00030773105258465733,
          0.03721719603436957,
          0.05699390353803812,
          -0.028556698168236073,
          0.05261698296788779,
          -0.017560157099411715,
          -0.06070207215778252,
          -0.03251802180639245,
          0.046846950599153024,
          -0.03168537681068582,
          0.04262745810841128,
          -0.08989963607249696,
          0.026437263098701737,
          0.028549340592013767,
          -0.0384291322314543,
          0.028583912449387707,
          0.030284776172287194,
          0.02478063093484978,
          0.07220883420150254,
          -0.015065751569079,
          -0.08230642055468919,
          0.057253011637865885,
          0.023344720521431255,
          0.015596912694612821,
          -0.0908704934018736,
          -0.06524557559118627,
          -0.019418782599695986,
          0.04965228938533287,
          0.045216422756605514,
          -0.039417919880418616,
          -0.11634062867105431,
          0.11960213788972548,
          0.020131690767292237,
          -0.027796773399618096,
          -0.06345720572733939,
          0.07040664819127536,
          -0.027758466045469398,
          0.03437499263539703,
          -0.08983704180574034,
          -0.10497679979331943,
          0.04053714357165174,
          0.005476447298269485,
          0.10110524501141263,
          0.08479386888083924,
          0.06907478666163124,
          -0.05367240112724762,
          0.00808513075232514,
          -0.021503373379737355,
          -0.07370333239473448,
          -0.056216750322204107,
          0.067411755163393,
          -0.04133956483176891,
          0.08406750991787669,
          -0.1250982783801107,
          0.06758668022582864,
          0.07269354106071634,
          -0.009538875689303226,
          0.01753827370399525,
          0.048884247687581546,
          -0.01714258339979253,
          -0.07277048293335621,
          0.08897625112371661,
          -0.017704631337104124,
          -0.11623667455844287,
          -0.02145108964752699,
          0.02221763058816716,
          -0.026430395433836223,
          -0.10088953827540889,
          -0.05013763187203396,
          -0.03816161482335375,
          0.0020295160458955667,
          0.0029920165372564035,
          0.0753374965887346,
          0.005754536808945486,
          0.019437851838170362,
          -0.08382103560744184,
          0.011476424862680341,
          -0.027143296009138427,
          0.023156246190935658,
          0.022638975192182016,
          -0.06624760890760055,
          -0.044728793563785896,
          0.013478421215778559,
          0.04852550270135303,
          -0.045157024725398495,
          0.03590361880670095,
          -0.12835876127570506,
          -0.025859049814460796,
          -0.019295182439663675,
          -0.05683538636474681,
          -0.06417055889257987,
          -0.0337333935284324,
          0.051423024005691285,
          -0.030410285875977886,
          0.09389303860928924,
          -0.03887439709775695,
          0.040455851546934145,
          -0.11287172409320924,
          0.03858781857316442,
          0.15752210316639878,
          -0.05257905972437731,
          0.03351025949806286,
          0.04914788582387195,
          0.10513265982795962,
          -0.04342677389929377,
          0.0113168625869229,
          -0.07670520659528061,
          0.006963957016717199,
          -0.1613722220670969,
          -0.12482418260581828,
          -0.025707640314948838,
          0.06731230965015268,
          -0.13499039859864667,
          0.01860812585390993,
          0.0377606588742191,
          -0.03960296047824791,
          -0.06631033204308982,
          -0.14055596739001094,
          0.02649342368522482,
          0.0012953676723566675,
          -0.05848031221274404,
          -0.008902867795784647,
          0.013944919458398255,
          -0.00949407248277631,
          0.0570401586063654,
          -0.057107783749609155,
          -0.023017908305563255,
          0.05661135788024876,
          0.026903239347160417,
          0.04323517315892298,
          -0.025513026279007867,
          -0.07256281700914359,
          0.005872741371616258,
          0.06204107768538091,
          -0.03358622055471005,
          0.026930968225047452,
          0.07560556216388699,
          0.018292270745711752,
          -0.03177316197281002,
          -0.027092510456942324,
          0.0018031964889471633,
          -0.10601357294936128,
          0.015917318118623045
         ]
        }
       ],
       "layout": {
        "coloraxis": {
         "colorbar": {
          "title": {
           "text": "2"
          }
         },
         "colorscale": [
          [
           0,
           "#0d0887"
          ],
          [
           0.1111111111111111,
           "#46039f"
          ],
          [
           0.2222222222222222,
           "#7201a8"
          ],
          [
           0.3333333333333333,
           "#9c179e"
          ],
          [
           0.4444444444444444,
           "#bd3786"
          ],
          [
           0.5555555555555556,
           "#d8576b"
          ],
          [
           0.6666666666666666,
           "#ed7953"
          ],
          [
           0.7777777777777778,
           "#fb9f3a"
          ],
          [
           0.8888888888888888,
           "#fdca26"
          ],
          [
           1,
           "#f0f921"
          ]
         ]
        },
        "legend": {
         "tracegroupgap": 0
        },
        "margin": {
         "t": 60
        },
        "scene": {
         "domain": {
          "x": [
           0,
           1
          ],
          "y": [
           0,
           1
          ]
         },
         "xaxis": {
          "title": {
           "text": "0"
          }
         },
         "yaxis": {
          "title": {
           "text": "1"
          }
         },
         "zaxis": {
          "title": {
           "text": "2"
          }
         }
        },
        "template": {
         "data": {
          "bar": [
           {
            "error_x": {
             "color": "#2a3f5f"
            },
            "error_y": {
             "color": "#2a3f5f"
            },
            "marker": {
             "line": {
              "color": "#E5ECF6",
              "width": 0.5
             },
             "pattern": {
              "fillmode": "overlay",
              "size": 10,
              "solidity": 0.2
             }
            },
            "type": "bar"
           }
          ],
          "barpolar": [
           {
            "marker": {
             "line": {
              "color": "#E5ECF6",
              "width": 0.5
             },
             "pattern": {
              "fillmode": "overlay",
              "size": 10,
              "solidity": 0.2
             }
            },
            "type": "barpolar"
           }
          ],
          "carpet": [
           {
            "aaxis": {
             "endlinecolor": "#2a3f5f",
             "gridcolor": "white",
             "linecolor": "white",
             "minorgridcolor": "white",
             "startlinecolor": "#2a3f5f"
            },
            "baxis": {
             "endlinecolor": "#2a3f5f",
             "gridcolor": "white",
             "linecolor": "white",
             "minorgridcolor": "white",
             "startlinecolor": "#2a3f5f"
            },
            "type": "carpet"
           }
          ],
          "choropleth": [
           {
            "colorbar": {
             "outlinewidth": 0,
             "ticks": ""
            },
            "type": "choropleth"
           }
          ],
          "contour": [
           {
            "colorbar": {
             "outlinewidth": 0,
             "ticks": ""
            },
            "colorscale": [
             [
              0,
              "#0d0887"
             ],
             [
              0.1111111111111111,
              "#46039f"
             ],
             [
              0.2222222222222222,
              "#7201a8"
             ],
             [
              0.3333333333333333,
              "#9c179e"
             ],
             [
              0.4444444444444444,
              "#bd3786"
             ],
             [
              0.5555555555555556,
              "#d8576b"
             ],
             [
              0.6666666666666666,
              "#ed7953"
             ],
             [
              0.7777777777777778,
              "#fb9f3a"
             ],
             [
              0.8888888888888888,
              "#fdca26"
             ],
             [
              1,
              "#f0f921"
             ]
            ],
            "type": "contour"
           }
          ],
          "contourcarpet": [
           {
            "colorbar": {
             "outlinewidth": 0,
             "ticks": ""
            },
            "type": "contourcarpet"
           }
          ],
          "heatmap": [
           {
            "colorbar": {
             "outlinewidth": 0,
             "ticks": ""
            },
            "colorscale": [
             [
              0,
              "#0d0887"
             ],
             [
              0.1111111111111111,
              "#46039f"
             ],
             [
              0.2222222222222222,
              "#7201a8"
             ],
             [
              0.3333333333333333,
              "#9c179e"
             ],
             [
              0.4444444444444444,
              "#bd3786"
             ],
             [
              0.5555555555555556,
              "#d8576b"
             ],
             [
              0.6666666666666666,
              "#ed7953"
             ],
             [
              0.7777777777777778,
              "#fb9f3a"
             ],
             [
              0.8888888888888888,
              "#fdca26"
             ],
             [
              1,
              "#f0f921"
             ]
            ],
            "type": "heatmap"
           }
          ],
          "heatmapgl": [
           {
            "colorbar": {
             "outlinewidth": 0,
             "ticks": ""
            },
            "colorscale": [
             [
              0,
              "#0d0887"
             ],
             [
              0.1111111111111111,
              "#46039f"
             ],
             [
              0.2222222222222222,
              "#7201a8"
             ],
             [
              0.3333333333333333,
              "#9c179e"
             ],
             [
              0.4444444444444444,
              "#bd3786"
             ],
             [
              0.5555555555555556,
              "#d8576b"
             ],
             [
              0.6666666666666666,
              "#ed7953"
             ],
             [
              0.7777777777777778,
              "#fb9f3a"
             ],
             [
              0.8888888888888888,
              "#fdca26"
             ],
             [
              1,
              "#f0f921"
             ]
            ],
            "type": "heatmapgl"
           }
          ],
          "histogram": [
           {
            "marker": {
             "pattern": {
              "fillmode": "overlay",
              "size": 10,
              "solidity": 0.2
             }
            },
            "type": "histogram"
           }
          ],
          "histogram2d": [
           {
            "colorbar": {
             "outlinewidth": 0,
             "ticks": ""
            },
            "colorscale": [
             [
              0,
              "#0d0887"
             ],
             [
              0.1111111111111111,
              "#46039f"
             ],
             [
              0.2222222222222222,
              "#7201a8"
             ],
             [
              0.3333333333333333,
              "#9c179e"
             ],
             [
              0.4444444444444444,
              "#bd3786"
             ],
             [
              0.5555555555555556,
              "#d8576b"
             ],
             [
              0.6666666666666666,
              "#ed7953"
             ],
             [
              0.7777777777777778,
              "#fb9f3a"
             ],
             [
              0.8888888888888888,
              "#fdca26"
             ],
             [
              1,
              "#f0f921"
             ]
            ],
            "type": "histogram2d"
           }
          ],
          "histogram2dcontour": [
           {
            "colorbar": {
             "outlinewidth": 0,
             "ticks": ""
            },
            "colorscale": [
             [
              0,
              "#0d0887"
             ],
             [
              0.1111111111111111,
              "#46039f"
             ],
             [
              0.2222222222222222,
              "#7201a8"
             ],
             [
              0.3333333333333333,
              "#9c179e"
             ],
             [
              0.4444444444444444,
              "#bd3786"
             ],
             [
              0.5555555555555556,
              "#d8576b"
             ],
             [
              0.6666666666666666,
              "#ed7953"
             ],
             [
              0.7777777777777778,
              "#fb9f3a"
             ],
             [
              0.8888888888888888,
              "#fdca26"
             ],
             [
              1,
              "#f0f921"
             ]
            ],
            "type": "histogram2dcontour"
           }
          ],
          "mesh3d": [
           {
            "colorbar": {
             "outlinewidth": 0,
             "ticks": ""
            },
            "type": "mesh3d"
           }
          ],
          "parcoords": [
           {
            "line": {
             "colorbar": {
              "outlinewidth": 0,
              "ticks": ""
             }
            },
            "type": "parcoords"
           }
          ],
          "pie": [
           {
            "automargin": true,
            "type": "pie"
           }
          ],
          "scatter": [
           {
            "fillpattern": {
             "fillmode": "overlay",
             "size": 10,
             "solidity": 0.2
            },
            "type": "scatter"
           }
          ],
          "scatter3d": [
           {
            "line": {
             "colorbar": {
              "outlinewidth": 0,
              "ticks": ""
             }
            },
            "marker": {
             "colorbar": {
              "outlinewidth": 0,
              "ticks": ""
             }
            },
            "type": "scatter3d"
           }
          ],
          "scattercarpet": [
           {
            "marker": {
             "colorbar": {
              "outlinewidth": 0,
              "ticks": ""
             }
            },
            "type": "scattercarpet"
           }
          ],
          "scattergeo": [
           {
            "marker": {
             "colorbar": {
              "outlinewidth": 0,
              "ticks": ""
             }
            },
            "type": "scattergeo"
           }
          ],
          "scattergl": [
           {
            "marker": {
             "colorbar": {
              "outlinewidth": 0,
              "ticks": ""
             }
            },
            "type": "scattergl"
           }
          ],
          "scattermapbox": [
           {
            "marker": {
             "colorbar": {
              "outlinewidth": 0,
              "ticks": ""
             }
            },
            "type": "scattermapbox"
           }
          ],
          "scatterpolar": [
           {
            "marker": {
             "colorbar": {
              "outlinewidth": 0,
              "ticks": ""
             }
            },
            "type": "scatterpolar"
           }
          ],
          "scatterpolargl": [
           {
            "marker": {
             "colorbar": {
              "outlinewidth": 0,
              "ticks": ""
             }
            },
            "type": "scatterpolargl"
           }
          ],
          "scatterternary": [
           {
            "marker": {
             "colorbar": {
              "outlinewidth": 0,
              "ticks": ""
             }
            },
            "type": "scatterternary"
           }
          ],
          "surface": [
           {
            "colorbar": {
             "outlinewidth": 0,
             "ticks": ""
            },
            "colorscale": [
             [
              0,
              "#0d0887"
             ],
             [
              0.1111111111111111,
              "#46039f"
             ],
             [
              0.2222222222222222,
              "#7201a8"
             ],
             [
              0.3333333333333333,
              "#9c179e"
             ],
             [
              0.4444444444444444,
              "#bd3786"
             ],
             [
              0.5555555555555556,
              "#d8576b"
             ],
             [
              0.6666666666666666,
              "#ed7953"
             ],
             [
              0.7777777777777778,
              "#fb9f3a"
             ],
             [
              0.8888888888888888,
              "#fdca26"
             ],
             [
              1,
              "#f0f921"
             ]
            ],
            "type": "surface"
           }
          ],
          "table": [
           {
            "cells": {
             "fill": {
              "color": "#EBF0F8"
             },
             "line": {
              "color": "white"
             }
            },
            "header": {
             "fill": {
              "color": "#C8D4E3"
             },
             "line": {
              "color": "white"
             }
            },
            "type": "table"
           }
          ]
         },
         "layout": {
          "annotationdefaults": {
           "arrowcolor": "#2a3f5f",
           "arrowhead": 0,
           "arrowwidth": 1
          },
          "autotypenumbers": "strict",
          "coloraxis": {
           "colorbar": {
            "outlinewidth": 0,
            "ticks": ""
           }
          },
          "colorscale": {
           "diverging": [
            [
             0,
             "#8e0152"
            ],
            [
             0.1,
             "#c51b7d"
            ],
            [
             0.2,
             "#de77ae"
            ],
            [
             0.3,
             "#f1b6da"
            ],
            [
             0.4,
             "#fde0ef"
            ],
            [
             0.5,
             "#f7f7f7"
            ],
            [
             0.6,
             "#e6f5d0"
            ],
            [
             0.7,
             "#b8e186"
            ],
            [
             0.8,
             "#7fbc41"
            ],
            [
             0.9,
             "#4d9221"
            ],
            [
             1,
             "#276419"
            ]
           ],
           "sequential": [
            [
             0,
             "#0d0887"
            ],
            [
             0.1111111111111111,
             "#46039f"
            ],
            [
             0.2222222222222222,
             "#7201a8"
            ],
            [
             0.3333333333333333,
             "#9c179e"
            ],
            [
             0.4444444444444444,
             "#bd3786"
            ],
            [
             0.5555555555555556,
             "#d8576b"
            ],
            [
             0.6666666666666666,
             "#ed7953"
            ],
            [
             0.7777777777777778,
             "#fb9f3a"
            ],
            [
             0.8888888888888888,
             "#fdca26"
            ],
            [
             1,
             "#f0f921"
            ]
           ],
           "sequentialminus": [
            [
             0,
             "#0d0887"
            ],
            [
             0.1111111111111111,
             "#46039f"
            ],
            [
             0.2222222222222222,
             "#7201a8"
            ],
            [
             0.3333333333333333,
             "#9c179e"
            ],
            [
             0.4444444444444444,
             "#bd3786"
            ],
            [
             0.5555555555555556,
             "#d8576b"
            ],
            [
             0.6666666666666666,
             "#ed7953"
            ],
            [
             0.7777777777777778,
             "#fb9f3a"
            ],
            [
             0.8888888888888888,
             "#fdca26"
            ],
            [
             1,
             "#f0f921"
            ]
           ]
          },
          "colorway": [
           "#636efa",
           "#EF553B",
           "#00cc96",
           "#ab63fa",
           "#FFA15A",
           "#19d3f3",
           "#FF6692",
           "#B6E880",
           "#FF97FF",
           "#FECB52"
          ],
          "font": {
           "color": "#2a3f5f"
          },
          "geo": {
           "bgcolor": "white",
           "lakecolor": "white",
           "landcolor": "#E5ECF6",
           "showlakes": true,
           "showland": true,
           "subunitcolor": "white"
          },
          "hoverlabel": {
           "align": "left"
          },
          "hovermode": "closest",
          "mapbox": {
           "style": "light"
          },
          "paper_bgcolor": "white",
          "plot_bgcolor": "#E5ECF6",
          "polar": {
           "angularaxis": {
            "gridcolor": "white",
            "linecolor": "white",
            "ticks": ""
           },
           "bgcolor": "#E5ECF6",
           "radialaxis": {
            "gridcolor": "white",
            "linecolor": "white",
            "ticks": ""
           }
          },
          "scene": {
           "xaxis": {
            "backgroundcolor": "#E5ECF6",
            "gridcolor": "white",
            "gridwidth": 2,
            "linecolor": "white",
            "showbackground": true,
            "ticks": "",
            "zerolinecolor": "white"
           },
           "yaxis": {
            "backgroundcolor": "#E5ECF6",
            "gridcolor": "white",
            "gridwidth": 2,
            "linecolor": "white",
            "showbackground": true,
            "ticks": "",
            "zerolinecolor": "white"
           },
           "zaxis": {
            "backgroundcolor": "#E5ECF6",
            "gridcolor": "white",
            "gridwidth": 2,
            "linecolor": "white",
            "showbackground": true,
            "ticks": "",
            "zerolinecolor": "white"
           }
          },
          "shapedefaults": {
           "line": {
            "color": "#2a3f5f"
           }
          },
          "ternary": {
           "aaxis": {
            "gridcolor": "white",
            "linecolor": "white",
            "ticks": ""
           },
           "baxis": {
            "gridcolor": "white",
            "linecolor": "white",
            "ticks": ""
           },
           "bgcolor": "#E5ECF6",
           "caxis": {
            "gridcolor": "white",
            "linecolor": "white",
            "ticks": ""
           }
          },
          "title": {
           "x": 0.05
          },
          "xaxis": {
           "automargin": true,
           "gridcolor": "white",
           "linecolor": "white",
           "ticks": "",
           "title": {
            "standoff": 15
           },
           "zerolinecolor": "white",
           "zerolinewidth": 2
          },
          "yaxis": {
           "automargin": true,
           "gridcolor": "white",
           "linecolor": "white",
           "ticks": "",
           "title": {
            "standoff": 15
           },
           "zerolinecolor": "white",
           "zerolinewidth": 2
          }
         }
        }
       }
      }
     },
     "metadata": {},
     "output_type": "display_data"
    }
   ],
   "source": [
    "import plotly.express as px\n",
    "\n",
    "# Necesitamos una lista con las palabras para ponerlas en el grafico\n",
    "words = model.wv.index_to_key\n",
    "words\n",
    "\n",
    "fig = px.scatter_3d(df, x=0, y=1, z=2,\n",
    "              color=2)\n",
    "fig.show()\n"
   ]
  },
  {
   "cell_type": "code",
   "execution_count": null,
   "metadata": {},
   "outputs": [],
   "source": []
  }
 ],
 "metadata": {
  "kernelspec": {
   "display_name": "ia",
   "language": "python",
   "name": "python3"
  },
  "language_info": {
   "codemirror_mode": {
    "name": "ipython",
    "version": 3
   },
   "file_extension": ".py",
   "mimetype": "text/x-python",
   "name": "python",
   "nbconvert_exporter": "python",
   "pygments_lexer": "ipython3",
   "version": "3.8.18"
  }
 },
 "nbformat": 4,
 "nbformat_minor": 2
}
