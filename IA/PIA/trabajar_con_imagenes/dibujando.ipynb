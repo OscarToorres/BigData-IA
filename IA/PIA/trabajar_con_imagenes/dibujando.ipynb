{
 "cells": [
  {
   "cell_type": "code",
   "execution_count": 1,
   "metadata": {},
   "outputs": [
    {
     "data": {
      "text/plain": [
       "<Figure size 1000x1000 with 0 Axes>"
      ]
     },
     "execution_count": 1,
     "metadata": {},
     "output_type": "execute_result"
    },
    {
     "data": {
      "text/plain": [
       "<Figure size 1000x1000 with 0 Axes>"
      ]
     },
     "metadata": {},
     "output_type": "display_data"
    }
   ],
   "source": [
    "import cv2 as cv\n",
    "import numpy as np\n",
    "from matplotlib import pyplot as plt\n",
    "\n",
    "plt.figure(figsize=(10,10))"
   ]
  },
  {
   "cell_type": "code",
   "execution_count": 22,
   "metadata": {},
   "outputs": [
    {
     "data": {
      "text/plain": [
       "<matplotlib.image.AxesImage at 0x17f64bf8dc0>"
      ]
     },
     "execution_count": 22,
     "metadata": {},
     "output_type": "execute_result"
    },
    {
     "data": {
      "image/png": "[encoded data removed]",
      "text/plain": [
       "<Figure size 640x480 with 1 Axes>"
      ]
     },
     "metadata": {},
     "output_type": "display_data"
    }
   ],
   "source": [
    "img = np.zeros((512,512,3), np.uint8)\n",
    "plt.subplot(3,3,1)\n",
    "# Imagen a la que escrbimos el texto, texto,lo que ocupa¿?, tipo de fuente,tamaño del texto,bgr,grosor de las letras\n",
    "cv.putText(img,\"Texto de prueba\", (10,300),cv.FONT_HERSHEY_SIMPLEX,10,(0,0,255),3)\n",
    "# Imagen a la que dibujamos la linea, donde empieza,hasta donde va, color de la linea,grosor de las lineas\n",
    "cv.line(img,(0,0),(510,250),(255,0,0),10)\n",
    "# Imagen a la que dibujamos el rectangulo, donde empieza,hasta donde va, color de la linea,grosor de las lineas\n",
    "cv.rectangle(img,(200,400),(510,250),(255,0,0),-1)\n",
    "# Imagen a la que dibujamos el circulo, donde empieza,hasta donde va, color de la linea,grosor de las lineas\n",
    "cv.circle(img, (100,400), 50, (255,0,0), 10)\n",
    "plt.imshow(cv.cvtColor(img, cv.COLOR_BGR2RGB))"
   ]
  },
  {
   "cell_type": "code",
   "execution_count": null,
   "metadata": {},
   "outputs": [],
   "source": []
  }
 ],
 "metadata": {
  "kernelspec": {
   "display_name": "ia",
   "language": "python",
   "name": "python3"
  },
  "language_info": {
   "codemirror_mode": {
    "name": "ipython",
    "version": 3
   },
   "file_extension": ".py",
   "mimetype": "text/x-python",
   "name": "python",
   "nbconvert_exporter": "python",
   "pygments_lexer": "ipython3",
   "version": "3.8.18"
  }
 },
 "nbformat": 4,
 "nbformat_minor": 2
}
