{
 "cells": [
  {
   "cell_type": "code",
   "execution_count": 4,
   "metadata": {},
   "outputs": [],
   "source": [
    "from kafka import KafkaProducer\n",
    "from json import dumps\n",
    "import time\n",
    "\n",
    "producer = KafkaProducer(\n",
    "    value_serializer=lambda m: dumps(m).encode('utf-8'),\n",
    "    bootstrap_servers=['10.133.29.116:9092'])\n",
    "\n",
    "for i in range(10):\n",
    "    producer.send(\"iabd-topic\", value={\"nombre\": \"producer \" + str(i)})\n",
    "# Como el envío es asíncrono, para que no se salga del programa antes de enviar el mensaje, esperamos 1 seg\n",
    "time.sleep(1)\n",
    "# producer.flush()"
   ]
  },
  {
   "cell_type": "code",
   "execution_count": 7,
   "metadata": {},
   "outputs": [],
   "source": [
    "from kafka import KafkaProducer\n",
    "from json import dumps\n",
    "import time\n",
    "\n",
    "producer = KafkaProducer(\n",
    "    value_serializer=lambda m: dumps(m).encode('utf-8'),\n",
    "    bootstrap_servers=['193.144.42.95:9092'])\n",
    "\n",
    "producer.send(\"bigdata\", value=\"Sistemas de Big Data ;)\")\n",
    "# Como el envío es asíncrono, para que no se salga del programa antes de enviar el mensaje, esperamos 1 seg\n",
    "time.sleep(1)\n",
    "# producer.flush()"
   ]
  }
 ],
 "metadata": {
  "kernelspec": {
   "display_name": "bigdata",
   "language": "python",
   "name": "python3"
  },
  "language_info": {
   "codemirror_mode": {
    "name": "ipython",
    "version": 3
   },
   "file_extension": ".py",
   "mimetype": "text/x-python",
   "name": "python",
   "nbconvert_exporter": "python",
   "pygments_lexer": "ipython3",
   "version": "3.8.18"
  }
 },
 "nbformat": 4,
 "nbformat_minor": 2
}
