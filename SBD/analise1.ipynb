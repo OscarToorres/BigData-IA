{
 "cells": [
  {
   "cell_type": "markdown",
   "metadata": {},
   "source": [
    "# Análise de datos con PANDAS"
   ]
  },
  {
   "cell_type": "code",
   "execution_count": 2,
   "metadata": {},
   "outputs": [],
   "source": [
    "import pandas as pd"
   ]
  },
  {
   "cell_type": "markdown",
   "metadata": {},
   "source": [
    "### Apertura do CSV"
   ]
  },
  {
   "cell_type": "code",
   "execution_count": 3,
   "metadata": {},
   "outputs": [
    {
     "data": {
      "text/html": [
       "<div>\n",
       "<style scoped>\n",
       "    .dataframe tbody tr th:only-of-type {\n",
       "        vertical-align: middle;\n",
       "    }\n",
       "\n",
       "    .dataframe tbody tr th {\n",
       "        vertical-align: top;\n",
       "    }\n",
       "\n",
       "    .dataframe thead th {\n",
       "        text-align: right;\n",
       "    }\n",
       "</style>\n",
       "<table border=\"1\" class=\"dataframe\">\n",
       "  <thead>\n",
       "    <tr style=\"text-align: right;\">\n",
       "      <th></th>\n",
       "      <th>Unnamed: 0</th>\n",
       "      <th>dia</th>\n",
       "      <th>pais</th>\n",
       "      <th>contaxios</th>\n",
       "      <th>mortes</th>\n",
       "    </tr>\n",
       "  </thead>\n",
       "  <tbody>\n",
       "    <tr>\n",
       "      <th>0</th>\n",
       "      <td>0</td>\n",
       "      <td>2021-01-01</td>\n",
       "      <td>Spain</td>\n",
       "      <td>18047</td>\n",
       "      <td>148</td>\n",
       "    </tr>\n",
       "    <tr>\n",
       "      <th>1</th>\n",
       "      <td>1</td>\n",
       "      <td>2021-01-02</td>\n",
       "      <td>Spain</td>\n",
       "      <td>0</td>\n",
       "      <td>0</td>\n",
       "    </tr>\n",
       "    <tr>\n",
       "      <th>2</th>\n",
       "      <td>2</td>\n",
       "      <td>2021-01-03</td>\n",
       "      <td>Spain</td>\n",
       "      <td>0</td>\n",
       "      <td>0</td>\n",
       "    </tr>\n",
       "    <tr>\n",
       "      <th>3</th>\n",
       "      <td>3</td>\n",
       "      <td>2021-01-04</td>\n",
       "      <td>Spain</td>\n",
       "      <td>30579</td>\n",
       "      <td>241</td>\n",
       "    </tr>\n",
       "    <tr>\n",
       "      <th>4</th>\n",
       "      <td>4</td>\n",
       "      <td>2021-01-05</td>\n",
       "      <td>Spain</td>\n",
       "      <td>23700</td>\n",
       "      <td>352</td>\n",
       "    </tr>\n",
       "    <tr>\n",
       "      <th>...</th>\n",
       "      <td>...</td>\n",
       "      <td>...</td>\n",
       "      <td>...</td>\n",
       "      <td>...</td>\n",
       "      <td>...</td>\n",
       "    </tr>\n",
       "    <tr>\n",
       "      <th>1090</th>\n",
       "      <td>1090</td>\n",
       "      <td>2021-12-27</td>\n",
       "      <td>France</td>\n",
       "      <td>29614</td>\n",
       "      <td>245</td>\n",
       "    </tr>\n",
       "    <tr>\n",
       "      <th>1091</th>\n",
       "      <td>1091</td>\n",
       "      <td>2021-12-28</td>\n",
       "      <td>France</td>\n",
       "      <td>179316</td>\n",
       "      <td>294</td>\n",
       "    </tr>\n",
       "    <tr>\n",
       "      <th>1092</th>\n",
       "      <td>1092</td>\n",
       "      <td>2021-12-29</td>\n",
       "      <td>France</td>\n",
       "      <td>202293</td>\n",
       "      <td>173</td>\n",
       "    </tr>\n",
       "    <tr>\n",
       "      <th>1093</th>\n",
       "      <td>1093</td>\n",
       "      <td>2021-12-30</td>\n",
       "      <td>France</td>\n",
       "      <td>206243</td>\n",
       "      <td>180</td>\n",
       "    </tr>\n",
       "    <tr>\n",
       "      <th>1094</th>\n",
       "      <td>1094</td>\n",
       "      <td>2021-12-31</td>\n",
       "      <td>France</td>\n",
       "      <td>232200</td>\n",
       "      <td>189</td>\n",
       "    </tr>\n",
       "  </tbody>\n",
       "</table>\n",
       "<p>1095 rows × 5 columns</p>\n",
       "</div>"
      ],
      "text/plain": [
       "      Unnamed: 0         dia    pais  contaxios  mortes\n",
       "0              0  2021-01-01   Spain      18047     148\n",
       "1              1  2021-01-02   Spain          0       0\n",
       "2              2  2021-01-03   Spain          0       0\n",
       "3              3  2021-01-04   Spain      30579     241\n",
       "4              4  2021-01-05   Spain      23700     352\n",
       "...          ...         ...     ...        ...     ...\n",
       "1090        1090  2021-12-27  France      29614     245\n",
       "1091        1091  2021-12-28  France     179316     294\n",
       "1092        1092  2021-12-29  France     202293     173\n",
       "1093        1093  2021-12-30  France     206243     180\n",
       "1094        1094  2021-12-31  France     232200     189\n",
       "\n",
       "[1095 rows x 5 columns]"
      ]
     },
     "execution_count": 3,
     "metadata": {},
     "output_type": "execute_result"
    }
   ],
   "source": [
    "\n",
    "df = pd.DataFrame()\n",
    "\n",
    "df = pd.read_csv(\"datos_covid2021_3paises.csv\")\n",
    "\n",
    "df\n",
    "\n",
    "#df.to_csv?\n"
   ]
  },
  {
   "cell_type": "markdown",
   "metadata": {},
   "source": [
    "\n",
    "### Limpia valores nulos e/ou inválidos/vacíos."
   ]
  },
  {
   "cell_type": "code",
   "execution_count": 4,
   "metadata": {},
   "outputs": [
    {
     "data": {
      "text/html": [
       "<div>\n",
       "<style scoped>\n",
       "    .dataframe tbody tr th:only-of-type {\n",
       "        vertical-align: middle;\n",
       "    }\n",
       "\n",
       "    .dataframe tbody tr th {\n",
       "        vertical-align: top;\n",
       "    }\n",
       "\n",
       "    .dataframe thead th {\n",
       "        text-align: right;\n",
       "    }\n",
       "</style>\n",
       "<table border=\"1\" class=\"dataframe\">\n",
       "  <thead>\n",
       "    <tr style=\"text-align: right;\">\n",
       "      <th></th>\n",
       "      <th>Unnamed: 0</th>\n",
       "      <th>contaxios</th>\n",
       "      <th>mortes</th>\n",
       "    </tr>\n",
       "  </thead>\n",
       "  <tbody>\n",
       "    <tr>\n",
       "      <th>count</th>\n",
       "      <td>1095.000000</td>\n",
       "      <td>1095.000000</td>\n",
       "      <td>1095.000000</td>\n",
       "    </tr>\n",
       "    <tr>\n",
       "      <th>mean</th>\n",
       "      <td>547.000000</td>\n",
       "      <td>12094.346119</td>\n",
       "      <td>98.001826</td>\n",
       "    </tr>\n",
       "    <tr>\n",
       "      <th>std</th>\n",
       "      <td>316.243577</td>\n",
       "      <td>22131.971090</td>\n",
       "      <td>156.600004</td>\n",
       "    </tr>\n",
       "    <tr>\n",
       "      <th>min</th>\n",
       "      <td>0.000000</td>\n",
       "      <td>0.000000</td>\n",
       "      <td>0.000000</td>\n",
       "    </tr>\n",
       "    <tr>\n",
       "      <th>25%</th>\n",
       "      <td>273.500000</td>\n",
       "      <td>740.000000</td>\n",
       "      <td>6.000000</td>\n",
       "    </tr>\n",
       "    <tr>\n",
       "      <th>50%</th>\n",
       "      <td>547.000000</td>\n",
       "      <td>4197.000000</td>\n",
       "      <td>29.000000</td>\n",
       "    </tr>\n",
       "    <tr>\n",
       "      <th>75%</th>\n",
       "      <td>820.500000</td>\n",
       "      <td>14774.500000</td>\n",
       "      <td>126.500000</td>\n",
       "    </tr>\n",
       "    <tr>\n",
       "      <th>max</th>\n",
       "      <td>1094.000000</td>\n",
       "      <td>232200.000000</td>\n",
       "      <td>1163.000000</td>\n",
       "    </tr>\n",
       "  </tbody>\n",
       "</table>\n",
       "</div>"
      ],
      "text/plain": [
       "        Unnamed: 0      contaxios       mortes\n",
       "count  1095.000000    1095.000000  1095.000000\n",
       "mean    547.000000   12094.346119    98.001826\n",
       "std     316.243577   22131.971090   156.600004\n",
       "min       0.000000       0.000000     0.000000\n",
       "25%     273.500000     740.000000     6.000000\n",
       "50%     547.000000    4197.000000    29.000000\n",
       "75%     820.500000   14774.500000   126.500000\n",
       "max    1094.000000  232200.000000  1163.000000"
      ]
     },
     "execution_count": 4,
     "metadata": {},
     "output_type": "execute_result"
    }
   ],
   "source": [
    "df = df.dropna()\n",
    "df.describe()"
   ]
  },
  {
   "attachments": {},
   "cell_type": "markdown",
   "metadata": {},
   "source": [
    "### 1. Calcula a media de novos casos ao día"
   ]
  },
  {
   "cell_type": "code",
   "execution_count": 5,
   "metadata": {},
   "outputs": [
    {
     "data": {
      "text/plain": [
       "12094.346118721462"
      ]
     },
     "execution_count": 5,
     "metadata": {},
     "output_type": "execute_result"
    }
   ],
   "source": [
    "media = df[\"contaxios\"].mean()\n",
    "media"
   ]
  },
  {
   "attachments": {},
   "cell_type": "markdown",
   "metadata": {},
   "source": [
    "### 2. Calcula a media de mortes ao día"
   ]
  },
  {
   "cell_type": "code",
   "execution_count": 6,
   "metadata": {},
   "outputs": [
    {
     "data": {
      "text/plain": [
       "98.00182648401827"
      ]
     },
     "execution_count": 6,
     "metadata": {},
     "output_type": "execute_result"
    }
   ],
   "source": [
    "muertes = df[\"mortes\"].mean()\n",
    "muertes"
   ]
  },
  {
   "attachments": {},
   "cell_type": "markdown",
   "metadata": {},
   "source": [
    "### 3. Calcula o número máximo de casos"
   ]
  },
  {
   "cell_type": "code",
   "execution_count": 7,
   "metadata": {},
   "outputs": [
    {
     "data": {
      "text/plain": [
       "232200"
      ]
     },
     "execution_count": 7,
     "metadata": {},
     "output_type": "execute_result"
    }
   ],
   "source": [
    "maximo = df[\"contaxios\"].max()\n",
    "maximo"
   ]
  },
  {
   "attachments": {},
   "cell_type": "markdown",
   "metadata": {},
   "source": [
    "### 4. Calcula o número medio de casos separado por grupos"
   ]
  },
  {
   "cell_type": "code",
   "execution_count": 8,
   "metadata": {},
   "outputs": [
    {
     "data": {
      "text/plain": [
       "pais\n",
       "France      7533137\n",
       "Portugal     973378\n",
       "Spain       4736794\n",
       "Name: contaxios, dtype: int64"
      ]
     },
     "execution_count": 8,
     "metadata": {},
     "output_type": "execute_result"
    }
   ],
   "source": [
    "dfContaxios = df['contaxios'].groupby(df[\"pais\"]).sum()\n",
    "dfContaxios"
   ]
  },
  {
   "attachments": {},
   "cell_type": "markdown",
   "metadata": {},
   "source": [
    "### 5. Existe unha correlación entre número de novos casos e mortes?"
   ]
  },
  {
   "cell_type": "code",
   "execution_count": 10,
   "metadata": {},
   "outputs": [
    {
     "data": {
      "text/html": [
       "<div>\n",
       "<style scoped>\n",
       "    .dataframe tbody tr th:only-of-type {\n",
       "        vertical-align: middle;\n",
       "    }\n",
       "\n",
       "    .dataframe tbody tr th {\n",
       "        vertical-align: top;\n",
       "    }\n",
       "\n",
       "    .dataframe thead th {\n",
       "        text-align: right;\n",
       "    }\n",
       "</style>\n",
       "<table border=\"1\" class=\"dataframe\">\n",
       "  <thead>\n",
       "    <tr style=\"text-align: right;\">\n",
       "      <th></th>\n",
       "      <th>contaxios</th>\n",
       "      <th>mortes</th>\n",
       "    </tr>\n",
       "  </thead>\n",
       "  <tbody>\n",
       "    <tr>\n",
       "      <th>contaxios</th>\n",
       "      <td>1.000000</td>\n",
       "      <td>0.385233</td>\n",
       "    </tr>\n",
       "    <tr>\n",
       "      <th>mortes</th>\n",
       "      <td>0.385233</td>\n",
       "      <td>1.000000</td>\n",
       "    </tr>\n",
       "  </tbody>\n",
       "</table>\n",
       "</div>"
      ],
      "text/plain": [
       "           contaxios    mortes\n",
       "contaxios   1.000000  0.385233\n",
       "mortes      0.385233  1.000000"
      ]
     },
     "execution_count": 10,
     "metadata": {},
     "output_type": "execute_result"
    }
   ],
   "source": [
    "df[['contaxios','mortes']].corr()"
   ]
  },
  {
   "attachments": {},
   "cell_type": "markdown",
   "metadata": {},
   "source": [
    "### 6. No caso de que exista unha relación, en que país é maior?"
   ]
  },
  {
   "cell_type": "code",
   "execution_count": 14,
   "metadata": {},
   "outputs": [
    {
     "data": {
      "text/html": [
       "<div>\n",
       "<style scoped>\n",
       "    .dataframe tbody tr th:only-of-type {\n",
       "        vertical-align: middle;\n",
       "    }\n",
       "\n",
       "    .dataframe tbody tr th {\n",
       "        vertical-align: top;\n",
       "    }\n",
       "\n",
       "    .dataframe thead th {\n",
       "        text-align: right;\n",
       "    }\n",
       "</style>\n",
       "<table border=\"1\" class=\"dataframe\">\n",
       "  <thead>\n",
       "    <tr style=\"text-align: right;\">\n",
       "      <th></th>\n",
       "      <th></th>\n",
       "      <th>contaxios</th>\n",
       "      <th>mortes</th>\n",
       "    </tr>\n",
       "    <tr>\n",
       "      <th>pais</th>\n",
       "      <th></th>\n",
       "      <th></th>\n",
       "      <th></th>\n",
       "    </tr>\n",
       "  </thead>\n",
       "  <tbody>\n",
       "    <tr>\n",
       "      <th rowspan=\"2\" valign=\"top\">France</th>\n",
       "      <th>contaxios</th>\n",
       "      <td>1.000000</td>\n",
       "      <td>0.298286</td>\n",
       "    </tr>\n",
       "    <tr>\n",
       "      <th>mortes</th>\n",
       "      <td>0.298286</td>\n",
       "      <td>1.000000</td>\n",
       "    </tr>\n",
       "    <tr>\n",
       "      <th rowspan=\"2\" valign=\"top\">Portugal</th>\n",
       "      <th>contaxios</th>\n",
       "      <td>1.000000</td>\n",
       "      <td>0.563438</td>\n",
       "    </tr>\n",
       "    <tr>\n",
       "      <th>mortes</th>\n",
       "      <td>0.563438</td>\n",
       "      <td>1.000000</td>\n",
       "    </tr>\n",
       "    <tr>\n",
       "      <th rowspan=\"2\" valign=\"top\">Spain</th>\n",
       "      <th>contaxios</th>\n",
       "      <td>1.000000</td>\n",
       "      <td>0.323957</td>\n",
       "    </tr>\n",
       "    <tr>\n",
       "      <th>mortes</th>\n",
       "      <td>0.323957</td>\n",
       "      <td>1.000000</td>\n",
       "    </tr>\n",
       "  </tbody>\n",
       "</table>\n",
       "</div>"
      ],
      "text/plain": [
       "                    contaxios    mortes\n",
       "pais                                   \n",
       "France   contaxios   1.000000  0.298286\n",
       "         mortes      0.298286  1.000000\n",
       "Portugal contaxios   1.000000  0.563438\n",
       "         mortes      0.563438  1.000000\n",
       "Spain    contaxios   1.000000  0.323957\n",
       "         mortes      0.323957  1.000000"
      ]
     },
     "execution_count": 14,
     "metadata": {},
     "output_type": "execute_result"
    }
   ],
   "source": [
    "df.groupby('pais')[['contaxios','mortes']].corr()"
   ]
  },
  {
   "attachments": {},
   "cell_type": "markdown",
   "metadata": {},
   "source": [
    "### 7. Cal é a mediana de casos confirmados en Portugal?"
   ]
  },
  {
   "cell_type": "code",
   "execution_count": null,
   "metadata": {},
   "outputs": [
    {
     "data": {
      "text/plain": [
       "2666.7890410958903"
      ]
     },
     "execution_count": 20,
     "metadata": {},
     "output_type": "execute_result"
    }
   ],
   "source": [
    "dfPortugal = df.loc[df['pais'] == 'Portugal'].copy()\n",
    "medianaPort = dfPortugal['contaxios'].mean()\n",
    "medianaPort"
   ]
  },
  {
   "attachments": {},
   "cell_type": "markdown",
   "metadata": {},
   "source": [
    "### 8. Cales son os valores dos percentís Q1 e Q3 de Francia para o número de contaxios"
   ]
  },
  {
   "cell_type": "code",
   "execution_count": null,
   "metadata": {},
   "outputs": [
    {
     "name": "stdout",
     "output_type": "stream",
     "text": [
      "Quantil 1: 592.0\n",
      "Quantil 2: 2898.0\n"
     ]
    }
   ],
   "source": [
    "dfFrance = df.loc[df['pais'] == 'Portugal'].copy()\n",
    "print('Quantil 1:',dfFrance['contaxios'].quantile(0.25))\n",
    "print('Quantil 2:',dfFrance['contaxios'].quantile(0.75))"
   ]
  },
  {
   "cell_type": "markdown",
   "metadata": {},
   "source": [
    "### 9. Cantos valores diferentes hai para o número de contaxios nun día en cada un dos países"
   ]
  },
  {
   "cell_type": "code",
   "execution_count": 42,
   "metadata": {},
   "outputs": [
    {
     "data": {
      "text/html": [
       "<div>\n",
       "<style scoped>\n",
       "    .dataframe tbody tr th:only-of-type {\n",
       "        vertical-align: middle;\n",
       "    }\n",
       "\n",
       "    .dataframe tbody tr th {\n",
       "        vertical-align: top;\n",
       "    }\n",
       "\n",
       "    .dataframe thead th {\n",
       "        text-align: right;\n",
       "    }\n",
       "</style>\n",
       "<table border=\"1\" class=\"dataframe\">\n",
       "  <thead>\n",
       "    <tr style=\"text-align: right;\">\n",
       "      <th></th>\n",
       "      <th></th>\n",
       "      <th>contaxios</th>\n",
       "    </tr>\n",
       "    <tr>\n",
       "      <th>pais</th>\n",
       "      <th>dia</th>\n",
       "      <th></th>\n",
       "    </tr>\n",
       "  </thead>\n",
       "  <tbody>\n",
       "    <tr>\n",
       "      <th rowspan=\"5\" valign=\"top\">France</th>\n",
       "      <th>2021-01-01</th>\n",
       "      <td>1</td>\n",
       "    </tr>\n",
       "    <tr>\n",
       "      <th>2021-01-02</th>\n",
       "      <td>1</td>\n",
       "    </tr>\n",
       "    <tr>\n",
       "      <th>2021-01-03</th>\n",
       "      <td>1</td>\n",
       "    </tr>\n",
       "    <tr>\n",
       "      <th>2021-01-04</th>\n",
       "      <td>1</td>\n",
       "    </tr>\n",
       "    <tr>\n",
       "      <th>2021-01-05</th>\n",
       "      <td>1</td>\n",
       "    </tr>\n",
       "    <tr>\n",
       "      <th>...</th>\n",
       "      <th>...</th>\n",
       "      <td>...</td>\n",
       "    </tr>\n",
       "    <tr>\n",
       "      <th rowspan=\"5\" valign=\"top\">Spain</th>\n",
       "      <th>2021-12-27</th>\n",
       "      <td>1</td>\n",
       "    </tr>\n",
       "    <tr>\n",
       "      <th>2021-12-28</th>\n",
       "      <td>1</td>\n",
       "    </tr>\n",
       "    <tr>\n",
       "      <th>2021-12-29</th>\n",
       "      <td>1</td>\n",
       "    </tr>\n",
       "    <tr>\n",
       "      <th>2021-12-30</th>\n",
       "      <td>1</td>\n",
       "    </tr>\n",
       "    <tr>\n",
       "      <th>2021-12-31</th>\n",
       "      <td>1</td>\n",
       "    </tr>\n",
       "  </tbody>\n",
       "</table>\n",
       "<p>1095 rows × 1 columns</p>\n",
       "</div>"
      ],
      "text/plain": [
       "                   contaxios\n",
       "pais   dia                  \n",
       "France 2021-01-01          1\n",
       "       2021-01-02          1\n",
       "       2021-01-03          1\n",
       "       2021-01-04          1\n",
       "       2021-01-05          1\n",
       "...                      ...\n",
       "Spain  2021-12-27          1\n",
       "       2021-12-28          1\n",
       "       2021-12-29          1\n",
       "       2021-12-30          1\n",
       "       2021-12-31          1\n",
       "\n",
       "[1095 rows x 1 columns]"
      ]
     },
     "execution_count": 42,
     "metadata": {},
     "output_type": "execute_result"
    }
   ],
   "source": [
    "df.groupby(['pais','dia'])[['contaxios']].count()"
   ]
  },
  {
   "cell_type": "markdown",
   "metadata": {},
   "source": [
    "### 10. Valor mínimo e máximo de contaxios por día para cada país"
   ]
  },
  {
   "cell_type": "code",
   "execution_count": 41,
   "metadata": {},
   "outputs": [
    {
     "data": {
      "text/plain": [
       "pais    dia       \n",
       "France  2021-01-01     19143\n",
       "        2021-01-02      3359\n",
       "        2021-01-03     12489\n",
       "        2021-01-04      4022\n",
       "        2021-01-05     20280\n",
       "                       ...  \n",
       "Spain   2021-12-27    214619\n",
       "        2021-12-28     99671\n",
       "        2021-12-29    100760\n",
       "        2021-12-30    161688\n",
       "        2021-12-31    161688\n",
       "Name: contaxios, Length: 1095, dtype: int64"
      ]
     },
     "execution_count": 41,
     "metadata": {},
     "output_type": "execute_result"
    }
   ],
   "source": [
    "df.groupby(['pais','dia'])['contaxios'].max()"
   ]
  },
  {
   "cell_type": "code",
   "execution_count": 40,
   "metadata": {},
   "outputs": [
    {
     "data": {
      "text/plain": [
       "pais    dia       \n",
       "France  2021-01-01     19143\n",
       "        2021-01-02      3359\n",
       "        2021-01-03     12489\n",
       "        2021-01-04      4022\n",
       "        2021-01-05     20280\n",
       "                       ...  \n",
       "Spain   2021-12-27    214619\n",
       "        2021-12-28     99671\n",
       "        2021-12-29    100760\n",
       "        2021-12-30    161688\n",
       "        2021-12-31    161688\n",
       "Name: contaxios, Length: 1095, dtype: int64"
      ]
     },
     "execution_count": 40,
     "metadata": {},
     "output_type": "execute_result"
    }
   ],
   "source": [
    "df.groupby(['pais','dia'])['contaxios'].min()"
   ]
  }
 ],
 "metadata": {
  "kernelspec": {
   "display_name": "bigdata",
   "language": "python",
   "name": "python3"
  },
  "language_info": {
   "codemirror_mode": {
    "name": "ipython",
    "version": 3
   },
   "file_extension": ".py",
   "mimetype": "text/x-python",
   "name": "python",
   "nbconvert_exporter": "python",
   "pygments_lexer": "ipython3",
   "version": "3.8.18"
  },
  "orig_nbformat": 4
 },
 "nbformat": 4,
 "nbformat_minor": 2
}
