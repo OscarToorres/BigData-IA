{
 "cells": [
  {
   "cell_type": "code",
   "execution_count": 1,
   "metadata": {},
   "outputs": [],
   "source": [
    "import numpy as np\n",
    "import matplotlib.pyplot as plt\n",
    "import random"
   ]
  },
  {
   "cell_type": "code",
   "execution_count": 2,
   "metadata": {},
   "outputs": [],
   "source": [
    "def sigmoide(z):\n",
    "    return 1 / (1+np.exp(-z))\n",
    "\n",
    "def sigmoide_derivada_respecto_z(z):\n",
    "    return sigmoide(z)*(1-sigmoide(z)) "
   ]
  },
  {
   "cell_type": "code",
   "execution_count": 3,
   "metadata": {},
   "outputs": [
    {
     "data": {
      "text/plain": [
       "[<matplotlib.lines.Line2D at 0x18203956340>]"
      ]
     },
     "execution_count": 3,
     "metadata": {},
     "output_type": "execute_result"
    },
    {
     "data": {
      "image/png": "[encoded data removed]",
      "text/plain": [
       "<Figure size 640x480 with 1 Axes>"
      ]
     },
     "metadata": {},
     "output_type": "display_data"
    }
   ],
   "source": [
    "xs = np.linspace(-10, 10, 200)\n",
    "ys = sigmoide(xs)\n",
    "plt.plot(xs, ys)"
   ]
  },
  {
   "cell_type": "code",
   "execution_count": 4,
   "metadata": {},
   "outputs": [
    {
     "name": "stdout",
     "output_type": "stream",
     "text": [
      "[[0 0 0]\n",
      " [0 1 0]\n",
      " [1 0 0]\n",
      " [1 1 1]]\n",
      "[[0 0]\n",
      " [0 1]\n",
      " [1 0]\n",
      " [1 1]]\n",
      "[[0]\n",
      " [0]\n",
      " [0]\n",
      " [1]]\n"
     ]
    }
   ],
   "source": [
    "# dataset or\n",
    "#dt = [[0,0,0], [0,1,1], [1,0,1], [1,1,1]]\n",
    "# dataset and\n",
    "dt = [[0, 0, 0],[0, 1, 0],[1, 0, 0],[1, 1, 1]]\n",
    "# dataset xor\n",
    "#dt = [[0,0,0], [0,1,1], [1,0,1], [1,1,0]]\n",
    "\n",
    "dt = np.array(dt)\n",
    "print(dt)\n",
    "x = dt[:,[0,1]]\n",
    "y = dt[:,[2]]\n",
    "print(x)\n",
    "print(y)\n",
    "\n",
    "global w1,w2,b\n",
    "w1 = 2\n",
    "w2 = 3\n",
    "b = 4\n"
   ]
  },
  {
   "cell_type": "code",
   "execution_count": 5,
   "metadata": {},
   "outputs": [],
   "source": [
    "w1=2; w2=3; b=4\n",
    "#w = [[w1], [w2]]"
   ]
  },
  {
   "cell_type": "code",
   "execution_count": 6,
   "metadata": {},
   "outputs": [
    {
     "data": {
      "text/plain": [
       "array([[1, 2, 1],\n",
       "       [3, 4, 1],\n",
       "       [5, 6, 1]])"
      ]
     },
     "execution_count": 6,
     "metadata": {},
     "output_type": "execute_result"
    }
   ],
   "source": [
    "a = np.array([\n",
    "     [1 ,2],\n",
    "     [3, 4],\n",
    "     [5, 6]\n",
    "    ])\n",
    "b = np.array([[1],[1],[1]])\n",
    "a = np.append(a,b,1)\n",
    "a"
   ]
  },
  {
   "cell_type": "code",
   "execution_count": 7,
   "metadata": {},
   "outputs": [],
   "source": [
    "def salida_sumatorio_v1(x):\n",
    "  x1 = x[:, [0]]\n",
    "  x2 = x[:, [1]]\n",
    "  t1 = x1 * w1\n",
    "  t2 = x2 * w2\n",
    "  ret = t1 + t2 + b\n",
    "  return ret\n",
    "\n",
    "def salida_sumatorio(x):\n",
    "  array_unos = np.ones((len(x),1))\n",
    "  x_nueva = np.append(x,array_unos,1)\n",
    "  # x_nueva = np.hstack((x, array_unos))\n",
    "\n",
    "  ret = np.dot(x_nueva,w) # x @ w\n",
    "  return ret\n",
    "\n",
    "def salida_activacion(x):\n",
    "  s = salida_sumatorio(x)\n",
    "  s2 = sigmoide(s)\n",
    "  return s2\n",
    "\n",
    "def error(x, y):\n",
    "  y_hat = salida_activacion(x)\n",
    "  err = y_hat - y\n",
    "  return err\n",
    "\n",
    "def coste(x, y):\n",
    "  err = error(x, y)\n",
    "  c = err**2\n",
    "  c = c /2\n",
    "  c = c.mean()\n",
    "  return c\n",
    "\n",
    "def derivada_coste_respecto_y_hat(x, y):\n",
    "  z = error(x, y)\n",
    "  return z\n",
    "\n",
    "def derivada_y_hat_respecto_salida_sumatorio(x):\n",
    "  z = salida_sumatorio(x)\n",
    "  d = sigmoide_derivada_respecto_z(z)\n",
    "  return d\n",
    "\n",
    "def derivada_sumatorio_respecto_w1(x):\n",
    "  return x[:, [0]]\n",
    "\n",
    "def derivada_sumatorio_respecto_w2(x):\n",
    "  return x[:, [1]]\n",
    "\n",
    "def derivada_sumatorio_respecto_bias():\n",
    "  return 1\n",
    "\n",
    "def derivada_sumatorio_respecto_w(x):\n",
    "  array_unos = np.ones((len(x),1))\n",
    "  x_nueva = np.append(x,array_unos,1)\n",
    "  return x_nueva\n",
    "\n",
    "def predice(x):\n",
    "  y_hat = salida_activacion(x)\n",
    "  return y_hat"
   ]
  },
  {
   "cell_type": "code",
   "execution_count": 8,
   "metadata": {},
   "outputs": [],
   "source": [
    "def fit(x,y,epochs=100,lr=0.01):\n",
    "    lloss = []\n",
    "    # global w1,w2,b\n",
    "    global w\n",
    "    for epoch in range(epochs):\n",
    "        dc = derivada_coste_respecto_y_hat(x, y)\n",
    "        dy = derivada_y_hat_respecto_salida_sumatorio(x)\n",
    "        # dw1 = derivada_sumatorio_respecto_w1(x)\n",
    "        # dw2 = derivada_sumatorio_respecto_w2(x)\n",
    "        # db = derivada_sumatorio_respecto_bias()\n",
    "        dw = derivada_sumatorio_respecto_w(x)\n",
    "\n",
    "\n",
    "        # w1 = w1 - (lr*dc*dw1).mean()\n",
    "        # w2 = w2 - (lr*dc*dw2).mean()\n",
    "        # b = b - (lr*dc*dy*db).mean()\n",
    "\n",
    "        d1 = dy * dc\n",
    "        d2 = d1 * dw\n",
    "        #Alternativamente: dmedia = d2.mean(axis=0); dmedia = np.reshape(d)\n",
    "        dt = d2.T\n",
    "        dmedia = dt.mean(axis=1,keepdims=True)\n",
    "        w = w - lr*dmedia\n",
    "\n",
    "        loss = coste(x,y)\n",
    "        # print(f\"loss: {loss} w1: {w1} w2: {w2} b: {b}\")\n",
    "        # print(f\"loss: {loss} w1: {w}\")\n",
    "        lloss.append(loss)\n",
    "    return lloss"
   ]
  },
  {
   "cell_type": "code",
   "execution_count": 9,
   "metadata": {},
   "outputs": [
    {
     "ename": "NameError",
     "evalue": "name 'w' is not defined",
     "output_type": "error",
     "traceback": [
      "\u001b[1;31m---------------------------------------------------------------------------\u001b[0m",
      "\u001b[1;31mNameError\u001b[0m                                 Traceback (most recent call last)",
      "Cell \u001b[1;32mIn[9], line 1\u001b[0m\n\u001b[1;32m----> 1\u001b[0m s \u001b[38;5;241m=\u001b[39m \u001b[43msalida_activacion\u001b[49m\u001b[43m(\u001b[49m\u001b[43mx\u001b[49m\u001b[43m)\u001b[49m\n\u001b[0;32m      2\u001b[0m \u001b[38;5;28mprint\u001b[39m(s)\n\u001b[0;32m      3\u001b[0m er \u001b[38;5;241m=\u001b[39m error(x,y)\n",
      "Cell \u001b[1;32mIn[7], line 18\u001b[0m, in \u001b[0;36msalida_activacion\u001b[1;34m(x)\u001b[0m\n\u001b[0;32m     17\u001b[0m \u001b[38;5;28;01mdef\u001b[39;00m \u001b[38;5;21msalida_activacion\u001b[39m(x):\n\u001b[1;32m---> 18\u001b[0m   s \u001b[38;5;241m=\u001b[39m \u001b[43msalida_sumatorio\u001b[49m\u001b[43m(\u001b[49m\u001b[43mx\u001b[49m\u001b[43m)\u001b[49m\n\u001b[0;32m     19\u001b[0m   s2 \u001b[38;5;241m=\u001b[39m sigmoide(s)\n\u001b[0;32m     20\u001b[0m   \u001b[38;5;28;01mreturn\u001b[39;00m s2\n",
      "Cell \u001b[1;32mIn[7], line 14\u001b[0m, in \u001b[0;36msalida_sumatorio\u001b[1;34m(x)\u001b[0m\n\u001b[0;32m     11\u001b[0m x_nueva \u001b[38;5;241m=\u001b[39m np\u001b[38;5;241m.\u001b[39mappend(x,array_unos,\u001b[38;5;241m1\u001b[39m)\n\u001b[0;32m     12\u001b[0m \u001b[38;5;66;03m# x_nueva = np.hstack((x, array_unos))\u001b[39;00m\n\u001b[1;32m---> 14\u001b[0m ret \u001b[38;5;241m=\u001b[39m np\u001b[38;5;241m.\u001b[39mdot(x_nueva,\u001b[43mw\u001b[49m) \u001b[38;5;66;03m# x @ w\u001b[39;00m\n\u001b[0;32m     15\u001b[0m \u001b[38;5;28;01mreturn\u001b[39;00m ret\n",
      "\u001b[1;31mNameError\u001b[0m: name 'w' is not defined"
     ]
    }
   ],
   "source": [
    "s = salida_activacion(x)\n",
    "print(s)\n",
    "er = error(x,y)\n",
    "print(er)\n",
    "c = coste(x,y)\n",
    "print(c)\n",
    "dc = derivada_coste_respecto_y_hat(x,y)\n",
    "print(dc)"
   ]
  },
  {
   "cell_type": "code",
   "execution_count": 13,
   "metadata": {},
   "outputs": [
    {
     "name": "stdout",
     "output_type": "stream",
     "text": [
      "loss: 0.003949244921191334 w1: 2 w2: 3 b: [[1]\n",
      " [1]\n",
      " [1]]\n",
      "loss: 0.003949244921191334 w: [[ 4.2856932 ]\n",
      " [ 4.2856932 ]\n",
      " [-6.52872009]]\n",
      "[[0.00145874]\n",
      " [0.09595265]\n",
      " [0.09595265]\n",
      " [0.88520449]]\n"
     ]
    },
    {
     "data": {
      "text/plain": [
       "[<matplotlib.lines.Line2D at 0x18204ee50d0>]"
      ]
     },
     "execution_count": 13,
     "metadata": {},
     "output_type": "execute_result"
    },
    {
     "data": {
      "image/png": "[encoded data removed]",
      "text/plain": [
       "<Figure size 640x480 with 1 Axes>"
      ]
     },
     "metadata": {},
     "output_type": "display_data"
    }
   ],
   "source": [
    "# w1 = 0;w2 = 0;b = 0\n",
    "w = np.array([[0],[0],[0]])\n",
    "\n",
    "nepochs = 3000\n",
    "\n",
    "lloss = fit(x, y, epochs = nepochs, lr=0.5)\n",
    "print(f\"loss: {lloss[-1]} w1: {w1} w2: {w2} b: {b}\")\n",
    "print(f\"loss: {lloss[-1]} w: {w}\")\n",
    "ret = predice(x)\n",
    "print(ret)\n",
    "plt.plot([i for i in range(len(lloss))], lloss)"
   ]
  },
  {
   "cell_type": "code",
   "execution_count": null,
   "metadata": {},
   "outputs": [],
   "source": []
  }
 ],
 "metadata": {
  "kernelspec": {
   "display_name": "ia",
   "language": "python",
   "name": "python3"
  },
  "language_info": {
   "codemirror_mode": {
    "name": "ipython",
    "version": 3
   },
   "file_extension": ".py",
   "mimetype": "text/x-python",
   "name": "python",
   "nbconvert_exporter": "python",
   "pygments_lexer": "ipython3",
   "version": "3.8.18"
  }
 },
 "nbformat": 4,
 "nbformat_minor": 2
}
